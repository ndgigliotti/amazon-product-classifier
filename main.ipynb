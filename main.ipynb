{
 "cells": [
  {
   "cell_type": "code",
   "execution_count": 49,
   "metadata": {
    "ExecuteTime": {
     "end_time": "2021-09-18T20:46:35.071251Z",
     "start_time": "2021-09-18T20:46:34.917249Z"
    },
    "scrolled": true
   },
   "outputs": [
    {
     "name": "stdout",
     "output_type": "stream",
     "text": [
      "The nb_black extension is already loaded. To reload it, use:\n",
      "  %reload_ext nb_black\n"
     ]
    },
    {
     "data": {
      "application/javascript": [
       "\n",
       "            setTimeout(function() {\n",
       "                var nbb_cell_id = 49;\n",
       "                var nbb_unformatted_code = \"import gc\\nimport re\\nimport string\\nimport json\\nimport os\\nimport glob\\nimport shutil\\nfrom pprint import pprint\\nfrom functools import partial\\n\\nimport joblib\\nimport matplotlib.pyplot as plt\\nimport nltk\\nimport numpy as np\\nimport scipy as sp\\nimport pandas as pd\\nimport seaborn as sns\\nfrom tqdm.notebook import tqdm\\nfrom sklearn.base import clone\\nfrom sklearn.compose import (\\n    ColumnTransformer,\\n    make_column_selector,\\n    make_column_transformer,\\n)\\nfrom sklearn.linear_model import SGDClassifier\\nfrom sklearn.model_selection import train_test_split\\nfrom sklearn.pipeline import Pipeline\\nfrom sklearn.feature_extraction.text import TfidfVectorizer\\nfrom sklearn.utils.class_weight import compute_sample_weight\\nfrom sklearn.metrics import (\\n    accuracy_score,\\n    balanced_accuracy_score,\\n    classification_report,\\n)\\n\\n\\n# Set Seaborn theme and default palette\\nsns.set_context(\\\"talk\\\")\\nsns.set_theme(font_scale=1.25, style=\\\"whitegrid\\\")\\nsns.set_palette(\\\"deep\\\", desat=0.85, color_codes=True)\\n\\n# Turn on inline plotting\\n%matplotlib inline\\n\\n# Load Black auto-formatter\\n%load_ext nb_black\";\n",
       "                var nbb_formatted_code = \"import gc\\nimport re\\nimport string\\nimport json\\nimport os\\nimport glob\\nimport shutil\\nfrom pprint import pprint\\nfrom functools import partial\\n\\nimport joblib\\nimport matplotlib.pyplot as plt\\nimport nltk\\nimport numpy as np\\nimport scipy as sp\\nimport pandas as pd\\nimport seaborn as sns\\nfrom tqdm.notebook import tqdm\\nfrom sklearn.base import clone\\nfrom sklearn.compose import (\\n    ColumnTransformer,\\n    make_column_selector,\\n    make_column_transformer,\\n)\\nfrom sklearn.linear_model import SGDClassifier\\nfrom sklearn.model_selection import train_test_split\\nfrom sklearn.pipeline import Pipeline\\nfrom sklearn.feature_extraction.text import TfidfVectorizer\\nfrom sklearn.utils.class_weight import compute_sample_weight\\nfrom sklearn.metrics import (\\n    accuracy_score,\\n    balanced_accuracy_score,\\n    classification_report,\\n)\\n\\n\\n# Set Seaborn theme and default palette\\nsns.set_context(\\\"talk\\\")\\nsns.set_theme(font_scale=1.25, style=\\\"whitegrid\\\")\\nsns.set_palette(\\\"deep\\\", desat=0.85, color_codes=True)\\n\\n# Turn on inline plotting\\n%matplotlib inline\\n\\n# Load Black auto-formatter\\n%load_ext nb_black\";\n",
       "                var nbb_cells = Jupyter.notebook.get_cells();\n",
       "                for (var i = 0; i < nbb_cells.length; ++i) {\n",
       "                    if (nbb_cells[i].input_prompt_number == nbb_cell_id) {\n",
       "                        if (nbb_cells[i].get_text() == nbb_unformatted_code) {\n",
       "                             nbb_cells[i].set_text(nbb_formatted_code);\n",
       "                        }\n",
       "                        break;\n",
       "                    }\n",
       "                }\n",
       "            }, 500);\n",
       "            "
      ],
      "text/plain": [
       "<IPython.core.display.Javascript object>"
      ]
     },
     "metadata": {},
     "output_type": "display_data"
    }
   ],
   "source": [
    "import gc\n",
    "import re\n",
    "import string\n",
    "import json\n",
    "import os\n",
    "import glob\n",
    "import shutil\n",
    "from pprint import pprint\n",
    "from functools import partial\n",
    "\n",
    "import joblib\n",
    "import matplotlib.pyplot as plt\n",
    "import nltk\n",
    "import numpy as np\n",
    "import scipy as sp\n",
    "import pandas as pd\n",
    "import seaborn as sns\n",
    "from tqdm.notebook import tqdm\n",
    "from sklearn.base import clone\n",
    "from sklearn.compose import (\n",
    "    ColumnTransformer,\n",
    "    make_column_selector,\n",
    "    make_column_transformer,\n",
    ")\n",
    "from sklearn.linear_model import SGDClassifier\n",
    "from sklearn.model_selection import train_test_split\n",
    "from sklearn.pipeline import Pipeline\n",
    "from sklearn.feature_extraction.text import TfidfVectorizer\n",
    "from sklearn.utils.class_weight import compute_sample_weight\n",
    "from sklearn.metrics import (\n",
    "    accuracy_score,\n",
    "    balanced_accuracy_score,\n",
    "    classification_report,\n",
    ")\n",
    "\n",
    "\n",
    "# Set Seaborn theme and default palette\n",
    "sns.set_context(\"talk\")\n",
    "sns.set_theme(font_scale=1.25, style=\"whitegrid\")\n",
    "sns.set_palette(\"deep\", desat=0.85, color_codes=True)\n",
    "\n",
    "# Turn on inline plotting\n",
    "%matplotlib inline\n",
    "\n",
    "# Load Black auto-formatter\n",
    "%load_ext nb_black"
   ]
  },
  {
   "cell_type": "code",
   "execution_count": 2,
   "metadata": {
    "ExecuteTime": {
     "end_time": "2021-09-18T20:27:50.124141Z",
     "start_time": "2021-09-18T20:27:49.350144Z"
    }
   },
   "outputs": [
    {
     "data": {
      "application/javascript": [
       "\n",
       "            setTimeout(function() {\n",
       "                var nbb_cell_id = 2;\n",
       "                var nbb_unformatted_code = \"# Import my modules\\nfrom tools import cleaning, plotting, language as lang, outliers, utils\\nfrom tools.sklearn import selection\\n\\nRUN_LANGDETECT = False\\n\\n# Run time-consuming grid searches\\nRUN_SWEEPS = frozenset()\\n\\nFIT_MODELS = frozenset()\\n\\n# Set my default MPL settings\\nplt.rcParams.update(plotting.MPL_DEFAULTS)\\n\\n# Enable automatic reloading\\n%load_ext autoreload\\n%autoreload 2\";\n",
       "                var nbb_formatted_code = \"# Import my modules\\nfrom tools import cleaning, plotting, language as lang, outliers, utils\\nfrom tools.sklearn import selection\\n\\nRUN_LANGDETECT = False\\n\\n# Run time-consuming grid searches\\nRUN_SWEEPS = frozenset()\\n\\nFIT_MODELS = frozenset()\\n\\n# Set my default MPL settings\\nplt.rcParams.update(plotting.MPL_DEFAULTS)\\n\\n# Enable automatic reloading\\n%load_ext autoreload\\n%autoreload 2\";\n",
       "                var nbb_cells = Jupyter.notebook.get_cells();\n",
       "                for (var i = 0; i < nbb_cells.length; ++i) {\n",
       "                    if (nbb_cells[i].input_prompt_number == nbb_cell_id) {\n",
       "                        if (nbb_cells[i].get_text() == nbb_unformatted_code) {\n",
       "                             nbb_cells[i].set_text(nbb_formatted_code);\n",
       "                        }\n",
       "                        break;\n",
       "                    }\n",
       "                }\n",
       "            }, 500);\n",
       "            "
      ],
      "text/plain": [
       "<IPython.core.display.Javascript object>"
      ]
     },
     "metadata": {},
     "output_type": "display_data"
    }
   ],
   "source": [
    "# Import my modules\n",
    "from tools import cleaning, plotting, language as lang, outliers, utils\n",
    "from tools.sklearn import selection\n",
    "\n",
    "RUN_LANGDETECT = False\n",
    "\n",
    "# Run time-consuming grid searches\n",
    "RUN_SWEEPS = frozenset()\n",
    "\n",
    "FIT_MODELS = frozenset()\n",
    "\n",
    "# Set my default MPL settings\n",
    "plt.rcParams.update(plotting.MPL_DEFAULTS)\n",
    "\n",
    "# Enable automatic reloading\n",
    "%load_ext autoreload\n",
    "%autoreload 2"
   ]
  },
  {
   "cell_type": "markdown",
   "metadata": {},
   "source": [
    "# Business Problem\n",
    "\n",
    "Amazon has asked me to build a product classifier for two purposes: (1) integrating new products into their classification scheme, and (2) flagging products which are probably misclassified. They requested that I make some recommendations related to product classification and its uses.\n",
    "\n",
    "Accuracy is my highest priority, but I have a taste for interpretability and transparency, so the classifier I develop is sure to yield some insights about the data."
   ]
  },
  {
   "cell_type": "markdown",
   "metadata": {},
   "source": [
    "# Sourcing the Data\n",
    "\n",
    "The Amazon product data I've chosen doesn't come directly from Amazon, but rather from three AI researchers, Jianmo Ni, Jiacheng Li, and Julian McAuley, who gathered it for their paper \"Justifying Recommendations using Distantly-Labeled Reviews and Fine-grained Aspects.\" The review data extends from May 1996 to October 2018, which is about when they released the update. Their focus was primarily on reviews, but the dataset also has metadata for ~15-million products. The researchers don't say how they acquired the data, but judging from the HTML tags and chunks of JavaScript, they probably scraped it.\n",
    "\n",
    "Since the full dataset is ~15M samples and ~13GB, I've created a separate notebook called `big_clean.ipynb` in which I download, reformat, and scrub the data until I'm left with ~4M samples. Despite the long and tortuous journey that is `big_clean.ipynb`, there's still much more to go."
   ]
  },
  {
   "cell_type": "markdown",
   "metadata": {},
   "source": [
    "# Preparing the Data\n",
    "\n",
    "I begin by loading the data and doing a preliminary cleaning check."
   ]
  },
  {
   "cell_type": "code",
   "execution_count": 3,
   "metadata": {
    "ExecuteTime": {
     "end_time": "2021-09-18T20:28:02.467445Z",
     "start_time": "2021-09-18T20:27:50.125143Z"
    }
   },
   "outputs": [
    {
     "data": {
      "text/html": [
       "<div>\n",
       "<style scoped>\n",
       "    .dataframe tbody tr th:only-of-type {\n",
       "        vertical-align: middle;\n",
       "    }\n",
       "\n",
       "    .dataframe tbody tr th {\n",
       "        vertical-align: top;\n",
       "    }\n",
       "\n",
       "    .dataframe thead th {\n",
       "        text-align: right;\n",
       "    }\n",
       "</style>\n",
       "<table border=\"1\" class=\"dataframe\">\n",
       "  <thead>\n",
       "    <tr style=\"text-align: right;\">\n",
       "      <th></th>\n",
       "      <th>text</th>\n",
       "      <th>title</th>\n",
       "      <th>brand</th>\n",
       "      <th>main_cat</th>\n",
       "    </tr>\n",
       "    <tr>\n",
       "      <th>asin</th>\n",
       "      <th></th>\n",
       "      <th></th>\n",
       "      <th></th>\n",
       "      <th></th>\n",
       "    </tr>\n",
       "  </thead>\n",
       "  <tbody>\n",
       "    <tr>\n",
       "      <th>1441072241</th>\n",
       "      <td>come tell me how you lived: native american hi...</td>\n",
       "      <td>come tell me how you lived: native american hi...</td>\n",
       "      <td>enter the arena</td>\n",
       "      <td>all beauty</td>\n",
       "    </tr>\n",
       "    <tr>\n",
       "      <th>6090113980</th>\n",
       "      <td>prayer rug carpet mat gebetsteppich islamic mu...</td>\n",
       "      <td>prayer rug carpet mat gebetsteppich islamic mu...</td>\n",
       "      <td>bonballoon</td>\n",
       "      <td>all beauty</td>\n",
       "    </tr>\n",
       "    <tr>\n",
       "      <th>7250468162</th>\n",
       "      <td>no7 stay perfect foundation cool vanilla by no...</td>\n",
       "      <td>no7 stay perfect foundation cool vanilla by no7</td>\n",
       "      <td>no7</td>\n",
       "      <td>all beauty</td>\n",
       "    </tr>\n",
       "    <tr>\n",
       "      <th>8279996397</th>\n",
       "      <td>imagen bendita por su santidad our lady of cha...</td>\n",
       "      <td>imagen bendita por su santidad our lady of cha...</td>\n",
       "      <td>chango</td>\n",
       "      <td>all beauty</td>\n",
       "    </tr>\n",
       "    <tr>\n",
       "      <th>9197882747</th>\n",
       "      <td>hall of femmes: lella vignelli (hall of femmes...</td>\n",
       "      <td>hall of femmes: lella vignelli (hall of femmes)</td>\n",
       "      <td>oyster press</td>\n",
       "      <td>all beauty</td>\n",
       "    </tr>\n",
       "    <tr>\n",
       "      <th>...</th>\n",
       "      <td>...</td>\n",
       "      <td>...</td>\n",
       "      <td>...</td>\n",
       "      <td>...</td>\n",
       "    </tr>\n",
       "    <tr>\n",
       "      <th>B01HHFHGES</th>\n",
       "      <td>xiaokong women's high low hem sleeveless flora...</td>\n",
       "      <td>xiaokong women's high low hem sleeveless flora...</td>\n",
       "      <td>xiaokong</td>\n",
       "      <td>books</td>\n",
       "    </tr>\n",
       "    <tr>\n",
       "      <th>B01HHX5AF2</th>\n",
       "      <td>duxa women's working my adipose off symbol gra...</td>\n",
       "      <td>duxa women's working my adipose off symbol gra...</td>\n",
       "      <td>duxa</td>\n",
       "      <td>books</td>\n",
       "    </tr>\n",
       "    <tr>\n",
       "      <th>B01HHZYKYW</th>\n",
       "      <td>aliixun2 unisex the 2016 rio de janeiro olympi...</td>\n",
       "      <td>aliixun2 unisex the 2016 rio de janeiro olympi...</td>\n",
       "      <td>aliixun2</td>\n",
       "      <td>books</td>\n",
       "    </tr>\n",
       "    <tr>\n",
       "      <th>B01HIUH2AK</th>\n",
       "      <td>busoni : konzertstuck fur klavier mit orcheste...</td>\n",
       "      <td>busoni : konzertstuck fur klavier mit orchester</td>\n",
       "      <td>ferruccio busoni</td>\n",
       "      <td>books</td>\n",
       "    </tr>\n",
       "    <tr>\n",
       "      <th>B01HIXTMKA</th>\n",
       "      <td>thin red line flag bling baseball cap distress...</td>\n",
       "      <td>thin red line flag bling baseball cap distress...</td>\n",
       "      <td>elivata</td>\n",
       "      <td>books</td>\n",
       "    </tr>\n",
       "  </tbody>\n",
       "</table>\n",
       "<p>3692413 rows × 4 columns</p>\n",
       "</div>"
      ],
      "text/plain": [
       "                                                         text  \\\n",
       "asin                                                            \n",
       "1441072241  come tell me how you lived: native american hi...   \n",
       "6090113980  prayer rug carpet mat gebetsteppich islamic mu...   \n",
       "7250468162  no7 stay perfect foundation cool vanilla by no...   \n",
       "8279996397  imagen bendita por su santidad our lady of cha...   \n",
       "9197882747  hall of femmes: lella vignelli (hall of femmes...   \n",
       "...                                                       ...   \n",
       "B01HHFHGES  xiaokong women's high low hem sleeveless flora...   \n",
       "B01HHX5AF2  duxa women's working my adipose off symbol gra...   \n",
       "B01HHZYKYW  aliixun2 unisex the 2016 rio de janeiro olympi...   \n",
       "B01HIUH2AK  busoni : konzertstuck fur klavier mit orcheste...   \n",
       "B01HIXTMKA  thin red line flag bling baseball cap distress...   \n",
       "\n",
       "                                                        title  \\\n",
       "asin                                                            \n",
       "1441072241  come tell me how you lived: native american hi...   \n",
       "6090113980  prayer rug carpet mat gebetsteppich islamic mu...   \n",
       "7250468162    no7 stay perfect foundation cool vanilla by no7   \n",
       "8279996397  imagen bendita por su santidad our lady of cha...   \n",
       "9197882747    hall of femmes: lella vignelli (hall of femmes)   \n",
       "...                                                       ...   \n",
       "B01HHFHGES  xiaokong women's high low hem sleeveless flora...   \n",
       "B01HHX5AF2  duxa women's working my adipose off symbol gra...   \n",
       "B01HHZYKYW  aliixun2 unisex the 2016 rio de janeiro olympi...   \n",
       "B01HIUH2AK    busoni : konzertstuck fur klavier mit orchester   \n",
       "B01HIXTMKA  thin red line flag bling baseball cap distress...   \n",
       "\n",
       "                       brand    main_cat  \n",
       "asin                                      \n",
       "1441072241   enter the arena  all beauty  \n",
       "6090113980        bonballoon  all beauty  \n",
       "7250468162               no7  all beauty  \n",
       "8279996397            chango  all beauty  \n",
       "9197882747      oyster press  all beauty  \n",
       "...                      ...         ...  \n",
       "B01HHFHGES          xiaokong       books  \n",
       "B01HHX5AF2              duxa       books  \n",
       "B01HHZYKYW          aliixun2       books  \n",
       "B01HIUH2AK  ferruccio busoni       books  \n",
       "B01HIXTMKA           elivata       books  \n",
       "\n",
       "[3692413 rows x 4 columns]"
      ]
     },
     "execution_count": 3,
     "metadata": {},
     "output_type": "execute_result"
    },
    {
     "data": {
      "application/javascript": [
       "\n",
       "            setTimeout(function() {\n",
       "                var nbb_cell_id = 3;\n",
       "                var nbb_unformatted_code = \"df = pd.read_parquet(\\n    \\\"data/amazon_clean\\\",\\n    engine=\\\"pyarrow\\\",\\n    columns=[\\n        \\\"text\\\",\\n        \\\"title\\\",\\n        \\\"brand\\\",\\n        \\\"main_cat\\\",\\n    ],\\n)\\n\\ndf\";\n",
       "                var nbb_formatted_code = \"df = pd.read_parquet(\\n    \\\"data/amazon_clean\\\",\\n    engine=\\\"pyarrow\\\",\\n    columns=[\\n        \\\"text\\\",\\n        \\\"title\\\",\\n        \\\"brand\\\",\\n        \\\"main_cat\\\",\\n    ],\\n)\\n\\ndf\";\n",
       "                var nbb_cells = Jupyter.notebook.get_cells();\n",
       "                for (var i = 0; i < nbb_cells.length; ++i) {\n",
       "                    if (nbb_cells[i].input_prompt_number == nbb_cell_id) {\n",
       "                        if (nbb_cells[i].get_text() == nbb_unformatted_code) {\n",
       "                             nbb_cells[i].set_text(nbb_formatted_code);\n",
       "                        }\n",
       "                        break;\n",
       "                    }\n",
       "                }\n",
       "            }, 500);\n",
       "            "
      ],
      "text/plain": [
       "<IPython.core.display.Javascript object>"
      ]
     },
     "metadata": {},
     "output_type": "display_data"
    }
   ],
   "source": [
    "df = pd.read_parquet(\n",
    "    \"data/amazon_clean\",\n",
    "    engine=\"pyarrow\",\n",
    "    columns=[\n",
    "        \"text\",\n",
    "        \"title\",\n",
    "        \"brand\",\n",
    "        \"main_cat\",\n",
    "    ],\n",
    ")\n",
    "\n",
    "df"
   ]
  },
  {
   "cell_type": "code",
   "execution_count": 4,
   "metadata": {
    "ExecuteTime": {
     "end_time": "2021-09-18T20:28:47.610463Z",
     "start_time": "2021-09-18T20:28:02.468443Z"
    }
   },
   "outputs": [
    {
     "data": {
      "text/html": [
       "<div>\n",
       "<style scoped>\n",
       "    .dataframe tbody tr th:only-of-type {\n",
       "        vertical-align: middle;\n",
       "    }\n",
       "\n",
       "    .dataframe tbody tr th {\n",
       "        vertical-align: top;\n",
       "    }\n",
       "\n",
       "    .dataframe thead th {\n",
       "        text-align: right;\n",
       "    }\n",
       "</style>\n",
       "<table border=\"1\" class=\"dataframe\">\n",
       "  <thead>\n",
       "    <tr style=\"text-align: right;\">\n",
       "      <th></th>\n",
       "      <th>null</th>\n",
       "      <th>null_%</th>\n",
       "      <th>uniq</th>\n",
       "      <th>uniq_%</th>\n",
       "      <th>dup</th>\n",
       "      <th>dup_%</th>\n",
       "    </tr>\n",
       "  </thead>\n",
       "  <tbody>\n",
       "    <tr>\n",
       "      <th>text</th>\n",
       "      <td>0</td>\n",
       "      <td>0.0</td>\n",
       "      <td>3692413</td>\n",
       "      <td>100.00</td>\n",
       "      <td>0</td>\n",
       "      <td>0.0</td>\n",
       "    </tr>\n",
       "    <tr>\n",
       "      <th>title</th>\n",
       "      <td>0</td>\n",
       "      <td>0.0</td>\n",
       "      <td>3672510</td>\n",
       "      <td>99.46</td>\n",
       "      <td>0</td>\n",
       "      <td>0.0</td>\n",
       "    </tr>\n",
       "    <tr>\n",
       "      <th>brand</th>\n",
       "      <td>0</td>\n",
       "      <td>0.0</td>\n",
       "      <td>818291</td>\n",
       "      <td>22.16</td>\n",
       "      <td>0</td>\n",
       "      <td>0.0</td>\n",
       "    </tr>\n",
       "    <tr>\n",
       "      <th>main_cat</th>\n",
       "      <td>0</td>\n",
       "      <td>0.0</td>\n",
       "      <td>36</td>\n",
       "      <td>0.00</td>\n",
       "      <td>0</td>\n",
       "      <td>0.0</td>\n",
       "    </tr>\n",
       "  </tbody>\n",
       "</table>\n",
       "</div>"
      ],
      "text/plain": [
       "          null  null_%     uniq  uniq_%  dup  dup_%\n",
       "text         0     0.0  3692413  100.00    0    0.0\n",
       "title        0     0.0  3672510   99.46    0    0.0\n",
       "brand        0     0.0   818291   22.16    0    0.0\n",
       "main_cat     0     0.0       36    0.00    0    0.0"
      ]
     },
     "execution_count": 4,
     "metadata": {},
     "output_type": "execute_result"
    },
    {
     "data": {
      "application/javascript": [
       "\n",
       "            setTimeout(function() {\n",
       "                var nbb_cell_id = 4;\n",
       "                var nbb_unformatted_code = \"cleaning.info(df)\";\n",
       "                var nbb_formatted_code = \"cleaning.info(df)\";\n",
       "                var nbb_cells = Jupyter.notebook.get_cells();\n",
       "                for (var i = 0; i < nbb_cells.length; ++i) {\n",
       "                    if (nbb_cells[i].input_prompt_number == nbb_cell_id) {\n",
       "                        if (nbb_cells[i].get_text() == nbb_unformatted_code) {\n",
       "                             nbb_cells[i].set_text(nbb_formatted_code);\n",
       "                        }\n",
       "                        break;\n",
       "                    }\n",
       "                }\n",
       "            }, 500);\n",
       "            "
      ],
      "text/plain": [
       "<IPython.core.display.Javascript object>"
      ]
     },
     "metadata": {},
     "output_type": "display_data"
    }
   ],
   "source": [
    "cleaning.info(df)"
   ]
  },
  {
   "cell_type": "markdown",
   "metadata": {},
   "source": [
    "No duplicates or nulls (at least ostensibly). Looks good.\n",
    "\n",
    "Next I plot the main categories to get a sense of the balance."
   ]
  },
  {
   "cell_type": "code",
   "execution_count": 5,
   "metadata": {
    "ExecuteTime": {
     "end_time": "2021-09-18T20:28:48.494459Z",
     "start_time": "2021-09-18T20:28:47.611460Z"
    }
   },
   "outputs": [
    {
     "data": {
      "image/png": "[encoded data removed]",
      "text/plain": [
       "<Figure size 432x720 with 1 Axes>"
      ]
     },
     "metadata": {
      "needs_background": "light"
     },
     "output_type": "display_data"
    },
    {
     "data": {
      "application/javascript": [
       "\n",
       "            setTimeout(function() {\n",
       "                var nbb_cell_id = 5;\n",
       "                var nbb_unformatted_code = \"ax = plotting.plots.countplot(df.loc[:, \\\"main_cat\\\"], size=(6, 10), log_scale=True)\\nax.xaxis.set_major_formatter(plotting.big_number_formatter())\";\n",
       "                var nbb_formatted_code = \"ax = plotting.plots.countplot(df.loc[:, \\\"main_cat\\\"], size=(6, 10), log_scale=True)\\nax.xaxis.set_major_formatter(plotting.big_number_formatter())\";\n",
       "                var nbb_cells = Jupyter.notebook.get_cells();\n",
       "                for (var i = 0; i < nbb_cells.length; ++i) {\n",
       "                    if (nbb_cells[i].input_prompt_number == nbb_cell_id) {\n",
       "                        if (nbb_cells[i].get_text() == nbb_unformatted_code) {\n",
       "                             nbb_cells[i].set_text(nbb_formatted_code);\n",
       "                        }\n",
       "                        break;\n",
       "                    }\n",
       "                }\n",
       "            }, 500);\n",
       "            "
      ],
      "text/plain": [
       "<IPython.core.display.Javascript object>"
      ]
     },
     "metadata": {},
     "output_type": "display_data"
    }
   ],
   "source": [
    "ax = plotting.plots.countplot(df.loc[:, \"main_cat\"], size=(6, 10), log_scale=True)\n",
    "ax.xaxis.set_major_formatter(plotting.big_number_formatter())"
   ]
  },
  {
   "cell_type": "markdown",
   "metadata": {},
   "source": [
    "The classes are very imbalanced, which is why I had to plot them on a logarithmic scale. Books are at the top."
   ]
  },
  {
   "cell_type": "markdown",
   "metadata": {},
   "source": [
    "## Refining the Brands\n",
    "\n",
    "I begin with the brand terms, which will be very important for the classifier."
   ]
  },
  {
   "cell_type": "code",
   "execution_count": 6,
   "metadata": {
    "ExecuteTime": {
     "end_time": "2021-09-18T20:28:50.253462Z",
     "start_time": "2021-09-18T20:28:48.495462Z"
    }
   },
   "outputs": [
    {
     "data": {
      "text/html": [
       "<div>\n",
       "<style scoped>\n",
       "    .dataframe tbody tr th:only-of-type {\n",
       "        vertical-align: middle;\n",
       "    }\n",
       "\n",
       "    .dataframe tbody tr th {\n",
       "        vertical-align: top;\n",
       "    }\n",
       "\n",
       "    .dataframe thead th {\n",
       "        text-align: right;\n",
       "    }\n",
       "</style>\n",
       "<table border=\"1\" class=\"dataframe\">\n",
       "  <thead>\n",
       "    <tr style=\"text-align: right;\">\n",
       "      <th></th>\n",
       "      <th>text</th>\n",
       "      <th>title</th>\n",
       "      <th>brand</th>\n",
       "      <th>main_cat</th>\n",
       "    </tr>\n",
       "    <tr>\n",
       "      <th>asin</th>\n",
       "      <th></th>\n",
       "      <th></th>\n",
       "      <th></th>\n",
       "      <th></th>\n",
       "    </tr>\n",
       "  </thead>\n",
       "  <tbody>\n",
       "    <tr>\n",
       "      <th>B000050B67</th>\n",
       "      <td>norelco 5655x deluxe advantage wet/dry cordles...</td>\n",
       "      <td>norelco 5655x deluxe advantage wet/dry cordles...</td>\n",
       "      <td></td>\n",
       "      <td>all beauty</td>\n",
       "    </tr>\n",
       "    <tr>\n",
       "      <th>B000050B69</th>\n",
       "      <td>norelco t7500 deluxe cord/cordless rechargeabl...</td>\n",
       "      <td>norelco t7500 deluxe cord/cordless rechargeabl...</td>\n",
       "      <td></td>\n",
       "      <td>all beauty</td>\n",
       "    </tr>\n",
       "    <tr>\n",
       "      <th>B000050FDP</th>\n",
       "      <td>braun 6520 flex integral ultra speed rechargea...</td>\n",
       "      <td>braun 6520 flex integral ultra speed rechargea...</td>\n",
       "      <td></td>\n",
       "      <td>all beauty</td>\n",
       "    </tr>\n",
       "    <tr>\n",
       "      <th>B000052YD8</th>\n",
       "      <td>scope original mint mouthwash 50.7 fl oz. scop...</td>\n",
       "      <td>scope original mint mouthwash 50.7 fl oz</td>\n",
       "      <td></td>\n",
       "      <td>all beauty</td>\n",
       "    </tr>\n",
       "    <tr>\n",
       "      <th>B00005336W</th>\n",
       "      <td>dove nutrium nutrient beads nourishing body wa...</td>\n",
       "      <td>dove nutrium nutrient beads nourishing body wa...</td>\n",
       "      <td></td>\n",
       "      <td>all beauty</td>\n",
       "    </tr>\n",
       "    <tr>\n",
       "      <th>...</th>\n",
       "      <td>...</td>\n",
       "      <td>...</td>\n",
       "      <td>...</td>\n",
       "      <td>...</td>\n",
       "    </tr>\n",
       "    <tr>\n",
       "      <th>B01H0UDFXQ</th>\n",
       "      <td>marc lawrence's 2016 playbook football preview...</td>\n",
       "      <td>marc lawrence's 2016 playbook football preview</td>\n",
       "      <td></td>\n",
       "      <td>books</td>\n",
       "    </tr>\n",
       "    <tr>\n",
       "      <th>B01H3U5GNA</th>\n",
       "      <td>american original soft and cozy coastal stripe...</td>\n",
       "      <td>american original soft and cozy coastal stripe...</td>\n",
       "      <td></td>\n",
       "      <td>books</td>\n",
       "    </tr>\n",
       "    <tr>\n",
       "      <th>B01H87P6YM</th>\n",
       "      <td>hitachi 43in 2160p 120hz 4k uhd led tv. the ne...</td>\n",
       "      <td>hitachi 43in 2160p 120hz 4k uhd led tv</td>\n",
       "      <td></td>\n",
       "      <td>books</td>\n",
       "    </tr>\n",
       "    <tr>\n",
       "      <th>B01HB59462</th>\n",
       "      <td>hanging chaise lounger chair arc stand air por...</td>\n",
       "      <td>hanging chaise lounger chair arc stand air por...</td>\n",
       "      <td></td>\n",
       "      <td>books</td>\n",
       "    </tr>\n",
       "    <tr>\n",
       "      <th>B01HCAUSG6</th>\n",
       "      <td>elizabeth jane howard cazalet chronicles 5 boo...</td>\n",
       "      <td>elizabeth jane howard cazalet chronicles 5 boo...</td>\n",
       "      <td></td>\n",
       "      <td>books</td>\n",
       "    </tr>\n",
       "  </tbody>\n",
       "</table>\n",
       "<p>149119 rows × 4 columns</p>\n",
       "</div>"
      ],
      "text/plain": [
       "                                                         text  \\\n",
       "asin                                                            \n",
       "B000050B67  norelco 5655x deluxe advantage wet/dry cordles...   \n",
       "B000050B69  norelco t7500 deluxe cord/cordless rechargeabl...   \n",
       "B000050FDP  braun 6520 flex integral ultra speed rechargea...   \n",
       "B000052YD8  scope original mint mouthwash 50.7 fl oz. scop...   \n",
       "B00005336W  dove nutrium nutrient beads nourishing body wa...   \n",
       "...                                                       ...   \n",
       "B01H0UDFXQ  marc lawrence's 2016 playbook football preview...   \n",
       "B01H3U5GNA  american original soft and cozy coastal stripe...   \n",
       "B01H87P6YM  hitachi 43in 2160p 120hz 4k uhd led tv. the ne...   \n",
       "B01HB59462  hanging chaise lounger chair arc stand air por...   \n",
       "B01HCAUSG6  elizabeth jane howard cazalet chronicles 5 boo...   \n",
       "\n",
       "                                                        title brand  \\\n",
       "asin                                                                  \n",
       "B000050B67  norelco 5655x deluxe advantage wet/dry cordles...         \n",
       "B000050B69  norelco t7500 deluxe cord/cordless rechargeabl...         \n",
       "B000050FDP  braun 6520 flex integral ultra speed rechargea...         \n",
       "B000052YD8           scope original mint mouthwash 50.7 fl oz         \n",
       "B00005336W  dove nutrium nutrient beads nourishing body wa...         \n",
       "...                                                       ...   ...   \n",
       "B01H0UDFXQ     marc lawrence's 2016 playbook football preview         \n",
       "B01H3U5GNA  american original soft and cozy coastal stripe...         \n",
       "B01H87P6YM             hitachi 43in 2160p 120hz 4k uhd led tv         \n",
       "B01HB59462  hanging chaise lounger chair arc stand air por...         \n",
       "B01HCAUSG6  elizabeth jane howard cazalet chronicles 5 boo...         \n",
       "\n",
       "              main_cat  \n",
       "asin                    \n",
       "B000050B67  all beauty  \n",
       "B000050B69  all beauty  \n",
       "B000050FDP  all beauty  \n",
       "B000052YD8  all beauty  \n",
       "B00005336W  all beauty  \n",
       "...                ...  \n",
       "B01H0UDFXQ       books  \n",
       "B01H3U5GNA       books  \n",
       "B01H87P6YM       books  \n",
       "B01HB59462       books  \n",
       "B01HCAUSG6       books  \n",
       "\n",
       "[149119 rows x 4 columns]"
      ]
     },
     "execution_count": 6,
     "metadata": {},
     "output_type": "execute_result"
    },
    {
     "data": {
      "application/javascript": [
       "\n",
       "            setTimeout(function() {\n",
       "                var nbb_cell_id = 6;\n",
       "                var nbb_unformatted_code = \"empty_brand = df.loc[df.brand.str.fullmatch(\\\"\\\\s*\\\")]\\nempty_brand\";\n",
       "                var nbb_formatted_code = \"empty_brand = df.loc[df.brand.str.fullmatch(\\\"\\\\s*\\\")]\\nempty_brand\";\n",
       "                var nbb_cells = Jupyter.notebook.get_cells();\n",
       "                for (var i = 0; i < nbb_cells.length; ++i) {\n",
       "                    if (nbb_cells[i].input_prompt_number == nbb_cell_id) {\n",
       "                        if (nbb_cells[i].get_text() == nbb_unformatted_code) {\n",
       "                             nbb_cells[i].set_text(nbb_formatted_code);\n",
       "                        }\n",
       "                        break;\n",
       "                    }\n",
       "                }\n",
       "            }, 500);\n",
       "            "
      ],
      "text/plain": [
       "<IPython.core.display.Javascript object>"
      ]
     },
     "metadata": {},
     "output_type": "display_data"
    }
   ],
   "source": [
    "empty_brand = df.loc[df.brand.str.fullmatch(\"\\s*\")]\n",
    "empty_brand"
   ]
  },
  {
   "cell_type": "markdown",
   "metadata": {},
   "source": [
    "Looks like there are over about 1.6 million empty brand entries. I'll replace those with 'none' for now."
   ]
  },
  {
   "cell_type": "code",
   "execution_count": 7,
   "metadata": {
    "ExecuteTime": {
     "end_time": "2021-09-18T20:28:52.146462Z",
     "start_time": "2021-09-18T20:28:50.254460Z"
    }
   },
   "outputs": [
    {
     "data": {
      "text/html": [
       "<div>\n",
       "<style scoped>\n",
       "    .dataframe tbody tr th:only-of-type {\n",
       "        vertical-align: middle;\n",
       "    }\n",
       "\n",
       "    .dataframe tbody tr th {\n",
       "        vertical-align: top;\n",
       "    }\n",
       "\n",
       "    .dataframe thead th {\n",
       "        text-align: right;\n",
       "    }\n",
       "</style>\n",
       "<table border=\"1\" class=\"dataframe\">\n",
       "  <thead>\n",
       "    <tr style=\"text-align: right;\">\n",
       "      <th></th>\n",
       "      <th>text</th>\n",
       "      <th>title</th>\n",
       "      <th>brand</th>\n",
       "      <th>main_cat</th>\n",
       "    </tr>\n",
       "    <tr>\n",
       "      <th>asin</th>\n",
       "      <th></th>\n",
       "      <th></th>\n",
       "      <th></th>\n",
       "      <th></th>\n",
       "    </tr>\n",
       "  </thead>\n",
       "  <tbody>\n",
       "  </tbody>\n",
       "</table>\n",
       "</div>"
      ],
      "text/plain": [
       "Empty DataFrame\n",
       "Columns: [text, title, brand, main_cat]\n",
       "Index: []"
      ]
     },
     "execution_count": 7,
     "metadata": {},
     "output_type": "execute_result"
    },
    {
     "data": {
      "application/javascript": [
       "\n",
       "            setTimeout(function() {\n",
       "                var nbb_cell_id = 7;\n",
       "                var nbb_unformatted_code = \"df.loc[empty_brand.index, \\\"brand\\\"] = \\\"none\\\"\\ndf.loc[df.brand.str.fullmatch(\\\"\\\\s*\\\")]\";\n",
       "                var nbb_formatted_code = \"df.loc[empty_brand.index, \\\"brand\\\"] = \\\"none\\\"\\ndf.loc[df.brand.str.fullmatch(\\\"\\\\s*\\\")]\";\n",
       "                var nbb_cells = Jupyter.notebook.get_cells();\n",
       "                for (var i = 0; i < nbb_cells.length; ++i) {\n",
       "                    if (nbb_cells[i].input_prompt_number == nbb_cell_id) {\n",
       "                        if (nbb_cells[i].get_text() == nbb_unformatted_code) {\n",
       "                             nbb_cells[i].set_text(nbb_formatted_code);\n",
       "                        }\n",
       "                        break;\n",
       "                    }\n",
       "                }\n",
       "            }, 500);\n",
       "            "
      ],
      "text/plain": [
       "<IPython.core.display.Javascript object>"
      ]
     },
     "metadata": {},
     "output_type": "display_data"
    }
   ],
   "source": [
    "df.loc[empty_brand.index, \"brand\"] = \"none\"\n",
    "df.loc[df.brand.str.fullmatch(\"\\s*\")]"
   ]
  },
  {
   "cell_type": "code",
   "execution_count": 8,
   "metadata": {
    "ExecuteTime": {
     "end_time": "2021-09-18T20:28:52.245459Z",
     "start_time": "2021-09-18T20:28:52.148463Z"
    }
   },
   "outputs": [
    {
     "data": {
      "application/javascript": [
       "\n",
       "            setTimeout(function() {\n",
       "                var nbb_cell_id = 8;\n",
       "                var nbb_unformatted_code = \"del empty_brand\";\n",
       "                var nbb_formatted_code = \"del empty_brand\";\n",
       "                var nbb_cells = Jupyter.notebook.get_cells();\n",
       "                for (var i = 0; i < nbb_cells.length; ++i) {\n",
       "                    if (nbb_cells[i].input_prompt_number == nbb_cell_id) {\n",
       "                        if (nbb_cells[i].get_text() == nbb_unformatted_code) {\n",
       "                             nbb_cells[i].set_text(nbb_formatted_code);\n",
       "                        }\n",
       "                        break;\n",
       "                    }\n",
       "                }\n",
       "            }, 500);\n",
       "            "
      ],
      "text/plain": [
       "<IPython.core.display.Javascript object>"
      ]
     },
     "metadata": {},
     "output_type": "display_data"
    }
   ],
   "source": [
    "del empty_brand"
   ]
  },
  {
   "cell_type": "markdown",
   "metadata": {},
   "source": [
    "Next, I'm going to tokenize the brands using the default Scikit-Learn tokenizer regex (r'\\b\\w\\w+\\b'). This is the default value for 'token_pattern' in `CountVectorizer`, `HashingVectorizer`, and `TfidfVectorizer`.\n",
    "\n",
    "I like the default Scikit-Learn tokenizer because it ignores punctuation and grabs sequences of 2 or more word characters (within word boundaries). It strips out most of the noise in a single stroke.\n",
    "\n",
    "I define a function below using this pattern."
   ]
  },
  {
   "cell_type": "code",
   "execution_count": 9,
   "metadata": {
    "ExecuteTime": {
     "end_time": "2021-09-18T20:28:52.357464Z",
     "start_time": "2021-09-18T20:28:52.247461Z"
    }
   },
   "outputs": [
    {
     "data": {
      "application/javascript": [
       "\n",
       "            setTimeout(function() {\n",
       "                var nbb_cell_id = 9;\n",
       "                var nbb_unformatted_code = \"def sklearn_tokenize(docs, n_jobs=None):\\n    pattern = re.compile(r\\\"\\\\b\\\\w\\\\w+\\\\b\\\")\\n    return lang.process_strings(\\n        docs, pattern.findall, n_jobs=n_jobs, bar_desc=\\\"sklearn_tokenize\\\"\\n    )\";\n",
       "                var nbb_formatted_code = \"def sklearn_tokenize(docs, n_jobs=None):\\n    pattern = re.compile(r\\\"\\\\b\\\\w\\\\w+\\\\b\\\")\\n    return lang.process_strings(\\n        docs, pattern.findall, n_jobs=n_jobs, bar_desc=\\\"sklearn_tokenize\\\"\\n    )\";\n",
       "                var nbb_cells = Jupyter.notebook.get_cells();\n",
       "                for (var i = 0; i < nbb_cells.length; ++i) {\n",
       "                    if (nbb_cells[i].input_prompt_number == nbb_cell_id) {\n",
       "                        if (nbb_cells[i].get_text() == nbb_unformatted_code) {\n",
       "                             nbb_cells[i].set_text(nbb_formatted_code);\n",
       "                        }\n",
       "                        break;\n",
       "                    }\n",
       "                }\n",
       "            }, 500);\n",
       "            "
      ],
      "text/plain": [
       "<IPython.core.display.Javascript object>"
      ]
     },
     "metadata": {},
     "output_type": "display_data"
    }
   ],
   "source": [
    "def sklearn_tokenize(docs, n_jobs=None):\n",
    "    pattern = re.compile(r\"\\b\\w\\w+\\b\")\n",
    "    return lang.process_strings(\n",
    "        docs, pattern.findall, n_jobs=n_jobs, bar_desc=\"sklearn_tokenize\"\n",
    "    )"
   ]
  },
  {
   "cell_type": "markdown",
   "metadata": {},
   "source": [
    "It's a short function, but a powerful one. It's **polymorphic**, meaning that it it behaves differently depending on the input type. If `docs` is a string, it simply returns the list of tokens. However, if `docs` is a container type like `Series` or `DataFrame`, it applies the tokenizer to every element. It also features **multiprocessing**, which can dramatically increase performance on large datasets.\n",
    "\n",
    "Like many functions you'll see this notebook, it uses the infrastructure provided by my low-level function `lang.process_strings`."
   ]
  },
  {
   "cell_type": "code",
   "execution_count": 10,
   "metadata": {
    "ExecuteTime": {
     "end_time": "2021-09-18T20:28:52.455464Z",
     "start_time": "2021-09-18T20:28:52.358460Z"
    }
   },
   "outputs": [
    {
     "name": "stdout",
     "output_type": "stream",
     "text": [
      "Help on function process_strings in module tools.language.utils:\n",
      "\n",
      "process_strings(strings: Union[str, Iterable[str]], func: Callable[[str], Any], n_jobs: int = None, show_bar: bool = True, bar_desc: str = None, **kwargs) -> Any\n",
      "    Apply `func` to a string or iterable of strings (elementwise).\n",
      "    \n",
      "    Most string filtering/processing functions in the language module\n",
      "    are polymorphic, capable of handling either a single string or an\n",
      "    iterable of strings. Whenever possible, they rely on this generic\n",
      "    function to apply a callable to string(s). This allows them to\n",
      "    behave polymorphically and take advantage of multiprocessing while\n",
      "    having a simple implementation.\n",
      "    \n",
      "    This is a single dispatch generic function, meaning that it consists\n",
      "    of multiple specialized sub-functions which each handle a different\n",
      "    argument type. When called, the dispatcher checks the type of the first\n",
      "    positional argument and then dispatches the sub-function registered\n",
      "    for that type. In other words, when the function is called, the call\n",
      "    is routed to the appropriate sub-function based on the type of the first\n",
      "    positional argument. If no sub-function is registered for a given type,\n",
      "    the correct dispatch is determined by the type's method resolution order.\n",
      "    The function definition decorated with `@singledispatch` is registered for\n",
      "    the `object` type, meaning that it's the dispatcher's last resort.\n",
      "    \n",
      "    The most important sub-function is the list dispatch, where\n",
      "    multiprocessing is implemented via Joblib. Every other sub-function\n",
      "    (besides str) routes data there for multiprocessing.\n",
      "    \n",
      "    Parameters\n",
      "    ----------\n",
      "    strings : str, iterable of str\n",
      "        String(s) to map `func` over. Null values are ignored.\n",
      "    func : Callable\n",
      "        Callable for processing `strings`.\n",
      "    n_jobs: int\n",
      "        The maximum number of concurrently running jobs. If -1 all CPUs are used.\n",
      "        If 1 or None is given, no parallel computing code is used at all. For n_jobs\n",
      "        below -1, (n_cpus + 1 + n_jobs) are used. Thus for n_jobs = -2, all CPUs but\n",
      "        one are used. Defaults to None.\n",
      "    **kwargs\n",
      "        Keyword arguments for `func`.\n",
      "    \n",
      "    Returns\n",
      "    -------\n",
      "    Any\n",
      "        Processed string(s), same container type as input.\n",
      "\n"
     ]
    },
    {
     "data": {
      "application/javascript": [
       "\n",
       "            setTimeout(function() {\n",
       "                var nbb_cell_id = 10;\n",
       "                var nbb_unformatted_code = \"help(lang.process_strings)\";\n",
       "                var nbb_formatted_code = \"help(lang.process_strings)\";\n",
       "                var nbb_cells = Jupyter.notebook.get_cells();\n",
       "                for (var i = 0; i < nbb_cells.length; ++i) {\n",
       "                    if (nbb_cells[i].input_prompt_number == nbb_cell_id) {\n",
       "                        if (nbb_cells[i].get_text() == nbb_unformatted_code) {\n",
       "                             nbb_cells[i].set_text(nbb_formatted_code);\n",
       "                        }\n",
       "                        break;\n",
       "                    }\n",
       "                }\n",
       "            }, 500);\n",
       "            "
      ],
      "text/plain": [
       "<IPython.core.display.Javascript object>"
      ]
     },
     "metadata": {},
     "output_type": "display_data"
    }
   ],
   "source": [
    "help(lang.process_strings)"
   ]
  },
  {
   "cell_type": "markdown",
   "metadata": {},
   "source": [
    "In the following cell, I transliterate the brand names to ASCII, tokenize them, and then immediately detokenize them. I want to reduce the number of unique values by reducing the number of near-duplicates."
   ]
  },
  {
   "cell_type": "code",
   "execution_count": 11,
   "metadata": {
    "ExecuteTime": {
     "end_time": "2021-09-18T20:29:21.406373Z",
     "start_time": "2021-09-18T20:28:52.456460Z"
    }
   },
   "outputs": [
    {
     "data": {
      "application/vnd.jupyter.widget-view+json": {
       "model_id": "2e168486c8094aa2b990b8e154904180",
       "version_major": 2,
       "version_minor": 0
      },
      "text/plain": [
       "force_ascii:   0%|          | 0/3692413 [00:00<?, ?it/s]"
      ]
     },
     "metadata": {},
     "output_type": "display_data"
    },
    {
     "data": {
      "application/vnd.jupyter.widget-view+json": {
       "model_id": "9f9eb2a7cd7e4c5f81eee103b2478f07",
       "version_major": 2,
       "version_minor": 0
      },
      "text/plain": [
       "sklearn_tokenize:   0%|          | 0/3692413 [00:00<?, ?it/s]"
      ]
     },
     "metadata": {},
     "output_type": "display_data"
    },
    {
     "data": {
      "text/plain": [
       "none                   149124\n",
       "generic                 10178\n",
       "yu_gi_oh                 7075\n",
       "magic_the_gathering      6488\n",
       "nike                     5774\n",
       "                        ...  \n",
       "flener                      1\n",
       "robert_adamcik              1\n",
       "meirem                      1\n",
       "jim_ingram                  1\n",
       "vivian_carpenter            1\n",
       "Name: brand, Length: 768552, dtype: int64"
      ]
     },
     "execution_count": 11,
     "metadata": {},
     "output_type": "execute_result"
    },
    {
     "data": {
      "application/javascript": [
       "\n",
       "            setTimeout(function() {\n",
       "                var nbb_cell_id = 11;\n",
       "                var nbb_unformatted_code = \"df[\\\"brand\\\"] = lang.force_ascii(df.loc[:, \\\"brand\\\"], n_jobs=-1)\\ndf[\\\"brand\\\"] = sklearn_tokenize(df.loc[:, \\\"brand\\\"], n_jobs=-1)\\ndf[\\\"brand\\\"] = df.loc[:, \\\"brand\\\"].str.join(\\\"_\\\")\\ndf[\\\"brand\\\"].value_counts()\";\n",
       "                var nbb_formatted_code = \"df[\\\"brand\\\"] = lang.force_ascii(df.loc[:, \\\"brand\\\"], n_jobs=-1)\\ndf[\\\"brand\\\"] = sklearn_tokenize(df.loc[:, \\\"brand\\\"], n_jobs=-1)\\ndf[\\\"brand\\\"] = df.loc[:, \\\"brand\\\"].str.join(\\\"_\\\")\\ndf[\\\"brand\\\"].value_counts()\";\n",
       "                var nbb_cells = Jupyter.notebook.get_cells();\n",
       "                for (var i = 0; i < nbb_cells.length; ++i) {\n",
       "                    if (nbb_cells[i].input_prompt_number == nbb_cell_id) {\n",
       "                        if (nbb_cells[i].get_text() == nbb_unformatted_code) {\n",
       "                             nbb_cells[i].set_text(nbb_formatted_code);\n",
       "                        }\n",
       "                        break;\n",
       "                    }\n",
       "                }\n",
       "            }, 500);\n",
       "            "
      ],
      "text/plain": [
       "<IPython.core.display.Javascript object>"
      ]
     },
     "metadata": {},
     "output_type": "display_data"
    }
   ],
   "source": [
    "df[\"brand\"] = lang.force_ascii(df.loc[:, \"brand\"], n_jobs=-1)\n",
    "df[\"brand\"] = sklearn_tokenize(df.loc[:, \"brand\"], n_jobs=-1)\n",
    "df[\"brand\"] = df.loc[:, \"brand\"].str.join(\"_\")\n",
    "df[\"brand\"].value_counts()"
   ]
  },
  {
   "cell_type": "markdown",
   "metadata": {},
   "source": [
    "Over 760,000 unique brands! I'm going to use the brands as ngram phrases in the text, but I suspect most of these are too obscure to be useful. One-off brand terms are almost completely useless for a term-frequency-based classification, since they'll only appear in one vector."
   ]
  },
  {
   "cell_type": "code",
   "execution_count": 12,
   "metadata": {
    "ExecuteTime": {
     "end_time": "2021-09-18T20:29:21.522377Z",
     "start_time": "2021-09-18T20:29:21.407349Z"
    }
   },
   "outputs": [
    {
     "data": {
      "application/javascript": [
       "\n",
       "            setTimeout(function() {\n",
       "                var nbb_cell_id = 12;\n",
       "                var nbb_unformatted_code = \"def plot_brand_size_dist(data, brand_col=\\\"brand\\\", bins=50, log_scale=True, tick_prec=0):\\n    brand_counts = data[brand_col].value_counts()\\n    g = sns.displot(\\n        data=brand_counts.to_frame(),\\n        x=brand_col,\\n        log_scale=log_scale,\\n        bins=bins,\\n        aspect=2,\\n    )\\n    g.axes[0, 0].set(\\n        xlabel=\\\"Product Count\\\",\\n        ylabel=\\\"Number of Brands\\\",\\n        title=\\\"Distribution of Brand Sizes (Product Count)\\\",\\n    )\\n    g.axes[0, 0].yaxis.set_major_formatter(plotting.big_number_formatter(tick_prec))\\n    g.axes[0, 0].xaxis.set_major_formatter(plotting.big_number_formatter(tick_prec))\";\n",
       "                var nbb_formatted_code = \"def plot_brand_size_dist(data, brand_col=\\\"brand\\\", bins=50, log_scale=True, tick_prec=0):\\n    brand_counts = data[brand_col].value_counts()\\n    g = sns.displot(\\n        data=brand_counts.to_frame(),\\n        x=brand_col,\\n        log_scale=log_scale,\\n        bins=bins,\\n        aspect=2,\\n    )\\n    g.axes[0, 0].set(\\n        xlabel=\\\"Product Count\\\",\\n        ylabel=\\\"Number of Brands\\\",\\n        title=\\\"Distribution of Brand Sizes (Product Count)\\\",\\n    )\\n    g.axes[0, 0].yaxis.set_major_formatter(plotting.big_number_formatter(tick_prec))\\n    g.axes[0, 0].xaxis.set_major_formatter(plotting.big_number_formatter(tick_prec))\";\n",
       "                var nbb_cells = Jupyter.notebook.get_cells();\n",
       "                for (var i = 0; i < nbb_cells.length; ++i) {\n",
       "                    if (nbb_cells[i].input_prompt_number == nbb_cell_id) {\n",
       "                        if (nbb_cells[i].get_text() == nbb_unformatted_code) {\n",
       "                             nbb_cells[i].set_text(nbb_formatted_code);\n",
       "                        }\n",
       "                        break;\n",
       "                    }\n",
       "                }\n",
       "            }, 500);\n",
       "            "
      ],
      "text/plain": [
       "<IPython.core.display.Javascript object>"
      ]
     },
     "metadata": {},
     "output_type": "display_data"
    }
   ],
   "source": [
    "def plot_brand_size_dist(data, brand_col=\"brand\", bins=50, log_scale=True, tick_prec=0):\n",
    "    brand_counts = data[brand_col].value_counts()\n",
    "    g = sns.displot(\n",
    "        data=brand_counts.to_frame(),\n",
    "        x=brand_col,\n",
    "        log_scale=log_scale,\n",
    "        bins=bins,\n",
    "        aspect=2,\n",
    "    )\n",
    "    g.axes[0, 0].set(\n",
    "        xlabel=\"Product Count\",\n",
    "        ylabel=\"Number of Brands\",\n",
    "        title=\"Distribution of Brand Sizes (Product Count)\",\n",
    "    )\n",
    "    g.axes[0, 0].yaxis.set_major_formatter(plotting.big_number_formatter(tick_prec))\n",
    "    g.axes[0, 0].xaxis.set_major_formatter(plotting.big_number_formatter(tick_prec))"
   ]
  },
  {
   "cell_type": "code",
   "execution_count": 13,
   "metadata": {
    "ExecuteTime": {
     "end_time": "2021-09-18T20:29:24.644348Z",
     "start_time": "2021-09-18T20:29:21.523346Z"
    }
   },
   "outputs": [
    {
     "data": {
      "image/png": "[encoded data removed]",
      "text/plain": [
       "<Figure size 720x360 with 1 Axes>"
      ]
     },
     "metadata": {
      "needs_background": "light"
     },
     "output_type": "display_data"
    },
    {
     "data": {
      "application/javascript": [
       "\n",
       "            setTimeout(function() {\n",
       "                var nbb_cell_id = 13;\n",
       "                var nbb_unformatted_code = \"plot_brand_size_dist(df)\";\n",
       "                var nbb_formatted_code = \"plot_brand_size_dist(df)\";\n",
       "                var nbb_cells = Jupyter.notebook.get_cells();\n",
       "                for (var i = 0; i < nbb_cells.length; ++i) {\n",
       "                    if (nbb_cells[i].input_prompt_number == nbb_cell_id) {\n",
       "                        if (nbb_cells[i].get_text() == nbb_unformatted_code) {\n",
       "                             nbb_cells[i].set_text(nbb_formatted_code);\n",
       "                        }\n",
       "                        break;\n",
       "                    }\n",
       "                }\n",
       "            }, 500);\n",
       "            "
      ],
      "text/plain": [
       "<IPython.core.display.Javascript object>"
      ]
     },
     "metadata": {},
     "output_type": "display_data"
    }
   ],
   "source": [
    "plot_brand_size_dist(df)"
   ]
  },
  {
   "cell_type": "markdown",
   "metadata": {},
   "source": [
    "Over 500,000 brands have just one instance. I'm not interested in those.\n",
    "\n",
    "In order to engineer a solid dataset for product classification, I'm going to keep only the biggest brands in each main category. That ought to get rid of most of the brand noise and make room for some signal.\n",
    "\n",
    "For each main category, (with some exceptions) I keep only the top 1% of brands. Again, I'm measuring brand size in terms of number of products. Main categories with less than 1,000 samples are exempt from the pruning. Furthermore, all *none* entries will be dropped except in categories which are almost entirely *none* (in order to preserve the categories). The 'fine art' category, for instance, is ~99% *none*, presumably due to the unique nature of the products. Currently Amazon does show brands for fine art products, but that may have been different in 2018, when this data was collected."
   ]
  },
  {
   "cell_type": "code",
   "execution_count": 14,
   "metadata": {
    "ExecuteTime": {
     "end_time": "2021-09-18T20:29:29.334347Z",
     "start_time": "2021-09-18T20:29:24.645349Z"
    }
   },
   "outputs": [
    {
     "name": "stdout",
     "output_type": "stream",
     "text": [
      "all beauty\n",
      "----------\n",
      "                       Status  Support\n",
      "crystalage           retained       89\n",
      "makingcosmetics      retained       80\n",
      "kroo                 retained       67\n",
      "crest                retained       64\n",
      "vktech               retained       60\n",
      "...                       ...      ...\n",
      "xcoser                dropped        1\n",
      "sourceone_org         dropped        1\n",
      "abmat                 dropped        1\n",
      "moonmaid_botanicals   dropped        1\n",
      "uj_ramelson_co        dropped        1\n",
      "\n",
      "[5177 rows x 2 columns]\n",
      "\n",
      "\n",
      "\n",
      "all electronics\n",
      "---------------\n",
      "                  Status  Support\n",
      "sony            retained     1202\n",
      "panasonic       retained     1137\n",
      "samsung         retained      910\n",
      "hp              retained      635\n",
      "startech        retained      523\n",
      "...                  ...      ...\n",
      "bike             dropped        1\n",
      "ancel            dropped        1\n",
      "echola_systems   dropped        1\n",
      "coopro           dropped        1\n",
      "gouxiang         dropped        1\n",
      "\n",
      "[12240 rows x 2 columns]\n",
      "\n",
      "\n",
      "\n",
      "amazon fashion\n",
      "--------------\n",
      "                                     Status  Support\n",
      "amazon_collection                  retained     4752\n",
      "invicta                            retained     4252\n",
      "nike                               retained     3106\n",
      "adidas                             retained     2773\n",
      "seiko                              retained     2271\n",
      "...                                     ...      ...\n",
      "outrider_jewelry                    dropped        1\n",
      "shiweibao                           dropped        1\n",
      "solar_shield_fits_over_sunglasses   dropped        1\n",
      "hae_now_organictee                  dropped        1\n",
      "the_cup                             dropped        1\n",
      "\n",
      "[31278 rows x 2 columns]\n",
      "\n",
      "\n",
      "\n",
      "amazon home\n",
      "-----------\n",
      "                              Status  Support\n",
      "3drose                      retained     2618\n",
      "trademark_fine_art          retained     1941\n",
      "tree_free_greetings         retained     1582\n",
      "generic                     retained     1536\n",
      "home_decorators_collection  retained     1436\n",
      "...                              ...      ...\n",
      "cat_door_mats                dropped        1\n",
      "general_pencil               dropped        1\n",
      "freshus                      dropped        1\n",
      "mighty_mouse                 dropped        1\n",
      "dengpin                      dropped        1\n",
      "\n",
      "[67726 rows x 2 columns]\n",
      "\n",
      "\n",
      "\n",
      "appliances\n",
      "----------\n",
      "                                Status  Support\n",
      "frigidaire                    retained      169\n",
      "akdy                          retained       85\n",
      "whirlpool                     retained       84\n",
      "broan                         retained       83\n",
      "avanti                        retained       81\n",
      "...                                ...      ...\n",
      "shamrock                       dropped        1\n",
      "clotheslines_laundry_hangers   dropped        1\n",
      "hqf                            dropped        1\n",
      "smelleze                       dropped        1\n",
      "kx_technologies                dropped        1\n",
      "\n",
      "[550 rows x 2 columns]\n",
      "\n",
      "\n",
      "\n",
      "arts, crafts & sewing\n",
      "---------------------\n",
      "                 Status  Support\n",
      "lantern_press  retained     1030\n",
      "3drose         retained      829\n",
      "beadaholique   retained      795\n",
      "sizzix         retained      696\n",
      "spellbinders   retained      597\n",
      "...                 ...      ...\n",
      "rotolight       dropped        1\n",
      "straight_pins   dropped        1\n",
      "peton           dropped        1\n",
      "rotring         dropped        1\n",
      "neotrims        dropped        1\n",
      "\n",
      "[9529 rows x 2 columns]\n",
      "\n",
      "\n",
      "\n",
      "automotive\n",
      "----------\n",
      "                      Status  Support\n",
      "evan_fischer        retained     4022\n",
      "curt_manufacturing  retained     2353\n",
      "autoandart          retained     2190\n",
      "tuningpros          retained     1928\n",
      "rareelectrical      retained     1505\n",
      "...                      ...      ...\n",
      "beanpie_products     dropped        1\n",
      "burly_brand          dropped        1\n",
      "replace              dropped        1\n",
      "dg                   dropped        1\n",
      "polymeric_systems    dropped        1\n",
      "\n",
      "[15381 rows x 2 columns]\n",
      "\n",
      "\n",
      "\n",
      "baby\n",
      "----\n",
      "                         Status  Support\n",
      "fisher_price           retained      184\n",
      "gund                   retained      162\n",
      "kids_preferred         retained      152\n",
      "stephan_baby           retained      126\n",
      "carter                 retained      123\n",
      "...                         ...      ...\n",
      "the_blankyclip_co_inc   dropped        1\n",
      "cushy_closer            dropped        1\n",
      "shambo                  dropped        1\n",
      "ledmo                   dropped        1\n",
      "willow_beans            dropped        1\n",
      "\n",
      "[3807 rows x 2 columns]\n",
      "\n",
      "\n",
      "\n",
      "books\n",
      "-----\n",
      "                    Status  Support\n",
      "various           retained      619\n",
      "zondervan         retained      385\n",
      "fodor             retained      258\n",
      "dk_publishing     retained      236\n",
      "hal_leonard       retained      225\n",
      "...                    ...      ...\n",
      "tina_oldknow       dropped        1\n",
      "timothy_daiss      dropped        1\n",
      "dale_bettine       dropped        1\n",
      "scott_koblish      dropped        1\n",
      "vivian_carpenter   dropped        1\n",
      "\n",
      "[469543 rows x 2 columns]\n",
      "\n",
      "\n",
      "\n",
      "camera & photo\n",
      "--------------\n",
      "                     Status  Support\n",
      "canon              retained     1468\n",
      "sony               retained     1210\n",
      "nikon              retained     1159\n",
      "neewer             retained     1150\n",
      "manfrotto          retained      600\n",
      "...                     ...      ...\n",
      "netvue              dropped        1\n",
      "axess               dropped        1\n",
      "diy_security        dropped        1\n",
      "everestmounts       dropped        1\n",
      "haufed_technology   dropped        1\n",
      "\n",
      "[6614 rows x 2 columns]\n",
      "\n",
      "\n",
      "\n",
      "car electronics\n",
      "---------------\n",
      "                      Status  Support\n",
      "pyle                retained      465\n",
      "boss_audio_systems  retained      349\n",
      "kicker              retained      269\n",
      "metra               retained      210\n",
      "pioneer             retained      186\n",
      "...                      ...      ...\n",
      "hamimelon            dropped        1\n",
      "chenrui              dropped        1\n",
      "eyevison             dropped        1\n",
      "replacement          dropped        1\n",
      "winnereco            dropped        1\n",
      "\n",
      "[2225 rows x 2 columns]\n",
      "\n",
      "\n",
      "\n",
      "cell phones & accessories\n",
      "-------------------------\n",
      "                    Status  Support\n",
      "empire            retained     3299\n",
      "amzer             retained     2193\n",
      "mybat             retained     1845\n",
      "generic           retained     1784\n",
      "samsung           retained     1610\n",
      "...                    ...      ...\n",
      "came_tv            dropped        1\n",
      "hezhan             dropped        1\n",
      "evil_accessories   dropped        1\n",
      "dlodlo             dropped        1\n",
      "alicexiong         dropped        1\n",
      "\n",
      "[18311 rows x 2 columns]\n",
      "\n",
      "\n",
      "\n",
      "computers\n",
      "---------\n",
      "                  Status  Support\n",
      "hp              retained     2408\n",
      "dell            retained     2138\n",
      "acer            retained     1440\n",
      "generic         retained     1310\n",
      "asus            retained     1166\n",
      "...                  ...      ...\n",
      "chestnut_hill    dropped        1\n",
      "aitek            dropped        1\n",
      "ptn              dropped        1\n",
      "merlin_digital   dropped        1\n",
      "lgm              dropped        1\n",
      "\n",
      "[12885 rows x 2 columns]\n",
      "\n",
      "\n",
      "\n",
      "digital music\n",
      "-------------\n",
      "                             Status  Support\n",
      "various_artists            retained     4516\n",
      "various                    retained     1104\n",
      "ludwig_van_beethoven       retained      193\n",
      "johann_sebastian_bach      retained      174\n",
      "wolfgang_amadeus_mozart    retained      153\n",
      "...                             ...      ...\n",
      "jihad_jerry_the_evildoers   dropped        1\n",
      "jim_ferguson                dropped        1\n",
      "kudzu                       dropped        1\n",
      "denise_denise_company       dropped        1\n",
      "full_blown_chaos            dropped        1\n",
      "\n",
      "[43252 rows x 2 columns]\n",
      "\n",
      "\n",
      "\n",
      "gps & navigation\n",
      "----------------\n",
      "                                 Status  Support\n",
      "gomadic                        retained      264\n",
      "garmin                         retained      128\n",
      "pcprofessional                 retained       76\n",
      "tenq                           retained       66\n",
      "duragadget                     retained       49\n",
      "...                                 ...      ...\n",
      "gaosa                           dropped        1\n",
      "plane_sights_redfab_inc         dropped        1\n",
      "tvandnav2go                     dropped        1\n",
      "the_alzheimer_store             dropped        1\n",
      "sunkin_global_trading_company   dropped        1\n",
      "\n",
      "[849 rows x 2 columns]\n",
      "\n",
      "\n",
      "\n",
      "grocery\n",
      "-------\n",
      "                         Status  Support\n",
      "black_tie_mercantile   retained     1310\n",
      "mccormick              retained      587\n",
      "jelly_belly            retained      541\n",
      "bob_red_mill           retained      528\n",
      "starbucks              retained      489\n",
      "...                         ...      ...\n",
      "emma                    dropped        1\n",
      "harrowgate_key          dropped        1\n",
      "aegeannuts              dropped        1\n",
      "club_house              dropped        1\n",
      "louisiana_crawfish_co   dropped        1\n",
      "\n",
      "[24660 rows x 2 columns]\n"
     ]
    },
    {
     "name": "stdout",
     "output_type": "stream",
     "text": [
      "\n",
      "\n",
      "\n",
      "handmade\n",
      "--------\n",
      "                         Status  Support\n",
      "none                   retained     2212\n",
      "unique                  dropped        6\n",
      "marvel                  dropped        3\n",
      "monster                 dropped        2\n",
      "apple                   dropped        2\n",
      "lego                    dropped        1\n",
      "brenda_elaine_jewelry   dropped        1\n",
      "\n",
      "\n",
      "\n",
      "health & personal care\n",
      "----------------------\n",
      "                        Status  Support\n",
      "maxiaids              retained      139\n",
      "liliane_memorials     retained      126\n",
      "crystalage            retained      115\n",
      "terravita             retained       89\n",
      "big_dot_of_happiness  retained       88\n",
      "...                        ...      ...\n",
      "cleanaide              dropped        1\n",
      "doc_skin_care          dropped        1\n",
      "ark_group              dropped        1\n",
      "tree_classics          dropped        1\n",
      "la_petite_creme        dropped        1\n",
      "\n",
      "[10324 rows x 2 columns]\n",
      "\n",
      "\n",
      "\n",
      "home audio & theater\n",
      "--------------------\n",
      "               Status  Support\n",
      "sony         retained     1137\n",
      "redi_remote  retained      884\n",
      "monster      retained      632\n",
      "philips      retained      572\n",
      "monoprice    retained      434\n",
      "...               ...      ...\n",
      "centeni       dropped        1\n",
      "reverb        dropped        1\n",
      "xfox          dropped        1\n",
      "sanyo_eiki    dropped        1\n",
      "glow_audio    dropped        1\n",
      "\n",
      "[8007 rows x 2 columns]\n",
      "\n",
      "\n",
      "\n",
      "industrial & scientific\n",
      "-----------------------\n",
      "                                  Status  Support\n",
      "small_parts                     retained     1753\n",
      "vxb                             retained      728\n",
      "compliancesigns                 retained      672\n",
      "uxcell                          retained      660\n",
      "vestil                          retained      466\n",
      "...                                  ...      ...\n",
      "tier                             dropped        1\n",
      "samsonite                        dropped        1\n",
      "now_reading                      dropped        1\n",
      "powersmart                       dropped        1\n",
      "sundance_microfiber_pre_filter   dropped        1\n",
      "\n",
      "[10387 rows x 2 columns]\n",
      "\n",
      "\n",
      "\n",
      "luxury beauty\n",
      "-------------\n",
      "                          Status  Support\n",
      "none                    retained     6623\n",
      "archipelago_botanicals   dropped        2\n",
      "red_flower               dropped        1\n",
      "oribe                    dropped        1\n",
      "phyto                    dropped        1\n",
      "bliss                    dropped        1\n",
      "h2o_beauty               dropped        1\n",
      "zwilling_henckels        dropped        1\n",
      "\n",
      "\n",
      "\n",
      "movies & tv\n",
      "-----------\n",
      "                          Status  Support\n",
      "various                 retained     2011\n",
      "sinister_cinema         retained      177\n",
      "levar_burton            retained      106\n",
      "na                      retained       97\n",
      "the_ambient_collection  retained       87\n",
      "...                          ...      ...\n",
      "amanda_rose              dropped        1\n",
      "shelley_delayne          dropped        1\n",
      "miina_tominaga           dropped        1\n",
      "jae_holland              dropped        1\n",
      "richard_agurcia          dropped        1\n",
      "\n",
      "[33652 rows x 2 columns]\n",
      "\n",
      "\n",
      "\n",
      "musical instruments\n",
      "-------------------\n",
      "                      Status  Support\n",
      "seismic_audio       retained     1012\n",
      "fender              retained      934\n",
      "yamaha              retained      695\n",
      "kmise               retained      421\n",
      "ibanez              retained      350\n",
      "...                      ...      ...\n",
      "robokey              dropped        1\n",
      "solar_prolight       dropped        1\n",
      "splitfish_gameware   dropped        1\n",
      "aelec                dropped        1\n",
      "famixyal             dropped        1\n",
      "\n",
      "[6271 rows x 2 columns]\n",
      "\n",
      "\n",
      "\n",
      "office products\n",
      "---------------\n",
      "                          Status  Support\n",
      "at_glance               retained     1407\n",
      "avery                   retained     1070\n",
      "displays2go             retained      808\n",
      "ld_products             retained      803\n",
      "moleskine               retained      702\n",
      "...                          ...      ...\n",
      "gevalia                  dropped        1\n",
      "ykoki                    dropped        1\n",
      "sketchit                 dropped        1\n",
      "stickerkid_name_labels   dropped        1\n",
      "minkle                   dropped        1\n",
      "\n",
      "[12892 rows x 2 columns]\n",
      "\n",
      "\n",
      "\n",
      "pet supplies\n",
      "------------\n",
      "                         Status  Support\n",
      "pets                   retained      411\n",
      "casual_canine          retained      373\n",
      "zack_zoey              retained      357\n",
      "east_side_collection   retained      337\n",
      "alfie                  retained      327\n",
      "...                         ...      ...\n",
      "fi_shock_incorporated   dropped        1\n",
      "ecopoof                 dropped        1\n",
      "chewy_louie             dropped        1\n",
      "wild_hound_phillove     dropped        1\n",
      "rok_straps              dropped        1\n",
      "\n",
      "[12252 rows x 2 columns]\n",
      "\n",
      "\n",
      "\n",
      "portable audio & accessories\n",
      "----------------------------\n",
      "                      Status  Support\n",
      "gomadic             retained      132\n",
      "skinit              retained       59\n",
      "generic             retained       53\n",
      "griffin_technology  retained       42\n",
      "handhelditems       retained       37\n",
      "...                      ...      ...\n",
      "avant_garde          dropped        1\n",
      "bowink               dropped        1\n",
      "fiber_finger         dropped        1\n",
      "elago                dropped        1\n",
      "lumsing              dropped        1\n",
      "\n",
      "[1214 rows x 2 columns]\n",
      "\n",
      "\n",
      "\n",
      "prime pantry\n",
      "------------\n",
      "               Status  Support\n",
      "oreal_paris  retained      133\n",
      "quaker       retained       86\n",
      "nature_made  retained       83\n",
      "neutrogena   retained       79\n",
      "garnier      retained       76\n",
      "...               ...      ...\n",
      "pro_treat     dropped        1\n",
      "steelmaster   dropped        1\n",
      "prunelax      dropped        1\n",
      "polident      dropped        1\n",
      "mr_mrs        dropped        1\n",
      "\n",
      "[1187 rows x 2 columns]\n",
      "\n",
      "\n",
      "\n",
      "software\n",
      "--------\n",
      "                         Status  Support\n",
      "microsoft              retained      416\n",
      "encore                 retained      412\n",
      "topics_entertainment   retained      328\n",
      "infiniteskills         retained      218\n",
      "intuit                 retained      207\n",
      "...                         ...      ...\n",
      "binary_formations_llc   dropped        1\n",
      "can_multimedia          dropped        1\n",
      "bigtproducts            dropped        1\n",
      "tradigital              dropped        1\n",
      "art_explosion           dropped        1\n",
      "\n",
      "[2501 rows x 2 columns]\n",
      "\n",
      "\n",
      "\n",
      "sports & outdoors\n",
      "-----------------\n",
      "                Status  Support\n",
      "nike          retained     2587\n",
      "adidas        retained     2207\n",
      "under_armour  retained     2020\n",
      "majestic      retained     1846\n",
      "speedo        retained     1297\n",
      "...                ...      ...\n",
      "glas_films     dropped        1\n",
      "poler_stuff    dropped        1\n",
      "rojo_sport     dropped        1\n",
      "tcbunny        dropped        1\n",
      "the_cup        dropped        1\n",
      "\n",
      "[36303 rows x 2 columns]\n",
      "\n",
      "\n",
      "\n",
      "tools & home improvement\n",
      "------------------------\n",
      "                     Status  Support\n",
      "kohler             retained     2152\n",
      "leviton            retained     1778\n",
      "dewalt             retained     1581\n",
      "moen               retained     1454\n",
      "kichler            retained     1392\n",
      "...                     ...      ...\n",
      "purtest             dropped        1\n",
      "wildwood            dropped        1\n",
      "britelink           dropped        1\n",
      "ledvas              dropped        1\n",
      "polymeric_systems   dropped        1\n",
      "\n",
      "[25039 rows x 2 columns]\n",
      "\n",
      "\n",
      "\n",
      "toys & games\n",
      "------------\n",
      "                            Status  Support\n",
      "yu_gi_oh                  retained     7068\n",
      "magic_the_gathering       retained     6487\n",
      "pokemon                   retained     3124\n",
      "mattel                    retained     2541\n",
      "hasbro                    retained     2442\n",
      "...                            ...      ...\n",
      "living_dead                dropped        1\n",
      "mudpuddle                  dropped        1\n",
      "imagic                     dropped        1\n",
      "midwest_tungsten_service   dropped        1\n",
      "throwboy                   dropped        1\n",
      "\n",
      "[22050 rows x 2 columns]\n",
      "\n",
      "\n",
      "\n",
      "video games\n",
      "-----------\n",
      "                     Status  Support\n",
      "electronic_arts    retained     1328\n",
      "activision         retained      933\n",
      "nintendo           retained      865\n",
      "ubisoft            retained      854\n",
      "sony               retained      622\n",
      "...                     ...      ...\n",
      "homevisions         dropped        1\n",
      "total_war           dropped        1\n",
      "rj_communitcation   dropped        1\n",
      "vfk_publishing      dropped        1\n",
      "ezzat_studios       dropped        1\n",
      "\n",
      "[3188 rows x 2 columns]\n",
      "\n",
      "\n",
      "\n"
     ]
    },
    {
     "data": {
      "application/javascript": [
       "\n",
       "            setTimeout(function() {\n",
       "                var nbb_cell_id = 14;\n",
       "                var nbb_unformatted_code = \"# Drop brands below this quantile\\nqcut = 0.99\\n\\n# Keep nulls if they dominate the category\\nnull_dom_thresh = 0.95\\n\\n# Don't prune small categories\\nprotected_thresh = 1000\\n\\npruned_df = []\\n\\nfor cat, group in df.groupby(\\\"main_cat\\\"):\\n\\n    # Ignore small categories\\n    if len(group) <= protected_thresh:\\n        pruned_df.append(group)\\n        continue\\n\\n    # Drop nulls if freq under `null_dom_thresh`\\n    brand_counts = group[\\\"brand\\\"].value_counts(1)\\n    if brand_counts.get(\\\"none\\\", 1.0) < null_dom_thresh:\\n        group = group.loc[group.brand != \\\"none\\\"]\\n\\n    print(cat)\\n    print(\\\"-\\\" * len(cat))\\n\\n    # Drop brands below quantile `qcut`\\n    group = utils.prune_categories(group, \\\"brand\\\", qcut=qcut)\\n\\n    print(\\\"\\\\n\\\")\\n    pruned_df.append(group)\\n\\npruned_df = pd.concat(pruned_df)\";\n",
       "                var nbb_formatted_code = \"# Drop brands below this quantile\\nqcut = 0.99\\n\\n# Keep nulls if they dominate the category\\nnull_dom_thresh = 0.95\\n\\n# Don't prune small categories\\nprotected_thresh = 1000\\n\\npruned_df = []\\n\\nfor cat, group in df.groupby(\\\"main_cat\\\"):\\n\\n    # Ignore small categories\\n    if len(group) <= protected_thresh:\\n        pruned_df.append(group)\\n        continue\\n\\n    # Drop nulls if freq under `null_dom_thresh`\\n    brand_counts = group[\\\"brand\\\"].value_counts(1)\\n    if brand_counts.get(\\\"none\\\", 1.0) < null_dom_thresh:\\n        group = group.loc[group.brand != \\\"none\\\"]\\n\\n    print(cat)\\n    print(\\\"-\\\" * len(cat))\\n\\n    # Drop brands below quantile `qcut`\\n    group = utils.prune_categories(group, \\\"brand\\\", qcut=qcut)\\n\\n    print(\\\"\\\\n\\\")\\n    pruned_df.append(group)\\n\\npruned_df = pd.concat(pruned_df)\";\n",
       "                var nbb_cells = Jupyter.notebook.get_cells();\n",
       "                for (var i = 0; i < nbb_cells.length; ++i) {\n",
       "                    if (nbb_cells[i].input_prompt_number == nbb_cell_id) {\n",
       "                        if (nbb_cells[i].get_text() == nbb_unformatted_code) {\n",
       "                             nbb_cells[i].set_text(nbb_formatted_code);\n",
       "                        }\n",
       "                        break;\n",
       "                    }\n",
       "                }\n",
       "            }, 500);\n",
       "            "
      ],
      "text/plain": [
       "<IPython.core.display.Javascript object>"
      ]
     },
     "metadata": {},
     "output_type": "display_data"
    }
   ],
   "source": [
    "# Drop brands below this quantile\n",
    "qcut = 0.99\n",
    "\n",
    "# Keep nulls if they dominate the category\n",
    "null_dom_thresh = 0.95\n",
    "\n",
    "# Don't prune small categories\n",
    "protected_thresh = 1000\n",
    "\n",
    "pruned_df = []\n",
    "\n",
    "for cat, group in df.groupby(\"main_cat\"):\n",
    "\n",
    "    # Ignore small categories\n",
    "    if len(group) <= protected_thresh:\n",
    "        pruned_df.append(group)\n",
    "        continue\n",
    "\n",
    "    # Drop nulls if freq under `null_dom_thresh`\n",
    "    brand_counts = group[\"brand\"].value_counts(1)\n",
    "    if brand_counts.get(\"none\", 1.0) < null_dom_thresh:\n",
    "        group = group.loc[group.brand != \"none\"]\n",
    "\n",
    "    print(cat)\n",
    "    print(\"-\" * len(cat))\n",
    "\n",
    "    # Drop brands below quantile `qcut`\n",
    "    group = utils.prune_categories(group, \"brand\", qcut=qcut)\n",
    "\n",
    "    print(\"\\n\")\n",
    "    pruned_df.append(group)\n",
    "\n",
    "pruned_df = pd.concat(pruned_df)"
   ]
  },
  {
   "cell_type": "code",
   "execution_count": 15,
   "metadata": {
    "ExecuteTime": {
     "end_time": "2021-09-18T20:29:29.438348Z",
     "start_time": "2021-09-18T20:29:29.335349Z"
    },
    "scrolled": true
   },
   "outputs": [
    {
     "name": "stdout",
     "output_type": "stream",
     "text": [
      "Reduced n_samples by 71%\n"
     ]
    },
    {
     "data": {
      "text/html": [
       "<div>\n",
       "<style scoped>\n",
       "    .dataframe tbody tr th:only-of-type {\n",
       "        vertical-align: middle;\n",
       "    }\n",
       "\n",
       "    .dataframe tbody tr th {\n",
       "        vertical-align: top;\n",
       "    }\n",
       "\n",
       "    .dataframe thead th {\n",
       "        text-align: right;\n",
       "    }\n",
       "</style>\n",
       "<table border=\"1\" class=\"dataframe\">\n",
       "  <thead>\n",
       "    <tr style=\"text-align: right;\">\n",
       "      <th></th>\n",
       "      <th>text</th>\n",
       "      <th>title</th>\n",
       "      <th>brand</th>\n",
       "      <th>main_cat</th>\n",
       "    </tr>\n",
       "    <tr>\n",
       "      <th>asin</th>\n",
       "      <th></th>\n",
       "      <th></th>\n",
       "      <th></th>\n",
       "      <th></th>\n",
       "    </tr>\n",
       "  </thead>\n",
       "  <tbody>\n",
       "    <tr>\n",
       "      <th>B000050AUH</th>\n",
       "      <td>philips sonicare standard brush head. sonic wa...</td>\n",
       "      <td>philips sonicare standard brush head</td>\n",
       "      <td>philips_sonicare</td>\n",
       "      <td>all beauty</td>\n",
       "    </tr>\n",
       "    <tr>\n",
       "      <th>B000050B62</th>\n",
       "      <td>norelco 5841xl deluxe reflex action cord/cordl...</td>\n",
       "      <td>norelco 5841xl deluxe reflex action cord/cordl...</td>\n",
       "      <td>norelco</td>\n",
       "      <td>all beauty</td>\n",
       "    </tr>\n",
       "    <tr>\n",
       "      <th>B000050B63</th>\n",
       "      <td>norelco 6826xl quadra action cord/cordless rec...</td>\n",
       "      <td>norelco 6826xl quadra action cord/cordless rec...</td>\n",
       "      <td>norelco</td>\n",
       "      <td>all beauty</td>\n",
       "    </tr>\n",
       "    <tr>\n",
       "      <th>B000050B64</th>\n",
       "      <td>norelco 6865xl quadra action cord/cordless rec...</td>\n",
       "      <td>norelco 6865xl quadra action cord/cordless rec...</td>\n",
       "      <td>norelco</td>\n",
       "      <td>all beauty</td>\n",
       "    </tr>\n",
       "    <tr>\n",
       "      <th>B000050B65</th>\n",
       "      <td>norelco 6885xl deluxe quadra action cord/cordl...</td>\n",
       "      <td>norelco 6885xl deluxe quadra action cord/cordl...</td>\n",
       "      <td>norelco</td>\n",
       "      <td>all beauty</td>\n",
       "    </tr>\n",
       "    <tr>\n",
       "      <th>...</th>\n",
       "      <td>...</td>\n",
       "      <td>...</td>\n",
       "      <td>...</td>\n",
       "      <td>...</td>\n",
       "    </tr>\n",
       "    <tr>\n",
       "      <th>B01HH6JEOC</th>\n",
       "      <td>the sims 4 kids room stuff [online game code]....</td>\n",
       "      <td>the sims 4 kids room stuff [online game code]</td>\n",
       "      <td>electronic_arts</td>\n",
       "      <td>video games</td>\n",
       "    </tr>\n",
       "    <tr>\n",
       "      <th>B01HIU43S4</th>\n",
       "      <td>1k games sega mega drive game console with wir...</td>\n",
       "      <td>1k games sega mega drive game console with wir...</td>\n",
       "      <td>sega</td>\n",
       "      <td>video games</td>\n",
       "    </tr>\n",
       "    <tr>\n",
       "      <th>B01HIZF83S</th>\n",
       "      <td>bioshock: the collection - playstation 4. retu...</td>\n",
       "      <td>bioshock: the collection - playstation 4</td>\n",
       "      <td>2k</td>\n",
       "      <td>video games</td>\n",
       "    </tr>\n",
       "    <tr>\n",
       "      <th>B01HJ149LI</th>\n",
       "      <td>god eater resurrection - ps vita [digital code...</td>\n",
       "      <td>god eater resurrection - ps vita [digital code]</td>\n",
       "      <td>bandai</td>\n",
       "      <td>video games</td>\n",
       "    </tr>\n",
       "    <tr>\n",
       "      <th>B01HJ14FDA</th>\n",
       "      <td>jojo eyes of heaven complete bundle - ps4 [dig...</td>\n",
       "      <td>jojo eyes of heaven complete bundle - ps4 [dig...</td>\n",
       "      <td>bandai</td>\n",
       "      <td>video games</td>\n",
       "    </tr>\n",
       "  </tbody>\n",
       "</table>\n",
       "<p>1072953 rows × 4 columns</p>\n",
       "</div>"
      ],
      "text/plain": [
       "                                                         text  \\\n",
       "asin                                                            \n",
       "B000050AUH  philips sonicare standard brush head. sonic wa...   \n",
       "B000050B62  norelco 5841xl deluxe reflex action cord/cordl...   \n",
       "B000050B63  norelco 6826xl quadra action cord/cordless rec...   \n",
       "B000050B64  norelco 6865xl quadra action cord/cordless rec...   \n",
       "B000050B65  norelco 6885xl deluxe quadra action cord/cordl...   \n",
       "...                                                       ...   \n",
       "B01HH6JEOC  the sims 4 kids room stuff [online game code]....   \n",
       "B01HIU43S4  1k games sega mega drive game console with wir...   \n",
       "B01HIZF83S  bioshock: the collection - playstation 4. retu...   \n",
       "B01HJ149LI  god eater resurrection - ps vita [digital code...   \n",
       "B01HJ14FDA  jojo eyes of heaven complete bundle - ps4 [dig...   \n",
       "\n",
       "                                                        title  \\\n",
       "asin                                                            \n",
       "B000050AUH               philips sonicare standard brush head   \n",
       "B000050B62  norelco 5841xl deluxe reflex action cord/cordl...   \n",
       "B000050B63  norelco 6826xl quadra action cord/cordless rec...   \n",
       "B000050B64  norelco 6865xl quadra action cord/cordless rec...   \n",
       "B000050B65  norelco 6885xl deluxe quadra action cord/cordl...   \n",
       "...                                                       ...   \n",
       "B01HH6JEOC      the sims 4 kids room stuff [online game code]   \n",
       "B01HIU43S4  1k games sega mega drive game console with wir...   \n",
       "B01HIZF83S           bioshock: the collection - playstation 4   \n",
       "B01HJ149LI    god eater resurrection - ps vita [digital code]   \n",
       "B01HJ14FDA  jojo eyes of heaven complete bundle - ps4 [dig...   \n",
       "\n",
       "                       brand     main_cat  \n",
       "asin                                       \n",
       "B000050AUH  philips_sonicare   all beauty  \n",
       "B000050B62           norelco   all beauty  \n",
       "B000050B63           norelco   all beauty  \n",
       "B000050B64           norelco   all beauty  \n",
       "B000050B65           norelco   all beauty  \n",
       "...                      ...          ...  \n",
       "B01HH6JEOC   electronic_arts  video games  \n",
       "B01HIU43S4              sega  video games  \n",
       "B01HIZF83S                2k  video games  \n",
       "B01HJ149LI            bandai  video games  \n",
       "B01HJ14FDA            bandai  video games  \n",
       "\n",
       "[1072953 rows x 4 columns]"
      ]
     },
     "execution_count": 15,
     "metadata": {},
     "output_type": "execute_result"
    },
    {
     "data": {
      "application/javascript": [
       "\n",
       "            setTimeout(function() {\n",
       "                var nbb_cell_id = 15;\n",
       "                var nbb_unformatted_code = \"size_reduct = 1 - (len(pruned_df) / len(df))\\nprint(f\\\"Reduced n_samples by {size_reduct:.0%}\\\")\\npruned_df\";\n",
       "                var nbb_formatted_code = \"size_reduct = 1 - (len(pruned_df) / len(df))\\nprint(f\\\"Reduced n_samples by {size_reduct:.0%}\\\")\\npruned_df\";\n",
       "                var nbb_cells = Jupyter.notebook.get_cells();\n",
       "                for (var i = 0; i < nbb_cells.length; ++i) {\n",
       "                    if (nbb_cells[i].input_prompt_number == nbb_cell_id) {\n",
       "                        if (nbb_cells[i].get_text() == nbb_unformatted_code) {\n",
       "                             nbb_cells[i].set_text(nbb_formatted_code);\n",
       "                        }\n",
       "                        break;\n",
       "                    }\n",
       "                }\n",
       "            }, 500);\n",
       "            "
      ],
      "text/plain": [
       "<IPython.core.display.Javascript object>"
      ]
     },
     "metadata": {},
     "output_type": "display_data"
    }
   ],
   "source": [
    "size_reduct = 1 - (len(pruned_df) / len(df))\n",
    "print(f\"Reduced n_samples by {size_reduct:.0%}\")\n",
    "pruned_df"
   ]
  },
  {
   "cell_type": "code",
   "execution_count": 16,
   "metadata": {
    "ExecuteTime": {
     "end_time": "2021-09-18T20:29:29.767353Z",
     "start_time": "2021-09-18T20:29:29.439348Z"
    }
   },
   "outputs": [
    {
     "data": {
      "text/plain": [
       "9117"
      ]
     },
     "execution_count": 16,
     "metadata": {},
     "output_type": "execute_result"
    },
    {
     "data": {
      "application/javascript": [
       "\n",
       "            setTimeout(function() {\n",
       "                var nbb_cell_id = 16;\n",
       "                var nbb_unformatted_code = \"pruned_df.brand.nunique()\";\n",
       "                var nbb_formatted_code = \"pruned_df.brand.nunique()\";\n",
       "                var nbb_cells = Jupyter.notebook.get_cells();\n",
       "                for (var i = 0; i < nbb_cells.length; ++i) {\n",
       "                    if (nbb_cells[i].input_prompt_number == nbb_cell_id) {\n",
       "                        if (nbb_cells[i].get_text() == nbb_unformatted_code) {\n",
       "                             nbb_cells[i].set_text(nbb_formatted_code);\n",
       "                        }\n",
       "                        break;\n",
       "                    }\n",
       "                }\n",
       "            }, 500);\n",
       "            "
      ],
      "text/plain": [
       "<IPython.core.display.Javascript object>"
      ]
     },
     "metadata": {},
     "output_type": "display_data"
    }
   ],
   "source": [
    "pruned_df.brand.nunique()"
   ]
  },
  {
   "cell_type": "markdown",
   "metadata": {},
   "source": [
    "This is an enormous dataset, so the top 1% of brands in each category leaves me with ~9k brands. That's a fairly large, yet manageable, number."
   ]
  },
  {
   "cell_type": "code",
   "execution_count": 17,
   "metadata": {
    "ExecuteTime": {
     "end_time": "2021-09-18T20:29:30.744351Z",
     "start_time": "2021-09-18T20:29:29.768351Z"
    }
   },
   "outputs": [
    {
     "data": {
      "image/png": "[encoded data removed]",
      "text/plain": [
       "<Figure size 720x360 with 1 Axes>"
      ]
     },
     "metadata": {
      "needs_background": "light"
     },
     "output_type": "display_data"
    },
    {
     "data": {
      "application/javascript": [
       "\n",
       "            setTimeout(function() {\n",
       "                var nbb_cell_id = 17;\n",
       "                var nbb_unformatted_code = \"plot_brand_size_dist(pruned_df, tick_prec=1)\";\n",
       "                var nbb_formatted_code = \"plot_brand_size_dist(pruned_df, tick_prec=1)\";\n",
       "                var nbb_cells = Jupyter.notebook.get_cells();\n",
       "                for (var i = 0; i < nbb_cells.length; ++i) {\n",
       "                    if (nbb_cells[i].input_prompt_number == nbb_cell_id) {\n",
       "                        if (nbb_cells[i].get_text() == nbb_unformatted_code) {\n",
       "                             nbb_cells[i].set_text(nbb_formatted_code);\n",
       "                        }\n",
       "                        break;\n",
       "                    }\n",
       "                }\n",
       "            }, 500);\n",
       "            "
      ],
      "text/plain": [
       "<IPython.core.display.Javascript object>"
      ]
     },
     "metadata": {},
     "output_type": "display_data"
    }
   ],
   "source": [
    "plot_brand_size_dist(pruned_df, tick_prec=1)"
   ]
  },
  {
   "cell_type": "markdown",
   "metadata": {},
   "source": [
    "Although I only took the top 1% of brands in each category, most of the brands have 10-50 products. That seems like a healthy number.\n",
    "\n",
    "The histogram also shows that there are ~400 single-product brands from the protected categories. That's fine. Those terms won't be very useful, but there's plenty of other useful information in those categories."
   ]
  },
  {
   "cell_type": "code",
   "execution_count": 18,
   "metadata": {
    "ExecuteTime": {
     "end_time": "2021-09-18T20:29:31.469651Z",
     "start_time": "2021-09-18T20:29:30.745349Z"
    }
   },
   "outputs": [
    {
     "data": {
      "image/png": "[encoded data removed]",
      "text/plain": [
       "<Figure size 432x720 with 1 Axes>"
      ]
     },
     "metadata": {
      "needs_background": "light"
     },
     "output_type": "display_data"
    },
    {
     "data": {
      "application/javascript": [
       "\n",
       "            setTimeout(function() {\n",
       "                var nbb_cell_id = 18;\n",
       "                var nbb_unformatted_code = \"ax = plotting.plots.countplot(\\n    pruned_df.loc[:, \\\"main_cat\\\"], log_scale=True, size=(6, 10)\\n)\\nax.xaxis.set_major_formatter(plotting.big_number_formatter())\";\n",
       "                var nbb_formatted_code = \"ax = plotting.plots.countplot(\\n    pruned_df.loc[:, \\\"main_cat\\\"], log_scale=True, size=(6, 10)\\n)\\nax.xaxis.set_major_formatter(plotting.big_number_formatter())\";\n",
       "                var nbb_cells = Jupyter.notebook.get_cells();\n",
       "                for (var i = 0; i < nbb_cells.length; ++i) {\n",
       "                    if (nbb_cells[i].input_prompt_number == nbb_cell_id) {\n",
       "                        if (nbb_cells[i].get_text() == nbb_unformatted_code) {\n",
       "                             nbb_cells[i].set_text(nbb_formatted_code);\n",
       "                        }\n",
       "                        break;\n",
       "                    }\n",
       "                }\n",
       "            }, 500);\n",
       "            "
      ],
      "text/plain": [
       "<IPython.core.display.Javascript object>"
      ]
     },
     "metadata": {},
     "output_type": "display_data"
    }
   ],
   "source": [
    "ax = plotting.plots.countplot(\n",
    "    pruned_df.loc[:, \"main_cat\"], log_scale=True, size=(6, 10)\n",
    ")\n",
    "ax.xaxis.set_major_formatter(plotting.big_number_formatter())"
   ]
  },
  {
   "cell_type": "code",
   "execution_count": 19,
   "metadata": {
    "ExecuteTime": {
     "end_time": "2021-09-18T20:29:31.570623Z",
     "start_time": "2021-09-18T20:29:31.470623Z"
    }
   },
   "outputs": [
    {
     "data": {
      "text/html": [
       "<div>\n",
       "<style scoped>\n",
       "    .dataframe tbody tr th:only-of-type {\n",
       "        vertical-align: middle;\n",
       "    }\n",
       "\n",
       "    .dataframe tbody tr th {\n",
       "        vertical-align: top;\n",
       "    }\n",
       "\n",
       "    .dataframe thead th {\n",
       "        text-align: right;\n",
       "    }\n",
       "</style>\n",
       "<table border=\"1\" class=\"dataframe\">\n",
       "  <thead>\n",
       "    <tr style=\"text-align: right;\">\n",
       "      <th></th>\n",
       "      <th>text</th>\n",
       "      <th>title</th>\n",
       "      <th>brand</th>\n",
       "      <th>main_cat</th>\n",
       "    </tr>\n",
       "    <tr>\n",
       "      <th>asin</th>\n",
       "      <th></th>\n",
       "      <th></th>\n",
       "      <th></th>\n",
       "      <th></th>\n",
       "    </tr>\n",
       "  </thead>\n",
       "  <tbody>\n",
       "    <tr>\n",
       "      <th>B000050AUH</th>\n",
       "      <td>philips sonicare standard brush head. sonic wa...</td>\n",
       "      <td>philips sonicare standard brush head</td>\n",
       "      <td>philips_sonicare</td>\n",
       "      <td>all beauty</td>\n",
       "    </tr>\n",
       "    <tr>\n",
       "      <th>B000050B62</th>\n",
       "      <td>norelco 5841xl deluxe reflex action cord/cordl...</td>\n",
       "      <td>norelco 5841xl deluxe reflex action cord/cordl...</td>\n",
       "      <td>norelco</td>\n",
       "      <td>all beauty</td>\n",
       "    </tr>\n",
       "    <tr>\n",
       "      <th>B000050B63</th>\n",
       "      <td>norelco 6826xl quadra action cord/cordless rec...</td>\n",
       "      <td>norelco 6826xl quadra action cord/cordless rec...</td>\n",
       "      <td>norelco</td>\n",
       "      <td>all beauty</td>\n",
       "    </tr>\n",
       "    <tr>\n",
       "      <th>B000050B64</th>\n",
       "      <td>norelco 6865xl quadra action cord/cordless rec...</td>\n",
       "      <td>norelco 6865xl quadra action cord/cordless rec...</td>\n",
       "      <td>norelco</td>\n",
       "      <td>all beauty</td>\n",
       "    </tr>\n",
       "    <tr>\n",
       "      <th>B000050B65</th>\n",
       "      <td>norelco 6885xl deluxe quadra action cord/cordl...</td>\n",
       "      <td>norelco 6885xl deluxe quadra action cord/cordl...</td>\n",
       "      <td>norelco</td>\n",
       "      <td>all beauty</td>\n",
       "    </tr>\n",
       "  </tbody>\n",
       "</table>\n",
       "</div>"
      ],
      "text/plain": [
       "                                                         text  \\\n",
       "asin                                                            \n",
       "B000050AUH  philips sonicare standard brush head. sonic wa...   \n",
       "B000050B62  norelco 5841xl deluxe reflex action cord/cordl...   \n",
       "B000050B63  norelco 6826xl quadra action cord/cordless rec...   \n",
       "B000050B64  norelco 6865xl quadra action cord/cordless rec...   \n",
       "B000050B65  norelco 6885xl deluxe quadra action cord/cordl...   \n",
       "\n",
       "                                                        title  \\\n",
       "asin                                                            \n",
       "B000050AUH               philips sonicare standard brush head   \n",
       "B000050B62  norelco 5841xl deluxe reflex action cord/cordl...   \n",
       "B000050B63  norelco 6826xl quadra action cord/cordless rec...   \n",
       "B000050B64  norelco 6865xl quadra action cord/cordless rec...   \n",
       "B000050B65  norelco 6885xl deluxe quadra action cord/cordl...   \n",
       "\n",
       "                       brand    main_cat  \n",
       "asin                                      \n",
       "B000050AUH  philips_sonicare  all beauty  \n",
       "B000050B62           norelco  all beauty  \n",
       "B000050B63           norelco  all beauty  \n",
       "B000050B64           norelco  all beauty  \n",
       "B000050B65           norelco  all beauty  "
      ]
     },
     "execution_count": 19,
     "metadata": {},
     "output_type": "execute_result"
    },
    {
     "data": {
      "application/javascript": [
       "\n",
       "            setTimeout(function() {\n",
       "                var nbb_cell_id = 19;\n",
       "                var nbb_unformatted_code = \"df = pruned_df\\ndf.head()\";\n",
       "                var nbb_formatted_code = \"df = pruned_df\\ndf.head()\";\n",
       "                var nbb_cells = Jupyter.notebook.get_cells();\n",
       "                for (var i = 0; i < nbb_cells.length; ++i) {\n",
       "                    if (nbb_cells[i].input_prompt_number == nbb_cell_id) {\n",
       "                        if (nbb_cells[i].get_text() == nbb_unformatted_code) {\n",
       "                             nbb_cells[i].set_text(nbb_formatted_code);\n",
       "                        }\n",
       "                        break;\n",
       "                    }\n",
       "                }\n",
       "            }, 500);\n",
       "            "
      ],
      "text/plain": [
       "<IPython.core.display.Javascript object>"
      ]
     },
     "metadata": {},
     "output_type": "display_data"
    }
   ],
   "source": [
    "df = pruned_df\n",
    "df.head()"
   ]
  },
  {
   "cell_type": "markdown",
   "metadata": {},
   "source": [
    "I check the brands of 'arts, crafts, & sewing' as a basic sanity check."
   ]
  },
  {
   "cell_type": "code",
   "execution_count": 20,
   "metadata": {
    "ExecuteTime": {
     "end_time": "2021-09-18T20:29:31.687624Z",
     "start_time": "2021-09-18T20:29:31.571622Z"
    }
   },
   "outputs": [
    {
     "data": {
      "text/plain": [
       "lantern_press               1030\n",
       "3drose                       829\n",
       "beadaholique                 795\n",
       "sizzix                       696\n",
       "spellbinders                 597\n",
       "                            ... \n",
       "moda                          86\n",
       "crafter_companion             85\n",
       "unique_wood_shapes            85\n",
       "vogue_fabrics                 83\n",
       "sparkles_make_it_special      82\n",
       "Name: brand, Length: 96, dtype: int64"
      ]
     },
     "execution_count": 20,
     "metadata": {},
     "output_type": "execute_result"
    },
    {
     "data": {
      "application/javascript": [
       "\n",
       "            setTimeout(function() {\n",
       "                var nbb_cell_id = 20;\n",
       "                var nbb_unformatted_code = \"df.groupby(\\\"main_cat\\\").get_group(\\\"arts, crafts & sewing\\\").brand.value_counts()\";\n",
       "                var nbb_formatted_code = \"df.groupby(\\\"main_cat\\\").get_group(\\\"arts, crafts & sewing\\\").brand.value_counts()\";\n",
       "                var nbb_cells = Jupyter.notebook.get_cells();\n",
       "                for (var i = 0; i < nbb_cells.length; ++i) {\n",
       "                    if (nbb_cells[i].input_prompt_number == nbb_cell_id) {\n",
       "                        if (nbb_cells[i].get_text() == nbb_unformatted_code) {\n",
       "                             nbb_cells[i].set_text(nbb_formatted_code);\n",
       "                        }\n",
       "                        break;\n",
       "                    }\n",
       "                }\n",
       "            }, 500);\n",
       "            "
      ],
      "text/plain": [
       "<IPython.core.display.Javascript object>"
      ]
     },
     "metadata": {},
     "output_type": "display_data"
    }
   ],
   "source": [
    "df.groupby(\"main_cat\").get_group(\"arts, crafts & sewing\").brand.value_counts()"
   ]
  },
  {
   "cell_type": "markdown",
   "metadata": {},
   "source": [
    "Seems to be a healthy number."
   ]
  },
  {
   "cell_type": "markdown",
   "metadata": {},
   "source": [
    "## Engineering the Vocabulary\n",
    "\n",
    "I engineer the model's vocabulary by preprocessing the text, developing a custom tokenizer, and constructing multi-word expressions. The purpose of the model is to assimilate novel products into Amazon's existing classification scheme. If the vocabulary is to serve that purpose, it will require some *a priori* decision-making.\n",
    "\n",
    "To be clear, I don't intend to feed `TfidfVectorizer` a fixed vocabulary, because that would restrict my ability to tune the vocabulary later on. I plan on letting the vectorizer learn the vocabulary on its own, but I want it to learn the *right* vocabulary.\n",
    "\n",
    "Before making any decisions, I define a function for creating a vocabulary from a sample of the corpus."
   ]
  },
  {
   "cell_type": "code",
   "execution_count": 21,
   "metadata": {
    "ExecuteTime": {
     "end_time": "2021-09-18T20:29:31.810624Z",
     "start_time": "2021-09-18T20:29:31.688621Z"
    }
   },
   "outputs": [
    {
     "data": {
      "application/javascript": [
       "\n",
       "            setTimeout(function() {\n",
       "                var nbb_cell_id = 21;\n",
       "                var nbb_unformatted_code = \"def build_sample_vocab(\\n    corpus,\\n    n_docs,\\n    *,\\n    tokenizer=None,\\n    sortby=\\\"length\\\",\\n    random_state=363,\\n    n_jobs=-1,\\n):\\n    # Get sample of corpus\\n    if n_docs is None:\\n        samp_corpus = corpus\\n    else:\\n        samp_corpus = corpus.sample(n_docs, random_state=random_state)\\n\\n    # Tokenize\\n    if tokenizer is None:\\n        # Check if already tokenized\\n        if not pd.api.types.is_list_like(corpus.iloc[0]):\\n            # Space tokenize if necessary\\n            samp_corpus = lang.space_tokenize(samp_corpus, n_jobs=n_jobs)\\n    else:\\n        samp_corpus = lang.process_strings(\\n            samp_corpus,\\n            tokenizer,\\n            n_jobs=n_jobs,\\n            show_bar=False,\\n        )\\n\\n    # Build vocabulary\\n    vocab = samp_corpus.explode().value_counts()\\n    vocab = vocab.reset_index(name=\\\"freq\\\").rename(columns={\\\"index\\\": \\\"term\\\"})\\n\\n    # Add additional stats\\n    vocab[\\\"length\\\"] = vocab.loc[:, \\\"term\\\"].str.len()\\n    vocab[\\\"uniq_ratio\\\"] = vocab.loc[:, \\\"term\\\"].map(lang.uniq_ratio)\\n\\n    return vocab.sort_values(sortby, ascending=False)\";\n",
       "                var nbb_formatted_code = \"def build_sample_vocab(\\n    corpus,\\n    n_docs,\\n    *,\\n    tokenizer=None,\\n    sortby=\\\"length\\\",\\n    random_state=363,\\n    n_jobs=-1,\\n):\\n    # Get sample of corpus\\n    if n_docs is None:\\n        samp_corpus = corpus\\n    else:\\n        samp_corpus = corpus.sample(n_docs, random_state=random_state)\\n\\n    # Tokenize\\n    if tokenizer is None:\\n        # Check if already tokenized\\n        if not pd.api.types.is_list_like(corpus.iloc[0]):\\n            # Space tokenize if necessary\\n            samp_corpus = lang.space_tokenize(samp_corpus, n_jobs=n_jobs)\\n    else:\\n        samp_corpus = lang.process_strings(\\n            samp_corpus,\\n            tokenizer,\\n            n_jobs=n_jobs,\\n            show_bar=False,\\n        )\\n\\n    # Build vocabulary\\n    vocab = samp_corpus.explode().value_counts()\\n    vocab = vocab.reset_index(name=\\\"freq\\\").rename(columns={\\\"index\\\": \\\"term\\\"})\\n\\n    # Add additional stats\\n    vocab[\\\"length\\\"] = vocab.loc[:, \\\"term\\\"].str.len()\\n    vocab[\\\"uniq_ratio\\\"] = vocab.loc[:, \\\"term\\\"].map(lang.uniq_ratio)\\n\\n    return vocab.sort_values(sortby, ascending=False)\";\n",
       "                var nbb_cells = Jupyter.notebook.get_cells();\n",
       "                for (var i = 0; i < nbb_cells.length; ++i) {\n",
       "                    if (nbb_cells[i].input_prompt_number == nbb_cell_id) {\n",
       "                        if (nbb_cells[i].get_text() == nbb_unformatted_code) {\n",
       "                             nbb_cells[i].set_text(nbb_formatted_code);\n",
       "                        }\n",
       "                        break;\n",
       "                    }\n",
       "                }\n",
       "            }, 500);\n",
       "            "
      ],
      "text/plain": [
       "<IPython.core.display.Javascript object>"
      ]
     },
     "metadata": {},
     "output_type": "display_data"
    }
   ],
   "source": [
    "def build_sample_vocab(\n",
    "    corpus,\n",
    "    n_docs,\n",
    "    *,\n",
    "    tokenizer=None,\n",
    "    sortby=\"length\",\n",
    "    random_state=363,\n",
    "    n_jobs=-1,\n",
    "):\n",
    "    # Get sample of corpus\n",
    "    if n_docs is None:\n",
    "        samp_corpus = corpus\n",
    "    else:\n",
    "        samp_corpus = corpus.sample(n_docs, random_state=random_state)\n",
    "\n",
    "    # Tokenize\n",
    "    if tokenizer is None:\n",
    "        # Check if already tokenized\n",
    "        if not pd.api.types.is_list_like(corpus.iloc[0]):\n",
    "            # Space tokenize if necessary\n",
    "            samp_corpus = lang.space_tokenize(samp_corpus, n_jobs=n_jobs)\n",
    "    else:\n",
    "        samp_corpus = lang.process_strings(\n",
    "            samp_corpus,\n",
    "            tokenizer,\n",
    "            n_jobs=n_jobs,\n",
    "            show_bar=False,\n",
    "        )\n",
    "\n",
    "    # Build vocabulary\n",
    "    vocab = samp_corpus.explode().value_counts()\n",
    "    vocab = vocab.reset_index(name=\"freq\").rename(columns={\"index\": \"term\"})\n",
    "\n",
    "    # Add additional stats\n",
    "    vocab[\"length\"] = vocab.loc[:, \"term\"].str.len()\n",
    "    vocab[\"uniq_ratio\"] = vocab.loc[:, \"term\"].map(lang.uniq_ratio)\n",
    "\n",
    "    return vocab.sort_values(sortby, ascending=False)"
   ]
  },
  {
   "cell_type": "markdown",
   "metadata": {},
   "source": [
    "### Optimize the Tokenizer?\n",
    "\n",
    "There are many tokenizers on the market. Shouldn't I grid-search over them all to maximize my accuracy score?\n",
    "\n",
    "No. The choice of tokenizer requires some *human* intelligence. The purpose of the model is to classify new products into Amazon's existing categories. High test scores do not always indicate a better model&mdash;sometimes, they reflect overfitting.\n",
    "\n",
    "Take for example `nltk.wordpunct_tokenize`. This tokenizer captures arbitrarily long sequences of punctuation in addition to normal words."
   ]
  },
  {
   "cell_type": "code",
   "execution_count": 22,
   "metadata": {
    "ExecuteTime": {
     "end_time": "2021-09-18T20:29:33.573937Z",
     "start_time": "2021-09-18T20:29:31.811625Z"
    },
    "run_control": {
     "marked": false
    }
   },
   "outputs": [
    {
     "data": {
      "text/plain": [
       "21402    !~~~~~~~~~~~~~~~~~\n",
       "64462     !!!**************\n",
       "56958         !!!!~~~~~~~~~\n",
       "54699              !!~~~~~~\n",
       "52423              !!!!!!!.\n",
       "51509               !!!~~~~\n",
       "58601               !!!!!!!\n",
       "41926               !!!!!!.\n",
       "51373                !!!!!.\n",
       "63522                 !!!),\n",
       "Name: term, dtype: object"
      ]
     },
     "execution_count": 22,
     "metadata": {},
     "output_type": "execute_result"
    },
    {
     "data": {
      "application/javascript": [
       "\n",
       "            setTimeout(function() {\n",
       "                var nbb_cell_id = 22;\n",
       "                var nbb_unformatted_code = \"# Get small sample of corpus\\nwordpunct_vocab = build_sample_vocab(\\n    df.loc[:, \\\"text\\\"], 10 ** 4, tokenizer=nltk.wordpunct_tokenize\\n)\\n\\n# Slice out some punctuation\\nwordpunct_vocab.loc[wordpunct_vocab.term.str.startswith(\\\"!\\\"), \\\"term\\\"].head(10)\";\n",
       "                var nbb_formatted_code = \"# Get small sample of corpus\\nwordpunct_vocab = build_sample_vocab(\\n    df.loc[:, \\\"text\\\"], 10 ** 4, tokenizer=nltk.wordpunct_tokenize\\n)\\n\\n# Slice out some punctuation\\nwordpunct_vocab.loc[wordpunct_vocab.term.str.startswith(\\\"!\\\"), \\\"term\\\"].head(10)\";\n",
       "                var nbb_cells = Jupyter.notebook.get_cells();\n",
       "                for (var i = 0; i < nbb_cells.length; ++i) {\n",
       "                    if (nbb_cells[i].input_prompt_number == nbb_cell_id) {\n",
       "                        if (nbb_cells[i].get_text() == nbb_unformatted_code) {\n",
       "                             nbb_cells[i].set_text(nbb_formatted_code);\n",
       "                        }\n",
       "                        break;\n",
       "                    }\n",
       "                }\n",
       "            }, 500);\n",
       "            "
      ],
      "text/plain": [
       "<IPython.core.display.Javascript object>"
      ]
     },
     "metadata": {},
     "output_type": "display_data"
    }
   ],
   "source": [
    "# Get small sample of corpus\n",
    "wordpunct_vocab = build_sample_vocab(\n",
    "    df.loc[:, \"text\"], 10 ** 4, tokenizer=nltk.wordpunct_tokenize\n",
    ")\n",
    "\n",
    "# Slice out some punctuation\n",
    "wordpunct_vocab.loc[wordpunct_vocab.term.str.startswith(\"!\"), \"term\"].head(10)"
   ]
  },
  {
   "cell_type": "code",
   "execution_count": 23,
   "metadata": {
    "ExecuteTime": {
     "end_time": "2021-09-18T20:29:33.671939Z",
     "start_time": "2021-09-18T20:29:33.576931Z"
    }
   },
   "outputs": [
    {
     "data": {
      "application/javascript": [
       "\n",
       "            setTimeout(function() {\n",
       "                var nbb_cell_id = 23;\n",
       "                var nbb_unformatted_code = \"del wordpunct_vocab\";\n",
       "                var nbb_formatted_code = \"del wordpunct_vocab\";\n",
       "                var nbb_cells = Jupyter.notebook.get_cells();\n",
       "                for (var i = 0; i < nbb_cells.length; ++i) {\n",
       "                    if (nbb_cells[i].input_prompt_number == nbb_cell_id) {\n",
       "                        if (nbb_cells[i].get_text() == nbb_unformatted_code) {\n",
       "                             nbb_cells[i].set_text(nbb_formatted_code);\n",
       "                        }\n",
       "                        break;\n",
       "                    }\n",
       "                }\n",
       "            }, 500);\n",
       "            "
      ],
      "text/plain": [
       "<IPython.core.display.Javascript object>"
      ]
     },
     "metadata": {},
     "output_type": "display_data"
    }
   ],
   "source": [
    "del wordpunct_vocab"
   ]
  },
  {
   "cell_type": "markdown",
   "metadata": {},
   "source": [
    " The problem is that these sequences are *artifacts* of this particular dataset. Suppose that the model learns to associate '#############' with the 'automotive' category and '&&&&&&&&!?!?!?' with 'baby'. That might be a real pattern in this particular dataset, but it's useless in general.\n",
    "\n",
    "I begin with the the Scikit-Learn default tokenizer that I used on the brands. It captures sequences of two or more alphanumeric characters within a word boundary. It ignores punctuation and single letters, which results in very clean tokens. For example, 'Frank's' becomes 'Frank'. It's also lightning fast because it's just a regular expression."
   ]
  },
  {
   "cell_type": "code",
   "execution_count": 24,
   "metadata": {
    "ExecuteTime": {
     "end_time": "2021-09-18T20:29:37.393908Z",
     "start_time": "2021-09-18T20:29:33.672907Z"
    }
   },
   "outputs": [
    {
     "data": {
      "text/plain": [
       "55021    1751841921932592802854474645555585856556566571250\n",
       "42441                    125112522450265229212825921906579\n",
       "45753                                    00091352603400000\n",
       "37600                                       32632405011001\n",
       "22410                                        7636490013904\n",
       "52100                                        4051771122824\n",
       "63497                                        0000772024105\n",
       "53533                                        4051771494686\n",
       "46627                                        8051272893106\n",
       "42321                                        0679420370927\n",
       "Name: term, dtype: object"
      ]
     },
     "execution_count": 24,
     "metadata": {},
     "output_type": "execute_result"
    },
    {
     "data": {
      "application/javascript": [
       "\n",
       "            setTimeout(function() {\n",
       "                var nbb_cell_id = 24;\n",
       "                var nbb_unformatted_code = \"# Get small sample of corpus\\nsklearn_vocab = build_sample_vocab(\\n    df.loc[:, \\\"text\\\"], 10 ** 4, tokenizer=sklearn_tokenize\\n)\\nsklearn_vocab.sort_values(\\\"length\\\", ascending=False, inplace=True)\\n\\n# Slice out numeric strings, sort by length\\nsklearn_vocab.loc[sklearn_vocab.term.str.isnumeric(), \\\"term\\\"].head(10)\";\n",
       "                var nbb_formatted_code = \"# Get small sample of corpus\\nsklearn_vocab = build_sample_vocab(\\n    df.loc[:, \\\"text\\\"], 10 ** 4, tokenizer=sklearn_tokenize\\n)\\nsklearn_vocab.sort_values(\\\"length\\\", ascending=False, inplace=True)\\n\\n# Slice out numeric strings, sort by length\\nsklearn_vocab.loc[sklearn_vocab.term.str.isnumeric(), \\\"term\\\"].head(10)\";\n",
       "                var nbb_cells = Jupyter.notebook.get_cells();\n",
       "                for (var i = 0; i < nbb_cells.length; ++i) {\n",
       "                    if (nbb_cells[i].input_prompt_number == nbb_cell_id) {\n",
       "                        if (nbb_cells[i].get_text() == nbb_unformatted_code) {\n",
       "                             nbb_cells[i].set_text(nbb_formatted_code);\n",
       "                        }\n",
       "                        break;\n",
       "                    }\n",
       "                }\n",
       "            }, 500);\n",
       "            "
      ],
      "text/plain": [
       "<IPython.core.display.Javascript object>"
      ]
     },
     "metadata": {},
     "output_type": "display_data"
    }
   ],
   "source": [
    "# Get small sample of corpus\n",
    "sklearn_vocab = build_sample_vocab(\n",
    "    df.loc[:, \"text\"], 10 ** 4, tokenizer=sklearn_tokenize\n",
    ")\n",
    "sklearn_vocab.sort_values(\"length\", ascending=False, inplace=True)\n",
    "\n",
    "# Slice out numeric strings, sort by length\n",
    "sklearn_vocab.loc[sklearn_vocab.term.str.isnumeric(), \"term\"].head(10)"
   ]
  },
  {
   "cell_type": "code",
   "execution_count": 25,
   "metadata": {
    "ExecuteTime": {
     "end_time": "2021-09-18T20:29:37.488908Z",
     "start_time": "2021-09-18T20:29:37.394906Z"
    }
   },
   "outputs": [
    {
     "data": {
      "application/javascript": [
       "\n",
       "            setTimeout(function() {\n",
       "                var nbb_cell_id = 25;\n",
       "                var nbb_unformatted_code = \"del sklearn_vocab\";\n",
       "                var nbb_formatted_code = \"del sklearn_vocab\";\n",
       "                var nbb_cells = Jupyter.notebook.get_cells();\n",
       "                for (var i = 0; i < nbb_cells.length; ++i) {\n",
       "                    if (nbb_cells[i].input_prompt_number == nbb_cell_id) {\n",
       "                        if (nbb_cells[i].get_text() == nbb_unformatted_code) {\n",
       "                             nbb_cells[i].set_text(nbb_formatted_code);\n",
       "                        }\n",
       "                        break;\n",
       "                    }\n",
       "                }\n",
       "            }, 500);\n",
       "            "
      ],
      "text/plain": [
       "<IPython.core.display.Javascript object>"
      ]
     },
     "metadata": {},
     "output_type": "display_data"
    }
   ],
   "source": [
    "del sklearn_vocab"
   ]
  },
  {
   "cell_type": "markdown",
   "metadata": {},
   "source": [
    "One problem with the Scikit-Learn tokenizer is that it produces code-like numeric sequences. My goal is not to create a model which picks up on ultra-rare ID numbers and codes for specific products, but to create a model which recognizes broad patterns in **natural language**.\n",
    "\n",
    "I define my own tokenizer in the cell below."
   ]
  },
  {
   "cell_type": "code",
   "execution_count": 26,
   "metadata": {
    "ExecuteTime": {
     "end_time": "2021-09-18T20:29:37.607909Z",
     "start_time": "2021-09-18T20:29:37.489912Z"
    }
   },
   "outputs": [
    {
     "data": {
      "application/javascript": [
       "\n",
       "            setTimeout(function() {\n",
       "                var nbb_cell_id = 26;\n",
       "                var nbb_unformatted_code = \"def regex_tokenize(docs, pattern=r\\\"(?i)\\\\b[a-z_]{2,}\\\\b\\\", n_jobs=None):\\n    pattern = re.compile(pattern)\\n    return lang.process_strings(\\n        docs, pattern.findall, n_jobs=n_jobs, bar_desc=\\\"regex_tokenize\\\"\\n    )\";\n",
       "                var nbb_formatted_code = \"def regex_tokenize(docs, pattern=r\\\"(?i)\\\\b[a-z_]{2,}\\\\b\\\", n_jobs=None):\\n    pattern = re.compile(pattern)\\n    return lang.process_strings(\\n        docs, pattern.findall, n_jobs=n_jobs, bar_desc=\\\"regex_tokenize\\\"\\n    )\";\n",
       "                var nbb_cells = Jupyter.notebook.get_cells();\n",
       "                for (var i = 0; i < nbb_cells.length; ++i) {\n",
       "                    if (nbb_cells[i].input_prompt_number == nbb_cell_id) {\n",
       "                        if (nbb_cells[i].get_text() == nbb_unformatted_code) {\n",
       "                             nbb_cells[i].set_text(nbb_formatted_code);\n",
       "                        }\n",
       "                        break;\n",
       "                    }\n",
       "                }\n",
       "            }, 500);\n",
       "            "
      ],
      "text/plain": [
       "<IPython.core.display.Javascript object>"
      ]
     },
     "metadata": {},
     "output_type": "display_data"
    }
   ],
   "source": [
    "def regex_tokenize(docs, pattern=r\"(?i)\\b[a-z_]{2,}\\b\", n_jobs=None):\n",
    "    pattern = re.compile(pattern)\n",
    "    return lang.process_strings(\n",
    "        docs, pattern.findall, n_jobs=n_jobs, bar_desc=\"regex_tokenize\"\n",
    "    )"
   ]
  },
  {
   "cell_type": "markdown",
   "metadata": {},
   "source": [
    "The tokenizer I created above captures sequences of two or more alphabetic ASCII characters (plus underscore) `'[a-z_]{2,}'` within word boundaries `'\\b'` while ignoring case `(?i)`. It ignores non-ASCII characters including accented letters, which I will substitute with their non-accented counterparts."
   ]
  },
  {
   "cell_type": "code",
   "execution_count": 27,
   "metadata": {
    "ExecuteTime": {
     "end_time": "2021-09-18T20:29:48.833685Z",
     "start_time": "2021-09-18T20:29:37.608907Z"
    },
    "run_control": {
     "marked": false
    }
   },
   "outputs": [
    {
     "data": {
      "application/vnd.jupyter.widget-view+json": {
       "model_id": "2fb781e084aa441c9dc0f979bafc6ec6",
       "version_major": 2,
       "version_minor": 0
      },
      "text/plain": [
       "force_ascii:   0%|          | 0/1072953 [00:00<?, ?it/s]"
      ]
     },
     "metadata": {},
     "output_type": "display_data"
    },
    {
     "data": {
      "text/plain": [
       "asin\n",
       "B000050AUH    philips sonicare standard brush head. sonic wa...\n",
       "B000050B62    norelco 5841xl deluxe reflex action cord/cordl...\n",
       "B000050B63    norelco 6826xl quadra action cord/cordless rec...\n",
       "B000050B64    norelco 6865xl quadra action cord/cordless rec...\n",
       "B000050B65    norelco 6885xl deluxe quadra action cord/cordl...\n",
       "Name: text, dtype: object"
      ]
     },
     "execution_count": 27,
     "metadata": {},
     "output_type": "execute_result"
    },
    {
     "data": {
      "application/javascript": [
       "\n",
       "            setTimeout(function() {\n",
       "                var nbb_cell_id = 27;\n",
       "                var nbb_unformatted_code = \"df[\\\"text\\\"] = lang.force_ascii(df.loc[:, \\\"text\\\"], n_jobs=-1)\\ndf[\\\"text\\\"].head()\";\n",
       "                var nbb_formatted_code = \"df[\\\"text\\\"] = lang.force_ascii(df.loc[:, \\\"text\\\"], n_jobs=-1)\\ndf[\\\"text\\\"].head()\";\n",
       "                var nbb_cells = Jupyter.notebook.get_cells();\n",
       "                for (var i = 0; i < nbb_cells.length; ++i) {\n",
       "                    if (nbb_cells[i].input_prompt_number == nbb_cell_id) {\n",
       "                        if (nbb_cells[i].get_text() == nbb_unformatted_code) {\n",
       "                             nbb_cells[i].set_text(nbb_formatted_code);\n",
       "                        }\n",
       "                        break;\n",
       "                    }\n",
       "                }\n",
       "            }, 500);\n",
       "            "
      ],
      "text/plain": [
       "<IPython.core.display.Javascript object>"
      ]
     },
     "metadata": {},
     "output_type": "display_data"
    }
   ],
   "source": [
    "df[\"text\"] = lang.force_ascii(df.loc[:, \"text\"], n_jobs=-1)\n",
    "df[\"text\"].head()"
   ]
  },
  {
   "cell_type": "markdown",
   "metadata": {},
   "source": [
    "One thing my tokenizer doesn't address is tokens that are too long."
   ]
  },
  {
   "cell_type": "code",
   "execution_count": 28,
   "metadata": {
    "ExecuteTime": {
     "end_time": "2021-09-18T20:29:50.094814Z",
     "start_time": "2021-09-18T20:29:48.834656Z"
    }
   },
   "outputs": [
    {
     "data": {
      "text/html": [
       "<div>\n",
       "<style scoped>\n",
       "    .dataframe tbody tr th:only-of-type {\n",
       "        vertical-align: middle;\n",
       "    }\n",
       "\n",
       "    .dataframe tbody tr th {\n",
       "        vertical-align: top;\n",
       "    }\n",
       "\n",
       "    .dataframe thead th {\n",
       "        text-align: right;\n",
       "    }\n",
       "</style>\n",
       "<table border=\"1\" class=\"dataframe\">\n",
       "  <thead>\n",
       "    <tr style=\"text-align: right;\">\n",
       "      <th></th>\n",
       "      <th>term</th>\n",
       "      <th>freq</th>\n",
       "      <th>length</th>\n",
       "      <th>uniq_ratio</th>\n",
       "    </tr>\n",
       "  </thead>\n",
       "  <tbody>\n",
       "    <tr>\n",
       "      <th>33750</th>\n",
       "      <td>thebuildinkickstandcanbeusedinlandscapeorienta...</td>\n",
       "      <td>1</td>\n",
       "      <td>72</td>\n",
       "      <td>0.250000</td>\n",
       "    </tr>\n",
       "    <tr>\n",
       "      <th>40455</th>\n",
       "      <td>______________________________________________...</td>\n",
       "      <td>1</td>\n",
       "      <td>62</td>\n",
       "      <td>0.016129</td>\n",
       "    </tr>\n",
       "    <tr>\n",
       "      <th>49632</th>\n",
       "      <td>withbeltclipholstersoyoucancarrythedevicewhere...</td>\n",
       "      <td>1</td>\n",
       "      <td>54</td>\n",
       "      <td>0.351852</td>\n",
       "    </tr>\n",
       "    <tr>\n",
       "      <th>40081</th>\n",
       "      <td>_______________________________________</td>\n",
       "      <td>1</td>\n",
       "      <td>39</td>\n",
       "      <td>0.025641</td>\n",
       "    </tr>\n",
       "    <tr>\n",
       "      <th>50632</th>\n",
       "      <td>specificationspecificationfeature</td>\n",
       "      <td>1</td>\n",
       "      <td>33</td>\n",
       "      <td>0.363636</td>\n",
       "    </tr>\n",
       "    <tr>\n",
       "      <th>50365</th>\n",
       "      <td>brighterthannormalstocklightbulbs</td>\n",
       "      <td>1</td>\n",
       "      <td>33</td>\n",
       "      <td>0.484848</td>\n",
       "    </tr>\n",
       "    <tr>\n",
       "      <th>36665</th>\n",
       "      <td>floorlinerdigitalfitaccurately</td>\n",
       "      <td>1</td>\n",
       "      <td>30</td>\n",
       "      <td>0.466667</td>\n",
       "    </tr>\n",
       "    <tr>\n",
       "      <th>18002</th>\n",
       "      <td>whiteracingproductsllc_nossee</td>\n",
       "      <td>5</td>\n",
       "      <td>29</td>\n",
       "      <td>0.586207</td>\n",
       "    </tr>\n",
       "    <tr>\n",
       "      <th>45809</th>\n",
       "      <td>the_strictly_mint_card_co_inc</td>\n",
       "      <td>1</td>\n",
       "      <td>29</td>\n",
       "      <td>0.517241</td>\n",
       "    </tr>\n",
       "    <tr>\n",
       "      <th>50339</th>\n",
       "      <td>thelavenderperfumedsachetis</td>\n",
       "      <td>1</td>\n",
       "      <td>27</td>\n",
       "      <td>0.592593</td>\n",
       "    </tr>\n",
       "  </tbody>\n",
       "</table>\n",
       "</div>"
      ],
      "text/plain": [
       "                                                    term  freq  length  \\\n",
       "33750  thebuildinkickstandcanbeusedinlandscapeorienta...     1      72   \n",
       "40455  ______________________________________________...     1      62   \n",
       "49632  withbeltclipholstersoyoucancarrythedevicewhere...     1      54   \n",
       "40081            _______________________________________     1      39   \n",
       "50632                  specificationspecificationfeature     1      33   \n",
       "50365                  brighterthannormalstocklightbulbs     1      33   \n",
       "36665                     floorlinerdigitalfitaccurately     1      30   \n",
       "18002                      whiteracingproductsllc_nossee     5      29   \n",
       "45809                      the_strictly_mint_card_co_inc     1      29   \n",
       "50339                        thelavenderperfumedsachetis     1      27   \n",
       "\n",
       "       uniq_ratio  \n",
       "33750    0.250000  \n",
       "40455    0.016129  \n",
       "49632    0.351852  \n",
       "40081    0.025641  \n",
       "50632    0.363636  \n",
       "50365    0.484848  \n",
       "36665    0.466667  \n",
       "18002    0.586207  \n",
       "45809    0.517241  \n",
       "50339    0.592593  "
      ]
     },
     "execution_count": 28,
     "metadata": {},
     "output_type": "execute_result"
    },
    {
     "data": {
      "application/javascript": [
       "\n",
       "            setTimeout(function() {\n",
       "                var nbb_cell_id = 28;\n",
       "                var nbb_unformatted_code = \"samp_vocab = build_sample_vocab(df.loc[:, \\\"text\\\"], 10 ** 4, tokenizer=regex_tokenize)\\n\\nsamp_vocab.head(10)\";\n",
       "                var nbb_formatted_code = \"samp_vocab = build_sample_vocab(df.loc[:, \\\"text\\\"], 10 ** 4, tokenizer=regex_tokenize)\\n\\nsamp_vocab.head(10)\";\n",
       "                var nbb_cells = Jupyter.notebook.get_cells();\n",
       "                for (var i = 0; i < nbb_cells.length; ++i) {\n",
       "                    if (nbb_cells[i].input_prompt_number == nbb_cell_id) {\n",
       "                        if (nbb_cells[i].get_text() == nbb_unformatted_code) {\n",
       "                             nbb_cells[i].set_text(nbb_formatted_code);\n",
       "                        }\n",
       "                        break;\n",
       "                    }\n",
       "                }\n",
       "            }, 500);\n",
       "            "
      ],
      "text/plain": [
       "<IPython.core.display.Javascript object>"
      ]
     },
     "metadata": {},
     "output_type": "display_data"
    }
   ],
   "source": [
    "samp_vocab = build_sample_vocab(df.loc[:, \"text\"], 10 ** 4, tokenizer=regex_tokenize)\n",
    "\n",
    "samp_vocab.head(10)"
   ]
  },
  {
   "cell_type": "markdown",
   "metadata": {},
   "source": [
    "As you can see, most of these 20+ character strings are just idiosyncratic noise. Take for example the term 'sherryguzzlinggranny':"
   ]
  },
  {
   "cell_type": "code",
   "execution_count": 29,
   "metadata": {
    "ExecuteTime": {
     "end_time": "2021-09-18T20:29:51.889330Z",
     "start_time": "2021-09-18T20:29:50.095787Z"
    }
   },
   "outputs": [
    {
     "data": {
      "text/plain": [
       "text        queen of babble gets hitched. when last seen, ...\n",
       "title                            queen of babble gets hitched\n",
       "brand                                               meg_cabot\n",
       "main_cat                                                books\n",
       "Name: 006085202X, dtype: object"
      ]
     },
     "metadata": {},
     "output_type": "display_data"
    },
    {
     "data": {
      "text/plain": [
       "\"queen of babble gets hitched. when last seen, the irrepressible lizzie nichols was canoodling with chaz after she and luke, chaz's best friend, broke up ( queen of babble in the big city , 2007). nowshocker alertluke returns to new york and slips a three-carat diamond engagement ring on her finger. lizzie accepts even though she's still all googly over chaz, who bluntly warns lizzie that luke's all about luke and couldn't love her the way he does. lizzie, a wedding dress restorer and budding designer specializing in wedding garb, faces a hives-inducing decision: dump rich luke, who wants to be an investment banker in paris, and hook up with chaz, who wants to teach? or should she marry luke and ditch new york for paris? and then there's the matter of her burgeoning design business, helped along by ava geck, a paris hiltonlike celebrity heiress. cabot takes full advantage of the material, delivering her trademark wit, sharp banter and lively antics from the first page. fans of the series have another one to savor. (july) copyright reed business information, a division of reed elsevier inc. all rights reserved. lizzie nichols should be the happiest girl in the universe. the phone has been ringing off the hook eversince a wedding gown she restored appeared inthe new york times. her wealthy ex-boyfriend, luke de villier, has decided their breakup was a mistake and has finally proposed.but lizziemade the mistake of sleeping with chaz, lukes best friend, during the brief hiatus in her relationship with luke, and now she spends more time thinking about chaz thanher fianc. in addition to an angst-ridden heroine and a loyal, waiting-in-the-wings hero, cabots novelis filled with unforgettable, quirky characters. theres lizziesbad-mouthed, cooking sherryguzzlinggranny; a spoiled, self-centered fianc; a best friend who is a newly outed lesbian; and a high-strungassistant. celebrities demanding a lizzie nichols creation include afamiliar, gum-popping, red-carpet regular always accompanied byher shivering chihuahua and bodyguard. to add to the fun, each chapter begins with wedding trivia and advice.cabot, author of the humorous heather wells mysteriesas well as the wildly popular princess diaries series, has once again shown that she is a master at entertaining and amusingreaders. --shelley mosley. meg cabot.\""
      ]
     },
     "execution_count": 29,
     "metadata": {},
     "output_type": "execute_result"
    },
    {
     "data": {
      "application/javascript": [
       "\n",
       "            setTimeout(function() {\n",
       "                var nbb_cell_id = 29;\n",
       "                var nbb_unformatted_code = \"granny_book = df.loc[df.text.str.contains(\\\"sherryguzzlinggranny\\\")].iloc[0]\\ndisplay(granny_book)\\ngranny_book.text\";\n",
       "                var nbb_formatted_code = \"granny_book = df.loc[df.text.str.contains(\\\"sherryguzzlinggranny\\\")].iloc[0]\\ndisplay(granny_book)\\ngranny_book.text\";\n",
       "                var nbb_cells = Jupyter.notebook.get_cells();\n",
       "                for (var i = 0; i < nbb_cells.length; ++i) {\n",
       "                    if (nbb_cells[i].input_prompt_number == nbb_cell_id) {\n",
       "                        if (nbb_cells[i].get_text() == nbb_unformatted_code) {\n",
       "                             nbb_cells[i].set_text(nbb_formatted_code);\n",
       "                        }\n",
       "                        break;\n",
       "                    }\n",
       "                }\n",
       "            }, 500);\n",
       "            "
      ],
      "text/plain": [
       "<IPython.core.display.Javascript object>"
      ]
     },
     "metadata": {},
     "output_type": "display_data"
    }
   ],
   "source": [
    "granny_book = df.loc[df.text.str.contains(\"sherryguzzlinggranny\")].iloc[0]\n",
    "display(granny_book)\n",
    "granny_book.text"
   ]
  },
  {
   "cell_type": "markdown",
   "metadata": {},
   "source": [
    "The term 'sherryguzzlinggranny' comes from the book *Queen of Babble Gets Hitched*. The description (above) contains a number of similar typos, such as 'lizziesbad-mouthed', 'high-strungassistant', and 'amusingreaders'. I have no qualms about filtering these out.\n",
    "\n",
    "I also notice that there are long sequences containing underscores. I'm not interested in any of the underscores already in the data, only ones that I might add. I'll go ahead and filter those out."
   ]
  },
  {
   "cell_type": "code",
   "execution_count": 30,
   "metadata": {
    "ExecuteTime": {
     "end_time": "2021-09-18T20:30:04.481402Z",
     "start_time": "2021-09-18T20:29:51.890334Z"
    }
   },
   "outputs": [
    {
     "data": {
      "application/vnd.jupyter.widget-view+json": {
       "model_id": "e05806ca5266468f8a9440a5ada8e0bf",
       "version_major": 2,
       "version_minor": 0
      },
      "text/plain": [
       "strip_punct:   0%|          | 0/1072953 [00:00<?, ?it/s]"
      ]
     },
     "metadata": {},
     "output_type": "display_data"
    },
    {
     "data": {
      "text/plain": [
       "False"
      ]
     },
     "execution_count": 30,
     "metadata": {},
     "output_type": "execute_result"
    },
    {
     "data": {
      "application/javascript": [
       "\n",
       "            setTimeout(function() {\n",
       "                var nbb_cell_id = 30;\n",
       "                var nbb_unformatted_code = \"df[\\\"text\\\"] = lang.strip_punct(df.loc[:, \\\"text\\\"], punct=\\\"_\\\", n_jobs=-1)\\ndf[\\\"text\\\"].str.contains(\\\"_\\\").any()\";\n",
       "                var nbb_formatted_code = \"df[\\\"text\\\"] = lang.strip_punct(df.loc[:, \\\"text\\\"], punct=\\\"_\\\", n_jobs=-1)\\ndf[\\\"text\\\"].str.contains(\\\"_\\\").any()\";\n",
       "                var nbb_cells = Jupyter.notebook.get_cells();\n",
       "                for (var i = 0; i < nbb_cells.length; ++i) {\n",
       "                    if (nbb_cells[i].input_prompt_number == nbb_cell_id) {\n",
       "                        if (nbb_cells[i].get_text() == nbb_unformatted_code) {\n",
       "                             nbb_cells[i].set_text(nbb_formatted_code);\n",
       "                        }\n",
       "                        break;\n",
       "                    }\n",
       "                }\n",
       "            }, 500);\n",
       "            "
      ],
      "text/plain": [
       "<IPython.core.display.Javascript object>"
      ]
     },
     "metadata": {},
     "output_type": "display_data"
    }
   ],
   "source": [
    "df[\"text\"] = lang.strip_punct(df.loc[:, \"text\"], punct=\"_\", n_jobs=-1)\n",
    "df[\"text\"].str.contains(\"_\").any()"
   ]
  },
  {
   "cell_type": "markdown",
   "metadata": {},
   "source": [
    "Next I get a larger sample and examine the length distribution."
   ]
  },
  {
   "cell_type": "code",
   "execution_count": 31,
   "metadata": {
    "ExecuteTime": {
     "end_time": "2021-09-18T20:30:14.025422Z",
     "start_time": "2021-09-18T20:30:04.482391Z"
    },
    "run_control": {
     "marked": false
    }
   },
   "outputs": [
    {
     "data": {
      "text/html": [
       "<div>\n",
       "<style scoped>\n",
       "    .dataframe tbody tr th:only-of-type {\n",
       "        vertical-align: middle;\n",
       "    }\n",
       "\n",
       "    .dataframe tbody tr th {\n",
       "        vertical-align: top;\n",
       "    }\n",
       "\n",
       "    .dataframe thead th {\n",
       "        text-align: right;\n",
       "    }\n",
       "</style>\n",
       "<table border=\"1\" class=\"dataframe\">\n",
       "  <thead>\n",
       "    <tr style=\"text-align: right;\">\n",
       "      <th></th>\n",
       "      <th>term</th>\n",
       "      <th>freq</th>\n",
       "      <th>length</th>\n",
       "      <th>uniq_ratio</th>\n",
       "    </tr>\n",
       "  </thead>\n",
       "  <tbody>\n",
       "    <tr>\n",
       "      <th>72222</th>\n",
       "      <td>grayrune</td>\n",
       "      <td>2</td>\n",
       "      <td>8</td>\n",
       "      <td>0.875000</td>\n",
       "    </tr>\n",
       "    <tr>\n",
       "      <th>54234</th>\n",
       "      <td>uninked</td>\n",
       "      <td>5</td>\n",
       "      <td>7</td>\n",
       "      <td>0.857143</td>\n",
       "    </tr>\n",
       "    <tr>\n",
       "      <th>59908</th>\n",
       "      <td>leapad</td>\n",
       "      <td>4</td>\n",
       "      <td>6</td>\n",
       "      <td>0.833333</td>\n",
       "    </tr>\n",
       "    <tr>\n",
       "      <th>74142</th>\n",
       "      <td>sloths</td>\n",
       "      <td>2</td>\n",
       "      <td>6</td>\n",
       "      <td>0.833333</td>\n",
       "    </tr>\n",
       "    <tr>\n",
       "      <th>62251</th>\n",
       "      <td>digipac</td>\n",
       "      <td>3</td>\n",
       "      <td>7</td>\n",
       "      <td>0.857143</td>\n",
       "    </tr>\n",
       "    <tr>\n",
       "      <th>137943</th>\n",
       "      <td>scangear</td>\n",
       "      <td>1</td>\n",
       "      <td>8</td>\n",
       "      <td>0.875000</td>\n",
       "    </tr>\n",
       "    <tr>\n",
       "      <th>82981</th>\n",
       "      <td>repellants</td>\n",
       "      <td>2</td>\n",
       "      <td>10</td>\n",
       "      <td>0.800000</td>\n",
       "    </tr>\n",
       "    <tr>\n",
       "      <th>20272</th>\n",
       "      <td>jenna</td>\n",
       "      <td>39</td>\n",
       "      <td>5</td>\n",
       "      <td>0.800000</td>\n",
       "    </tr>\n",
       "    <tr>\n",
       "      <th>58849</th>\n",
       "      <td>bvb</td>\n",
       "      <td>4</td>\n",
       "      <td>3</td>\n",
       "      <td>0.666667</td>\n",
       "    </tr>\n",
       "    <tr>\n",
       "      <th>15467</th>\n",
       "      <td>kaytee</td>\n",
       "      <td>66</td>\n",
       "      <td>6</td>\n",
       "      <td>0.833333</td>\n",
       "    </tr>\n",
       "  </tbody>\n",
       "</table>\n",
       "</div>"
      ],
      "text/plain": [
       "              term  freq  length  uniq_ratio\n",
       "72222     grayrune     2       8    0.875000\n",
       "54234      uninked     5       7    0.857143\n",
       "59908       leapad     4       6    0.833333\n",
       "74142       sloths     2       6    0.833333\n",
       "62251      digipac     3       7    0.857143\n",
       "137943    scangear     1       8    0.875000\n",
       "82981   repellants     2      10    0.800000\n",
       "20272        jenna    39       5    0.800000\n",
       "58849          bvb     4       3    0.666667\n",
       "15467       kaytee    66       6    0.833333"
      ]
     },
     "execution_count": 31,
     "metadata": {},
     "output_type": "execute_result"
    },
    {
     "data": {
      "application/javascript": [
       "\n",
       "            setTimeout(function() {\n",
       "                var nbb_cell_id = 31;\n",
       "                var nbb_unformatted_code = \"samp_vocab = build_sample_vocab(df.loc[:, \\\"text\\\"], 10 ** 5, tokenizer=regex_tokenize)\\n\\nsamp_vocab.sample(10)\";\n",
       "                var nbb_formatted_code = \"samp_vocab = build_sample_vocab(df.loc[:, \\\"text\\\"], 10 ** 5, tokenizer=regex_tokenize)\\n\\nsamp_vocab.sample(10)\";\n",
       "                var nbb_cells = Jupyter.notebook.get_cells();\n",
       "                for (var i = 0; i < nbb_cells.length; ++i) {\n",
       "                    if (nbb_cells[i].input_prompt_number == nbb_cell_id) {\n",
       "                        if (nbb_cells[i].get_text() == nbb_unformatted_code) {\n",
       "                             nbb_cells[i].set_text(nbb_formatted_code);\n",
       "                        }\n",
       "                        break;\n",
       "                    }\n",
       "                }\n",
       "            }, 500);\n",
       "            "
      ],
      "text/plain": [
       "<IPython.core.display.Javascript object>"
      ]
     },
     "metadata": {},
     "output_type": "display_data"
    }
   ],
   "source": [
    "samp_vocab = build_sample_vocab(df.loc[:, \"text\"], 10 ** 5, tokenizer=regex_tokenize)\n",
    "\n",
    "samp_vocab.sample(10)"
   ]
  },
  {
   "cell_type": "markdown",
   "metadata": {},
   "source": [
    "Next I examine the length distribution to determine a good cutoff point for length outliers. The plot is annotated with the IQR and Tukey's fences (i.e. boxplot whiskers)."
   ]
  },
  {
   "cell_type": "code",
   "execution_count": 32,
   "metadata": {
    "ExecuteTime": {
     "end_time": "2021-09-18T20:30:15.600453Z",
     "start_time": "2021-09-18T20:30:14.026423Z"
    }
   },
   "outputs": [
    {
     "data": {
      "text/plain": [
       "<AxesSubplot:xlabel='length', ylabel='Count'>"
      ]
     },
     "execution_count": 32,
     "metadata": {},
     "output_type": "execute_result"
    },
    {
     "data": {
      "image/png": "[encoded data removed]",
      "text/plain": [
       "<Figure size 720x360 with 1 Axes>"
      ]
     },
     "metadata": {
      "needs_background": "light"
     },
     "output_type": "display_data"
    },
    {
     "data": {
      "application/javascript": [
       "\n",
       "            setTimeout(function() {\n",
       "                var nbb_cell_id = 32;\n",
       "                var nbb_unformatted_code = \"g = sns.displot(data=samp_vocab, x=\\\"length\\\", kind=\\\"hist\\\", aspect=2)\\nplotting.add_tukey_marks(samp_vocab[\\\"length\\\"], g.axes[0, 0], num_format=\\\".0f\\\")\";\n",
       "                var nbb_formatted_code = \"g = sns.displot(data=samp_vocab, x=\\\"length\\\", kind=\\\"hist\\\", aspect=2)\\nplotting.add_tukey_marks(samp_vocab[\\\"length\\\"], g.axes[0, 0], num_format=\\\".0f\\\")\";\n",
       "                var nbb_cells = Jupyter.notebook.get_cells();\n",
       "                for (var i = 0; i < nbb_cells.length; ++i) {\n",
       "                    if (nbb_cells[i].input_prompt_number == nbb_cell_id) {\n",
       "                        if (nbb_cells[i].get_text() == nbb_unformatted_code) {\n",
       "                             nbb_cells[i].set_text(nbb_formatted_code);\n",
       "                        }\n",
       "                        break;\n",
       "                    }\n",
       "                }\n",
       "            }, 500);\n",
       "            "
      ],
      "text/plain": [
       "<IPython.core.display.Javascript object>"
      ]
     },
     "metadata": {},
     "output_type": "display_data"
    }
   ],
   "source": [
    "g = sns.displot(data=samp_vocab, x=\"length\", kind=\"hist\", aspect=2)\n",
    "plotting.add_tukey_marks(samp_vocab[\"length\"], g.axes[0, 0], num_format=\".0f\")"
   ]
  },
  {
   "cell_type": "markdown",
   "metadata": {
    "ExecuteTime": {
     "end_time": "2021-09-03T03:37:42.515036Z",
     "start_time": "2021-09-03T03:37:42.400036Z"
    }
   },
   "source": [
    "16 seems like a natural cutoff for word length, and it's what Tukey's IQR proximity rule dictates. I'll enforce this cutoff with my tokenizer. Once I tokenize the text, I can simply join and split with space."
   ]
  },
  {
   "cell_type": "code",
   "execution_count": 33,
   "metadata": {
    "ExecuteTime": {
     "end_time": "2021-09-18T20:31:18.243430Z",
     "start_time": "2021-09-18T20:30:15.601441Z"
    }
   },
   "outputs": [
    {
     "data": {
      "application/vnd.jupyter.widget-view+json": {
       "model_id": "f97eb8fac8864625ba609eed3cedfb7c",
       "version_major": 2,
       "version_minor": 0
      },
      "text/plain": [
       "regex_tokenize:   0%|          | 0/1072953 [00:00<?, ?it/s]"
      ]
     },
     "metadata": {},
     "output_type": "display_data"
    },
    {
     "data": {
      "text/plain": [
       "asin\n",
       "B000050AUH    [philips, sonicare, standard, brush, head, son...\n",
       "B000050B62    [norelco, xl, deluxe, reflex, action, cord, co...\n",
       "B000050B63    [norelco, xl, quadra, action, cord, cordless, ...\n",
       "B000050B64    [norelco, xl, quadra, action, cord, cordless, ...\n",
       "B000050B65    [norelco, xl, deluxe, quadra, action, cord, co...\n",
       "Name: text, dtype: object"
      ]
     },
     "execution_count": 33,
     "metadata": {},
     "output_type": "execute_result"
    },
    {
     "data": {
      "application/javascript": [
       "\n",
       "            setTimeout(function() {\n",
       "                var nbb_cell_id = 33;\n",
       "                var nbb_unformatted_code = \"# Tokenize\\ndf[\\\"text\\\"] = regex_tokenize(df.loc[:, \\\"text\\\"], pattern=r\\\"(?i)[a-z_]{2,16}\\\", n_jobs=-1)\\ndf[\\\"text\\\"].head()\";\n",
       "                var nbb_formatted_code = \"# Tokenize\\ndf[\\\"text\\\"] = regex_tokenize(df.loc[:, \\\"text\\\"], pattern=r\\\"(?i)[a-z_]{2,16}\\\", n_jobs=-1)\\ndf[\\\"text\\\"].head()\";\n",
       "                var nbb_cells = Jupyter.notebook.get_cells();\n",
       "                for (var i = 0; i < nbb_cells.length; ++i) {\n",
       "                    if (nbb_cells[i].input_prompt_number == nbb_cell_id) {\n",
       "                        if (nbb_cells[i].get_text() == nbb_unformatted_code) {\n",
       "                             nbb_cells[i].set_text(nbb_formatted_code);\n",
       "                        }\n",
       "                        break;\n",
       "                    }\n",
       "                }\n",
       "            }, 500);\n",
       "            "
      ],
      "text/plain": [
       "<IPython.core.display.Javascript object>"
      ]
     },
     "metadata": {},
     "output_type": "display_data"
    }
   ],
   "source": [
    "# Tokenize\n",
    "df[\"text\"] = regex_tokenize(df.loc[:, \"text\"], pattern=r\"(?i)[a-z_]{2,16}\", n_jobs=-1)\n",
    "df[\"text\"].head()"
   ]
  },
  {
   "cell_type": "code",
   "execution_count": 34,
   "metadata": {
    "ExecuteTime": {
     "end_time": "2021-09-18T20:31:24.196430Z",
     "start_time": "2021-09-18T20:31:18.245429Z"
    }
   },
   "outputs": [
    {
     "data": {
      "image/png": "[encoded data removed]",
      "text/plain": [
       "<Figure size 720x360 with 1 Axes>"
      ]
     },
     "metadata": {
      "needs_background": "light"
     },
     "output_type": "display_data"
    },
    {
     "data": {
      "application/javascript": [
       "\n",
       "            setTimeout(function() {\n",
       "                var nbb_cell_id = 34;\n",
       "                var nbb_unformatted_code = \"# Draw new sample\\nsamp_vocab = build_sample_vocab(df.loc[:, \\\"text\\\"], 10 ** 5)\\n\\n# Plot length distribution\\ng = sns.displot(data=samp_vocab, x=\\\"length\\\", kind=\\\"hist\\\", aspect=2)\";\n",
       "                var nbb_formatted_code = \"# Draw new sample\\nsamp_vocab = build_sample_vocab(df.loc[:, \\\"text\\\"], 10 ** 5)\\n\\n# Plot length distribution\\ng = sns.displot(data=samp_vocab, x=\\\"length\\\", kind=\\\"hist\\\", aspect=2)\";\n",
       "                var nbb_cells = Jupyter.notebook.get_cells();\n",
       "                for (var i = 0; i < nbb_cells.length; ++i) {\n",
       "                    if (nbb_cells[i].input_prompt_number == nbb_cell_id) {\n",
       "                        if (nbb_cells[i].get_text() == nbb_unformatted_code) {\n",
       "                             nbb_cells[i].set_text(nbb_formatted_code);\n",
       "                        }\n",
       "                        break;\n",
       "                    }\n",
       "                }\n",
       "            }, 500);\n",
       "            "
      ],
      "text/plain": [
       "<IPython.core.display.Javascript object>"
      ]
     },
     "metadata": {},
     "output_type": "display_data"
    }
   ],
   "source": [
    "# Draw new sample\n",
    "samp_vocab = build_sample_vocab(df.loc[:, \"text\"], 10 ** 5)\n",
    "\n",
    "# Plot length distribution\n",
    "g = sns.displot(data=samp_vocab, x=\"length\", kind=\"hist\", aspect=2)"
   ]
  },
  {
   "cell_type": "markdown",
   "metadata": {},
   "source": [
    "A related source of noise are strings with repetitive character (or word) sequences."
   ]
  },
  {
   "cell_type": "code",
   "execution_count": 35,
   "metadata": {
    "ExecuteTime": {
     "end_time": "2021-09-18T20:31:24.360430Z",
     "start_time": "2021-09-18T20:31:24.198430Z"
    }
   },
   "outputs": [
    {
     "data": {
      "text/html": [
       "<div>\n",
       "<style scoped>\n",
       "    .dataframe tbody tr th:only-of-type {\n",
       "        vertical-align: middle;\n",
       "    }\n",
       "\n",
       "    .dataframe tbody tr th {\n",
       "        vertical-align: top;\n",
       "    }\n",
       "\n",
       "    .dataframe thead th {\n",
       "        text-align: right;\n",
       "    }\n",
       "</style>\n",
       "<table border=\"1\" class=\"dataframe\">\n",
       "  <thead>\n",
       "    <tr style=\"text-align: right;\">\n",
       "      <th></th>\n",
       "      <th>term</th>\n",
       "      <th>freq</th>\n",
       "      <th>length</th>\n",
       "      <th>uniq_ratio</th>\n",
       "    </tr>\n",
       "  </thead>\n",
       "  <tbody>\n",
       "    <tr>\n",
       "      <th>161944</th>\n",
       "      <td>zzzzzzzz</td>\n",
       "      <td>1</td>\n",
       "      <td>8</td>\n",
       "      <td>0.125000</td>\n",
       "    </tr>\n",
       "    <tr>\n",
       "      <th>161560</th>\n",
       "      <td>ffffff</td>\n",
       "      <td>1</td>\n",
       "      <td>6</td>\n",
       "      <td>0.166667</td>\n",
       "    </tr>\n",
       "    <tr>\n",
       "      <th>110953</th>\n",
       "      <td>xxxxx</td>\n",
       "      <td>1</td>\n",
       "      <td>5</td>\n",
       "      <td>0.200000</td>\n",
       "    </tr>\n",
       "    <tr>\n",
       "      <th>106969</th>\n",
       "      <td>noooooooo</td>\n",
       "      <td>1</td>\n",
       "      <td>9</td>\n",
       "      <td>0.222222</td>\n",
       "    </tr>\n",
       "    <tr>\n",
       "      <th>86900</th>\n",
       "      <td>mmmm</td>\n",
       "      <td>2</td>\n",
       "      <td>4</td>\n",
       "      <td>0.250000</td>\n",
       "    </tr>\n",
       "    <tr>\n",
       "      <th>99115</th>\n",
       "      <td>cyaaaaaaaaaaaann</td>\n",
       "      <td>1</td>\n",
       "      <td>16</td>\n",
       "      <td>0.250000</td>\n",
       "    </tr>\n",
       "    <tr>\n",
       "      <th>154239</th>\n",
       "      <td>bbbb</td>\n",
       "      <td>1</td>\n",
       "      <td>4</td>\n",
       "      <td>0.250000</td>\n",
       "    </tr>\n",
       "    <tr>\n",
       "      <th>45681</th>\n",
       "      <td>xxxx</td>\n",
       "      <td>7</td>\n",
       "      <td>4</td>\n",
       "      <td>0.250000</td>\n",
       "    </tr>\n",
       "    <tr>\n",
       "      <th>148940</th>\n",
       "      <td>zzzz</td>\n",
       "      <td>1</td>\n",
       "      <td>4</td>\n",
       "      <td>0.250000</td>\n",
       "    </tr>\n",
       "    <tr>\n",
       "      <th>159359</th>\n",
       "      <td>iiii</td>\n",
       "      <td>1</td>\n",
       "      <td>4</td>\n",
       "      <td>0.250000</td>\n",
       "    </tr>\n",
       "  </tbody>\n",
       "</table>\n",
       "</div>"
      ],
      "text/plain": [
       "                    term  freq  length  uniq_ratio\n",
       "161944          zzzzzzzz     1       8    0.125000\n",
       "161560            ffffff     1       6    0.166667\n",
       "110953             xxxxx     1       5    0.200000\n",
       "106969         noooooooo     1       9    0.222222\n",
       "86900               mmmm     2       4    0.250000\n",
       "99115   cyaaaaaaaaaaaann     1      16    0.250000\n",
       "154239              bbbb     1       4    0.250000\n",
       "45681               xxxx     7       4    0.250000\n",
       "148940              zzzz     1       4    0.250000\n",
       "159359              iiii     1       4    0.250000"
      ]
     },
     "execution_count": 35,
     "metadata": {},
     "output_type": "execute_result"
    },
    {
     "data": {
      "application/javascript": [
       "\n",
       "            setTimeout(function() {\n",
       "                var nbb_cell_id = 35;\n",
       "                var nbb_unformatted_code = \"samp_vocab.sort_values(\\\"uniq_ratio\\\").head(10)\";\n",
       "                var nbb_formatted_code = \"samp_vocab.sort_values(\\\"uniq_ratio\\\").head(10)\";\n",
       "                var nbb_cells = Jupyter.notebook.get_cells();\n",
       "                for (var i = 0; i < nbb_cells.length; ++i) {\n",
       "                    if (nbb_cells[i].input_prompt_number == nbb_cell_id) {\n",
       "                        if (nbb_cells[i].get_text() == nbb_unformatted_code) {\n",
       "                             nbb_cells[i].set_text(nbb_formatted_code);\n",
       "                        }\n",
       "                        break;\n",
       "                    }\n",
       "                }\n",
       "            }, 500);\n",
       "            "
      ],
      "text/plain": [
       "<IPython.core.display.Javascript object>"
      ]
     },
     "metadata": {},
     "output_type": "display_data"
    }
   ],
   "source": [
    "samp_vocab.sort_values(\"uniq_ratio\").head(10)"
   ]
  },
  {
   "cell_type": "markdown",
   "metadata": {},
   "source": [
    "The above terms with repetitive sequences have low character uniqueness ratios, i.e. the ratio of character types to character tokens. That's how I'll filter them out.\n",
    "\n",
    "Note: long multi-word amalgamations also have low character uniqueness simply because of their length, but I've already weeded those out."
   ]
  },
  {
   "cell_type": "code",
   "execution_count": 36,
   "metadata": {
    "ExecuteTime": {
     "end_time": "2021-09-18T20:31:25.096430Z",
     "start_time": "2021-09-18T20:31:24.362431Z"
    }
   },
   "outputs": [
    {
     "data": {
      "text/plain": [
       "<AxesSubplot:xlabel='uniq_ratio', ylabel='Count'>"
      ]
     },
     "execution_count": 36,
     "metadata": {},
     "output_type": "execute_result"
    },
    {
     "data": {
      "image/png": "[encoded data removed]",
      "text/plain": [
       "<Figure size 720x360 with 1 Axes>"
      ]
     },
     "metadata": {
      "needs_background": "light"
     },
     "output_type": "display_data"
    },
    {
     "data": {
      "application/javascript": [
       "\n",
       "            setTimeout(function() {\n",
       "                var nbb_cell_id = 36;\n",
       "                var nbb_unformatted_code = \"g = sns.displot(data=samp_vocab, x=\\\"uniq_ratio\\\", kind=\\\"hist\\\", aspect=2)\\nplotting.add_tukey_marks(samp_vocab[\\\"uniq_ratio\\\"], g.axes[0, 0], num_format=\\\".3f\\\")\";\n",
       "                var nbb_formatted_code = \"g = sns.displot(data=samp_vocab, x=\\\"uniq_ratio\\\", kind=\\\"hist\\\", aspect=2)\\nplotting.add_tukey_marks(samp_vocab[\\\"uniq_ratio\\\"], g.axes[0, 0], num_format=\\\".3f\\\")\";\n",
       "                var nbb_cells = Jupyter.notebook.get_cells();\n",
       "                for (var i = 0; i < nbb_cells.length; ++i) {\n",
       "                    if (nbb_cells[i].input_prompt_number == nbb_cell_id) {\n",
       "                        if (nbb_cells[i].get_text() == nbb_unformatted_code) {\n",
       "                             nbb_cells[i].set_text(nbb_formatted_code);\n",
       "                        }\n",
       "                        break;\n",
       "                    }\n",
       "                }\n",
       "            }, 500);\n",
       "            "
      ],
      "text/plain": [
       "<IPython.core.display.Javascript object>"
      ]
     },
     "metadata": {},
     "output_type": "display_data"
    }
   ],
   "source": [
    "g = sns.displot(data=samp_vocab, x=\"uniq_ratio\", kind=\"hist\", aspect=2)\n",
    "plotting.add_tukey_marks(samp_vocab[\"uniq_ratio\"], g.axes[0, 0], num_format=\".3f\")"
   ]
  },
  {
   "cell_type": "markdown",
   "metadata": {},
   "source": [
    "The lower Tukey fence is located at 0.375. That seems like a reasonable cutoff."
   ]
  },
  {
   "cell_type": "code",
   "execution_count": 37,
   "metadata": {
    "ExecuteTime": {
     "end_time": "2021-09-18T20:36:14.102872Z",
     "start_time": "2021-09-18T20:31:25.098432Z"
    },
    "run_control": {
     "marked": false
    }
   },
   "outputs": [
    {
     "data": {
      "application/vnd.jupyter.widget-view+json": {
       "model_id": "802f15d407164cc2b1602a0b74d2ae30",
       "version_major": 2,
       "version_minor": 0
      },
      "text/plain": [
       "uniq_char_thresh:   0%|          | 0/1072953 [00:00<?, ?it/s]"
      ]
     },
     "metadata": {},
     "output_type": "display_data"
    },
    {
     "data": {
      "text/plain": [
       "asin\n",
       "B000050AUH    [philips, sonicare, standard, brush, head, son...\n",
       "B000050B62    [norelco, xl, deluxe, reflex, action, cord, co...\n",
       "B000050B63    [norelco, xl, quadra, action, cord, cordless, ...\n",
       "B000050B64    [norelco, xl, quadra, action, cord, cordless, ...\n",
       "B000050B65    [norelco, xl, deluxe, quadra, action, cord, co...\n",
       "Name: text, dtype: object"
      ]
     },
     "execution_count": 37,
     "metadata": {},
     "output_type": "execute_result"
    },
    {
     "data": {
      "application/javascript": [
       "\n",
       "            setTimeout(function() {\n",
       "                var nbb_cell_id = 37;\n",
       "                var nbb_unformatted_code = \"# Remove low uniqueness ratios\\ndf[\\\"text\\\"] = lang.uniq_char_thresh(df.loc[:, \\\"text\\\"], thresh=0.375, n_jobs=-1)\\ndf[\\\"text\\\"].head()\";\n",
       "                var nbb_formatted_code = \"# Remove low uniqueness ratios\\ndf[\\\"text\\\"] = lang.uniq_char_thresh(df.loc[:, \\\"text\\\"], thresh=0.375, n_jobs=-1)\\ndf[\\\"text\\\"].head()\";\n",
       "                var nbb_cells = Jupyter.notebook.get_cells();\n",
       "                for (var i = 0; i < nbb_cells.length; ++i) {\n",
       "                    if (nbb_cells[i].input_prompt_number == nbb_cell_id) {\n",
       "                        if (nbb_cells[i].get_text() == nbb_unformatted_code) {\n",
       "                             nbb_cells[i].set_text(nbb_formatted_code);\n",
       "                        }\n",
       "                        break;\n",
       "                    }\n",
       "                }\n",
       "            }, 500);\n",
       "            "
      ],
      "text/plain": [
       "<IPython.core.display.Javascript object>"
      ]
     },
     "metadata": {},
     "output_type": "display_data"
    }
   ],
   "source": [
    "# Remove low uniqueness ratios\n",
    "df[\"text\"] = lang.uniq_char_thresh(df.loc[:, \"text\"], thresh=0.375, n_jobs=-1)\n",
    "df[\"text\"].head()"
   ]
  },
  {
   "cell_type": "code",
   "execution_count": 38,
   "metadata": {
    "ExecuteTime": {
     "end_time": "2021-09-18T20:36:21.524476Z",
     "start_time": "2021-09-18T20:36:14.110874Z"
    }
   },
   "outputs": [
    {
     "data": {
      "text/html": [
       "<div>\n",
       "<style scoped>\n",
       "    .dataframe tbody tr th:only-of-type {\n",
       "        vertical-align: middle;\n",
       "    }\n",
       "\n",
       "    .dataframe tbody tr th {\n",
       "        vertical-align: top;\n",
       "    }\n",
       "\n",
       "    .dataframe thead th {\n",
       "        text-align: right;\n",
       "    }\n",
       "</style>\n",
       "<table border=\"1\" class=\"dataframe\">\n",
       "  <thead>\n",
       "    <tr style=\"text-align: right;\">\n",
       "      <th></th>\n",
       "      <th>term</th>\n",
       "      <th>freq</th>\n",
       "      <th>length</th>\n",
       "      <th>uniq_ratio</th>\n",
       "    </tr>\n",
       "  </thead>\n",
       "  <tbody>\n",
       "    <tr>\n",
       "      <th>105171</th>\n",
       "      <td>mirrormirrors</td>\n",
       "      <td>1</td>\n",
       "      <td>13</td>\n",
       "      <td>0.384615</td>\n",
       "    </tr>\n",
       "    <tr>\n",
       "      <th>36889</th>\n",
       "      <td>reengineering</td>\n",
       "      <td>11</td>\n",
       "      <td>13</td>\n",
       "      <td>0.384615</td>\n",
       "    </tr>\n",
       "    <tr>\n",
       "      <th>129621</th>\n",
       "      <td>eminentemente</td>\n",
       "      <td>1</td>\n",
       "      <td>13</td>\n",
       "      <td>0.384615</td>\n",
       "    </tr>\n",
       "    <tr>\n",
       "      <th>84543</th>\n",
       "      <td>sassafrass</td>\n",
       "      <td>2</td>\n",
       "      <td>10</td>\n",
       "      <td>0.400000</td>\n",
       "    </tr>\n",
       "    <tr>\n",
       "      <th>35799</th>\n",
       "      <td>mamma</td>\n",
       "      <td>12</td>\n",
       "      <td>5</td>\n",
       "      <td>0.400000</td>\n",
       "    </tr>\n",
       "    <tr>\n",
       "      <th>131173</th>\n",
       "      <td>lollo</td>\n",
       "      <td>1</td>\n",
       "      <td>5</td>\n",
       "      <td>0.400000</td>\n",
       "    </tr>\n",
       "    <tr>\n",
       "      <th>69287</th>\n",
       "      <td>nanna</td>\n",
       "      <td>3</td>\n",
       "      <td>5</td>\n",
       "      <td>0.400000</td>\n",
       "    </tr>\n",
       "    <tr>\n",
       "      <th>49778</th>\n",
       "      <td>axxxx</td>\n",
       "      <td>6</td>\n",
       "      <td>5</td>\n",
       "      <td>0.400000</td>\n",
       "    </tr>\n",
       "    <tr>\n",
       "      <th>143700</th>\n",
       "      <td>scienceeinstein</td>\n",
       "      <td>1</td>\n",
       "      <td>15</td>\n",
       "      <td>0.400000</td>\n",
       "    </tr>\n",
       "    <tr>\n",
       "      <th>55125</th>\n",
       "      <td>eevee</td>\n",
       "      <td>5</td>\n",
       "      <td>5</td>\n",
       "      <td>0.400000</td>\n",
       "    </tr>\n",
       "  </tbody>\n",
       "</table>\n",
       "</div>"
      ],
      "text/plain": [
       "                   term  freq  length  uniq_ratio\n",
       "105171    mirrormirrors     1      13    0.384615\n",
       "36889     reengineering    11      13    0.384615\n",
       "129621    eminentemente     1      13    0.384615\n",
       "84543        sassafrass     2      10    0.400000\n",
       "35799             mamma    12       5    0.400000\n",
       "131173            lollo     1       5    0.400000\n",
       "69287             nanna     3       5    0.400000\n",
       "49778             axxxx     6       5    0.400000\n",
       "143700  scienceeinstein     1      15    0.400000\n",
       "55125             eevee     5       5    0.400000"
      ]
     },
     "execution_count": 38,
     "metadata": {},
     "output_type": "execute_result"
    },
    {
     "data": {
      "application/javascript": [
       "\n",
       "            setTimeout(function() {\n",
       "                var nbb_cell_id = 38;\n",
       "                var nbb_unformatted_code = \"samp_vocab = build_sample_vocab(df.loc[:, \\\"text\\\"], 10 ** 5)\\nsamp_vocab.sort_values(\\\"uniq_ratio\\\").head(10)\";\n",
       "                var nbb_formatted_code = \"samp_vocab = build_sample_vocab(df.loc[:, \\\"text\\\"], 10 ** 5)\\nsamp_vocab.sort_values(\\\"uniq_ratio\\\").head(10)\";\n",
       "                var nbb_cells = Jupyter.notebook.get_cells();\n",
       "                for (var i = 0; i < nbb_cells.length; ++i) {\n",
       "                    if (nbb_cells[i].input_prompt_number == nbb_cell_id) {\n",
       "                        if (nbb_cells[i].get_text() == nbb_unformatted_code) {\n",
       "                             nbb_cells[i].set_text(nbb_formatted_code);\n",
       "                        }\n",
       "                        break;\n",
       "                    }\n",
       "                }\n",
       "            }, 500);\n",
       "            "
      ],
      "text/plain": [
       "<IPython.core.display.Javascript object>"
      ]
     },
     "metadata": {},
     "output_type": "display_data"
    }
   ],
   "source": [
    "samp_vocab = build_sample_vocab(df.loc[:, \"text\"], 10 ** 5)\n",
    "samp_vocab.sort_values(\"uniq_ratio\").head(10)"
   ]
  },
  {
   "cell_type": "markdown",
   "metadata": {},
   "source": [
    "Looks better. If I raise the threshold more, I'll begin to filter out too many normal words."
   ]
  },
  {
   "cell_type": "markdown",
   "metadata": {},
   "source": [
    "## Restricting to English\n",
    "\n",
    "Next I run [langdetect](https://pypi.org/project/langdetect/) (a Google language detection algorithm) on the documents and select only the English product descriptions. I have nothing against the other languages, but there are not enough examples of them in the dataset to build a truly multilingual model. I don't want the model to associate Spanish words with 'amazon fashion', for example. That would generalize poorly.\n",
    "\n",
    "This cell takes 30-40 minutes to run if `RUN_LANGDETECT` is set."
   ]
  },
  {
   "cell_type": "code",
   "execution_count": 39,
   "metadata": {
    "ExecuteTime": {
     "end_time": "2021-09-18T20:36:22.923693Z",
     "start_time": "2021-09-18T20:36:21.527475Z"
    }
   },
   "outputs": [
    {
     "data": {
      "text/plain": [
       "en    1070668\n",
       "es        988\n",
       "it        200\n",
       "fr        200\n",
       "pt        133\n",
       "no        117\n",
       "nl        116\n",
       "de        112\n",
       "da         84\n",
       "id         56\n",
       "ca         49\n",
       "sv         39\n",
       "af         29\n",
       "ro         25\n",
       "pl         22\n",
       "so         19\n",
       "tl         12\n",
       "sl         12\n",
       "hr         10\n",
       "cs         10\n",
       "sw         10\n",
       "lt          9\n",
       "cy          7\n",
       "et          7\n",
       "hu          5\n",
       "tr          5\n",
       "fi          3\n",
       "sk          2\n",
       "sq          2\n",
       "lv          1\n",
       "vi          1\n",
       "Name: lang, dtype: int64"
      ]
     },
     "execution_count": 39,
     "metadata": {},
     "output_type": "execute_result"
    },
    {
     "data": {
      "application/javascript": [
       "\n",
       "            setTimeout(function() {\n",
       "                var nbb_cell_id = 39;\n",
       "                var nbb_unformatted_code = \"if RUN_LANGDETECT:\\n    # Wrapper of `langdetect.detect` with multiprocessing\\n    df[\\\"lang\\\"] = lang.detect_lang(df.loc[:, \\\"text\\\"].str.join(\\\" \\\"), seed=0, n_jobs=-1)\\n    df[\\\"lang\\\"].to_json(\\\"data/langdetect.json\\\")\\nelse:\\n    # Load previous results\\n    df[\\\"lang\\\"] = pd.read_json(\\\"data/langdetect.json\\\", typ=\\\"series\\\")\\n\\n    # Run on difference\\n    missing = df[\\\"lang\\\"].isna()\\n    if missing.any():\\n        df.loc[missing, \\\"lang\\\"] = lang.detect_lang(\\n            df.loc[missing, \\\"text\\\"].str.join(\\\" \\\"),\\n            seed=51,\\n            n_jobs=-1,\\n        )\\n        # Save new results\\n        df[\\\"lang\\\"].to_json(\\\"data/langdetect.json\\\")\\n\\ndf[\\\"lang\\\"].value_counts()\";\n",
       "                var nbb_formatted_code = \"if RUN_LANGDETECT:\\n    # Wrapper of `langdetect.detect` with multiprocessing\\n    df[\\\"lang\\\"] = lang.detect_lang(df.loc[:, \\\"text\\\"].str.join(\\\" \\\"), seed=0, n_jobs=-1)\\n    df[\\\"lang\\\"].to_json(\\\"data/langdetect.json\\\")\\nelse:\\n    # Load previous results\\n    df[\\\"lang\\\"] = pd.read_json(\\\"data/langdetect.json\\\", typ=\\\"series\\\")\\n\\n    # Run on difference\\n    missing = df[\\\"lang\\\"].isna()\\n    if missing.any():\\n        df.loc[missing, \\\"lang\\\"] = lang.detect_lang(\\n            df.loc[missing, \\\"text\\\"].str.join(\\\" \\\"),\\n            seed=51,\\n            n_jobs=-1,\\n        )\\n        # Save new results\\n        df[\\\"lang\\\"].to_json(\\\"data/langdetect.json\\\")\\n\\ndf[\\\"lang\\\"].value_counts()\";\n",
       "                var nbb_cells = Jupyter.notebook.get_cells();\n",
       "                for (var i = 0; i < nbb_cells.length; ++i) {\n",
       "                    if (nbb_cells[i].input_prompt_number == nbb_cell_id) {\n",
       "                        if (nbb_cells[i].get_text() == nbb_unformatted_code) {\n",
       "                             nbb_cells[i].set_text(nbb_formatted_code);\n",
       "                        }\n",
       "                        break;\n",
       "                    }\n",
       "                }\n",
       "            }, 500);\n",
       "            "
      ],
      "text/plain": [
       "<IPython.core.display.Javascript object>"
      ]
     },
     "metadata": {},
     "output_type": "display_data"
    }
   ],
   "source": [
    "if RUN_LANGDETECT:\n",
    "    # Wrapper of `langdetect.detect` with multiprocessing\n",
    "    df[\"lang\"] = lang.detect_lang(df.loc[:, \"text\"].str.join(\" \"), seed=0, n_jobs=-1)\n",
    "    df[\"lang\"].to_json(\"data/langdetect.json\")\n",
    "else:\n",
    "    # Load previous results\n",
    "    df[\"lang\"] = pd.read_json(\"data/langdetect.json\", typ=\"series\")\n",
    "\n",
    "    # Run on difference\n",
    "    missing = df[\"lang\"].isna()\n",
    "    if missing.any():\n",
    "        df.loc[missing, \"lang\"] = lang.detect_lang(\n",
    "            df.loc[missing, \"text\"].str.join(\" \"),\n",
    "            seed=51,\n",
    "            n_jobs=-1,\n",
    "        )\n",
    "        # Save new results\n",
    "        df[\"lang\"].to_json(\"data/langdetect.json\")\n",
    "\n",
    "df[\"lang\"].value_counts()"
   ]
  },
  {
   "cell_type": "code",
   "execution_count": 40,
   "metadata": {
    "ExecuteTime": {
     "end_time": "2021-09-18T20:36:26.469352Z",
     "start_time": "2021-09-18T20:36:22.926692Z"
    }
   },
   "outputs": [
    {
     "data": {
      "text/plain": [
       "en    1070668\n",
       "Name: lang, dtype: int64"
      ]
     },
     "execution_count": 40,
     "metadata": {},
     "output_type": "execute_result"
    },
    {
     "data": {
      "application/javascript": [
       "\n",
       "            setTimeout(function() {\n",
       "                var nbb_cell_id = 40;\n",
       "                var nbb_unformatted_code = \"df = df.loc[df.lang == \\\"en\\\"]\\ndf[\\\"lang\\\"].value_counts()\";\n",
       "                var nbb_formatted_code = \"df = df.loc[df.lang == \\\"en\\\"]\\ndf[\\\"lang\\\"].value_counts()\";\n",
       "                var nbb_cells = Jupyter.notebook.get_cells();\n",
       "                for (var i = 0; i < nbb_cells.length; ++i) {\n",
       "                    if (nbb_cells[i].input_prompt_number == nbb_cell_id) {\n",
       "                        if (nbb_cells[i].get_text() == nbb_unformatted_code) {\n",
       "                             nbb_cells[i].set_text(nbb_formatted_code);\n",
       "                        }\n",
       "                        break;\n",
       "                    }\n",
       "                }\n",
       "            }, 500);\n",
       "            "
      ],
      "text/plain": [
       "<IPython.core.display.Javascript object>"
      ]
     },
     "metadata": {},
     "output_type": "display_data"
    }
   ],
   "source": [
    "df = df.loc[df.lang == \"en\"]\n",
    "df[\"lang\"].value_counts()"
   ]
  },
  {
   "cell_type": "code",
   "execution_count": 41,
   "metadata": {
    "ExecuteTime": {
     "end_time": "2021-09-18T20:36:26.589326Z",
     "start_time": "2021-09-18T20:36:26.471326Z"
    }
   },
   "outputs": [
    {
     "data": {
      "text/plain": [
       "1070668"
      ]
     },
     "execution_count": 41,
     "metadata": {},
     "output_type": "execute_result"
    },
    {
     "data": {
      "application/javascript": [
       "\n",
       "            setTimeout(function() {\n",
       "                var nbb_cell_id = 41;\n",
       "                var nbb_unformatted_code = \"len(df)\";\n",
       "                var nbb_formatted_code = \"len(df)\";\n",
       "                var nbb_cells = Jupyter.notebook.get_cells();\n",
       "                for (var i = 0; i < nbb_cells.length; ++i) {\n",
       "                    if (nbb_cells[i].input_prompt_number == nbb_cell_id) {\n",
       "                        if (nbb_cells[i].get_text() == nbb_unformatted_code) {\n",
       "                             nbb_cells[i].set_text(nbb_formatted_code);\n",
       "                        }\n",
       "                        break;\n",
       "                    }\n",
       "                }\n",
       "            }, 500);\n",
       "            "
      ],
      "text/plain": [
       "<IPython.core.display.Javascript object>"
      ]
     },
     "metadata": {},
     "output_type": "display_data"
    }
   ],
   "source": [
    "len(df)"
   ]
  },
  {
   "cell_type": "markdown",
   "metadata": {},
   "source": [
    "## Removing Stopwords\n",
    "\n",
    "Before searching for collocations, I want to remove stopwords. As you can see below, there are quite a few in the vocabulary."
   ]
  },
  {
   "cell_type": "code",
   "execution_count": 42,
   "metadata": {
    "ExecuteTime": {
     "end_time": "2021-09-18T20:36:27.309352Z",
     "start_time": "2021-09-18T20:36:26.591329Z"
    }
   },
   "outputs": [
    {
     "data": {
      "text/html": [
       "<div>\n",
       "<style scoped>\n",
       "    .dataframe tbody tr th:only-of-type {\n",
       "        vertical-align: middle;\n",
       "    }\n",
       "\n",
       "    .dataframe tbody tr th {\n",
       "        vertical-align: top;\n",
       "    }\n",
       "\n",
       "    .dataframe thead th {\n",
       "        text-align: right;\n",
       "    }\n",
       "</style>\n",
       "<table border=\"1\" class=\"dataframe\">\n",
       "  <thead>\n",
       "    <tr style=\"text-align: right;\">\n",
       "      <th></th>\n",
       "      <th>term</th>\n",
       "      <th>freq</th>\n",
       "      <th>length</th>\n",
       "      <th>uniq_ratio</th>\n",
       "    </tr>\n",
       "  </thead>\n",
       "  <tbody>\n",
       "    <tr>\n",
       "      <th>0</th>\n",
       "      <td>the</td>\n",
       "      <td>73157</td>\n",
       "      <td>3</td>\n",
       "      <td>1.0</td>\n",
       "    </tr>\n",
       "    <tr>\n",
       "      <th>1</th>\n",
       "      <td>and</td>\n",
       "      <td>67144</td>\n",
       "      <td>3</td>\n",
       "      <td>1.0</td>\n",
       "    </tr>\n",
       "    <tr>\n",
       "      <th>2</th>\n",
       "      <td>to</td>\n",
       "      <td>39314</td>\n",
       "      <td>2</td>\n",
       "      <td>1.0</td>\n",
       "    </tr>\n",
       "    <tr>\n",
       "      <th>3</th>\n",
       "      <td>of</td>\n",
       "      <td>36294</td>\n",
       "      <td>2</td>\n",
       "      <td>1.0</td>\n",
       "    </tr>\n",
       "    <tr>\n",
       "      <th>4</th>\n",
       "      <td>for</td>\n",
       "      <td>28181</td>\n",
       "      <td>3</td>\n",
       "      <td>1.0</td>\n",
       "    </tr>\n",
       "    <tr>\n",
       "      <th>5</th>\n",
       "      <td>with</td>\n",
       "      <td>26575</td>\n",
       "      <td>4</td>\n",
       "      <td>1.0</td>\n",
       "    </tr>\n",
       "    <tr>\n",
       "      <th>6</th>\n",
       "      <td>in</td>\n",
       "      <td>26286</td>\n",
       "      <td>2</td>\n",
       "      <td>1.0</td>\n",
       "    </tr>\n",
       "    <tr>\n",
       "      <th>7</th>\n",
       "      <td>is</td>\n",
       "      <td>21437</td>\n",
       "      <td>2</td>\n",
       "      <td>1.0</td>\n",
       "    </tr>\n",
       "    <tr>\n",
       "      <th>8</th>\n",
       "      <td>your</td>\n",
       "      <td>14475</td>\n",
       "      <td>4</td>\n",
       "      <td>1.0</td>\n",
       "    </tr>\n",
       "    <tr>\n",
       "      <th>9</th>\n",
       "      <td>this</td>\n",
       "      <td>12792</td>\n",
       "      <td>4</td>\n",
       "      <td>1.0</td>\n",
       "    </tr>\n",
       "  </tbody>\n",
       "</table>\n",
       "</div>"
      ],
      "text/plain": [
       "   term   freq  length  uniq_ratio\n",
       "0   the  73157       3         1.0\n",
       "1   and  67144       3         1.0\n",
       "2    to  39314       2         1.0\n",
       "3    of  36294       2         1.0\n",
       "4   for  28181       3         1.0\n",
       "5  with  26575       4         1.0\n",
       "6    in  26286       2         1.0\n",
       "7    is  21437       2         1.0\n",
       "8  your  14475       4         1.0\n",
       "9  this  12792       4         1.0"
      ]
     },
     "execution_count": 42,
     "metadata": {},
     "output_type": "execute_result"
    },
    {
     "data": {
      "application/javascript": [
       "\n",
       "            setTimeout(function() {\n",
       "                var nbb_cell_id = 42;\n",
       "                var nbb_unformatted_code = \"samp_vocab = build_sample_vocab(df.loc[:, \\\"text\\\"], 10 ** 4, sortby=\\\"freq\\\")\\nsamp_vocab.head(10)\";\n",
       "                var nbb_formatted_code = \"samp_vocab = build_sample_vocab(df.loc[:, \\\"text\\\"], 10 ** 4, sortby=\\\"freq\\\")\\nsamp_vocab.head(10)\";\n",
       "                var nbb_cells = Jupyter.notebook.get_cells();\n",
       "                for (var i = 0; i < nbb_cells.length; ++i) {\n",
       "                    if (nbb_cells[i].input_prompt_number == nbb_cell_id) {\n",
       "                        if (nbb_cells[i].get_text() == nbb_unformatted_code) {\n",
       "                             nbb_cells[i].set_text(nbb_formatted_code);\n",
       "                        }\n",
       "                        break;\n",
       "                    }\n",
       "                }\n",
       "            }, 500);\n",
       "            "
      ],
      "text/plain": [
       "<IPython.core.display.Javascript object>"
      ]
     },
     "metadata": {},
     "output_type": "display_data"
    }
   ],
   "source": [
    "samp_vocab = build_sample_vocab(df.loc[:, \"text\"], 10 ** 4, sortby=\"freq\")\n",
    "samp_vocab.head(10)"
   ]
  },
  {
   "cell_type": "code",
   "execution_count": 43,
   "metadata": {
    "ExecuteTime": {
     "end_time": "2021-09-18T20:36:27.923326Z",
     "start_time": "2021-09-18T20:36:27.311325Z"
    }
   },
   "outputs": [
    {
     "name": "stdout",
     "output_type": "stream",
     "text": [
      "{'about', 'above', 'after', 'again', 'against', 'ain', 'all', 'am', 'an', 'and',\n",
      " 'any', 'are', 'aren', 'as', 'be', 'because', 'been', 'before', 'being',\n",
      " 'below', 'between', 'both', 'but', 'by', 'can', 'couldn', 'did', 'didn', 'do',\n",
      " 'does', 'doesn', 'doing', 'don', 'down', 'during', 'each', 'few', 'for',\n",
      " 'from', 'further', 'had', 'hadn', 'has', 'hasn', 'have', 'haven', 'having',\n",
      " 'he', 'her', 'here', 'hers', 'herself', 'him', 'himself', 'his', 'how', 'if',\n",
      " 'in', 'into', 'is', 'isn', 'it', 'its', 'itself', 'just', 'll', 'ma', 'me',\n",
      " 'mightn', 'more', 'most', 'mustn', 'my', 'myself', 'needn', 'no', 'nor', 'not',\n",
      " 'now', 'of', 'off', 'on', 'once', 'only', 'or', 'other', 'our', 'ours',\n",
      " 'ourselves', 'out', 'over', 'own', 're', 'same', 'shan', 'she', 'should',\n",
      " 'shouldn', 'so', 'some', 'such', 'than', 'that', 'the', 'their', 'theirs',\n",
      " 'them', 'themselves', 'then', 'there', 'these', 'they', 'this', 'those',\n",
      " 'through', 'to', 'too', 'under', 'until', 'up', 've', 'very', 'was', 'wasn',\n",
      " 'we', 'were', 'weren', 'what', 'when', 'where', 'which', 'while', 'who',\n",
      " 'whom', 'why', 'will', 'with', 'won', 'wouldn', 'you', 'your', 'yours',\n",
      " 'yourself', 'yourselves'}\n"
     ]
    },
    {
     "data": {
      "application/javascript": [
       "\n",
       "            setTimeout(function() {\n",
       "                var nbb_cell_id = 43;\n",
       "                var nbb_unformatted_code = \"# Fetch stopwords\\nstop = lang.fetch_stopwords(\\\"nltk_english\\\")\\n# Run through tokenizer\\nstop = {y for x in stop for y in regex_tokenize(x)}\\n# Make sure there are no brand terms\\nstop = stop.difference(df[\\\"brand\\\"])\\npprint(stop, compact=True)\";\n",
       "                var nbb_formatted_code = \"# Fetch stopwords\\nstop = lang.fetch_stopwords(\\\"nltk_english\\\")\\n# Run through tokenizer\\nstop = {y for x in stop for y in regex_tokenize(x)}\\n# Make sure there are no brand terms\\nstop = stop.difference(df[\\\"brand\\\"])\\npprint(stop, compact=True)\";\n",
       "                var nbb_cells = Jupyter.notebook.get_cells();\n",
       "                for (var i = 0; i < nbb_cells.length; ++i) {\n",
       "                    if (nbb_cells[i].input_prompt_number == nbb_cell_id) {\n",
       "                        if (nbb_cells[i].get_text() == nbb_unformatted_code) {\n",
       "                             nbb_cells[i].set_text(nbb_formatted_code);\n",
       "                        }\n",
       "                        break;\n",
       "                    }\n",
       "                }\n",
       "            }, 500);\n",
       "            "
      ],
      "text/plain": [
       "<IPython.core.display.Javascript object>"
      ]
     },
     "metadata": {},
     "output_type": "display_data"
    }
   ],
   "source": [
    "# Fetch stopwords\n",
    "stop = lang.fetch_stopwords(\"nltk_english\")\n",
    "# Run through tokenizer\n",
    "stop = {y for x in stop for y in regex_tokenize(x)}\n",
    "# Make sure there are no brand terms\n",
    "stop = stop.difference(df[\"brand\"])\n",
    "pprint(stop, compact=True)"
   ]
  },
  {
   "cell_type": "markdown",
   "metadata": {},
   "source": [
    "I add some more domain-specific stopwords."
   ]
  },
  {
   "cell_type": "code",
   "execution_count": 44,
   "metadata": {
    "ExecuteTime": {
     "end_time": "2021-09-18T20:36:28.466331Z",
     "start_time": "2021-09-18T20:36:27.925327Z"
    }
   },
   "outputs": [
    {
     "name": "stdout",
     "output_type": "stream",
     "text": [
      "{'about', 'above', 'address', 'addresses', 'after', 'again', 'against', 'ain',\n",
      " 'all', 'am', 'an', 'and', 'any', 'apo', 'are', 'aren', 'as', 'asin', 'be',\n",
      " 'because', 'been', 'before', 'being', 'below', 'between', 'both', 'but', 'by',\n",
      " 'can', 'couldn', 'customer', 'did', 'didn', 'dimensions', 'do', 'does',\n",
      " 'doesn', 'doing', 'don', 'down', 'during', 'each', 'eligible', 'few', 'for',\n",
      " 'fpo', 'from', 'further', 'had', 'hadn', 'has', 'hasn', 'have', 'haven',\n",
      " 'having', 'he', 'her', 'here', 'hers', 'herself', 'him', 'himself', 'his',\n",
      " 'how', 'if', 'in', 'inches', 'into', 'is', 'isn', 'it', 'item', 'its',\n",
      " 'itself', 'just', 'listed', 'll', 'ma', 'me', 'mightn', 'more', 'most',\n",
      " 'mustn', 'my', 'myself', 'needn', 'no', 'none', 'nor', 'not', 'now', 'of',\n",
      " 'off', 'on', 'once', 'only', 'or', 'other', 'ounces', 'our', 'ours',\n",
      " 'ourselves', 'out', 'over', 'own', 'package', 'pounds', 'product', 're',\n",
      " 'review', 'reviewed', 'reviewer', 'reviews', 'same', 'shan', 'she',\n",
      " 'shipments', 'shipped', 'shipper', 'shipping', 'should', 'shouldn', 'so',\n",
      " 'some', 'such', 'support', 'than', 'that', 'the', 'their', 'theirs', 'them',\n",
      " 'themselves', 'then', 'there', 'these', 'they', 'this', 'those', 'through',\n",
      " 'to', 'too', 'under', 'until', 'up', 've', 'very', 'was', 'wasn', 'we',\n",
      " 'weight', 'were', 'weren', 'what', 'when', 'where', 'which', 'while', 'who',\n",
      " 'whom', 'why', 'will', 'with', 'within', 'won', 'wouldn', 'you', 'your',\n",
      " 'yours', 'yourself', 'yourselves'}\n"
     ]
    },
    {
     "data": {
      "application/javascript": [
       "\n",
       "            setTimeout(function() {\n",
       "                var nbb_cell_id = 44;\n",
       "                var nbb_unformatted_code = \"more_stop = [\\n    \\\"none\\\",\\n    \\\"inches\\\",\\n    \\\"shipping\\\",\\n    \\\"shipped\\\",\\n    \\\"shipper\\\",\\n    \\\"shipments\\\",\\n    \\\"package\\\",\\n    \\\"product\\\",\\n    \\\"weight\\\",\\n    \\\"pounds\\\",\\n    \\\"ounces\\\",\\n    \\\"dimensions\\\",\\n    \\\"asin\\\",\\n    \\\"item\\\",\\n    \\\"listed\\\",\\n    \\\"within\\\",\\n    \\\"apo\\\",\\n    \\\"fpo\\\",\\n    \\\"address\\\",\\n    \\\"addresses\\\",\\n    \\\"support\\\",\\n    \\\"eligible\\\",\\n    \\\"customer\\\",\\n    \\\"review\\\",\\n    \\\"reviews\\\",\\n    \\\"reviewer\\\",\\n    \\\"reviewed\\\",\\n]\\nstop.update({y for x in more_stop for y in regex_tokenize(x)})\\nwith open(\\\"canonical_params/stopwords.json\\\", \\\"w\\\") as f:\\n    json.dump(list(stop), f)\\npprint(stop, compact=True)\";\n",
       "                var nbb_formatted_code = \"more_stop = [\\n    \\\"none\\\",\\n    \\\"inches\\\",\\n    \\\"shipping\\\",\\n    \\\"shipped\\\",\\n    \\\"shipper\\\",\\n    \\\"shipments\\\",\\n    \\\"package\\\",\\n    \\\"product\\\",\\n    \\\"weight\\\",\\n    \\\"pounds\\\",\\n    \\\"ounces\\\",\\n    \\\"dimensions\\\",\\n    \\\"asin\\\",\\n    \\\"item\\\",\\n    \\\"listed\\\",\\n    \\\"within\\\",\\n    \\\"apo\\\",\\n    \\\"fpo\\\",\\n    \\\"address\\\",\\n    \\\"addresses\\\",\\n    \\\"support\\\",\\n    \\\"eligible\\\",\\n    \\\"customer\\\",\\n    \\\"review\\\",\\n    \\\"reviews\\\",\\n    \\\"reviewer\\\",\\n    \\\"reviewed\\\",\\n]\\nstop.update({y for x in more_stop for y in regex_tokenize(x)})\\nwith open(\\\"canonical_params/stopwords.json\\\", \\\"w\\\") as f:\\n    json.dump(list(stop), f)\\npprint(stop, compact=True)\";\n",
       "                var nbb_cells = Jupyter.notebook.get_cells();\n",
       "                for (var i = 0; i < nbb_cells.length; ++i) {\n",
       "                    if (nbb_cells[i].input_prompt_number == nbb_cell_id) {\n",
       "                        if (nbb_cells[i].get_text() == nbb_unformatted_code) {\n",
       "                             nbb_cells[i].set_text(nbb_formatted_code);\n",
       "                        }\n",
       "                        break;\n",
       "                    }\n",
       "                }\n",
       "            }, 500);\n",
       "            "
      ],
      "text/plain": [
       "<IPython.core.display.Javascript object>"
      ]
     },
     "metadata": {},
     "output_type": "display_data"
    }
   ],
   "source": [
    "more_stop = [\n",
    "    \"none\",\n",
    "    \"inches\",\n",
    "    \"shipping\",\n",
    "    \"shipped\",\n",
    "    \"shipper\",\n",
    "    \"shipments\",\n",
    "    \"package\",\n",
    "    \"product\",\n",
    "    \"weight\",\n",
    "    \"pounds\",\n",
    "    \"ounces\",\n",
    "    \"dimensions\",\n",
    "    \"asin\",\n",
    "    \"item\",\n",
    "    \"listed\",\n",
    "    \"within\",\n",
    "    \"apo\",\n",
    "    \"fpo\",\n",
    "    \"address\",\n",
    "    \"addresses\",\n",
    "    \"support\",\n",
    "    \"eligible\",\n",
    "    \"customer\",\n",
    "    \"review\",\n",
    "    \"reviews\",\n",
    "    \"reviewer\",\n",
    "    \"reviewed\",\n",
    "]\n",
    "stop.update({y for x in more_stop for y in regex_tokenize(x)})\n",
    "with open(\"canonical_params/stopwords.json\", \"w\") as f:\n",
    "    json.dump(list(stop), f)\n",
    "pprint(stop, compact=True)"
   ]
  },
  {
   "cell_type": "code",
   "execution_count": 45,
   "metadata": {
    "ExecuteTime": {
     "end_time": "2021-09-18T20:36:29.146326Z",
     "start_time": "2021-09-18T20:36:28.469327Z"
    }
   },
   "outputs": [
    {
     "data": {
      "text/html": [
       "<div>\n",
       "<style scoped>\n",
       "    .dataframe tbody tr th:only-of-type {\n",
       "        vertical-align: middle;\n",
       "    }\n",
       "\n",
       "    .dataframe tbody tr th {\n",
       "        vertical-align: top;\n",
       "    }\n",
       "\n",
       "    .dataframe thead th {\n",
       "        text-align: right;\n",
       "    }\n",
       "</style>\n",
       "<table border=\"1\" class=\"dataframe\">\n",
       "  <thead>\n",
       "    <tr style=\"text-align: right;\">\n",
       "      <th></th>\n",
       "      <th>term</th>\n",
       "      <th>freq</th>\n",
       "      <th>length</th>\n",
       "      <th>uniq_ratio</th>\n",
       "    </tr>\n",
       "  </thead>\n",
       "  <tbody>\n",
       "    <tr>\n",
       "      <th>0</th>\n",
       "      <td>the</td>\n",
       "      <td>73157</td>\n",
       "      <td>3</td>\n",
       "      <td>1.0</td>\n",
       "    </tr>\n",
       "    <tr>\n",
       "      <th>1</th>\n",
       "      <td>and</td>\n",
       "      <td>67144</td>\n",
       "      <td>3</td>\n",
       "      <td>1.0</td>\n",
       "    </tr>\n",
       "    <tr>\n",
       "      <th>2</th>\n",
       "      <td>to</td>\n",
       "      <td>39314</td>\n",
       "      <td>2</td>\n",
       "      <td>1.0</td>\n",
       "    </tr>\n",
       "    <tr>\n",
       "      <th>3</th>\n",
       "      <td>of</td>\n",
       "      <td>36294</td>\n",
       "      <td>2</td>\n",
       "      <td>1.0</td>\n",
       "    </tr>\n",
       "    <tr>\n",
       "      <th>4</th>\n",
       "      <td>for</td>\n",
       "      <td>28181</td>\n",
       "      <td>3</td>\n",
       "      <td>1.0</td>\n",
       "    </tr>\n",
       "    <tr>\n",
       "      <th>5</th>\n",
       "      <td>with</td>\n",
       "      <td>26575</td>\n",
       "      <td>4</td>\n",
       "      <td>1.0</td>\n",
       "    </tr>\n",
       "    <tr>\n",
       "      <th>6</th>\n",
       "      <td>in</td>\n",
       "      <td>26286</td>\n",
       "      <td>2</td>\n",
       "      <td>1.0</td>\n",
       "    </tr>\n",
       "    <tr>\n",
       "      <th>7</th>\n",
       "      <td>is</td>\n",
       "      <td>21437</td>\n",
       "      <td>2</td>\n",
       "      <td>1.0</td>\n",
       "    </tr>\n",
       "    <tr>\n",
       "      <th>8</th>\n",
       "      <td>your</td>\n",
       "      <td>14475</td>\n",
       "      <td>4</td>\n",
       "      <td>1.0</td>\n",
       "    </tr>\n",
       "    <tr>\n",
       "      <th>9</th>\n",
       "      <td>this</td>\n",
       "      <td>12792</td>\n",
       "      <td>4</td>\n",
       "      <td>1.0</td>\n",
       "    </tr>\n",
       "  </tbody>\n",
       "</table>\n",
       "</div>"
      ],
      "text/plain": [
       "   term   freq  length  uniq_ratio\n",
       "0   the  73157       3         1.0\n",
       "1   and  67144       3         1.0\n",
       "2    to  39314       2         1.0\n",
       "3    of  36294       2         1.0\n",
       "4   for  28181       3         1.0\n",
       "5  with  26575       4         1.0\n",
       "6    in  26286       2         1.0\n",
       "7    is  21437       2         1.0\n",
       "8  your  14475       4         1.0\n",
       "9  this  12792       4         1.0"
      ]
     },
     "execution_count": 45,
     "metadata": {},
     "output_type": "execute_result"
    },
    {
     "data": {
      "application/javascript": [
       "\n",
       "            setTimeout(function() {\n",
       "                var nbb_cell_id = 45;\n",
       "                var nbb_unformatted_code = \"samp_vocab = build_sample_vocab(df[\\\"text\\\"], 10 ** 4, sortby=\\\"freq\\\")\\nsamp_vocab.head(10)\";\n",
       "                var nbb_formatted_code = \"samp_vocab = build_sample_vocab(df[\\\"text\\\"], 10 ** 4, sortby=\\\"freq\\\")\\nsamp_vocab.head(10)\";\n",
       "                var nbb_cells = Jupyter.notebook.get_cells();\n",
       "                for (var i = 0; i < nbb_cells.length; ++i) {\n",
       "                    if (nbb_cells[i].input_prompt_number == nbb_cell_id) {\n",
       "                        if (nbb_cells[i].get_text() == nbb_unformatted_code) {\n",
       "                             nbb_cells[i].set_text(nbb_formatted_code);\n",
       "                        }\n",
       "                        break;\n",
       "                    }\n",
       "                }\n",
       "            }, 500);\n",
       "            "
      ],
      "text/plain": [
       "<IPython.core.display.Javascript object>"
      ]
     },
     "metadata": {},
     "output_type": "display_data"
    }
   ],
   "source": [
    "samp_vocab = build_sample_vocab(df[\"text\"], 10 ** 4, sortby=\"freq\")\n",
    "samp_vocab.head(10)"
   ]
  },
  {
   "cell_type": "code",
   "execution_count": 52,
   "metadata": {
    "ExecuteTime": {
     "end_time": "2021-09-18T20:50:57.425072Z",
     "start_time": "2021-09-18T20:50:51.646070Z"
    }
   },
   "outputs": [
    {
     "data": {
      "text/plain": [
       "398"
      ]
     },
     "execution_count": 52,
     "metadata": {},
     "output_type": "execute_result"
    },
    {
     "data": {
      "application/javascript": [
       "\n",
       "            setTimeout(function() {\n",
       "                var nbb_cell_id = 52;\n",
       "                var nbb_unformatted_code = \"gc.collect()\";\n",
       "                var nbb_formatted_code = \"gc.collect()\";\n",
       "                var nbb_cells = Jupyter.notebook.get_cells();\n",
       "                for (var i = 0; i < nbb_cells.length; ++i) {\n",
       "                    if (nbb_cells[i].input_prompt_number == nbb_cell_id) {\n",
       "                        if (nbb_cells[i].get_text() == nbb_unformatted_code) {\n",
       "                             nbb_cells[i].set_text(nbb_formatted_code);\n",
       "                        }\n",
       "                        break;\n",
       "                    }\n",
       "                }\n",
       "            }, 500);\n",
       "            "
      ],
      "text/plain": [
       "<IPython.core.display.Javascript object>"
      ]
     },
     "metadata": {},
     "output_type": "display_data"
    }
   ],
   "source": [
    "gc.collect()"
   ]
  },
  {
   "cell_type": "code",
   "execution_count": 51,
   "metadata": {
    "ExecuteTime": {
     "end_time": "2021-09-18T20:50:44.382433Z",
     "start_time": "2021-09-18T20:47:18.915553Z"
    }
   },
   "outputs": [
    {
     "data": {
      "application/vnd.jupyter.widget-view+json": {
       "model_id": "49028a89b731468db1b052cfa7f54e23",
       "version_major": 2,
       "version_minor": 0
      },
      "text/plain": [
       "remove_stopwords:   0%|          | 0/1070668 [00:00<?, ?it/s]"
      ]
     },
     "metadata": {},
     "output_type": "display_data"
    },
    {
     "data": {
      "text/plain": [
       "asin\n",
       "B000050AUH    [philips, sonicare, standard, brush, head, son...\n",
       "B000050B62    [norelco, xl, deluxe, reflex, action, cord, co...\n",
       "B000050B63    [norelco, xl, quadra, action, cord, cordless, ...\n",
       "B000050B64    [norelco, xl, quadra, action, cord, cordless, ...\n",
       "B000050B65    [norelco, xl, deluxe, quadra, action, cord, co...\n",
       "Name: text, dtype: object"
      ]
     },
     "execution_count": 51,
     "metadata": {},
     "output_type": "execute_result"
    },
    {
     "data": {
      "application/javascript": [
       "\n",
       "            setTimeout(function() {\n",
       "                var nbb_cell_id = 51;\n",
       "                var nbb_unformatted_code = \"df = df.assign(text=lang.remove_stopwords(df.loc[:, \\\"text\\\"], stop))\\ndf[\\\"text\\\"].head()\";\n",
       "                var nbb_formatted_code = \"df = df.assign(text=lang.remove_stopwords(df.loc[:, \\\"text\\\"], stop))\\ndf[\\\"text\\\"].head()\";\n",
       "                var nbb_cells = Jupyter.notebook.get_cells();\n",
       "                for (var i = 0; i < nbb_cells.length; ++i) {\n",
       "                    if (nbb_cells[i].input_prompt_number == nbb_cell_id) {\n",
       "                        if (nbb_cells[i].get_text() == nbb_unformatted_code) {\n",
       "                             nbb_cells[i].set_text(nbb_formatted_code);\n",
       "                        }\n",
       "                        break;\n",
       "                    }\n",
       "                }\n",
       "            }, 500);\n",
       "            "
      ],
      "text/plain": [
       "<IPython.core.display.Javascript object>"
      ]
     },
     "metadata": {},
     "output_type": "display_data"
    }
   ],
   "source": [
    "df = df.assign(text=lang.remove_stopwords(df.loc[:, \"text\"], stop))\n",
    "df[\"text\"].head()"
   ]
  },
  {
   "cell_type": "markdown",
   "metadata": {},
   "source": [
    "## Multi-word Expressions\n",
    "\n",
    "I already have a lot of high quality brand phrases which I expect to be strong features for the model. I'll go ahead and prepare those.\n",
    "\n",
    "Recall that there are still some ultra-rare brands in the dataset. I don't care about turning those into phrases, so I slice out brands with at least 10 products."
   ]
  },
  {
   "cell_type": "code",
   "execution_count": 53,
   "metadata": {
    "ExecuteTime": {
     "end_time": "2021-09-18T20:52:13.345927Z",
     "start_time": "2021-09-18T20:52:13.060925Z"
    }
   },
   "outputs": [
    {
     "data": {
      "text/plain": [
       "2                  (yu, gi, oh)\n",
       "3       (magic, the, gathering)\n",
       "7          (amazon, collection)\n",
       "8            (various, artists)\n",
       "12              (evan, fischer)\n",
       "                 ...           \n",
       "8777    (marcello, mastroianni)\n",
       "8778              (benny, hinn)\n",
       "8779            (estee, lauder)\n",
       "8780              (celia, cruz)\n",
       "8782          (cedarmont, kids)\n",
       "Length: 6547, dtype: object"
      ]
     },
     "execution_count": 53,
     "metadata": {},
     "output_type": "execute_result"
    },
    {
     "data": {
      "application/javascript": [
       "\n",
       "            setTimeout(function() {\n",
       "                var nbb_cell_id = 53;\n",
       "                var nbb_unformatted_code = \"brand_counts = df[\\\"brand\\\"].value_counts()\\nbrand_ng = pd.Series(brand_counts[brand_counts >= 10].index).str.split(\\\"_\\\").map(tuple)\\nbrand_ng = brand_ng.loc[brand_ng.str.len() > 1]\\nbrand_ng\";\n",
       "                var nbb_formatted_code = \"brand_counts = df[\\\"brand\\\"].value_counts()\\nbrand_ng = pd.Series(brand_counts[brand_counts >= 10].index).str.split(\\\"_\\\").map(tuple)\\nbrand_ng = brand_ng.loc[brand_ng.str.len() > 1]\\nbrand_ng\";\n",
       "                var nbb_cells = Jupyter.notebook.get_cells();\n",
       "                for (var i = 0; i < nbb_cells.length; ++i) {\n",
       "                    if (nbb_cells[i].input_prompt_number == nbb_cell_id) {\n",
       "                        if (nbb_cells[i].get_text() == nbb_unformatted_code) {\n",
       "                             nbb_cells[i].set_text(nbb_formatted_code);\n",
       "                        }\n",
       "                        break;\n",
       "                    }\n",
       "                }\n",
       "            }, 500);\n",
       "            "
      ],
      "text/plain": [
       "<IPython.core.display.Javascript object>"
      ]
     },
     "metadata": {},
     "output_type": "display_data"
    }
   ],
   "source": [
    "brand_counts = df[\"brand\"].value_counts()\n",
    "brand_ng = pd.Series(brand_counts[brand_counts >= 10].index).str.split(\"_\").map(tuple)\n",
    "brand_ng = brand_ng.loc[brand_ng.str.len() > 1]\n",
    "brand_ng"
   ]
  },
  {
   "cell_type": "markdown",
   "metadata": {},
   "source": [
    "Next I stitch the tokens back together so I can run the text through my n-gram search function."
   ]
  },
  {
   "cell_type": "code",
   "execution_count": 54,
   "metadata": {
    "ExecuteTime": {
     "end_time": "2021-09-18T20:52:21.477526Z",
     "start_time": "2021-09-18T20:52:14.916460Z"
    },
    "run_control": {
     "marked": false
    }
   },
   "outputs": [
    {
     "data": {
      "text/plain": [
       "asin\n",
       "B000050AUH    philips sonicare standard brush head sonic wav...\n",
       "B000050B62    norelco xl deluxe reflex action cord cordless ...\n",
       "B000050B63    norelco xl quadra action cord cordless recharg...\n",
       "B000050B64    norelco xl quadra action cord cordless recharg...\n",
       "B000050B65    norelco xl deluxe quadra action cord cordless ...\n",
       "Name: text, dtype: object"
      ]
     },
     "execution_count": 54,
     "metadata": {},
     "output_type": "execute_result"
    },
    {
     "data": {
      "application/javascript": [
       "\n",
       "            setTimeout(function() {\n",
       "                var nbb_cell_id = 54;\n",
       "                var nbb_unformatted_code = \"# Stitch tokens back together\\ndf[\\\"text\\\"] = df.loc[:, \\\"text\\\"].str.join(\\\" \\\")\\ndf[\\\"text\\\"].head()\";\n",
       "                var nbb_formatted_code = \"# Stitch tokens back together\\ndf[\\\"text\\\"] = df.loc[:, \\\"text\\\"].str.join(\\\" \\\")\\ndf[\\\"text\\\"].head()\";\n",
       "                var nbb_cells = Jupyter.notebook.get_cells();\n",
       "                for (var i = 0; i < nbb_cells.length; ++i) {\n",
       "                    if (nbb_cells[i].input_prompt_number == nbb_cell_id) {\n",
       "                        if (nbb_cells[i].get_text() == nbb_unformatted_code) {\n",
       "                             nbb_cells[i].set_text(nbb_formatted_code);\n",
       "                        }\n",
       "                        break;\n",
       "                    }\n",
       "                }\n",
       "            }, 500);\n",
       "            "
      ],
      "text/plain": [
       "<IPython.core.display.Javascript object>"
      ]
     },
     "metadata": {},
     "output_type": "display_data"
    }
   ],
   "source": [
    "# Stitch tokens back together\n",
    "df[\"text\"] = df.loc[:, \"text\"].str.join(\" \")\n",
    "df[\"text\"].head()"
   ]
  },
  {
   "cell_type": "markdown",
   "metadata": {},
   "source": [
    "I search for collocations in the text in a stratified fashion, scanning the documents of each 'main_cat' category as a separate corpus. The goal is to find n-grams which are peculiar to each category. I use pointwise mutual information (PMI) to identify bigrams."
   ]
  },
  {
   "cell_type": "code",
   "execution_count": 55,
   "metadata": {
    "ExecuteTime": {
     "end_time": "2021-09-18T20:54:39.292630Z",
     "start_time": "2021-09-18T20:53:01.119653Z"
    }
   },
   "outputs": [
    {
     "data": {
      "application/vnd.jupyter.widget-view+json": {
       "model_id": "6bbfba73e52142cd86bd69ec79413a61",
       "version_major": 2,
       "version_minor": 0
      },
      "text/plain": [
       "scored_ngrams:   0%|          | 0/36 [00:00<?, ?it/s]"
      ]
     },
     "metadata": {},
     "output_type": "display_data"
    },
    {
     "data": {
      "text/html": [
       "<div>\n",
       "<style scoped>\n",
       "    .dataframe tbody tr th:only-of-type {\n",
       "        vertical-align: middle;\n",
       "    }\n",
       "\n",
       "    .dataframe tbody tr th {\n",
       "        vertical-align: top;\n",
       "    }\n",
       "\n",
       "    .dataframe thead th {\n",
       "        text-align: right;\n",
       "    }\n",
       "</style>\n",
       "<table border=\"1\" class=\"dataframe\">\n",
       "  <thead>\n",
       "    <tr style=\"text-align: right;\">\n",
       "      <th></th>\n",
       "      <th>bigram</th>\n",
       "      <th>score</th>\n",
       "      <th>main_cat</th>\n",
       "    </tr>\n",
       "  </thead>\n",
       "  <tbody>\n",
       "    <tr>\n",
       "      <th>0</th>\n",
       "      <td>(year, warranty)</td>\n",
       "      <td>9.761651</td>\n",
       "      <td>all beauty</td>\n",
       "    </tr>\n",
       "    <tr>\n",
       "      <th>1</th>\n",
       "      <td>(tom, maine)</td>\n",
       "      <td>9.698357</td>\n",
       "      <td>all beauty</td>\n",
       "    </tr>\n",
       "    <tr>\n",
       "      <th>2</th>\n",
       "      <td>(old, spice)</td>\n",
       "      <td>9.525500</td>\n",
       "      <td>all beauty</td>\n",
       "    </tr>\n",
       "    <tr>\n",
       "      <th>3</th>\n",
       "      <td>(diamond, fx)</td>\n",
       "      <td>9.017789</td>\n",
       "      <td>all beauty</td>\n",
       "    </tr>\n",
       "    <tr>\n",
       "      <th>4</th>\n",
       "      <td>(pro, health)</td>\n",
       "      <td>8.997002</td>\n",
       "      <td>all beauty</td>\n",
       "    </tr>\n",
       "    <tr>\n",
       "      <th>...</th>\n",
       "      <td>...</td>\n",
       "      <td>...</td>\n",
       "      <td>...</td>\n",
       "    </tr>\n",
       "    <tr>\n",
       "      <th>116067</th>\n",
       "      <td>(players, able)</td>\n",
       "      <td>5.038365</td>\n",
       "      <td>video games</td>\n",
       "    </tr>\n",
       "    <tr>\n",
       "      <th>116068</th>\n",
       "      <td>(object, game)</td>\n",
       "      <td>5.017658</td>\n",
       "      <td>video games</td>\n",
       "    </tr>\n",
       "    <tr>\n",
       "      <th>116069</th>\n",
       "      <td>(story, mode)</td>\n",
       "      <td>4.993633</td>\n",
       "      <td>video games</td>\n",
       "    </tr>\n",
       "    <tr>\n",
       "      <th>116070</th>\n",
       "      <td>(team, based)</td>\n",
       "      <td>4.959796</td>\n",
       "      <td>video games</td>\n",
       "    </tr>\n",
       "    <tr>\n",
       "      <th>116071</th>\n",
       "      <td>(required, game)</td>\n",
       "      <td>4.951781</td>\n",
       "      <td>video games</td>\n",
       "    </tr>\n",
       "  </tbody>\n",
       "</table>\n",
       "<p>116072 rows × 3 columns</p>\n",
       "</div>"
      ],
      "text/plain": [
       "                  bigram     score     main_cat\n",
       "0       (year, warranty)  9.761651   all beauty\n",
       "1           (tom, maine)  9.698357   all beauty\n",
       "2           (old, spice)  9.525500   all beauty\n",
       "3          (diamond, fx)  9.017789   all beauty\n",
       "4          (pro, health)  8.997002   all beauty\n",
       "...                  ...       ...          ...\n",
       "116067   (players, able)  5.038365  video games\n",
       "116068    (object, game)  5.017658  video games\n",
       "116069     (story, mode)  4.993633  video games\n",
       "116070     (team, based)  4.959796  video games\n",
       "116071  (required, game)  4.951781  video games\n",
       "\n",
       "[116072 rows x 3 columns]"
      ]
     },
     "execution_count": 55,
     "metadata": {},
     "output_type": "execute_result"
    },
    {
     "data": {
      "application/javascript": [
       "\n",
       "            setTimeout(function() {\n",
       "                var nbb_cell_id = 55;\n",
       "                var nbb_unformatted_code = \"cat_bg = lang.stratified_ngrams(\\n    df,\\n    n=2,\\n    text=\\\"text\\\",\\n    # Stratify by 'main_cat'\\n    cat=\\\"main_cat\\\",\\n    # Can simply space-tokenize now\\n    tokenizer=lang.space_tokenize,\\n    # Use pointwise mutual information\\n    metric=\\\"pmi\\\",\\n    # Select top 75% of scores in each category\\n    select_best=0.75,\\n    # Filter out ultra-rare ngrams\\n    min_freq=100,\\n    n_jobs=-1,\\n)\\ncat_bg\";\n",
       "                var nbb_formatted_code = \"cat_bg = lang.stratified_ngrams(\\n    df,\\n    n=2,\\n    text=\\\"text\\\",\\n    # Stratify by 'main_cat'\\n    cat=\\\"main_cat\\\",\\n    # Can simply space-tokenize now\\n    tokenizer=lang.space_tokenize,\\n    # Use pointwise mutual information\\n    metric=\\\"pmi\\\",\\n    # Select top 75% of scores in each category\\n    select_best=0.75,\\n    # Filter out ultra-rare ngrams\\n    min_freq=100,\\n    n_jobs=-1,\\n)\\ncat_bg\";\n",
       "                var nbb_cells = Jupyter.notebook.get_cells();\n",
       "                for (var i = 0; i < nbb_cells.length; ++i) {\n",
       "                    if (nbb_cells[i].input_prompt_number == nbb_cell_id) {\n",
       "                        if (nbb_cells[i].get_text() == nbb_unformatted_code) {\n",
       "                             nbb_cells[i].set_text(nbb_formatted_code);\n",
       "                        }\n",
       "                        break;\n",
       "                    }\n",
       "                }\n",
       "            }, 500);\n",
       "            "
      ],
      "text/plain": [
       "<IPython.core.display.Javascript object>"
      ]
     },
     "metadata": {},
     "output_type": "display_data"
    }
   ],
   "source": [
    "cat_bg = lang.stratified_ngrams(\n",
    "    df,\n",
    "    n=2,\n",
    "    text=\"text\",\n",
    "    # Stratify by 'main_cat'\n",
    "    cat=\"main_cat\",\n",
    "    # Can simply space-tokenize now\n",
    "    tokenizer=lang.space_tokenize,\n",
    "    # Use pointwise mutual information\n",
    "    metric=\"pmi\",\n",
    "    # Select top 75% of scores in each category\n",
    "    select_best=0.75,\n",
    "    # Filter out ultra-rare ngrams\n",
    "    min_freq=100,\n",
    "    n_jobs=-1,\n",
    ")\n",
    "cat_bg"
   ]
  },
  {
   "cell_type": "code",
   "execution_count": 56,
   "metadata": {
    "ExecuteTime": {
     "end_time": "2021-09-18T20:54:39.584633Z",
     "start_time": "2021-09-18T20:54:39.298627Z"
    }
   },
   "outputs": [
    {
     "data": {
      "text/plain": [
       "99963"
      ]
     },
     "metadata": {},
     "output_type": "display_data"
    },
    {
     "data": {
      "text/plain": [
       "[('year', 'warranty'),\n",
       " ('tom', 'maine'),\n",
       " ('old', 'spice'),\n",
       " ('diamond', 'fx'),\n",
       " ('pro', 'health'),\n",
       " ('face', 'paint'),\n",
       " ('philips', 'sonicare'),\n",
       " ('philips', 'norelco'),\n",
       " ('brand', 'new'),\n",
       " ('high', 'quality')]"
      ]
     },
     "execution_count": 56,
     "metadata": {},
     "output_type": "execute_result"
    },
    {
     "data": {
      "application/javascript": [
       "\n",
       "            setTimeout(function() {\n",
       "                var nbb_cell_id = 56;\n",
       "                var nbb_unformatted_code = \"# Merge ngrams into single list\\nphrases = cat_bg[\\\"bigram\\\"].append(brand_ng).drop_duplicates().to_list()\\ndisplay(len(phrases))\\nphrases[:10]\";\n",
       "                var nbb_formatted_code = \"# Merge ngrams into single list\\nphrases = cat_bg[\\\"bigram\\\"].append(brand_ng).drop_duplicates().to_list()\\ndisplay(len(phrases))\\nphrases[:10]\";\n",
       "                var nbb_cells = Jupyter.notebook.get_cells();\n",
       "                for (var i = 0; i < nbb_cells.length; ++i) {\n",
       "                    if (nbb_cells[i].input_prompt_number == nbb_cell_id) {\n",
       "                        if (nbb_cells[i].get_text() == nbb_unformatted_code) {\n",
       "                             nbb_cells[i].set_text(nbb_formatted_code);\n",
       "                        }\n",
       "                        break;\n",
       "                    }\n",
       "                }\n",
       "            }, 500);\n",
       "            "
      ],
      "text/plain": [
       "<IPython.core.display.Javascript object>"
      ]
     },
     "metadata": {},
     "output_type": "display_data"
    }
   ],
   "source": [
    "# Merge ngrams into single list\n",
    "phrases = cat_bg[\"bigram\"].append(brand_ng).drop_duplicates().to_list()\n",
    "display(len(phrases))\n",
    "phrases[:10]"
   ]
  },
  {
   "cell_type": "code",
   "execution_count": 57,
   "metadata": {
    "ExecuteTime": {
     "end_time": "2021-09-18T20:54:40.376428Z",
     "start_time": "2021-09-18T20:54:39.587602Z"
    }
   },
   "outputs": [
    {
     "data": {
      "text/plain": [
       "<bound method MWETokenizer.tokenize of <nltk.tokenize.mwe.MWETokenizer object at 0x000001F58D059220>>"
      ]
     },
     "execution_count": 57,
     "metadata": {},
     "output_type": "execute_result"
    },
    {
     "data": {
      "application/javascript": [
       "\n",
       "            setTimeout(function() {\n",
       "                var nbb_cell_id = 57;\n",
       "                var nbb_unformatted_code = \"ngram_tokenize = nltk.MWETokenizer(phrases).tokenize\\nngram_tokenize\";\n",
       "                var nbb_formatted_code = \"ngram_tokenize = nltk.MWETokenizer(phrases).tokenize\\nngram_tokenize\";\n",
       "                var nbb_cells = Jupyter.notebook.get_cells();\n",
       "                for (var i = 0; i < nbb_cells.length; ++i) {\n",
       "                    if (nbb_cells[i].input_prompt_number == nbb_cell_id) {\n",
       "                        if (nbb_cells[i].get_text() == nbb_unformatted_code) {\n",
       "                             nbb_cells[i].set_text(nbb_formatted_code);\n",
       "                        }\n",
       "                        break;\n",
       "                    }\n",
       "                }\n",
       "            }, 500);\n",
       "            "
      ],
      "text/plain": [
       "<IPython.core.display.Javascript object>"
      ]
     },
     "metadata": {},
     "output_type": "display_data"
    }
   ],
   "source": [
    "ngram_tokenize = nltk.MWETokenizer(phrases).tokenize\n",
    "ngram_tokenize"
   ]
  },
  {
   "cell_type": "code",
   "execution_count": 58,
   "metadata": {
    "ExecuteTime": {
     "end_time": "2021-09-18T20:58:59.732699Z",
     "start_time": "2021-09-18T20:54:40.378429Z"
    },
    "run_control": {
     "marked": false
    }
   },
   "outputs": [
    {
     "data": {
      "application/vnd.jupyter.widget-view+json": {
       "model_id": "1ee4112e76d04017b684da76cab96e79",
       "version_major": 2,
       "version_minor": 0
      },
      "text/plain": [
       "ngram_tokenize:   0%|          | 0/1070668 [00:00<?, ?it/s]"
      ]
     },
     "metadata": {},
     "output_type": "display_data"
    },
    {
     "data": {
      "text/plain": [
       "asin\n",
       "B000050AUH    philips_sonicare standard brush_head sonic wav...\n",
       "B000050B62    norelco xl deluxe reflex action cord cordless ...\n",
       "B000050B63    norelco xl quadra action cord cordless recharg...\n",
       "B000050B64    norelco xl quadra action cord cordless recharg...\n",
       "B000050B65    norelco xl deluxe quadra action cord cordless ...\n",
       "Name: text, dtype: object"
      ]
     },
     "execution_count": 58,
     "metadata": {},
     "output_type": "execute_result"
    },
    {
     "data": {
      "application/javascript": [
       "\n",
       "            setTimeout(function() {\n",
       "                var nbb_cell_id = 58;\n",
       "                var nbb_unformatted_code = \"# Space tokenize\\ndf[\\\"text\\\"] = df.loc[:, \\\"text\\\"].str.split()\\n# Join n-grams with underscore\\ndf[\\\"text\\\"] = [ngram_tokenize(x) for x in tqdm(df.loc[:, \\\"text\\\"], \\\"ngram_tokenize\\\")]\\n# Space join\\ndf[\\\"text\\\"] = df.loc[:, \\\"text\\\"].str.join(\\\" \\\")\\n\\ndf[\\\"text\\\"].head()\";\n",
       "                var nbb_formatted_code = \"# Space tokenize\\ndf[\\\"text\\\"] = df.loc[:, \\\"text\\\"].str.split()\\n# Join n-grams with underscore\\ndf[\\\"text\\\"] = [ngram_tokenize(x) for x in tqdm(df.loc[:, \\\"text\\\"], \\\"ngram_tokenize\\\")]\\n# Space join\\ndf[\\\"text\\\"] = df.loc[:, \\\"text\\\"].str.join(\\\" \\\")\\n\\ndf[\\\"text\\\"].head()\";\n",
       "                var nbb_cells = Jupyter.notebook.get_cells();\n",
       "                for (var i = 0; i < nbb_cells.length; ++i) {\n",
       "                    if (nbb_cells[i].input_prompt_number == nbb_cell_id) {\n",
       "                        if (nbb_cells[i].get_text() == nbb_unformatted_code) {\n",
       "                             nbb_cells[i].set_text(nbb_formatted_code);\n",
       "                        }\n",
       "                        break;\n",
       "                    }\n",
       "                }\n",
       "            }, 500);\n",
       "            "
      ],
      "text/plain": [
       "<IPython.core.display.Javascript object>"
      ]
     },
     "metadata": {},
     "output_type": "display_data"
    }
   ],
   "source": [
    "# Space tokenize\n",
    "df[\"text\"] = df.loc[:, \"text\"].str.split()\n",
    "# Join n-grams with underscore\n",
    "df[\"text\"] = [ngram_tokenize(x) for x in tqdm(df.loc[:, \"text\"], \"ngram_tokenize\")]\n",
    "# Space join\n",
    "df[\"text\"] = df.loc[:, \"text\"].str.join(\" \")\n",
    "\n",
    "df[\"text\"].head()"
   ]
  },
  {
   "cell_type": "code",
   "execution_count": 59,
   "metadata": {
    "ExecuteTime": {
     "end_time": "2021-09-18T20:59:16.212836Z",
     "start_time": "2021-09-18T20:58:59.741698Z"
    }
   },
   "outputs": [
    {
     "data": {
      "application/javascript": [
       "\n",
       "            setTimeout(function() {\n",
       "                var nbb_cell_id = 59;\n",
       "                var nbb_unformatted_code = \"if os.path.exists(\\\"data/model_data\\\"):\\n    shutil.rmtree(\\\"data/model_data\\\")\\n\\ndf.to_parquet(\\n    \\\"data/model_data\\\",\\n    engine=\\\"pyarrow\\\",\\n    index=True,\\n    partition_cols=\\\"main_cat\\\",\\n)\";\n",
       "                var nbb_formatted_code = \"if os.path.exists(\\\"data/model_data\\\"):\\n    shutil.rmtree(\\\"data/model_data\\\")\\n\\ndf.to_parquet(\\n    \\\"data/model_data\\\",\\n    engine=\\\"pyarrow\\\",\\n    index=True,\\n    partition_cols=\\\"main_cat\\\",\\n)\";\n",
       "                var nbb_cells = Jupyter.notebook.get_cells();\n",
       "                for (var i = 0; i < nbb_cells.length; ++i) {\n",
       "                    if (nbb_cells[i].input_prompt_number == nbb_cell_id) {\n",
       "                        if (nbb_cells[i].get_text() == nbb_unformatted_code) {\n",
       "                             nbb_cells[i].set_text(nbb_formatted_code);\n",
       "                        }\n",
       "                        break;\n",
       "                    }\n",
       "                }\n",
       "            }, 500);\n",
       "            "
      ],
      "text/plain": [
       "<IPython.core.display.Javascript object>"
      ]
     },
     "metadata": {},
     "output_type": "display_data"
    }
   ],
   "source": [
    "if os.path.exists(\"data/model_data\"):\n",
    "    shutil.rmtree(\"data/model_data\")\n",
    "\n",
    "df.to_parquet(\n",
    "    \"data/model_data\",\n",
    "    engine=\"pyarrow\",\n",
    "    index=True,\n",
    "    partition_cols=\"main_cat\",\n",
    ")"
   ]
  },
  {
   "cell_type": "markdown",
   "metadata": {},
   "source": [
    "Before I move on to modeling, I plot the final class balance."
   ]
  },
  {
   "cell_type": "code",
   "execution_count": 60,
   "metadata": {
    "ExecuteTime": {
     "end_time": "2021-09-18T20:59:17.854837Z",
     "start_time": "2021-09-18T20:59:16.216837Z"
    },
    "run_control": {
     "marked": false
    },
    "scrolled": false
   },
   "outputs": [
    {
     "data": {
      "image/png": "[encoded data removed]",
      "text/plain": [
       "<Figure size 432x720 with 1 Axes>"
      ]
     },
     "metadata": {
      "needs_background": "light"
     },
     "output_type": "display_data"
    },
    {
     "data": {
      "application/javascript": [
       "\n",
       "            setTimeout(function() {\n",
       "                var nbb_cell_id = 60;\n",
       "                var nbb_unformatted_code = \"ax = plotting.plots.countplot(df.loc[:, \\\"main_cat\\\"], size=(6, 10), log_scale=True)\\nax.xaxis.set_major_formatter(plotting.big_number_formatter())\\nax.figure.savefig(\\n    \\\"figures/class_bal.svg\\\",\\n    bbox_inches=\\\"tight\\\",\\n)\";\n",
       "                var nbb_formatted_code = \"ax = plotting.plots.countplot(df.loc[:, \\\"main_cat\\\"], size=(6, 10), log_scale=True)\\nax.xaxis.set_major_formatter(plotting.big_number_formatter())\\nax.figure.savefig(\\n    \\\"figures/class_bal.svg\\\",\\n    bbox_inches=\\\"tight\\\",\\n)\";\n",
       "                var nbb_cells = Jupyter.notebook.get_cells();\n",
       "                for (var i = 0; i < nbb_cells.length; ++i) {\n",
       "                    if (nbb_cells[i].input_prompt_number == nbb_cell_id) {\n",
       "                        if (nbb_cells[i].get_text() == nbb_unformatted_code) {\n",
       "                             nbb_cells[i].set_text(nbb_formatted_code);\n",
       "                        }\n",
       "                        break;\n",
       "                    }\n",
       "                }\n",
       "            }, 500);\n",
       "            "
      ],
      "text/plain": [
       "<IPython.core.display.Javascript object>"
      ]
     },
     "metadata": {},
     "output_type": "display_data"
    }
   ],
   "source": [
    "ax = plotting.plots.countplot(df.loc[:, \"main_cat\"], size=(6, 10), log_scale=True)\n",
    "ax.xaxis.set_major_formatter(plotting.big_number_formatter())\n",
    "ax.figure.savefig(\n",
    "    \"figures/class_bal.svg\",\n",
    "    bbox_inches=\"tight\",\n",
    ")"
   ]
  },
  {
   "cell_type": "markdown",
   "metadata": {},
   "source": [
    "\n",
    "# Modeling\n",
    "## Performing the Split"
   ]
  },
  {
   "cell_type": "code",
   "execution_count": 6,
   "metadata": {
    "ExecuteTime": {
     "end_time": "2021-09-18T16:17:38.392056Z",
     "start_time": "2021-09-18T16:17:35.730394Z"
    }
   },
   "outputs": [
    {
     "data": {
      "text/html": [
       "<div>\n",
       "<style scoped>\n",
       "    .dataframe tbody tr th:only-of-type {\n",
       "        vertical-align: middle;\n",
       "    }\n",
       "\n",
       "    .dataframe tbody tr th {\n",
       "        vertical-align: top;\n",
       "    }\n",
       "\n",
       "    .dataframe thead th {\n",
       "        text-align: right;\n",
       "    }\n",
       "</style>\n",
       "<table border=\"1\" class=\"dataframe\">\n",
       "  <thead>\n",
       "    <tr style=\"text-align: right;\">\n",
       "      <th></th>\n",
       "      <th>text</th>\n",
       "      <th>title</th>\n",
       "      <th>brand</th>\n",
       "      <th>lang</th>\n",
       "      <th>main_cat</th>\n",
       "    </tr>\n",
       "    <tr>\n",
       "      <th>asin</th>\n",
       "      <th></th>\n",
       "      <th></th>\n",
       "      <th></th>\n",
       "      <th></th>\n",
       "      <th></th>\n",
       "    </tr>\n",
       "  </thead>\n",
       "  <tbody>\n",
       "    <tr>\n",
       "      <th>B000050AUH</th>\n",
       "      <td>philips_sonicare standard brush_head sonic wav...</td>\n",
       "      <td>philips sonicare standard brush head</td>\n",
       "      <td>philips_sonicare</td>\n",
       "      <td>en</td>\n",
       "      <td>all beauty</td>\n",
       "    </tr>\n",
       "    <tr>\n",
       "      <th>B000050B62</th>\n",
       "      <td>norelco deluxe reflex action cord cordless rec...</td>\n",
       "      <td>norelco 5841xl deluxe reflex action cord/cordl...</td>\n",
       "      <td>norelco</td>\n",
       "      <td>en</td>\n",
       "      <td>all beauty</td>\n",
       "    </tr>\n",
       "    <tr>\n",
       "      <th>B000050B63</th>\n",
       "      <td>norelco quadra action cord cordless rechargeab...</td>\n",
       "      <td>norelco 6826xl quadra action cord/cordless rec...</td>\n",
       "      <td>norelco</td>\n",
       "      <td>en</td>\n",
       "      <td>all beauty</td>\n",
       "    </tr>\n",
       "    <tr>\n",
       "      <th>B000050B64</th>\n",
       "      <td>norelco quadra action cord cordless rechargeab...</td>\n",
       "      <td>norelco 6865xl quadra action cord/cordless rec...</td>\n",
       "      <td>norelco</td>\n",
       "      <td>en</td>\n",
       "      <td>all beauty</td>\n",
       "    </tr>\n",
       "    <tr>\n",
       "      <th>B000050B65</th>\n",
       "      <td>norelco deluxe quadra action cord cordless rec...</td>\n",
       "      <td>norelco 6885xl deluxe quadra action cord/cordl...</td>\n",
       "      <td>norelco</td>\n",
       "      <td>en</td>\n",
       "      <td>all beauty</td>\n",
       "    </tr>\n",
       "  </tbody>\n",
       "</table>\n",
       "</div>"
      ],
      "text/plain": [
       "                                                         text  \\\n",
       "asin                                                            \n",
       "B000050AUH  philips_sonicare standard brush_head sonic wav...   \n",
       "B000050B62  norelco deluxe reflex action cord cordless rec...   \n",
       "B000050B63  norelco quadra action cord cordless rechargeab...   \n",
       "B000050B64  norelco quadra action cord cordless rechargeab...   \n",
       "B000050B65  norelco deluxe quadra action cord cordless rec...   \n",
       "\n",
       "                                                        title  \\\n",
       "asin                                                            \n",
       "B000050AUH               philips sonicare standard brush head   \n",
       "B000050B62  norelco 5841xl deluxe reflex action cord/cordl...   \n",
       "B000050B63  norelco 6826xl quadra action cord/cordless rec...   \n",
       "B000050B64  norelco 6865xl quadra action cord/cordless rec...   \n",
       "B000050B65  norelco 6885xl deluxe quadra action cord/cordl...   \n",
       "\n",
       "                       brand lang    main_cat  \n",
       "asin                                           \n",
       "B000050AUH  philips_sonicare   en  all beauty  \n",
       "B000050B62           norelco   en  all beauty  \n",
       "B000050B63           norelco   en  all beauty  \n",
       "B000050B64           norelco   en  all beauty  \n",
       "B000050B65           norelco   en  all beauty  "
      ]
     },
     "execution_count": 6,
     "metadata": {},
     "output_type": "execute_result"
    },
    {
     "data": {
      "application/javascript": [
       "\n",
       "            setTimeout(function() {\n",
       "                var nbb_cell_id = 6;\n",
       "                var nbb_unformatted_code = \"df = pd.read_parquet(\\\"data/model_data\\\", engine=\\\"pyarrow\\\")\\ndf.head()\";\n",
       "                var nbb_formatted_code = \"df = pd.read_parquet(\\\"data/model_data\\\", engine=\\\"pyarrow\\\")\\ndf.head()\";\n",
       "                var nbb_cells = Jupyter.notebook.get_cells();\n",
       "                for (var i = 0; i < nbb_cells.length; ++i) {\n",
       "                    if (nbb_cells[i].input_prompt_number == nbb_cell_id) {\n",
       "                        if (nbb_cells[i].get_text() == nbb_unformatted_code) {\n",
       "                             nbb_cells[i].set_text(nbb_formatted_code);\n",
       "                        }\n",
       "                        break;\n",
       "                    }\n",
       "                }\n",
       "            }, 500);\n",
       "            "
      ],
      "text/plain": [
       "<IPython.core.display.Javascript object>"
      ]
     },
     "metadata": {},
     "output_type": "display_data"
    }
   ],
   "source": [
    "df = pd.read_parquet(\"data/model_data\", engine=\"pyarrow\")\n",
    "df.head()"
   ]
  },
  {
   "cell_type": "code",
   "execution_count": null,
   "metadata": {
    "ExecuteTime": {
     "end_time": "2021-09-18T16:16:27.528069Z",
     "start_time": "2021-09-18T16:16:21.761Z"
    }
   },
   "outputs": [],
   "source": [
    "X = df.loc[:, \"text\"]\n",
    "y = df.loc[:, \"main_cat\"]\n",
    "\n",
    "X_train, X_test, y_train, y_test = train_test_split(X, y, random_state=49, stratify=y)\n",
    "X_train.shape, X_test.shape, y_train.shape, y_test.shape"
   ]
  },
  {
   "cell_type": "markdown",
   "metadata": {},
   "source": [
    "Next, I create the vectorizer. I have a taste for interpretability and transparency, which is why I've opted to use term-frequency vectorization (e.g. binary occurrence, raw term-frequency, or TF\\*IDF). For the baseline model, I turn off IDF weighting and normalization. Therefore, `tf` is initially set to extract raw term-frequency vectors from the text."
   ]
  },
  {
   "cell_type": "code",
   "execution_count": null,
   "metadata": {
    "ExecuteTime": {
     "end_time": "2021-09-18T16:16:27.529069Z",
     "start_time": "2021-09-18T16:16:21.765Z"
    }
   },
   "outputs": [],
   "source": [
    "tf = TfidfVectorizer(\n",
    "    lowercase=False,\n",
    "    token_pattern=r\"(?i)\\b[a-z_]{2,}\\b\",\n",
    "    norm=None,\n",
    "    use_idf=False,\n",
    ")\n",
    "\n",
    "tf"
   ]
  },
  {
   "cell_type": "markdown",
   "metadata": {},
   "source": [
    "I've opted to use Scikit-Learn's `SGDClassifier` because it's efficient on large datasets and works with several different loss functions. Essentially, it offers widely used linear classifiers with stochastic gradient descent optimization.\n",
    "\n",
    "I could have also chosen a neural network classifier such as Scikit-Learn's ready-made multi-layer perceptron. However, neural networks take a long time to train and are the least interpretable algorithms on the market. For this project, given my limited computational resources and personal tastes, I've opted for a more traditional approach."
   ]
  },
  {
   "cell_type": "code",
   "execution_count": null,
   "metadata": {
    "ExecuteTime": {
     "end_time": "2021-09-18T16:16:27.530069Z",
     "start_time": "2021-09-18T16:16:21.768Z"
    }
   },
   "outputs": [],
   "source": [
    "sgd = SGDClassifier(\n",
    "    loss=\"hinge\",\n",
    "    class_weight=\"balanced\",\n",
    "    n_jobs=-1,\n",
    ")\n",
    "\n",
    "sgd"
   ]
  },
  {
   "cell_type": "markdown",
   "metadata": {},
   "source": [
    "The default loss function 'hinge' is a linear support vector classifier. `SGDClassifier` also offers squared hinge, logistic regression, modified Huber, and several losses designed for regression.\n",
    "\n",
    "Next, I create a pipeline containing just two steps: the vectorizer and the classifier."
   ]
  },
  {
   "cell_type": "code",
   "execution_count": null,
   "metadata": {
    "ExecuteTime": {
     "end_time": "2021-09-18T16:16:27.531067Z",
     "start_time": "2021-09-18T16:16:21.773Z"
    },
    "run_control": {
     "marked": false
    }
   },
   "outputs": [],
   "source": [
    "pipe = Pipeline(\n",
    "    [\n",
    "        (\"vec\", tf),\n",
    "        (\"cls\", sgd),\n",
    "    ],\n",
    "    verbose=True,\n",
    ")\n",
    "pipe"
   ]
  },
  {
   "cell_type": "markdown",
   "metadata": {},
   "source": [
    "The [User Guide](https://scikit-learn.org/stable/modules/sgd.html#sgd) emphasizes that `SGDClassifier` is sensitive to feature scale. However, since word frequencies are already on the same scale, there is no need to include a scaler.\n",
    "\n",
    "A related concern is vector normalization (sample scale). The User Guide states that the default learning rate formula (`learning_rate='optimal'`) assumes \"that the norm of the training samples is approx. 1.\" Another reason to normalize the vectors is to minimize the effect of document length. Again, I've turned it off for the baseline, but I fully expect to turn it back on later.\n",
    "\n",
    "Next I define some functions which I'll use throughout the modeling process."
   ]
  },
  {
   "cell_type": "code",
   "execution_count": null,
   "metadata": {
    "ExecuteTime": {
     "end_time": "2021-09-18T16:16:27.532068Z",
     "start_time": "2021-09-18T16:16:21.777Z"
    }
   },
   "outputs": [],
   "source": [
    "def plot_confusion_matrix(\n",
    "    estimator,\n",
    "    X_test=X_test,\n",
    "    y_test=y_test,\n",
    "    dst=None,\n",
    "    xticks_rotation=\"vertical\",\n",
    "    **kwargs,\n",
    "):\n",
    "    \"\"\"Plots confusion matrix with accuracy score.\"\"\"\n",
    "    ax = plotting.confusion_matrix(\n",
    "        estimator,\n",
    "        X_test,\n",
    "        y_test,\n",
    "        xticks_rotation=xticks_rotation,\n",
    "        **kwargs,\n",
    "    )\n",
    "    y_pred = estimator.predict(X_test)\n",
    "    acc = accuracy_score(y_test, y_pred)\n",
    "    bal_acc = balanced_accuracy_score(y_test, y_pred)\n",
    "    ax.set_title(f\"Accuracy: {acc:.2f}, Balanced Accuracy: {bal_acc:.2f}\", pad=5)\n",
    "    if isinstance(dst, str):\n",
    "        plt.savefig(dst, bbox_inches=\"tight\")\n",
    "    return ax"
   ]
  },
  {
   "cell_type": "code",
   "execution_count": null,
   "metadata": {
    "ExecuteTime": {
     "end_time": "2021-09-18T16:16:27.533070Z",
     "start_time": "2021-09-18T16:16:21.782Z"
    }
   },
   "outputs": [],
   "source": [
    "def get_report(estimator, X_test=X_test, y_test=y_test):\n",
    "    \"\"\"Returns standard classification metrics as a DataFrame.\"\"\"\n",
    "    report = classification_report(y_test, estimator.predict(X_test), output_dict=True)\n",
    "    report = pd.DataFrame(report).T\n",
    "    report.loc[\"accuracy\", \"support\"] = report[\"support\"].max()\n",
    "    return report"
   ]
  },
  {
   "cell_type": "code",
   "execution_count": null,
   "metadata": {
    "ExecuteTime": {
     "end_time": "2021-09-18T16:16:27.535067Z",
     "start_time": "2021-09-18T16:16:21.786Z"
    }
   },
   "outputs": [],
   "source": [
    "def extract_coef(\n",
    "    pipeline,\n",
    "    classifier=\"cls\",\n",
    "    vectorizer=\"vec\",\n",
    "):\n",
    "    \"\"\"Returns labeled model coefficients as a DataFrame.\"\"\"\n",
    "    columns = np.array(pipeline[vectorizer].get_feature_names())\n",
    "    coef = pd.DataFrame(\n",
    "        pipeline[classifier].coef_,\n",
    "        index=pipeline[classifier].classes_,\n",
    "        columns=columns,\n",
    "    ).T\n",
    "    return coef"
   ]
  },
  {
   "cell_type": "markdown",
   "metadata": {},
   "source": [
    "## Fitting the Baseline\n",
    "\n",
    "Without further ado, it's time to fit the baseline model."
   ]
  },
  {
   "cell_type": "code",
   "execution_count": null,
   "metadata": {
    "ExecuteTime": {
     "end_time": "2021-09-18T16:16:27.536067Z",
     "start_time": "2021-09-18T16:16:21.790Z"
    }
   },
   "outputs": [],
   "source": [
    "if \"svm_1\" in FIT_MODELS:\n",
    "    # Train the model (slow)\n",
    "    pipe.fit(X_train, y_train)\n",
    "    joblib.dump(pipe, \"models/svm_1.joblib\", compress=True)\n",
    "\n",
    "else:\n",
    "    # Load the saved model (fast)\n",
    "    pipe = joblib.load(\"models/svm_1.joblib\")\n",
    "pipe"
   ]
  },
  {
   "cell_type": "markdown",
   "metadata": {},
   "source": [
    "Since these models take a couple minutes to train, I always save them so they can be quickly reloaded."
   ]
  },
  {
   "cell_type": "code",
   "execution_count": null,
   "metadata": {
    "ExecuteTime": {
     "end_time": "2021-09-18T16:16:27.537066Z",
     "start_time": "2021-09-18T16:16:21.795Z"
    }
   },
   "outputs": [],
   "source": [
    "len(pipe[\"vec\"].get_feature_names())"
   ]
  },
  {
   "cell_type": "markdown",
   "metadata": {},
   "source": [
    "510K features is a lot, but not bad considering the size of the dataset. I'm sure it would've been much larger if not for my extensive preprocessing efforts."
   ]
  },
  {
   "cell_type": "code",
   "execution_count": null,
   "metadata": {
    "ExecuteTime": {
     "end_time": "2021-09-18T16:16:27.538066Z",
     "start_time": "2021-09-18T16:16:21.800Z"
    }
   },
   "outputs": [],
   "source": [
    "name = \"svm_1\"\n",
    "if name in FIT_MODELS:\n",
    "    ax = plotting.confusion_matrix(pipe, X_test, y_test, size=(20, 20))\n",
    "    fig = ax.figure\n",
    "    joblib.dump(fig, f\"figures/{name}.joblib\")\n",
    "\n",
    "else:\n",
    "    fig = joblib.load(f\"figures/{name}.joblib\")\n",
    "\n",
    "fig.savefig(f\"figures/{name}.svg\", bbox_inches=\"tight\")"
   ]
  },
  {
   "cell_type": "markdown",
   "metadata": {},
   "source": [
    "Not bad for a baseline! Is it too good to be true, or have my painstaking efforts simply paid off? Let's look at the coefficients."
   ]
  },
  {
   "cell_type": "code",
   "execution_count": null,
   "metadata": {
    "ExecuteTime": {
     "end_time": "2021-09-18T16:16:27.538066Z",
     "start_time": "2021-09-18T16:16:21.803Z"
    }
   },
   "outputs": [],
   "source": [
    "coef = extract_coef(pipe)\n",
    "coef.sort_values(\"all electronics\", ascending=False).head(10)"
   ]
  },
  {
   "cell_type": "markdown",
   "metadata": {},
   "source": [
    "The coefficients look just as I expected. Brand terms are at the top, at least for 'all electronics'. While I did filter out only the top 1% of brands for each category, there are still nearly 10,000 brands in the dataset. Moreover, these brand names are recognizable and make sense.\n",
    "\n",
    "Next, it's time to choose the loss function."
   ]
  },
  {
   "cell_type": "markdown",
   "metadata": {
    "ExecuteTime": {
     "end_time": "2021-08-26T04:26:57.567889Z",
     "start_time": "2021-08-26T04:26:57.007648Z"
    }
   },
   "source": [
    "## Selecting the Classifier\n",
    "\n",
    "I try out all four of the classification loss functions: 'hinge', 'squared_hinge', 'log', and 'modified_huber'. I also tune the penalty and regularization strength, as well as the basic vectorizer settings."
   ]
  },
  {
   "cell_type": "code",
   "execution_count": null,
   "metadata": {
    "ExecuteTime": {
     "end_time": "2021-09-18T16:16:27.539067Z",
     "start_time": "2021-09-18T16:16:21.806Z"
    },
    "run_control": {
     "marked": false
    }
   },
   "outputs": [],
   "source": [
    "sgd_grid = {\n",
    "    \"cls__loss\": [\"hinge\", \"squared_hinge\", \"log\", \"modified_huber\"],\n",
    "    \"cls__penalty\": [\"l1\", \"l2\"],\n",
    "    \"cls__alpha\": sp.stats.loguniform(1e-8, 1.0),\n",
    "    \"vec__use_idf\": [True, False],\n",
    "    \"vec__binary\": [True, False],\n",
    "    \"vec__norm\": [\"l1\", \"l2\", None],\n",
    "}\n",
    "\n",
    "sgd_grid"
   ]
  },
  {
   "cell_type": "markdown",
   "metadata": {},
   "source": [
    "Given the size of the dataset, with `X_train` at around 800K samples, I opt for a randomized search with successive halving. It's essentially a survival-of-the-fittest contest between a set of randomly-selected parameter combinations. In the first round, the parameters are tested on 10K samples. With each successive round, the weak combinations are eliminated and the amount of data increases.\n",
    "\n",
    "It's a more scalable approach than running an exhaustive search on the full `X_train`, though it still takes an hour or two. Note that I am optimizing **accuracy** while keeping an eye on \"balanced accuracy\" a.k.a. macro average (unweighted) recall. I'm mostly concerned with the overall ratio of correct classification, as long as the small classes are reasonably accommodated."
   ]
  },
  {
   "cell_type": "code",
   "execution_count": null,
   "metadata": {
    "ExecuteTime": {
     "end_time": "2021-09-18T16:16:27.539067Z",
     "start_time": "2021-09-18T16:16:21.809Z"
    },
    "run_control": {
     "marked": false
    },
    "scrolled": true
   },
   "outputs": [],
   "source": [
    "if \"loss\" in RUN_SWEEPS:\n",
    "    gs = selection.sweep(\n",
    "        pipe,\n",
    "        sgd_grid,\n",
    "        X=X_train,\n",
    "        y=y_train,\n",
    "        cv_dst=\"sweeps/loss_cv.joblib\",\n",
    "        kind=\"hrand\",\n",
    "        min_resources=10 ** 4,\n",
    "        max_resources=X_train.shape[0],\n",
    "        n_jobs=-1,\n",
    "        factor=3,\n",
    "    )\n",
    "    loss_results = gs.cv_results_\n",
    "else:\n",
    "    loss_results = joblib.load(\"sweeps/loss_cv.joblib\")\n",
    "\n",
    "loss_results = selection.prune_cv(loss_results)\n",
    "loss_results.head(10)"
   ]
  },
  {
   "cell_type": "markdown",
   "metadata": {},
   "source": [
    "The default hinge loss wins, with logistic regression in a close second. L2 penalty looks to have completely dominated L1, and the top-scoring 'alpha' values are on the order of $10^7$ or $10^8$. Unsurprisingly, the vector normalization was selected (L2) and IDF weighting to reduce the impact of common terms. Binary occurrence was selected over term-frequency, which I wouldn't have predicted.\n",
    "\n",
    "For each document and each term, the vectorizer will mark whether the term occurs in that document. Then the vectorizer will apply IDF (inverse document frequency) weighting to the binary features, placing weight on rare terms and withholding it from common ones. Then, finally, it will normalize the vectors to reduce the effect of document length (longer documents typically have a wider variety of terms, meaning more 1s in their vectors)."
   ]
  },
  {
   "cell_type": "markdown",
   "metadata": {},
   "source": [
    "## Fitting a Linear SVM\n",
    "\n",
    "The next step is to set the new parameters and fit the second version of the model."
   ]
  },
  {
   "cell_type": "code",
   "execution_count": null,
   "metadata": {
    "ExecuteTime": {
     "end_time": "2021-09-18T16:16:27.540067Z",
     "start_time": "2021-09-18T16:16:21.814Z"
    },
    "run_control": {
     "marked": false
    }
   },
   "outputs": [],
   "source": [
    "loss_params = loss_results.loc[0, \"params\"]\n",
    "display(loss_params)\n",
    "pipe.set_params(**loss_params)"
   ]
  },
  {
   "cell_type": "code",
   "execution_count": null,
   "metadata": {
    "ExecuteTime": {
     "end_time": "2021-09-18T16:16:27.541067Z",
     "start_time": "2021-09-18T16:16:21.818Z"
    }
   },
   "outputs": [],
   "source": [
    "if \"svm_2\" in FIT_MODELS:\n",
    "    pipe.fit(X_train, y_train)\n",
    "    joblib.dump(pipe, \"models/svm_2.joblib\", compress=True)\n",
    "\n",
    "else:\n",
    "    pipe = joblib.load(\"models/svm_2.joblib\")\n",
    "pipe"
   ]
  },
  {
   "cell_type": "code",
   "execution_count": null,
   "metadata": {
    "ExecuteTime": {
     "end_time": "2021-09-18T16:16:27.543069Z",
     "start_time": "2021-09-18T16:16:21.824Z"
    },
    "run_control": {
     "marked": false
    }
   },
   "outputs": [],
   "source": [
    "name = \"svm_2\"\n",
    "if name in FIT_MODELS:\n",
    "    ax = plotting.confusion_matrix(pipe, X_test, y_test, size=(20, 20))\n",
    "    fig = ax.figure\n",
    "    joblib.dump(fig, f\"figures/{name}.joblib\")\n",
    "\n",
    "else:\n",
    "    fig = joblib.load(f\"figures/{name}.joblib\")\n",
    "\n",
    "fig.savefig(f\"figures/{name}.svg\", bbox_inches=\"tight\")"
   ]
  },
  {
   "cell_type": "markdown",
   "metadata": {},
   "source": [
    "It looks like 'amazon devices' and 'portable audio & accessories' have the lowest recall. Amazon doesn't need this classifier for it's own proprietary devices, but 'portable audio' could be better. It's confused with 'cell phones & accessories' about 14% of the time.\n",
    "\n",
    "Anyway, my focus is on overall accuracy, and I'm not interested in boosting the recall of small classes at the expense of large ones."
   ]
  },
  {
   "cell_type": "code",
   "execution_count": null,
   "metadata": {
    "ExecuteTime": {
     "end_time": "2021-09-18T16:16:27.544068Z",
     "start_time": "2021-09-18T16:16:21.829Z"
    }
   },
   "outputs": [],
   "source": [
    "coef = extract_coef(pipe)\n",
    "coef.sort_values(\"video games\", ascending=False).head(10)"
   ]
  },
  {
   "cell_type": "markdown",
   "metadata": {},
   "source": [
    "Another successful coefficient sanity check. Nearly all of the top features for video games are recognizable brand names."
   ]
  },
  {
   "cell_type": "markdown",
   "metadata": {},
   "source": [
    "## Optimizing the Learning Rate\n",
    "\n",
    "Next I'll optimize the learning rate for stochastic gradient descent. The default is 'optimal', which is a function of $\\alpha$, the current time step $t$, and a heuristic value $t_0$.\n",
    "\n",
    "The other options I'll try are 'constant' and 'adaptive'. As the name suggests, 'constant' is just the constant $eta_0$, which is passed as a hyperparameter. For 'adaptive', the initial learning rate is $eta_0$, but when the stopping criterion is reached, the learning rate is divided by 5 and the descent continues (defying the gods). The descent doesn't stop until the learning rate goes below $10^{-6}$."
   ]
  },
  {
   "cell_type": "code",
   "execution_count": null,
   "metadata": {
    "ExecuteTime": {
     "end_time": "2021-09-18T16:16:27.544068Z",
     "start_time": "2021-09-18T16:16:21.832Z"
    }
   },
   "outputs": [],
   "source": [
    "learn_grid = [\n",
    "    {\n",
    "        \"learning_rate\": [\"constant\", \"adaptive\"],\n",
    "        \"eta0\": sp.stats.loguniform(1e-4, 1e4),\n",
    "        \"average\": [True, False],\n",
    "    },\n",
    "    {\n",
    "        \"learning_rate\": [\"optimal\"],\n",
    "        \"average\": [True, False],\n",
    "    },\n",
    "]\n",
    "learn_grid"
   ]
  },
  {
   "cell_type": "code",
   "execution_count": null,
   "metadata": {
    "ExecuteTime": {
     "end_time": "2021-09-18T16:16:27.545067Z",
     "start_time": "2021-09-18T16:16:21.836Z"
    }
   },
   "outputs": [],
   "source": [
    "if \"learn\" in RUN_SWEEPS:\n",
    "    gs = selection.sweep(\n",
    "        pipe,\n",
    "        learn_grid,\n",
    "        X=X_train,\n",
    "        y=y_train,\n",
    "        cv_dst=\"sweeps/learn_cv.joblib\",\n",
    "        kind=\"hrand\",\n",
    "        add_prefix=\"cls__\",\n",
    "        min_resources=10 ** 4,\n",
    "        max_resources=X_train.shape[0],\n",
    "        n_jobs=-1,\n",
    "        factor=3,\n",
    "    )\n",
    "    learn_results = gs.cv_results_\n",
    "else:\n",
    "    learn_results = joblib.load(\"sweeps/learn_cv.joblib\")\n",
    "\n",
    "learn_results = selection.prune_cv(learn_results)\n",
    "learn_results.head(10)"
   ]
  },
  {
   "cell_type": "markdown",
   "metadata": {},
   "source": [
    "Looks like 'adaptive' wins, and with an epic fit time. The long fit time makes sense given the unyielding nature of the algorithm."
   ]
  },
  {
   "cell_type": "markdown",
   "metadata": {},
   "source": [
    "## Fitting the Final Model\n",
    "\n",
    "Time to fit the third and final version of the model, now with 'adaptive' learning rate."
   ]
  },
  {
   "cell_type": "code",
   "execution_count": null,
   "metadata": {
    "ExecuteTime": {
     "end_time": "2021-09-18T16:16:27.546068Z",
     "start_time": "2021-09-18T16:16:21.839Z"
    }
   },
   "outputs": [],
   "source": [
    "learn_params = learn_results.loc[0, \"params\"]\n",
    "display(learn_params)\n",
    "pipe.set_params(**learn_params)"
   ]
  },
  {
   "cell_type": "code",
   "execution_count": null,
   "metadata": {
    "ExecuteTime": {
     "end_time": "2021-09-18T16:16:27.547067Z",
     "start_time": "2021-09-18T16:16:21.842Z"
    }
   },
   "outputs": [],
   "source": [
    "if \"svm_3\" in FIT_MODELS:\n",
    "    pipe.fit(X_train, y_train)\n",
    "\n",
    "    joblib.dump(pipe, \"models/svm_3.joblib\", compress=True)\n",
    "\n",
    "else:\n",
    "    pipe = joblib.load(\"models/svm_3.joblib\")\n",
    "pipe"
   ]
  },
  {
   "cell_type": "markdown",
   "metadata": {},
   "source": [
    "That took ~10 minutes to train, which is about 5x a long as the 'optimal' learning rate."
   ]
  },
  {
   "cell_type": "code",
   "execution_count": null,
   "metadata": {
    "ExecuteTime": {
     "end_time": "2021-09-18T16:16:27.547067Z",
     "start_time": "2021-09-18T16:16:21.845Z"
    },
    "scrolled": true
   },
   "outputs": [],
   "source": [
    "name = \"svm_3\"\n",
    "if name in FIT_MODELS:\n",
    "    ax = plotting.confusion_matrix(pipe, X_test, y_test, size=(20, 20))\n",
    "    fig = ax.figure\n",
    "    joblib.dump(fig, f\"figures/{name}.joblib\")\n",
    "\n",
    "else:\n",
    "    fig = joblib.load(f\"figures/{name}.joblib\")\n",
    "\n",
    "fig.savefig(f\"figures/{name}.svg\", bbox_inches=\"tight\")"
   ]
  },
  {
   "cell_type": "markdown",
   "metadata": {},
   "source": [
    "It's up to 0.97 accuracy, and the balanced accuracy improved slightly. 0.97 accuracy is quite a satisfactory number, so I'll move on to interpretation."
   ]
  },
  {
   "cell_type": "markdown",
   "metadata": {
    "ExecuteTime": {
     "end_time": "2021-08-31T22:13:01.945150Z",
     "start_time": "2021-08-31T22:13:00.968150Z"
    }
   },
   "source": [
    "# Interpreting the Results\n",
    "\n",
    "The next step is to take a closer look at the final model's coefficients. I already know that brand terms are critically important, but I'd like to see which brands are associated with which categories. I'm also interested in discovering what non-brand terms made it to the top."
   ]
  },
  {
   "cell_type": "code",
   "execution_count": null,
   "metadata": {
    "ExecuteTime": {
     "end_time": "2021-09-18T16:16:27.548067Z",
     "start_time": "2021-09-18T16:16:21.849Z"
    }
   },
   "outputs": [],
   "source": [
    "coef = extract_coef(pipe)\n",
    "coef.columns = coef.columns.str.title()\n",
    "coef.sort_values(\"Amazon Fashion\", ascending=False).head(20)"
   ]
  },
  {
   "cell_type": "markdown",
   "metadata": {},
   "source": [
    "I definitely recognize some of these fashion brands, like Harley Davidson.\n",
    "\n",
    "Since there are 36 categories and ~510K terms, it's difficult to get a view of the big picture. In order to get a birds-eye-view, I'm going to plot a small wordcloud for each of the top 9 categories, measured by $F_1$-score. Then I'll do the same for the bottom 9 categories.\n",
    "\n",
    "I prepare some colormaps in the following cell."
   ]
  },
  {
   "cell_type": "code",
   "execution_count": null,
   "metadata": {
    "ExecuteTime": {
     "end_time": "2021-09-18T16:16:27.549068Z",
     "start_time": "2021-09-18T16:16:21.852Z"
    }
   },
   "outputs": [],
   "source": [
    "rng = np.random.default_rng(1594)\n",
    "\n",
    "cmaps = [\n",
    "    \"Purples\",\n",
    "    \"Blues\",\n",
    "    \"Greens\",\n",
    "    \"Oranges\",\n",
    "    \"Reds\",\n",
    "    \"YlOrBr\",\n",
    "    \"YlOrRd\",\n",
    "    \"OrRd\",\n",
    "    \"PuRd\",\n",
    "    \"RdPu\",\n",
    "    \"BuPu\",\n",
    "    \"GnBu\",\n",
    "    \"PuBu\",\n",
    "    \"YlGnBu\",\n",
    "    \"PuBuGn\",\n",
    "    \"BuGn\",\n",
    "    \"YlGn\",\n",
    "]\n",
    "rng.shuffle(cmaps)\n",
    "cmaps"
   ]
  },
  {
   "cell_type": "markdown",
   "metadata": {},
   "source": [
    "Next, I get the scores for each category."
   ]
  },
  {
   "cell_type": "code",
   "execution_count": null,
   "metadata": {
    "ExecuteTime": {
     "end_time": "2021-09-18T16:16:27.549068Z",
     "start_time": "2021-09-18T16:16:21.859Z"
    }
   },
   "outputs": [],
   "source": [
    "report = get_report(pipe)\n",
    "report.sort_values(\"f1-score\", ascending=False).head()"
   ]
  },
  {
   "cell_type": "code",
   "execution_count": null,
   "metadata": {
    "ExecuteTime": {
     "end_time": "2021-09-18T16:16:27.550068Z",
     "start_time": "2021-09-18T16:16:21.862Z"
    }
   },
   "outputs": [],
   "source": [
    "top_f1 = report[\"f1-score\"].nlargest(9).index.str.title()\n",
    "\n",
    "fig = plotting.wordcloud(\n",
    "    coef.loc[:, top_f1],\n",
    "    cmap=rng.choice(cmaps, 9).tolist(),\n",
    ")\n",
    "fig.suptitle(\"Highest $F_{1}$-Scores\", y=1.04, fontsize=16)\n",
    "fig.savefig(\"figures/coef_top_f1.svg\", bbox_inches=\"tight\")"
   ]
  },
  {
   "cell_type": "markdown",
   "metadata": {},
   "source": [
    "There are a lot of brand terms at the forefront, as I expected. However, There is also some category-specific fine print that shows up, especially in Grocery and Books. Legalistic phrases like \"evaluated_fda\", \"fda_intended, \"copyright_reed\", and \"rights_reserved\" are among the top coefficients for these categories. This is probably because boilerplate category-related legalistic text appears repeatedly throughout the category, but does not appear in other categories."
   ]
  },
  {
   "cell_type": "code",
   "execution_count": null,
   "metadata": {
    "ExecuteTime": {
     "end_time": "2021-09-18T16:16:27.551067Z",
     "start_time": "2021-09-18T16:16:21.867Z"
    }
   },
   "outputs": [],
   "source": [
    "bottom_f1 = report[\"f1-score\"].nsmallest(9).index.str.title()\n",
    "\n",
    "fig = plotting.wordcloud(\n",
    "    coef.loc[:, bottom_f1],\n",
    "    cmap=rng.choice(cmaps, 9).tolist(),\n",
    ")\n",
    "fig.suptitle(\"Lowest $F_{1}$-Scores\", y=1.04, fontsize=16)\n",
    "fig.savefig(\"figures/coef_bot_f1.svg\", bbox_inches=\"tight\")"
   ]
  },
  {
   "cell_type": "markdown",
   "metadata": {},
   "source": [
    "Brand names are on top across the board for the categories with the lowest $F_{1}$-scores. The classifier still does pretty well for these categories, as evidenced by the highly recognizable brand names."
   ]
  },
  {
   "cell_type": "markdown",
   "metadata": {},
   "source": [
    "# Conclusion\n",
    "\n",
    "I developed a highly accurate 36-class classifier for Amazon products using tried-and-true machine learning methods. One reason the model attained such a high score is that I selected a very high quality dataset. Amazon product data is both plentiful and well-labeled. The human-given category labels are highly accurate. Why? Because on Amazon, people's livelihoods are on the line (including Amazon's). It matters to sellers how they classify their products, and it matters to you too. Classification matters to businesses because it matters to customers&mdash;it can determine whether a customer buys a product or never even hears about it.\n",
    "\n",
    "#### If you're looking to classify products with NLP, lead with the brand terms.\n",
    "\n",
    "Brand terms ranked high in nearly every category. One could build a decent model with *only* brand terms, though I wouldn't recommend going that far. Even if you wanted an image-based classifier, brands are the first place I'd start. \n",
    "\n",
    "#### Don’t ignore boilerplate legalistic text, because sometimes it’s category-specific.\n",
    "\n",
    "In fact, I recommend you gather up all the legalistic caveats and copyright statements you can get. This text is sometimes very distinctive of its category.\n",
    "\n",
    "#### Use the model to study your competitors and scope out new suppliers.\n",
    "\n",
    "This model can be used to analyze other business' inventories, including those of competitors. Discover new products and suppliers by directly comparing their inventories to yours under your classification scheme. See how their classification differs from yours by examining how the categories line up."
   ]
  },
  {
   "cell_type": "markdown",
   "metadata": {},
   "source": [
    "# Looking Forward\n",
    "\n",
    "- Gather data on brands concerning their relationships and parent companies.\n",
    "    - Try to expand the model's coverage to more obscure brands.\n",
    "- Develop a workflow to create specialized subcategory models for each major category.\n",
    "    - These will be **multilabel** classification models.\n",
    "- Create a dashboard to demonstrate the accuracy and rich interpretability of the model.\n",
    "- Obtain a new, unseen dataset to test the model's generalizability."
   ]
  },
  {
   "cell_type": "code",
   "execution_count": null,
   "metadata": {},
   "outputs": [],
   "source": []
  }
 ],
 "metadata": {
  "interpreter": {
   "hash": "45e948d0256f8c78ae85303b642a175be3add64c95f2eaa9e19fcfd099775c4c"
  },
  "kernelspec": {
   "display_name": "learn-env",
   "language": "python",
   "name": "learn-env"
  },
  "language_info": {
   "codemirror_mode": {
    "name": "ipython",
    "version": 3
   },
   "file_extension": ".py",
   "mimetype": "text/x-python",
   "name": "python",
   "nbconvert_exporter": "python",
   "pygments_lexer": "ipython3",
   "version": "3.8.5"
  },
  "toc": {
   "base_numbering": 1,
   "nav_menu": {},
   "number_sections": false,
   "sideBar": true,
   "skip_h1_title": false,
   "title_cell": "Table of Contents",
   "title_sidebar": "Contents",
   "toc_cell": false,
   "toc_position": {
    "height": "calc(100% - 180px)",
    "left": "10px",
    "top": "150px",
    "width": "568.889px"
   },
   "toc_section_display": true,
   "toc_window_display": true
  }
 },
 "nbformat": 4,
 "nbformat_minor": 2
}
