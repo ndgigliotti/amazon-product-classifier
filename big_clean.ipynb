{
 "cells": [
  {
   "cell_type": "code",
   "execution_count": 1,
   "source": [
    "import re\r\n",
    "import os\r\n",
    "import glob\r\n",
    "import shutil\r\n",
    "from distutils.util import strtobool\r\n",
    "import matplotlib.pyplot as plt\r\n",
    "import numpy as np\r\n",
    "import pandas as pd\r\n",
    "import seaborn as sns\r\n",
    "import dask\r\n",
    "import dask.dataframe as dd\r\n",
    "from tqdm.notebook import tqdm\r\n",
    "\r\n",
    "# Set Seaborn theme and default palette\r\n",
    "sns.set_context(\"talk\")\r\n",
    "sns.set_theme(font_scale=1.25, style=\"darkgrid\")\r\n",
    "sns.set_palette(\"deep\", desat=0.85, color_codes=True)\r\n",
    "\r\n",
    "# Turn on inline plotting\r\n",
    "%matplotlib inline\r\n",
    "\r\n",
    "# Load Black auto-formatter\r\n",
    "%load_ext nb_black\r\n",
    "\r\n",
    "# Enable automatic reloading\r\n",
    "%load_ext autoreload\r\n",
    "%autoreload 2"
   ],
   "outputs": [
    {
     "output_type": "display_data",
     "data": {
      "application/javascript": "\n            setTimeout(function() {\n                var nbb_cell_id = 1;\n                var nbb_unformatted_code = \"import re\\nimport string\\nimport json\\nimport os\\nimport glob\\nimport shutil\\nfrom distutils.util import strtobool\\nfrom pprint import pprint\\nfrom functools import partial\\nfrom operator import itemgetter, attrgetter\\nfrom os.path import normpath\\nimport joblib\\nimport matplotlib.pyplot as plt\\nimport nltk\\nimport numpy as np\\nimport pandas as pd\\nimport seaborn as sns\\nimport dask\\nimport dask.dataframe as dd\\nfrom tqdm.notebook import tqdm\\n\\n# Set Seaborn theme and default palette\\nsns.set_context(\\\"talk\\\")\\nsns.set_theme(font_scale=1.25, style=\\\"darkgrid\\\")\\nsns.set_palette(\\\"deep\\\", desat=0.85, color_codes=True)\\n\\n# Turn on inline plotting\\n%matplotlib inline\\n\\n# Load Black auto-formatter\\n%load_ext nb_black\\n\\n# Enable automatic reloading\\n%load_ext autoreload\\n%autoreload 2\";\n                var nbb_formatted_code = \"import re\\nimport string\\nimport json\\nimport os\\nimport glob\\nimport shutil\\nfrom distutils.util import strtobool\\nfrom pprint import pprint\\nfrom functools import partial\\nfrom operator import itemgetter, attrgetter\\nfrom os.path import normpath\\nimport joblib\\nimport matplotlib.pyplot as plt\\nimport nltk\\nimport numpy as np\\nimport pandas as pd\\nimport seaborn as sns\\nimport dask\\nimport dask.dataframe as dd\\nfrom tqdm.notebook import tqdm\\n\\n# Set Seaborn theme and default palette\\nsns.set_context(\\\"talk\\\")\\nsns.set_theme(font_scale=1.25, style=\\\"darkgrid\\\")\\nsns.set_palette(\\\"deep\\\", desat=0.85, color_codes=True)\\n\\n# Turn on inline plotting\\n%matplotlib inline\\n\\n# Load Black auto-formatter\\n%load_ext nb_black\\n\\n# Enable automatic reloading\\n%load_ext autoreload\\n%autoreload 2\";\n                var nbb_cells = Jupyter.notebook.get_cells();\n                for (var i = 0; i < nbb_cells.length; ++i) {\n                    if (nbb_cells[i].input_prompt_number == nbb_cell_id) {\n                        if (nbb_cells[i].get_text() == nbb_unformatted_code) {\n                             nbb_cells[i].set_text(nbb_formatted_code);\n                        }\n                        break;\n                    }\n                }\n            }, 500);\n            ",
      "text/plain": [
       "<IPython.core.display.Javascript object>"
      ]
     },
     "metadata": {}
    }
   ],
   "metadata": {
    "ExecuteTime": {
     "end_time": "2021-09-17T05:17:25.224279Z",
     "start_time": "2021-09-17T05:17:22.614312Z"
    },
    "scrolled": true
   }
  },
  {
   "cell_type": "code",
   "execution_count": 2,
   "source": [
    "# Import my modules\r\n",
    "from tools import language as lang, plotting, utils\r\n",
    "\r\n",
    "DOWNLOAD = False\r\n",
    "INIT_EXPORT = False\r\n",
    "\r\n",
    "# Set my default MPL settings\r\n",
    "plt.rcParams.update(plotting.MPL_DEFAULTS)\r\n",
    "\r\n",
    "dask.config.set(scheduler=\"processes\")"
   ],
   "outputs": [
    {
     "output_type": "execute_result",
     "data": {
      "text/plain": [
       "<dask.config.set at 0x10afc8ebe80>"
      ]
     },
     "metadata": {},
     "execution_count": 2
    },
    {
     "output_type": "display_data",
     "data": {
      "application/javascript": "\n            setTimeout(function() {\n                var nbb_cell_id = 2;\n                var nbb_unformatted_code = \"# Import my modules\\nfrom tools import cleaning, plotting, language as lang, outliers, utils\\n\\nDOWNLOAD = False\\nINIT_EXPORT = False\\n\\n# Set my default MPL settings\\nplt.rcParams.update(plotting.MPL_DEFAULTS)\\n\\ndask.config.set(scheduler=\\\"processes\\\")\";\n                var nbb_formatted_code = \"# Import my modules\\nfrom tools import cleaning, plotting, language as lang, outliers, utils\\n\\nDOWNLOAD = False\\nINIT_EXPORT = False\\n\\n# Set my default MPL settings\\nplt.rcParams.update(plotting.MPL_DEFAULTS)\\n\\ndask.config.set(scheduler=\\\"processes\\\")\";\n                var nbb_cells = Jupyter.notebook.get_cells();\n                for (var i = 0; i < nbb_cells.length; ++i) {\n                    if (nbb_cells[i].input_prompt_number == nbb_cell_id) {\n                        if (nbb_cells[i].get_text() == nbb_unformatted_code) {\n                             nbb_cells[i].set_text(nbb_formatted_code);\n                        }\n                        break;\n                    }\n                }\n            }, 500);\n            ",
      "text/plain": [
       "<IPython.core.display.Javascript object>"
      ]
     },
     "metadata": {}
    }
   ],
   "metadata": {
    "ExecuteTime": {
     "end_time": "2021-09-17T05:17:25.811280Z",
     "start_time": "2021-09-17T05:17:25.225278Z"
    }
   }
  },
  {
   "cell_type": "markdown",
   "source": [
    "# Sourcing the Data\n",
    "\n",
    "The product data I've chosen doesn't come directly from Amazon, but rather from three AI researchers, Jianmo Ni, Jiacheng Li, and Julian McAuley, who gathered it for their paper \"Justifying Recommendations using Distantly-Labeled Reviews and Fine-grained Aspects.\" The review data extends from May 1996 to October 2018, which is about when they released the update. Their focus was primarily on reviews, but the dataset also has metadata for ~15-million products.\n",
    "\n",
    "#### The purpose of this notebook is to obtain the data, clean it, and reduce it to a more manageable size."
   ],
   "metadata": {}
  },
  {
   "cell_type": "markdown",
   "source": [
    "# Downloading the Data\r\n",
    "\r\n",
    "For an overview of the dataset, see `main_notebook.ipynb`. This notebook developed out of practical necessity, due to the unwieldy size of the dataset (~15M samples). I needed a space to reduce the dataset to a more manageable ~4M.\r\n",
    "\r\n",
    "I begin by downloading the data from some kindly academic researchers. Either run the following cell or use the [link](http://deepyeti.ucsd.edu/jianmo/amazon/metaFiles/All_Amazon_Meta.json.gz) to download the file to `data/amazon_raw.json.gz`. The researchers request that you fill out a [short form](https://forms.gle/A8hBfPxKkKGFCP238) if you download the data.\r\n",
    "\r\n",
    "This single compressed JSON file is not ideal for such a large, 15-million product dataset. After the download completes, I'll export the it to Apache Parquet. Parquet is a (much faster) binary format which is designed for fast IO on large datasets."
   ],
   "metadata": {
    "ExecuteTime": {
     "end_time": "2021-09-09T04:50:21.679756Z",
     "start_time": "2021-09-09T04:28:58.786Z"
    }
   }
  },
  {
   "cell_type": "code",
   "execution_count": 3,
   "source": [
    "src = \"http://deepyeti.ucsd.edu/jianmo/amazon/metaFiles/All_Amazon_Meta.json.gz\"\r\n",
    "dst = \"data/amazon_raw.json.gz\"\r\n",
    "\r\n",
    "if DOWNLOAD:\r\n",
    "    # Adjust `chunk_size` as necessary\r\n",
    "    utils.download(src, dst, chunk_size=10 ** 7)"
   ],
   "outputs": [
    {
     "output_type": "display_data",
     "data": {
      "application/javascript": "\n            setTimeout(function() {\n                var nbb_cell_id = 3;\n                var nbb_unformatted_code = \"src = \\\"http://deepyeti.ucsd.edu/jianmo/amazon/metaFiles/All_Amazon_Meta.json.gz\\\"\\ndst = \\\"data/amazon_raw.json.gz\\\"\\n\\nif DOWNLOAD:\\n    # Adjust `chunk_size` as necessary\\n    utils.download(src, dst, chunk_size=10 ** 7)\";\n                var nbb_formatted_code = \"src = \\\"http://deepyeti.ucsd.edu/jianmo/amazon/metaFiles/All_Amazon_Meta.json.gz\\\"\\ndst = \\\"data/amazon_raw.json.gz\\\"\\n\\nif DOWNLOAD:\\n    # Adjust `chunk_size` as necessary\\n    utils.download(src, dst, chunk_size=10 ** 7)\";\n                var nbb_cells = Jupyter.notebook.get_cells();\n                for (var i = 0; i < nbb_cells.length; ++i) {\n                    if (nbb_cells[i].input_prompt_number == nbb_cell_id) {\n                        if (nbb_cells[i].get_text() == nbb_unformatted_code) {\n                             nbb_cells[i].set_text(nbb_formatted_code);\n                        }\n                        break;\n                    }\n                }\n            }, 500);\n            ",
      "text/plain": [
       "<IPython.core.display.Javascript object>"
      ]
     },
     "metadata": {}
    }
   ],
   "metadata": {
    "ExecuteTime": {
     "end_time": "2021-09-17T05:17:25.918308Z",
     "start_time": "2021-09-17T05:17:25.812279Z"
    },
    "scrolled": true
   }
  },
  {
   "cell_type": "markdown",
   "source": [
    "Now I'm ready for the export, assuming `INIT_EXPORT` is set. This may take a while. It would be faster to use Dask here than Pandas, but Dask doesn't support chunked reading of compressed JSONs."
   ],
   "metadata": {}
  },
  {
   "cell_type": "code",
   "execution_count": 4,
   "source": [
    "if INIT_EXPORT:\r\n",
    "    cols = [\r\n",
    "        \"description\",\r\n",
    "        \"title\",\r\n",
    "        \"feature\",\r\n",
    "        \"brand\",\r\n",
    "        \"main_cat\",\r\n",
    "        \"category\",\r\n",
    "    ]\r\n",
    "    json_path = os.path.normpath(\"data/amazon_raw.json.gz\")\r\n",
    "    out_dir = os.path.normpath(\"data/amazon_raw\")\r\n",
    "\r\n",
    "    print(f\"Exporting to {out_dir}...\")\r\n",
    "    # Make sure empty directory exists\r\n",
    "    if os.path.isdir(out_dir):\r\n",
    "        shutil.rmtree(out_dir)\r\n",
    "    os.makedirs(out_dir)\r\n",
    "    reader = pd.read_json(json_path, lines=True, chunksize=10 ** 5)\r\n",
    "\r\n",
    "    with tqdm(total=14_874_972) as pbar:\r\n",
    "        for i, chunk in enumerate(reader):\r\n",
    "            chunk = chunk.drop_duplicates(subset=[\"asin\"]).set_index(\"asin\")\r\n",
    "            chunk = chunk.loc[:, cols]\r\n",
    "            out_path = os.path.join(out_dir, f\"part.{i}.parquet\")\r\n",
    "            chunk.to_parquet(\r\n",
    "                out_path,\r\n",
    "                engine=\"pyarrow\",\r\n",
    "                index=True,\r\n",
    "            )\r\n",
    "            pbar.update(len(chunk))"
   ],
   "outputs": [
    {
     "output_type": "display_data",
     "data": {
      "application/javascript": "\n            setTimeout(function() {\n                var nbb_cell_id = 4;\n                var nbb_unformatted_code = \"if INIT_EXPORT:\\n    cols = [\\n        \\\"description\\\",\\n        \\\"title\\\",\\n        \\\"feature\\\",\\n        \\\"brand\\\",\\n        \\\"main_cat\\\",\\n        \\\"category\\\",\\n    ]\\n    json_path = os.path.normpath(\\\"data/amazon_raw.json.gz\\\")\\n    out_dir = os.path.normpath(\\\"data/amazon_raw\\\")\\n\\n    print(f\\\"Exporting to {out_dir}...\\\")\\n    # Make sure empty directory exists\\n    if os.path.isdir(out_dir):\\n        shutil.rmtree(out_dir)\\n    os.makedirs(out_dir)\\n    reader = pd.read_json(json_path, lines=True, chunksize=10 ** 5)\\n\\n    with tqdm(total=14_874_972) as pbar:\\n        for i, chunk in enumerate(reader):\\n            chunk = chunk.drop_duplicates(subset=[\\\"asin\\\"]).set_index(\\\"asin\\\")\\n            chunk = chunk.loc[:, cols]\\n            out_path = os.path.join(out_dir, f\\\"part.{i}.parquet\\\")\\n            chunk.to_parquet(\\n                out_path,\\n                engine=\\\"pyarrow\\\",\\n                index=True,\\n            )\\n            pbar.update(len(chunk))\";\n                var nbb_formatted_code = \"if INIT_EXPORT:\\n    cols = [\\n        \\\"description\\\",\\n        \\\"title\\\",\\n        \\\"feature\\\",\\n        \\\"brand\\\",\\n        \\\"main_cat\\\",\\n        \\\"category\\\",\\n    ]\\n    json_path = os.path.normpath(\\\"data/amazon_raw.json.gz\\\")\\n    out_dir = os.path.normpath(\\\"data/amazon_raw\\\")\\n\\n    print(f\\\"Exporting to {out_dir}...\\\")\\n    # Make sure empty directory exists\\n    if os.path.isdir(out_dir):\\n        shutil.rmtree(out_dir)\\n    os.makedirs(out_dir)\\n    reader = pd.read_json(json_path, lines=True, chunksize=10 ** 5)\\n\\n    with tqdm(total=14_874_972) as pbar:\\n        for i, chunk in enumerate(reader):\\n            chunk = chunk.drop_duplicates(subset=[\\\"asin\\\"]).set_index(\\\"asin\\\")\\n            chunk = chunk.loc[:, cols]\\n            out_path = os.path.join(out_dir, f\\\"part.{i}.parquet\\\")\\n            chunk.to_parquet(\\n                out_path,\\n                engine=\\\"pyarrow\\\",\\n                index=True,\\n            )\\n            pbar.update(len(chunk))\";\n                var nbb_cells = Jupyter.notebook.get_cells();\n                for (var i = 0; i < nbb_cells.length; ++i) {\n                    if (nbb_cells[i].input_prompt_number == nbb_cell_id) {\n                        if (nbb_cells[i].get_text() == nbb_unformatted_code) {\n                             nbb_cells[i].set_text(nbb_formatted_code);\n                        }\n                        break;\n                    }\n                }\n            }, 500);\n            ",
      "text/plain": [
       "<IPython.core.display.Javascript object>"
      ]
     },
     "metadata": {}
    }
   ],
   "metadata": {
    "ExecuteTime": {
     "end_time": "2021-09-17T05:17:26.035308Z",
     "start_time": "2021-09-17T05:17:25.919310Z"
    },
    "run_control": {
     "marked": false
    },
    "scrolled": true
   }
  },
  {
   "cell_type": "markdown",
   "source": [
    "# Initial Pruning"
   ],
   "metadata": {}
  },
  {
   "cell_type": "code",
   "execution_count": 5,
   "source": [
    "cols = [\"description\", \"main_cat\", \"asin\"]\r\n",
    "df = dd.read_parquet(\"data/amazon_raw\", engine=\"pyarrow\", columns=cols)\r\n",
    "print(f\"n_samples: {df.index.size.compute():,.0f}\")\r\n",
    "df"
   ],
   "outputs": [
    {
     "output_type": "stream",
     "name": "stdout",
     "text": [
      "n_samples: 15,023,059\n"
     ]
    },
    {
     "output_type": "execute_result",
     "data": {
      "text/html": [
       "<div><strong>Dask DataFrame Structure:</strong></div>\n",
       "<div>\n",
       "<style scoped>\n",
       "    .dataframe tbody tr th:only-of-type {\n",
       "        vertical-align: middle;\n",
       "    }\n",
       "\n",
       "    .dataframe tbody tr th {\n",
       "        vertical-align: top;\n",
       "    }\n",
       "\n",
       "    .dataframe thead th {\n",
       "        text-align: right;\n",
       "    }\n",
       "</style>\n",
       "<table border=\"1\" class=\"dataframe\">\n",
       "  <thead>\n",
       "    <tr style=\"text-align: right;\">\n",
       "      <th></th>\n",
       "      <th>description</th>\n",
       "      <th>main_cat</th>\n",
       "      <th>asin</th>\n",
       "    </tr>\n",
       "    <tr>\n",
       "      <th>npartitions=151</th>\n",
       "      <th></th>\n",
       "      <th></th>\n",
       "      <th></th>\n",
       "    </tr>\n",
       "  </thead>\n",
       "  <tbody>\n",
       "    <tr>\n",
       "      <th></th>\n",
       "      <td>object</td>\n",
       "      <td>object</td>\n",
       "      <td>object</td>\n",
       "    </tr>\n",
       "    <tr>\n",
       "      <th></th>\n",
       "      <td>...</td>\n",
       "      <td>...</td>\n",
       "      <td>...</td>\n",
       "    </tr>\n",
       "    <tr>\n",
       "      <th>...</th>\n",
       "      <td>...</td>\n",
       "      <td>...</td>\n",
       "      <td>...</td>\n",
       "    </tr>\n",
       "    <tr>\n",
       "      <th></th>\n",
       "      <td>...</td>\n",
       "      <td>...</td>\n",
       "      <td>...</td>\n",
       "    </tr>\n",
       "    <tr>\n",
       "      <th></th>\n",
       "      <td>...</td>\n",
       "      <td>...</td>\n",
       "      <td>...</td>\n",
       "    </tr>\n",
       "  </tbody>\n",
       "</table>\n",
       "</div>\n",
       "<div>Dask Name: read-parquet, 151 tasks</div>"
      ],
      "text/plain": [
       "Dask DataFrame Structure:\n",
       "                description main_cat    asin\n",
       "npartitions=151                             \n",
       "                     object   object  object\n",
       "                        ...      ...     ...\n",
       "...                     ...      ...     ...\n",
       "                        ...      ...     ...\n",
       "                        ...      ...     ...\n",
       "Dask Name: read-parquet, 151 tasks"
      ]
     },
     "metadata": {},
     "execution_count": 5
    },
    {
     "output_type": "display_data",
     "data": {
      "application/javascript": "\n            setTimeout(function() {\n                var nbb_cell_id = 5;\n                var nbb_unformatted_code = \"cols = [\\\"description\\\", \\\"main_cat\\\", \\\"asin\\\"]\\ndf = dd.read_parquet(\\\"data/amazon_raw\\\", engine=\\\"pyarrow\\\", columns=cols)\\nprint(f\\\"n_samples: {df.index.size.compute():,.0f}\\\")\\ndf\";\n                var nbb_formatted_code = \"cols = [\\\"description\\\", \\\"main_cat\\\", \\\"asin\\\"]\\ndf = dd.read_parquet(\\\"data/amazon_raw\\\", engine=\\\"pyarrow\\\", columns=cols)\\nprint(f\\\"n_samples: {df.index.size.compute():,.0f}\\\")\\ndf\";\n                var nbb_cells = Jupyter.notebook.get_cells();\n                for (var i = 0; i < nbb_cells.length; ++i) {\n                    if (nbb_cells[i].input_prompt_number == nbb_cell_id) {\n                        if (nbb_cells[i].get_text() == nbb_unformatted_code) {\n                             nbb_cells[i].set_text(nbb_formatted_code);\n                        }\n                        break;\n                    }\n                }\n            }, 500);\n            ",
      "text/plain": [
       "<IPython.core.display.Javascript object>"
      ]
     },
     "metadata": {}
    }
   ],
   "metadata": {
    "ExecuteTime": {
     "end_time": "2021-09-11T04:55:29.127506Z",
     "start_time": "2021-09-11T04:55:18.111507Z"
    }
   }
  },
  {
   "cell_type": "code",
   "execution_count": 6,
   "source": [
    "df = df.dropna(subset=[\"description\", \"main_cat\"])\r\n",
    "df.head()"
   ],
   "outputs": [
    {
     "output_type": "execute_result",
     "data": {
      "text/html": [
       "<div>\n",
       "<style scoped>\n",
       "    .dataframe tbody tr th:only-of-type {\n",
       "        vertical-align: middle;\n",
       "    }\n",
       "\n",
       "    .dataframe tbody tr th {\n",
       "        vertical-align: top;\n",
       "    }\n",
       "\n",
       "    .dataframe thead th {\n",
       "        text-align: right;\n",
       "    }\n",
       "</style>\n",
       "<table border=\"1\" class=\"dataframe\">\n",
       "  <thead>\n",
       "    <tr style=\"text-align: right;\">\n",
       "      <th></th>\n",
       "      <th>description</th>\n",
       "      <th>main_cat</th>\n",
       "      <th>asin</th>\n",
       "    </tr>\n",
       "  </thead>\n",
       "  <tbody>\n",
       "    <tr>\n",
       "      <th>0</th>\n",
       "      <td>[(=^ ^=) 1.It is made of high quality material...</td>\n",
       "      <td>Movies &amp; TV</td>\n",
       "      <td>6305121869</td>\n",
       "    </tr>\n",
       "    <tr>\n",
       "      <th>1</th>\n",
       "      <td>[&lt;b&gt;&lt;br&gt;Hi friend, welcome to our store. Befor...</td>\n",
       "      <td>&lt;img src=\"https://images-na.ssl-images-amazon....</td>\n",
       "      <td>6318708057</td>\n",
       "    </tr>\n",
       "    <tr>\n",
       "      <th>2</th>\n",
       "      <td>[Gaok men's pants are all made from cotton mat...</td>\n",
       "      <td>&lt;img src=\"https://images-na.ssl-images-amazon....</td>\n",
       "      <td>6342506256</td>\n",
       "    </tr>\n",
       "    <tr>\n",
       "      <th>3</th>\n",
       "      <td>[&lt;b&gt;pant size(Unit:inch)&lt;/b&gt;&lt;br&gt; W30(tag30) Wa...</td>\n",
       "      <td>&lt;img src=\"https://images-na.ssl-images-amazon....</td>\n",
       "      <td>6342509379</td>\n",
       "    </tr>\n",
       "    <tr>\n",
       "      <th>4</th>\n",
       "      <td>[All of our sunglasses offer protection agains...</td>\n",
       "      <td>Sports &amp; Outdoors</td>\n",
       "      <td>6342522081</td>\n",
       "    </tr>\n",
       "  </tbody>\n",
       "</table>\n",
       "</div>"
      ],
      "text/plain": [
       "                                         description  \\\n",
       "0  [(=^ ^=) 1.It is made of high quality material...   \n",
       "1  [<b><br>Hi friend, welcome to our store. Befor...   \n",
       "2  [Gaok men's pants are all made from cotton mat...   \n",
       "3  [<b>pant size(Unit:inch)</b><br> W30(tag30) Wa...   \n",
       "4  [All of our sunglasses offer protection agains...   \n",
       "\n",
       "                                            main_cat        asin  \n",
       "0                                        Movies & TV  6305121869  \n",
       "1  <img src=\"https://images-na.ssl-images-amazon....  6318708057  \n",
       "2  <img src=\"https://images-na.ssl-images-amazon....  6342506256  \n",
       "3  <img src=\"https://images-na.ssl-images-amazon....  6342509379  \n",
       "4                                  Sports & Outdoors  6342522081  "
      ]
     },
     "metadata": {},
     "execution_count": 6
    },
    {
     "output_type": "display_data",
     "data": {
      "application/javascript": "\n            setTimeout(function() {\n                var nbb_cell_id = 6;\n                var nbb_unformatted_code = \"df = df.dropna(subset=[\\\"description\\\", \\\"main_cat\\\"])\\ndf.head()\";\n                var nbb_formatted_code = \"df = df.dropna(subset=[\\\"description\\\", \\\"main_cat\\\"])\\ndf.head()\";\n                var nbb_cells = Jupyter.notebook.get_cells();\n                for (var i = 0; i < nbb_cells.length; ++i) {\n                    if (nbb_cells[i].input_prompt_number == nbb_cell_id) {\n                        if (nbb_cells[i].get_text() == nbb_unformatted_code) {\n                             nbb_cells[i].set_text(nbb_formatted_code);\n                        }\n                        break;\n                    }\n                }\n            }, 500);\n            ",
      "text/plain": [
       "<IPython.core.display.Javascript object>"
      ]
     },
     "metadata": {}
    }
   ],
   "metadata": {
    "ExecuteTime": {
     "end_time": "2021-09-11T04:55:31.559471Z",
     "start_time": "2021-09-11T04:55:29.128508Z"
    }
   }
  },
  {
   "cell_type": "code",
   "execution_count": 7,
   "source": [
    "df = df.compute()\r\n",
    "df"
   ],
   "outputs": [
    {
     "output_type": "execute_result",
     "data": {
      "text/html": [
       "<div>\n",
       "<style scoped>\n",
       "    .dataframe tbody tr th:only-of-type {\n",
       "        vertical-align: middle;\n",
       "    }\n",
       "\n",
       "    .dataframe tbody tr th {\n",
       "        vertical-align: top;\n",
       "    }\n",
       "\n",
       "    .dataframe thead th {\n",
       "        text-align: right;\n",
       "    }\n",
       "</style>\n",
       "<table border=\"1\" class=\"dataframe\">\n",
       "  <thead>\n",
       "    <tr style=\"text-align: right;\">\n",
       "      <th></th>\n",
       "      <th>description</th>\n",
       "      <th>main_cat</th>\n",
       "      <th>asin</th>\n",
       "    </tr>\n",
       "  </thead>\n",
       "  <tbody>\n",
       "    <tr>\n",
       "      <th>0</th>\n",
       "      <td>[(=^ ^=) 1.It is made of high quality material...</td>\n",
       "      <td>Movies &amp; TV</td>\n",
       "      <td>6305121869</td>\n",
       "    </tr>\n",
       "    <tr>\n",
       "      <th>1</th>\n",
       "      <td>[&lt;b&gt;&lt;br&gt;Hi friend, welcome to our store. Befor...</td>\n",
       "      <td>&lt;img src=\"https://images-na.ssl-images-amazon....</td>\n",
       "      <td>6318708057</td>\n",
       "    </tr>\n",
       "    <tr>\n",
       "      <th>2</th>\n",
       "      <td>[Gaok men's pants are all made from cotton mat...</td>\n",
       "      <td>&lt;img src=\"https://images-na.ssl-images-amazon....</td>\n",
       "      <td>6342506256</td>\n",
       "    </tr>\n",
       "    <tr>\n",
       "      <th>3</th>\n",
       "      <td>[&lt;b&gt;pant size(Unit:inch)&lt;/b&gt;&lt;br&gt; W30(tag30) Wa...</td>\n",
       "      <td>&lt;img src=\"https://images-na.ssl-images-amazon....</td>\n",
       "      <td>6342509379</td>\n",
       "    </tr>\n",
       "    <tr>\n",
       "      <th>4</th>\n",
       "      <td>[All of our sunglasses offer protection agains...</td>\n",
       "      <td>Sports &amp; Outdoors</td>\n",
       "      <td>6342522081</td>\n",
       "    </tr>\n",
       "    <tr>\n",
       "      <th>...</th>\n",
       "      <td>...</td>\n",
       "      <td>...</td>\n",
       "      <td>...</td>\n",
       "    </tr>\n",
       "    <tr>\n",
       "      <th>22121</th>\n",
       "      <td>[, CND Craft Culture Collection: Patina Buckle...</td>\n",
       "      <td>Luxury Beauty</td>\n",
       "      <td>B01HIQIEYC</td>\n",
       "    </tr>\n",
       "    <tr>\n",
       "      <th>22122</th>\n",
       "      <td>[CND Shellac was designed to be used as a syst...</td>\n",
       "      <td>Luxury Beauty</td>\n",
       "      <td>B01HIQHQU0</td>\n",
       "    </tr>\n",
       "    <tr>\n",
       "      <th>22123</th>\n",
       "      <td>[CND Shellac was designed to be used as a syst...</td>\n",
       "      <td>Luxury Beauty</td>\n",
       "      <td>B01HIQEOLO</td>\n",
       "    </tr>\n",
       "    <tr>\n",
       "      <th>22124</th>\n",
       "      <td>[The I AM JUICY COUTURE girl is once again tak...</td>\n",
       "      <td>Luxury Beauty</td>\n",
       "      <td>B01HJ2UY0W</td>\n",
       "    </tr>\n",
       "    <tr>\n",
       "      <th>22125</th>\n",
       "      <td>[I Love Juicy Couture Eau De Parfum Spray 3.4 ...</td>\n",
       "      <td>Luxury Beauty</td>\n",
       "      <td>B01HJ2UY1G</td>\n",
       "    </tr>\n",
       "  </tbody>\n",
       "</table>\n",
       "<p>11617835 rows × 3 columns</p>\n",
       "</div>"
      ],
      "text/plain": [
       "                                             description  \\\n",
       "0      [(=^ ^=) 1.It is made of high quality material...   \n",
       "1      [<b><br>Hi friend, welcome to our store. Befor...   \n",
       "2      [Gaok men's pants are all made from cotton mat...   \n",
       "3      [<b>pant size(Unit:inch)</b><br> W30(tag30) Wa...   \n",
       "4      [All of our sunglasses offer protection agains...   \n",
       "...                                                  ...   \n",
       "22121  [, CND Craft Culture Collection: Patina Buckle...   \n",
       "22122  [CND Shellac was designed to be used as a syst...   \n",
       "22123  [CND Shellac was designed to be used as a syst...   \n",
       "22124  [The I AM JUICY COUTURE girl is once again tak...   \n",
       "22125  [I Love Juicy Couture Eau De Parfum Spray 3.4 ...   \n",
       "\n",
       "                                                main_cat        asin  \n",
       "0                                            Movies & TV  6305121869  \n",
       "1      <img src=\"https://images-na.ssl-images-amazon....  6318708057  \n",
       "2      <img src=\"https://images-na.ssl-images-amazon....  6342506256  \n",
       "3      <img src=\"https://images-na.ssl-images-amazon....  6342509379  \n",
       "4                                      Sports & Outdoors  6342522081  \n",
       "...                                                  ...         ...  \n",
       "22121                                      Luxury Beauty  B01HIQIEYC  \n",
       "22122                                      Luxury Beauty  B01HIQHQU0  \n",
       "22123                                      Luxury Beauty  B01HIQEOLO  \n",
       "22124                                      Luxury Beauty  B01HJ2UY0W  \n",
       "22125                                      Luxury Beauty  B01HJ2UY1G  \n",
       "\n",
       "[11617835 rows x 3 columns]"
      ]
     },
     "metadata": {},
     "execution_count": 7
    },
    {
     "output_type": "display_data",
     "data": {
      "application/javascript": "\n            setTimeout(function() {\n                var nbb_cell_id = 7;\n                var nbb_unformatted_code = \"df = df.compute()\\ndf\";\n                var nbb_formatted_code = \"df = df.compute()\\ndf\";\n                var nbb_cells = Jupyter.notebook.get_cells();\n                for (var i = 0; i < nbb_cells.length; ++i) {\n                    if (nbb_cells[i].input_prompt_number == nbb_cell_id) {\n                        if (nbb_cells[i].get_text() == nbb_unformatted_code) {\n                             nbb_cells[i].set_text(nbb_formatted_code);\n                        }\n                        break;\n                    }\n                }\n            }, 500);\n            ",
      "text/plain": [
       "<IPython.core.display.Javascript object>"
      ]
     },
     "metadata": {}
    }
   ],
   "metadata": {
    "ExecuteTime": {
     "end_time": "2021-09-11T04:56:49.036922Z",
     "start_time": "2021-09-11T04:55:31.560445Z"
    }
   }
  },
  {
   "cell_type": "code",
   "execution_count": 8,
   "source": [
    "df[\"description\"] = df.loc[:, \"description\"].str.join(\" \")\r\n",
    "df.head()"
   ],
   "outputs": [
    {
     "output_type": "execute_result",
     "data": {
      "text/html": [
       "<div>\n",
       "<style scoped>\n",
       "    .dataframe tbody tr th:only-of-type {\n",
       "        vertical-align: middle;\n",
       "    }\n",
       "\n",
       "    .dataframe tbody tr th {\n",
       "        vertical-align: top;\n",
       "    }\n",
       "\n",
       "    .dataframe thead th {\n",
       "        text-align: right;\n",
       "    }\n",
       "</style>\n",
       "<table border=\"1\" class=\"dataframe\">\n",
       "  <thead>\n",
       "    <tr style=\"text-align: right;\">\n",
       "      <th></th>\n",
       "      <th>description</th>\n",
       "      <th>main_cat</th>\n",
       "      <th>asin</th>\n",
       "    </tr>\n",
       "  </thead>\n",
       "  <tbody>\n",
       "    <tr>\n",
       "      <th>0</th>\n",
       "      <td>(=^ ^=) 1.It is made of high quality materials...</td>\n",
       "      <td>Movies &amp; TV</td>\n",
       "      <td>6305121869</td>\n",
       "    </tr>\n",
       "    <tr>\n",
       "      <th>1</th>\n",
       "      <td>&lt;b&gt;&lt;br&gt;Hi friend, welcome to our store. Before...</td>\n",
       "      <td>&lt;img src=\"https://images-na.ssl-images-amazon....</td>\n",
       "      <td>6318708057</td>\n",
       "    </tr>\n",
       "    <tr>\n",
       "      <th>2</th>\n",
       "      <td>Gaok men's pants are all made from cotton mate...</td>\n",
       "      <td>&lt;img src=\"https://images-na.ssl-images-amazon....</td>\n",
       "      <td>6342506256</td>\n",
       "    </tr>\n",
       "    <tr>\n",
       "      <th>3</th>\n",
       "      <td>&lt;b&gt;pant size(Unit:inch)&lt;/b&gt;&lt;br&gt; W30(tag30) Wai...</td>\n",
       "      <td>&lt;img src=\"https://images-na.ssl-images-amazon....</td>\n",
       "      <td>6342509379</td>\n",
       "    </tr>\n",
       "    <tr>\n",
       "      <th>4</th>\n",
       "      <td>All of our sunglasses offer protection against...</td>\n",
       "      <td>Sports &amp; Outdoors</td>\n",
       "      <td>6342522081</td>\n",
       "    </tr>\n",
       "  </tbody>\n",
       "</table>\n",
       "</div>"
      ],
      "text/plain": [
       "                                         description  \\\n",
       "0  (=^ ^=) 1.It is made of high quality materials...   \n",
       "1  <b><br>Hi friend, welcome to our store. Before...   \n",
       "2  Gaok men's pants are all made from cotton mate...   \n",
       "3  <b>pant size(Unit:inch)</b><br> W30(tag30) Wai...   \n",
       "4  All of our sunglasses offer protection against...   \n",
       "\n",
       "                                            main_cat        asin  \n",
       "0                                        Movies & TV  6305121869  \n",
       "1  <img src=\"https://images-na.ssl-images-amazon....  6318708057  \n",
       "2  <img src=\"https://images-na.ssl-images-amazon....  6342506256  \n",
       "3  <img src=\"https://images-na.ssl-images-amazon....  6342509379  \n",
       "4                                  Sports & Outdoors  6342522081  "
      ]
     },
     "metadata": {},
     "execution_count": 8
    },
    {
     "output_type": "display_data",
     "data": {
      "application/javascript": "\n            setTimeout(function() {\n                var nbb_cell_id = 8;\n                var nbb_unformatted_code = \"df[\\\"description\\\"] = df.loc[:, \\\"description\\\"].str.join(\\\" \\\")\\ndf.head()\";\n                var nbb_formatted_code = \"df[\\\"description\\\"] = df.loc[:, \\\"description\\\"].str.join(\\\" \\\")\\ndf.head()\";\n                var nbb_cells = Jupyter.notebook.get_cells();\n                for (var i = 0; i < nbb_cells.length; ++i) {\n                    if (nbb_cells[i].input_prompt_number == nbb_cell_id) {\n                        if (nbb_cells[i].get_text() == nbb_unformatted_code) {\n                             nbb_cells[i].set_text(nbb_formatted_code);\n                        }\n                        break;\n                    }\n                }\n            }, 500);\n            ",
      "text/plain": [
       "<IPython.core.display.Javascript object>"
      ]
     },
     "metadata": {}
    }
   ],
   "metadata": {
    "ExecuteTime": {
     "end_time": "2021-09-11T04:57:06.373891Z",
     "start_time": "2021-09-11T04:56:49.037892Z"
    }
   }
  },
  {
   "cell_type": "markdown",
   "source": [
    "I drop duplicates with respect to the ID feature 'asin', and with respect to 'description'. Weeding out duplicate descriptions reduces the influence of boilerplate copy-paste style product descriptions."
   ],
   "metadata": {}
  },
  {
   "cell_type": "code",
   "execution_count": 9,
   "source": [
    "df = df.drop_duplicates(subset=[\"asin\"])\r\n",
    "df = df.drop_duplicates(subset=[\"description\"])\r\n",
    "df.shape"
   ],
   "outputs": [
    {
     "output_type": "execute_result",
     "data": {
      "text/plain": [
       "(8244935, 3)"
      ]
     },
     "metadata": {},
     "execution_count": 9
    },
    {
     "output_type": "display_data",
     "data": {
      "application/javascript": "\n            setTimeout(function() {\n                var nbb_cell_id = 9;\n                var nbb_unformatted_code = \"df = df.drop_duplicates(subset=[\\\"asin\\\"])\\ndf = df.drop_duplicates(subset=[\\\"description\\\"])\\ndf.shape\";\n                var nbb_formatted_code = \"df = df.drop_duplicates(subset=[\\\"asin\\\"])\\ndf = df.drop_duplicates(subset=[\\\"description\\\"])\\ndf.shape\";\n                var nbb_cells = Jupyter.notebook.get_cells();\n                for (var i = 0; i < nbb_cells.length; ++i) {\n                    if (nbb_cells[i].input_prompt_number == nbb_cell_id) {\n                        if (nbb_cells[i].get_text() == nbb_unformatted_code) {\n                             nbb_cells[i].set_text(nbb_formatted_code);\n                        }\n                        break;\n                    }\n                }\n            }, 500);\n            ",
      "text/plain": [
       "<IPython.core.display.Javascript object>"
      ]
     },
     "metadata": {}
    }
   ],
   "metadata": {
    "ExecuteTime": {
     "end_time": "2021-09-11T04:57:37.559891Z",
     "start_time": "2021-09-11T04:57:06.375894Z"
    }
   }
  },
  {
   "cell_type": "code",
   "execution_count": 10,
   "source": [
    "df = df.set_index(\"asin\")\r\n",
    "df.head()"
   ],
   "outputs": [
    {
     "output_type": "execute_result",
     "data": {
      "text/html": [
       "<div>\n",
       "<style scoped>\n",
       "    .dataframe tbody tr th:only-of-type {\n",
       "        vertical-align: middle;\n",
       "    }\n",
       "\n",
       "    .dataframe tbody tr th {\n",
       "        vertical-align: top;\n",
       "    }\n",
       "\n",
       "    .dataframe thead th {\n",
       "        text-align: right;\n",
       "    }\n",
       "</style>\n",
       "<table border=\"1\" class=\"dataframe\">\n",
       "  <thead>\n",
       "    <tr style=\"text-align: right;\">\n",
       "      <th></th>\n",
       "      <th>description</th>\n",
       "      <th>main_cat</th>\n",
       "    </tr>\n",
       "    <tr>\n",
       "      <th>asin</th>\n",
       "      <th></th>\n",
       "      <th></th>\n",
       "    </tr>\n",
       "  </thead>\n",
       "  <tbody>\n",
       "    <tr>\n",
       "      <th>6305121869</th>\n",
       "      <td>(=^ ^=) 1.It is made of high quality materials...</td>\n",
       "      <td>Movies &amp; TV</td>\n",
       "    </tr>\n",
       "    <tr>\n",
       "      <th>6318708057</th>\n",
       "      <td>&lt;b&gt;&lt;br&gt;Hi friend, welcome to our store. Before...</td>\n",
       "      <td>&lt;img src=\"https://images-na.ssl-images-amazon....</td>\n",
       "    </tr>\n",
       "    <tr>\n",
       "      <th>6342506256</th>\n",
       "      <td>Gaok men's pants are all made from cotton mate...</td>\n",
       "      <td>&lt;img src=\"https://images-na.ssl-images-amazon....</td>\n",
       "    </tr>\n",
       "    <tr>\n",
       "      <th>6342509379</th>\n",
       "      <td>&lt;b&gt;pant size(Unit:inch)&lt;/b&gt;&lt;br&gt; W30(tag30) Wai...</td>\n",
       "      <td>&lt;img src=\"https://images-na.ssl-images-amazon....</td>\n",
       "    </tr>\n",
       "    <tr>\n",
       "      <th>6342522081</th>\n",
       "      <td>All of our sunglasses offer protection against...</td>\n",
       "      <td>Sports &amp; Outdoors</td>\n",
       "    </tr>\n",
       "  </tbody>\n",
       "</table>\n",
       "</div>"
      ],
      "text/plain": [
       "                                                  description  \\\n",
       "asin                                                            \n",
       "6305121869  (=^ ^=) 1.It is made of high quality materials...   \n",
       "6318708057  <b><br>Hi friend, welcome to our store. Before...   \n",
       "6342506256  Gaok men's pants are all made from cotton mate...   \n",
       "6342509379  <b>pant size(Unit:inch)</b><br> W30(tag30) Wai...   \n",
       "6342522081  All of our sunglasses offer protection against...   \n",
       "\n",
       "                                                     main_cat  \n",
       "asin                                                           \n",
       "6305121869                                        Movies & TV  \n",
       "6318708057  <img src=\"https://images-na.ssl-images-amazon....  \n",
       "6342506256  <img src=\"https://images-na.ssl-images-amazon....  \n",
       "6342509379  <img src=\"https://images-na.ssl-images-amazon....  \n",
       "6342522081                                  Sports & Outdoors  "
      ]
     },
     "metadata": {},
     "execution_count": 10
    },
    {
     "output_type": "display_data",
     "data": {
      "application/javascript": "\n            setTimeout(function() {\n                var nbb_cell_id = 10;\n                var nbb_unformatted_code = \"df = df.set_index(\\\"asin\\\")\\ndf.head()\";\n                var nbb_formatted_code = \"df = df.set_index(\\\"asin\\\")\\ndf.head()\";\n                var nbb_cells = Jupyter.notebook.get_cells();\n                for (var i = 0; i < nbb_cells.length; ++i) {\n                    if (nbb_cells[i].input_prompt_number == nbb_cell_id) {\n                        if (nbb_cells[i].get_text() == nbb_unformatted_code) {\n                             nbb_cells[i].set_text(nbb_formatted_code);\n                        }\n                        break;\n                    }\n                }\n            }, 500);\n            ",
      "text/plain": [
       "<IPython.core.display.Javascript object>"
      ]
     },
     "metadata": {}
    }
   ],
   "metadata": {
    "ExecuteTime": {
     "end_time": "2021-09-11T04:57:38.323893Z",
     "start_time": "2021-09-11T04:57:37.561893Z"
    }
   }
  },
  {
   "cell_type": "markdown",
   "source": [
    "# Pruning Length Outliers\n",
    "\n",
    "I want to reduce the dataset to a more manageable size by selecting only the most valuable parts. Document vectors can be normalized to adjust for varying document length, but there are still reasons to pay attention to it. Short documents contain very few terms, and thus very little information. The vectors representing short documents are more coarse-grained and crude than those representing long ones.\n",
    "\n",
    "On the other hand, some documents may contain too much information. Extremely long documents may contain pages upon pages of irrelevant details. For example, the product description for a book might be the entire first chapter. They also may contain artifacts which inflate their length, such lists of codes or blocks of artificial language (e.g. HTML, JavaScript)."
   ],
   "metadata": {}
  },
  {
   "cell_type": "code",
   "execution_count": 11,
   "source": [
    "fig = lang.length_dist(\r\n",
    "    data=df.sample(10 ** 6), subset=\"description\", log_scale=True, tick_prec=1\r\n",
    ")"
   ],
   "outputs": [
    {
     "output_type": "display_data",
     "data": {
      "image/png": "[encoded data removed]",
      "text/plain": [
       "<Figure size 1080x360 with 3 Axes>"
      ]
     },
     "metadata": {
      "needs_background": "light"
     }
    },
    {
     "output_type": "display_data",
     "data": {
      "application/javascript": "\n            setTimeout(function() {\n                var nbb_cell_id = 11;\n                var nbb_unformatted_code = \"fig = lang.length_dist(\\n    data=df.sample(10 ** 6), subset=\\\"description\\\", log_scale=True, tick_prec=1\\n)\";\n                var nbb_formatted_code = \"fig = lang.length_dist(\\n    data=df.sample(10 ** 6), subset=\\\"description\\\", log_scale=True, tick_prec=1\\n)\";\n                var nbb_cells = Jupyter.notebook.get_cells();\n                for (var i = 0; i < nbb_cells.length; ++i) {\n                    if (nbb_cells[i].input_prompt_number == nbb_cell_id) {\n                        if (nbb_cells[i].get_text() == nbb_unformatted_code) {\n                             nbb_cells[i].set_text(nbb_formatted_code);\n                        }\n                        break;\n                    }\n                }\n            }, 500);\n            ",
      "text/plain": [
       "<IPython.core.display.Javascript object>"
      ]
     },
     "metadata": {}
    }
   ],
   "metadata": {
    "ExecuteTime": {
     "end_time": "2021-09-11T04:57:42.760892Z",
     "start_time": "2021-09-11T04:57:38.325894Z"
    }
   }
  },
  {
   "cell_type": "markdown",
   "source": [
    "If it looks normally distributed, that's because it's plotted on a logarithmic scale. The description lengths vary in orders of magnitude."
   ],
   "metadata": {}
  },
  {
   "cell_type": "code",
   "execution_count": 12,
   "source": [
    "# Print stats\r\n",
    "lang.length_info(df[\"description\"])"
   ],
   "outputs": [
    {
     "output_type": "stream",
     "name": "stdout",
     "text": [
      "       len_description\n",
      "count        8,244,935\n",
      "mean               667\n",
      "std              1,122\n",
      "min                  0\n",
      "25%                175\n",
      "50%                387\n",
      "75%                803\n",
      "max            278,061\n"
     ]
    },
    {
     "output_type": "display_data",
     "data": {
      "application/javascript": "\n            setTimeout(function() {\n                var nbb_cell_id = 12;\n                var nbb_unformatted_code = \"# Print stats\\nlang.length_info(df[\\\"description\\\"])\";\n                var nbb_formatted_code = \"# Print stats\\nlang.length_info(df[\\\"description\\\"])\";\n                var nbb_cells = Jupyter.notebook.get_cells();\n                for (var i = 0; i < nbb_cells.length; ++i) {\n                    if (nbb_cells[i].input_prompt_number == nbb_cell_id) {\n                        if (nbb_cells[i].get_text() == nbb_unformatted_code) {\n                             nbb_cells[i].set_text(nbb_formatted_code);\n                        }\n                        break;\n                    }\n                }\n            }, 500);\n            ",
      "text/plain": [
       "<IPython.core.display.Javascript object>"
      ]
     },
     "metadata": {}
    }
   ],
   "metadata": {
    "ExecuteTime": {
     "end_time": "2021-09-11T04:57:46.293892Z",
     "start_time": "2021-09-11T04:57:42.762893Z"
    }
   }
  },
  {
   "cell_type": "markdown",
   "source": [
    "The longest description is ~280K characters and the shortest is 0 characters. Let's take a look at the longest."
   ],
   "metadata": {}
  },
  {
   "cell_type": "code",
   "execution_count": 13,
   "source": [
    "df.loc[df.description.str.len().idxmax(), \"description\"]"
   ],
   "outputs": [
    {
     "output_type": "execute_result",
     "data": {
      "text/plain": [
       "'<div>Bryan Bunch has extensive experience as a writer and editor in the math and science fields. The editor of <i>The Family Encyclopedia of Diseases</i>, he is also the co-author, with Alexander Hellemans, of <i>The Timetables of Science</i> and the author of <i>Mathematical Fallacies and Paradoxes</i> and <i>Reality\\'s Mirror: Exploring the Mathematics of Symmetry</i>, which was named one of the year\\'s best science books by <i>Library Journal. </i> He lives in Pleasant Valley, New York.<br></div> <DIV>The Kingdom of Infinite Numbers<BR></div><DIV><DIV>Kingdom Number</div></div><DIV><DIV>Genus <i>Natural</i> (Counting Numbers)</div><DIV>In some societies, counting language has not evolved beyond 2 or 3 and a word that means \"many\" for higher numbers. From a linguistic point of view the counting numbers, at least those greater than 2 or 3, may be considered a human invention.</div><DIV>Yet there is something natural about the genus <i>Natural.</i> If the concept of matching, or one-to-one correspondence, is taken as a fundamental idea, the natural numbers--1, 2, 3, ...--would appear to be its logical outgrowth; a natural number describes the set of all sets that can be matched a member at a time with a given set, without regard to order.</div><DIV>From this point of view, 1 might be considered the characteristic that all the sets which match with me myself, considered as an individual, have in common. The number 2 is characteristic of collections that match my eyes or hands or legs or ears. Then 3 is part of the description of sets that match the spaces between the knuckles on one hand, 4 the sets that match the fingers without the thumb, 5 with the thumb, and so forth. You see why some societies stopped using natural numbers after 2 or 3, since we quickly begin to exhaust the observables shared by all.</div><DIV>Although the idea of one-to-one correspondence may seem natural--it is pretty much what we teach to young children as the meaning of number--it is not very mathematical as most mathematicians for the past 200 years haveenvisioned the field. Mathematical ideas must be pinned down; it is not enough to say that we abstract a concept from experience. The definition of a mathematical entity must be \"operational\"--that is, there must be some operation that produces the entity. Furthermore, the operation needs to emerge from within mathematics. The ancient Greeks were satisfied, for example, with the idea that geometric figures are congruent if one may be picked up and superimposed on another. This intuitive idea is rejected today because superimposition is not a mathematical operation. Congruence is established instead with a series of definitions based on such ideas as equality of lengths or angles, which are part of mathematics generally. So it is with the numbers--instead of the \"natural\" interpretation of numbers, mathematicians use the \"counting\" interpretation. The nineteenth-century German mathematician Richard Dedekind, the first to define the genus <i>Real</i> without recourse to geometry, wrote: \"I regard the whole of arithmetic as a necessary, or at least natural, consequence of the simplest arithmetic act, that of counting.\"</div><DIV>Several mathematical definitions based on counting have been proposed for genus <i>Natural.</i> The most common and in some ways the most acceptable was developed by the Italian mathematician Giuseppe Peano [1858-1932] in 1889. It combines the idea of counting with a very general principle called mathematical induction that applies nicely to counting numbers. The Peano definition is a set of five axioms that begins simply and becomes increasingly less intuitive, but still manages to have the axiomatic property of seeming inevitable (although a certain amount of reflection is required to grasp the essence of the last two). Those who are familiar with Euclid\\'s five postulates for geometry will notice a certain parallel.</div><DIV>In ordinary language, Peano\\'s definition is as follows:</div><DIV><DIV>The number 1 exists.</div><DIV>You can always count further by adding 1 more.</div><DIV>No amount of counting will bring you back to 1 again.</div><DIV>If two numbers reached by counting are equal, then the numbers just before them are also equal.</div><DIV>If you define a set of numbers so that: (a) <i>if</i> the defining property applies to some counting number, <i>then</i> it also applies to the number that is 1 more; and (b) <i>if</i> 1 has the property, <i>then</i> all the counting numbers also have the property.</div></div><DIV>The last rule in the definition is hard to follow, with its two <i>ifs</i> and two <i>thens</i>, so I have tried to emphasize the parts. Peano himself would never have stated these rules in anything like this language, however. He believed strongly in symbolic logic and stated all his conclusions using special symbols, so his five-volume book explaining why this definition describes the counting numbers is almost all symbols and unreadable in the ordinary sense. He also insisted on writing out all his lectures using symbolic logic, which caused the students in his classes to rebel. Peano tried to quell the rebellion by promising the students that they would all pass, no matter what, but this attempt at pacification failed. As a result, Peano was forced to resign from teaching.</div><DIV>The terms \"counting number\" and \"natural number\" refer to the same set of numbers, but emphasize different aspects of them. The genus name for these numbers is <i>Natural</i> because that is the name mathematicians usually use, but the definition that formal theory prefers is based on counting rather than the \"natural\" idea of matching sets. Thus, it would be more logical to speak of the \"counting numbers\" rather than the \"natural numbers.\" In some formaltheories (for example, the conditions of the famous proof known as G&#246;del\\'s Theorem--<i>see</i> Prime Family, pp. 35-38) it is important to make a clear distinction between the natural numbers and the counting numbers, but that is too fancy for this project. I generally use whichever term fits the context.</div><DIV><DIV>Commonly Seen Species</div><DIV><DIV>1 <i></i></div><DIV>1 One I unity</div><DIV>French <i>une</i>; German <i>ein</i>; Spanish <i>unos</i>; Italian <i>uno</i>; Latin <i>unus</i>; Greek <i>he&#238;s;</i> Papuan body counting, right little finger; classical and medieval finger numerals, left little finger folded at joints, thumb raised</div><DIV>&#160;<BR></div><DIV>There is only <i>the</i> one, but it comes in two guises. <i>One</i> is sometimes a number, but sometimes not; sometimes it is a discriminator.</div><DIV>The word \"discriminator\" extends the grammatical idea of the article. Articles form the smallest grammatical category in English, comprising only two members: \"a\" and \"the.\" The main function of an article is to indicate that what follows immediately is a noun and not some other part of speech. This function is sufficiently unnecessary that part of it is dropped in other languages such as Russian, which has no word for \"the.\" Thus: <i>word \"discriminator\" extends grammatical idea of article.</i></div><DIV>The broader class of discriminator includes, along with the articles, such words as \"this,\" \"that,\" \"such,\" and, of course, \"one.\" \"Pointer\" would be a more useful class distinction than \"discriminator,\" since what most discriminators dois point: this child, that elephant, such apples. The other discriminators are those that specifically <i>fail</i> to point: a child, an elephant, one apple.</div><DIV>\"One\" can also be a nonpointing discriminator, functioning approximately as a more emphatic \"a\" or \"an.\" The sentences \"There\\'ll come a day when I\\'ll find you\" and \"There\\'ll come one day when I\\'ll find you\" mean essentially the same, but \"one day\" is stronger than \"a day.\" This discriminator function of \"one\" gradually merges into the number function. If you say \"Give me a rose\" you mean the same as \"Give me one rose,\" but in the second sentence the discriminator has drifted further toward numberhood. In the other direction, when used as a pronoun \"one\" has another nonnumerical use, which is distinctly unlike the number function. When I say \"One starts counting with the number one,\" the first \"one\" does not mean a single individual, but quite the opposite. As a pronoun, \"one\" means \"everyone\" --the ultimate nonpointer.</div><DIV>&#160;<BR></div><DIV>FIELD MARKS The number 1 is the least counting number, the place where you begin to count. My older son, when still a preschool child, once argued with my attempt to teach him what the counting numbers are. I said 0 is not a counting number. He said, \"Is too!\" I said, \"Show me. Count those chairs.\" He dramatically pointed his finger at the sky and said \"Zero\" and then pointed at the first chair and said \"One.\" I was impressed, but not convinced.</div><DIV>The number 1 is also the number you \"count by\" in ordinary counting. That is, counting is ordinarily \"by ones\"--the equivalent of adding 1 each time you count. When a human \"learns to count,\" he or she has learned the names of the numbers in order and matches each new item counted with the next number name from that memorized set: one, two, three, four, and so forth. But when a computer\"learns to count,\" it does not use our language names. Instead, it adds 1 for each new item and assigns a name in machine language that is the sum \"last number + 1.\" The human method is the reverse of the computer\\'s: we consider that providing the next name is adding 1, while the computer adds 1 to obtain the next name.</div><DIV>&#160;<BR></div><DIV>The number 1 is the only number that does not change any number by multiplication or when used as a divisor. As such it is called the <i>identity element</i> for multiplication.</div><DIV>&#160;<BR></div><DIV>Other recognizable traits: 1 is the smallest triangular number (<i>see</i> Triangular Family, pp. 44-47), the smallest Fibonacci number and Lucas number (<i>see</i> Fibonacci and Lucas Families, pp. 120-122), the smallest square pyramidal number as well as a Catalan number (<i>see</i> discussion at 14 and Square Pyramids, p. 127), the smallest factorial (0! = 1!, <i>see</i> Factorial Family, pp. 145-146), and a Bell number (<i>see</i> discussion at 52). Finally, 1 is the only counting number that is neither prime nor composite (<i>see</i> Prime Family, pp. 35-38).</div><DIV>&#160;<BR></div><DIV>SIMILAR SPECIES All other identity elements are modeled on 1. Among those commonly encountered are the identity element for addition, 0, and the identity function, <i>f(x)</i> = <i>x</i>. The identity element for addition is 0 because 0 does not change any number when added to or subtracted from any number. The identity properties of 1 and 0 are so nearly alike that when studying a mathematical structure it is difficult to tell what sets 0 apart from 1. The significant difference is that there is an operation that fails for 0--you can\\'t divide by 0--but no such failure for 1.</div><DIV>&#160;<BR></div><DIV>PERSONALITY Since serially adding 1 is the same as counting, before learning the basic addition facts (the sumsof all one-digit numbers), children say the name of the first number to be added and then count as many times as the second number. To add 5 to 2 you can say \"two, three1, four2, five3, six4, seven5\" (the subscripts 1, 2, 3, 4, 5 keeping track of how many times you add 1). This technique is called \"counting on,\" or, perhaps in honor of its digitally assisted version, \"counting on your fingers.\" The virtue of \"counting on\" is that you have fewer ideas to keep track of while adding; you need think only of the number you are counting and how far you need to count for each addend.</div><DIV>&#160;<BR></div><DIV>The role of 1 in multiplication is to bring operations closer to tractable numbers. For example, multiplication by 100 is easy, as everyone knows. The friendly 100 can be combined with adding 1 or subtracting 1 to multiply by 101 or by 99. First, multiply by 100, then subtract or add the other number in the problem. For example, to find 99 &#215; 37, think 100 &#215; 37 = 3700 and 3700-37 = 3663. This is a great deal easier than the ordinary multiplication method, writing the steps for \"times 9,\" \"times 90,\" and adding these \"partial products.\"</div><DIV>This idea of using the two neighbors to friendly numbers greatly aids mental multiplication. For example, 25 is a friendly number because you can replace multiplication using a two-digit number with multiplication by 100 and division by 4. That means that the neighbors 24 and 26 are also easy. To multiply 26 &#215; 54, for example, think 25 &#215; 54 = 5400 &#247; 4 = 1350, then add 54 to get 1404.</div><DIV>&#160;<BR></div><DIV>ASSOCIATIONS Part of the character and significance of each number comes from the associations it has in our minds and the uses to which it is put. Since 1 is associated with everything that is unique, there are more associations of this type than can be listed. In geometry, for example, any result that suggests a unique figure or point is associated with 1.Examples include the angle bisectors of a triangle, as well as the altitudes, the perpendicular bisectors of the sides, and the line segments from a vertex to the middle of the opposite side (the medians), all of which meet at one point--not the same point, but one point only for each of the segments.</div></div><DIV><DIV>2 Two II prime</div><DIV>French <i>deux;</i> Spanish <i>dos</i>; Latin <i>duo</i> (\"twice,\" <i>bis-</i> or <i>bi</i>); Greek <i>d&#253;o</i> or <i>d&#237;s</i> (combining form, <i>di</i>-; \"double,\" <i>dipl&#243;os);</i> Old English <i>tweegen</i>; Papuan body counting, right ring finger; classical and medieval finger numbers, left little and ring fingers folded at joints, thumb raised</div><DIV>&#160;<BR></div><DIV>Two separates the one and the many: nothing counts before you get to 2.</div><DIV>&#160;<BR></div><DIV>FIELD MARKS Recognizing twoness is easy. The same end digits repeat and repeat:</div><DIV>Once you learn the five digits 2, 4, 6, 8, 0, you can immediately recognize any multiple of 2. Is 25,678 a multiple of 2? Yes, it ends in 8, one of the magic five digits. How about 5,839,769? Nope.</div><DIV>&#160;<BR></div><DIV>The number 2 is the only even prime number and the smallest prime of all (<i>see</i> Prime Family, pp. 35-38). As the only even prime, 2 is also the smaller number in the only possible consecutive primes, 2 and 3. The prime 2 also figures in an obscure classification created by the French mathematician Sophie Germain [1776-1831]. A Sophie Germain prime is a prime number for which its double plus 1 is also prime; for 2, the qualification is met because 5 = 2 &#215; 2 + 1 is prime. Although this classification starts out inclusively (the next two primes, 3 and 5, are also Sophie Germain primes), it then thins out. While Sophie Germain primes with thousands of digits are known, it is not known whether or not the number of such primes is infinite.</div><DIV>&#160;<BR></div><DIV>The number 2 is also a Fibonacci number (<i>see</i> Fibonacci and Lucas Families, pp. 120-122), a Catalan number (<i>see</i> discussion at 14), a Bell number (<i>see</i> discussion at 52), and, a trait it shares only with 1, a factorial equal to itself (2 = 2!, <i>see</i> Factorial Family, pp. 145-146). It is the largest counting number <i>n</i> for which the equation <i>x</i><i>n</i> + <i>y</i><i>n</i> = <i>z</i><i>n</i> has a nontrivial solution, that is, a solution other than <i>x</i> = <i>y</i> = <i>z</i> = 0. This is Fermat\\'s Last Theorem (<i>see also</i> discussion at 4).</div><DIV>&#160;<BR></div><DIV>SIMILAR SPECIES Multiples of 2 are <i>even numbers</i>. All other counting numbers are <i>odd</i>. The ancient Greeksshowed counting numbers as patterns of dots in sand. They defined evenness as pairing. A number that can be shown as pairs is even, while a number that has a leftover is odd:</div><DIV>Today we also call 0 even and often include negative even numbers. The entire set of positive and negative whole numbers and 0 is labeled the <i>integers</i> (from the Latin <i>integer</i>, \"whole\"). Only integers are even and odd. The fraction 2/6 shows two even numbers, but 2/6 has the same value as 1/3, which shows two odd numbers. Many fractions in simplest form are quotients of an even and an odd: 3/4; 2/3.</div><DIV>One could extend the concept of even and odd to finite decimals by looking at last digits, agreeing that 0.1234 is even but 0.12345 is odd; but for numbers shown as infinite decimals, the situation is impossible. Unless the decimal is among the group that repeats the same digit to infinity, such as 2.0000 ... , 0.3333 ... , or 1.9999 ... , it is impossible to know what the last digit of the number is. Furthermore, the number named by 2.0000 ... is the same as the one named by 1.999 ... (<i>see</i> Genus <i>Real</i>), so even knowing the last digit is worthless in determining whether a particular real number is even or odd.</div><DIV>&#160;<BR></div><DIV>PERSONALITY Doubling and halving are the easiest operations on their own, and are often used to find other products or quotients. Doubling and adding once is the same as multiplying times 3 (for example, 26 &#215; 3 = 52 + 26 = 78); doubling twice is times 4; doubling twice twice is times 8.</div><DIV>Among the most useful sequences to know for mental computation and recognition of important number patterns is that of the first ten powers of 2:</div><DIV>&#160;<BR></div><DIV>2, 4, 8, 16, 32, 64, 128, 256, 512, 1024</div><DIV>&#160;<BR></div><DIV>ASSOCIATIONS The concept of 2 is hidden in words throughout English as well as in other languages. Old English <i>tweegen</i> becomes <i>twi</i> in words like \"twice\" or \"twain\"; \"twilight\" is \"two lights,\" the times at dawn and dusk when the Sun and Moon are seen together. \"Bicycle\" and \"binocular\" use a form of the prefix <i>bis-</i> to mean \"two.\" <i>Twi</i>- shows up again in \"twin\" (obvious), \"twill\" (\"two-threaded\"), and \"twig\" (\"two branches\"). Other 2s are even more hidden, such as in \"duel,\" which is a formal war between two individuals (the Latin <i>du-bellum</i> elided into what Lewis Carroll called a portmanteau word). My favorite hidden 2s are \"doubt\" (hesitating between two alternatives) and \"diplomat,\" the latter from the Roman <i>diploma</i>, a sealed set of two bronze tablets given to old soldiers to show that they had certain rights and privileges throughout the Empire. And the two testicles when inflamed have didymitis <i>(didym-</i> is another Greek combining form for 2).</div><DIV>&#160;<BR></div><DIV>There are 2 pints in both the U.S. and the imperial quart and, in the United States, 2 cups to the pint.</div><DIV>&#160;<BR></div><DIV>It is difficult to locate twoness in geometry. We normally think of geometric figures in terms of either unity or threeness. For example, even a single point separates a line into three regions (two half lines and the point), and similarly a line separates a plane into three regions. Closed figures, such as circles or triangles and other polygons, can be related in one way or another to 1, 3, or some larger integer, but not to</div><DIV>2. There are no identified figures that have just two points, although a line segment consists of two points <i>and all the points between them</i>. If two points are different from each other, they have an infinite number of points between them. If the points are the same, then there is just one point, not two.</div><DIV>&#160;<BR></div><DIV>The number 2 does show up in an unlikely place in geometry. The difference found by subtracting the sum of the number of edges of any three-dimensional figure with flat sides, sharp corners, and no holes (technically a simple polyhedron) from the number of vertices and adding the number of sides (faces) is always 2. For a cube, for example, the number of vertices is 8, the number of edges is 12, so the difference is-4. Adding the number of faces, 6, produces 2. This rather unusual equation</div><DIV><DIV><i>v</i> - <i>e</i> + <i>f</i> = 2</div></div><DIV>is named Euler\\'s Theorem, after the Swiss mathematician Leonhard Euler [1707-1783], but was originally discovered by Ren&#233; Descartes [French, 1596-1650].</div><DIV>&#160;<BR></div><DIV>There is a twoness at the heart of the universe. Quarks are among the most fundamental particles of matter, but they cannot exist alone. Most matter consists of pairs (and trios) of quarks, and there are no ordinary particles formed of four or more joined particles. It is as if God were a member of one of those hunter-gatherer tribes that can count only to 3. Furthermore, each particle can exist in two and exactly two states, known as spin up and spin down. Spin itself is measured in half-integer steps (see discussion at Genus <i>Ratio</i>nal, 1/2), and there are many particles with a spin of either 1/2 or 1, but only a single particle with spin 2, the still undetected graviton. There is more on this subject at 3.</div><DIV>The number 2 is a \"magic number\" for chemistry in two ways. The element with only two electrons (helium) is stable chemically because its outer shell of electrons is filled. The element (or form of an element) with only two nucleons (protons and neutrons collectively) is stable with respect to radioactive degeneration--this is the hydrogen-2 atom, also known as deuterium. Because all the small atoms are fairly stable to begin with, the \"magic\" stability effect of 2 is less apparent than the chemical and radioactive stability of the elements with higher magic numbers. For chemical stability, these are 10, 18, 36, and 54. For radioactive decay the higher magic numbers are 8, 20, 28, 50, 82, and 126.</div><DIV><DIV>Prime Family</div><DIV>Numbers when multiplied with each other are called <i>factors</i>. Numbers called <i>primes</i> have only themselves and 1 as factors. Numbers that are not prime are called <i>composites.</i> The number 1 is not considered to be either prime or composite, so for the first 25 counting numbers the primes are 2, 3, 5, 7, 11, 13, 17, 19, and 23, while the composites are 4, 6, 8, 9, 10, 12, 14, 15, 16, 18, 20, 21, 22, 24, and 25. The importance of the prime numbers in the eyes of mathematicians is commemorated in their having named the following statement, first proved by Euclid, <i>the fundamental theorem of arithmetic:</i> any counting number can be factored into primes in exactly one way.</div><DIV>The uniqueness of this result can be used in various ways, which range from simplifying the operation of adding fractions to the proof that the system of natural numbers is either inconsistent or incomplete (G&#246;del\\'s Theorem, namedfor its discoverer, the mathematical logician Kurt Godel [Czech-American, 1906-1978]).</div><DIV>The ancient Greeks, especially the Pythagoreans, looked at the ways that counting numbers could be shown by arranging a set of objects in geometric patterns. Certain characteristics of the numbers could easily be observed from these patterns. Such geometric diagrams in classical times appear to have been drawn in sand or assembled as stones on specially marked counting boards; the printed versions are dot diagrams, which are used throughout this book.</div><DIV>Numbers, properties and connections first emerged from the study of patterns of dots. For example, numbers can be shown either as a set of paired dots or as pairs with one dot left over, which not only creates the classification of even and odd, but also shows that all counting numbers must be either even or odd--the only two arrangements of paired dots possible. Similarly, dot diagrams help make clear if a number is prime or composite. Any composite number of dots can be arranged into one or more rectangles, such as these for 12 (the possible factors are the number of dots on a side):</div><DIV>But the nearby prime numbers 11 and 13 cannot be formed into rectangular dot diagrams.</div><DIV>The early Greek mathematicians observed various properties that are related to prime numbers, some of which are collected in books VII and VIII of Euclid\\'s <i>Elements</i>. A winner in everyone\\'s list of great theorems is Euclid\\'s proof that thereis no largest prime (which is often incorrectly described as the proof that there is an infinity of primes--<i>see</i> discussions in Kingdom Infinity that explain the difference). Euclid\\'s theorem is what mathematicians call an indirect proof. If you assume that there is a largest prime, then you could make a finite list of all the primes. But there is an even larger number <i>N</i> that is the product of the largest prime with all the primes less than it. Now consider <i>N</i> + 1. It cannot be prime, since then it would be in the original list of primes. The alternative is that it must be composite. But it cannot have any of the primes in the original list as a factor, since they will leave a remainder of 1. Therefore, there must be some prime <i>p</i> greater than any in the original list. Euclid\\'s original discussion of the proof is actually more sophisticated, observing that since <i>p</i> divides both <i>N</i> and <i>N</i> + 1, it must also divide their difference, which is 1, which is impossible for a counting number.</div><DIV>An important application of prime numbers in today\\'s business world is in the coding (or encryption) of data transmitted by various public means, such as on the Internet. The most common method is based on the difficulty of factoring very large numbers. Even relatively small numbers are not easily factored without a scheme. For example, the identification of all sixteen factors of 210 is of no help when considering the possible factors of the immediate neighbors of 210. Are 209 and 211 prime or can they be factored? If they can be factored, what are the factors? Unless you happen to know the answer from some previous experience with the numbers, the best method for determining factors of relatively small numbers is systematic trial. Divide the number in question by each prime in turn to see if it is a factor. Because of the fundamental theorem of arithmetic, you know that once you have found one prime factor, it will be much easier to unlock the others.</div><DIV>At present (1999) the largest number ever factored is (215-135)41-1, a number with 186 digits. It took eighty-eight computers running eighty-eight days to factor it, suggesting that breaking a code based on factoring large numbers will not soon be commonplace, although it may be possible.</div></div></div><DIV><DIV>3 Three III prime</div><DIV>French <i>trois;</i> German <i>drei</i>; Spanish <i>tres</i>; Italian <i>tre</i>; Latin <i>tres</i>, <i>tria;</i> Greek <i>tre&#238;s, tria;</i> Papuan body counting, right middle finger; classical and medieval finger numerals, left little, ring, and middle fingers folded at joints, index finger pointing, thumb raised</div><DIV>&#160;<BR></div><DIV>For most of human history an unquestioned fact of life has been that the universe consists of three dimensions, no more and no fewer (but <i>see</i> discussions at 4, 5, 10, 11, and 26 for revisionist views of this idea). Indeed, a 3-D image is much more realistic than a page of this book or your television screen.</div><DIV>The use of 3 as a maximum in various contexts (three strikes and you\\'re out, for example) may go back to the earliest languages and even to the wiring of the human brain. Linguists have noted that in languages that inflect nouns and modifiers, \"one,\" \"two,\" and \"three\" are the only number words that are inflected. Older languages in particular seem to have had number words up to \"three\" and no further. The Indo-European base language from which all modern European and Indian languages descend appears to have used the word \"three\" simply to mean \"a lot.\" Indeed, the phrase \"one, two, three\" probably meant \"one, another one, a lot of ones.\" So the special place for 3 in the mind is that it is the largest of the old numbers, the ones that humans have always had.</div><DIV>&#160;<BR></div><DIV>FIELD MARKS The smallest odd prime number is 3, and 3 is also the larger member of the only pair of consecutive primes. It is also the smallest member of what are known as the <i>prime twins</i>, which are prime numbers whose difference is 2, such as 5 and 7 or 11 and 13. There appear to be an infinite number of prime twins, but efforts to settle this question by proof have so far come to naught. In the case of 3, its twin is 5. Furthermore, the numbers 3, 5, 7 form a prime triplet--in fact the only prime triplet, since if there are three consecutive odd numbers, one of them must be divisible by 3.</div><DIV>&#160;<BR></div><DIV>Other recognizable traits: 3 is a triangular number (<i>see</i> Triangular Family, pp. 44-47), a member of the smallest Pythagorean triple (<i>see</i> Pythagorean Family, pp. 67-70), a Mersenne prime (<i>see</i> Mersenne Family, pp. 85-87), and a Fibonacci and a Lucas number (<i>see</i> Fibonacci and Lucas Families, pp. 120-122). Indeed, 3 is the only number other than 1 that is both a Fibonacci and a Lucas number.</div><DIV>A hexagram is a hexagon placed in the graph of a conic section (circle, ellipse, hyperbola, or parabola) so that the vertices of the hexagon are all on the graph of the conic--in common mathematical shorthand, a hexagon inscribed in a conic. Pascal\\'s mystic hexagram (<i>see</i> discussion at 15) is mystic because the extensions of the opposite sides of the hexagram always meet in three points that lie on a line (the hexagon inscribed in a circle is the limiting case). Blaise Pascal [French, 1623-1662] and other mathematicians have found many other remarkable geometric configurations involving specific numbers of points and lines that derive from the hexagram.</div><DIV>&#160;<BR></div><DIV>SIMILAR SPECIES Many characteristics of 3 also apply to 9. It is easy to remember that 9 is 3 &#215; 3 as it is that 4 is 2 &#215; 2. Often we handle a problem that involves 9 or 4 by cutting it in half, so to speak, solving two easy problems that use 2 or 3 instead of a single harder one that uses 4 or 9. One way to divide by 9, for example, is to divide twice by 3. This same approach could be used for larger numbers, but it does not come so naturally.</div><DIV>&#160;<BR></div><DIV>PERSONALITY In a numeration system based on 10, a factor of 3 is almost as easy to recognize as a factor of 2, although a completely different method is employed. The last digit of a number is useless, since any digit can appear as the last digit for a multiple of 3 (for example, 12 ends in 2, 15 in 5, 18 in 8, 21 in 1). It is always true, however, that the sum of the digits of a multiple of 3 is also a multiple of 3, and that if the sum of the number\\'s digits is not divisible by 3, then the number cannot be. Therefore, you can look at a large number, such as 123,456,789, and quickly compute the sum</div><DIV>1+2+3+4+5+6+7+8+9</div><DIV>&#160;<BR></div><DIV>as 45, which is easily spotted as multiple of 3: 3 &#215; 15. In case you don\\'t recognize it, you could add 4 + 5 from 45 to get 9, which you surely know is a multiple of 3.</div><DIV>Notice that this means that you can scramble the digits of any multiple of 3 and the result will still be a multiple of 3. For example, 987,654,321 and 123,789,456 are both multiples of 3.</div><DIV>&#160;<BR></div><DIV>ASSOCIATIONS Among the mysteries of Christianity is the Trinity, God in three Persons. This doctrine combines threeness with oneness in a way that remains unlike nearly anything else except the concept of dimension. The three dimensions of length, breadth, and depth are combined into a single space with each dimension both separate and inextricably bound to the other two. The three dimensions of traditional space become two when three points are chosen to determine a plane. Any three points that are not on a line not only determine a particular plane but also form the vertices of a triangle. Knowing the distances between the three points tells everything there is to know, from a geometer\\'s point of view, about a triangle. The angles of a triangle, for example, are determined by the sides, which is the basis of trigonometry (or \"three-angle measuring\" in Greek-derived Latin). This uniqueness makes the triangle the only rigid figure formed from straight line segments and, therefore, it is vital to engineering. A triangle is rigid because once the vertices are connected, the figure cannot be deformed without bending a side, unlike a rectangle, for example, which can be deformed into a parallelogram. Any polygon with more than three sides can be broken into nonoverlapping triangles (<i>see</i> discussion at 14). Ironically, despite these associations between 3 and angles, it isfamously impossible to trisect an angle with straightedge (an unmarked ruler) and compass alone.</div><DIV>&#160;<BR></div><DIV>One of the words frequently encountered in mathematics is \"trivial,\" which is used to describe instances of a theorem that fit the definition but that are not important. Often the case <i>n</i> = 0 or <i>n</i> = 1 is a trivial instance of some general rule or type of number. The word is built on the <i>tri</i>- prefix that derives from the Latin for \"three\". Most word mavens say that \"trivial\" comes from \"three ways\" (<i>tri</i> and <i>via,</i> Latin for \"road\"), meaning the place where three roads meet, an inconsequential settlement; <i>trivialis</i> meant \"of the street,\" therefore \"commonplace.\" At least one authority, however, deriving the meaning from the same Latin <i>trivium</i> for \"three roads,\" thinks it entered the language from the collective name for the three lesser medieval studies of grammar, rhetoric, and logic, which constituted the courses the university student had to master before embarking on the quadrivium of arithmetic, geometry, astronomy, and music. Hence, \"trivial\" knowledge is not worth much, as it is only what a beginning student knows.</div><DIV>&#160;<BR></div><DIV>In knot theory, an important part of topology, knots are classed by the minimum number of times that the rope (which is connected at both ends to form a closed curve) will cross over itself when flattened almost into the plane. Looping is not enough: the knot must be a true knot that can be undone only if the rope is cut, so there are no knots with only one or two crossings (the circle is considered the null knot). So 3 is the minimum number of crossings that produces a knot, and there is only one possible knot with three crossings, the overhand or trefoil knot. This knot comes in mirror images, which are topologically distinct since one cannot be deformed into the other without leavingthree-dimensional space for at least four dimensions (not counting time as a dimension in this context). Topologists are perhaps embarrassed by mirror-image knots, but they do not count them as separate (<i>see also</i> discussion at 16).</div><DIV>The number 3 seems to be intimately involved with the structure of the universe. In addition to the three dimensions of traditional space, there are according to the standard model of particle physics exactly three families of particles. There is strong evidence from particle accelerator experiments to support this conclusion, although it does not have any theoretical basis. The first family, which includes the electron, a neutrino associated with the electron, and two quarks whimsically named up and down, would seem to provide all the particles a person needs, especially when you add in the antiparticles for each of these. All matter in the universe today is built from particles in the first family.</div><DIV>So it was rather astonishing in 1946 when cosmic \"rays\" (which are actually streams of particles) were found to contain particles that do not belong to the first family. Although at the time physicists were more surprised by finding particles made from what we now recognize as second-family quarks, in retrospect the oddest discoverywas the muon, which is the second-family analog to the electron. Although muons appear easily whenever energies are sufficiently high, the muon seems to have no role or reason for being. It is simply a fat electron, with a mass about 200 times that of the electron. Later, still higher energies in particle accelerators produced what might be called a fat muon, the tauon. Hence, the three families are often called the electron family, the muon family, and the tauon family. Each family also includes its own neutrinos and quarks.</div><DIV>It could be expected that all you would need to find a fourth family would be the addition of still more energy, but experiments seems definitely to rule out this possibility. So, there are three families of matter and no one so far knows why.</div><DIV>&#160;<BR></div><DIV>The old British measure of a sack was (most of the time) three bushels.</div><DIV><DIV>Triangular Family</div><DIV>The followers of Pythagoras developed a classification scheme for numbers based upon their dot diagrams and determined the properties that went with members of particular classes. Prime and composite numbers can be recognized by rectangular patterns of dots for composites and the lack of rectangles for primes. Similarly, the patterns arranged in triangles or other shapes were recognized early. For the most part, the study of numbers that relate to shapes, called <i>figurate numbers</i>, does not have extensive practical application, although if you are aware of these patterns, it can be helpful in special situations.</div><DIV>The simplest closed figure with straight sides is the triangle, so studies of figurate numbers begin with triangular numbers. These are formed by adding the following counting number to get the next triangular number, which forms a series of equilateral triangles (all sides show the same number of dots):</div><DIV>If you count the dots, the numbers shown are 1, 3, 6, 10, and 15. Using a small triangle raised and to the left, like an exponent, we can describe the first five triangular numbers as 1 = 1, 2 = 3, 3 = 6, 4 = 10, and 5 = 15. It is an interesting challenge to find a formula for n if you do not already know it. (If you want to try, then do not read the next paragraphs until you have succeeded or given up.)</div><DIV>The triangular numbers are the sequence formed as 1, 1 + 2, 1 + 2 + 3, 1 + 2 + 3 + 4, and so forth. One way to reason out the formula begins with the idea that if these were shown as right triangles, the height would be the same as the base.</div><DIV>In this case, height and base each would be 4 units. For a right triangle, the length of one of the sides of the right angle is the same as the height, so the area A = 1/2<i>bh</i> of the triangle is half the product of its sides. In this instance, the area (or \"dot area\") would be half of 4 &#215; 4, or 8. But the number of dots is 10: the triangular number 1 + 2 + 3 + 4 = 10, not 8. So this idea does not work. But it does suggest another idea. The area formula for a right triangle is based on the idea that a right triangle is half a rectangle:</div><DIV>But if you double the dot triangle to make a dot rectangle, it looks like this:</div><DIV>This is not a 4-by-4 square of dots, but a 4-by-5 rectangle of them. So its dot area should be <i>A</i> = <i>lw</i> or length times width, which is 4 &#215; 5 = 20. Half of 20 is 10, which is the correct value for the fourth triangular number 1 + 2 + 3 + 4 = 10. A little thought will show that this same procedure would work for any triangular number, since each can beshown in a right-angle form that can similarly be doubled. In each case the width of the rectangle will be the same as the number whose triangle is being sought, while the length ( = height in these diagrams) is 1 more than that number. Then the dot area of the rectangle is length times width, while the dot area of the triangle is half that amount. So the general formula for triangular numbers is <i>n</i> = 1/2<i>n</i>(<i>n</i> + 1).</div><DIV>When I earlier computed the sum of the digits in 123,456,789 to see if it was a multiple of 3, I cheated and did not actually add 1 + 2 + 3 + 4 + 5 + 6 + 7 + 8 + 9. I knew that the triangle of 9 is 45 and I checked to make sure by using the triangular-number formula: 9 &#215; 10 = 90; 90 &#247; 2 = 45. Although chances to use the triangular numbers do not occur very often in computations, they do occur, and the formula can be useful.</div></div></div><DIV><DIV>4 Four IV 2 &#215; 2</div><DIV>French <i>quatre</i>; German <i>vier</i>; Spanish <i>quatro</i>; Italian <i>quattro</i>; Latin <i>quattuor</i>; Greek <i>t&#233;ssares;</i> Papuan body counting, right middle finger; classical and medieval finger numerals, left ring and middle finger folded at joints, index and little fingers pointing, thumb raised</div><DIV>As a child I wondered why the hero of fairy tales searched the four corners of the world; everyone knows that the world is round and has no corners. Of course, the appearance of 4 and the implied angularity in this context echoes the four cardinal directions, north, east, south, and west. The question then occurs, why four directions and not, say, six, or seven? The answer is in the stars and not in ourselves. Watchers of the night sky see the entire universe turn about a point. The direction of that point is clearly important. In the hemisphere where our Western astronomical heritage developed, that direction is north. The way that the stars turn is perpendicular to a line from the observer to the magic point in the sky, a point now almost exactly occupied by Polaris, the North Star. Hence, one direction. The stars appear to travel from east to west, just as the Sun and Moon do. This accounts for two more directions, and the underworld must also turn about a point, the point opposite to Polaris, the south pole of the heavens. Hence, four.</div><DIV>&#160;<BR></div><DIV>FIELD MARKS Every map on a plane can be colored with four colors in such a way that no regions with a common boundary (greater than a single point) will have the same color: this is 4\\'s most dramatic field mark. The same condition applies to maps on a sphere, so it is true of maps on a globe representing Earth as well. This property of 4 was conjectured in 1850 by a schoolboy, Francis Guthrie, who was making a map of the counties of England. When it came to the attention of scholarly mathematicians, every effort to prove it true or false failed, although a number of similar theorems were proved about other shapes, such as the number of colors needed for a map on a doughnut (which, incidentally, is seven). The property became famous as the Four-Color Problem. Finally, in 1976, in the first triumph of the computer over the human mind, mathematicians used acomputer program to investigate all possible maps on the plane and sphere and determined that they could indeed be colored with just four different colors. Mathematicians were not thrilled with this proof by what is derisively nicknamed \"brute force\" in mathematical circles, but they have not yet improved upon the computer\\'s work.</div><DIV>&#160;<BR></div><DIV>Among number people, the most famous field mark of all is that every number 4 or greater can be written as the sum of no more than four squares. If you include 02, the rule becomes: each number 4 or greater can be written as the sum of exactly four squares. This generalization of the idea of a Pythagorean triple (<i>see</i> Pythagorean Family, pp. 67-70) is far from obvious or easy to prove. Some numbers can be written as the sum of <i>two</i> squares; the smallest such is 2 = 12 + 12 (or 1 = 12 + 02 if you include the squares of 0). Clearly, you can easily annex an infinite list of other examples, beginning with 5 = 12 + 22, 8 = 22 + 22, and 13 = 22 + 32. But the list 2, 5, 8, 13, has gaps (incidentally, note that these sums of two squares are all members of the Fibonacci Family--<i>see</i> Fibonacci and Lucas Families, pp. 120-122--is this always the case?). Even including 0 will give you the list that starts 1, 2, 4, 5, which passes over 3. So not all natural numbers can be represented as the sum of two squares, even if you include the square of 0.</div><DIV>Similarly, you can make a list of numbers that are the sum of three squares, beginning 3 = 12 + 12 + 12 , 7 = 12 + 12 + 22, and 9 = 12 + 22 + 22, but this also has gaps that cannot be filled. But starting with 4 = 12 + 12 + 12 + 12 the list (including the square of 0) begins 4 = 12 + 12 + 12 + 12, 5 = 02 + 02 + 12 + 22, 6 = 02 + 12 + 12 + 22, 7 = 12 + 12 + 12 + 22, 8 = 02 + 02 + 22 + 22, 9 = 02 + 12 + 22 + 22, 10 = 12 + 12 + 22 + 22, and so forth. The mathematician and poet Claude-Gaspar Bachet, Sieur de M&#233;ziriac[French, 1581-1638], verified this kind of decomposition of counting numbers into the sums of four squares through the number 120, and conjectured that the relation was true of all counting numbers. Pierre de Fermat [French, 1601-1665] claimed a proof that was never revealed to his correspondents, so it was not until 1770 that another aristocrat, Comte Joseph-Louis Lagrange [French, 1736-1813], provided the first published proof.</div><DIV>&#160;<BR></div><DIV>Not only is 4 the smallest number that is a nontrivial perfect square (<i>see</i> Square Family, pp. 56-59), but it also has another association with perfect squares. Since all counting numbers are either even or odd, they are divisible by 2 or have a remainder of 1 when divided by 2; all perfect squares are either divisible by 22 = 4 or have a remainder of 1 when divided by 4.</div><DIV>&#160;<BR></div><DIV>The number 4 is the smallest number that can be partitioned by addition (which is called \"partitioning\" in number theory) to produce more partitions than the number itself. Four of the partitions are symbolized in the dot diagrams for 4 in the heading above. These are 1 + 1 + 1 + 1,3 + 1,2 + 2, and 4 itself; there is also a fifth partition, 2 + 1 + 1. The lesser numbers 1, 2, and 3 have only as many partitions as themselves--for 3, for example, they are 1 + 1 + 1, 1 + 2, and 3. Notice that commuted, or reflected, partitions are ignored: 1 + 2 and 2 + 1 are counted as a single partition.</div><DIV>All numbers greater than 4 have more partitions than themselves. For example, 5 has 7 partitions, 6 has 11, 7 has 15, and so forth. The number of partitions continues to increase. By the time you reach 200 the number has soared to 3,972,999,029,388. No one has found a general rule for the <i>n</i>th partition, although there exists a rule for finding the (<i>n</i> + 1)th from the <i>n</i>th. The great Indian mathematicianSrinivasa Ramanujan [1887-1920] discovered several rules for obtaining partitions for numbers divisible by 5, 7, and 11, although not for all numbers.</div><DIV>&#160;<BR></div><DIV>Other recognizable traits: The number 4 is a member of the smallest Pythagorean triple (<i>see</i> Pythagorean Family, pp. 67-70), and the only Lucas number other than 1 that is also a perfect square (<i>see</i> Fibonacci and Lucas Families, pp. 120-122). Every algebraic equation of degree 4 or less can be solved by algebraic means, but not all those of 5 or greater.</div><DIV>&#160;<BR></div><DIV>SIMILAR SPECIES As the first consequential power of 2 (taking 21 = 2 as trivial), 4 is near the start of a family that has a unique place among the counting numbers. Numbers that are powers of 2 figure in many families of numbers and in practical applications (<i>see</i> Powers of 2, p. 171).</div><DIV>&#160;<BR></div><DIV>PERSONALITY After multiples of 2, multiples of 4 are the easiest to recognize. By the time you count by 4s to 20, the pattern of numerals is established and will thereafter repeat:</div><DIV><DIV>4, 8, 12, 16, 20, 24,28,32,36, 40, 44, 48, 52, 56, 60, 64, 68, 72, 76, 80, 84, 88, 92, 96, 100</div></div><DIV>When the sixth such cycle begins after 100--</div><DIV><DIV>104,108,112,116,120, 124, 128, 132, 136, 140,</div></div><DIV>and so forth--it is easy to see that the whole pattern from the first five cycles will repeat with the digit 1 in front of it.</div><DIV>As a result, you need look only at the last two digits of any counting number in the 100s to observe whether or not it is a multiple of 4. For example, 722 is not a multiple of 4 (since 22 is not), but 972 is (since 72 is). Furthermore, the cycle continues to repeat for any number of hundreds. No matter how large the counting number is, only the last two digits are needed for you to recognize whether or not is it a multiple of 4. This task is made easier because odd numbers are easily discarded. For speed in recognizing multiples of 4 it is useful to memorize the multiples from 40 through 96. Although these are not part of the basic multiplication facts taught in elementary school, they are very helpful to know.</div><DIV>&#160;<BR></div><DIV>ASSOCIATIONS The Four Horsemen of the Apocalypse in the sixth chapter of Revelation are identified simply by the colors of their horses, white, red, black, and pale, although the rider of the pale horse is named as Death. The rider on the white horse is thought to be Christ, and it seems fairly clear that the rider of the red horse is War. The rider of the black horse is associated with food, and thus is often taken to be Famine. Popularly, the four riders are usually called War, Famine, Pestilence, and Death.</div><DIV>&#160;<BR></div><DIV>The four elements of Aristotle emerge at the end of a long debate among early Greek philosophers as to the nature of the universe. Thales [Ionian, 624-546 B.C.], often considered the first scientist and also the inventor of mathematical proof, proposed that water is the fundamental substance. Anaximenes [Ionian, c. 570-c. 500 B.C.] thought it was air. Xenophanes [Ionian, c. 570-c. 480 B.C.] proposed earth. Pythagoras [Ionian, c. 560-c. 480 B.C.] insisted on number as the foundation of everything, a more reasonable viewpoint from a modern perspective. Heraclitus [Ionian, c. 540-c. 475 B.C.] put his money on fire as the element from which all others were created. It was Empedocles [Hellenic(Sicilian), c. 592-c. 432 B.C.] who merged earth, air, fire, and water as the \"four elements\" we know today, but Aristotle popularized the idea. Since Aristotle was no fan of the Pythagoreans, the idea of number as an element was not a part of the synthesis (but see discussion at 5 for a fifth Aristotelian element).</div><DIV>&#160;<BR></div><DIV>Liquid measure contains a recurring 4, most familiar today from the 4 quarts in a gallon and 4 cups in a quart. In both U.S. and imperial measures, a pint also contains 4 gills--but because the British pint (20 ounces) is larger than the American (16 ounces), the British gill is larger too.</div><DIV>&#160;<BR></div><DIV>Although until early in the twentieth century everyone accepted that there are exactly three dimensions (<i>see</i> discussion at 3), Albert Einstein [1879-1955] proposed his special relativity theory in 1905, suggesting that time must be considered a fourth dimension. Two years later, Hermann Minkowski [German, 1864-1909], who had been one of Einstein\\'s mathematics teachers, reformulated special relativity in terms of four-dimensional space. In the physical world of relativity theory, time (t) does not behave exactly like the other three dimensions (<i>x, y</i>, and <i>z</i>). Einstein was skeptical at first of four-dimensional space. But he came to see that any point in the universe can be located as (<i>x, y, z, t</i>) and its path through the universe is best understood in terms of these four dimensions (<i>see</i> discussions of dimension at 5, 10, 11, and 26.)</div><DIV>&#160;<BR></div><DIV>The figure-eight knot is the only knot with a minimum of four crossings.</div><DIV>&#160;<BR></div><DIV>A problem similar to the Four-Color Problem, first added to mathematical lore by Ferdinand M&#246;bius [German, 1790-1868], was originally suggested to him by his friendAdolph Weiske. A king\\'s will divides his kingdom into five domains, one for each of for his five sons, with the provisos that each part must border on all the others and that the castle of each son should have a direct road to each of the other castles without in any case crossing the domain of a third son. Try to create such a division, and you will find that the two conditions cannot both be fulfilled. That is not the case for four sons, however. So, to generalize, 4 is the greatest number of bordering domains that each have an interior point which can be connected to an interior point within the other domains without crossing a third domain. This is true of domains in a plane or on a sphere, but not on a torus (a doughnut-shaped surface) or other figures that have \"holes.\"</div><DIV>&#160;<BR></div><DIV>Physicists have determined that there are only four fundamental forces, although frequently evidence of a fifth force is announced. Originally these four forces were named as strong, weak, electromagnetic, and gravity, but later evidence has changed this slightly. The electromagnetic force is familiar as electric charge and magnetism. The force that holds the nucleus together against the opposing force of electromagnetism was labeled \"strong.\" Gravity is actually the weakest of the four forces, but a different nuclear force, which takes part in certain kinds of radioactive decay, is called \"weak.\" When quarks were discovered, physicists realized that the strong force as they pictured it was not itself fundamental but a side-effect of a different fundamental force that they termed \"color\" for no really good reason. To complicate matters even more, the electromagnetic and weak forces are, at high enough energies, unified into a single \"electroweak force,\" bringing the number back down to three. Physicists are trying to develop Grand Unified Theories (GUTs) that would combine the electroweak and color forces into a single force, and even a Theory of Everything to bring gravity into the fold. These efforts havenot reached fruition, so physicists still deal most of the time with four basic forces. Candidates for a fifth force are generally some form of antigravity. Surprisingly, new developments in cosmology are making the antigravity force seem much more likely than then has been the case until recently.</div><DIV>Where does this leave the number of forces? The most likely number for the immediate future is still four--color, electroweak, gravity, and antigravity.</div><DIV>&#160;<BR></div><DIV>The famous conjecture known as Fermat\\'s Last Theorem, now proved, has a less well known cousin that is a conjecture of Leonhard Euler. Euler suggested that since it is known that the equation</div><DIV><DIV><i>a</i><i>n</i> + <i>b</i><i>n</i> = <i>c</i>n</div></div><DIV>can be correctly stated for two well-chosen, distinct counting numbers <i>a</i> and <i>b</i> and <i>n</i> = 2, but apparently not for <i>n</i> &gt; 2 (Fermat\\'s Last Theorem), and also since the equation</div><DIV><DIV><i>a</i><i>n</i> + <i>b</i><i>n</i> + <i>c</i><i>n</i> = <i>d</i><i>n</i></div></div><DIV>can be correctly stated for three well-chosen, distinct counting numbers <i>a, b</i>, and <i>c</i> and <i>n</i> = 3 but not for <i>n</i> &gt; 3, then perhaps it is the case that for all distinctive <i>n</i>th positive powers, where <i>n</i> is greater than 1, at least <i>n</i> distinct positive <i>n</i>th powers are required to sum to an exact positive <i>n</i>th power. The next in the series would be the sum of four fourth powers needed to equal a single fourth power, followed by five fifth powers required for a single fifth power. But this conjecture is false when <i>n</i> = 5, for it was shown in the 1960s that</div><DIV><DIV>275 + 845 + 1105 + 1335 = 1445</div></div><DIV>is true, meaning that only four fifth powers are required to sum to a fifth power.</div><DIV><DIV>Square Family</div><DIV>Since the early Greeks introduced figurate numbers (<i>see</i> Triangular Family (pp. 44-47), only one type of them has entered the mainstream of mathematics. Squares--square numbers, that is--are numbers whose dot diagrams are geometric squares. They are formed by adding the odd numbers in sequence: 1, 1 + 3, 1 + 3 + 5, 1 + 3 + 5 + 7, and so forth. Now each odd number has the algebraic form 2<i>n</i> + 1 where <i>n</i> can be 0 or a counting number. You could also write 2<i>n</i> + 1 as 1 + <i>n</i> + <i>n.</i> Thus, any odd number of dots can be shown as a sort of L-shaped figure that has one dot at the angle of the L and n dots in each arm. Greeks called such figures \"gnomons\" after their L-shaped sundials. Here are the first few odd numbers shown as gnomons:</div><DIV>It is easy to see that the first gnomon, 1, will fit into the empty space of the L in the second gnomon to make a square with two dots on a side. Thus, 1 + 3 = 22. Similarly, that square fits into the next L to make a square with three dots on a side, or 1 + 3 + 5 = 32. Continuing, 1 + 3 + 5 + 7 = 42 and 1 + 3 + 5 + 7 + 9 = 52. This kind of argument was enough for the Greeks and should be enough for you as well.</div><DIV>The conclusion to be reached is easy to express in modern notation: for any counting number n the formula</div><DIV><DIV>1 + 3 + 5 + 7 + ... + (2<i>n</i> - 1) = <i>n</i>2</div></div><DIV>is true. Notice that this formula uses a 2<i>n</i> - 1 formula for odd numbers instead of 2<i>n</i> + 1.</div><DIV>The square of any counting number is also called a <i>perfect square</i> to distinguish numbers such as 1, 2, 4, 9, 16, and so forth (perfect squares all) from numbers such as 3 (the square of the square root of 3) and so forth. Every number is the square of some number, but only the squares of the counting numbers, the square numbers of the Pythagorean dot diagrams, are \"perfect.\" But when dealing with the counting numbers, the modifier \"perfect\" is usually dropped.</div><DIV>Square numbers have many interesting properties. Here is one involving primes and composites where they appear unexpectedly.</div><DIV>It is not necessary to perform all possible trials with small primes to determine that a large number is prime or composite. The rule for determining when to stop dividing depends on square numbers. The rule, for reasons that will become apparent, is easiest to demonstrate with a perfect square, such as 144 = 12 &#215; 12. Notice first that since the factors of 12 are 2 (twice) and 3, the factors of 144 are 2 (four times) and 3 (twice). From these you can work out all the pairs of factors that make 144: 1 &#215; 144; 2 &#215; 72; 3 &#215; 48; 4 &#215; 36; 6 &#215; 24; 8 &#215;18; 9 &#215; 16; 12 &#215; 12; 16 &#215; 9; 18 &#215; 8; 24 &#215; 6; 36 &#215; 4; 48 &#215; 3; 72 &#215; 2; 144 &#215; 1. Examination of the list reveals a certain symmetry. After 12 &#215; 12 the factors repeat in reverse order, and it is fairly obvious that this will always happen.</div><DIV>Now consider a number that is not a perfect square, such as 145. Its square root is not a counting number, but it is easy to calculate that the square root must be some number that is only a bit larger than 12, since 12 &#215; 12 = 144. Furthermore, it cannot be as much as 13, since 13 &#215; 13 = 169.</div><DIV>So if you are looking for pairs of factors of 145, you know that when you reach 12 in your search, you can stop. Furthermore, if you want to look only for <i>prime</i> factors, the same rule will apply, except that now you know you can stop with 11, since that is the greatest prime number less than 13, and so if you have not found a prime by the time you get to 11 you can stop. The actual prime factors of 145 are then found as follows. It is easy to tell that neither 2 nor 3 is a factor of 145, but 5 is:</div><DIV>Now you can stop, because 5 &#215; 29 = 145 and both 5 and 29 are prime.</div><DIV>Similarly, for 143 the process would be to test 2 (no), 3 (no), 5 (no), 7 (no), and 11 (no). Then you can stop because the square root of 143 must be a bit less than 12, so it is impossible for there to be a different pair that has a prime factor bigger than 11 since it would have to pair with a prime less than 11, and you have checked all the primes less than 11.</div><DIV>This rule greatly simplifies the search for factors of a number. If there is no prime factor, then, as a consequence of the fundamental theorem of arithmetic, there is no natural-number factor at all. To examine the factors of any number, you need but examine the prime factors less than the square root of the number.</div><DIV>For small numbers this is not an onerous task. For larger numbers with hundreds of digits in their decimal representation, even this simplified method of factoring is of little use. Mathematicians are able to test factors of large numbers by methods that are generally too sophisticated and complex to discuss in this book. The problem of finding factors quickly becomes more difficult with increasing size of the number and, although new methods are frequently discovered, the problem of factoring very large numbers or determining if they are prime--for which we know there is always a solution--is one of the most difficult tasks in mathematics.</div></div></div><DIV><DIV>5 Five V prime</div><DIV>French <i>cinq</i>; German <i>f&#252;nf</i>; Spanish <i>cinco;</i> Italian <i>cinque</i>; Latin <i>quinque</i>; Greek <i>p&#233;nte;</i> Papuan body counting, rightthumb; classical and medieval finger numerals, left middle finger folded at joints, index, ring, and little fingers pointing, thumb raised</div><DIV>&#160;<BR></div><DIV>Most people can instantly recognize five things without counting them, but not six or more. This was apparently true of the Creator as well--the number 5 is oddly favored by nature. Think of the five-part body plan of the starfish and its relatives, or the five extensions of the body of a quadruped (four limbs and a head). Flowers have either five petals or four. People have five fingers on each hand, and many creatures also have five toes, and possibly for this reason Roman and Mayan numerals are partly based on 5 (the V for 5 of Roman numerals is thought to represent a hand).</div><DIV>[Some psychologists claim that 4 is the maximum number that can be recognized by glancing at a set of objects, so perhaps recognition of five objects without counting is actually observing one more than four objects, not five of them per se.]</div><DIV>&#160;<BR></div><DIV>FIELD MARKS In 1968 the American mathematician I. A. Barnett published a brief note about a dozen unexpected places that 5 appears in mathematics. Here are five of them:</div><DIV><DIV>1. The curves formed by the intersection of a plane with a cone, the conic sections, which include all the graphs of equations in which x and y have exponents of 2 or less (circles, ellipses, parabolas, hyperbolas), can all be specified uniquely by just five points. Shorthand for this property is: \"five points determine a conic.\"</div><DIV>2. There are five and only five figures in three-dimensional space that have all the faces alike and all the angles at the vertices equal. These are the tetrahedron (four faces), cube, or hexahedron (sixfaces), octahedron (eight faces), dodecahedron (twelve faces), and icosahedron (twenty faces). This result was known to the ancient Greeks and remarked upon by Plato, so these figures are often called the Platonic solids, but the formal description of a figure with identical faces and angles is that it is <i>regular</i>, and closed figures in three-dimensional space that have flat faces are called <i>polyhedrons</i> (sometimes <i>polyhedra).</i> A short statement of this property might be: \"exactly 5 regular polyhedrons exist.\" (This is the traditional view cited in hundreds of books, but since 1619 it has been known that Euclid\\'s definition admits to other regular polygons; see discussion at 9.)</div><DIV>3. The <i>degree</i> of an equation in one variable is the same as the greatest exponent for the variable used in constructing the equation. For example, thedegree of an equation such as 3x2 + 5x - 2 = 0 is 2 because the highest exponent is 2. \"Equations of degree 5 or higher cannot generally be solved by algebraic means.\"</div><DIV>4. Pierre Fermat was nearly always right, but at least one of his famous ideas was later found to be wrong. He thought that numbers formed by raising 2 to a power that was also a power of 2 and adding 1 would be prime--these numbers are called Fermat primes. The sequence begins:<DIV>20 + 1 = 1, 21 + 1 = 3, 22 + 1 = 5, 24 + 1 = 17, 28 + 1 = 257, 216 + 1 = 65,537</div><DIV>But the next number, 232 + 1 = 4,294,967,298 + 1 = 4,294,967,299, is not a prime. So far no other Fermat primes have been found, so \"there are only five known Fermat primes\" (<i>see also</i> discussion at 17).</div></div><DIV>5. The foundation of number theory is the study of the integral solutions to equations in which the coefficients are also integers. A relatively simple class of such equations comprises equations in two variables for which each term with a variable is of the third degree and the sum of all these terms is equal to 1. These are such equations as 2<i>x</i>3 + 3<i>y</i>3 = 1 or x3 + 2<i>x</i>2<i>y</i>-3xy2 + 4y3 = 1. Integral solutions to such equations may or may not exist. A point (<i>x</i>, <i>y</i>) for which both coordinates are integers is called a <i>lattice point</i> of the graph. Depending on the graph, such points can be rare or common. Thus, the following number association with 5 is quite remarkable: \"the curve <i>ax</i>3 + <i>bx</i>2<i>y</i> - <i>cxy</i>2 + <i>dy</i>3 =1, where <i>a, b, c,</i> and <i>d</i> are integers, passes through, at most, five lattice points.\"</div></div><DIV>As a prime, 5 figures in several relationships. It is a Sophie Germain prime (<i>see</i> discussion at 2) and a prime twin with 3 and with 7, so it is the middle member of the only prime triplet. Finally, 5 is the smallest member of a class of prime numbers called Wilson primes that are defined as primes p for which 1 more than the product of the counting numbers up to but not including <i>p</i> is <i>p</i><i>2</i><i>.</i> For 5, this means that 1 + 1 &#215; 2 &#215; 3 &#215; 4 = 25, and so 5 qualifies.</div><DIV>&#160;<BR></div><DIV>Other recognizable traits: 5 is the largest member of the smallest Pythagorean triple as well as of the second Pythagorean triple (<i>see</i> Pythagorean Family, pp. 67-70), a Fibonacci number (see Fibonacci and Lucas Families, pp. 120-122), a square pyramidal number (<i>see</i> Square Pyramids , p. 127), a Catalan number (<i>see</i> discussion at 14), and a Bell number (<i>see</i> discussion at 52).</div><DIV>&#160;<BR></div><DIV>SIMILAR SPECIES The number 5 and its multiples with powers of 10 are hidden in nearly every measurement. Because 5 is half of 10, it and the multiples of 5 and the powers of 10 are the midpoints used in almost all scientific measurement. If a measurement is reported as 6000 meters, it can have different meanings depending on how the measurement was made. The presence of the three Os at the end suggests that the measurement was not to the nearest meter, so the true measurement may be half a meter (500 centimeters) less or more. If measured to the nearest 10 meters, the true measure is between 5995 and 6005 meters; to the nearest 100, between 5950 and 6050. Wherever there is a measurement in whole units, there is a hidden 5.</div><DIV>&#160;<BR></div><DIV>PERSONALITY The products of any natural number and 5 are among the most recognizable of any numbers in our numeration system: the endings are either 0 or 5.</div><DIV>Since 5 and 2 are the only factors of 10, the numbers 2 and 5 are associated with each other in many computational methods, as are their multiples, especially the multiples of 2 and 5 by 10 and its powers--20, 50, 200, 500, and so forth. Multiplying by 5 in the decimal system is the same as multiplying by 10 and dividing by 2. For example, to multiply 47 &#215; 5, think 470 &#247; 2.</div><DIV>The inverse procedure also is effective for division by 5--that is, instead of dividing by 5, multiply by 2 and move the decimal point one place to the left. Thus, to divide 487 by 5 think twice 487 is 974, so 487 &#247; 5 = 97.4. The more digits there are, the more useful the shortcut. When the number of digits in the amount to be divided is too great for a cheap calculator, mental computation is often required. Consider dividing a number such as 398,857,204 by 5. Doubling is easy, either by scribbling down the number twice on a scrap of paper and adding or by starting from the right with 4 and working back as you double mentally and write the digits, also from right to left (thinking 8, 0, 4, 14, 10 + 1 = 11, 16 + 1 = 17, 16 + 1 = 17, 18 + 1 = 19, 6 + 1 = 7, while writing 797714408). Then add a decimal point one place from the right and insert appropriate commas to obtain the answer of 79,771,440.8.</div><DIV>This method is even more useful when the divisor is a number such as 50 or 5000. Then the only difference in procedure is that the decimal point in the answer is placed <i>farther</i> to the left by the same number of places as the number of zeros in the divisor. For example, 398,857,204 &#247; 500 = 797,714.408; because of the two zeros in 500 the answer has its decimal point two places farther to the left than does the answer for 398,857,204 &#247; 5 = 79,771,440.8.</div><DIV>&#160;<BR></div><DIV>ASSOCIATIONS Clocks combine an Egyptian hour system based on 12 with a Mesopotamian minute and second system based on 60. In the relationship between 12 and 60, 5 is the third partner, since 5 &#215; 12 = 60. As a result, the passage of 5 minutes is reported by moving from one numeral to the next on a clock face, making 5 minutes and its multiples convenient measures of time.</div><DIV>&#160;<BR></div><DIV>In Aristotle\\'s view, the four elements of earth, air, fire, and water (see discussion at 4) were not applicable to the heavens, which seemed to him to have different physical laws from the natural world about us. Thus they must be made from a different element, a fifth element or <i>quinta essentia.</i> From this phrase we derive the word \"quintessence\" to mean something especially pure, and by extension the word is often used to suggest the best or highest.</div><DIV>&#160;<BR></div><DIV>The success of the Einstein-Minkowski explanation of space and time as a four-dimensional entity inspired Polish physicist Theodor Kaluza [1885-1945] to develop in 1921 a theory in which relativity theory and gravity were combined in a space of five dimensions. Kaluza\\'s five-dimensional universe made sense mathematically but not in terms of the universe we see about us; we experience time and three dimensions of space, but not a fifth dimension. Five years later another physicist, Oskar Klein, worked out a way for the fifth dimension to exist but not be experienced: it is curled up into a tiny cylinder that is too small to be observed--much smaller than the nucleus of an atom. The mathematical theory still makes sense, but few thought at the time that this theory describes the real universe (but see discussion at 10, 11, and 26).</div><DIV>&#160;<BR></div><DIV>In geometry, 5 is most commonly associated with two polygons: the pentagon with five sides and five angles; and thefamiliar five-pointed star, which is known formally as a pentacle or pentagram (mathematicians say <i>pentagram</i> but dictionaries prefer <i>pentacle</i>). The pentagram has ten sides and ten angles (five at the points and five between the points), although some authorities insist that it must be constructed to include a second star within. It can be described as the figure formed by connecting the vertices of a regular pentagon and then eliminating both the original pentagon and the smaller one that appears in the middle of the star. The internal vertices of the pentagram can be used to produce the second star by the same procedure. This figure, with or without the second star, is sometimes called the \"pentagram of Pythagoras\" (for a discussion of the importance of this figure in the history of mathematics, <i>see</i> Irrational Family, pp. 274-275).</div><DIV>&#160;<BR></div><DIV>The Pythagoreans\\' figurate numbers included pentagonal numbers given by the sequence <i>N</i> = 1 + 4 + 7 + ... +</div><DIV>(3n - 2) = 1/2 <i>n</i>(3<i>n</i> - 1). Thus, 5 itself is pentagonal; and the number \"5 pentagonal\" (or fifth pentagonal number) is 35.</div><DIV>&#160;<BR></div><DIV>The Four-Color Problem has an associated five-color theorem discovered by Percy John Heawood [English, 1861-1955], who in 1890 proved that five colors suffice to color any map on a plane or a sphere. Unlike the somewhat controversial 1976 computer proof of the four-color theorem, the five-color theorem stems directly from Euler\\'s Theorem (see discussion at 2) by ordinary mathematical reasoning.</div><DIV>&#160;<BR></div><DIV>There are only two knots that have a minimum of five crossings, and there are five knots that have a minimum of six crossings.</div><DIV>&#160;<BR></div><DIV>There is evidence that in one species of wasp, Genus <i>eumenus</i>, the female can count to 5 (and also to 10). She must provide paralyzed caterpillars for a developing larva. Because a female larva requires more food than does the smaller male, the adult female always places five caterpillars in the place where the male egg is laid and ten in the vicinity of a female egg. Some other species of related wasps provide even higher numbers of caterpillars and manage to keep the numbers straight--twelve or even twenty caterpillars are the norm for some solitary wasp species.</div><DIV><DIV>Pythagorean Family</div><DIV>Sometimes it seems as if humans are the only creatures on Earth who love straight lines and especially square corners. An archaeologist who uncovers a rock shaped like a box can be almost sure that it is a part of a structure made by humans.If an astronomer or space probe observed square corners and straight lines on another planet, surely intelligent life--that is, something that thinks like a human--would be suspected. Very early humans seem not to have fallen for the square corner, since early dwellings are mostly circular. But the beginning of civilization can be seen as the time that the right angle appears as the basis for architecture. If you see a photograph of a hunter-gatherer village that has round dwellings, you unconsciously assume that its society is less intricate than an otherwise similar village with square-corner architecture.</div><DIV>One reason we love square corners is that they come out even--four square corners side to side cover a space with no overlapping--although for some purposes angles of 120&#176; work even better, as honeybees seem to have discovered. (Only three of the honeybee angles are needed to cover a space.) If you used parallelograms instead of rectangles to lay out a building or a field, for example, you would need to make two different angles, such as 60&#176; and 120&#176;, or 45&#176; and 135&#176;, but for 90&#176;, only one angle is needed. Furthermore, a closed figure with four right angles will always have its opposite sides parallel and, although this is less obvious, equal in length. Much can be said for the honeybee alternative of the 120&#176; angle and its associated hexagons, but right angles and rectangles--the word <i>rectangle</i> means \"right angle\"--are the human alternative.</div><DIV>Consider the ancient Egyptians. Egyptian mathematics is famous for the \"rope stretchers,\" teams of surveyors who worked to restore property lines after the annual Nile flood. As reported by Greek travelers, they relied on a simple device to lay out square corners. They used a loop of rope knotted with three knots carefully spaced at measured lengths. Each of a team of three stretchers grasped one of these knots and pulled, so the loop became taut. The result was a large triangle in which the largest angle was always a right angle. Thesquare bases of the pyramids with nearly perfect right angles are physical evidence that the rope-stretching method is an effective way to form right angles. Indeed, my wife and I still use this method to produce right angles for fences or in laying out a garden.</div><DIV>For this method to work, the knots have to be correctly spaced along the loop. In the Egyptian spacing, the distances between knots were 3 units, 4 units, and 5 units. In that case, the right angle is between the 3 and 4 sides of the triangle. It does not matter what units are used for measuring the rope, so triangles of any size can be constructed. Using double units or triple units would produce 6-8-10 or 9-12-15 triangles, but these are essentially the same as the 3-4-5 version.</div><DIV>Are there other right triangles that also have three sides that are counting numbers (and do not simply reduce to 3-4-5)? The answer to the question was apparently a preoccupation of another early civilization, since the Old Babylonians of about 1900 to 1600 B.C. left behind clay tablets with lists of the sides of such triangles. The purpose is not clear, but the lists appear to be exhaustive and include such less obvious combinations as the 119-120-169 triangle, in which the right angle is between the 119 and the 120 sides.</div><DIV>It is not certain which early civilization deserves the credit for recognizing that such triangles share a trait that is true for all right triangles: the sum of squares of the lengths of the two short sides is always equal to the square of the side opposite the right angle. The oldest source is Chinese, but the diagram used in that instance applies only to right triangles where the short sides are equal. Certainly the Egyptians knew special cases of this famous relationship, and the Old Babylonians appear to have had a very general view of it. Nevertheless, because it entered Western civilization through Greek sources, we know the relationship today as the Pythagoreantheorem. It is possible that Pythagoras did contribute to the development of the theorem by providing a Greek-style proof of it, since proof was not a feature of Babylonian mathematics and only hinted at in Egyptian. Ironically, the followers of Pythagoras used this theorem in a famous proof that refutes the basic Pythagorean idea that everything in the universe is constructed from counting numbers (<i>see</i> Irrational Family, pp. 274-275).</div><DIV>In any case, because the theorem about the sides of a right triangle, is known to one and all as the Pythagorean theorem, any three counting numbers <i>a, b</i>, and c for which the equation <i>a</i>2 + <i>b</i>2 = <i>c</i>2 is true is called a Pythagorean triple. The smallest such triple is 3, 4, 5, the sides of a 3-4-5 right triangle, and also numbers that satisfy the relationship 32 + 42 = 52. The next smallest is 5, 12, 13.</div><DIV>The Old Babylonians apparently knew that a Pythagorean triple always results from choosing two different counting numbers <i>m</i> and <i>n</i> and using them to define a Pythagorean triple <i>a, b, c</i> by the rule that <i>a</i> = <i>m</i>2 - <i>n</i>2, <i>b</i> = 2<i>mn</i>, and <i>c</i> = <i>p</i>2 + <i>q</i>2. It is easy to use algebra to show that this will always produce <i>a</i>2 + <i>b</i>2 = <i>c</i>2, although it is not clear how the Babylonians worked out this result. When <i>m</i> = 2 and <i>n</i> = 1, the familiar 3, 4, 5 triple results. Similarly, <i>m</i> = 3 and <i>n</i> = 1 gives 8, 6, 10, while <i>m</i> = 3 and <i>n</i> = 2 produces 5, 12, 13.</div></div></div><DIV><DIV>6 Six VI 2 &#215; 3</div><DIV>French <i>six</i>; German <i>sechs</i>; Spanish <i>seis</i>; Latin <i>sex</i>; Greek <i>h&#233;x</i>; Papuan body counting, right wrist; classical and medieval finger numerals, left ring finger folded at joints, index, middle, and little fingers pointing, thumb raised</div><DIV>&#160;<BR></div><DIV>Because its multiples have many small divisors, 6 is sometimes used in developing systems for writing numbers. Consider 12, with divisors 2, 3, 4, and 6; 24, with 2, 3, 6, 8, and 12; or 30, with 2, 3, 5, 6, 10, and 15. As you can recognize, each new multiple will include more small divisors. The number 60 is particularly rich, with 2, 3, 4, 5, 6, 10, 12, 15, 20, and 30. The first known system of writing numbers, which developed in Mesopotamia, was partly based on 60, and we see its remnants in 60 minutes and 60 seconds. Computer programmers often used a \"hexadecimal\" system based on a combination of 6 and 10.</div><DIV>&#160;<BR></div><DIV>FIELD MARKS The number 6 is the least, or first, <i>perfect number</i>. A perfect number is one for which the sum of its proper divisors is the number itself. (Proper divisors include 1 but do not include the number itself.) The number 6 qualifies because its proper divisors are 1, 2, and 3, and 1 + 2 + 3 = 6. Note also that 1 &#215; 2 &#215; 3 = 6. This last statement means that 6 is a factorial number (3! = 6; <i>see</i> Factorial Family, pp. 145-146), which somehow makes 6 seem even more perfect.</div><DIV>Most numbers are less than perfect, and are usually called <i>deficient</i> (or sometimes <i>defective</i>) because the sum of the divisors, not including itself, is less than the number. Clearly 1 is omitted from discussion by the definitions of perfect and deficient numbers, so 2 is the first deficient number (all primes are deficient) and 4 is the first deficient nonprime. (<i>See also</i> discussions of <i>abundant numbers</i> at 12 and <i>multiply perfect numbers</i> at 120.)</div><DIV>&#160;<BR></div><DIV>Somehow the involvement of 6 in the longest perfect Golomb ruler seems related to its status as the first perfect number, although there is no real connection. A Golomb ruler (invented by the American mathematician Solomon W. Golomb in the 1970s) can measure any counting-number length as the distance between two marks without duplicating any distance. A perfect Golomb ruler can measure <i>all</i> the counting-number distances up to the length of the ruler without duplication. For instance, a ruler with marks at 0, 1, and 3 can measure not only 1 unit between 0 and 1, and 3 units between 0 and 3, but also 2 units between 1 and 3. Thus, the ruler with marks at 0, 1, and 3 is a perfect Golomb ruler with three marks. It can be proved that there is only one perfect Golomb ruler with four marks, and its length is 6 units. The marks are at 0, 1, 4, and 6. It is an easy exercise to determine that the distances between every pair of marks are 1, 2, 3, 4, 5, and 6. Try it.</div><DIV>The product of any three consecutive counting numbers is divisible by 6. This is true because in any triplet of consecutive counting numbers, one of the numbers must be even and another must be a multiple of 3.</div><DIV>&#160;<BR></div><DIV>The smallest cyclic number in the Hindu-Arabic system has six digits: 142,857. A <i>cyclic number</i> for a given number of digits is one that when multiplied by any counting number less than or equal to the number of digits will have the same digits as the original number but, of course, arranged in a different order. The digits cycle, so starting with one digit the others follow in the same order if you put the last before the first. Note that 2 &#215; 142,857 = 285,714; 3 &#215; 142,857 = 428,571; 4 &#215; 142,857 = 571,428; 5 &#215; 142,857 = 714,285; and 6 &#215; 142,857 = 857,142. The six digits here can be recognized as the digits that repeat in the decimal expansion of 1/7 (<i>see</i> discussion at Genus <i>Rational,</i> 1/7).</div><DIV>&#160;<BR></div><DIV>The minimum number of colors needed to color a map (see discussion at 4) on a one-sided surface such as a M&#246;bius strip or a Klein bottle is six. This seems odd, since a one-sided surface is like the outside of a sphere in many ways, and the number of colors needed for a sphere is four, the same as for a plane. And the Klein bottle, aside from passing through its own inside, is like a torus, which requires seven colors. Nevertheless, the best authorities all state that for M&#246;bius strips and Klein bottles, it takes at least six colors to make a map.</div><DIV>&#160;<BR></div><DIV>SIMILAR SPECIES After 6, the next perfect number is 28, whose divisors are 1, 2, 4, 7, and 14 (1 + 2 + 4 + 7 + 14 = 28). After that comes the perfect number 496.</div><DIV>&#160;<BR></div><DIV>The largest number of divisors possible for a number of four or fewer digits is 62 if you do not count 1, and the two differentnumbers that have this many divisors--7560 and 9240--are both multiples of 6.</div><DIV>&#160;<BR></div><DIV>PERSONALITY Although 6 is not very tractable by itself, it can easily be broken into 2 and 3. Thus, to multiply a number mentally by 6, one good way to do it is to multiply first by 3 and then double the answer. For 37 &#215; 6, think 37 times 3 is 37 + 37 = 74 + 37 = 111; 111 doubled is 222. Another approach would be to break 6 into 1 more than its friendlier neighbor 5, so for 394 &#215; 6, think 394 &#215; (5 + 1) = (394 &#215; 5) + 394; 394 &#215; 5 is half of 394 &#215; 10 = 3940; 3940 &#247; 2 = 1970. Then, 394 &#215; 6 is 1970 + 394 = 2364. (This is much easier to do than it is to describe.)</div><DIV>Division by 6 can also be accomplished by dividing successively by 2 and by 3. It helps to recognize before you start whether or not the number being divided is a multiple of 6. The easiest way is to use the tests for multiples of 2 and 3 together; for example, 396 is even (so a multiple of 2) and its digits sum to 18, a multiple of 3, making 396 also a multiple of 3, so 396 is also a multiple of 6. Thus, division of 396 by 6 will have no remainder. On the other hand, for 9874 &#247; 6, think 9 + 8 + 7 + 4 is 28, so 9874 is not a multiple of 3 and therefore there will be a remainder. Divide by 2 (9874 &#247; 2 = 4937); divide 4937 by 3 (4937 &#247; 3 = 1645 r 2).</div><DIV>&#160;<BR></div><DIV>ASSOCIATIONS St. Augustine is among the early Judeo-Christian writers to suggest that God chose six days in which to create the universe because it is a perfect number, and, as Augustine noted, \"We must not despise the science of numbers.\"</div><DIV>&#160;<BR></div><DIV>The Pythagoreans worked out a series of hexagonal numbers (numbers whose dot diagrams can be arranged as hexagons) as part of their study of figurate numbers. These are found accordingto the following sequence: <i>N</i> = 1 + 5 + 9 + ... + (4<i>n</i> - 3) = 2<i>n</i>2 - <i>n</i>.</div><DIV>&#160;<BR></div><DIV>The radius of a circle is related to the number 6 in a way that would be surprising if it were not used so often without contemplation. If you begin at a point on the circle and with a compass mark off arcs equal to the radius, after six marks you are exactly back at the starting point. This remarkable relationship between the radius and the circle can be used to construct a regular hexagon or a six-pointed Star of David in a circle.</div><DIV>Why does this occur? It happens largely as a result of 6 being two 3s. A diameter is the same as a straight angle (180&#176;) with its vertex at the center of the circle. The sum of the three angles of any triangle is also 180&#176;. Thus, if all the angles of a triangle are equal, then each measures 60&#176; (180 &#247; 3 = 60). You can always assemble three equilateral triangles on each side of the diameter because the sum of three 60&#176; angles is a straight angle or straight line:</div><DIV>The result is a regular hexagon. Each of the six vertices of the regular hexagon is 1 unit away from the center, so a circlewith a radius of 1 unit that has that point as its center will pass through all the vertices of the hexagon. The main reason 6 is involved is that each of the two straight angles has been broken into three triangles, and 3 &#215; 2 = 6.</div><DIV>&#160;<BR></div><DIV>The packing problem for a plane--how many circles of a given size can be arranged around a circle of the same size--is a related challenge. Once again, the answer is 6.</div><DIV>Honeybees seem to know this theorem (<i>see also</i> Pythagorean Family, pp. 67-70). At least one scientific study found that honeybees create combs with hexagons because they are trying to cram as many cells as possible into a given space. They begin with circles but end up with hexagons as, with the pressure of the stored honey, the circular wax cells merge with one another and share walls. Scientists have long known that this system provides the maximum amount of honey for the minimum amount of wax. While such thrift was once ascribed to the benevolent wisdom of God and at another time to the cunning of the insect, the evidence seems to suggest that any time essentially round creatures pack themselves together in storing something, they will by geometry arrive at the honeycomb structure.</div><DIV>&#160;<BR></div><DIV>The figure corresponding to a regular hexagon in three space is a <i>cube</i>, which has six sides that are all squares. This is the only six-sided regular polyhedron.</div><DIV>&#160;<BR></div><DIV>There are six raised dots in the Braille system of notation used by many blind people to read and write. It is named for its inventor, Louis Braille [French, 1809-1852], blind himself, who devised it at the age of fifteen. Each sign is shown as a pattern of 6 raised dots that can be read with the fingertips. There are sixty-four possible places to have a dot or not in an arrangement of six. The number 64 is 26, and arises in this situation because for each of the six positions (arranged in twocolumns of three dots each) there are two choices, whether to have a dot or not. For obvious reasons Braille omitted the choice of no dots at all, leaving sixty-three symbols. For ease in reading, Braille used the top pair and the middle pair for the first letters of the alphabet, then added the bottom dots to form the less common later letters--W, which is not at all common in French, was originally omitted. Some of the later combinations were used for diphthongs, indicators, or frequently used words. Numerals, at least in the version used today, are indicated by preceding one of the first ten alphabet letters with a special sign:</div><DIV>so the numerals for 0 through 9 are as follows:</div><DIV>Note that the numeral 0 corresponds with the letter J because Braille started with A equal to 1.</div><DIV>&#160;<BR></div><DIV>There are just five knots with a minimum of six crossings.</div><DIV>&#160;<BR></div><DIV>A <i>siesta</i> takes place at the sixth hour, which, when the daily round was divided into twelve parts of day and twelve parts of night, no matter the season, would be the middle of the day.</div><DIV><DIV>Pascal\\'s Triangle</div><DIV>Notice that if you know the prime factors of a number, it is easy to reconstruct the other factors. For example, knowing that 2 &#215; 3 &#215; 17 = 102 also tells you that the only possiblecombinations (ignoring the trivial factor of 1) that produce 102 in addition to 2 &#215; 3 &#215; 17 = 102 are (2 &#215; 3) &#215; 17 = 6 &#215; 17 = 102; 2 &#215; (3 &#215; 17) = 2 &#215; 51 = 102; and (2 &#215; 17) &#215; 3 = 34 &#215; 3 = 102. In the nineteenth century, various mathematicians experimented with generalizing this simple idea. For example, the number of possible combinations for three factors consists of the three combinations of two factors as well as the single combination of all three; so every number that has three prime factors can be factored into four different combinations. But suppose that there are four prime factors, say 2, 3, 5, and 7. For this situation you need to consider all four prime factors, every combination of three of the primes, and finally the results of pairing factors.</div><DIV>You would begin with the single combination of all four: 2 &#215; 3 &#215; 5 &#215; 7 = 210.</div><DIV>To determine how many combinations there are of factors taken three at a time, recognize that each such combination can be found by isolating exactly one of the other factors, so there are four combinations, one for each factor:</div><DIV><DIV>2 &#215; (3 &#215; 5 &#215; 7) = 210 5 &#215; (2 &#215; 3 &#215; 7) = 210</div><DIV>3 &#215; (2 &#215; 5 &#215; 7) = 210 7 &#215; (2 &#215; 3 &#215; 5) = 210</div></div><DIV>or</div><DIV><DIV>2 &#215; 105 = 210 5 &#215; 42 = 210</div><DIV>3 &#215; 70 = 210 7 &#215; 30 = 210</div></div><DIV>It is a little more difficult to be certain that you have all the combinations that are pairs, but the concept is somewhat the same. Instead of isolating each of the individual factors, you pair each factor, one at a time, with each of the other three factors, leaving the remaining two factors as asecond pair. For example, you pair 2 with 3, leaving 5 and 7 to obtain</div><DIV><DIV>(2 &#215; 3) &#215; (5 &#215; 7) = 6 &#215; 35 = 210</div></div><DIV>Then pair 2 with 5 to obtain</div><DIV><DIV>(2 &#215; 5) &#215; (3 &#215; 7) = 10 &#215; 21 = 210</div></div><DIV>and 2 with 7 to obtain</div><DIV><DIV>(2 &#215; 7) &#215; (3 &#215; 5) = 14 &#215; 15 = 210</div></div><DIV>Repeating the process beginning with 3, 5, or 7, however, produces no new combinations, because you have already considered the pairs of each of these in previous combinations.</div><DIV>There is just one combination with all four prime factors, four with combinations of three factors, six ways to use pairs of factors, and the original four prime factors considered as separate numbers, a pattern of totals that can be listed as 1, 4, 6, 4. Thus there are fifteen different factors of 210 in all--sixteen if you count 1, which is a factor of every number. These are 1, 2, 3, 5, 6, 7, 10, 14, 15, 21, 30, 35, 42, 70, 105, and 210.</div><DIV>This kind of thinking led not only to a general consideration of the combinations of various kinds but to a whole important branch of mathematics, called group theory, that goes far beyond simple arithmetic.</div><DIV>Those who have some experience in algebra may recognize the pattern of numbers of combinations explored above (this time with the 1 that is the factor of every number included):</div><DIV><DIV>1 4 6 4 1</div></div><DIV>That is 1 (the number itself as a factor of four primes); 4 (three factors); 6 (two factors); 4 (single prime); 1 (the number 1 as a factor). This pattern is the same as the coefficients of the fourth power of a binomial:</div><DIV><DIV>(<i>a</i> + 1)4 = <i>a</i>4 + 4<i>a</i>3 + 6<i>a</i>2 + 4<i>a</i> + 1</div></div><DIV>An ancient way of generating such patterns is known as Pascal\\'s Triangle, since it was investigated by Blaise Pascal in 1654; but it is known as \"The Old Method\" in a Chinese book of 1303 and as early as 1100 was probably known also to Omar Khayy&#225;m [Persian, 1048-1131], who is thought to have learned it from even earlier Indian or Chinese writers. The numbers in each row of Pascal\\'s Triangle are generated by adding pairwise the numbers in the row above. Imagine a universe of Os in which, suddenly, there appears a 1, and a universal law that says that two adjacent numbers when added will produce the number below:</div><DIV>Pascal\\'s Triangle has many interesting applications as well as various patterns buried within it. Two of the more obvious appear by looking down the diagonals:</div><DIV>While the first diagonal is simply the counting numbers in order, the second is the triangular number sequence. Furthermore, adding the members of the rows produces the sequence of powers of 2. The sums of another set of diagonals are the Fibonacci numbers (see Fibonacci and Lucas Families, pp. 120-122).</div></div></div><DIV><DIV>7 Seven VII prime</div><DIV>French <i>sept</i>; German <i>sieben</i>; Spanish <i>siete</i>; Italian <i>sette</i>; Latin <i>septem</i>; Greek <i>hept&#225;</i>; Papuan body counting, right elbow; classical and medieval finger numberals, left little finger folded at knuckle, thumb raised</div><DIV>It has been suggested that 7 came to be associated with good luck in the Western tradition because of the seven ancient \"planets\"--the Sun, Moon, Mercury, Venus, Mars, Jupiter, and Saturn--which are also used to name the seven days of the week. Earth was not on the list in ancient days: it was not recognized as a starry wanderer, just a place from which to view the stars. The division of time into weeks of seven days, however, appears to represent the number of days in each phase of the Moon, an association that probably preceded naming the days for the planets. The archaic English name for a week is \"sennight,\" or \"seven nights,\" from the Old English <i>seofon nihta,</i> reflecting a Germanic tradition of counting the nights in a passage of time instead of days (<i>see</i> discussion at 8). There are also some important constellations with seven stars, including the star pattern we commonly call the Big Dipper (or in England, the Plough), and more formally Ursa Major.</div><DIV>Of course, a more likely reason that 7 is associated with luck is that the odds of a 7 in dice--which were used in Egypt as early as 2000 B.C., or even earlier--are higher than those of other numbers because there are more ways that a pair from 1, 2, 3, 4, 5, and 6 can add to 7 than to any other sum. The sums 1 + 6, 2 + 5, and 3 + 4 can each occur in two ways in a toss of a pair of dice, making six combinations in all. Compare with the five ways to get a sum of 6 (1 + 5 and 2 + 4 each in two ways but 3 + 3 in only one way), or the three ways for 8 (5 + 3 in two ways and 4 + 4 in one way).</div><DIV>&#160;<BR></div><DIV>FIELD MARKS Division by 7 of any number not a multiple of 7 produces, as the various steps of the division algorithm are continued to produce the decimal fraction quotient, all the possible nonzero remainders less than 7. For example,</div><DIV>and so forth. This trait of 1/7 produces a decimal fraction (0.142857142857 ... ) with a repeating period six digits long. Note that 1, 4, 2, 8, 5, and 7 are not the remainders, which must each be less than 7. The repeating period is the cyclic number 142,857 (<i>see</i> discussion at 6), which emerges in a different order for 2/7, 3/7, 4/7, 5/7, and 6/7. For example, 6/7 as a decimal begins 0.857142 and then repeats the period 857142.</div><DIV>&#160;<BR></div><DIV>Other recognizable traits: 7 is a Mersenne prime (<i>see</i> Mersenne Family, pp. 85-87), a Lucas number (<i>see</i> Fibonacci and Lucas Families, 120-122), and a prime twin with 5 and prime triplet with 3 and 5, making it the greatest member of the only prime triplet. It is also part of the third smallest Pythagorean triple 7, 24, 25 (whose members are usually ordered beginning with the smallest leg).</div><DIV>&#160;<BR></div><DIV>SIMILAR SPECIES Other numbers less than 100 that have all possible remainders during the steps of division, and therefore also generate cyclic numbers, are 17, 19, 23, 29, 47, 59, 61, and 97. There are probably an infinite number of primes with this property, but this has never been proved.</div><DIV>&#160;<BR></div><DIV>PERSONALITY The number 7 is difficult to use in computation. It is prime, moderately large for a digit, not close to10, and not a factor of 10 or 100. There is a divisibility rule for 7, just as there is for the other digits, but it is so complex that it is always easier to divide and see if there is a remainder than it is to apply the rule.</div><DIV>&#160;<BR></div><DIV>Probably because of its computational intractability, 7 and its powers figure in the earliest known example of recreational mathematics. This is Problem 70 of the Egyptian Rhind Papyrus, which dates from 1650 B.C. but is thought to contain material of a much earlier date. Roughly, the problem states: \"In each of seven houses live seven cats. Each cat eats seven mice. Each one of the mice would have eaten seven ears of grain had it not been for the cat. One ear, if planted, would have yielded seven bushels of grain. How much grain was saved by the cats?\" (The problem is presented as a list used in the solution, so you have to work backward from the solution to guess at the problem.) The solution, from the Egyptian scribe Ahmes, is correct: 16,807 bushels of grain. This same idea is behind a problem created nearly 3000 years later by Fibonacci, and also is implicit in the trick question of a children\\'s rhyme:</div><DIV><DIV>As I was going to St. Ives, I met a man with seven wives. Every wife had seven sacks, Every sack had seven cats, Every cat had seven kits: Kits, cats, sacks, wives--How many were going to St. Ives?</div></div><DIV>I trust you know the correct answer, but perhaps were fooled once when you were young.</div><DIV>&#160;<BR></div><DIV>ASSOCIATIONS The Bible is filled with 7s. The vision of St. John the Divine, described in Revelation, is a rich example:there are the seven churches that are in Asia matched with the seven Spirits (angels) before God\\'s throne, later identified with seven golden candlesticks and seven stars and provided with seven trumpets, seven vials of the wrath of God, and seven plagues; here too are the seven seals on the scroll that can be opened by the Lamb with seven horns and seven eyes.</div><DIV>Scholars in the Middle Ages determined that there are Seven Deadly Sins (usually given as pride, lust, envy, anger, covetousness, gluttony, and sloth). There is a corresponding, but lesser known, group of Four Cardinal Virtues (prudence, justice, fortitude, temperance) and Three Theological Virtues (faith, hope, love)--which of course add up to 7.</div><DIV>&#160;<BR></div><DIV>One of the most famous problems in mathematics since the latter part of the nineteenth century dates from a 1735 proof of Leonhard Euler that there is no way to cross all the seven bridges that span the River Pregel in Konigsberg by a path that crosses each bridge exactly once. This problem and its proof of impossibility are considered the beginning of a significant branch of mathematics known somewhat confusingly as graph theory (\"confusingly\" because it has nothing to do with any kind of graph) and also, in a happier formulation, as network theory.</div><DIV>&#160;<BR></div><DIV>There are just eight knots that have a minimum of seven crossings.</div><DIV><DIV>Mersenne Family</div><DIV>The new sociologists of science tell us that before the rise of scientific societies and scientific journals, scientific truth did notexist. While few scientists believe that this analysis is correct, nevertheless it is true that early scientific or mathematical ideas could easily perish with the death of the discoverer. It is difficult to picture a scientist or mathematician of today finding something clearly important and failing to publish it, as Pierre</div><DIV>Fermat famously did not publish his Last Theorem. Fermat was a country lawyer in provincial Toulouse who in fact never published any of his great advances in mathematics. Some of his ideas did become known through letters, which brings us to Marin Mersenne [French, 1588-1648], a member of a little-known Catholic order called the Mimims who live austerely and often follow intellectual pursuits. Mersenne, through his correspondence with Fermat, Descartes, and the other leading mathematicians and scientists of the seventeenth century--including Galileo and Evangelista Torricelli--acted as a clearinghouse for mathematical ideas, as journals do today. His collected correspondence fills sixteen volumes and discusses physics and music as well as mathematics.</div><DIV>Mersenne\\'s name is most closely associated with a set of prime numbers that he discussed in a 1644 book, Cogitata <i>physico mathematica</i>, and at various places in his voluminous correspondence. These are numbers of the form 2<i>p</i>-1, where <i>p</i> is a prime. But not all numbers of this form are primes, and the investigation to find which are and which are not has led to the discovery of many of the largest prime numbers. A Mersenne prime is often shown as M<i>p</i>, where <i>p</i> is the prime in 2p - 1, so, for example, M2 = 2<i>2</i> - 1 = 3 and M3 = 7.</div><DIV>The first seven Mersenne primes are 3, 7, 31, 127, 8191, 131,071, and 524,287. For many years the largest known prime was 2127 - 1, a Mersenne prime equal to</div><DIV><DIV>170,141,183,460,469,231,731, 687,303,715,884,105,727</div></div><DIV>This number, discovered in 1876 by the French mathemati-This number, discovered in 1876 by the French mathematician Edouard Lucas, held the record until the computer age dawned. In 1952 a computer began to spew out higher Mersenne primes and found five of them that year. Subsequently, the largest known prime number has increased dramatically every year or so. Most of the largest known primes are also Mersenne primes, since Lucas and later others developed special methods for testing whether or not Mersenne numbers are prime, but these methods do not apply to primes in general. More recently, newer algorithms have been used by thousands of professional and amateur mathematicians working over the Internet. As of 1999 this group has discovered the largest known prime, which is of course a Mersenne prime, 26,972,593 - 1, a number with 2,098,960 digits (which I will not provide, especially since this \"largest prime\" is almost certain to be superseded shortly, perhaps before this book is published). Euclid more than 2000 years ago proved that there is no actual \"largest prime\"--there are always larger primes.</div></div></div><DIV><DIV>8 Eight VIII 2 &#215; 2 &#215; 2</div><DIV>French <i>huit</i>; German <i>acht</i>; Spanish <i>ocho</i>; Italian <i>otto</i>; Latin <i>octoni</i>; Greek <i>oct&#243;;</i> Papuan body counting, right shoulder;classical and medieval finger numerals, left little and ring fingers folded at knuckles, thumb raised</div><DIV>&#160;<BR></div><DIV>The number 8 occurs as the number of days in a week in German since nights rather than days are counted--so a German week (<i>acht Tage</i>) is the eight days that surround seven nights.</div><DIV>&#160;<BR></div><DIV>FIELD MARKS Although, technically, 1 is the first perfect cube, the peculiarity of all powers of 1 makes this property not especially interesting. Thus, the next perfect cube--which is of course 8, 2 &#215; 2 &#215; 2--might be called the smallest interesting one. And interestingly, 8 is also the only cube that is 1 less than a perfect square (32 - 1 = 8).</div><DIV>&#160;<BR></div><DIV>Other recognizable traits: 8 is the only Fibonacci number other than 1 that is a perfect cube (<i>see</i> Fibonacci and Lucas Families, pp. 120-122) and a member of the fourth smallest Pythagorean triple, 8, 15, 17.</div><DIV>&#160;<BR></div><DIV>SIMILAR SPECIES Other perfect cubes include 27, 64, 125, 216, 343, 512, 729, and 1000.</div><DIV>&#160;<BR></div><DIV>PERSONALITY After 4, multiples of 8 are the easiest to recognize. Since 8 is factored into 2 &#215; 2 &#215; 2, it evenly divides into multiples of 10 with any number that also contains a factor of 4; in particular with 4 &#215; 10 = 40. Thus, by the time you reach 40 when counting by 8s, the pattern of numerals is established and will thereafter repeat:</div><DIV><DIV>8, 16, 24, 32, 40, 48,56, 64, 72, 80, 88,96,104,112,120,</div></div><DIV>and so forth. When the cycle reaches 1000--that is, 1008, 1016, 1024, 1032, 1040, and so forth--it is easy to see that the whole pattern repeats from the beginning. As a result, you need only look at the last three digits of any counting number in the 1000s or greater to observe whether or not it is a multiple of 8. For example, 3124 is not a multiple of 8 (since 124 is not), but 5152 is (since 152 = 8 &#215; 19). As this example shows, it may be necessary to test the last three digits by division, because most people do not memorize the multiples of 8 beyond 10 &#215; 8 = 80 (although it is certainly useful to memorize 12 &#215; 8 = 96, a product that comes up quite often).</div><DIV>&#160;<BR></div><DIV>ASSOCIATIONS In geometry, 8 appears at the corners of the cube. It is less obvious that as a result of this appearance of 8, it is also the number of faces of the octahedron. If you examine a cube and an octahedron side by side, it becomes clear that the easy way to form an octahedron is to use the centers of the faces of the cube as the vertices of the octahedron. Then cut off the corners of the cube, and triangular faces will form an octahedron. Since there are eight corners to cut off, there will be eight triangular faces.</div><DIV>&#160;<BR></div><DIV>Just as four colors are needed to color a map on a plane or a sphere and seven to color a map on a torus, eight are needed for all possible maps on a figure with two holes (such as a loving cup).</div><DIV>&#160;<BR></div><DIV>There are eight knots with a minimum of seven crossings. Beyond this, knotty problems become harder and harder to solve (see discussions at 3 and 16.)</div><DIV>&#160;<BR></div><DIV>When small numbers of metal atoms are allowed to associate in small clusters, they preferentially form groups withspecific numbers of atoms. For sodium atoms heated just enough to form small groups, for example, the clusters tend to form with 8, 20, 40, or 58 atoms. Like the similar magic numbers of nucleons in an atomic nucleus (see discussion at 2), these magic numbers of atoms begin with 8 and 20, magic for stable nucleons; but above 20 the two sequences are different. It is not clear exactly why clusters of atoms form with these magic numbers, but the best guess is that it has something to do with the structure of the five Platonic solids (see 5 for an illustration), although the exact correlation is yet to be worked out.</div><DIV><DIV>Cubic Family</div><DIV>The perfect cubes are the products formed when any whole number is multiplied by itself--that is, used as a factor--three times. The beginning of the sequence of perfect cubes through 103 = 1000 is given in the preceding text on Similar Species. In addition to memorizing those numbers, it is helpful to be able to recognize 1331, 1728, 2197, 2744, 3375, 4096, 4913, 5832, 6859, and 8000 as perfect cubes, or at least to suspect a possible cubic nature when you encounter them.</div><DIV>Cubes figure in one of the most famous anecdotes about mathematics, a story that is particularly relevant to this book. Since we have the story from G. H. Hardy, who was there at the time, there is every reason to believe it is true.</div><DIV>When the great Indian mathematician Ramanujan, for whom every positive integer was a personal friend, was lying ill, his friend Hardy visited him often. Hoping to cheer him up one day, Hardy tried to think of some interesting mathematical idea to occupy Ramanujan\\'s mind, but nothing cameto him. Hardy had, however, noted the number of the taxi he took to the hospital and passed the number on to Ramanujan, but apologized that the number, 1729, was so dull. \"No,\" said Ramanujan, \"it is a very interesting number. It is the smallest number expressible as a sum of two cubes in two different ways.\" (They are 13 + 123 and 93 + 103.)</div><DIV>The cubes appear in many of the most famous results of number theory, although it is not always clear what spot they occupy. For example, Fermat\\'s Last Theorem, that there is no true statement of the form an + bn = cn for nonzero a, b, and c and for n &gt; 2, can easily be restated as \"there is no true statement for cubes or for powers higher than cubes.\" Or even more dramatically, and certainly misleadingly, as \"cubes are the least powers for which there is no true statement of the form <i>a</i><i>n</i> + <i>b</i><i>n</i> = <i>c</i><i>n</i> for nonzero <i>a, b</i>, and <i>c</i>.\"</div></div></div><DIV><DIV>9 Nine IX 3 &#215; 3</div><DIV>French <i>neuf</i>; German <i>neun</i>; Spanish <i>nueve</i>; Italian <i>nova</i>; Latin <i>novem</i>; Greek <i>enn&#233;a</i>; Papuan body counting, right ear; classical and medieval finger numerals, left little, ring, and middle fingers folded at knuckles, index finger pointing, thumb raised</div><DIV>Whether they have retained the information from science classes or crossword puzzles, most people accept that there are nine planets in the solar system--Mercury, Venus, Earth, Mars, Jupiter, Saturn, Uranus, Neptune, and Pluto. Of course, it would seem that the reason there should be nine rather than some other number is a physical fact, but in this case it could be argued that the number is arbitrary, since it depends on what we want to call a planet. When the asteroid Ceres was discovered in 1801 it was considered a planet, for example, and was demoted only when it became clear that there are thousands of similar bodies. Pluto is still treated as a planet, although considerable evidence suggests that it is more like a large comet. Furthermore, we now know that the four inner planets are not much like the giant gas planets of Jupiter, Saturn, Uranus, and Neptune. Perhaps we should speak of the 4 + 4 planets. Rather like a sport utility vehicle.</div><DIV>Pythagorean philosophy, which is based on number, argued that there should be ten planets because 10 is a better number than 9. The Pythagoreans counted the five then-observed planets of the heavens (Uranus had not been noticed, and Neptune and Pluto cannot be seen without telescopes), added in Earth, Moon, and Sun as planets, and so reached a total of 8. They also thought all these bodies revolved about a Central Fire, which would make nine objects. Since they thought a total of ten would be more suitable, they envisioned an unseen planet called the anti-Earth that was presumed to be involved in eclipses.</div><DIV>&#160;<BR></div><DIV>&#160;<BR></div><DIV>FIELD MARKS Oddly for a number that has so many uses that derive from its place in the decimal system as 1 less than the base, 9 is seldom encountered when pure numbers are the subject. It is not in any of the famous sequences, with one exception: 9 is a square number.</div><DIV>A set of problems that often occurs in recreational mathematics concerns separating a figure into nonoverlapping subfigures of a particular nature that will exactly cover the larger figure. If the subfigures are squares with counting-number sides and the larger figure is a rectangle, the least possible configuration that forms the rectangle has nine squares. The lengths of the sides of the squares are 1, 4, 7, 8, 9, 10, 14, 15, and 18 units. If you make such squares as cardboard cutouts, you can while away several hours trying to produce the rectangle.</div><DIV>&#160;<BR></div><DIV>The number 9 appears in connection with the Heegner numbers of fairly advanced mathematics, which are named for the German physicist and mathematician Kurt Heegner [1893-1965]. It had been conjectured that there are only nine of these numbers, specifically -1, -2, -3, -7, -11, -19, -43, -67, and -163. They are related to prime complex numbers (<i>see</i> discussion at Genus <i>Complex</i>, 1 + <i>i</i>). It was not until 1952 that Heegner proved that this was the complete list, and it was almost another twenty years before mathematicians generally accepted that Heegner\\'s proof was valid.</div><DIV>&#160;<BR></div><DIV>Also, 9 is a member of the fifth smallest Pythagorean triple, which is 9, 40, 41.</div><DIV>&#160;<BR></div><DIV>SIMILAR SPECIES The other numbers that are 1 less than a power of 10, such as 99; 999; 9999; 99,999; 999,999; and so forth are most like 9 in the way they are handled in computation, but in fact any natural number that ends in a 9 or a string of 9s shares some of 9\\'s computational utility.</div><DIV>&#160;<BR></div><DIV>PERSONALITY As noted, the special character of 9 in our system comes from its relation to 10. This relationship influences computation with 9 in several ways as expressed in thedecimal numeration system. But these characteristics depend entirely on the numeration system. If the numeration system is changed, the relationship of 9 to 3 or to multiples of 3 does not change, but otherwise 9 becomes just another number.</div><DIV>&#160;<BR></div><DIV>One of the main tools of mathematics from ancient times through the nineteenth century was \"casting out nines,\" an algorithm that depended on extensions of the divisibility rule for 9: that a number is divisible by 9 if the sum of its digits is also divisible by 9 (see discussion at 3). For example, 123 is not divisible by 9 but 126 is--1 + 2 + 3 = 6, while 1 + 2 + 6 = 9. The proof relies on the fact that the difference of two counting numbers that are divisible by the same number is also divisible by that number (for example, 126 - 27 = 99). A similar argument shows that the sum, product, and quotient are also divisible by that number. Now most numbers are not divisible by 9--although half the counting numbers are divisible by 2, and 20% of the counting numbers are divisible by 5, a little thought shows that eight out of nine counting numbers in a finite set, or about 88.8% of them, are not divisible by 9.</div><DIV>So if you add, subtract, multiply, or divide two numbers, the chances are good that neither number is divisible by 9 and so the answer will not be either.</div><DIV>The same idea can be extended to remainders, since if two numbers have the same remainder after division by a given number, their sum, difference, or product will also have the sum, difference, or product of the remainders when divided by that number (reduced by 9 if greater than 9). If the remainder is 0, the case is the same as in our example of 126 - 27 = 99. Here is an example with a remainder: 139 has a remainder of 4 when divided by 9 and 21 has a remainder of 3. So the sum 139 + 21 = 160 has a remainder of 4 + 3 = 7, the difference 139 - 21 = 118 has a remainderof 4 - 3 = 1, the product 139 &#215; 21 = 2919 has a remainder of 4 &#215; 3 = 12, reduced to 12 - 9 = 3. Quotients do not work the same way, since, for example, neither 139 &#247; 21 nor 4 &#247; 3 is a whole number.</div><DIV>This relationship for remainders combined with the simple divisibility rule for 9 is the basis of casting out nines. Here is the way you would use casting out nines to check a product such as 125 &#215; 394 = 49,250. Begin with the answer. The remainder on dividing 49,250 by 9 can easily be found. It is the sum of the digits, minus 9 re-summed until less than 9. The sum of the digits of 49,250 is 4 + 9 + 2 + 5 + 0 = 20, which re-summed is 2 + 0 = 2. So the remainder on dividing by 9 will be 2. Now look at the factors. The remainder for 125 when divided by 9 will be 1 + 2 + 5 = 8, while that for 394 will be 3 + 9 + 4 = 16 or 1 + 6 = 7. The rule for casting out nines is that the product of the remainders will have the same remainder as the product of the original numbers when the answer is correct. So consider 8 &#215; 7, the product of the remainders, which is 56. Its remainder is 5 + 6 = 11, which re-sums to 2. So the answer is not shown to be wrong and there is also a good chance (about 88.8%) that the answer is correct--although a simple transposition of digits will go undetected since the sums will not change.</div><DIV>Casting out nines can be explained in terms of an arithmetic in which every number is converted to its remainder upon dividing by some fixed number. This method, an important tool of number theory, is formally called <i>congruence for numbers</i> and is also known as <i>modular arithmetic.</i> The modular operations all produce results corresponding to the ordinary operations. Here are some examples with modulo 9, although a different modulus would also work. In modulo 9, 37 is converted to 1 because 37 &#247; 9 = 4 r 1. Similarly, 49 is converted to 4 because 49 &#247; 9 = 5 r 4. Then 37 + 49 will be a sum that is convertible to 1 + 4 = 5 in modulo 9.Checking shows that 37 + 49 = 86 and that 86 &#247; 9 = 9 r 5. Similarly, since the modular numbers 1 &#215; 4 = 4, for the regular numbers 37 &#215; 49 = 1813 and 1813 &#247; 9 = 201 r 4 the predicted relationship again holds true. Modular arithmetic in the guise of number congruence is one of the main tools in the study of the properties of the natural number genus.</div><DIV>&#160;<BR></div><DIV>The proof of the divisibility test for 9 implies that subtracting the sum of its digits from any counting number will result in a number divisible by 9, whether or not the original number could be divided by 9. Consider 137 for example. The digits sum to 11, so according to this idea 137 - 11 = 126 should be divisible by 9, and it is. You can also sum the digits more than once to obtain a number that can be subtracted to obtain a multiple of 9. For example, the second sum from 137 is 1 + 1 = 2 and 137 - 2 = 135, another number divisible by 9.</div><DIV>&#160;<BR></div><DIV>Here is another divisibility relation for 9 that always works. If you reverse the digits of any number and subtract the smaller from the former, the result will be divisible by 9. To consider 137 once more, reversed it becomes 731. Then 731 - 137 = 594, which is divisible by 9. This is similar to a proof that adding the digits reveals divisibility by 9 or by 3, this property can be observed if you write the original numeral <i>abcd</i> (to use a four-digit example) as the number <i>d</i> + 10<i>c</i> + 100<i>b</i> + 1000<i>a</i>. Reversed it is <i>a</i> + 10<i>b</i> + 100<i>c</i> + 1000d. Subtracting the first from the second gives 1000<i>d</i> - <i>d</i> + 100<i>c</i> - 10<i>c</i> + 10<i>b</i> - 100<i>b</i> + <i>a</i> - 1000<i>a</i> = 999<i>d</i> + 90<i>c</i> - 90<i>b</i> - 999<i>a</i> = 9(111<i>d</i> + 10<i>c</i> - 10<i>b</i> - 111<i>a</i>), which is clearly a multiple of 9. The only reason for subtracting the larger from the smaller is to give a counting number instead of a negative answer.</div><DIV>&#160;<BR></div><DIV>ASSOCIATIONS The nine-point circle was one of the rare discoveries of elementary plane geometry missed by the ancient Greeks. It lay unnoticed until about 1820, when it was found independently in France and in Germany. The nine points of the theorem are special points of a triangle that come in three sets. If a circle passes through the three points of one of the sets, it also passes through the three points of the other two, for the total of nine points.</div><DIV>The first such set (<i>D, E, F</i> in the illustration below) can be thought of as the place where the altitudes from each vertex meet the opposite sides of the triangle. The second set (<i>A\\', B\\', C\\',</i>) is the midpoints of the sides of the triangle. The third set of points is harder to describe. The three altitudes meet in a point, <i>H</i>; connect that point to each of the vertices of the triangle (<i>ABC</i>) and find the midpoints of the connections. Those midpoints (<i>A\", B\", C\"</i>) are the third set of 3.</div><DIV>I have been unable to find any source of the myth that a cat has nine lives (it certainly has nothing to do with the whip called a \"cat o\\' 9 tails\"). I suspect that the nine lives come somehow from Dante\\'s nine circles of Hell. In the poet\\'s medieval Christian world cats were viewed as symbols of the old pagan religion and often treated quite badly, but since they are hardy, agile, and elusive animals, they often survive or escape events that would extinguish other creatures.</div><DIV>&#160;<BR></div><DIV>It would appear that rhesus monkeys are capable of counting to 9. In 1998 two psychologists from Columbia University were able to demonstrate that each of a pair of rhesus monkeys could arrange nine objects in a particular order. The monkeys, Rosencrantz and Macduff, had been trained to be able to arrange four fields each with a different number of objects from 1 to 4 in order. After eleven sessions with these fields (presented to the monkeys on a touch-screen computer), Rosencrantz and Macduff were set to work on arranging nine fields with numbers of objects from 1 to 9 in order. Rosencrantz managed to be right almost all the time and Macduff was only slightly behind. The trials do not seem to have extended beyond 9, so it is not clear how far Rosencrantz and Macduff could have gone.</div><DIV>&#160;<BR></div><DIV>Although Euclid\\'s proof that there are only five regular, or Platonic, solids (<i>see</i> discussion at 5) is treated as the crowning achievement of the <i>Elements</i>, Johannes Kepler [German, 1571-1630] was skeptical. He showed in 1619 that two starlike polyhedra (with several projecting points) fit Euclid\\'s criteria for regular solids, so there are at least seven regular solids. Almost 200 years later the little-known French mathematician L. Poinsot independently rediscovered Kepler\\'s starlike polyhedra and added two more of his own. Although there are those who in various ways quibble with the definitionof \"regular\" (some trying to make the traditional view of five regular polyhedra correct and others expanding far beyond the regular polyhedra of Euclid-Kepler-Poinsot), a conservative statement of the situation would be that there are nine regular polyhedra--the five Platonic solids and the four starlike solids.</div><DIV>&#160;<BR></div><DIV>The earliest magic square was based on 9. This one is a Chinese invention from the fourth or fifth century B.C. known as the <i>lo shu</i>. Legend has it that it was first seen by the legendary King Yu on the back of a turtle in the River Lo around the twenty-third century B.C., but there is no confirming evidence of it that early.)</div><DIV>As you can see, the \"magic\" part of the <i>lo shu</i> is that each row, column, and both diagonals add to the same sum, 15. The <i>lo shu</i> is classified as a magic square of order 3 because it has three rows and three columns. Not only is this the first magic square, it is also the only magic square of order 3 (ignoring the symmetric rotations and reflections that produce essentiallythe same square). Since there are no magic squares of order 2, the <i>lo shu</i> is also the smallest possible magic square.</div><DIV>&#160;<BR></div><DIV>Herb gardeners say that parsley seed must go to the Devil nine times before it begins to grow as a plant. Parsley does take uncommonly long to germinate, and an impatient gardener might well think it has gone to the Devil!</div><DIV>&#160;<BR></div><DIV>In the Roman Catholic Church, a novena is nine days of prayer and meditation.</div><DIV>&#160;<BR></div><DIV>A firkin, equal to nine imperial gallons, is an old British measure for beer or ale.</div></div><DIV><DIV>10 Ten X 2 &#215; 5</div><DIV>French <i>dix</i>; German <i>zehn</i>; Spanish <i>diez</i>; Italian <i>dieci</i>; Latin <i>decem</i>; Greek <i>d&#233;ka;</i> Papuan body counting, right eye; classical and medieval finger numerals, left index finger touching last joint of thumb</div><DIV>&#160;<BR></div><DIV>Linguists have traced the origin of the number words we use to an original and now lost language called Proto-Indo-European, which is thought by some to have been spoken about 3000 B.C. Proto-Indo-European is the reconstructed source of the Germanic languages (including English) and the Romance languages derived from Latin, as well as of medieval and classical Latin and ancient Greek, Sanskrit and the modern languages of India and Persia, a large group of Turkish languages, Russian and the Slavic group, and Celtic--in short, most, but not quite all, of the ancient and modern languages of Europe and eastern Asia. One of thekey methods used in reconstruction has been to look for words common to all these languages, words that include the key number words. Of these, the Proto-Indo-European word for \"ten\" is thought to have simply meant \"two hands.\" The word for \"hundred\" was just \"ten times.\" There was no Proto-Indo-European word for \"thousand\" because Proto-Indo-Europeans could not count that high (say the linguists).</div><DIV>&#160;<BR></div><DIV>FIELD MARKS The number 10 is the only whole number that has a factorial (<i>see</i> Factorial Family, pp. 145-146) that is nontrivially the product of factorials: 10! = 7!6!. While it is always possible to string together a pair of factorials to create a product that is a factorial, the general method is treated as trivial since an infinite number can be generated by what mathematicians consider the essentially trivial formula <i>k</i>!! = (<i>k</i>! - 1)!<i>k</i>!. For <i>k</i> = 1 this is 1!! = 0!1! or 1 = 1; for <i>k</i> = 2 this is 2!! = 1!2! or 2 = 2; if <i>k</i> = 3 it is 3!! = (3! - 1)!3!, or 6! = 5!3!, which is</div><DIV><DIV>6 &#215; 5 &#215; 4 &#215; 3 &#215; 2 &#215; 1 = (5 &#215; 4 &#215; 3 &#215; 2 &#215; 1) &#215; (3 &#215; 2 &#215;1)</div></div><DIV>Since 6! is the same as 3!!, a trivial solution can be combined with the single nontrivial one cited above to write 10! = 7!5!3!, but this is not the only nontrivial instance of a factorial that can be written as the product of exactly three other factorials (try 16! on your own).</div><DIV>&#160;<BR></div><DIV>A famous unproved idea of mathematics is the conjecture of Christian Goldbach [German, 1690-1764] that all even numbers 4 or greater can be expressed as the sum of two primes (usually stated in the oddly less powerful form that all even numbers greater than 4 can be expressed as the sumof two odd primes). A sidelight to Goldbach\\'s conjecture is that 10 is the smallest even number that can be expressed as the sum of two primes in two different ways: 10 = 5 + 5 = 3 + 7.</div><DIV>&#160;<BR></div><DIV>Other recognizable traits: 10 is a triangular number (4 = 10).</div><DIV>&#160;<BR></div><DIV>SIMILAR SPECIES The powers of 10, starting 100 = 1, 101 = 10, 102 = 100, 103 = 1000, and 104 = 10,000 and continuing thus are all formed by 1 followed by Os to the number in the exponent. These powers are among the most familiar and useful of all numbers and the basis of the decimal system. When written as decimal fractions, the negative powers can also be explained in terms of counting Os, provided the 0 in front of the decimal point is always used and counted. Thus, 10-1 = 0.1, 10-2 = 0.01, and 10-3 = 0.001.</div><DIV>&#160;<BR></div><DIV>PERSONALITY The number 10 and its powers are the basis of nearly all computational strategies, including the standard algorithms as well as techniques of mental computation. When in a standard algorithm you rename or, as teachers long ago said, \"carry,\" a number in a problem such as 25 + 27, you may think \"carry 1\" as you take the first digit from the sum 12 of 5 + 7, but of course that 1 represents a 10. The multiplication algorithm not only uses a similar kind of renaming but also relies on the property in decimal numeration that multiplying by a power of 10 moves each decimal digit one place to the left.</div><DIV>&#160;<BR></div><DIV>In mental calculation, the proximity of a number to a multiple of a power of 10 is a welcome help. For example, to multiply any whole number by 799, think 799 is 1 less than 800 (which is 8 times 10 squared), so I can multiply by 8, annex two zeros to multiply that result by 100, and then subtractthe other factor to take away the extra 1 that I used for 800. Thus, 15 &#215; 799 is (15 &#215; 800) - 15, or 12,000 - 15 = 11,985.</div><DIV>&#160;<BR></div><DIV>ASSOCIATIONS Throughout scientific and mathematical writing or in science or math classrooms we encounter the phrase \"order of magnitude\" or \"orders of magnitude.\" Oddly, I have never come across a teacher or a textbook that explained what the expression means. Dictionaries reveal the meaning, but you have to look under \"order,\" not \"magnitude.\" Several of them suggest that an order of magnitude is a range from a given value to ten times that value, but in most instances it is used to indicate a factor that is a power of 10. For example, if someone says that an ant can travel an order of magnitude faster than a snail can, the meaning is that the ant\\'s speed is about ten times that of the snail. The idea of a range appears here since we have not specified either speed, so if the range of the snail\\'s speed is taken to extend from 0 to 1 mph, for example, then the ant, at an order of magnitude greater, travels from 1 to 10 mph. For the plural form, several multiples of 10 are meant, so that the mass of Earth is many orders of magnitude greater than that of a person.</div><DIV>&#160;<BR></div><DIV>The Greek numerologists, such as the Pythagoreans, were exceedingly fond of 10, even postulating an extra heavenly body to make the total number of \"planets\" come to ten (see discussion at 9). One of the Pythagoreans, Philolaus of Tarentum [Hellenic, c. 425 B.C.], claimed that 10 is \"great, complete, all-achieving, and the origin of divine and human life and its Leader.\"</div><DIV>&#160;<BR></div><DIV>&#160;<BR></div><DIV>In the twentieth century we came to accept that the universe, once thought to be fully described by threedimensions of space, is better understood as having four dimensions (with time as the fourth dimension). Since the 1920s, however, several related theories have proposed even more radical revisions of dimensionality, ideas that have come to be taken very seriously in the last quarter century. One of the most widely accepted--superstring theory--postulates that the universe is ten-dimensional. In superstring theory, the fundamental entities from which everything is built are not pointlike particles but very short curves, or strings, with one dimension--length. The strings are typically as short compared with an atom as an atom is compared with the solar system. The strings exist in ten dimensions, including the three familiar spatial dimensions of length, width, and height, one time dimension, and six other spatial dimensions that must be wound up so tightly that we do not observe them. (There is still more to the dimension story; see discussions at 11.)</div><DIV>&#160;<BR></div><DIV>The number 10 is a magic number in chemistry because atoms with eight electrons in their outer shell and two electrons in the first shell are stable (the element with this configuration is neon). Furthermore, atoms that have numbers of electrons close to this magic number will combine chemically to produce a filled second shell of eight electrons, so that each atom can pretend that it has the magic ten electrons.</div><DIV>&#160;<BR></div><DIV>It appears that one form of pond scum can count to 10. The blue-green alga <i>Anabaena</i> forms strings of cells with nine normal, photosynthesizing cells in a row and then a tenth that takes nitrogen from the air and converts it to a form that plants and algae can use. It was shown in 1998 that the gene <i>patS</i> encodes an inhibitor in a cell that will develop into a nitrogen-fixer. This signal prevents nearby cells frombecoming nitrogen-fixers themselves, but it weakens over the distance occupied by about nine cells. Then ten cells farther along the chain of cells, the suppression becomes too weak to be effective and a new nitrogen-fixer develops.</div><DIV><i>Anabaena</i> is not a very good counter, however, because it uses analog means to a digital end. Often there are eight cells, or eleven or twelve, instead of nine between nitrogen-fixers. Although modern technology has triumphed by using digital means to achieve analog ends, as in a compact disc (CD) or digital video disc (DVD), or a computer hard drive, the opposite route is much less accurate. Thus, pond scum may not be so smart after all.</div><DIV>&#160;<BR></div><DIV>Christians and Jews associate 10 with the Ten Commandments that Moses received from God on Mount Sinai. Oddly, however, there is no uniform agreement on how to group and number them to obtain the total ten, although their name comes from Moses himself. Here is a brief summary in the most obvious numbering:</div><DIV><DIV>1. No other gods before me.</div><DIV>2. No graven images.</div><DIV>3. Don\\'t take name of Lord in vain.</div><DIV>4. Keep the Sabbath.</div><DIV>5. Honor your parents.</div><DIV>6. Don\\'t kill.</div><DIV>7. Don\\'t commit adultery.</div><DIV>8. Don\\'t steal.</div><DIV>9. Don\\'t bear false witness.</div><DIV>10. Don\\'t covet.</div></div><DIV><DIV>Decimal System</div><DIV>The basic scheme of the Hindu-Arabic decimal system is familiar to everyone--the ten digits 0, 1, 2, 3, 4, 5, 6, 7, 8, 9 and place value based on powers of ten (here spelled out to make the point)--although perhaps like a good marriage, it is so familiar in its workings that we fail to think about how special and wonderful it is. In a <i>place-value</i> system, the position in which a digit appears in a numeral determines the amount that the digit is worth to the number. The places to put the digits begin on the right of the numeral and move toward the left, increasing by a power of ten with each place. This right-to-left progression is part of the heritage of the Arabs, who are accustomed to it from their writing.</div><DIV>Every place-value system needs a symbol for an empty place. This need was perceived only gradually in the history of place-value numeration systems, but it eventually came to be recognized in all cultures that used such systems. The concept came to be called a <i>place-holder</i> by students of mathematics and is fulfilled in our system by 0. The idea of using 0 as a place-holder is often kept separate from the idea of 0 as a number on its own, which developed later. But from a modern mathematician\\'s point of view, 0 is, with 1, the most fundamental of numbers, quite essential in any scheme of numbers that goes beyond the two original mathematical operations of counting and measuring. Since 0 is not involved in an obvious way in counting or measurement, early views of numeration could comfortably place 0 in the numeral category. When the calculus and related techniques for dealing with infinite sequences and series were invented in the seventeenth century, many new roles for 0 appeared, but even in these roles it was not clear that 0 was actually a number. The seventeenth-century appearances of 0 were rather like the concept of <i>nothing</i>, which is a related butdifferent idea--the difference is similar to that between 0 and the empty set. It was not until the nineteenth-century development of numbers as systems with formal structures that 0 was recognized fully as a number. At that point it also became apparent that the place-holder idea, which used 0 only as numeral, could be replaced by treating 0 exactly the same as the other nine digits, thus letting it fill both roles.</div><DIV>The Hindu-Arabic system, like nearly all powerful modes of thought, manages to keep two entirely separate concepts under the same roof (F. Scott Fitzgerald proposed that the ability to hold contradictory ideas in the mind simultaneously, and still be able to act, is the test of a first-rate intelligence). The digits are what appear on the page, so they are numerals. But they are also the multipliers for the powers of ten, so they are numbers, since you cannot multiply by a symbol. Acceptance of paradox instead of struggle against it is often the beginning of wisdom. Exponents, tiny numerals placed as superscripts to the right of other numerals, also should be treated as numbers as well as numerals.</div><DIV>Since ten to the 0 power is one and ten to the power of 1 is ten, the Hindu-Arabic system begins with the power of 0 as the rightmost place. Thus, the number written as 10, which is the smallest to use place value, means 1 ten and 0 ones. Another way to describe 10 is as (1 &#215; 101) + (0 &#215; 100). This is a bit circular, because the symbol for ten is given as 10, but it is a basis from which to work. Once you accept 10 as a way of writing ten, then any number of any size, even those we call decimal fractions or simply decimals, can be written in this expanded form that shows more of the bones of the system. It is necessary to use negative integers as exponents for decimal fractions that are not whole numbers, but they follow the scheme as well. A number shown as 523.67 is interpreted as (5 &#215; 102) + (2 &#215; 101) + (3 &#215; 10&#176;) + (6 &#215; 10-1) + (7 &#215;10-2). The same procedure can be extended for an infinite number of places in either direction. Numbers written in the Hindu-Arabic system show certain properties that derive entirely from the method used in writing the numeral, while other properties of numbers come from the numbers themselves. It is not always obvious whether a property comes from the method used to name it or is intrinsic to the number. When we observe that all whole-number multiples of ten end in 0, for example, we are at best subliminally aware that this is true only in the Hindu-Arabic numeration system. In another system, based on nine or twenty, for example, this property would vanish. For example, a place-value system similar to the Hindu-Arabic in all ways but with \"nine\" replacing \"ten\" would use 10 to mean 1 nine and 0 ones, while 11 would mean 1 nine and 1 one, or ten. Such a system would have the property that all nine digits--0, 1, 2, 3, 4, 5, 6, 7, 8 with no need for 9--appear as the last digits of whole-number multiples of ten. The effort to bring this concept to the forefront of the mind was another rock upon which the \"new math\" crumbled, so I mention it with some trepidation.</div><DIV>An intrinsic property of ten would be that it can be factored as \"two times five\" no matter what system is used for writing the numbers. Thus, if nine is used as a base, then the symbols 2 &#215; 5 = 11 represent a true statement. Properties such as being even or odd, positive or negative, rational or irrational, all belong to the numbers themselves, not to the ways they are written.</div></div></div><DIV><DIV>11 Eleven XI prime</div><DIV>French <i>onze</i>; German <i>elf;</i> Spanish <i>once</i>; Italian <i>undici;</i> Latin <i>undecim</i>; Greek <i>h&#233;ndeka;</i> Papuan body counting, left eye; classical and medieval finger numerals: left index fingertouching last joint of thumb (sign for \"ten\") with little finger folded at joints (sign for \"one\")</div><DIV>&#160;<BR></div><DIV>According to linguists, in Proto-Indo-European, the ancestor language to English and German, the original word for eleven meant \"one left over,\" which is preserved in the words \"eleven\" and \"elf.\" But in the Romance languages, that idea has been changed into a word similar to the Latin undecim, which means \"one [more than] ten.\"</div><DIV>&#160;<BR></div><DIV>FIELD MARKS The number 11 when written in the Hindu-Arabic decimal system is a rep-unit, a number that repeats the single digit 1; it is also a prime.</div><DIV>&#160;<BR></div><DIV>The number 11 is also the number of ways that six indistinguishable objects can be arranged into separate sets (these are //////, ///// /, //// //, //// //, /// ///, /// // /, /// / / /, // // //, // // / /, // / / / /, / / / / /), so it is known as a partition number. The partition numbers are similar in their origin to the Bell numbers (see discussion at 52), which are the number of ways that distinct objects can be arranged in separate sets. While the partition number for 6 is 11, the Bell number is 203, because for distinct objects it is possible to tell one arrangement of, say, three objects, two objects, and one object from another that has the same configuration but with the objects placed in different sets (AB CDEF is distinguishable from BF ACDE). The exact formula that yields the partition number for a single set is an immensely complicated equation that involves p, v2, a function based on <i>e</i> (see Genus <i>Real,</i> 2.71821 ... ) called the hyperbolic sine, and the number 24.</div><DIV>&#160;<BR></div><DIV>Other recognizable traits: 11 is a Lucas number (<i>see</i> Fibonacci and Lucas Families, pp. 120-122), a prime twin with 13, and a member of the Pythagorean triple 11, 60, 61.</div><DIV>&#160;<BR></div><DIV>SIMILAR SPECIES The next rep-unit is 111, but in the decimal system this number is easily recognized as divisible by 3. There seems to be no general rule that anyone has found for knowing if a number formed by repeating the digit 1 is prime or not. It is relatively easy to test small numbers. You must, however, go up to 1,111,111,111,111,111,111 (1 used 19 times) before finding another prime. But then the next one is just a few repetitions away--11,111,111,111,111,111,111,111, which is 1 used 23 times. Thus encouraged, you might look for the next rep-unit at perhaps 29 or 31 uses of 1 (noting that 2, 19, and 23 are all primes themselves). In fact, the next prime rep-unit has 1 used 317 times. Testing a few factors shows that 317 is also prime. How many rep-units are there? No one knows. The number could be infinite.</div><DIV>Note that using a different digit (with one possible exception) cannot produce a similar sequence of primes in our numeration system--the even digits 0, 2, 4, 6, and 8 cannot be used repeatedly to form primes except for the trivial case of 2 used once. The divisibility rules for 3, 5, and 9 exclude all numbers of the form 333 ..., 555 ... , and 999 ... , except again for the trivial 3 or 5 standing alone. This leaves 7 to consider. After the trivial 7 alone, you find 77 = 7 &#215; 11, then 777 divisible by 3, and so on. The lowest number that a quick check revealed to be a possible rep-seven prime was 7,777,777, with 7 used 7 times. At this point the checking becomes more difficult, although I eventually located 239 &#215; 32,543 as factors of this rep-seven. The problem of whether or not there are nontrivial prime repsevens has not to my knowledge been resolved.</div><DIV>&#160;<BR></div><DIV>The other small partition numbers are 1 (0 elements), 1 (one element), 2 (two elements), 3 (three elements), 5 (four elements), 7 (five elements), 15 (seven elements), 22 (eightelements), 30 (nine elements) 42 (ten elements), and 56 (eleven elements).</div><DIV>&#160;<BR></div><DIV>PERSONALITY The basic facts for the elevens times table are so simple that anyone who can count does not even need to learn them, as the sequence of products is 11, 22, 33, 44, 55, 66, 77, 88, 99, and 110. Add 112 = 121 to the list and you have a handy group of products with no visible effort on your part.</div><DIV>Computation with 11, especially multiplication, is made easier using the Latin or Italian idea of \"one more than ten\" to mean 11. For example, to multiply 496 &#215; 11, think 4960 + 496 = 5456. For once, the actual computation is the same as the standard algorithm, since most people usually write</div><DIV>For large numbers, however, it is easier to multiply by 11 (or similar numbers 111 or 1111 or the like) by simply writing the number more than once with an offset to the left for each succeeding numeral and adding.</div><DIV>&#160;<BR></div><DIV>As you might expect from the divisibility test for 9 (see discussions at 3 and 9), or 1 less than 10, there is a digit-related divisibility test for 11 that also stems from proximity to 10. Start at the right end of a large number and, moving to the left, subtract the second digit from the first, then add the third to your previous result, subtract the fourth, and so forth until you reach the last. If the result is divisible by 11 (counting 0as divisible by 11), then so is the original number. Consider, for example, 2,649,647. Think 7 - 4 = 3 + 6 = 9 - 9 = 0 + 4 = 4 - 6 = -2 + 2 = 0, which means that the original is also divisible by 11 (2,649,647 &#247; 11 = 240,877).</div><DIV>&#160;<BR></div><DIV>ASSOCIATIONS The number of dimensions in the real universe, after being accepted as three for ages, has kept growing throughout the twentieth century, with four dimensions explicitly stated in 1907, five dimensions made plausible in 1926, and ten dimensions in the most common superstring theory of 1984. Since 1994 there has been a period of dramatic progress. What once appeared to be five different superstring theories are actually different realizations of a unique underlying concept, which has been named M theory (for membrane theory, although the theory has gone beyond the idea of mathematical models of thin, flexible sheets). Many physicists believe that M theory is a conceptual revolution as profound as those associated with relativity and quantum theory. M theory, as well as some versions of superstring theory, is generally cast in terms of a universe of eleven dimensions, with seven dimensions curled up so tightly as to be unobservable (but other numbers of dimensions are possible).</div><DIV>&#160;<BR></div><DIV>The smallest Mersenne number that is composite instead of prime is 211 - 1 or 2047, which equals 23 &#215; 89.</div></div><DIV><DIV>12 Twelve dozen XII 2 &#215; 2 &#215; 3</div><DIV>French <i>douze;</i> German <i>zw&#246;lf</i>; Spanish <i>doce</i>; Italian <i>dodici</i>; Latin <i>duodecim</i>; Greek <i>d&#243;deka;</i> Papuan body counting, nose; classical and medieval finger numerals, left index fingertouching last joint of thumb (sign for \"ten\") with little and ring fingers folded at joints (sign for \"two\")</div><DIV>&#160;<BR></div><DIV>In the Proto-Indo-European ancestor language of English, the original word for 12, similar to that for 11, meant \"two over.\" This meaning is carried into German as well as English, although replaced with \"two [more than] ten\" in Romance languages. In Germanic tradition, 12 is the basic unit of measurement, as in 12 pence to the shilling, 12 troy ounces in a pound of gold, and 12 inches in a foot. This was true in early times, as can be observed in Old Norse, which even uses \"12 and 3\" in some instances to mean 15. The primacy of 12 was firmly established in much of Europe by Charlemagne in the eighth century.</div><DIV>&#160;<BR></div><DIV>FIELD MARKS An <i>abundant number</i> is a whole number for which the sum of its divisors, not including the number itself, is greater than the number. The lowest abundant number is 12, since its proper divisors (excluding itself) are 1, 2, 3, 4, and 6, which sum to 16. (A deficient number is less than the sum of its divisors.)</div><DIV>If the sum of the proper divisors is interesting, the product must be as well. One way to define a prime would be to say that it is a number whose only proper divisor is 1, so only composite numbers are worth examining for the sums of their proper divisors. One perfect number is equal to the product of its proper divisors (see discussion at 6) as well as the sum. The products of proper divisors of some other small composite numbers are 2 (for 4), 8 (for 8), 3 (for 9), 10 (for 10)--and 144 (for 12), which seems a sudden leap from the others. The number 12 has sometimes been identified as the smallest whole number for which the product of the proper divisors is a perfect square.</div><DIV>Other recognizable traits: 12 is a member of the next-to-least Pythagorean triple of 5, 12, 13 as well as of the less well known triple 12, 35, 37.</div><DIV>&#160;<BR></div><DIV>SIMILAR SPECIES Some other abundant numbers are multiples of 12, such as 24 (1, 2, 3, 4, 6, 8, and 12 sum to 36) and 36 (1 + 2 + 3 + 4 + 6 + 9 + 12 + 18 = 55). But 18 also is an abundant number. The next logical question is: Is being a multiple of 6 required? The answer is no, since the first few abundant numbers include 20 ( 1 + 2 + 4 + 5 + 10 = 21) as well as the multiples of 6. So far the list is all even: 12, 18, 20, 24, 36. Is evenness required? No, since 945 is an odd abundant number (1 + 3 + 5 + 7 + 9 + 15 + 21 + 27 + 35 + 45 + 63 + 105 + 135 + 189 + 315 = 975). In fact, 945 is the least odd abundant number.</div><DIV>This suggests the related question for perfect numbers--are any perfect numbers odd? No one knows, although long computer-aided searches have failed to find any (<i>see also</i> discussion of <i>multiply perfect numbers</i> at 120).</div><DIV>&#160;<BR></div><DIV>The Germanic \"great hundred\" is 120, which is to 100 what 12 is to 10, and the \"great thousand\" is 1200. The remnant of this old Germanic unit in English is the long ton, which is 2240 pounds instead of the 2000 pounds of the ordinary ton (another name for the great hundred in English is the long hundred). Note that a long ton is 2 measures of a thousand pounds plus 2 measures of a great hundred pounds.</div><DIV>&#160;<BR></div><DIV>PERSONALITY Multiplication by 12 is aided considerably if you have memorized the times table through 12 in the beginning. The sequence of products 12, 24, 36, 48, 60, 72, 84, 96, 120 is probably familiar and recognizable as having 12 as a factor even if you have not made a conscious effortto memorize it, and 144 = 12 &#215; 12 is familiar to most people as well. The only oddball is 132 = 11 &#215; 12.</div><DIV>&#160;<BR></div><DIV>It is again easy to use the nearness of 12 to the friendly 10 for multiplying larger numbers by 12. Combine multiplying by 10 and doubling, two of the simplest operations. For example, to find 438 &#215; 12, you might think 4380 + 876 = 5256.</div><DIV>&#160;<BR></div><DIV>The divisibility test for 12 is a combination of the divisibility rules for 4 and 3. This is easier in practice than you might think. Consider some larger number such as 183,456,972. Is it divisible by 12? Check the last two digits; 72 is divisible by 4. Check the sum of the digits, which is 45, divisible by 3; therefore, 183,456,972 is also divisible by 3. Since it is divisible by both 4 and 3, it is also divisible by 12. Checking shows that 183,456,972 &#247; 12 = 1,528,808 with no remainder.</div><DIV>&#160;<BR></div><DIV>ASSOCIATIONS In geometry the number 12 appears several times in connection with the Platonic solids. For example, both the cube and the octahedron have twelve edges, the icosahedron has twelve vertices, and the dodecahedron has twelve faces--for the same reason that the number of vertices of the cube is the same as the number of faces of the octahedron (see illustration at 5).</div><DIV>&#160;<BR></div><DIV>The sphere-packing problem for three-dimensional space (<i>see also</i> discussion of circle-packing problem at 6) was conjectured by Kepler in 1611 to be an arrangement in which each of twelve spheres of a given size touches a single sphere of the same size. It was not until 1874 that a proof was given that this was the maximum number of spheres that could touch, and not until 1998 that anyone showed that Kepler\\'s approach was shown to be the best packing.</div><DIV>One result of Euler\\'s Theorem for polyhedra (see discussion at 2) is that every molecule of fullerene, a form of carbon that has its atoms arranged in a pattern based on a geodesic sphere, will contain exactly twelve pentagons with the rest of the carbon atoms arranged in hexagons. This is a specific application, also established by Euler, of the general principle that all closed figures made from pentagons and hexagons must contain exactly twelve pentagons. The smallest such fullerene, known officially as buckminsterfullerene and unofficially as the buckyball, contains 60 carbon atoms, which are arranged into the 12 pentagons (12 &#215; 5 = 60) with 0 hexagons. Carbon nanotubes, fullerenes that can consist of millions of atoms, all contain exactly twelve pentagons no matter how long they are, with the rest of the carbon atoms arranged in hexagons.</div><DIV>&#160;<BR></div><DIV>According to the Revelation of St. John the Divine there are twelve gates to heaven, one for each of the traditional Twelve Tribes of Israel as well as for the Twelve Apostles.</div><DIV>&#160;<BR></div><DIV>It is sometimes handy to know that 1,000,000 seconds is about the same as twelve days.</div><DIV><DIV>Denominate Numbers</div><DIV>The combination of a number and a measurement unit, such as 12 inches, is sometimes called a <i>denominate number,</i> as opposed to a <i>pure number</i> such as 12. Denominate numbers are useful tools as well as necessary for the expression of measurement. They help physicists find which operations are suitable for a particular problem and also whether a series of mathematicalsteps has produced a correct result. All problems in the motion of bodies or the applications of forces, for example, involve denominate numbers that express combinations of three dimensions--length, mass, and time. The measures may be squared or cubed or used as divisors, but they are, at bottom, the same basic units. For example, the denominate number 12 square miles is based on the length <i>mile</i> and can be expressed as 12 miles2. Similarly, an acceleration of 32.2 feet per second per second is expressed as 32.2 ft/sec2 where the slash (/) indicates <i>per</i> as well as division.</div><DIV>The dimensions are abstracted in practice. Length, mass, and time can be expressed as <i>L, M, T</i> and treated as entities in themselves, a method known formally as <i>dimensional analysis.</i> A quantity, such as force, is represented as <i>ML/T</i><i>2</i><i>,</i> meaning \"masslength per time squared\"; this is the dimensional structure of any force. The actual force may be, for example, 12 newtons, but since a newton is a kilogram-meter per second per second (a mass of 1 kilogram accelerated by a meter per second per second) that is the same as 12 kilogram-meters per second per second. All the main denominate numbers of physics can be similarly expressed: velocity, such as miles per hour, is <i>L/T</i>, work is <i>L</i><i>2</i><i>M/T</i><i>2</i><i>,</i> and angular momentum is <i>L</i><i>2</i><i>M/T.</i></div><DIV>Every equation in physics can be expressed as dimensions only and, if true, will always have exactly the same dimensions on each side of the equals sign. For example, the familiar equation <i>F</i> = <i>ma</i> for force = mass &#215; acceleration can be analyzed dimensionally as force = <i>ML/T</i><i>2</i>, mass = M, and acceleration <i>= L/T</i><i>2</i><i>,</i> so the dimensions are the same: <i>ML/T</i><i>2</i> <i>= ML/T</i><i>2</i><i>.</i></div><DIV>To use this idea in problem solving, you set up the dimensions of the expected answer. For example, if you know the answer must be speed, then it will have the dimension <i>L/T</i>. Then go through the calculations ignoring the numbers and their specific denominations, treating them as combinationsof length, mass, and time. The result of these calculations should be in the same dimensions as the expected answer. If not, the nature of the deviation from the expected answer often illustrates the flaw in your reasoning. When the dimensions are correct, it becomes easy to insert actual denominate numbers and derive the answer.</div></div></div><DIV><DIV>13 Thirteen XIII prime</div><DIV>French <i>treize</i>; German <i>dreizehn</i>; Spanish <i>trece</i>; Italian <i>tredici</i>; Latin <i>tredecem</i> or <i>decem et tres;</i> Greek <i>treis ka&#237; deka;</i> Papuan body counting, mouth; classical and medieval finger numerals, left index finger touching last joint of thumb (sign for \"ten\") with little, ring, and middle fingers folded at joints (sign for \"three\")</div><DIV>&#160;<BR></div><DIV>Why did 13 emerge as an unlucky number in Western culture? The obvious suspects are the association of Christ and twelve apostles (the thirteenth member of the group is Judas) or the counterversion, Satan and a twelve-member witch\\'s coven. Today we avoid adding a thirteenth guest to a dinner table--in a coven the thirteenth guest would always be the Devil, who arrives when the twelve witches are assembled. Interestingly, 13 was considered lucky by the Maya.</div><DIV>&#160;<BR></div><DIV>FIELD MARKS The famous American mathematical writer and inspiration and source to all of us, Martin Gardner [b. 1914] seems to be the first to have recognized that the numbers of holes in a Chinese checkerboard form a particular pattern of numbers. If we count 1 as a trivial example,then the first Chinese checkerboard number is 13, when shown as an array of dots like the following:</div><DIV>Gardner has named these the star numbers. If the symbol * is used to indicate the star numbers, then 1* = 1 and 2* = 13. Gardner\\'s formula for the numbers is n* = 6<i>n</i>(<i>n</i> -- 1) + 1.</div><DIV>&#160;<BR></div><DIV>Other recognizable traits: 13 is a Fibonacci number (Fibonacci and Lucas Families, pp. 120-122); a member of the second and eighth Pythagorean triples (5, 12, 13 and 13, 84, 85); a prime twin with 11; and a Wilson prime (see discussion at 5). Finally, an octagon can be dissected into thirteen nonoverlapping, noncongruent octagons if you are very clever.</div><DIV>&#160;<BR></div><DIV>SIMILAR SPECIES When written as Hindu-Arabic numerals, the number 13 and its square exhibit some unusual symmetries. The first is that both 13 and 169, the square, are unusual in that the sum of the digits of 13 is a perfect square (1 + 3 = 4) and the sum of the digits of 13\\'s square is the square of the earlier sum (1 + 6 + 9 = 16 = 42). In a similar symmetry the square of the reverse of 13 (that is, 312) is the reverse of the square of 13 (312 = 961, the reverse of 169).</div><DIV>The next few star numbers after 13 are 37, 73, 121, 181, 253, 337, 433, and 541. The number of holes on an actual Chinese checkerboard is 5* = 121.</div><DIV>&#160;<BR></div><DIV>PERSONALITY Although 13 is a prime number, its appearance as a quarter of 52, as in 52 weeks of the year or as a suit of cards, makes it more familiar than many other small primes. For example, the multiples 26 and 39 are both so commonly used that you should not have to multiply to find them. For products with larger numbers, breaking 13 into 10 + 3 makes it possible to multiply first by 10 (annexing a 0) and then by 3, which for factors of two or more digits can be done by doubling and then adding in the number.</div><DIV>&#160;<BR></div><DIV>ASSOCIATIONS In the United States, the number 13 has a large set of associations that all stem from the accident that the nation was formed from thirteen colonies. The eagle on the Great Seal of the United States is clutching thirteen arrows and an olive branch with thirteen leaves and thirteen olives. Above the eagle\\'s head a cloud surrounds a constellation of thirteen pentagrams arranged in the star pattern of thirteen shown above for 2*. The American flag reflects history with its thirteen stripes.</div><DIV>&#160;<BR></div><DIV>Among mathematics historians and even some mathematicians, the number 13, usually written as XIII, is familiar as the number of books in Euclid\\'s <i>Elements</i>.</div><DIV><DIV>Fibonacci and Lucas Families</div><DIV>The Fibonacci numbers are any of the counting numbers found in a sequence formed by adding the two precedingnumbers of the sequence to find the next, starting with an initial pair of 1s:</div><DIV><DIV>1 1 1 + 1 = 2 1 + 2 = 3 2 + 3 = 5 3 + 5 = 8</div></div><DIV>and so forth, producing the Fibonacci sequence 1, 1, 2, 3, 5, 8, 13, 21, 34, 55, 89, 144, 233, ...</div><DIV>Mathematicians have found many interesting properties of the Fibonacci numbers and sequence, including applications to understanding growth patterns in plants, but the whole idea originated in the following problem: \"How many pairs of rabbits will be produced in a year, beginning with a single pair, if every month each pair bears a new pair that becomes productive from the second month on?\" As you may have guessed, the answers for each month are 1 pair, 1 pair, 2 pairs, 3 pairs, 5 pairs, 8 pairs, ... The problem was among many proposed and solved by the most influential mathematician of the Middle Ages, Leonardo of Pisa, also known as Fibonacci (\"son of Bonaccio\") [Italian, c. 1170-c. 1250]. Leonardo also contributed to the development of algebra and helped introduce decimal notation to Europe.</div><DIV>Edouard Lucas [French, 1842-1891], who studied the Fibonacci series in depth, also generalized the concept to any sequence formed by adding the two preceding numbers to obtain the next member of the sequence. The Fibonacci sequence is usually stated as beginning with 1, 1 although the same numbers arise if you begin with 0, 1. You also get the same sequence if you begin with 1, 2. But a new sequencearises when you begin with 1, 3. This generating pair results in 1, 3, 4, 7, 11, 18, 29, 47, 76, 123 as the first ten members, a sequence of numbers called the Lucas numbers in honor of its inventor. Other generalized Fibonacci sequences obtained by starting with some other pair of numbers are simply called \"generalized Fibonacci sequences.\"</div><DIV>There are many unusual appearances of the Fibonacci sequence and its generalizations that have been discovered. One that applies to all the generalizations is that the ratio between two consecutive members of a sequence eventually approaches the Golden Ratio f (<i>see</i> discussion at Genus Real, 1.61803 ... ). There are many other relationships between f and Fibonacci or Lucas numbers. One of the most surprising is that the <i>n</i>th Lucas number is always f<i>n</i> rounded to the nearest natural number.</div><DIV>There is a sparseness of squares and cubes among the Fibonacci and Lucas numbers that is astounding considering that both are infinite sets. If you discount the trivial example of 1, the only Fibonacci number that is also a perfect square is 144, and the only perfect square among Lucas numbers is 4. Similarly, the only perfect cube that is a Fibonacci number is 8, and there are no perfect cubes among the Lucas numbers. Just as scarce are the numbers (discounting 1 again) that are both Fibonacci and Lucas numbers: the only example is 3.</div><DIV>There is also a second way to generalize the Fibonacci numbers. Instead of adding two numbers each time, you can add <i>n</i> numbers. The first such sequence, adding three numbers each time and starting with 0, 0, 1, is sometimes called the tribonacci numbers: 1, 1, 2, 4, 7, 13, 24, 44, 81, 149, ...</div></div></div><DIV><DIV>14 Fourteen XIV 2 &#215; 7</div><DIV>French <i>quatorze</i>; German <i>vierzehn</i>; Spanish <i>catorce</i>; Italian <i>quattordici</i>; Latin <i>quatturodecem</i>; Greek <i>tessares ka&#237; deka</i>; Papuan body counting, left ear; classical and medieval finger numerals, left index finger touching last joint of thumb (sign for \"ten\") with ring and middle fingers folded at joints (sign for \"four\")</div><DIV>&#160;<BR></div><DIV>When a weekend or a week would be too short and a month too long, the English are fond of waiting for a fortnight, two weeks or fourteen days. But for another view of this issue, <i>see</i> 15.</div><DIV>&#160;<BR></div><DIV>FIELD MARKS The number of different ways that you can separate a hexagon into triangles that do not overlap by connecting vertices is fourteen (keeping track of each vertex). Here are four of them:</div><DIV>As you can see, the fourth is just like the first, but the common vertex is different. There are 6 like the first sample above, 6 like the second sample, and 2 like the third to make the total of 14. The problem of separating polygons into triangles is interesting in part because triangulation, or separating into triangles, is the method of measuring the area of polygons, even though we convert areas to squares when we report measurements. In high school geometry, however, you start with a square and show how the area of a rectangle (with natural-number sides) can be shown as anumber of squares based on length and width. Then triangulation begins. First the rectangle is used to establish the area of the right triangle; then oblique triangles are broken into right triangles; and, to complete the triangulation, the areas of all further polygons are found by separation of the polygons into triangles.</div><DIV>The result stated for counting the line segments used in triangulating hexagons is an instance of a general rule that was studied by Euler. He found that the numbers form a sequence that begins 1, 2, 5, 14, and that has as the general term--starting with n = 3--</div><DIV>using the ! notation for factorial, or product of consecutive counting numbers (<i>see</i> Factorial Family, pp. 145-146). This is a complicated formula, and Euler had a terrible time discovering it. Surprisingly, if you allow a second 1 as the first term (a 1 that has no geometric counterpart, unfortunately), the sequence that begins 1, 1, 2, 5, 14, ... and continues exactly as before has a much simpler iterative formation rule: if <i>k</i> is the member of the sequence preceding the nth member, then <i>k</i>(4<i>n</i> - 6)/<i>n</i> is the value of the nth member.</div><DIV>This sequence reappeared in 1838 when the Belgian mathematician Eug&#232;ne Charles Catalan [1814-1894] investigated the number of ways that a chain of entities can have parentheses inserted so that each operation is binary. While one entity makes no sense by itself, there is one way for two entities to be linked as a binary operation (here multiplication) in a given order, which requires no parentheses: <i>ab</i>. For a product of three entities there are the two familiar ways from the statement of the associative property: <i>a</i>(<i>bc</i>) = (<i>ab</i>)<i>c</i>. For four entities the number of ways is five: (<i>ab</i>)(<i>cd</i>), ((<i>ab</i>)<i>c</i>)<i>d</i>, <i>a</i>(<i>b</i>(<i>cd</i>)), <i>a</i>(<i>bc</i>)<i>d</i>, and (<i>a</i>(<i>bc</i>))<i>d</i>. For five entities,there are fourteen ways. As a result of this discovery, the sequence that begins 1, 2, 5, 14, ... is known as the Catalan sequence and not the Euler sequence, which is just as well since the number of mathematical objects named after Euler is already too confusing.</div><DIV>After the figurate sequences (such as the triangular and square numbers) and the Fibonacci sequence, the Catalan sequence is perhaps the most commonly occurring in the mathematics of counting numbers. It shows up in several kinds of network problems as well as in other geometric contexts.</div><DIV>&#160;<BR></div><DIV>One of the many things named after Euler is his f or indicator function, which is one of the most interesting functions of whole numbers. The f function is defined over the natural numbers in such a way that f(<i>n</i>) is the number of counting numbers less than <i>n</i> that are relatively prime to n. (Two numbers are relatively prime if their greatest common factor is 1.) In this case, the number 1 is treated as relatively prime to all other counting numbers, a rather special usage of the term. Also, f(1) is considered to be 1. The next Euler indicator is f(2) = 1 since 2 is relatively prime to 1, the only counting number less than 2 in any case. But 3 counts both 1 and 2 as relatively prime, so f(3) = 2.</div><DIV>The values of f seem to go up and down almost randomly--for example, f(9) = 6, f(10) = 4, and f(11) = 10--but Euler found various ways to derive f that are basic to understanding many properties of prime numbers. One of the easier to spot is that if n is itself prime, then f(<i>n</i>) = n--1. For example, the ten numbers less than or equal to 11 that are relatively prime to 11 are <i>all</i> the counting numbers less than or equal to 11. One of the more sophisticated results of using Euler\\'s function is that if two counting numbers <i>a</i> and <i>b</i> are relatively prime, then f(<i>ab</i>) = f(<i>a</i>)f(<i>b</i>), aresult that is used in the \"public key\" method for encoding and decoding information.</div><DIV>Where does 14 enter the picture? There is no n such that f(<i>n</i>) = 14, and 14 is the smallest number that does not appear as a value of Euler\\'s indicator function.</div><DIV>&#160;<BR></div><DIV>Also, 14 is a square pyramidal number (<i>see</i> Square Pyramids, p. 127)</div><DIV>&#160;<BR></div><DIV>SIMILAR SPECIES The Catalan sequence continues 42, 132, 429, 1430, 4862, 16, 796, ...</div><DIV>&#160;<BR></div><DIV>PERSONALITY Although 14 is factored as 2 &#215; 7, its relationship to 1/7 is one of the most useful associations in quick calculations in mathematics. The reason is that 1/7 as a decimal begins 0.142 ... and continues on, infinitely repeating (see discussion at Genus <i>Rational</i>, 1/7). The percentage version is 1/7 &#215; 14<i></i>%. Thus, a good approximation to multiplication by 14 is division by 7 followed by multiplication by 100. This may seem unhelpful, since operations with 7 are notoriously difficult, but for small numbers the relation is usable going in both directions. For example, multiplying 85 by 14 is easy if you think 85 is close to 84, and 84 = 7 &#215; 12, so 85 &#215; 14 is about (84 &#247; 7) &#215; 10 = 1200. (The actual product is 1190).</div><DIV>This approach is even more useful in division. For example, to find 500 &#247; 14, multiply 500 by 7 instead of dividing by 14 (the answer will be 100 times what you need). So, 500 &#247; 14 is about 35. Conversely, 500 &#247; 7 is about 70 (think 14 &#215; 5 = 7 &#215; 10).</div><DIV>&#160;<BR></div><DIV>ASSOCIATIONS The British famously measure their personal weight in stone instead of pounds or kilograms. One stone is 14 pounds.</div><DIV>The best-known verse form in English (and Italian) is the sonnet, which is fourteen lines. Poetry is full of counting--of lines, syllables, and accents. The poet\\'s preoccupation with counting (or \"prosody\") is satirized in this \"Sonnet on Prosody\" (which I wrote while a college English major):</div><DIV><DIV>When I have fears my line will be too long, I measure off the iambs on my digits. Haltingly rhyme in sweet anapestical song, Shouting trochees until I have the fidgets, For a lark, turning out if I can a light dactyl or two; For each my fingers tap out five-foot forms. This guarantees a line with meter long and true, Since short ones may cause critics\\' storms. The poet must be master of his call And in each verse must work his will upon it; Besides the meter he must know its forms, The rules of rhyme--and always must recall That there are fourteen lines in every sonnet.</div></div><DIV><DIV>Square Pyramids</div><DIV>One of the easiest ways to stack balls is to make a square for each layer, so that a stack 10 balls high would have in each succeeding layer 100 balls, 81 balls, 64 balls, 49, 36, 25, 16, 9, 4, and 1 ball on top. The result would be a square pyramid, and so the numbers that are the sums of the squares taken in order are called the <i>square pyramidal numbers</i>. Starting with 12 = 1, they are 1, 12 + 22 = 5, 12 + 22 + 32 = 14, 12 + 22 + 32 + 42 = 30, 12 + 22 + 32 + 42 + 52 = 55, and so forth. There is a formula for the nth square pyramidal number, which is</div></div></div><DIV><DIV>15 Fifteen XV 3 &#215; 5</div><DIV>French <i>quinze</i>; German <i>f&#252;nfzehn</i>; Spanish <i>quince</i>; Italian <i>quindici</i>; Latin <i>quini deni</i>; Greek <i>pente ka&#237; deka</i>; Papuan body counting, left shoulder; classical and medieval finger numerals, left index finger touching last joint of thumb (sign for \"ten\") with middle finger folded at joints (sign for \"five\")</div><DIV>&#160;<BR></div><DIV>One of the odd places to encounter 15 is in the French expression for two weeks, which is <i>quinze jours</i>, or fifteen days. This use is related to the ancient Germanic custom of counting nights instead of days, so two weeks--fourteen nights, or a fortnight in English--is fifteen days in French.</div><DIV>FIELD MARKS A famous theorem in geometry is Pascal\\'s mystic hexagram (<i>see also</i> discussion at 3). Pascal showed that when a hexagon (other than a regular one) is inscribed in a conic section, the three points of intersection of theextensions of its opposite sides lie on a line. This theorem has been investigated by many mathematicians since Pascal, who himself reputedly found 400 corollaries to the theorem. In many cases the special points and lines identified come in sets of 15, including the fifteen so-called Salmon points and fifteen Pl&#252;cker lines.</div><DIV>&#160;<BR></div><DIV>Other recognizable traits: 15 is a triangular number (5 = 15), part of the fourth smallest Pythagorean triple, 8, 15, 17, and the fourth Bell number (<i>see</i> discussion at 52).</div><DIV>&#160;<BR></div><DIV>SIMILAR SPECIES The multiples of 15 are useful to know: 30, 45, 60, 75, 90, 105, 120, and 135 (through 9 &#215; 15).</div><DIV>&#160;<BR></div><DIV>PERSONALITY Not only can 1/7 be used as a rough approximation in operations based on 14 (<i>see</i> discussion at 14), but also for those with 15. For 15, it is slightly rougher since 1/7 = 0.142857 ... is closer to 14 than to 15. As people often tip waiters 15% or slightly higher, the tip can be calculated by division by 7, often an easier calculation than multiplication by 15. The quotient will be slightly lower than 15% of the bill.</div><DIV>Of course, multiplying by 15 can also be thought of as multiplication by 10 + 5. Using this method, to find 15% of a bill of $32.27 you would begin by taking half of $32 (the nearest full dollar) and add that $16 to $32 to get $48. The tip should be more than $4.80, and $5.00 is a good round number ($4.80 is about 14.9% of the original $32.27 and $5.00 is about 15.5%).</div><DIV>&#160;<BR></div><DIV>The square of any number ending in 5 can be easily created by a method that may seem odd at first but becomes quite useful in practice. The square will always end in the digits 25 preceded by the product of the number represented by thedigit(s) preceding the 5 with the number that is 1 more than that number. For 15, that means that the first part of the square is the product 1 &#215; (1 + 1), which is 2, so the square is 225. (The method even works for 5 alone, since the preceding digit is 0.) This method of squaring becomes more useful for greater numbers. For example, the first part of the square of 65 must be 6 &#215; (6 + 1) = 42, so 652 = 4225. The method works even for numbers greater than two digits that end in 5, such as 125, which begins with 12 &#215; 13 = 156 and ends with 25, so 1252 = 15,625. Of course, the larger the number is, the harder this technique is to do in your head, but it can still make a paper-and-pencil calculation easier.</div><DIV>Why does this work? Notice that the actual square represented as a decimal number ending in 5 means (10<i>n</i> + 5)2, which can be expanded by ordinary rules of algebra to 100<i>n</i>2 + 100<i>n</i> + 25, which factors as 100<i>n</i>(<i>n</i> + 1) + 25. The first addend will always be <i>n</i> times <i>n</i> + 1 with two 0s annexed, while adding 25 will replace the digits 00 with 25.</div><DIV>&#160;<BR></div><DIV>ASSOCIATIONS The Fifteen Puzzle is a well-known game in which the natural numbers from 1 through 15 are marked on tiles that can be moved about in a square frame that could hold sixteen such tiles. A tile cannot be picked up--it can move only by shifting into the blank space when that space is adjacent. The puzzle is solved when a scrambled numerical sequence is rearranged in counting-number order (from least to greatest). Scholars think that the Fifteen Puzzle was invented in the United States in 1878; by the early 1880s it was popular all over Western Europe as well as in its homeland.</div><DIV>If the puzzle has been set up by scrambling the existing tiles from a solution, without lifting any of them, it can always be solved. It was quickly realized, however, that lifting the tiles from the board and then scrambling them leadsto configurations that defy any solution. As early as 1879 the theory behind this difficulty was worked out by several different mathematicians. It turns out that there are only two basic arrangements, and if two tiles are reversed in order from one arrangement, the structure changes to the other arrangement. In the early 1880s the American puzzle inventor Sam Loyd offered a prize to the first person who could solve a puzzle that he sold in which 14 and 15 had been interchanged from what otherwise would be counting-number order, knowing full well that his money was safe.</div><DIV>&#160;<BR></div><DIV>The earliest-known and smallest magic square has a sum through the rows, columns, and diagonals of 15 (<i>see</i> discussion at 9).</div><DIV><DIV>Fifteen men on the Dead Man\\'s Chest Yo-ho-ho, and a bottle of rum!</div></div><DIV>As I was thinking about 15 and remembering my Robert Louis Stevenson, I could not decide whether the fifteen men were on the upper body of a deceased male or on a murdered pirate\\'s treasure chest, so I looked it up. It was neither, but one of the Virgin Islands in the Caribbean, nicknamed Dead Man\\'s Chest by English buccaneers.</div></div><DIV><DIV>16 Sixteen XVI 2 &#215; 2 &#215; 2 &#215; 2</div><DIV>French <i>seize</i>; German <i>sechzehn</i>; Spanish <i>diecis&#233;is</i>; Italian <i>sedeici</i>; Latin <i>sedecim</i>; Greek <i>hekka&#237;deka</i>; Papuan body counting, left elbow; classical and medieval finger numerals, left index finger touching last joint of thumb (sign for \"ten\") with ring finger folded at joints (sign for \"six\")The number 16 and multiples thereof are among the quantities most familiar to book designers and printers because most books at one time were printed on large sheets of paper that were folded three times and cut at the edges. The original large sheet has two sides, which in a book printed without folding would represent two pages. Each fold doubles the number of pages, so the first fold produces four pages, the second eight, and the third sixteen. As a result, even short books usually have sixteen, thirty-two, forty-eight, sixty-four, or ninety-six pages. (For some reason, eighty pages is not a popular choice.)</div><DIV>&#160;<BR></div><DIV>FIELD MARKS Since 16 is the fourth power of 2 (24 = 16) and also the second power of 4 (42 = 16), it is represented on both sides of the odd equation <i>n</i><i>m</i> = <i>m</i><i>n</i> where <i>n</i> and m are both natural numbers. Indeed, if <i>n</i> <i>m</i> then 16 is the only number that can be on both sides of the equals sign.</div><DIV>&#160;<BR></div><DIV>The number 16 is the fifth of the <i>Euler numbers</i>, which give the number of ways that the beginning sequence of the counting numbers can be arranged so that they alternately rise and fall in size. For example, 12 or 35 are arrangements from the counting numbers 1, 2, 3, 4, and 5 that rise, while 21 and 42 are arrangements that fall. When you arrange the five numbers as 14352 they alternately rise and fall. There are sixteen ways to do this with five numbers, including 24351, 25341, 34251, and 15243, and so is why 16 is called the fifth Euler number.</div><DIV>Another name for the Euler numbers is <i>zigzag numbers</i>, which has its origin in a way of constructing these numbers from a sequence that zigzags across a number triangle; this name also suggests the alternating rise and fall of the number sequences in the definition. In this version the even-numbered Euler numbers are the zigs while the odd-numbered ones are the zags. Since 16 is the fifth Euler number, it is a zag.</div><DIV>Although it would seem unlikely that they could prove to be useful in any way, the Euler numbers reappear in infinite sequences that produce the trigonometric functions called the tangent and the secant. The connection is that the tangent of <i>x</i> is the infinite sum for which each term is the (2<i>n</i> + 1)th Euler number times <i>x</i> to the (2<i>n</i> + 1)th power over the factorial of (2<i>n</i> + 1) (<i>see</i> Factorial Family, pp. 145-146). Notice that the Euler numbers in this definition are all zags. The secant of x has the same relation with the zigs.</div><DIV>&#160;<BR></div><DIV>The smallest cyclic number, with 6 digits, is 142,857. The next smallest cyclic number (<i>see</i> discussion at 6) has 16 digits: 0,588,235,294,117,647. The 0 at the beginning is a feature of all cyclic numbers except the first, which is 142,857. The 0 is needed because, for example, 2 &#215; 588,235,294,117,647 = 1,176,470,588,235,294. Although the 0 appears at another place, not at the beginning, in the multiples, it always hangs out at the place it should be in the cycle. For example, 5,882,352,941,176,470 is easily recognized as the basic number times 10.</div><DIV>&#160;<BR></div><DIV>Finally, 16 is part of the Pythagorean triple 16, 63, 65.</div><DIV>&#160;<BR></div><DIV>SIMILAR SPECIES Larger books are often printed on high-speed presses in 64s instead of 16s, starting with even larger sheets and giving them two folds (a high-speed web press prints from a continuous roll, but it still has to cut and fold to make pages). Thus 512, 576, and 704 pages often appear, or often 512 &#177; 32 = 480 or 544 pages. One kind of medium-sized press gives the paper a fold into thirds instead of halves, making it possible to print in forms of 48, resulting in less expense for 336 (seven 48s) or 432 (nine 48s) pages than twenty-one or twenty-seven forms of 16 pages.</div><DIV>Similar species to 16 considered as the fifth Euler number are the numbers for zigzag arrangements of 1, 2, 3, 4, 6, and 7 counting numbers: these are, respectively, 1, 1, 2, 5, 61, and 272.</div><DIV>&#160;<BR></div><DIV>PERSONALITY The most important aspect of 16 for many situations is that it is the fourth power of 2, so it is easy to use by doubling or halving four times in a row. For example, to multiply 42 &#215; 16 you could think 84, 168, 336, 672. Division works best when there are no fractions involved, that is, when the number being divided is a multiple of 16. For example, 848 &#247; 16 can be calculated as 424, 212, 106, 53, but 957 is a mess when you try the same approach.</div><DIV>&#160;<BR></div><DIV>A method that is often useful for approximate multiplication or division by 16 is to remember that 1/6 is the same as 0.16666 ... or 162/3%, so dividing by 6 and multiplying by 100 approximates multiplying by 16. For example, to multiply 42 &#215; 16, think (42 &#247; 6) &#215; 100 = 700--the exact answer is 672. Similarly, multiplying by 6 and dividing by 100 approximates dividing by 16. Whether or not one of these approaches will be helpful in a particular case depends on the numbers; it is not all that easy to multiply 957 by 6 in your head, for example, and you might prefer to divide by 16 using the ordinary algorithm.</div><DIV>&#160;<BR></div><DIV>ASSOCIATIONS In 1998 the total number of knots that have sixteen crossings was calculated separately by a pair of mathematicians and by another working alone. They found the same result: there are exactly 1,701,936 such knots. The number 16 is the maximum number of crossings that have been computed so far, but no doubt that will be soon exceeded (<i>see</i> discussion at 3).</div><DIV>An avoirdupois pound, the common measure of weight in the United States, contains 16 ounces.</div></div><DIV><DIV>17 Seventeen XVII prime</div><DIV>French <i>dix-sept;</i> German <i>seibzehn</i>; Spanish <i>diecisiete</i>; Italian <i>diciassette</i>; Latin <i>septemdecim</i>; Greek <i>hepta ka&#237; deka</i>; Papuan body counting, left wrist; Classical and medieval finger numerals, left index finger touching last joint of thumb (sign for \"ten\") with little finger folded at knuckle (sign for \"seven\")</div><DIV>&#160;<BR></div><DIV>Karl Friedrich Gauss was a skilled linguist as well as a mathematical genius. As a teenager he was not sure whether he should make his career in mathematics or in languages. When on March 30, 1796, he discovered a way to inscribe a regular seventeen-sided polygon into a circle--the first significant improvement in geometric constructions since the Greeks--he decided that he should stick with mathematics.</div><DIV>&#160;<BR></div><DIV>FIELD MARKS Fermat guessed that numbers formed by raising 2 to a power of 2 and adding 1 are all prime; these are the \"Fermat primes.\" Probably Fermat observed that 21 + 1 = 3, 22 + 1 = 5, 24 + 1 = 17, easy primes, and calculated 28 + 1 = 257 and 216 + 1 = 65,537 and found that they were primes. Furthermore, he knew a related theorem that any number of the form <i>b</i>n + 1 can be prime only if <i>n</i> is a power of 2. But Fermat was wrong: various different later mathematicians established that 232 + 1, 264 + 1, and so forth are composite. Today it is believed that the only Fermat primes are 3, 5, 17, 257, and 65,537.</div><DIV>Gauss\\'s construction of a seventeen-sided polygon is related in an odd way to the Fermat primes. All the regularpolygons with an odd number of sides that can be constructed with straightedge and compass are multiples of the Fermat primes or of the products of Fermat primes. As a result, the numbers of sides are all divisors of 3 &#215; 5 &#215; 17 &#215; 257 &#215; 65,537, which is equal to 232 -- 1</div><DIV>&#160;<BR></div><DIV>The number 17 is the only prime number that is the sum of four consecutive prime numbers. This is easy to establish when you realize that the sum of any four prime numbers will be odd unless one of the primes is 2.</div><DIV>&#160;<BR></div><DIV>Also, 17 is one of the primes that produce a cyclic number as the repeating period on division into any number that is not a multiple of 17 (<i>see</i> discussions at 6, 7, and Genus Rational, 1/9).</div><DIV>&#160;<BR></div><DIV>Other recognizable traits: 17 is a prime twin with 19. It has been proposed that, since there can never be any prime triplets greater than 3, 5, 7, groups of primes such as 11, 13, 17, 19 be designated <i>prime quadruplets</i>. This means ignoring the multiple of 3 that will always insert itself in the middle (15, in this case).</div><DIV>Also, 17 is part of the Pythagorean triple 8, 15, 17.</div><DIV>&#160;<BR></div><DIV>Finally, 17 is the last consecutive natural number about which there is enough interesting to deserve a separate listing in this field guide. Although 18 is twice the square of 3 and half the square of twice 3, and also a magic number in chemistry (for a stable number of electrons), after that it gets to be rather dull.</div><DIV>&#160;<BR></div><DIV>SIMILAR SPECIES Some other numbers that produce the maximum-sized repeating period and lead to cyclic numbersare 7, 19, 23, 29, 47, and 17,389. There are probably an infinite number of such primes, although this has not been proved.</div><DIV>&#160;<BR></div><DIV>The next prime quadruplet after 11, 13, 17, 19 is 101, 103, 107, 109.</div><DIV>&#160;<BR></div><DIV>PERSONALITY Although 17 is a particularly awkward prime, as are the others that produce cyclic numbers, it is small enough that it is useful to memorize the smaller multiples, which are 34, 51, 68, 85, and 102. These are useful in many ways. In particular, knowing 34 = 17 &#215; 2 is helpful because 34 itself often occurs as an obvious factor; recognizing that 51 is 17 &#215; 3 keeps you from thinking that 51 is prime; and knowing 85 = 17 &#215; 5 is of considerable help in unraveling multiples of 5.</div><DIV>&#160;<BR></div><DIV>ASSOCIATIONS The number 17 appears in a now rejected claim by the distinguished physicist Arthur Eddington [English, 1882-1944] that the <i>exact</i> number of protons in the universe is 17 &#215; 2259.</div></div><DIV><DIV>19 Nineteen XIX prime</div><DIV>French <i>dix-neuf</i>; German <i>neunzehn;</i> Spanish <i>diecinueve;</i> Italian <i>diecinove;</i> Latin <i>undeviginti;</i> Greek <i>ennea ka&#237; deka;</i> Papuan body counting, left index finger; classical and medieval finger numerals, left index finger touching last joint of thumb (sign for \"ten\") with little, ring, and middle fingers folded at knuckles (sign for \"nine\")</div><DIV>In 432 B.C. the Greek astronomer Meton observed that the number of days in 235 cycles of the phases of the moon is almost exactly equal to nineteen times the number of days in the year. Thus, the first day of the seasons can be kept regular by using a lunar calendar based on repeating every nineteen years. To make each year of lunar months about the same as the true year based on the revolution of Earth about the Sun, you need to have about twelve or thirteen lunar months each year, so the Metonic calendar contains twelve years with twelve lunar months and seven years with thirteen months to produce the required 235 lunar months every nineteen years. This was the main calendar of Western civilization until Julius Caesar\\'s calendar reform of 46 B.C., and it is still the basis of the Jewish calendar. A similar calendar was developed independently by Babylonian astronomers about the same time as the Metonic.</div><DIV>&#160;<BR></div><DIV>FIELD MARKS The number formed by stringing nineteen ls together, 1,111,111,111,111,111,111, is the first rep-unit after 11 that is prime (<i>see</i> discussion at 11).</div><DIV>&#160;<BR></div><DIV>SIMILAR SPECIES A century after Meton, the Greek astronomer Callipus improved the Metonic cycle of nineteen years, which drifted by a day after four cycles, by developing a calendar based on repeating the lunar cycle every seventy-six years. Callipus\\' system was preferred to Meton\\'s by later Greek astronomers, although Hipparchus showed that a system based on 304 years and 3760 lunar months is even more accurate.</div><DIV>&#160;<BR></div><DIV>PERSONALITY Although 19 is a prime, its proximity to 20 makes multiplication with 19 as a factor easy. Also, it is useful to know the products of 19 with 3 and 7, since they may easily be mistaken for primes: 19 &#215; 3 = 57 and 19 &#215; 7 = 133.</div></div><DIV><DIV>20 Twenty XX 2 &#215; 2 &#215; 5</div><DIV>French <i>vingt</i>; German <i>zw&#246;lft</i>; Spanish <i>viente;</i> Italian <i>venti;</i> Latin <i>viginti;</i> Greek <i>e&#237;kosi;</i> Papuan body counting, left middle finger; classical and medieval finger numerals, left thumb touching base of index finger</div><DIV>&#160;<BR></div><DIV>The original score was a tally mark, named from the Old Norse skor, which led to the use of the word \"score\" for 20 as well as to its meaning as the tally in a contest. Lincoln famously calculated 87 years as \"four score and seven.\" If you score a piece of glass or wood so that it will break in a straight line, it is the same word again--you are making a mark as you would on a tally stick. Until the late eighteenth century, the main financial records of the British Parliament were kept on wooden tally sticks. After paper records had been in use for some decades, it was thought safe to destroy the old wood sticks. They were burned in 1834, in a fire that also consumed the Houses of Parliament.</div><DIV>&#160;<BR></div><DIV>FIELD MARKS The mystic hexagram of Pascal (<i>see</i> discussions at 3 and 15) has many sets of 20 points or lines resulting from it that have been investigated by various mathematicians. These include the 20 Steiner points that lie on the 15 Pl&#252;cker lines and which each have 3 Kirman points associated with them that lie on the 20 Cayley lines which in turn pass through the 15 Salmon points (<i>see also</i> 3 and 60).</div><DIV>&#160;<BR></div><DIV>Also, 20 is one of the legs of the 20, 21, 29 Pythagorean triple as well as of the triple 20, 99, 101.</div><DIV>&#160;<BR></div><DIV>SIMILAR SPECIES 20 is to 100 as 1 is to 5, a relationship that is frequently useful.</div><DIV>&#160;<BR></div><DIV>PERSONALITY A tip of 20% is often more easily calculated by dividing the bill by 5 instead of doubling and moving the decimal point. For example, a bill of $35 would result in a tip of $7 since 35 &#247; 5 = 7. The alternative computation is to double 35 to get 70, then drop the final 0 to get 7.</div><DIV>&#160;<BR></div><DIV>ASSOCIATIONS In geometry, 20 is the number of faces of an icosahedron and therefore the number of vertices of a dodecahedron (<i>see</i> illustration at 5).</div><DIV>&#160;<BR></div><DIV>The number 20 is one of the magic numbers for radioactive decay--meaning that an atom with twenty nucleons (the main isotope of neon) is particularly stable. Neon is doubly magic, since it also has ten electrons, a magic number for chemical stability. Hot sodium atoms also tend to form clusters of twenty atoms, making this a magic number for clusters as well.</div><DIV>&#160;<BR></div><DIV>&#160;<BR></div><DIV>The old English pound equaled 20 shillings, but nowadays it is divided into 100 pence. At one time a gold version of the pound called the guinea, worth 21 shillings, was in circulation. The odd amount was standardized in 1717 at 21 so that an auctioneer could accept bids in pounds, be paid in guineas, and pocket the difference as his fee. A sporting way to raise a bet or an offer in England was to say \"guineas\" to increase stakes slightly. The guinea was minted in gold from 1663 to about 1813, so it is most familiar today to readers of eighteenth- and nineteenth-century novels.</div></div><DIV><DIV>22 Twenty-Two XXII 2 &#215; 11</div><DIV>FIELD MARKS The number 22 is the first of the two-digit Smith numbers and the lowest after 4. A <i>Smith number</i> is onewhose digits add to the same number as the sum of the digits in all its prime factors. Note that the sum of the digits in both 4 and 22 is 4, while 4 factored into primes is 2 &#215; 2 (sum of digits is 4) and 22 is factored as 2 &#215; 11 (sum of digits is 4).</div><DIV>&#160;<BR></div><DIV>SIMILAR SPECIES The next few Smith numbers are 27, 58, 85, 94, and 121. Some Smith numbers that are famous for other reasons are 666, the \"Number of the Beast\" in the Bible, and 1776, the birth year of the United States (the sum of the digits of 1776 is 21; its factors are 2 &#215; 2 &#215; 2 &#215; 2 &#215; 3 &#215; 37 (and the sum of those digits is 2 + 2 + 2 + 2 + 3 + 3 + 7 = 21).</div><DIV>&#160;<BR></div><DIV>PERSONALITY Since 22 is twice 11 as well as close to both 20 and 25, computation or estimation using it is a snap. Even using the standard algorithm for multiplication is easy, especially if you double the entire other factor instead of taking it one digit at a time. For example, to multiply 22 &#215; 247 you can think \"the double of 247 is 494\" (this can also be found by recognizing that 247 is 3 less than 250 so twice 247 is 6 less than 500). Then write</div><DIV><DIV>494 4940</div></div><DIV>and add to get the product of 5434.</div><DIV>&#160;<BR></div><DIV>ASSOCIATIONS The English surveyor\\'s chain is set at a standard of 66 feet or 22 yards; it has 100 links, hence each link is 7.92 inches long. These peculiar numbers appear to be related to the rod, which at 5&#189; yards is exactly one fourth of 22 yards (<i>see also</i> discussion at 40.) Ten chains, or 220 yards, make a furlong, a distance most familiar today as a length for various kinds of races--the \"220\" and its related\"440\" for track and multiples of furlongs for horse races.</div></div><DIV><DIV>23 Twenty-Three XXIII prime</div><DIV>FIELD MARKS The poet and mathematician Sun-tse [Chinese, <i>fl</i>. fourth or fifth century A.D.) asked for the smallest natural number that when divided by 3, 5, and 7 will produce the respective remainders 2, 3, and 2. The number is 23--that is, 23 &#247; 3 = 7 r 2; 23 &#247; 5 = 4 r 3; and 23 &#247; 7 = 3 r 2. Sun-tse supports his answer with a poem about the general method. The general theorem, called the Chinese Remainder Theorem, is of great importance in number theory and in the foundations of mathematics. The Chinese Remainder Theorem states an algorithm that provides a number that gives a specified set of remainders when divided by some given numbers that are relatively prime in pairs.</div><DIV>&#160;<BR></div><DIV>The rep-unit formed by stringing together 23 ls is a prime (<i>see</i> discussion at 11).</div><DIV>&#160;<BR></div><DIV>SIMILAR SPECIES Although 23 is a larger prime than 17 or 19, the small size of both its digits makes the smaller multiples of 23 easier to spot than small multiples of 17 or 19. It is easy to recognize 46, 69, and even 92 as multiples of 23.</div><DIV>&#160;<BR></div><DIV>PERSONALITY In most cases of multiplication by 23 it is easiest to use a version of the standard algorithm that begins by doubling the other factor, which can be done mentally. Write that number on a slip of paper, put the original number under it, then put the doubled form offset one unit to the left and add the three numbers. For example, to find 23 &#215; 638, think 638 doubled is 1276 and write</div><DIV>So the answer is 14,674. Notice that this is essentially the same as using 22 as a friendly number and treating the problem as (22 + 1) &#215; 638.</div><DIV>&#160;<BR></div><DIV>ASSOCIATIONS In 1900 mathematician David Hilbert [German, 1862-1943] gave a famous speech to the International Congress of Mathematicians in Paris in which he set forth twenty-three unsolved problems of mathematics, problems that he hoped would be a main focus of the subject in the twentieth century. Since Hilbert\\'s speech, progress in many parts of mathematics, especially in understanding its foundations, has been measured by how far we have progressed toward solving these problems or in proving them insoluble. For the most part, these problems require mathematical ideas that are beyond the scope of this book. One problem, however, concerns number families. He asked whether 2v2 is transcendental or algebraic (<i>see</i> Transcendental Family, pp. 290-292)--that is, whether or not it can be stated as a solution to an algebraic equation. Hilbert thought this problem would not be solved during his lifetime, but a student who heard Hilbert\\'s speech proved only a decade later that 2v2 is transcendental. A student of Hilbert\\'s was the first to prove any of the problems, solving the third one within a couple of years of the speech. Several problems were \"solved\" by proving that they could not be solved by mathematical means. Some problems, however, remain unresolved to this day, at the close of the twentieth century.</div><DIV>&#160;<BR></div><DIV>The number 23 is also one of the two numbers that Freud\\'s friend Wilhelm Fliess believed to hold the secrets of life (theother was 28). Fliess thought that 23 was the natural rhythm of cells in males, while 28 was the natural rhythm of females (not the menstrual cycle, he said; that was an effect, not a cause). This idea persists to some degree under the name of biorhythms. There is no evidence in support of 23 as a rhythm of life.</div></div><DIV><DIV>24 Twenty-Four XXIV 2 &#215; 2 &#215; 2 &#215; 3</div><DIV>FIELD MARKS The number 24 is a factorial (4! = 24--<i>see</i> Factorial Family, pp. 145-146), and it is also the smallest factorial that becomes a perfect square by the addition of 1, since 4! + 1 = 52.</div><DIV>&#160;<BR></div><DIV>&#160;<BR></div><DIV>Also, 24 is a member of the Pythagorean triple 7, 24, 25.</div><DIV>&#160;<BR></div><DIV>&#160;<BR></div><DIV>SIMILAR SPECIES There are two other known factorials that become perfect squares upon adding 1, both quite small. In fact, one of them is the next after 4! since 5! = 120 and 121 = 112. The other known example is 7! = 5040. The number 5041 is the square of 71.</div><DIV>The number 5040 is also called Plato\\'s number, because Plato suggested that this was the perfect size for a community, mainly because 5040 has 58 divisors (not including 1 or 5040 itself), which is rather large (but <i>see</i> discussion at 6.)</div><DIV>&#160;<BR></div><DIV>PERSONALITY The product of any four consecutive integers is a multiple of 24. This occurs because one integer out of any four in a row must be a multiple of 4, while another must be a multiple of 3. This combination gives a factor of 12, but there are two even numbers in any four consecutive integers, so in addition to the factor of 4 there is a factor of2. Put them all together and you get 24. For example, 13 &#215; 14 &#215; 15 &#215; 16 is 13 &#215; (2 &#215; 7) &#215; (3 &#215; 5) &#215; (4 &#215; 4) = 13 &#215; 7 &#215; 5 &#215; 4 &#215; (2 &#215; 3 &#215; 4) = 13 &#215; 7 &#215; 5 &#215; 4 &#215; (24).</div><DIV>&#160;<BR></div><DIV>ASSOCIATIONS A pennyweight is 24 troy grains, which is 1/20 of a troy ounce. As its name suggests, it was once the weight of a penny, when English pennies were silver.</div><DIV><DIV>Factorial Family</div><DIV>Numbers that are the products of consecutive counting numbers, starting with 1, are called <i>factorials</i>. It is easy to picture 2 factorial as 1 &#215; 2 = 2 or 3 factorial as 1 &#215; 2 &#215; 3 = 6, but what of 1? Many problems involving counting arrangements or combinations of things can be solved with formulas involving factorials, and these formulas give correct answers if 1 factorial and even 0 factorial are each assigned the value 1.</div><DIV>It is awkward to write \"factorial\" every time, and furthermore the mathematician wants some simple way to insert factorials in equations. The first notation mathematicians tried was a sort of half box, writing <i></i> for 3 factorial. Not only did this fail to suggest the nature of the factorial, but it was difficult to print in complicated formulas involving several factorials and fractions, so in 1808 Christian Kramp [German, 1760-1826] introduced a new sign--the only use of the exclamation point in mathematics. As a result of Kramp\\'s idea, factorials have come to seem exciting. 0! = 1, 1! = 1, 2! = 2, 3! = 6, and 4! = 24. The exclamation point happily suggests how fast the factorial function rises, much faster than any power or indeed than any other commonly used function.</div><DIV>Mathematicians still say factorial, of course, reading the symbol 4! aloud as \"four factorial.\" I have often thought it would be better if they used the verbalization of ! that proofreaders use when they read an important document aloud to a copyholder to make sure there are no errors in transcription. \"Dammit!\" would be read as <i>quote cap D dammit d-a-m-m-i-t bang close quote</i>. The exclamation point becomes a \"bang\"! That would suit mathematics, in my opinion. For instance, the number of combinations of n things taken r at a time has the formula n!/r!(n -- r)!, which a proofreader would pronounce as \"n bang over r bang times the quantity n minus r bang.\" This is not, however, accepted in mathematical circles.</div></div></div><DIV><DIV>26 Twenty-Six XXVI 2 &#215; 13</div><DIV>FIELD MARKS The number of primes in a given interval declines irregularly, but seems to go down as one gets to higher numbers, which is what one might expect. For example, the first twenty-six prime numbers, from 2 to 101, occupy an interval of exactly 100 numbers. The next interval of 100 numbers, from 102 to 203, contains only twenty primes. Thereafter, the numbers per 100 tend decline, but not steadily: there are sixteen each in the 200s and 300s, an increase to seventeen in the 400s, down to fourteen in the 500s, up to sixteen in the 600s, down to fourteen again in the 700s, up to fifteen in the 800s, and back to fourteen in the 900s. At higher numbers, however, the reduction is more noticeable. Between 100,001 and 100,100 there are only six primes. As a result of this decline, the twenty-six primes from 2 to 101 are the largest number of primes in any interval of one hundred consecutive counting numbers.</div><DIV>&#160;<BR></div><DIV>SIMILAR SPECIES There are 168 primes in the interval from 1 to 1000.</div><DIV>&#160;<BR></div><DIV>PERSONALITY In exact multiplication or division calculations, 26 is seen most often in terms of 13 and 52, which are half 26 and twice 26. It can also be helpful to remember that 104 is 4 &#215; 26.</div><DIV>For approximate calculations, the proximity of 26 to 25 is helpful, especially since 25 is a fourth of 100, so an exact calculation with 25 can be found by multiplying by 100 (annexing two 0s) and dividing by 4.</div><DIV>For multiplying large counting numbers by 26, think of 26 as 25 + 1. To find, say, 384 &#215; 26, convert the problem to 384 &#215; (25 + 1) = (384 &#215; 25) + 384. The mental operations (or written ones if you choose) are 384 &#215; 25 = 38,400 &#247; 4 = 9600 and 9600 + 384 = 9984, which is the answer.</div><DIV>&#160;<BR></div><DIV>ASSOCIATIONS If we recognize 26 at all, it is usually as half the number of weeks in a year and a good substitute for half a year (twenty-six weeks is 182 days, while half a leap year is 183 days). If you compare six actual months to twenty-six weeks in a non-leap year, however, there are only two periods of six months (October through March and December through May) that are exactly twenty-six weeks long. A leap year does better, because there are twice as many six-month periods that equal exactly twenty-six weeks (you can find these if you play around a bit).</div></div><DIV><DIV>28 Twenty-Eight XXVIII 2 &#215; 2 &#215; 7</div><DIV>FIELD MARKS The number 28 is the second perfect number (<i>see</i> discussion at 6), since its factors less than itself are 1, 2, 4, 7, and 14, and 1 + 2 + 4 + 7 + 14 = 28.</div><DIV>Other recognizable traits: 28 is a triangular number (7 = 28) and a member of the Pythagorean triple 28, 45, 53.</div><DIV>&#160;<BR></div><DIV>SIMILAR SPECIES In addition to 6 and 28, the numbers 496 and 8128 are small perfect numbers. Perfect numbers have an odd relationship to Mersenne primes (<i>see</i> Mersenne Family, pp. 85-87), since if M is a prime number of the form 2<i>p</i> -- 1 where <i>p</i> is also prime--this is the definition of a Mersenne prime--then M(M + 1)/2 is a perfect number. The formula produces 6 for <i>p</i> = 2; 28 for <i>p</i> = 3; 496 for <i>p</i> = 5; and so forth.</div><DIV>If you remember that the formula for a triangular number is <i>n</i>(<i>n</i> + 1)/2, you will note that perfect numbers formed this way are also all triangular numbers.</div><DIV>&#160;<BR></div><DIV>ASSOCIATIONS The number 28 figures in one of the more amazing coincidences in the history of astronomy. In 1776 the astronomer Johann Elert Bode [German, 1747-1826] published the discovery made four years earlier by a less famous German, Johann Daniel Titius [1729-1796], that the distance of each of the planets from the Sun is determined by a simple number sequence, a sequence now called Bode\\'s law. The sequence is formed with doubling as a first step, beginning 0, 3, 6, 12, 24, 48, 96, 192, 384, and then adding 4 to each number, producing 4, 7, 10, 16, 28, 52, 100, 196, 388. What Titius observed and Bode made famous is that if the distance from Earth to the Sun is taken to be 10 units (third number in sequence, for the third planet), then 4 and 7 correctly describe the relative distances of Mercury and Venus from the Sun, while 16 is the correct number for the distance of Mars from the Sun. Jupiter, however, the next known planet, was not at 28 but at 52. The sequence was more firmly grounded with Saturn at 100.</div><DIV>Bode\\'s law might never have become famous, but in 1781, just five years after it was published, William Herschel found Uranus, which fit the rule, being within a reasonable margin of error of 196. But what about that 28? Surely if the law predicted it, there should also be a planet there--although no one had a clue as to why Bode\\'s law was successful.</div><DIV>Astronomers scoured the skies seeking the missing planet. On New Year\\'s Day, 1801, the first day of the nineteenth century, the Italian astronomer Giuseppe Piazzi found a previously unknown, but very small, \"planet.\" Karl Friedrich Gauss devoted many hours to calculating its orbit, in the process inventing the methods needed to obtain an orbit from a limited number of observations. From Gauss\\'s orbit, the distance from the Sun is an easy consequence of the laws of gravity. It was 28 on Bode\\'s sequence. But the \"planet\" was Ceres, now known as the largest asteroid. Soon, however, astronomers found other asteroids, all about 28 units from the Sun. They came to believe (incorrectly, as it was later shown) that a large planet had occupied the orbit at 28 that was decreed by Bode\\'s law.</div><DIV>Then people began to expect a planet at 388, the next distance invoked by the law. But astronomers who used gravitational theory instead of number mysticism correctly predicted that the next planet, now known as Neptune, would be elsewhere. Instead of being at 388 units from the Sun, Neptune is at 300 units, while Pluto is even farther away from the Bode\\'s number. Apparently the remarkable fit of Bode\\'s law to Uranus at 196 and Ceres at 28 is a coincidence and nothing else.</div><DIV>&#160;<BR></div><DIV>The number 28 seems to garner strange, unprovable, and incorrect theories. It is also one of the two numbers (the other is 23) that Freud\\'s friend Wilhelm Fliess believed to be the basis of life (see discussion at 23).</div><DIV>The number 28 is one of the magic numbers of nucleons (protons and neutrons) that discourage radioactive decay. Silicon is the atom whose isotope, with 28 nucleons, benefits from this bit of magic.</div></div><DIV><DIV>36 Thirty-Six XXXVI 2 &#215; 2 &#215; 3 &#215; 3</div><DIV>FIELD MARKS The number 36 is the first nontrivial number that is both a triangular number and a square number, since 8 = 36 and 62 = 36.</div><DIV>&#160;<BR></div><DIV>Also, 36 is a member of the Pythagorean triple 36, 77, 85.</div><DIV>&#160;<BR></div><DIV>SIMILAR SPECIES Other numbers that are also triangles and squares (after the trivial example of 1) begin with 1225 = 352 = 49 ; 41,616 = 2042 = 288 ; 1,413,721 = 11892 = 1681 ; and continue infinitely.</div><DIV>&#160;<BR></div><DIV>ASSOCIATIONS Euler became interested in 1782 in a problem now known as the Thirty-Six Officers: if there are thirty-six officers, one from each of six different ranks and one of each from six different regiments, can they march in a square formation so that each row and column contains exactly one officer from each rank and from each regiment? This is harder than it looks, and Euler did not solve it.</div><DIV>Such arrangements into rows and columns by category are called Latin squares (sometimes Euler squares). Arranging the same group by two different criteria is a typical problem in Latin squares, with the arrangements considered to be \"mutually orthogonal,\" which is to say, in more familiar language, perpendicular to each other. The rather unlikely reason cited in reference books for the odd name is that in Euler\\'s time such problems were shown using Latin letters such as a, b, c, ... instead of Arabic numerals such as 1, 2, 3, ...</div><DIV>As to the solution to the Thirty-Six Officers Problem, it comes from what seems like another mathematical world entirely. Projective geometry, complete with a \"point or line at infinity,\" was originally invented as a method by which three-dimensional scenes could be shown correctly in a painting on a two-dimensional surface. This invention was first generalized by mathematicians for transformations of geometric figures and later redeveloped in terms of finite sets of points, called projective planes of order n. The existence of mutually orthogonal pairs of Latin squares was shown to be equivalent to the existence of certain finite projective planes. In 1900 the mathematician G. Tarry showed that there is no projective plane of order 6, which in turn implies that the Thirty-Six Officers Problem cannot be solved.</div><DIV>&#160;<BR></div><DIV>The number 36 is a magic number for chemical stability. Electron shells begin with two electrons nearest the nucleus. When these are filled, the next shell has eight electrons, as does the third shell. But the fourth shell matches the eighteen electrons in the first three shells with another eighteen of its own. The result is a magic number of 18 + 18 = 36. The element with this atomic number is krypton, which is completely stable (and not to be confused with Superman\\'s \"kryptonite,\" which is magic of quite another kind).</div><DIV>&#160;<BR></div><DIV>There are various British measures that are seldom if ever used anymore. A chaldron of coal was 36 bushels, for example, an amount that weighed somewhat more than one long ton (<i>see</i> discussion at 12). A barrel of ale contains 36 gallons (but a wine barrel has only 31&#189; gallons). If one is measuring straw, a truss is a bundle of 36 pounds, and 36 truss add up to one load of straw. But there is a lot more hay--56 pounds or 60 pounds, depending on whether it has been cured or is new--in a truss of hay.</div></div><DIV><DIV>40 Forty XL 2 &#215; 2 &#215; 2 &#215; 5</div><DIV>FIELD MARKS Euler discovered a remarkable formula, <i>n</i>2 -- <i>n</i> + 41, that gives prime numbers when n is any of the first forty natural numbers. I have read that Euler believed that the formula would always produce primes, but this seems impossible since it is easy to see that if <i>n</i> = 41 the result cannot be prime. But the first forty counting numbers do produce primes. This is a result of a property of the Heegner numbers (<i>see</i> discussions at 9 and at Genus Complex, <i>i</i>).</div><DIV>&#160;<BR></div><DIV>Also, 40 is a member of the Pythagorean triple 9, 40, 41.</div><DIV>&#160;<BR></div><DIV>SIMILAR SPECIES The 40 primes that derive from n2 -- n + 41 are 41, 43, 47, 53, 61, 71, 83, 97, 113, 131, 151, 173, 197, 223, 251, 281, 313, 347, 383, 421, 461, 503, 547, 593, 641, 691, 743, 797, 853, 911, 971, 1033, 1097, 1163, 1231, 1301, 1373, 1447, 1523, and 1601.</div><DIV>&#160;<BR></div><DIV>The formula <i>n</i>2 -- <i>n</i> + <i>p</i> where <i>p</i> is some unspecified prime will generate a list of primes up to <i>p</i> -- 2 for a few numbers other than 41. The numbers <i>p</i> for which this is true are called the Lucky Numbers of Euler. In addition to 41, the Lucky Numbers are 2, 3, 5, 11, and 17. The proof that these are the only ones is another consequence of the unusual properties of the mysterious Heegner numbers.</div><DIV>&#160;<BR></div><DIV>PERSONALITY It is often useful to remember that 40 is 2/5 of 100, especially in percent problems; also it is helpful to note that 40 is 1/5 of 200.</div><DIV>&#160;<BR></div><DIV>ASSOCIATIONS The number 40 appears in many odd common expressions and folk slang. Why does forty winks mean a short nap? What prompted the goal of 40 acres and amule for freed slaves after the American Civil War? An English centipede is familiarly called a forty-legs, which is actually more accurate than the hundred feet of \"centi-ped.\" An old slang expression for cheap whisky is 40-rod, since it was so powerful that it could kill from 40 rods away. There is an herb called the forty-knot, while the Tasmanian diamond bird is the forty-spot.</div><DIV>Of these, \"40 acres and a mule\" has a relatively simple and known explanation. Land areas in British and U.S. customary measure were measured in rods, a length of 16&#189; feet or 5&#189; yards. (In the United States we have settled on the name \"rod\" for this surveyor\\'s length, but the British are apt to call it a \"pole\" or even a \"perch.\") Surveyors seem to make no distinction between a rod of length and a square rod of area, but I will. The whole measurement system for land is based on numbers related to 40. This is not an accident. If you make a larger square (\"big square\") from small ones, you must use at least four small ones. Then if you make a still larger square (\"great square\") from that big square the great square will have sixteen of the original small squares. Now, since we use a decimal system, make everything ten times as large. From this kind of surveying, the acre of 160 square rods arises. If you start with the acre and repeat the process of making larger squares one more time to obtain a square of 640 acres, you have a square mile. A mile square (that is, an actual square 1 mile on a side as opposed to any irregular region with an area of 1 square mile) is a section of land, the way that land is laid out on tax maps. A comfortable size for a prosperous family farm in the nineteenth century was a quarter section, or 160 acres, but it was once possible to eke out a living on a quarter of that amount of land, which was 40 acres. The mule was simply the most efficient farm animal if you have only one animal to pull your plow.</div><DIV>The Bible is rife with references to 40, ranging from Noah\\'s big rain to the time Jesus spent in the desert being tempted by Satan. The season of Lent is the forty days before Easter. The original quarantine against the Black Death was <i>quaranta giorni</i>, or forty days. This Judeo-Christian 40 derives from a Semitic tendency toward using 40 as a general round number as 100 is used in the West. The example of Ali Baba and the forty thieves is from the same tradition.</div><DIV>&#160;<BR></div><DIV>The number 40 is also one of the mysterious magic numbers for clusters of atoms. Clusters of forty atoms have more stability and are therefore more likely to form than, say, those with thirty-nine or forty-two atoms.</div></div><DIV><DIV>48 Forty-Eight XLVIII 2 &#215; 2 &#215; 2 &#215; 2 &#215; 3</div><DIV>FIELD MARKS In 1932 it was established that for 48 or any whole number greater than 48, there is a prime number that is between that number and that number plus an eighth of the number. For example, for 48, the higher limit is 48 + 6 = 54 and the prime in that interval is 53.</div><DIV>&#160;<BR></div><DIV>Other recognizable traits: 48 is a member of the Pythagorean triple 48, 55, 73.</div><DIV>&#160;<BR></div><DIV>&#160;<BR></div><DIV>PERSONALITY Because 48 is 3 &#215; 24 it has many appearances (<i>see</i>, for examples, the discussions at 16 of folding paper and at 6 of numbers with many small divisors.) The divisors of 48 including the unit are 1, 2, 3, 4, 6, 8, 12, 16, 24, putting it among the more useful numbers for many purposes. For multiplication, however, its nearness to 50 is the more useful connection.</div><DIV>&#160;<BR></div><DIV>ASSOCIATIONS Although there are 880 magic squares of order 4 (<i>see</i> discussion at 9), the remarkable ones are forty-eight magic squares that are called most-perfect pandiagonals. All magic squares have the property that their rows, columns, and diagonals add to the same number, sometimes called the magic constant or the magic number for the square. In the square below, the magic constant is 30.</div><DIV>This magic square is also a pandiagonal, which means that its \"short\" diagonals such as 9, 10, 6 can be extended by adding the far corner, 5, to obtain the same magic constant. Similarly, 3 + 15 + 12 + 0 = 30; 8 + 4 + 7 + 11 = 30; and 2 + 1 + 13 + 14 = 30. Look also at the even shorter diagonals such as the combination 7, 13 and 8, 2 or the combination 3, 9 and 12, 6. Same sum.</div><DIV>But this is also one of the forty-eight most-perfect pandiagonals of order 4 (actually all the pandiagonals of order 4 are \"most-perfect\"; higher orders can have rather less perfect pandiagonals). Notice that if you were to use this magic square to tile a floor, keeping the numbers in the sameorientation, you would have the floor covered in a continuous pattern using the first sixteen whole numbers. In that pattern, any contiguous four numbers in a straight line, horizontal, vertical, or diagonal would sum to 30. Furthermore, if you choose any four numbers forming a small square, their sum will also be 30. Even if you add four numbers along a diagonal so that each pair of numbers is separated by a third number, the sum will be 30. Most perfect indeed!</div><DIV>And there are forty-seven more of these where that came from.</div><DIV>Amazingly, higher orders can produce many more of such wonders, although the order must always be a multiple of 4. There are 368,640 most perfect pandiagonal magic squares of order 8 and 2,229,530,000 of order 12, with the number rising rapidly above that.</div></div><DIV><DIV>50 Fifty L 2 &#215; 5 &#215; 5</div><DIV>FIELD MARKS As with 5, the number 50 occurs implicitly in all measurement situations involving a measurement to the nearest 100. In such measurement, the correct interpretation of the observation that Texas is 800 miles across from east to west is that the distance is between 800 -- 50 = 750 miles and 800 + 50 = 850 miles.</div><DIV>&#160;<BR></div><DIV>SIMILAR SPECIES The same measurement connection occurs with multiples of 5 in general. For example, to the nearest 10 miles Texas is 760 miles across, or between 755 and 765 miles.</div><DIV>&#160;<BR></div><DIV>PERSONALITY As half of 100, 50 is especially easy to handle for multiplication. You should also remember thatdivision by 50 can be accomplished by doubling and keeping track of the decimal point. For example, to divide 836 by 50, double to get 1672 and then divide by 100 (move the decimal point two places to the left) to get the answer of 16.72.</div><DIV>&#160;<BR></div><DIV>ASSOCIATIONS Pentecost, when the Holy Spirit descended on the apostles, took place fifty days after Easter; the feast is now always celebrated on a Sunday seven weeks (forty-nine days) after Easter. In England Pentecost is a popular date for baptism, at which the newly baptized are dressed in white--hence, another name for the day is White Sunday, or Whitsunday.</div><DIV>&#160;<BR></div><DIV>&#160;<BR></div><DIV>The number 50 is one of the magic numbers of nuclear stability. Two elements with isotopes of 50 nucleons (protons and neutrons) are titanium and vanadium--but while titanium-50 is stable, as are several lighter isotopes of titanium, vanadium-50 is less stable than, and therefore much less abundant than, vanadium-51. Go figure.</div><DIV>The magic qualities of the nuclear numbers become less obvious as the size of the numbers increases. The theory explaining why these particular numbers should be magic is not entirely satisfactory in any case.</div></div><DIV><DIV>52 Fifty-Two LII 2 &#215; 2 &#215; 13</div><DIV>FIELD MARKS The number 52 is the fifth Bell number, or the number of ways that five different objects can be arranged in distinct sets. The numbers are named after Eric Temple Bell, who is primarily known as a historian of mathematics, who investigated these numbers.</div><DIV>&#160;<BR></div><DIV>SIMILAR SPECIES Other small Bell numbers are 1, 2, 5, 15, and 203. For example, the sixth Bell number is 203, meaning that six distinct objects can be arranged in 203 different ways (<i>see</i> discussion at 11).</div><DIV>&#160;<BR></div><DIV>PERSONALITY The relation of 52 weeks to 1 year is often a factor in business calculations. Since the relation of 52 to the year and the week derives ultimately from astronomy, there is no particular reason why we should be blessed with a number of weeks in the year that is divisible by 4, but we are. If Earth were slightly farther from the Sun, for example, the year might have 372 days and there would be 53 weeks in the year, a prime. However, a year a week shorter than our existing one would have 51 weeks, and accountants would likely separate the year into thirds of 17 weeks instead of quarters of 13 weeks.</div><DIV>As it is, careful accountants do something much more complicated than simply figuring 13 weeks to a quarter. The quarters are treated in terms of 3 months at a time. Only the second quarter of April-May-June is a perfect quarter of 91 days (13 &#215; 7 = 91), while the first quarter is usually a day short, and the last two are each a day long. So some accountants make adjustments as indicated by the number of days.</div><DIV>In computation, the relation of 4 and 13 to 52 is useful whenever these particular numbers are involved, although not particularly helpful as an aid to other calculations.</div><DIV>&#160;<BR></div><DIV>ASSOCIATIONS The reason that there are fifty-two weeks in a year is that 364 &#247; 7 = 52. The 7 for days in a week is a whole-number approximation of the time between phases of the Moon; 364 is the closest multiple of 7 to the year of 365 days.</div><DIV>A deck of playing cards has fifty-two cards, not counting any jokers. The 52 comes from four suits of thirteen cards each. The number of cards in the deck was not always 52, however. Early Tarot cards had five groups of ten cards each; the Venetian Tarot had four suites of fourteen cards not unlike the suits of a modern deck of playing cards, except that instead of the jack there were two similar figures called the cavalier and the valet. Used for casting fortunes, the Venetian Tarot also included twenty-two picture cards that represented such figures as the Sun, Death, Justice--and the Fool, our modern joker. While the total of seventy-eight cards seems excessive, the Florentines added another nineteen fortune-telling cards to bring the total to ninety-seven. The French developed the precursors of the modern suits of spades, hearts, diamonds, and clubs. Keeping the four French suits and dropping all the fortune-telling cards (except, sometimes, the joker) gives the modern deck of 52 (or 53) cards.</div></div><DIV><DIV>65 Sixty-Five LXV 5 &#215; 13</div><DIV>FIELD MARKS Although 65 is instantly recognizable as a multiple of 5, it is somehow surprising to find that it is 13 &#215; 5. It may help to relate it to 52, the number of weeks in a year, so five \"quarters\" is 52 + 13 or 65.</div><DIV>&#160;<BR></div><DIV>&#160;<BR></div><DIV>Also, 65 is part of three Pythagorean triples, 16, 63, 65 and 33, 56, 65 and 65, 72, 97. Therefore, 65 is the smallest hypotenuse of two different right triangles that have sides that are natural numbers, since 652 = 632 + 162 and also 652 = 562 + 332.</div><DIV>&#160;<BR></div><DIV>&#160;<BR></div><DIV>SIMILAR SPECIES The multiples of 5 with other medium-sized primes, including 85, 95, 115, 145, 155, and185, have many of the characteristics of 65. They are not as easy to handle arithmetically as multiples of 5 that have a composite factor.</div><DIV>&#160;<BR></div><DIV>&#160;<BR></div><DIV>PERSONALITY In addition to having the virtue of a factor of 5 and the flaw of a factor of 13, 65 is comfortably nestled between 64, which is the sixth power of 2, and 66, which contains an 11. So you have many choices when dealing with computations based on 65. Multiplication by any even number can use the 2 from the evenness and the 5 from 65 to become a 10, so 36 &#215; 65 is the same as 18 &#215; 10 &#215; 13, which may not seem to be an improvement until you mentally rework it as 260 &#215; 9, which is (of course) 2600 -- 260 = 2340.</div><DIV>&#160;<BR></div><DIV>&#160;<BR></div><DIV>ASSOCIATIONS The association most Americans have with 65 is the age of \"senior citizenship.\" It once was the age of retirement, but now people retire anywhere from their fifties on and many prefer not to retire at all. Oddly, as the age for the start of full social security payments in our society is on the increase, the age at which a person can get senior-citizen discounts has dropped in many stores, and is often sixty-two or even sixty. The AARP, America\\'s union of retirees, starts sending you mail when you turn fifty, retired or not.</div></div><DIV><DIV>100 One Hundred C 2 &#215; 2 &#215; 5 &#215; 5</div><DIV>French <i>cent;</i> German <i>hundert;</i> Spanish <i>ciento;</i> Italian <i>cento;</i> Latin <i>centum;</i> Greek <i>hekat&#243;n</i></div><DIV>&#160;<BR></div><DIV>&#160;<BR></div><DIV>FIELD MARKS Since 100 is a power of 10 (102), it is an important part of the decimal system of numeration, but as anumber it seems to have no particular distinction. If we used a numeration system based on 12, for example, the number we now write as 100 would be written as 84, meaning (8 &#215; the base) + 4 (in decimal notation, 96 + 4) and no longer look like anything special. But 100 is not a prime, not a figurate number, not a member of any especially interesting sequence (although it is a perfect square), not a factorial, and so on and on.</div><DIV>&#160;<BR></div><DIV>&#160;<BR></div><DIV>SIMILAR SPECIES Unlike 100, the number 10 is interesting no matter what system of numeration is used (<i>see</i> discussion at 10), but higher powers of 10 are as dull as 100.</div><DIV>&#160;<BR></div><DIV>&#160;<BR></div><DIV>PERSONALITY Despite its ordinariness as a number, its special role in our numeration system makes 100 a vital aid in computation. Any number that is near to 100 can be easily computed by converting the number to 100 plus-orminus the difference. Thus, in computation a number such as 97 can be replaced by 100 -- 3, and 97 &#215; 57, for example, is the same as (100 - 3) &#215; 57 = 5700 - (3 &#215; 57) = 5700 - 171 = 5529.</div><DIV>&#160;<BR></div><DIV>&#160;<BR></div><DIV>ASSOCIATIONS Although in Western society 100 is regarded as the common small round number, just as 40 is in Semitic literature (<i>see</i> discussion at 40), \"hundred\" occurs fewer times than one might expect in common expressions--people often seem to prefer a thousand or a million to indicate many, as in the Chinese proverbs about a picture being worth a thousand words or a journey of a thousand miles beginning with a single step; or in the high-worth images of a million-dollar baby who flashes amillion-dollar smile. While we round to hundreds, we express size with thousands and millions. The time interval of 100 years is common, however, and Franklin D. Roosevelt\\'s administration famously began with 100 days of activity. Among well-known quotations using the word, \"hundred\" is followed by the word \"years\" in more than a third of the instances.</div><DIV>&#160;<BR></div><DIV>&#160;<BR></div><DIV>The relationship of 100 to virgin purity is on the authority of St. Jerome, who also informs us that 30 represents marriage and that 60 stands for widowhood. His reason for these associations comes from the common custom of the time (fifth century A.D.) of representing numbers and calculating with them using the fingers, nails, and knuckles of two hands. In this system the number 30 was symbolized by the somewhat difficult gesture of putting the nails of the index finger and thumb of the left hand together in what the various writers who describe the gesture insist is a \"tender embrace\" or words to that effect. The number 60 involves the same two fingers, but now the fingerprint side of the index finger is on the nail of the thumb. Jerome says that the index finger symbolizes the trouble and tribulation that press down on the widow, who is personified as the thumb. The same gesture on the right hand that means 60 on the left represents 100, which Jerome identifies with virginity only because it is on the other hand from marriage and widowhood.</div><DIV>Jerome\\'s account of the meaning of these numbers emerges as a gloss on a passage in the New Testament known as the Parable of the Sower. Seed that falls on good ground may increase a hundredfold, sixtyfold, or thirtyfold. Jerome, best known for his translation of the Bible, wanted to explain why Jesus chose those three particular numbers (I am not convinced).</div></div><DIV><DIV>120 One Hundred Twenty CXX 2 &#215; 2 &#215; 2 &#215; 3 &#215; 5</div><DIV>FIELD MARKS The number 120 is the least <i>multiply perfect number</i> (read <i>multiply</i> as MUL-tuh-plee, not mul-tuh-PLY). A perfect number is one, like 6 or 28, for which the sum of its divisors, including 1 but not including itself, is equal to the number. A multiply perfect number is one for which the sum of the divisors, as defined, is equal to a multiple of the number. In the case of 120 the sum is 240, which is 2 &#215; 120, so 120 is multiply perfect. Since the sum is twice the original number, 120 is multiply perfect of class 2.</div><DIV>&#160;<BR></div><DIV>&#160;<BR></div><DIV>Other recognizable traits: 120 is 5! (<i>see</i> Factorial Family, pp. 145-146) and part of the Pythagorean triple 119, 120, 169 (<i>see</i> Pythagorean Family, pp. 67-70).</div><DIV>&#160;<BR></div><DIV>&#160;<BR></div><DIV>SIMILAR SPECIES The number 672 is the next multiply perfect number of class 2.</div><DIV>&#160;<BR></div><DIV>&#160;<BR></div><DIV>PERSONALITY The product of any five consecutive integers is a multiple of 120. One of the integers out of any five in a row must be a multiple of 5, and others must be multiples of 4 and 3. This combination gives a factor of 60, but there are two even numbers in any four consecutive integers, so in addition to the factor of 4 there is a factor of 2. Put them all together and you get 120.</div><DIV>&#160;<BR></div><DIV>&#160;<BR></div><DIV>ASSOCIATIONS The \"great hundred\" or \"long hundred\" of Germanic custom was 120 (<i>see</i> discussion at 12).</div></div><DIV><DIV>121 One Hundred Twenty-One CXXI 11 &#215; 11</div><DIV>FIELD MARKS The number 121 is the smallest number that is both a star number (<i>see</i> discussion at 13), being 5<i></i>, and also a perfect square, being 112. Furthermore, it can be expressed in the form <i>p</i>0 + <i>p</i>1 + <i>p</i>2 + <i>p</i>3 + <i>p</i>4 since 112 = 30 + 31 + 32 + 33 + 34. It is the only perfect square that can be expressed as a sum of consecutive powers of a natural number.</div><DIV>&#160;<BR></div><DIV>&#160;<BR></div><DIV>Other distinguishing characteristics: 121 is the least example of a number that is a three-digit palindrome. A palindrome is usually a word or statement that reads the same backward or forward, such as \"radar\" or \"Madam, I\\'m Adam.\" A number palindrome is the same idea: for example, 123,454,321. It has been shown that for all two-digit numbers, reversing the digits and adding will lead to a palindrome, although the steps may have to be repeated. For example, the number 73 reversed is 37, so the steps to a palindrome are</div><DIV><DIV>73 + 37 = 110; 110 + 011 = 121</div></div><DIV>so in this case there are two steps to a palindrome. The champion two-digit number is 89, which does not produce a palindrome until the twenty-fourth step. The resulting palindromic number is 8,813,200,023,188. Notice that 98 is a co-holder with 89 of this title.</div><DIV>&#160;<BR></div><DIV>&#160;<BR></div><DIV>SIMILAR SPECIES The number 11 is the smallest nontrivial palindrome and the only two-digit number that can be a prime palindrome, since all other two-digit palindromes are multiples of 11. There are many three-digit prime palindromes,however--131, 151, 181, 191, 353, 373, 727, 757, 787, 797, 919, and 929.</div><DIV>&#160;<BR></div><DIV>&#160;<BR></div><DIV>PERSONALITY As the square of a prime, 121 is not very tractable for operations such as multiplication or division using methods based on factoring. But 121 is written in our numeration system with the two smallest digits so, as with 111, 112, 211, 212, and 222, it is easy to multiply, add, or subtract no matter what its factors are. Generally it is easier to combine doubling with the standard multiplication algorithm, however, to find quickly products involving 121 instead of simply writing out every step. For example, to find 347 &#215; 121 you could first think 347 doubled is 700 -- 6 = 694, relying on the proximity of 347 to 350. Then the product is</div><DIV>The point here is that the partial products can be found \"in your head\" instead of dealing with one digit at a time.</div></div><DIV><DIV>144 One Hundred Forty-Four CXLIV 2 &#215; 2 &#215; 2 &#215; 2 &#215; 3 &#215; 3</div><DIV>FIELD MARKS The number 144 is the only Fibonacci number (<i>see</i> Fibonacci and Lucas Families, pp. 120-122) that is also a perfect square. Oddly, if you count 1 as the first Fibonacci number so that the sequence begins 1, 1, 2, 3, 5 ... , then 144 is the twelfth Fibonacci number as well as being the square of 12.</div><DIV>&#160;<BR></div><DIV>&#160;<BR></div><DIV>SIMILAR SPECIES The combinations of 2 and 3 repeated several times are easy to use but not always easy to recognize. Put another factor of 2 in 144 and you have 288. Another 3 brings 432, and one more takes you to 1296, the square of 36 and the fourth power of 6.</div><DIV>&#160;<BR></div><DIV>&#160;<BR></div><DIV>PERSONALITY Because it is composed of the two smallest primes each repeated, there are many helpful ways to factor 144. Depending on the computational need, you might use 2, 3, 4, 6, 8, 9, 12, 16, 18, 24, 36, 48, or 72 to unlock a problem involving 144.</div><DIV>&#160;<BR></div><DIV>&#160;<BR></div><DIV>ASSOCIATIONS Twelve dozen, or 144, is also known as a gross, a common unit of measurement for shipping or purchasing sets of small objects. The derivation of the word seems to be from an old word meaning \"large\" or \"thick,\" which also is the original derivation of \"gross\" as coarse, meaning \"disgusting\" or \"repulsive\". But in medicine a \"gross lesion\" is not especially disgusting, just large enough to be seen without using a magnifying instrument.</div></div><DIV><DIV>196 One Hundred Ninety-Six CXCVI 2 &#215; 2 &#215; 7 &#215; 7</div><DIV>FIELD MARKS The number 196 emerges from the study of number palindromes (<i>see</i> discussion at 121). Searches have failed to find a palindrome created by adding 196 to its reverse and repeating the process; this is the smallest number for which no amount of steps tested has produced a palindrome. No one has established whether or not a palindromic sum will eventually appear.</div><DIV>&#160;<BR></div><DIV>&#160;<BR></div><DIV>SIMILAR SPECIES 196 is the square of 14, which is somehow more easily overlooked than the more obvious squares around it: 144 and 169 just below and 225 and 256 just above.</div><DIV>&#160;<BR></div><DIV>&#160;<BR></div><DIV>PERSONALITY For 196, having two factors of 7 is somewhat redeemed by being close to 200, but it is often easier to multiply with half 196, which is 98, than with 196 itself. For example, to find 236 &#215; 196 you would start with 236 &#215; 98 and then break that down to (100 -- 2) &#215; 236. Doubling 236 gives 472, so 236 &#215; 98 is 472 less than 23,600 or 23,128. So 236 &#215; 196 is twice that or 46,256 (a doubling made easier if you have memorized the powers of 2 so that you recognize 256 as twice 128 without doing any computation).</div><DIV>&#160;<BR></div><DIV>&#160;<BR></div><DIV>ASSOCIATIONS Another appearance of 196 is in conjunction with Bode\\'s law, since 196 is the number in the sequence of Bode\\'s law associated with the planet Uranus (<i>see</i> discussion at 28).</div></div><DIV><DIV>220 Two Hundred Twenty CCXX 2 &#215; 2 &#215; 5 &#215; 11</div><DIV>FIELD MARKS The number 220 is one of a pair that are perhaps the most famous nonhuman couple of antiquity, the only two then-known <i>amicable numbers</i> (the other is 284). What makes these numbers more than simply friendly is that the sum of divisors less than the number itself but including 1 (as in the definitions of perfect, abundant, and deficient numbers) for 220 is 284 and the divisors of 284 sum to 220. For the record, the divisors of 220 are 1, 2, 4, 5, 10, 11, 20, 22, 44, 55, and 110.</div><DIV>&#160;<BR></div><DIV>&#160;<BR></div><DIV>SIMILAR SPECIES Aside from 284, the next similar pair of amicable numbers were discovered by Fermat in 1636. They are 17,296 and 18,416. Furthermore, Fermat and Descartes worked out a method of finding at least some such pairs (Descartes gets the credit for 9,363,584 and 9,437,056). Euler and Lagrange went on to find more pairs. These began relatively low with the combination 2620 and 2924 and proceeded to large numbers of digits.</div><DIV>Thus, one of the most astonishing discoveries in mathematics occurred in 1867 when a sixteen-year-old Italian named B. Nicol&#242; I. Paganini (no relation to the violin and guitar virtuoso) found that 1184 and 1210 are amicable.</div></div><DIV><DIV>365 Three Hundred Sixty-Five CCCLXV 5 &#215; 73</div><DIV>FIELD MARKS The number 365 is the smallest number that can be expressed as both the sum of two consecutive perfect squares and the sum of three consecutive perfect squares: specifically, 132 + 142 = 102 + 112 + 122 = 365.</div><DIV>&#160;<BR></div><DIV>&#160;<BR></div><DIV>SIMILAR SPECIES After 365, the next number that is the sum of both two and three consecutive perfect squares is 35,645 = 1332 + 1342 = 1082 + 1092 + 1102. After that comes 3,492,725, which I leave for you to decompose.</div><DIV>&#160;<BR></div><DIV>&#160;<BR></div><DIV>PERSONALITY The difficulty of computing with a product of two primes that is not near any friendly number cannot be alleviated even by working with twice 365, which is 730. It may sometimes be handy to compute the number of days in a particular number of years, keeping leap year in mind. For example, a U.S. president\\'s term of four years is typically 1461 days; two terms is 2922 days.</div><DIV>&#160;<BR></div><DIV>&#160;<BR></div><DIV>ASSOCIATIONS The number 365 is familiar to one and all as the number of days in a year. The statue of the Roman god Janus in the Roman Forum, according to Pliny the Elder, looked forward and backward (he was the god of gates and doorways), and his hands featured the number 365 in classical finger notation, to symbolize the year. January was the month of Janus, which the Romans in 154 B.C. changed to become the beginning of the year from its previous start on March 1. Why change? There was a rebellion in Spain. To speed up a change of commanders, normally an operation taking place at the turn of the year, 154 was given only ten months and the year we call 153 began on January 1. Thus, the two-faced Janus came to symbolize looking forward to the new year and backward to the old. Pliny\\'s description of the statue was written some two hundred years after the change of the start of the year, so there was plenty of time for a tradition to develop.</div></div><DIV><DIV>1001 One Thousand One MI 7 &#215; 11 &#215; 13</div><DIV>PERSONALITY Multiplying by 1001 is exceptionally easy if there are fewer than four digits in the other factor. For a single-digit factor, <i>d</i>, the product is always written <i>d00</i>d (where <i>d</i> is treated as a sign instead of as a number). If the number is shown with two digits as <i>de</i>, product <i>de</i> &#215; 1001 is <i>de</i>0<i>de</i>, while the three-digit version shows <i>def</i> &#215; 1001 = <i>defdef</i>. When there are four or more digits, you actually have to add a bit to get the product, although it is still easy.</div><DIV>&#160;<BR></div><DIV>&#160;<BR></div><DIV>ASSOCIATIONS A number game is based on the idea that multiplying a three-digit number by 1001 is found by writing the digits down twice, a process that is not obviouslymultiplication. If you tell someone to think of a three-digit number and write the digits down twice (thinking, say, of 531 and writing 531531) to get a new number, the resulting multiplication is hidden. Now you can ask the sucker to divide this number by some low primes, steering your mark to 7, 11, and 13 (in any order) with warnings such as \"no, not 17, that\\'s too hard\" or \"not 5, that\\'s too obvious.\" If the divisions are by 7, 11, and 13 and no other numbers, the final quotient will be the number that the sucker chose in the beginning--magic of a sort.</div><DIV>&#160;<BR></div><DIV>&#160;<BR></div><DIV>The idea of excess is often carried by adding \"and 1\" to a larger number, in particular by 1001, as in Scheherazade\\'s tales of the 1001 nights.</div></div><DIV><DIV>1024 One Thousand Twenty-Four MXXIV 2 &#215; 2 &#215; 2 &#215; 2 &#215; 2 &#215; 2 &#215; 2 &#215; 2 &#215; 2 &#215; 2</div><DIV>FIELD MARKS The number 1024 is 210 and as a result occurs in many problems.</div><DIV>&#160;<BR></div><DIV>SIMILAR SPECIES The next higher tenth power is 310, which is 59,049, demonstrating how rapidly powers increase.</div><DIV>&#160;<BR></div><DIV>PERSONALITY Computation involving several powers of 2 is much easier to do with the rules for exponents than by using the decimal expansions. For example, to divide 1024 by 64 think 210 &#247; 26 = 210 - 6 = 24 = 16.</div><DIV>&#160;<BR></div><DIV>ASSOCIATIONS When the prefix <i>kilo</i>- is used in computer terminology, it means 1024, not 1000 (<i>see</i> Powers of 2, p. 171).</div><DIV><DIV>Powers of 2</div><DIV>Numbers such as 2, 4, 8, 16, 32, 64, 128, 256, 512, 1024, 2048, 4096, 8192, 16, 384, 32,768, and 65,536 occur whenever there are only two possibilities to consider. They appear in counting problems that can be analyzed as a sequence of decisions that can be called choose or reject. Perhaps the powers of 2 are most familiar to people today as the numbers that occur repeatedly whenever computers are discussed, but they are usually in disguise. Although the prefix kilo- means 1000, a kilobyte is not 1000 bytes but 1024 bytes. This is because the computer makes a series of choices in the choose-or-reject format, commonly labeled on or off. Thus, if there are ten such choices to be made, the number of possible states for the computer is 210 = 1024, conveniently close to 1000 but not equal to it. As a result, adding 32 gigabytes of memory to your computer is adding rather more than 32,000,000,000 bytes (gigameans 1 billion). Instead, you are adding 32 &#215; 230 = 235 = 34,359,738,368 bytes.</div></div></div><DIV><DIV>1063 The Sand Reckoner\\'s Number</div><DIV>FIELD MARKS In principle the Hindu-Arabic system can be used to write any natural number, no matter how large. The Greeks did not have such a system, and so it was to some degree debatable among them as to how far numbers might reach. While one school of philosophy proposed paradoxes that involved the possibility and impossibility of infinite numbers, other philosophers could cite Aristotle, who proposed that true infinity could never be realized. Thecommon people seem to have thought of infinity as merely a very large number (if they thought of it at all).</div><DIV>Into this situation stepped Archimedes of Syracuse [c. 287-212 B.C.], generally recognized as the greatest all-round mathematician of classical times. His discussion of large numbers, <i>The Sand Reckoner</i>, begins with the following introduction:</div><DIV><DIV>There are some ... who think that the number of the sand is infinite in multitude; and I mean by the sand not only that which exists about Syracuse and the rest of Sicily, but also that which is found in every region whether inhabited or uninhabited. Again there are some who, without regarding it as infinite, yet think that no number has been named which is great enough to exceed its multitude ... . But I will try to show ... of the numbers named by me ... some exceed a mass [of sand] equal in magnitude to the universe.</div></div><DIV>Archimedes then proceeded to compute the volume of the universe based on the premise, put forward a few years earlier by Aristarchus of Samos, that Earth revolves around the Sun and that the celestial sphere of stars is far beyond the orbit of Earth. Archimedes was very careful to say that this strange idea of Aristarchus is just a hypothesis, and he rejected as illogical the suggestion from Aristarchus that the ratio of the distance to the stars to Earth\\'s orbit must be as the diameter of a circle to its center (a nice approximation of what we now know to be the truth if you don\\'t mind dividing by 0, which Archimedes was unwilling to do). But Archimedes began with the idea that the stars are as far from Earth as the ratio of the orbit of Earth is to its diameter. In making his calculation, he deliberately overestimated the size of Earth by a factor of 10 (basing his calculations on then current ideas and measuring in thecommon Greek measure of stadium lengths) and also provided good margins of error on the distances involved, explaining each one carefully. In estimating the volume of grains of sand, for which he errs on the other side, he began with 10,000 grains per poppy seed, 40 poppy seeds measuring the breadth of a finger, and the length of a stadium equal to less than 10,000 finger breadths. When he was done he had every linear measure converted to stadium lengths. From this result, he could calculate the volume first, and then return to number.</div><DIV>Before he could complete his argument, however, Archimedes had to invent a new notation system, and the one that he created is far more powerful than needed to represent the number of grains of sand. At that time the largest number available in the Greek system was the myriad, which is 10,000 in our system. Archimedes proceeded to designate what he called the <i>first order</i> (that is, the first order after the myriad) the \"myriad myriads,\" which we would write as 100,000,000. What he called the <i>second order uses</i> that myriad myriads as its unit, so after another myriad myriads, the numeration system has reached what we would write as 100,000,0002, or the original myriad raised to the fourth power. Archimedes then continued to go order after order until reaching the <i>myriad myriadth order,</i> for which the highest number is 100,000,000100,000,000, which is known as <i>P</i>. The number <i>P</i> might be more recognizable as 10800,000,000.</div><DIV>This vast number of orders completes only the first <i>period</i> in Archimedes\\' system. Then he goes through a series of periods, winding up with the <i>myriad myriadth period</i>. The last number of the last period is 1080,000,000,000,000,000, or 10 to the 80 thousand trillionth power.</div><DIV>This was more than sufficient for his original purpose. The number of grains of sand in a universe, built more or less according to Aristarchus\\' radical idea that Earthrevolves about the Sun, would be less than the number we would write as 1063.</div><DIV>&#160;<BR></div><DIV>SIMILAR SPECIES The largest number encountered by most Americans in the course of their daily lives is the number termed the national debt. At the end of the twentieth century, the national debt of the United States was running at about $6 trillion. As a number in decimal notation that is 6,000,000,000,000, or in scientific notation (see below) 6 &#215; 1012. So the national debt is less than the number of grains of sand in Aristarchus\\' universe. Another familiar number, the number of people on Earth, just reached 6,000,000,000 (one thousandth the U.S. national debt) in 1999--much smaller than the Sand Reckoner\\'s Number.</div><DIV>&#160;<BR></div><DIV>Today the universe is a little bit bigger, and we know of entities much smaller than a grain of sand. Estimates vary, but a typical view of the total number of subatomic particles in the Hubble Space Telescope view of the universe is 1076. This does not seem at first to be much larger than Archimedes\\' number, but it is a bigger difference than is obvious at first sight. Comparisons for numbers shown in the form 10n are particularly easy to make--you need only subtract the numbers represented by the exponents to find by what power of 10 the lower number needs to be multiplied to equal the higher.</div><DIV>Here is a homely example. How much bigger, as a ratio, is a billion than a million? A billion in the United States at least is 1,000,000,000, or 109, while a million is 1,000,000, or 106. So an American billion is 109 - 6 = 103 times as big as a million. (In England the billion is a different number, 1012, which is a trillion in the United States, so an English billion is 106 times or a million times as big as a million. The French go with the American system, the Germans with theEnglish. The main problem comes in books that hope to sell in both England and the United States, causing the authors to write 1,000,000,000 instead of a billion or--in England--milliard and 1,000,000,000,000 instead of a trillion or billion.) Thus, to compare 1076 with 1063 think 76 - 63 = 13, so 1076 is 1013 times as large as 1063. In other terms, a presently accepted estimate for the number of subatomic particles in the universe is 10 trillion times as large as the Sand Reckoner\\'s Number.</div><DIV>&#160;<BR></div><DIV>PERSONALITY Scientists often speak in terms of \"orders of magnitude,\" an expression that is seldom defined explicitly despite its common usage (see discussion at 10). If one number is an order of magnitude greater than another, then the first is ten times the latter. This idea works especially well with the system of notation based on powers of 10 that is known as <i>scientific notation</i>. This notation is useful for the extremely large and small quantities encountered in science and to indicate the precision of a measurement. When we say that the Sand Reckoner\\'s Number is 1063 we are using scientific notation; in ordinary Hindu-Arabic notation the same number would be</div><DIV><DIV>1,000,000,000,000,000,000,000,000,000,000,000, 000,000,000,000,000,000,000,000,000,000</div></div><DIV>which cannot fit on a single line of type, since there are sixty-three 0s following the 1.</div><DIV>But scientific notation would be rather special if it could be used only for powers of 10. Instead, each number is expressed as a decimal fraction that is between 1 and 10 (the multiplier) times an integral power of 10. By keeping the multiplier between 1 and 10, the exponent for the power of 10 tells the size. For example, the number shown inscientific notation as 1.2334 &#215; 109 will be about a billion, an order of magnitude greater than the number 1.2334 &#215; 108. It should be clear that this system, which combines ordinary decimal notation with powers of 10, can be used to express any number whatsoever. If the number is actually a power of 10, the multiplier is omitted. If the number is less than 1, a negative power of 10 is used (<i>see</i> discussion of <i>rational exponents</i> at Genus Rational, 1/4).</div><DIV>One of the many virtues of scientific notation is that computation with numbers expressed in scientific notation is simplified, since (a &#215; 10b) &#215; (c &#215; 10d) is the same number as (a &#215; c) &#215; 10b + d. Similarly, (a &#215; 10b) &#247; (c &#215; 10d) is just (a &#247; c) &#215; 10b - d.</div><DIV>Another virtue of scientific notation is that the decimal multiplier is supposed to show exactly how a measurement was carried out. For example, as a pure amount the numbers 1.2 &#215; 103 and 1.200 &#215; 103 are both the same as 1200. But the number of decimal places should indicate the precision of the measurement. When that convention is used, it is understood that a measurement of 1.2 &#215; 103 meters was measured to the nearest 100 meters, but one of 1.200 &#215; 103 was measured to the nearest meter.</div></div><DIV><DIV>1096 Rotman\\'s Biggest Number</div><DIV>FIELD MARKS According to Brian Rotman of Louisiana State University at Baton Rouge, 1096 is the largest possible number that could be reached by counting using a finite computer operating at a theoretical minimum drain on energy. The effort needed to count this high would exhaust all the energy in the universe, including the dark matter that cannot be detected.</div><DIV>It is Rotman\\'s notion that just as there is a non-Euclidean geometry in which no lines are parallel, such as the system in which a straight line is a great circle on a sphere, there is a non-Euclidean arithmetic in which counting does not extend to infinity. Rotman notes that completed infinities (<i>see</i> discussion at Kingdom Infinity, 8) do not exist in nature, so why should they in mathematics? Counting, the process of iterating one number after another, can go only so far. Rotman figures that counting is limited practically by how high a number can possibly be produced by counting. Since the computer can be programmed to count very fast, he considers the highest number that a theoretically possible computer might reach, which would be limited by energy requirements. Rotman calls numbers higher than that (theoretically) highest possible number, which is 1096, \"transiterates\" instead of numbers. Transiterates might not behave at all like the numbers that can actually be counted. Note that transiterates are not infinities, but \"numbers higher than you can count to.\"</div><DIV>&#160;<BR></div><DIV>SIMILAR SPECIES Rotman\\'s Biggest Number, 1096, is not quite as big as a googol, which is 10100, or 1 followed by a hundred zeroes (see 10100). The difference between the googol and Rotman\\'s Biggest Number is that no entity in the universe could possible count to a googol, which is 10,000 times as big as Rotman\\'s Biggest Number. To Rotman, a googol is merely a fairly small transiterate.</div><DIV>&#160;<BR></div><DIV>Rotman suggests that the largest number one could even imagine counting to by a computer the size of the entire universe would be 1 followed by 1098 zeros, which might be called Rotman\\'s Even Bigger Biggest Number.</div><DIV>&#160;<BR></div><DIV>PERSONALITY Perhaps we forget to use our mental number line when confronted with numbers in exponentialform. It is easier to recognize that 1234 is about a hundred times as big as 12 than it is to observe that 104 is exactly a hundred times 102. My suspicion is that we learn to associate the length of the physical numeral with the size of the number, so that 1096, even if it is the largest number that a perfectly efficient finite computer could count, does not seem nearly as much as 1,234,567,890,987,654,321, which is just a little bit more than a sextillion.</div><DIV>&#160;<BR></div><DIV>ASSOCIATIONS While Rotman considers the theoretical border line between the transiterates and what, on the basis of what a computer can do, he seems to think of as \"actual numbers,\" it might make more sense to put this on a human scale. As everyone who has measured the time in seconds by counting \"a thousand and one, a thousand and two, a thousand and three,\" and so forth will recognize, a person can easily count aloud more than a number name per second up to about 1000; and after that for a time the rate will be about a number name pronounced per second, while some large numbers (\"a billion two hundred thirty-seven million five hundred eighty-nine thousand seven hundred ninety-seven\" for example) take more than a second to name even if you hurry. Consider someone who learns to count at about the age of four and lives to be a hundred and four. How high will the count be at the hour of death? In this counting lifetime there are going to be 100 times 365 days plus extra days for leap years (24 leap years, most likely, since there is no leap day in most years that end with two zeros), so the number of days is 36,524. Each of those days contains 24 hours, for a counting life of 876,576 hours, each hour filled with the counting of 60 &#215; 60 = 3600 number names. Multiply the total hours by 3600, and you hear \"3,155,673,600\" whispered on a dying breath. Thus, in human terms, a number of about 3 billionwould seem to be the largest that might be meaningful, if you accept the idea that no number is meaningful unless it can be reached by counting.</div></div><DIV><DIV>10100 The Googol</div><DIV>FIELD MARKS The famous googol was originally defined by its numeral as 1 with a hundred zeros following it (10100), which was the largest number that could be described (at first) by a bright nine-year-old boy, the nephew of the mathematician and mathematics popularizer Edward Kasner [American, 1878-1955] in the late 1930s. The googol has remained a part of the popular American numeration system, appearing in crossword-puzzle dictionaries, almanacs, and even in standard dictionaries. Mathematicians rarely use it, but scientists sometimes might say \"googol\" as a handy way to refer to a very large number.</div><DIV>&#160;<BR></div><DIV>SIMILAR SPECIES In the book he wrote with James R. Newman, <i>Mathematics and the Imagination</i>, Kasner wanted to point out that very large numbers are different from infinity, and he reported on his experiences in working on very large numbers with kindergarten children. Assisted by Kasner, the children determined that the number of raindrops falling on New York City in a century was less than a googol, and Kasner calculated that the number of grains of sand on Coney Island Beach was about 1020. Kasner also calculated the number of words spoken by all the humans in history (to 1940, of course) as 1016, a number that he also assigned to all the words ever printed. He mentions that as a result of inflation in the 1920s, the Germans had 4.96585346 &#215; 1020 marks in circulation--during thisperiod some housewives famously used wheelbarrows to carry their bills when shopping for groceries.</div><DIV>&#160;<BR></div><DIV>The googol is sometimes illustrated in terms of time or distance. If we take the universe to be about 15 billion years old, which is on the high side of current estimates, then fewer than 1019 seconds have elapsed. Consider a shorter time interval: the second is officially defined as 9,192,631,770 ticks of a cesium atomic clock, but even such a clock would have ticked fewer than 1028 times since the big bang at the start of the universe. The distance in miles from Earth to the Sun averages slightly less than 108 miles, a distance that is somewhat less than 1013 inches. If we assume that the distance from one side of the universe to another is 30 billion light-years, and use the approximation 5,580,000,000,000 for the number of miles in a light-year, then the diameter of the universe is about 1026 miles or 1031 inches, while the circumference does not even come to 1032 inches.</div></div><DIV><DIV>26,972,593 -1 Largest Prime Known (1999)</div><DIV>FIELD MARKS As of 1999, the largest known prime number was 26,972,593 - 1. The number was located as part of the Great Internet Prime Search, a cooperative project that anyone with a moderately powerful computer can join (Web site at http://www.mersenne.org/). The numeral for this large prime has 2,098,960 digits when written in Hindu-Arabic decimal notation instead of the exponential form. This size may not seem like a lot in the context of this discussion of a whole group of very large numbers, but think of it this way: the average word has about four or five letters, depending on the level of difficulty of the text--a romance novel might have four-letterwords on the average and a treatise on quantum physics might have five. So if all the digits in the largest prime were printed as \"words\" containing four digits with spaces between them, the digits would occupy the same space as 419,792 short words, about the length of seven romance novels.</div><DIV>&#160;<BR></div><DIV>SIMILAR SPECIES The number 26,972,593 - 1 is written in this somewhat peculiar form because it is a type of number familiar to mathematicians as a Mersenne prime (<i>see also</i> Mersenne Family, pp. 85-87). Numbers of the form 2<i>p</i> - 1 where <i>p</i> is a prime number are called Mersenne numbers, and if the resulting number is also prime, then 2<i>p</i> - 1 is a Mersenne <i>prime</i>. (Some writers call a number a Mersenne number only if it is also prime.) Mathematicians have found special methods for testing any Mersenne number to determine whether or not it is prime. Nevertheless, 26,972,593 - 1 is so large that it took 111 days of calculation on a desktop computer to determine that it was prime and not composite, although if the computer had done nothing else during that time it could have been checked in about three weeks. The number 26,972,593 - 1 is only the thirty-eighth Mersenne prime found, although it may not be the thirty-eighth Mersenne prime: not all candidates less than 26,972,593 - 1 have been checked.</div><DIV>It may seem peculiar that anyone would be especially interested in numbers of the form 2<i>p</i> - 1, but fascination with such numbers has a tradition in mathematics that traces back to Euclid. Euclid\\'s theorem on perfect numbers (<i>see</i> discussion at 6) states that all numbers formed as the product of 2<i>n</i> - 1 and 2<i>n</i> - 1 are perfect numbers provided that 2<i>n</i> - 1 is prime. The first few numbers n that you might examine are <i>n</i> = 0, 1, 2, 3, 4, 5. When <i>n</i> = 0, 2<i>n</i> - 1 becomes 1 - 1 = 0, so that gets you nowhere. Similarly,when <i>n</i> = 1, the number expressed by 2<i>n</i> - 1 is also 1; thus, <i>n</i> = 1 is excluded from consideration by Euclid\\'s theorem because 1 is not considered a prime.</div><DIV>The first allowable instance is for <i>n</i> = 2, in which case 2<i>n</i> - 1 is 3, which is prime. Then Euclid\\'s theorem states that the product of 22 - 1 = 2 and 22 - 1 = 3 will be a perfect number, and indeed 6 is perfect. Similarly, when <i>n</i> = 3 the number 2<i>n</i> - 1 is 7, which is prime, the number 23 - 1 is 4, and the Euclidean product is 4 &#215; 7 = 28, which is also perfect. But when one looks at <i>n</i> = 4, the number 2\" - 1 is 15, which is not prime, so Euclid\\'s theorem does not apply. Next up is n = 5, which produces 31, another prime, so Euclid\\'s theorem again applies. The other factor is 25 - 1 = 16, and the product is 16 &#215; 31, which is 496, yet another perfect number.</div><DIV>It cannot escape notice that in these calculations 2<i>n</i> - 1 was prime when <i>n</i> was also prime, which might suggest that this will always be the case. Mersenne, however, concluded from his investigations that the only primes <i>p</i> for which 2<i>p</i> - 1 is also prime are 2, 3, 5, 7, 13, 17, 19, 31, 67, 127, and 257. It was this assertion that made Mersenne eponymous, although in the course of mathematical investigation Mersenne was proved wrong. But Mersenne was correct in observing that not all numbers of the form 2<i>p</i> - 1 are prime. For example, if <i>p</i> is 11, the number 211 - 1 = 2047, which can be factored as 23 &#215; 89.</div><DIV>Before the days of computers, calculations of Mersenne numbers and tests of whether they are prime or composite were very difficult. Mersenne himself overlooked <i>p</i> = 61, 89, and 107, all of which are less than the highest numbers of his conjecture.</div><DIV>&#160;<BR></div><DIV>PERSONALITY Pierre Fermat in June 1640 wrote to Mersenne about some of the properties of 2<i>n</i> - 1 that hehad unearthed. Fermat showed that if <i>n</i> is not prime, then neither can 2<i>n</i> - 1 be prime, and also that 2<i>p</i> - 1, where <i>p</i> is prime, can be divisible only by numbers of the form <i>2kp</i> + 1, where <i>k</i> is a natural number.</div><DIV>&#160;<BR></div><DIV>ASSOCIATIONS Although 26,972,593 - 1 is the largest prime recognized as of 1999 (discovered on June 1), it is certainly not the largest prime that exists and very likely not the largest prime that will be known by the year 2000. It seems that since computers have become common that someone encounters a prime larger than any previously known about once every three years, although I have not done a careful study of this. The pace may be picking up, since \"largest primes\" were found in 1996, 1997, and 1998 as well as 1999.</div><DIV>&#160;<BR></div><DIV>The reason that one can say with certainty that 26,972,593 - 1 is not the largest prime is that more than 2000 years ago in one of the most significant proofs of mathematics Euclid proved that there is no largest prime. Here is a brief sketch of Euclid\\'s Proposition 20 from Book IX: prime numbers are more than any assigned multitude of prime numbers.</div><DIV>Consider that the number <i>N</i> is the largest prime there is. Form the product of all the primes less than <i>N</i>, which is surely a natural number, which we can call <i>P</i>. Note that <i>P</i> is greater than <i>N</i>, the largest prime. Now consider an even larger number, <i>P</i> + 1. If <i>P</i> + 1 is prime, the theorem is proved, since there is a prime greater than <i>N</i>. But if <i>P</i> + 1 is not prime, then it has a divisor that is a prime. Could that divisor be any of the primes less than <i>N</i>? No, because each of these when divided into <i>P</i> + 1 will leave a remainder of 1. Therefore, if there is a number that divides <i>P</i> + 1, that number must be larger than <i>N</i>. Hence, <i>N</i> is not, as assumed, the largest prime.</div></div><DIV><DIV><i></i> Rotman\\'s Even Bigger Biggest Number</div><DIV>FIELD MARKS According to Brian Rotman (<i>see</i> discussion at 1096), <i></i> is the largest \"practical\" number possible. If one designed a computer that was as large as the entire universe, a computer whose sole job is to store numbers from 1 to as high as one can go, this would be the largest storable number. Under his prescribed conditions, the universe-sized computer having stored from 1 to the number that is 1 less than</div><DIV><DIV><i></i></div></div><DIV>would then require all the energy in the universe to store one more number.</div><DIV>&#160;<BR></div><DIV>SIMILAR SPECIES The number 1096 is calculated by Rotman to be the highest number that an ideal computer that is less than the size of the entire universe, but which operates using the theoretical minimum of energy, could count to before it used all the mass-energy in the universe.</div><DIV>&#160;<BR></div><DIV>A number that is sometimes put forward as the number of combinations of genes possible for humans is 102,400,000,000, a determination based on the theory of counting arrangements of sets. This number, like many of the other large numbers from science, is based on some assumptions that have yet to be pinned down as facts. No one at this time knows the number of genes in the average human, and I have seen estimates that range from 50,000 to 200,000.</div><DIV>Even the smallest possible number of genes would allow for a large number of combinations. With some exceptions, each person inherits at random one of each pair of genes from the mother and one from the father (some genes fromthe mother are unpaired in male offspring, and there may be other instances related to sex of unpaired genes). The normal way of calculating this kind of choice is that for the first gene pair there are two choices for each gene in the pair--the mother\\'s gene or the father\\'s. The possible combinations are MM, MF, FM, and FF (that is, both from the mother, two different ways to get one gene from the mother and one from the father, and both from the father). Each of these combinations might be paired with one of the four similar combinations for the second gene pair, producing 42 = 16 possible combinations from two gene pairs. Add another gene pair and each of the sixteen from the two pairs can combine with one of the four possibilities for the pair, bringing the number to 43 = 64 combinations. As you can see, if this analysis accounts for all the variation, the total number of combinations would be somewhere between 450,000 and 4200,000, depending on how many gene pairs there are. But even 4200,000 is far short of 102,400,000. My spreadsheet program won\\'t calculate anything larger than 4511 (don\\'t ask me why 511 is OK but not 512--my guess is that I must be running out of registers on my 32-bit computer). From this computer calculation, however, I can observe that 4511 is not quite as much as 10308.</div><DIV>But the biology is far more involved than just four possible combinations for each gene. That is because humans have many different possibilities, or alleles, for each gene. So the mother\\'s gene for a particular trait might come in as many as 200 different forms, while the father\\'s gene for that trait might also come in the same number of different forms. Unless one has some estimate of the number of possible variations, it is hard to see how the correct number of possibilities can be counted. Furthermore, some combinations of nonlethal genes could be lethal, reducing the number of viable humans. In any case, the number of humans who have lived since the beginning of our species is probably lessthan 20 billion and therefore certainly fewer than 1010. So even if there were only 10308 possible combinations, we would be a long way from running out of different people.</div><DIV>&#160;<BR></div><DIV>Another frequently cited number that is somewhere in the vicinity of Rotman\\'s Even Bigger Biggest Number is the number of possible moves in a chess game. This is calculated to be</div><DIV>It might be tempting to think that this is about half Rotman\\'s Even Bigger Biggest Number since 50 is about half 98, but that would be far from the mark. If you think of this number as 1 followed by 1050 0s and the larger Rotman number as 1 followed by 1098 0s, then you can calculate by subtracting 50 from 98 that the Rotman number is 1-followed-by-1048 0s times as large as the number of chess moves.</div><DIV>&#160;<BR></div><DIV>Surprisingly, however, Rotman\\'s Even Bigger Biggest Number is just slightly <i>smaller</i> than a number that was invented to be as big a number as anyone might think of. This number is the googolplex, which is 1 followed by a googol of zeros (<i>see</i> 10googol). Although the googolplex was invented to be as large a number as one might think of, it is clearly nowhere near as large as 1 followed by a googolplex of zeros, a number so great that it fails even to have a name.</div><DIV>&#160;<BR></div><DIV>For many years the largest number with which anyone dealt was Skewes\\'s number, which occurs in a mathematical proof. It is usually given as</div><DIV>which, since it is the same as</div><DIV>can easily be seen to be much larger than Rotman\\'s Even Bigger Biggest Number. A more recent version of Skewes\\'s proof, however, has reduced the number needed to make the proof work to a mere 101167, which is much smaller than Rotman\\'s Even Bigger Biggest Number, although larger than Rotman\\'s Biggest Number.</div><DIV>&#160;<BR></div><DIV>PERSONALITY It is difficult to imagine a number as great as this. Since 1096 is Rotman\\'s proposed largest number that is even theoretically possible, this number, 1 followed by 1098 zeros, has a hundred times as many zeros as a finite, less-than-universe-sized computer could even count.</div></div><DIV><DIV>10googol <i></i> The Googolplex</div><DIV>FIELD MARKS The googolplex, like the googol (see 10100), was proposed by Edward Kasner\\'s nine-year-old nephew in the 1940s as a number even larger than the (previously) largest number he could imagine. It remains the largest number that is occasionally mentioned by writers about mathematics, most often to show how even very large numbers can be expressed compactly or to provide a readily comprehended example of a very large number.</div><DIV>&#160;<BR></div><DIV>SIMILAR SPECIES Notice that the googolplex is even somewhat larger than Rotman\\'s Even Bigger Biggest Number, so that no imaginable process could count it out.</div></div></div></div><DIV>&#169; 2000 by Bryan Bunch All rights reserved.</div>'"
      ]
     },
     "metadata": {},
     "execution_count": 13
    },
    {
     "output_type": "display_data",
     "data": {
      "application/javascript": "\n            setTimeout(function() {\n                var nbb_cell_id = 13;\n                var nbb_unformatted_code = \"df.loc[df.description.str.len().idxmax(), \\\"description\\\"]\";\n                var nbb_formatted_code = \"df.loc[df.description.str.len().idxmax(), \\\"description\\\"]\";\n                var nbb_cells = Jupyter.notebook.get_cells();\n                for (var i = 0; i < nbb_cells.length; ++i) {\n                    if (nbb_cells[i].input_prompt_number == nbb_cell_id) {\n                        if (nbb_cells[i].get_text() == nbb_unformatted_code) {\n                             nbb_cells[i].set_text(nbb_formatted_code);\n                        }\n                        break;\n                    }\n                }\n            }, 500);\n            ",
      "text/plain": [
       "<IPython.core.display.Javascript object>"
      ]
     },
     "metadata": {}
    }
   ],
   "metadata": {
    "ExecuteTime": {
     "end_time": "2021-09-11T04:57:55.121892Z",
     "start_time": "2021-09-11T04:57:46.296897Z"
    }
   }
  },
  {
   "cell_type": "markdown",
   "source": [
    "It's not weird, but it's filled with HTML formatting. Reminds me a philosophy of mathematics course I once took. It'd make me a little sad to drop this one, though it does contain a lot of irrelevant detail.\n",
    "\n",
    "Next, I'll strip out HTML tags to get more useful length measurements."
   ],
   "metadata": {}
  },
  {
   "cell_type": "code",
   "execution_count": 14,
   "source": [
    "df[\"description\"] = lang.strip_html_tags(df.loc[:, \"description\"], n_jobs=-1)\r\n",
    "df.head()"
   ],
   "outputs": [
    {
     "output_type": "execute_result",
     "data": {
      "text/html": [
       "<div>\n",
       "<style scoped>\n",
       "    .dataframe tbody tr th:only-of-type {\n",
       "        vertical-align: middle;\n",
       "    }\n",
       "\n",
       "    .dataframe tbody tr th {\n",
       "        vertical-align: top;\n",
       "    }\n",
       "\n",
       "    .dataframe thead th {\n",
       "        text-align: right;\n",
       "    }\n",
       "</style>\n",
       "<table border=\"1\" class=\"dataframe\">\n",
       "  <thead>\n",
       "    <tr style=\"text-align: right;\">\n",
       "      <th></th>\n",
       "      <th>description</th>\n",
       "      <th>main_cat</th>\n",
       "    </tr>\n",
       "    <tr>\n",
       "      <th>asin</th>\n",
       "      <th></th>\n",
       "      <th></th>\n",
       "    </tr>\n",
       "  </thead>\n",
       "  <tbody>\n",
       "    <tr>\n",
       "      <th>6305121869</th>\n",
       "      <td>(=^ ^=) 1.It is made of high quality materials...</td>\n",
       "      <td>Movies &amp; TV</td>\n",
       "    </tr>\n",
       "    <tr>\n",
       "      <th>6318708057</th>\n",
       "      <td>Hi friend, welcome to our store. Before purcha...</td>\n",
       "      <td>&lt;img src=\"https://images-na.ssl-images-amazon....</td>\n",
       "    </tr>\n",
       "    <tr>\n",
       "      <th>6342506256</th>\n",
       "      <td>Gaok men's pants are all made from cotton mate...</td>\n",
       "      <td>&lt;img src=\"https://images-na.ssl-images-amazon....</td>\n",
       "    </tr>\n",
       "    <tr>\n",
       "      <th>6342509379</th>\n",
       "      <td>pant size(Unit:inch) W30(tag30) Waist: 30.0 Hi...</td>\n",
       "      <td>&lt;img src=\"https://images-na.ssl-images-amazon....</td>\n",
       "    </tr>\n",
       "    <tr>\n",
       "      <th>6342522081</th>\n",
       "      <td>All of our sunglasses offer protection against...</td>\n",
       "      <td>Sports &amp; Outdoors</td>\n",
       "    </tr>\n",
       "  </tbody>\n",
       "</table>\n",
       "</div>"
      ],
      "text/plain": [
       "                                                  description  \\\n",
       "asin                                                            \n",
       "6305121869  (=^ ^=) 1.It is made of high quality materials...   \n",
       "6318708057  Hi friend, welcome to our store. Before purcha...   \n",
       "6342506256  Gaok men's pants are all made from cotton mate...   \n",
       "6342509379  pant size(Unit:inch) W30(tag30) Waist: 30.0 Hi...   \n",
       "6342522081  All of our sunglasses offer protection against...   \n",
       "\n",
       "                                                     main_cat  \n",
       "asin                                                           \n",
       "6305121869                                        Movies & TV  \n",
       "6318708057  <img src=\"https://images-na.ssl-images-amazon....  \n",
       "6342506256  <img src=\"https://images-na.ssl-images-amazon....  \n",
       "6342509379  <img src=\"https://images-na.ssl-images-amazon....  \n",
       "6342522081                                  Sports & Outdoors  "
      ]
     },
     "metadata": {},
     "execution_count": 14
    },
    {
     "output_type": "display_data",
     "data": {
      "application/javascript": "\n            setTimeout(function() {\n                var nbb_cell_id = 14;\n                var nbb_unformatted_code = \"df[\\\"description\\\"] = lang.strip_html_tags(df.loc[:, \\\"description\\\"], n_jobs=-1)\\ndf.head()\";\n                var nbb_formatted_code = \"df[\\\"description\\\"] = lang.strip_html_tags(df.loc[:, \\\"description\\\"], n_jobs=-1)\\ndf.head()\";\n                var nbb_cells = Jupyter.notebook.get_cells();\n                for (var i = 0; i < nbb_cells.length; ++i) {\n                    if (nbb_cells[i].input_prompt_number == nbb_cell_id) {\n                        if (nbb_cells[i].get_text() == nbb_unformatted_code) {\n                             nbb_cells[i].set_text(nbb_formatted_code);\n                        }\n                        break;\n                    }\n                }\n            }, 500);\n            ",
      "text/plain": [
       "<IPython.core.display.Javascript object>"
      ]
     },
     "metadata": {}
    }
   ],
   "metadata": {
    "ExecuteTime": {
     "end_time": "2021-09-11T05:02:02.212508Z",
     "start_time": "2021-09-11T04:57:55.126894Z"
    }
   }
  },
  {
   "cell_type": "code",
   "execution_count": 15,
   "source": [
    "df.sort_values(\r\n",
    "    \"description\",\r\n",
    "    key=lambda x: x.str.len(),\r\n",
    "    ascending=False,\r\n",
    "    inplace=True,\r\n",
    ")\r\n",
    "df.head(20)"
   ],
   "outputs": [
    {
     "output_type": "execute_result",
     "data": {
      "text/html": [
       "<div>\n",
       "<style scoped>\n",
       "    .dataframe tbody tr th:only-of-type {\n",
       "        vertical-align: middle;\n",
       "    }\n",
       "\n",
       "    .dataframe tbody tr th {\n",
       "        vertical-align: top;\n",
       "    }\n",
       "\n",
       "    .dataframe thead th {\n",
       "        text-align: right;\n",
       "    }\n",
       "</style>\n",
       "<table border=\"1\" class=\"dataframe\">\n",
       "  <thead>\n",
       "    <tr style=\"text-align: right;\">\n",
       "      <th></th>\n",
       "      <th>description</th>\n",
       "      <th>main_cat</th>\n",
       "    </tr>\n",
       "    <tr>\n",
       "      <th>asin</th>\n",
       "      <th></th>\n",
       "      <th></th>\n",
       "    </tr>\n",
       "  </thead>\n",
       "  <tbody>\n",
       "    <tr>\n",
       "      <th>0716744473</th>\n",
       "      <td>Bryan Bunch has extensive experience as a writ...</td>\n",
       "      <td>Books</td>\n",
       "    </tr>\n",
       "    <tr>\n",
       "      <th>067164811X</th>\n",
       "      <td>Daniel Reid was born and educated in America a...</td>\n",
       "      <td>Books</td>\n",
       "    </tr>\n",
       "    <tr>\n",
       "      <th>0312006705</th>\n",
       "      <td>Peter Hathaway Capstick is the author of many ...</td>\n",
       "      <td>Books</td>\n",
       "    </tr>\n",
       "    <tr>\n",
       "      <th>0312354614</th>\n",
       "      <td>Terry J. Erdmann is the author or co-author of...</td>\n",
       "      <td>Books</td>\n",
       "    </tr>\n",
       "    <tr>\n",
       "      <th>0671763326</th>\n",
       "      <td>Jack Maguire author of Creative Storytelling a...</td>\n",
       "      <td>Books</td>\n",
       "    </tr>\n",
       "    <tr>\n",
       "      <th>0716741717</th>\n",
       "      <td>J. Warren Evans is Professor of Animal Science...</td>\n",
       "      <td>Books</td>\n",
       "    </tr>\n",
       "    <tr>\n",
       "      <th>0312329288</th>\n",
       "      <td>Ellen Datlow is the acclaimed editor of such a...</td>\n",
       "      <td>Books</td>\n",
       "    </tr>\n",
       "    <tr>\n",
       "      <th>0441015026</th>\n",
       "      <td>Alastair Reynolds was born in Barry, South Wal...</td>\n",
       "      <td>Books</td>\n",
       "    </tr>\n",
       "    <tr>\n",
       "      <th>0142437859</th>\n",
       "      <td>Emma Goldman (1869&amp;ndash;1940) came to America...</td>\n",
       "      <td>Books</td>\n",
       "    </tr>\n",
       "    <tr>\n",
       "      <th>1468309323</th>\n",
       "      <td>Jon M. Huntsman, SR. is the author of the Wall...</td>\n",
       "      <td>Books</td>\n",
       "    </tr>\n",
       "    <tr>\n",
       "      <th>0738700975</th>\n",
       "      <td>Poppy Palin is a qualified and experienced art...</td>\n",
       "      <td>Books</td>\n",
       "    </tr>\n",
       "    <tr>\n",
       "      <th>0143116673</th>\n",
       "      <td>Nandan Nilekani is the cofounder and cochairma...</td>\n",
       "      <td>Books</td>\n",
       "    </tr>\n",
       "    <tr>\n",
       "      <th>0070382980</th>\n",
       "      <td>Andy Knapp is the paddlesports specialist and ...</td>\n",
       "      <td>Books</td>\n",
       "    </tr>\n",
       "    <tr>\n",
       "      <th>0451529154</th>\n",
       "      <td>William L. Andrews is E. Maynard Adams Profess...</td>\n",
       "      <td>Books</td>\n",
       "    </tr>\n",
       "    <tr>\n",
       "      <th>B00LQDEF5Q</th>\n",
       "      <td>Manufacturer Model Number KitchenAid KUDS01DJS...</td>\n",
       "      <td>Tools &amp; Home Improvement</td>\n",
       "    </tr>\n",
       "    <tr>\n",
       "      <th>1439199094</th>\n",
       "      <td>As one of Hollywood's most sought after hairst...</td>\n",
       "      <td>Books</td>\n",
       "    </tr>\n",
       "    <tr>\n",
       "      <th>0143118056</th>\n",
       "      <td>Stanislas Dehaene is the director of the Cogni...</td>\n",
       "      <td>Books</td>\n",
       "    </tr>\n",
       "    <tr>\n",
       "      <th>0895295482</th>\n",
       "      <td>Dr. Morton Walker is an award-winning professi...</td>\n",
       "      <td>Books</td>\n",
       "    </tr>\n",
       "    <tr>\n",
       "      <th>1560850779</th>\n",
       "      <td>Stan Larson is the curator for the Utah Histor...</td>\n",
       "      <td>Books</td>\n",
       "    </tr>\n",
       "    <tr>\n",
       "      <th>0393968200</th>\n",
       "      <td>The Ex-queen Among The Astronomers by Karen Fl...</td>\n",
       "      <td>Books</td>\n",
       "    </tr>\n",
       "  </tbody>\n",
       "</table>\n",
       "</div>"
      ],
      "text/plain": [
       "                                                  description  \\\n",
       "asin                                                            \n",
       "0716744473  Bryan Bunch has extensive experience as a writ...   \n",
       "067164811X  Daniel Reid was born and educated in America a...   \n",
       "0312006705  Peter Hathaway Capstick is the author of many ...   \n",
       "0312354614  Terry J. Erdmann is the author or co-author of...   \n",
       "0671763326  Jack Maguire author of Creative Storytelling a...   \n",
       "0716741717  J. Warren Evans is Professor of Animal Science...   \n",
       "0312329288  Ellen Datlow is the acclaimed editor of such a...   \n",
       "0441015026  Alastair Reynolds was born in Barry, South Wal...   \n",
       "0142437859  Emma Goldman (1869&ndash;1940) came to America...   \n",
       "1468309323  Jon M. Huntsman, SR. is the author of the Wall...   \n",
       "0738700975  Poppy Palin is a qualified and experienced art...   \n",
       "0143116673  Nandan Nilekani is the cofounder and cochairma...   \n",
       "0070382980  Andy Knapp is the paddlesports specialist and ...   \n",
       "0451529154  William L. Andrews is E. Maynard Adams Profess...   \n",
       "B00LQDEF5Q  Manufacturer Model Number KitchenAid KUDS01DJS...   \n",
       "1439199094  As one of Hollywood's most sought after hairst...   \n",
       "0143118056  Stanislas Dehaene is the director of the Cogni...   \n",
       "0895295482  Dr. Morton Walker is an award-winning professi...   \n",
       "1560850779  Stan Larson is the curator for the Utah Histor...   \n",
       "0393968200  The Ex-queen Among The Astronomers by Karen Fl...   \n",
       "\n",
       "                            main_cat  \n",
       "asin                                  \n",
       "0716744473                     Books  \n",
       "067164811X                     Books  \n",
       "0312006705                     Books  \n",
       "0312354614                     Books  \n",
       "0671763326                     Books  \n",
       "0716741717                     Books  \n",
       "0312329288                     Books  \n",
       "0441015026                     Books  \n",
       "0142437859                     Books  \n",
       "1468309323                     Books  \n",
       "0738700975                     Books  \n",
       "0143116673                     Books  \n",
       "0070382980                     Books  \n",
       "0451529154                     Books  \n",
       "B00LQDEF5Q  Tools & Home Improvement  \n",
       "1439199094                     Books  \n",
       "0143118056                     Books  \n",
       "0895295482                     Books  \n",
       "1560850779                     Books  \n",
       "0393968200                     Books  "
      ]
     },
     "metadata": {},
     "execution_count": 15
    },
    {
     "output_type": "display_data",
     "data": {
      "application/javascript": "\n            setTimeout(function() {\n                var nbb_cell_id = 15;\n                var nbb_unformatted_code = \"df.sort_values(\\n    \\\"description\\\",\\n    key=lambda x: x.str.len(),\\n    ascending=False,\\n    inplace=True,\\n)\\ndf.head(20)\";\n                var nbb_formatted_code = \"df.sort_values(\\n    \\\"description\\\",\\n    key=lambda x: x.str.len(),\\n    ascending=False,\\n    inplace=True,\\n)\\ndf.head(20)\";\n                var nbb_cells = Jupyter.notebook.get_cells();\n                for (var i = 0; i < nbb_cells.length; ++i) {\n                    if (nbb_cells[i].input_prompt_number == nbb_cell_id) {\n                        if (nbb_cells[i].get_text() == nbb_unformatted_code) {\n                             nbb_cells[i].set_text(nbb_formatted_code);\n                        }\n                        break;\n                    }\n                }\n            }, 500);\n            ",
      "text/plain": [
       "<IPython.core.display.Javascript object>"
      ]
     },
     "metadata": {}
    }
   ],
   "metadata": {
    "ExecuteTime": {
     "end_time": "2021-09-11T05:02:11.503509Z",
     "start_time": "2021-09-11T05:02:02.213507Z"
    }
   }
  },
  {
   "cell_type": "markdown",
   "source": [
    "All the longest descriptions are for books. That's hardly surprising. Let's look at the one that's not a book, B00LQDEF5Q."
   ],
   "metadata": {}
  },
  {
   "cell_type": "code",
   "execution_count": 16,
   "source": [
    "df.at[\"B00LQDEF5Q\", \"description\"]"
   ],
   "outputs": [
    {
     "output_type": "execute_result",
     "data": {
      "text/plain": [
       "'Manufacturer Model Number KitchenAid KUDS01DJSS0 KitchenAid KUDS01FLSS6 KitchenAid KUDS01FLSS2 KitchenAid KUDS01FLSS1 KitchenAid KUDS01IJBS0 KitchenAid KUDR01TJBL0 KitchenAid KUDS01FLSS3 KitchenAid KUDS01DJBL0 KitchenAid KUDM01TJBL0 KitchenAid KUDS01IJWH0 KitchenAid KUDM01TJBS0 KitchenAid KUDP01FLSS1 KitchenAid KUDR01TJWH0 KitchenAid KUDS01FLSS5 KitchenAid KUDP01FLSS6 Whirlpool GU1100XTLQ1 KitchenAid KUDI01TJBL0 KitchenAid KUDP01FLSS3 KitchenAid KUDS01IJBL0 KitchenAid KUDS01FKSS0 KitchenAid KUDI01FLSS6 KitchenAid KUDM01TJWH0 KitchenAid KUDP01FLSS2 KitchenAid KUDI01FLSS3 KitchenAid KUDI01ILBL2 KitchenAid KUDI01FLSS2 KitchenAid KUDS01FLSS0 Whirlpool GU1200XTLB3 KitchenAid KUDS01FKSS1 KitchenAid KUDS02FRSS1 Whirlpool GU2400XTPS3 KitchenAid KUDM01TJBT0 KitchenAid KUDI01ILBL6 Whirlpool GU1100XTLB1 Whirlpool GU1500XTLQ1 KitchenAid KUDS02FRSS0 KitchenAid KUDI01ILBL3 KitchenAid KUDS01FLBL1 KitchenAid KUDI01TJWH0 KitchenAid KUDI01FLSS1 KitchenAid KUDP01FLSS0 KitchenAid KUDP01FLSS5 KitchenAid KUDS01FLBL6 Whirlpool GU1200XTLS1 KitchenAid KUDI01ILWH6 Whirlpool GU1200XTLQ1 Whirlpool GU2400XTPS1 KitchenAid KUDI01ILBL1 Whirlpool GU1200XTLQ0 KitchenAid KUDR01TJBL1 KitchenAid KUDS01DJSS1 Whirlpool GU2400XTPB3 KitchenAid KUDP02CRBS1 KitchenAid KUDS01IJBT0 Whirlpool GU1200XTLS0 Whirlpool GU1500XTLQ2 KitchenAid KUDI01ILBL0 Whirlpool GU1500XTLQ0 Whirlpool GU2400XTPB1 Whirlpool GU2400XTPQ3 KitchenAid KUDM01FKSS0 Whirlpool GU1200XTLB0 Whirlpool GU1200XTLB1 Whirlpool GU1500XTLS1 Whirlpool GU2400XTPS6 KitchenAid KUDS01IJAL0 Whirlpool GU1200XTLB2 KitchenAid KUDI01ILWH1 KitchenAid KUDI02IRWH1 KitchenAid KUDL02FRSS0 KitchenAid KUDP02CRBL0 Whirlpool GU1200XTLQ2 KitchenAid KUDI01FLSS0 KitchenAid KUDI01FLSS5 KitchenAid KUDP01ILBL0 Whirlpool GU1500XTLB1 KitchenAid KUDS01FLBL2 KitchenAid KUDP02FRSS0 KitchenAid KUDS01DJWH0 KitchenAid KUDS01DLSS6 KitchenAid KUDS01IJBS1 Whirlpool GU1200XTLT0 KitchenAid KUDP01ILWH3 KitchenAid KUDS01FLWH1 KitchenAid KUDS02FRBL1 Whirlpool GU1100XTLT1 KitchenAid KUDS01FLBL3 Whirlpool GU2500XTPS1 KitchenAid KUDI01ILWH2 KitchenAid KUDM01TJWH1 KitchenAid KUDP02FRSS1 KitchenAid KUDS01DJSP0 Whirlpool DU1145XTPB0 Whirlpool GU1200XTLT1 Whirlpool GU1200XTLT2 Whirlpool GU1500XTLS2 KitchenAid KUDL02IRBS0 KitchenAid KUDP01DLBL0 KitchenAid KUDR01TJBT0 KitchenAid KUDS01DLSS3 KitchenAid KUDS01FKPA0 Whirlpool DU1145XTPB6 Whirlpool GU1108XTLB1 Whirlpool GU2500XTPQ3 KitchenAid KUDI01TJWH1 KitchenAid KUDK01ILBS6 KitchenAid KUDP01ILWH2 KitchenAid KUDS01DJSB0 Whirlpool GU2400XTPB6 KitchenAid KUDL01ILBS3 KitchenAid KUDP02CRBS2 KitchenAid KUDS01DLSS1 Whirlpool DU1145XTPQ6 Whirlpool GU1500XTLT2 Whirlpool GU2500XTPB3 KitchenAid KUDI01DLBL0 KitchenAid KUDK01TKBL0 KitchenAid KUDM01TJBL1 KitchenAid KUDP01FLBL1 KitchenAid KUDS01FLBL5 Whirlpool DU1145XTPB1 Whirlpool GU1200XTLS2 Whirlpool GU1500XTLB0 Whirlpool GU2500XTPS3 KitchenAid KUDL02IRBS1 KitchenAid KUDM01TJBS1 KitchenAid KUDP01FLBL0 KitchenAid KUDP01ILBL3 KitchenAid KUDP01ILBS6 KitchenAid KUDP02CRBL1 KitchenAid KUDS01DLSS0 KitchenAid KUDS01FKPA1 Whirlpool DU1100XTPS6 Whirlpool GU1500XTLB2 Whirlpool GU2400XTPT6 Whirlpool GU2500XTPQ1 Whirlpool GU2500XTPS6 KitchenAid KUDI01DLBL3 KitchenAid KUDI01ILBL5 KitchenAid KUDP01ILWH6 KitchenAid KUDS01DLBL1 Whirlpool GU2500XTPB0 KitchenAid KUDI01TJBL1 KitchenAid KUDI02CRBS1 KitchenAid KUDI02IRWH0 KitchenAid KUDP01DLBS1 Whirlpool DU1100XTPB0 Whirlpool DU1100XTPB1 Whirlpool DU1100XTPQ6 Whirlpool DU1145XTPB3 Whirlpool GU1500XTLT1 Whirlpool GU2400XTPB0 Whirlpool GU2400XTPQ6 KitchenAid KUDI01ILBS2 KitchenAid KUDI01ILWH0 KitchenAid KUDP01FLBL5 KitchenAid KUDP01ILBL1 KitchenAid KUDP01ILBL6 KitchenAid KUDP01ILBS2 KitchenAid KUDP01ILWH0 KitchenAid KUDS01FLWH3 Whirlpool GU1100XTLS1 Whirlpool GU1200XTLT3 Whirlpool GU2500XTPB1 KitchenAid KUDI01ILWH3 KitchenAid KUDI02FRSS0 KitchenAid KUDI02FRSS1 KitchenAid KUDL02IRBS2 KitchenAid KUDP01DLBS0 KitchenAid KUDP01FLBL2 KitchenAid KUDP01FLBL6 KitchenAid KUDP01FLWH1 KitchenAid KUDP01FLWH3 KitchenAid KUDP01ILBS0 KitchenAid KUDP02FRBL0 KitchenAid KUDS01DLSS2 KitchenAid KUDS01DLWH3 KitchenAid KUDS01FLBL0 KitchenAid KUDS01ILBS3 KitchenAid KUDS02SRSS0 Whirlpool DU1100XTPQ1 Whirlpool GU1500XTLS0 Whirlpool GU2400XTPQ1 Whirlpool GU2400XTPT3 Whirlpool GU2500XTPS0 KitchenAid KUDK01ILBS3 KitchenAid KUDK03FTSS0 KitchenAid KUDM01FKBL0 KitchenAid KUDM01FKSS1 KitchenAid KUDS01FLWH6 KitchenAid KUDS02FRSS2 KitchenAid KUDW02FRSS0 Whirlpool DU1148XTPB1 Whirlpool GU1108XTLB0 Whirlpool GU2548XTPQ1 Whirlpool GU3600XTRY1 KitchenAid KUDI01DLBL1 KitchenAid KUDI01DLBL6 KitchenAid KUDI01ILBS3 KitchenAid KUDI01ILBT2 KitchenAid KUDK02CRBS1 KitchenAid KUDM01TJBT1 KitchenAid KUDP01DLBL1 KitchenAid KUDP01DLBS3 KitchenAid KUDP01FLBL3 KitchenAid KUDP01ILBS1 KitchenAid KUDP01ILWH5 KitchenAid KUDP02CRBL2 KitchenAid KUDS01DJBT0 KitchenAid KUDS01ILBL0 KitchenAid KUDS01ILBS5 KitchenAid KUDS02SRSS1 Whirlpool DU1048XTPQ3 Whirlpool DU1055XTPQ0 Whirlpool DU1100XTPQ0 KitchenAid KUDI01ILBL4 KitchenAid KUDI01ILWH4 KitchenAid KUDI01ILWH5 KitchenAid KUDK01TKWH0 KitchenAid KUDK03FTSS2 KitchenAid KUDM01FKWH0 KitchenAid KUDP01ILWH1 KitchenAid KUDP02CRBS3 KitchenAid KUDS01DJSP1 KitchenAid KUDS01ILWH1 KitchenAid KUDS02FRWH1 Whirlpool DU1048XTPS3 Whirlpool DU1050XTPQ0 Whirlpool DU1100XTPQ3 Whirlpool DU1145XTPQ1 Whirlpool GU1100XTLQ0 Whirlpool GU2300XTKB0 Whirlpool GU3200XTPS3 KitchenAid KUDI01DLSS6 KitchenAid KUDI01FLBL6 KitchenAid KUDI01ILBS1 KitchenAid KUDI01TJBT0 KitchenAid KUDI02IRBL1 KitchenAid KUDI02IRBS1 KitchenAid KUDI02IRWH4 KitchenAid KUDK01ILBS2 KitchenAid KUDP01DLBL6 KitchenAid KUDP01DLWH0 KitchenAid KUDP01FLWH0 KitchenAid KUDP01ILBS3 KitchenAid KUDP02CRBL3 KitchenAid KUDS01DLWH0 KitchenAid KUDS01FLWH5 Whirlpool DU1050XTPT1 Whirlpool DU1055XTPT0 Whirlpool DU1145XTPQ3 Whirlpool GU2400XTPS0 Whirlpool GU2500XTPB6 Whirlpool GU2500XTPQ6 Whirlpool GU2548XTPS0 Whirlpool GU3600XTSQ0 KitchenAid KUDC03FTSS0 KitchenAid KUDI01DLBS6 KitchenAid KUDI01DLWH0 KitchenAid KUDI01FKBL0 KitchenAid KUDI01FLBL3 KitchenAid KUDI01FLWH2 KitchenAid KUDI01ILBS5 KitchenAid KUDI02IRBL0 KitchenAid KUDK01TKBT0 KitchenAid KUDK03CTSS0 KitchenAid KUDP01DLBL2 KitchenAid KUDR01TJBT1 KitchenAid KUDR01TJWH1 KitchenAid KUDS01DLWH2 KitchenAid KUDS01FLWH0 KitchenAid KUDS01ILBL1 KitchenAid KUDS01ILBL3 KitchenAid KUDS01ILBT1 KitchenAid KUDS02FRBL0 KitchenAid KUDS02FRSS3 KitchenAid KUDS02SRBL1 KitchenAid KUDS02SRBL2 Whirlpool DU1048XTPQ0 Whirlpool DU1050XTPQ1 Whirlpool DU1055XTPS0 Whirlpool DU1100XTPB3 Whirlpool DU1100XTPS1 Whirlpool DU1100XTPT1 Whirlpool DU1145XTPQ0 Whirlpool GU1500XTLT0 Whirlpool GU2500XTPQ0 Whirlpool GU2500XTPT6 KitchenAid KUDI01DLBS2 KitchenAid KUDI01FLBL2 KitchenAid KUDI02IRBL2 KitchenAid KUDI02IRWH3 KitchenAid KUDK02CRBS0 KitchenAid KUDL01ILBS6 KitchenAid KUDL02FRSS2 KitchenAid KUDM01FKWH1 KitchenAid KUDP01FLWH2 KitchenAid KUDP02FRBL1 KitchenAid KUDP02IRBS1 KitchenAid KUDP02SRSS0 KitchenAid KUDS01DJBL1 KitchenAid KUDS01ILWH2 KitchenAid KUDS01ILWH6 KitchenAid KUDS02SRWH0 Whirlpool DU1050XTPB0 Whirlpool DU1100XTPS3 Whirlpool DU1145XTPS1 Whirlpool DU1148XTPQ1 Whirlpool GU1100XTLB0 Whirlpool GU3200XTPB0 KitchenAid KUDC02IRBL0 KitchenAid KUDI01FLWH0 KitchenAid KUDI01FLWH3 KitchenAid KUDI01ILBS4 KitchenAid KUDI01ILBT6 KitchenAid KUDI02IRWH2 KitchenAid KUDK03ITWH1 KitchenAid KUDL01ILBS0 KitchenAid KUDL01ILBS5 KitchenAid KUDP01DLBL3 KitchenAid KUDP01DLBT3 KitchenAid KUDP01FLBT0 KitchenAid KUDP01ILBT3 KitchenAid KUDP02CRWH0 KitchenAid KUDP02FRSS2 KitchenAid KUDP02IRWH1 KitchenAid KUDP02SRBL0 KitchenAid KUDS01IJBT1 KitchenAid KUDS01ILBT2 KitchenAid KUDS01ILWH3 KitchenAid KUDS02SRBL0 KitchenAid KUDS02SRSS2 KitchenAid KUDS02SRWH1 Whirlpool DU1100XTPT6 Whirlpool DU1101XTPB1 Whirlpool DU1145XTPS0 Whirlpool DU1148XTPB3 Whirlpool GU2548XTPQ0 Whirlpool GU2548XTPQ6 Whirlpool GU2548XTPS6 Whirlpool GU2600XTPS1 Whirlpool GU3600XTSY0 KitchenAid KUDA03CTBS0 KitchenAid KUDI01DLWH3 KitchenAid KUDI01FKSS0 KitchenAid KUDI01FKSS1 KitchenAid KUDI01FLBL1 KitchenAid KUDI01ILBS6 KitchenAid KUDI01ILBT1 KitchenAid KUDI02CRBL0 KitchenAid KUDI02CRBS2 KitchenAid KUDJ01TJBL0 KitchenAid KUDP01DLBL5 KitchenAid KUDP01DLWH1 KitchenAid KUDP01FLWH5 KitchenAid KUDP01ILBL2 KitchenAid KUDP01ILBT0 KitchenAid KUDP02CRWH1 KitchenAid KUDP02CRWH2 KitchenAid KUDP02FRWH0 KitchenAid KUDP02IRBL3 KitchenAid KUDS01DLBL6 KitchenAid KUDS01DLWH1 KitchenAid KUDS01IJBL1 KitchenAid KUDS01ILBL2 KitchenAid KUDS01ILBS6 KitchenAid KUDS03FTSS0 KitchenAid KUDS03FTSS2 KitchenAid KUDS03FTWH0 KitchenAid KUDT03FTSS0 KitchenAid KUDT03STSS0 KitchenAid KUDW03CTBL0 Kenmore / Sears 66517512200 Whirlpool DU1055XTPB0 Whirlpool DUC600XTPQ0 Whirlpool GU2400XTPT1 Whirlpool GU2600XTPS0 Whirlpool GU3200XTPB3 Whirlpool GU3200XTPQ3 Whirlpool GU3200XTPS0 Whirlpool GU3200XTSS1 Whirlpool GU3600XTSY1 KitchenAid KUDI01DLBS3 KitchenAid KUDI01DLWH6 KitchenAid KUDI01FLBL0 KitchenAid KUDI01FLBT3 KitchenAid KUDI01ILBS0 KitchenAid KUDI01TJBT1 KitchenAid KUDI02IRBT1 KitchenAid KUDK01ILBS0 KitchenAid KUDK01ILBS1 KitchenAid KUDK01ILBS5 KitchenAid KUDK03CTBL2 KitchenAid KUDK03CTWH0 KitchenAid KUDK03ITBS1 KitchenAid KUDL02IRBS3 KitchenAid KUDP01DLWH3 KitchenAid KUDP01FLWH6 KitchenAid KUDP01ILBL5 KitchenAid KUDP02CRBS0 KitchenAid KUDP02FRSS3 KitchenAid KUDP02IRBL1 KitchenAid KUDP02IRBL2 KitchenAid KUDP02IRBS0 KitchenAid KUDP02IRWH2 KitchenAid KUDP02SRSS1 KitchenAid KUDS01DLBL2 KitchenAid KUDS01DLBL3 KitchenAid KUDS01FLBT1 KitchenAid KUDS01FLSS7 KitchenAid KUDS01FLWH2 KitchenAid KUDS01ILBL6 KitchenAid KUDS01ILBT6 KitchenAid KUDS01ILWH0 KitchenAid KUDT03STSS2 KitchenAid KUDW02FRBL2 Kenmore / Sears 66516512201 Kenmore / Sears 66516532200 Kenmore / Sears 66517533202 Whirlpool DU1050XTPB1 Whirlpool DU1050XTPS0 Whirlpool DU1100XTPB6 Whirlpool DU1148XTPB0 Whirlpool DU1148XTPQ3 Whirlpool DUL240XTPQ1 Whirlpool DUL240XTPQ3 Whirlpool DUL240XTPS1 Whirlpool GU1108XTLQ0 Whirlpool GU2300XTLB1 Whirlpool GU2548XTPS1 Whirlpool GU2600XTPQ0 Whirlpool GU2600XTPQ1 Whirlpool GU2600XTPS6 Whirlpool GU3600XTSQ1 KitchenAid KUDC02IRBL1 KitchenAid KUDI01DLBL2 KitchenAid KUDI01DLWH2 KitchenAid KUDI01FLBT6 KitchenAid KUDI01FLWH5 KitchenAid KUDI01ILBT0 KitchenAid KUDI02IRBL4 KitchenAid KUDI02IRBS0 KitchenAid KUDI02IRBT2 KitchenAid KUDK01TKBL1 KitchenAid KUDK01TKBS0 KitchenAid KUDK03ITBL2 KitchenAid KUDK03ITWH0 KitchenAid KUDL01ILBS1 KitchenAid KUDL02IRBS4 KitchenAid KUDL03ITSS0 KitchenAid KUDL03ITSS1 KitchenAid KUDP01DLBS2 KitchenAid KUDP01DLBS5 KitchenAid KUDP01DLBS6 KitchenAid KUDP01DLBS7 KitchenAid KUDP01DLWH5 KitchenAid KUDP01FLBT6 KitchenAid KUDP01ILBT6 KitchenAid KUDP02CRBL4 KitchenAid KUDP02CRBT2 KitchenAid KUDP02FRBL2 KitchenAid KUDR02FSSS2 KitchenAid KUDS01DJWH1 KitchenAid KUDS01DLSP3 KitchenAid KUDS01FLBT2 KitchenAid KUDS01FLBT6 KitchenAid KUDS01ILBS2 KitchenAid KUDS02FRSS4 KitchenAid KUDS03CTBL0 KitchenAid KUDS03CTWH0 KitchenAid KUDS03STSS0 Kenmore / Sears 66516532202 Kenmore / Sears 66516539200 Kenmore / Sears 66517519200 Whirlpool DU1020XTLQ0 Whirlpool DU1048XTPS0 Whirlpool DU1050XTPS1 Whirlpool DU1050XTPT0 Whirlpool DU1100XTPS0 Whirlpool DU1101XTPQ1 Whirlpool DU1145XTPS3 Whirlpool DU1148XTPB6 Whirlpool DUC600XTPQ6 Whirlpool DUL240XTPB3 Whirlpool DUL240XTPB6 Whirlpool DUL240XTPQ0 Whirlpool DUL240XTPQ6 Whirlpool DUL240XTPS6 Whirlpool GU1108XTLQ1 Whirlpool GU2500XTPT3 Whirlpool GU2600XTPB0 Whirlpool GU2600XTPQ6 Whirlpool GU3600XTRB0 Whirlpool GU3600XTSB0 Whirlpool IUD8000RQ0 Whirlpool IUD8000RS0 KitchenAid KUDA03CTBS2 KitchenAid KUDC01TMBL0 KitchenAid KUDC01TMBL6 KitchenAid KUDC01TMWH1 KitchenAid KUDC02IRBS1 KitchenAid KUDC02IRBS3 KitchenAid KUDC02IRWH2 KitchenAid KUDI01FKWH0 KitchenAid KUDI01FLBL5 KitchenAid KUDI01FLWH1 KitchenAid KUDI01ILBT5 KitchenAid KUDI02CRBL1 KitchenAid KUDI02CRBS0 KitchenAid KUDI02CRBS3 KitchenAid KUDI02FRBL0 KitchenAid KUDI02FRBL1 KitchenAid KUDI02FRSS4 KitchenAid KUDI02IRBL3 KitchenAid KUDI02IRBS2 KitchenAid KUDI02IRBS4 KitchenAid KUDJ02CRBS1 KitchenAid KUDJ02CRBS2 KitchenAid KUDJ02CRBS3 KitchenAid KUDK01TKBT1 KitchenAid KUDK02CRBL1 KitchenAid KUDK02CRBS2 KitchenAid KUDK02CRBS3 KitchenAid KUDK02CRBS4 KitchenAid KUDK03CTSS2 KitchenAid KUDK03ITBL1 KitchenAid KUDK03ITBS0 KitchenAid KUDK03ITWH2 KitchenAid KUDL01ILBS2 KitchenAid KUDL01TKBL0 KitchenAid KUDL03ITSS2 KitchenAid KUDP01DLBT0 KitchenAid KUDP01DLWH6 KitchenAid KUDP01FLBT2 KitchenAid KUDP01FLBT3 KitchenAid KUDP01ILBT1 KitchenAid KUDP01ILBT2 KitchenAid KUDP02CRBT0 KitchenAid KUDP02FRBL3 KitchenAid KUDP02FRBT1 KitchenAid KUDP02FRSS4 KitchenAid KUDP02FRWH1 KitchenAid KUDP02IRBT2 KitchenAid KUDP02IRWH0 KitchenAid KUDP02SRWH4 KitchenAid KUDR02FSSS4 KitchenAid KUDS01DJBT1 KitchenAid KUDS01DJSW0 KitchenAid KUDS01DLBT6 KitchenAid KUDS01DLSP1 KitchenAid KUDS01DLWH6 KitchenAid KUDS01FLBL7 KitchenAid KUDS01FLBS0 KitchenAid KUDS01FLBT0 KitchenAid KUDS01FLBT5 KitchenAid KUDS01IJAL1 KitchenAid KUDS01IJWH1 KitchenAid KUDS01ILBS0 KitchenAid KUDS01ILBS1 KitchenAid KUDS01ILWH5 KitchenAid KUDS01VMMT0 KitchenAid KUDS01VMSS0 KitchenAid KUDS01VMSS7 KitchenAid KUDS02FRWH2 KitchenAid KUDS02SRWH2 KitchenAid KUDS03CTSS0 KitchenAid KUDS03FSBL3 KitchenAid KUDS03FTSS1 KitchenAid KUDT03FTSS2 KitchenAid KUDT03STWH0 KitchenAid KUDU03FTPA2 KitchenAid KUDU03STSS0 KitchenAid KUDU03STSS2 KitchenAid KUDW02FRSS2 Kenmore / Sears 66516514200 Kenmore / Sears 66516519200 Kenmore / Sears 66516532201 Kenmore / Sears 66516533200 Kenmore / Sears 66516539202 Kenmore / Sears 66516574201 Kenmore / Sears 66517512202 Kenmore / Sears 66517514202 Kenmore / Sears 66517519201 Kenmore / Sears 66517519202 Kenmore / Sears 66517532200 Kenmore / Sears 66517532201 Kenmore / Sears 66517534200 Whirlpool 7GU3200XTSS0 Whirlpool 7GU3600XTSY0 Whirlpool DU1020XTLB0 Whirlpool DU1100XTPT3 Whirlpool DU1101XTPS0 Whirlpool DU1148XTPQ6 Whirlpool DUL240XTPS3 Whirlpool GU1100XTLT0 Whirlpool GU2300XTKQ0 Whirlpool GU2300XTLB0 Whirlpool GU2300XTLS0 Whirlpool GU2300XTLS2 Whirlpool GU2400XTPQ0 Whirlpool GU2400XTPT0 Whirlpool GU2500XTPT1 Whirlpool GU2600XTPB1 Whirlpool GU3200XTPQ0 Whirlpool GU3200XTPS5 Whirlpool GU3600XTRB1 Whirlpool GU3600XTRQ0 Whirlpool GU3600XTSB1 Whirlpool GU3600XTSB2 KitchenAid KUDA03CTBL1 KitchenAid KUDA03CTWH0 KitchenAid KUDA03CTWH2 KitchenAid KUDC01TMBL1 KitchenAid KUDC01TMWH6 KitchenAid KUDC02IRBL2 KitchenAid KUDC02IRBL3 KitchenAid KUDC03FTSS2 KitchenAid KUDI01DLBS0 KitchenAid KUDI01DLBS1 KitchenAid KUDI01DLBT0 KitchenAid KUDI01FLBT0 KitchenAid KUDI01FLBT1 KitchenAid KUDI01FLBT5 KitchenAid KUDI01FLWH6 KitchenAid KUDI01ILBT4 KitchenAid KUDI01ILSS0 KitchenAid KUDI02CRBL2 KitchenAid KUDI02CRWH1 KitchenAid KUDI02FRSS2 KitchenAid KUDI02FRSS3 KitchenAid KUDI02FRWH0 KitchenAid KUDI02FRWH3 KitchenAid KUDI02IRBS3 KitchenAid KUDI02IRBT0 KitchenAid KUDK01TKWH1 KitchenAid KUDK02CRBL0 KitchenAid KUDK02CRBL2 KitchenAid KUDK02CRWH0 KitchenAid KUDK03CTBL1 KitchenAid KUDK03CTSS1 KitchenAid KUDK03CTSS3 KitchenAid KUDK03FTSS1 KitchenAid KUDK03ITBL0 KitchenAid KUDK03ITBT0 KitchenAid KUDK03ITBT2 KitchenAid KUDL02FRSS3 KitchenAid KUDL02FRSS4 KitchenAid KUDM01FKBL1 KitchenAid KUDM01FKBT1 KitchenAid KUDM03FTSS2 KitchenAid KUDP01DLBL7 KitchenAid KUDP01DLBT6 KitchenAid KUDP01DLWH2 KitchenAid KUDP01FLBT5 KitchenAid KUDP01ILBS5 KitchenAid KUDP01ILWH7 KitchenAid KUDP02CRBS4 KitchenAid KUDP02CRBT4 KitchenAid KUDP02CRWH4 KitchenAid KUDP02FRBL4 KitchenAid KUDP02FRBT0 KitchenAid KUDP02IRBL0 KitchenAid KUDP02IRBS2 KitchenAid KUDP02IRWH3 KitchenAid KUDP02SRBL4 KitchenAid KUDP02SRBT0 KitchenAid KUDP02SRSS2 KitchenAid KUDP02SRSS3 KitchenAid KUDP02SRWH0 KitchenAid KUDP02SRWH1 KitchenAid KUDR02FSSS1 KitchenAid KUDR02FSSS3 KitchenAid KUDS01DLBL0 KitchenAid KUDS01DLSP0 KitchenAid KUDS01DLSP2 KitchenAid KUDS01DLSS7 KitchenAid KUDS01FLBT3 KitchenAid KUDS01ILBL5 KitchenAid KUDS01VMMT1 KitchenAid KUDS01VMMT2 KitchenAid KUDS01VMMT7 KitchenAid KUDS01VMSS2 KitchenAid KUDS02FRWH0 KitchenAid KUDS02FSPA1 KitchenAid KUDS02FSPA4 KitchenAid KUDS02SRSS4 KitchenAid KUDS03CTSS2 KitchenAid KUDS03FSSS4 KitchenAid KUDS03FTBT0 KitchenAid KUDS03FTPA0 KitchenAid KUDS03FTPA2 KitchenAid KUDT03FTWH2 KitchenAid KUDU02FRSS0 KitchenAid KUDU02FRSS2 KitchenAid KUDU02FRWH0 KitchenAid KUDU03FTPA1 KitchenAid KUDU03FTSS0 KitchenAid KUDU03FTSS2 KitchenAid KUDW03CTBL2 KitchenAid KUDX03FTSS0 Kenmore / Sears 6.65111E+11 Kenmore / Sears 6.65111E+11 Kenmore / Sears 6.65111E+11 Kenmore / Sears 6.65111E+11 Kenmore / Sears 66513012K110 Kenmore / Sears 66513013K110 Kenmore / Sears 66513014K110 Kenmore / Sears 66513019K110 Kenmore / Sears 66513023K110 Kenmore / Sears 66513102K900 Kenmore / Sears 66513102K901 Kenmore / Sears 66513102K902 Kenmore / Sears 66513103K900 Kenmore / Sears 66513103K901 Kenmore / Sears 66513103K902 Kenmore / Sears 66513104K900 Kenmore / Sears 66513104K901 Kenmore / Sears 66513104K902 Kenmore / Sears 66513109K900 Kenmore / Sears 66513109K901 Kenmore / Sears 66513109K902 Kenmore / Sears 66513112K700 Kenmore / Sears 66513112K701 Kenmore / Sears 66513112K702 Kenmore / Sears 66513113K700 Kenmore / Sears 66513113K701 Kenmore / Sears 66513113K702 Kenmore / Sears 66513114K700 Kenmore / Sears 66513114K701 Kenmore / Sears 66513114K702 Kenmore / Sears 66513119K700 Kenmore / Sears 66513119K701 Kenmore / Sears 66513119K702 Kenmore / Sears 66513122K700 Kenmore / Sears 66513122K701 Kenmore / Sears 66513122K702 Kenmore / Sears 66513122K703 Kenmore / Sears 66513123K700 Kenmore / Sears 66513123K701 Kenmore / Sears 66513123K702 Kenmore / Sears 66513123K703 Kenmore / Sears 66513124K700 Kenmore / Sears 66513124K701 Kenmore / Sears 66513124K702 Kenmore / Sears 66513124K703 Kenmore / Sears 66513129K700 Kenmore / Sears 66513129K701 Kenmore / Sears 66513129K702 Kenmore / Sears 66513129K703 Kenmore / Sears 66513132K700 Kenmore / Sears 66513132K701 Kenmore / Sears 66513133K700 Kenmore / Sears 66513133K701 Kenmore / Sears 66513139K700 Kenmore / Sears 66513139K701 Kenmore / Sears 66513152K700 Kenmore / Sears 66513152K701 Kenmore / Sears 66513152K702 Kenmore / Sears 66513153K700 Kenmore / Sears 66513153K701 Kenmore / Sears 66513153K702 Kenmore / Sears 66513154K700 Kenmore / Sears 66513154K701 Kenmore / Sears 66513154K702 Kenmore / Sears 66513159K700 Kenmore / Sears 66513159K701 Kenmore / Sears 66513159K702 Kenmore / Sears 66513163K700 Kenmore / Sears 66513163K701 Kenmore / Sears 66513163K702 Kenmore / Sears 66513163K703 Kenmore / Sears 66513169K700 Kenmore / Sears 66513169K701 Kenmore / Sears 66513169K702 Kenmore / Sears 66513169K703 Kenmore / Sears 66513173K700 Kenmore / Sears 66513173K701 Kenmore / Sears 66513173K702 Kenmore / Sears 66513173K703 Kenmore / Sears 66513173K704 Kenmore / Sears 66513182K800 Kenmore / Sears 66513182K801 Kenmore / Sears 66513182K802 Kenmore / Sears 66513183K800 Kenmore / Sears 66513183K801 Kenmore / Sears 66513183K802 Kenmore / Sears 66513189K800 Kenmore / Sears 66513189K801 Kenmore / Sears 66513189K802 Kenmore / Sears 66513192K900 Kenmore / Sears 66513192K901 Kenmore / Sears 66513192K902 Kenmore / Sears 66513193K900 Kenmore / Sears 66513193K901 Kenmore / Sears 66513193K902 Kenmore / Sears 66513194K900 Kenmore / Sears 66513194K901 Kenmore / Sears 66513194K902 Kenmore / Sears 66513199K900 Kenmore / Sears 66513199K901 Kenmore / Sears 66513199K902 Kenmore / Sears 66513206K901 Kenmore / Sears 66513206K902 Kenmore / Sears 66513212K901 Kenmore / Sears 66513212K902 Kenmore / Sears 66513213K900 Kenmore / Sears 66513213K901 Kenmore / Sears 66513213K902 Kenmore / Sears 66513219K901 Kenmore / Sears 66513219K902 Kenmore / Sears 66513232K700 Kenmore / Sears 66513232K701 Kenmore / Sears 66513233K700 Kenmore / Sears 66513233K701 Kenmore / Sears 66513239K700 Kenmore / Sears 66513239K701 Kenmore / Sears 66513242K900 Kenmore / Sears 66513242K901 Kenmore / Sears 66513243K900 Kenmore / Sears 66513243K901 Kenmore / Sears 66513249K900 Kenmore / Sears 66513249K901 Kenmore / Sears 66513252K110 Kenmore / Sears 66513255K110 Kenmore / Sears 66513259K110 Kenmore / Sears 66513262K110 Kenmore / Sears 66513263K110 Kenmore / Sears 66513269K110 Kenmore / Sears 66513292K110 Kenmore / Sears 66513293K110 Kenmore / Sears 66513299K110 Kenmore / Sears 66513362K110 Kenmore / Sears 66513363K110 Kenmore / Sears 66513369K110 Kenmore / Sears 66513412K700 Kenmore / Sears 66513412K701 Kenmore / Sears 66513412K702 Kenmore / Sears 66513413K700 Kenmore / Sears 66513413K701 Kenmore / Sears 66513413K702 Kenmore / Sears 66513419K700 Kenmore / Sears 66513419K701 Kenmore / Sears 66513419K702 Kenmore / Sears 66513422K700 Kenmore / Sears 66513422K701 Kenmore / Sears 66513422K702 Kenmore / Sears 66513422K703 Kenmore / Sears 66513423K700 Kenmore / Sears 66513423K701 Kenmore / Sears 66513423K702 Kenmore / Sears 66513423K703 Kenmore / Sears 66513429K700 Kenmore / Sears 66513429K701 Kenmore / Sears 66513429K702 Kenmore / Sears 66513429K703 Kenmore / Sears 66513432K700 Kenmore / Sears 66513432K701 Kenmore / Sears 66513432K703 Kenmore / Sears 66513432K704 Kenmore / Sears 66513433K700 Kenmore / Sears 66513433K701 Kenmore / Sears 66513433K703 Kenmore / Sears 66513433K704 Kenmore / Sears 66513439K700 Kenmore / Sears 66513439K701 Kenmore / Sears 66513439K703 Kenmore / Sears 66513439K704 Kenmore / Sears 66513722K600 Kenmore / Sears 66513722K601 Kenmore / Sears 66513723K600 Kenmore / Sears 66513723K601 Kenmore / Sears 66513724K600 Kenmore / Sears 66513724K601 Kenmore / Sears 66513729K600 Kenmore / Sears 66513729K601 Kenmore / Sears 66513732K600 Kenmore / Sears 66513732K601 Kenmore / Sears 66513732K602 Kenmore / Sears 66513732K603 Kenmore / Sears 66513732K604 Kenmore / Sears 66513733K600 Kenmore / Sears 66513733K601 Kenmore / Sears 66513733K602 Kenmore / Sears 66513733K603 Kenmore / Sears 66513733K604 Kenmore / Sears 66513734K600 Kenmore / Sears 66513734K601 Kenmore / Sears 66513734K602 Kenmore / Sears 66513734K603 Kenmore / Sears 66513734K604 Kenmore / Sears 66513739K600 Kenmore / Sears 66513739K601 Kenmore / Sears 66513739K602 Kenmore / Sears 66513739K603 Kenmore / Sears 66513739K604 Kenmore / Sears 66513752K600 Kenmore / Sears 66513752K601 Kenmore / Sears 66513752K602 Kenmore / Sears 66513752K603 Kenmore / Sears 66513753K600 Kenmore / Sears 66513753K601 Kenmore / Sears 66513753K602 Kenmore / Sears 66513753K603 Kenmore / Sears 66513754K600 Kenmore / Sears 66513754K601 Kenmore / Sears 66513754K602 Kenmore / Sears 66513754K603 Kenmore / Sears 66513759K600 Kenmore / Sears 66513759K601 Kenmore / Sears 66513759K602 Kenmore / Sears 66513759K603 Kenmore / Sears 66513762K600 Kenmore / Sears 66513762K601 Kenmore / Sears 66513762K602 Kenmore / Sears 66513762K603 Kenmore / Sears 66513763K600 Kenmore / Sears 66513763K601 Kenmore / Sears 66513763K602 Kenmore / Sears 66513763K603 Kenmore / Sears 66513764K600 Kenmore / Sears 66513764K601 Kenmore / Sears 66513764K602 Kenmore / Sears 66513764K603 Kenmore / Sears 66513769K600 Kenmore / Sears 66513769K601 Kenmore / Sears 66513769K602 Kenmore / Sears 66513769K603 Kenmore / Sears 66513772K600 Kenmore / Sears 66513772K601 Kenmore / Sears 66513772K602 Kenmore / Sears 66513772K603 Kenmore / Sears 66513772K604 Kenmore / Sears 66513773K600 Kenmore / Sears 66513773K601 Kenmore / Sears 66513773K602 Kenmore / Sears 66513773K603 Kenmore / Sears 66513773K604 Kenmore / Sears 66513779K600 Kenmore / Sears 66513779K601 Kenmore / Sears 66513779K602 Kenmore / Sears 66513779K603 Kenmore / Sears 66513779K604 Kenmore / Sears 66513782K600 Kenmore / Sears 66513782K601 Kenmore / Sears 66513782K602 Kenmore / Sears 66513782K603 Kenmore / Sears 66513783K600 Kenmore / Sears 66513783K601 Kenmore / Sears 66513783K602 Kenmore / Sears 66513783K603 Kenmore / Sears 66513785K600 Kenmore / Sears 66513785K601 Kenmore / Sears 66513785K602 Kenmore / Sears 66513785K603 Kenmore / Sears 66513789K600 Kenmore / Sears 66513789K601 Kenmore / Sears 66513789K602 Kenmore / Sears 66513789K603 Kenmore / Sears 66513792K600 Kenmore / Sears 66513792K601 Kenmore / Sears 66513792K602 Kenmore / Sears 66513792K603 Kenmore / Sears 66513792K604 Kenmore / Sears 66513793K600 Kenmore / Sears 66513793K601 Kenmore / Sears 66513793K602 Kenmore / Sears 66513793K603 Kenmore / Sears 66513793K604 Kenmore / Sears 66513794K600 Kenmore / Sears 66513794K601 Kenmore / Sears 66513794K602 Kenmore / Sears 66513794K603 Kenmore / Sears 66513794K604 Kenmore / Sears 66513799K600 Kenmore / Sears 66513799K601 Kenmore / Sears 66513799K602 Kenmore / Sears 66513799K603 Kenmore / Sears 66513799K604 Kenmore / Sears 66513822K600 Kenmore / Sears 66513822K601 Kenmore / Sears 66513823K600 Kenmore / Sears 66513823K601 Kenmore / Sears 66513824K600 Kenmore / Sears 66513824K601 Kenmore / Sears 66513829K600 Kenmore / Sears 66513829K601 Kenmore / Sears 66513832K600 Kenmore / Sears 66513832K601 Kenmore / Sears 66513832K602 Kenmore / Sears 66513832K603 Kenmore / Sears 66513833K600 Kenmore / Sears 66513833K601 Kenmore / Sears 66513833K602 Kenmore / Sears 66513833K603 Kenmore / Sears 66513834K600 Kenmore / Sears 66513834K601 Kenmore / Sears 66513834K602 Kenmore / Sears 66513834K603 Kenmore / Sears 66513839K600 Kenmore / Sears 66513839K601 Kenmore / Sears 66513839K602 Kenmore / Sears 66513839K603 Kenmore / Sears 66513852K600 Kenmore / Sears 66513852K601 Kenmore / Sears 66513852K602 Kenmore / Sears 66513852K603 Kenmore / Sears 66513853K600 Kenmore / Sears 66513853K601 Kenmore / Sears 66513853K602 Kenmore / Sears 66513853K603 Kenmore / Sears 66513854K600 Kenmore / Sears 66513854K601 Kenmore / Sears 66513854K602 Kenmore / Sears 66513854K603 Kenmore / Sears 66513859K600 Kenmore / Sears 66513859K601 Kenmore / Sears 66513859K602 Kenmore / Sears 66513859K603 Kenmore / Sears 66513862K600 Kenmore / Sears 66513862K601 Kenmore / Sears 66513862K602 Kenmore / Sears 66513862K603 Kenmore / Sears 66513863K600 Kenmore / Sears 66513863K601 Kenmore / Sears 66513863K602 Kenmore / Sears 66513863K603 Kenmore / Sears 66513864K600 Kenmore / Sears 66513864K601 Kenmore / Sears 66513864K602 Kenmore / Sears 66513864K603 Kenmore / Sears 66513869K600 Kenmore / Sears 66513869K601 Kenmore / Sears 66513869K602 Kenmore / Sears 66513869K603 Kenmore / Sears 66513873K600 Kenmore / Sears 66513873K602 Kenmore / Sears 66513873K603 Kenmore / Sears 66513892K800 Kenmore / Sears 66513892K801 Kenmore / Sears 66513892K802 Kenmore / Sears 66513893K800 Kenmore / Sears 66513893K801 Kenmore / Sears 66513893K802 Kenmore / Sears 66513899K800 Kenmore / Sears 66513899K801 Kenmore / Sears 66513899K802 Kenmore / Sears 66513922K010 Kenmore / Sears 66513922K011 Kenmore / Sears 66513922K012 Kenmore / Sears 66513922K013 Kenmore / Sears 66513923K010 Kenmore / Sears 66513923K011 Kenmore / Sears 66513923K012 Kenmore / Sears 66513923K013 Kenmore / Sears 66513929K010 Kenmore / Sears 66513929K011 Kenmore / Sears 66513929K012 Kenmore / Sears 66513929K013 Kenmore / Sears 66513932K010 Kenmore / Sears 66513932K011 Kenmore / Sears 66513932K012 Kenmore / Sears 66513932K013 Kenmore / Sears 66513933K010 Kenmore / Sears 66513933K011 Kenmore / Sears 66513933K012 Kenmore / Sears 66513933K013 Kenmore / Sears 66513939K010 Kenmore / Sears 66513939K011 Kenmore / Sears 66513939K012 Kenmore / Sears 66513939K013 Kenmore / Sears 66513942K010 Kenmore / Sears 66513942K011 Kenmore / Sears 66513942K012 Kenmore / Sears 66513942K013 Kenmore / Sears 66513943K010 Kenmore / Sears 66513943K011 Kenmore / Sears 66513943K012 Kenmore / Sears 66513943K013 Kenmore / Sears 66513944K010 Kenmore / Sears 66513944K011 Kenmore / Sears 66513944K012 Kenmore / Sears 66513944K013 Kenmore / Sears 66513949K010 Kenmore / Sears 66513949K011 Kenmore / Sears 66513949K012 Kenmore / Sears 66513949K013 Kenmore / Sears 66513962K010 Kenmore / Sears 66513962K011 Kenmore / Sears 66513962K012 Kenmore / Sears 66513962K013 Kenmore / Sears 66513963K010 Kenmore / Sears 66513963K011 Kenmore / Sears 66513963K012 Kenmore / Sears 66513963K013 Kenmore / Sears 66513964K010 Kenmore / Sears 66513964K011 Kenmore / Sears 66513964K012 Kenmore / Sears 66513964K013 Kenmore / Sears 66513966K010 Kenmore / Sears 66513966K012 Kenmore / Sears 66513966K013 Kenmore / Sears 66513969K010 Kenmore / Sears 66513969K011 Kenmore / Sears 66513969K012 Kenmore / Sears 66513969K013 Kenmore / Sears 66513972K010 Kenmore / Sears 66513972K013 Kenmore / Sears 66513973K010 Kenmore / Sears 66513973K013 Kenmore / Sears 66513979K010 Kenmore / Sears 66513979K013 Kenmore / Sears 66514043K010 Kenmore / Sears 66514052K010 Kenmore / Sears 66514052K012 Kenmore / Sears 66514053K010 Kenmore / Sears 66514053K012 Kenmore / Sears 66514059K010 Kenmore / Sears 66514059K012 Kenmore / Sears 66514062K012 Kenmore / Sears 66514063K012 Kenmore / Sears 66514069K012 Kenmore / Sears 66515023K110 Kenmore / Sears 66515892100 Kenmore / Sears 66515894100 Kenmore / Sears 66515899100 Kenmore / Sears 66515912000 Kenmore / Sears 66515912001 Kenmore / Sears 66515914000 Kenmore / Sears 66515914001 Kenmore / Sears 66515919000 Kenmore / Sears 66515919001 Kenmore / Sears 66515922000 Kenmore / Sears 66515922001 Kenmore / Sears 66515923000 Kenmore / Sears 66515923001 Kenmore / Sears 66515924000 Kenmore / Sears 66515924001 Kenmore / Sears 66515929000 Kenmore / Sears 66515929001 Kenmore / Sears 66515932000 Kenmore / Sears 66515933000 Kenmore / Sears 66515934000 Kenmore / Sears 66515937000 Kenmore / Sears 66515939000 Kenmore / Sears 66515952000 Kenmore / Sears 66515953000 Kenmore / Sears 66515954000 Kenmore / Sears 66515959000 Kenmore / Sears 66516022400 Kenmore / Sears 66516022401 Kenmore / Sears 66516022402 Kenmore / Sears 66516023400 Kenmore / Sears 66516023401 Kenmore / Sears 66516023402 Kenmore / Sears 66516024400 Kenmore / Sears 66516024401 Kenmore / Sears 66516024402 Kenmore / Sears 66516029400 Kenmore / Sears 66516029401 Kenmore / Sears 66516029402 Kenmore / Sears 66516032400 Kenmore / Sears 66516032401 Kenmore / Sears 66516032402 Kenmore / Sears 66516033400 Kenmore / Sears 66516033401 Kenmore / Sears 66516033402 Kenmore / Sears 66516034400 Kenmore / Sears 66516034401 Kenmore / Sears 66516034402 Kenmore / Sears 66516039400 Kenmore / Sears 66516039401 Kenmore / Sears 66516039402 Kenmore / Sears 66516042400 Kenmore / Sears 66516042401 Kenmore / Sears 66516042402 Kenmore / Sears 66516042403 Kenmore / Sears 66516042404 Kenmore / Sears 66516049400 Kenmore / Sears 66516049401 Kenmore / Sears 66516049402 Kenmore / Sears 66516049403 Kenmore / Sears 66516049404 Kenmore / Sears 66516052400 Kenmore / Sears 66516052401 Kenmore / Sears 66516052402 Kenmore / Sears 66516053400 Kenmore / Sears 66516053401 Kenmore / Sears 66516053402 Kenmore / Sears 66516054400 Kenmore / Sears 66516054401 Kenmore / Sears 66516054402 Kenmore / Sears 66516059400 Kenmore / Sears 66516059401 Kenmore / Sears 66516059402 Kenmore / Sears 66516222500 Kenmore / Sears 66516223500 Kenmore / Sears 66516229500 Kenmore / Sears 66516262400 Kenmore / Sears 66516262401 Kenmore / Sears 66516262402 Kenmore / Sears 66516263400 Kenmore / Sears 66516263401 Kenmore / Sears 66516263402 Kenmore / Sears 66516264400 Kenmore / Sears 66516264401 Kenmore / Sears 66516264402 Kenmore / Sears 66516269400 Kenmore / Sears 66516269401 Kenmore / Sears 66516269402 Kenmore / Sears 66516272400 Kenmore / Sears 66516272401 Kenmore / Sears 66516272402 Kenmore / Sears 66516273400 Kenmore / Sears 66516273401 Kenmore / Sears 66516273402 Kenmore / Sears 66516274400 Kenmore / Sears 66516274401 Kenmore / Sears 66516279400 Kenmore / Sears 66516279401 Kenmore / Sears 66516279402 Kenmore / Sears 66516282400 Kenmore / Sears 66516282401 Kenmore / Sears 66516282402 Kenmore / Sears 66516283400 Kenmore / Sears 66516283401 Kenmore / Sears 66516283402 Kenmore / Sears 66516284400 Kenmore / Sears 66516289400 Kenmore / Sears 66516289401 Kenmore / Sears 66516289402 Kenmore / Sears 66516292400 Kenmore / Sears 66516292401 Kenmore / Sears 66516292402 Kenmore / Sears 66516293400 Kenmore / Sears 66516293401 Kenmore / Sears 66516293402 Kenmore / Sears 66516294400 Kenmore / Sears 66516294401 Kenmore / Sears 66516294402 Kenmore / Sears 66516299400 Kenmore / Sears 66516299401 Kenmore / Sears 66516299402 Kenmore / Sears 66516362300 Kenmore / Sears 66516362301 Kenmore / Sears 66516363300 Kenmore / Sears 66516363301 Kenmore / Sears 66516364300 Kenmore / Sears 66516364301 Kenmore / Sears 66516369300 Kenmore / Sears 66516369301 Kenmore / Sears 66516372300 Kenmore / Sears 66516372301 Kenmore / Sears 66516373300 Kenmore / Sears 66516373301 Kenmore / Sears 66516374300 Kenmore / Sears 66516374301 Kenmore / Sears 66516379300 Kenmore / Sears 66516379301 Kenmore / Sears 66516382300 Kenmore / Sears 66516389300 Kenmore / Sears 66516462300 Kenmore / Sears 66516463300 Kenmore / Sears 66516464300 Kenmore / Sears 66516469300 Kenmore / Sears 66516472300 Kenmore / Sears 66516473300 Kenmore / Sears 66516474300 Kenmore / Sears 66516479300 Kenmore / Sears 66516482300 Kenmore / Sears 66516483300 Kenmore / Sears 66516484300 Kenmore / Sears 66516489300 Kenmore / Sears 66516492300 Kenmore / Sears 66516493300 Kenmore / Sears 66516494300 Kenmore / Sears 66516499300 Kenmore / Sears 66516512200 Kenmore / Sears 66516512202 Kenmore / Sears 66516514201 Kenmore / Sears 66516514202 Kenmore / Sears 66516519201 Kenmore / Sears 66516519202 Kenmore / Sears 66516533201 Kenmore / Sears 66516533202 Kenmore / Sears 66516534200 Kenmore / Sears 66516534201 Kenmore / Sears 66516534202 Kenmore / Sears 66516539201 Kenmore / Sears 66516552200 Kenmore / Sears 66516552201 Kenmore / Sears 66516552202 Kenmore / Sears 66516559200 Kenmore / Sears 66516559201 Kenmore / Sears 66516559202 Kenmore / Sears 66516572200 Kenmore / Sears 66516572201 Kenmore / Sears 66516572202 Kenmore / Sears 66516574200 Kenmore / Sears 66516574202 Kenmore / Sears 66516579200 Kenmore / Sears 66516579201 Kenmore / Sears 66516579202 Kenmore / Sears 66516582200 Kenmore / Sears 66516582201 Kenmore / Sears 66516582202 Kenmore / Sears 66516583200 Kenmore / Sears 66516583201 Kenmore / Sears 66516583202 Kenmore / Sears 66516584200 Kenmore / Sears 66516584201 Kenmore / Sears 66516584202 Kenmore / Sears 66516589200 Kenmore / Sears 66516589201 Kenmore / Sears 66516589202 Kenmore / Sears 66516592200 Kenmore / Sears 66516592202 Kenmore / Sears 66516593200 Kenmore / Sears 66516593202 Kenmore / Sears 66516594200 Kenmore / Sears 66516594202 Kenmore / Sears 66516599200 Kenmore / Sears 66516599202 Kenmore / Sears 66516692200 Kenmore / Sears 66516692201 Kenmore / Sears 66516693200 Kenmore / Sears 66516693201 Kenmore / Sears 66516694200 Kenmore / Sears 66516694201 Kenmore / Sears 66516699200 Kenmore / Sears 66516699201 Kenmore / Sears 66516912000 Kenmore / Sears 66516912001 Kenmore / Sears 66516914000 Kenmore / Sears 66516914001 Kenmore / Sears 66516919000 Kenmore / Sears 66516919001 Kenmore / Sears 66516932000 Kenmore / Sears 66516933000 Kenmore / Sears 66516934000 Kenmore / Sears 66516939000 Kenmore / Sears 66516952000 Kenmore / Sears 66516953000 Kenmore / Sears 66516954000 Kenmore / Sears 66516959000 Kenmore / Sears 66516972200 Kenmore / Sears 66516972201 Kenmore / Sears 66516972202 Kenmore / Sears 66516973200 Kenmore / Sears 66516973201 Kenmore / Sears 66516973202 Kenmore / Sears 66516974200 Kenmore / Sears 66516974201 Kenmore / Sears 66516974202 Kenmore / Sears 66516979200 Kenmore / Sears 66516979201 Kenmore / Sears 66516979202 Kenmore / Sears 66516982200 Kenmore / Sears 66516982201 Kenmore / Sears 66516983200 Kenmore / Sears 66516983201 Kenmore / Sears 66516984200 Kenmore / Sears 66516984201 Kenmore / Sears 66516989200 Kenmore / Sears 66516989201 Kenmore / Sears 66517022400 Kenmore / Sears 66517022401 Kenmore / Sears 66517022402 Kenmore / Sears 66517023400 Kenmore / Sears 66517023401 Kenmore / Sears 66517023402 Kenmore / Sears 66517024400 Kenmore / Sears 66517024401 Kenmore / Sears 66517024402 Kenmore / Sears 66517029400 Kenmore / Sears 66517029401 Kenmore / Sears 66517029402 Kenmore / Sears 66517032400 Kenmore / Sears 66517032401 Kenmore / Sears 66517032402 Kenmore / Sears 66517033400 Kenmore / Sears 66517033401 Kenmore / Sears 66517033402 Kenmore / Sears 66517034400 Kenmore / Sears 66517034401 Kenmore / Sears 66517034402 Kenmore / Sears 66517039400 Kenmore / Sears 66517039401 Kenmore / Sears 66517039402 Kenmore / Sears 66517042400 Kenmore / Sears 66517042401 Kenmore / Sears 66517042402 Kenmore / Sears 66517049400 Kenmore / Sears 66517049401 Kenmore / Sears 66517049402 Kenmore / Sears 66517052400 Kenmore / Sears 66517052401 Kenmore / Sears 66517052402 Kenmore / Sears 66517053400 Kenmore / Sears 66517053401 Kenmore / Sears 66517053402 Kenmore / Sears 66517054400 Kenmore / Sears 66517054401 Kenmore / Sears 66517054402 Kenmore / Sears 66517059400 Kenmore / Sears 66517059401 Kenmore / Sears 66517059402 Kenmore / Sears 66517262400 Kenmore / Sears 66517262401 Kenmore / Sears 66517262402 Kenmore / Sears 66517263400 Kenmore / Sears 66517263401 Kenmore / Sears 66517263402 Kenmore / Sears 66517264400 Kenmore / Sears 66517264401 Kenmore / Sears 66517264402 Kenmore / Sears 66517269400 Kenmore / Sears 66517269401 Kenmore / Sears 66517269402 Kenmore / Sears 66517272400 Kenmore / Sears 66517272401 Kenmore / Sears 66517272402 Kenmore / Sears 66517273400 Kenmore / Sears 66517273401 Kenmore / Sears 66517273402 Kenmore / Sears 66517274400 Kenmore / Sears 66517274401 Kenmore / Sears 66517279400 Kenmore / Sears 66517279401 Kenmore / Sears 66517279402 Kenmore / Sears 66517282400 Kenmore / Sears 66517282401 Kenmore / Sears 66517282402 Kenmore / Sears 66517283400 Kenmore / Sears 66517283401 Kenmore / Sears 66517283402 Kenmore / Sears 66517284400 Kenmore / Sears 66517289400 Kenmore / Sears 66517289401 Kenmore / Sears 66517289402 Kenmore / Sears 66517362300 Kenmore / Sears 66517362301 Kenmore / Sears 66517363300 Kenmore / Sears 66517363301 Kenmore / Sears 66517364300 Kenmore / Sears 66517364301 Kenmore / Sears 66517369300 Kenmore / Sears 66517369301 Kenmore / Sears 66517372300 Kenmore / Sears 66517372301 Kenmore / Sears 66517373300 Kenmore / Sears 66517373301 Kenmore / Sears 66517374300 Kenmore / Sears 66517374301 Kenmore / Sears 66517379300 Kenmore / Sears 66517379301 Kenmore / Sears 66517382300 Kenmore / Sears 66517389300 Kenmore / Sears 66517462300 Kenmore / Sears 66517463300 Kenmore / Sears 66517464300 Kenmore / Sears 66517469300 Kenmore / Sears 66517472300 Kenmore / Sears 66517473300 Kenmore / Sears 66517474300 Kenmore / Sears 66517479300 Kenmore / Sears 66517482300 Kenmore / Sears 66517483300 Kenmore / Sears 66517484300 Kenmore / Sears 66517489300 Kenmore / Sears 66517492300 Kenmore / Sears 66517499300 Kenmore / Sears 66517512201 Kenmore / Sears 66517514200 Kenmore / Sears 66517514201 Kenmore / Sears 66517532202 Kenmore / Sears 66517533200 Kenmore / Sears 66517533201 Kenmore / Sears 66517534201 Kenmore / Sears 66517534202 Kenmore / Sears 66517539200 Kenmore / Sears 66517539201 Kenmore / Sears 66517539202 Kenmore / Sears 66517572200 Kenmore / Sears 66517572201 Kenmore / Sears 66517572202 Kenmore / Sears 66517574200 Kenmore / Sears 66517574201 Kenmore / Sears 66517574202 Kenmore / Sears 66517579200 Kenmore / Sears 66517579201 Kenmore / Sears 66517579202 Kenmore / Sears 66517582200 Kenmore / Sears 66517582201 Kenmore / Sears 66517582202 Kenmore / Sears 66517583200 Kenmore / Sears 66517583201 Kenmore / Sears 66517583202 Kenmore / Sears 66517584200 Kenmore / Sears 66517584201 Kenmore / Sears 66517584202 Kenmore / Sears 66517589200 Kenmore / Sears 66517589201 Kenmore / Sears 66517589202 Kenmore / Sears 66517592200 Kenmore / Sears 66517592202 Kenmore / Sears 66517593200 Kenmore / Sears 66517593202 Kenmore / Sears 66517594200 Kenmore / Sears 66517594202 Kenmore / Sears 66517599200 Kenmore / Sears 66517599202 Kenmore / Sears 66517692200 Kenmore / Sears 66517692201 Kenmore / Sears 66517693200 Kenmore / Sears 66517693201 Kenmore / Sears 66517694200 Kenmore / Sears 66517694201 Kenmore / Sears 66517699200 Kenmore / Sears 66517699201 Kenmore / Sears 66576962K600 Kenmore / Sears 66576962K603 Kenmore / Sears 66576965K600 Kenmore / Sears 66576965K603 Kenmore / Sears 66576972K602 Kenmore / Sears 66576972K603 Kenmore / Sears 66576975K602 Kenmore / Sears 66576975K603 Kenmore / Sears 66577962K700 Kenmore / Sears 66577962K701 Kenmore / Sears 66577962K702 Kenmore / Sears 66577962K703 Kenmore / Sears 66577962K704 Kenmore / Sears 66577963K700 Kenmore / Sears 66577963K701 Kenmore / Sears 66577963K702 Kenmore / Sears 66577963K703 Kenmore / Sears 66577963K704 Kenmore / Sears 66577969K700 Kenmore / Sears 66577969K701 Kenmore / Sears 66577969K702 Kenmore / Sears 66577969K703 Kenmore / Sears 66577969K704 Kenmore / Sears 66577972K700 Kenmore / Sears 66577972K701 Kenmore / Sears 66577972K702 Kenmore / Sears 66577972K703 Kenmore / Sears 66577972K704 Kenmore / Sears 66577973K700 Kenmore / Sears 66577973K701 Kenmore / Sears 66577973K702 Kenmore / Sears 66577973K703 Kenmore / Sears 66577973K704 Kenmore / Sears 66577979K700 Kenmore / Sears 66577979K701 Kenmore / Sears 66577979K702 Kenmore / Sears 66577979K703 Kenmore / Sears 66577979K704 Kenmore / Sears 66577982K700 Kenmore / Sears 66577982K701 Kenmore / Sears 66577982K702 Kenmore / Sears 66577982K703 Kenmore / Sears 66577983K700 Kenmore / Sears 66577983K701 Kenmore / Sears 66577983K702 Kenmore / Sears 66577983K703 Kenmore / Sears 66577989K700 Kenmore / Sears 66577989K701 Kenmore / Sears 66577989K702 Kenmore / Sears 66577989K703 Whirlpool 7GU3200XTSS1 Whirlpool 7GU3200XTVY0 Whirlpool 7GU3200XTVY2 Whirlpool 7GU3200XTVY4 Whirlpool 7GU3600XTSY1 Whirlpool 7GU3800XTVY0 Whirlpool 7GU3800XTVY2 Whirlpool 7GU3800XTVY3 Whirlpool 7GU3800XTVY5 Whirlpool 7GU3800XTVY6 Whirlpool 7WDT790SAYM0 Whirlpool 7WDT790SAYM2 Whirlpool 7WDT950SAYM0 Whirlpool 7WDT950SAYM1 Whirlpool 7WDT950SAYM2 Whirlpool BLB14BRANA0 Whirlpool BLB14DRANA0 Whirlpool DU0300XTXS0 Whirlpool DU1010XTXB0 Whirlpool DU1010XTXB1 Whirlpool DU1010XTXB2 Whirlpool DU1010XTXB3 Whirlpool DU1010XTXB4 Whirlpool DU1010XTXB5 Whirlpool DU1010XTXD0 Whirlpool DU1010XTXD1 Whirlpool DU1010XTXD2 Whirlpool DU1010XTXD3 Whirlpool DU1010XTXD4 Whirlpool DU1010XTXD5 Whirlpool DU1010XTXQ0 Whirlpool DU1010XTXQ1 Whirlpool DU1010XTXQ2 Whirlpool DU1010XTXQ3 Whirlpool DU1010XTXQ4 Whirlpool DU1010XTXQ5 Whirlpool DU1010XTXT0 Whirlpool DU1010XTXT1 Whirlpool DU1010XTXT2 Whirlpool DU1010XTXT3 Whirlpool DU1010XTXT4 Whirlpool DU1010XTXT5 Whirlpool DU1014XTXB0 Whirlpool DU1014XTXB1 Whirlpool DU1014XTXB2 Whirlpool DU1014XTXB3 Whirlpool DU1014XTXB4 Whirlpool DU1014XTXB5 Whirlpool DU1014XTXD0 Whirlpool DU1014XTXD1 Whirlpool DU1014XTXD2 Whirlpool DU1014XTXD3 Whirlpool DU1014XTXD4 Whirlpool DU1014XTXD5 Whirlpool DU1014XTXQ0 Whirlpool DU1014XTXQ1 Whirlpool DU1014XTXQ2 Whirlpool DU1014XTXQ3 Whirlpool DU1014XTXQ4 Whirlpool DU1014XTXQ5 Whirlpool DU1014XTXT0 Whirlpool DU1014XTXT1 Whirlpool DU1014XTXT2 Whirlpool DU1014XTXT3 Whirlpool DU1014XTXT4 Whirlpool DU1014XTXT5 Whirlpool DU1015XTXB0 Whirlpool DU1015XTXB1 Whirlpool DU1015XTXB2 Whirlpool DU1015XTXB3 Whirlpool DU1015XTXB4 Whirlpool DU1015XTXB5 Whirlpool DU1015XTXD0 Whirlpool DU1015XTXD1 Whirlpool DU1015XTXD2 Whirlpool DU1015XTXD3 Whirlpool DU1015XTXD4 Whirlpool DU1015XTXD5 Whirlpool DU1015XTXQ0 Whirlpool DU1015XTXQ1 Whirlpool DU1015XTXQ2 Whirlpool DU1015XTXQ3 Whirlpool DU1015XTXQ4 Whirlpool DU1015XTXQ5 Whirlpool DU1015XTXS0 Whirlpool DU1015XTXS1 Whirlpool DU1015XTXS2 Whirlpool DU1015XTXS3 Whirlpool DU1015XTXS4 Whirlpool DU1015XTXS5 Whirlpool DU1015XTXT0 Whirlpool DU1015XTXT1 Whirlpool DU1015XTXT3 Whirlpool DU1015XTXT4 Whirlpool DU1015XTXT5 Whirlpool DU1030XTXB0 Whirlpool DU1030XTXB1 Whirlpool DU1030XTXB2 Whirlpool DU1030XTXB3 Whirlpool DU1030XTXB4 Whirlpool DU1030XTXB5 Whirlpool DU1030XTXQ0 Whirlpool DU1030XTXQ1 Whirlpool DU1030XTXQ2 Whirlpool DU1030XTXQ3 Whirlpool DU1030XTXQ4 Whirlpool DU1030XTXQ5 Whirlpool DU1030XTXS0 Whirlpool DU1030XTXS1 Whirlpool DU1030XTXS2 Whirlpool DU1030XTXS3 Whirlpool DU1030XTXS4 Whirlpool DU1030XTXS5 Whirlpool DU1030XTXT0 Whirlpool DU1030XTXT1 Whirlpool DU1030XTXT2 Whirlpool DU1030XTXT3 Whirlpool DU1030XTXT4 Whirlpool DU1030XTXT5 Whirlpool DU1055XTVB0 Whirlpool DU1055XTVB1 Whirlpool DU1055XTVB2 Whirlpool DU1055XTVB3 Whirlpool DU1055XTVB5 Whirlpool DU1055XTVB6 Whirlpool DU1055XTVB7 Whirlpool DU1055XTVB8 Whirlpool DU1055XTVBA Whirlpool DU1055XTVD0 Whirlpool DU1055XTVD1 Whirlpool DU1055XTVD2 Whirlpool DU1055XTVD3 Whirlpool DU1055XTVD5 Whirlpool DU1055XTVD6 Whirlpool DU1055XTVD7 Whirlpool DU1055XTVD8 Whirlpool DU1055XTVDA Whirlpool DU1055XTVQ0 Whirlpool DU1055XTVQ1 Whirlpool DU1055XTVQ2 Whirlpool DU1055XTVQ3 Whirlpool DU1055XTVQ5 Whirlpool DU1055XTVQ6 Whirlpool DU1055XTVQ7 Whirlpool DU1055XTVQ8 Whirlpool DU1055XTVQA Whirlpool DU1055XTVS0 Whirlpool DU1055XTVS1 Whirlpool DU1055XTVS2 Whirlpool DU1055XTVS3 Whirlpool DU1055XTVS5 Whirlpool DU1055XTVS6 Whirlpool DU1055XTVS7 Whirlpool DU1055XTVS8 Whirlpool DU1055XTVSA Whirlpool DU1055XTVT0 Whirlpool DU1055XTVT1 Whirlpool DU1055XTVT2 Whirlpool DU1055XTVT3 Whirlpool DU1055XTVT5 Whirlpool DU1055XTVT6 Whirlpool DU1055XTVT7 Whirlpool DU1055XTVT8 Whirlpool DU1055XTVTA Whirlpool DU1100XTPT0 Whirlpool DU1101XTPB0 Whirlpool DU1101XTPQ0 Whirlpool DU1101XTPS1 Whirlpool DU1145XTPS6 Whirlpool DU1148XTPQ0 Whirlpool DU1300XTVB0 Whirlpool DU1300XTVB1 Whirlpool DU1300XTVB2 Whirlpool DU1300XTVB3 Whirlpool DU1300XTVB5 Whirlpool DU1300XTVB6 Whirlpool DU1300XTVB7 Whirlpool DU1300XTVB8 Whirlpool DU1300XTVQ0 Whirlpool DU1300XTVQ1 Whirlpool DU1300XTVQ2 Whirlpool DU1300XTVQ3 Whirlpool DU1300XTVQ5 Whirlpool DU1300XTVQ6 Whirlpool DU1300XTVQ7 Whirlpool DU1300XTVQ8 Whirlpool DU1300XTVS0 Whirlpool DU1300XTVS1 Whirlpool DU1300XTVS2 Whirlpool DU1300XTVS3 Whirlpool DU1300XTVS5 Whirlpool DU1300XTVS6 Whirlpool DU1300XTVS7 Whirlpool DU1300XTVS8 Whirlpool DU1300XTVT0 Whirlpool DU1300XTVT1 Whirlpool DU1300XTVT2 Whirlpool DU1300XTVT3 Whirlpool DU1300XTVT5 Whirlpool DU1300XTVT6 Whirlpool DU1300XTVT7 Whirlpool DU1300XTVT8 Whirlpool DU1345XTVB1 Whirlpool DU1345XTVB2 Whirlpool DU1345XTVB4 Whirlpool DU1345XTVQ1 Whirlpool DU1345XTVQ2 Whirlpool DU1345XTVQ4 Whirlpool DUC600XTPQ3 Whirlpool DUL240XTPB0 Whirlpool DUL240XTPB1 Whirlpool DUL240XTPS0 Whirlpool DUL240XTPT0 Whirlpool DUL240XTPT1 Whirlpool DUL240XTPT3 Whirlpool DUL240XTPT6 Whirlpool DW324K1ABL0 Whirlpool DW324K1ASS0 Whirlpool DW324K1AWH0 Whirlpool DW524L1ABL0 Whirlpool DW524L1ASS0 Whirlpool DW524L1AWH0 Whirlpool DW524M1ACU0 Whirlpool DW524M1ASS0 Whirlpool DW724M1ASS0 Whirlpool GU1100XTLB0 Whirlpool GU1100XTLB1 Whirlpool GU1100XTLQ0 Whirlpool GU1100XTLQ1 Whirlpool GU1100XTLS0 Whirlpool GU1100XTLS0 Whirlpool GU1100XTLS1 Whirlpool GU1100XTLT0 Whirlpool GU1100XTLT1 Whirlpool GU1101XTLB0 Whirlpool GU1101XTLQ0 Whirlpool GU1101XTLS0 Whirlpool GU1101XTLT0 Whirlpool GU1108XTLB0 Whirlpool GU1108XTLB1 Whirlpool GU1108XTLQ0 Whirlpool GU1108XTLQ1 Whirlpool GU1200XTLB0 Whirlpool GU1200XTLB1 Whirlpool GU1200XTLB2 Whirlpool GU1200XTLQ0 Whirlpool GU1200XTLQ2 Whirlpool GU1200XTLQ3 Whirlpool GU1200XTLS0 Whirlpool GU1200XTLS1 Whirlpool GU1200XTLS2 Whirlpool GU1200XTLS3 Whirlpool GU1200XTLT0 Whirlpool GU1200XTLT1 Whirlpool GU1200XTLT2 Whirlpool GU1500XTLB0 Whirlpool GU1500XTLQ0 Whirlpool GU1500XTLS0 Whirlpool GU1500XTLT0 Whirlpool GU2300XTKS0 Whirlpool GU2300XTLB0 Whirlpool GU2300XTLB1 Whirlpool GU2300XTLB2 Whirlpool GU2300XTLB2 Whirlpool GU2300XTLB3 Whirlpool GU2300XTLQ0 Whirlpool GU2300XTLQ0 Whirlpool GU2300XTLQ1 Whirlpool GU2300XTLQ1 Whirlpool GU2300XTLQ2 Whirlpool GU2300XTLQ2 Whirlpool GU2300XTLQ3 Whirlpool GU2300XTLS0 Whirlpool GU2300XTLS1 Whirlpool GU2300XTLS1 Whirlpool GU2300XTLS2 Whirlpool GU2300XTLS3 Whirlpool GU2400XTPB0 Whirlpool GU2400XTPB1 Whirlpool GU2400XTPB6 Whirlpool GU2400XTPQ0 Whirlpool GU2400XTPQ1 Whirlpool GU2400XTPQ6 Whirlpool GU2400XTPS0 Whirlpool GU2400XTPS1 Whirlpool GU2400XTPS6 Whirlpool GU2400XTPT0 Whirlpool GU2400XTPT1 Whirlpool GU2400XTPT6 Whirlpool GU2500XTPT0 Whirlpool GU2548XTPB0 Whirlpool GU2548XTPT0 Whirlpool GU2600XTPB6 Whirlpool GU2600XTPT0 Whirlpool GU2600XTPT1 Whirlpool GU2600XTPT6 Whirlpool GU3000XTXB0 Whirlpool GU3000XTXB1 Whirlpool GU3000XTXB2 Whirlpool GU3000XTXB3 Whirlpool GU3000XTXQ0 Whirlpool GU3000XTXQ1 Whirlpool GU3000XTXQ2 Whirlpool GU3000XTXQ3 Whirlpool GU3000XTXS0 Whirlpool GU3000XTXS1 Whirlpool GU3000XTXS2 Whirlpool GU3000XTXS3 Whirlpool GU3200XTPB1 Whirlpool GU3200XTPB4 Whirlpool GU3200XTPB5 Whirlpool GU3200XTPQ1 Whirlpool GU3200XTPQ4 Whirlpool GU3200XTPQ5 Whirlpool GU3200XTPS1 Whirlpool GU3200XTPS4 Whirlpool GU3200XTSB0 Whirlpool GU3200XTSB1 Whirlpool GU3200XTSB1 Whirlpool GU3200XTSB2 Whirlpool GU3200XTSQ0 Whirlpool GU3200XTSQ1 Whirlpool GU3200XTSQ1 Whirlpool GU3200XTSQ2 Whirlpool GU3200XTSS0 Whirlpool GU3200XTSS1 Whirlpool GU3200XTSS2 Whirlpool GU3200XTVB0 Whirlpool GU3200XTVB1 Whirlpool GU3200XTVB2 Whirlpool GU3200XTVB3 Whirlpool GU3200XTVQ0 Whirlpool GU3200XTVQ1 Whirlpool GU3200XTVQ2 Whirlpool GU3200XTVQ3 Whirlpool GU3200XTVY0 Whirlpool GU3200XTVY1 Whirlpool GU3200XTVY2 Whirlpool GU3200XTVY3 Whirlpool GU3200XTXB0 Whirlpool GU3200XTXB1 Whirlpool GU3200XTXB2 Whirlpool GU3200XTXB3 Whirlpool GU3200XTXB4 Whirlpool GU3200XTXQ0 Whirlpool GU3200XTXQ1 Whirlpool GU3200XTXQ2 Whirlpool GU3200XTXQ3 Whirlpool GU3200XTXQ4 Whirlpool GU3200XTXY0 Whirlpool GU3200XTXY1 Whirlpool GU3200XTXY2 Whirlpool GU3200XTXY3 Whirlpool GU3200XTXY4 Whirlpool GU3600XTRQ1 Whirlpool GU3600XTRY0 Whirlpool GU3600XTSB1 Whirlpool GU3600XTSQ1 Whirlpool GU3600XTSQ2 Whirlpool GU3600XTSY1 Whirlpool GU3600XTSY2 Whirlpool GU3600XTVB0 Whirlpool GU3600XTVB1 Whirlpool GU3600XTVB2 Whirlpool GU3600XTVB3 Whirlpool GU3600XTVB4 Whirlpool GU3600XTVQ0 Whirlpool GU3600XTVQ1 Whirlpool GU3600XTVQ2 Whirlpool GU3600XTVQ3 Whirlpool GU3600XTVQ4 Whirlpool GU3600XTVS0 Whirlpool GU3600XTVT0 Whirlpool GU3600XTVY0 Whirlpool GU3600XTVY1 Whirlpool GU3600XTVY2 Whirlpool GU3600XTVY3 Whirlpool GU3600XTVY4 Whirlpool IPU98660 Whirlpool IPU98662 Whirlpool IPU98665 Whirlpool IUD7500BS0 Whirlpool IUD7500BS1 Whirlpool IUD8000RQ4 Whirlpool IUD8000RS4 Whirlpool IUD8500BX0 Whirlpool IUD9500VX0 Whirlpool IUD9500WX0 Whirlpool IUD9500WX2 Whirlpool IUD9500WX3 Whirlpool IUD9500WX4 Whirlpool IUD9750VS0 Whirlpool IUD9750WS0 Whirlpool IUD9750WS1 Whirlpool IUD9750WS2 Whirlpool IUD9750WS3 Whirlpool IUD9750WS4 Maytag JDB3000AWB0 Maytag JDB3000AWB1 Maytag JDB3000AWB2 Maytag JDB3000AWB3 Maytag JDB3000AWS0 Maytag JDB3000AWS1 Maytag JDB3000AWS2 Maytag JDB3000AWS3 Maytag JDB3000AWW0 Maytag JDB3000AWW1 Maytag JDB3000AWW2 Maytag JDB3000AWW3 Maytag JDB3200AWB0 Maytag JDB3200AWB1 Maytag JDB3200AWB2 Maytag JDB3200AWB3 Jenn-Air JDB3200AWB4 Jenn-Air JDB3200AWB5 Maytag JDB3200AWS0 Maytag JDB3200AWS1 Maytag JDB3200AWS2 Maytag JDB3200AWS3 Jenn-Air JDB3200AWS4 Jenn-Air JDB3200AWS5 Maytag JDB3200AWW0 Maytag JDB3200AWW1 Maytag JDB3200AWW2 Maytag JDB3200AWW3 Jenn-Air JDB3200AWW4 Jenn-Air JDB3200AWW5 Maytag JDB3600AWP0 Maytag JDB3600AWP1 Maytag JDB3600AWP2 Maytag JDB3600AWP3 Jenn-Air JDB3600AWP4 Jenn-Air JDB3600AWP5 Maytag JDB3600AWS0 Maytag JDB3600AWS1 Maytag JDB3600AWS2 Maytag JDB3600AWS3 Jenn-Air JDB3600AWS4 Jenn-Air JDB3600AWS5 Maytag JDB3600AWX0 Maytag JDB3600AWX1 Maytag JDB3600AWX2 Maytag JDB3600AWX3 Jenn-Air JDB3600AWX4 Jenn-Air JDB3600AWX5 Maytag JDB3650AWF0 Maytag JDB3650AWF1 Maytag JDB3650AWF2 Maytag JDB3650AWF3 Jenn-Air JDB3650AWF4 Jenn-Air JDB3650AWF5 Maytag JDB3650AWR0 Maytag JDB3650AWR1 Maytag JDB3650AWR2 Maytag JDB3650AWR3 Jenn-Air JDB3650AWR4 Jenn-Air JDB3650AWR5 Maytag JDB3650AWY0 Maytag JDB3650AWY1 Maytag JDB3650AWY2 Maytag JDB3650AWY3 Jenn-Air JDB3650AWY4 Jenn-Air JDB3650AWY5 Jenn-Air JDB8000AWB0 Jenn-Air JDB8000AWB1 Jenn-Air JDB8000AWC0 Maytag JDB8000AWC1 Jenn-Air JDB8000AWS0 Jenn-Air JDB8000AWS1 Jenn-Air JDB8200AWP0 Jenn-Air JDB8200AWP1 Jenn-Air JDB8200AWS0 Jenn-Air JDB8200AWS1 Jenn-Air JDB8500AWF1 Jenn-Air JDB8500AWX1 Jenn-Air JDB8500AWY1 Jenn-Air JDB8700AWP0 Jenn-Air JDB8700AWP1 Jenn-Air JDB8700AWS0 Jenn-Air JDB8700AWS1 KitchenAid KDFE454CSS0 KitchenAid KUDA03CTBL0 Whirlpool KUDA03CTBL0 KitchenAid KUDA03CTBL2 KitchenAid KUDA03CTBL3 Whirlpool KUDA03CTBS0 KitchenAid KUDA03CTBS1 KitchenAid KUDA03CTBS3 Whirlpool KUDA03CTWH0 KitchenAid KUDA03CTWH1 KitchenAid KUDA03CTWH3 KitchenAid KUDB03CTBL0 Whirlpool KUDB03CTBL0 KitchenAid KUDB03CTBL1 KitchenAid KUDB03CTBL2 KitchenAid KUDB03CTBS0 Whirlpool KUDB03CTBS0 KitchenAid KUDB03CTBS1 KitchenAid KUDB03CTBS2 Whirlpool KUDC01TMBL0 Whirlpool KUDC01TMBL1 Whirlpool KUDC01TMWH1 Whirlpool KUDC01TMWHO KitchenAid KUDC01TMWHO Whirlpool KUDC02IRBL1 Whirlpool KUDC02IRBL3 KitchenAid KUDC02IRBL4 KitchenAid KUDC02IRBS2 Whirlpool KUDC02IRBS3 KitchenAid KUDC02IRBS4 KitchenAid KUDC02IRWH0 Whirlpool KUDC02IRWH1 KitchenAid KUDC02IRWH1 KitchenAid KUDC02IRWH3 Whirlpool KUDC02IRWH3 KitchenAid KUDC02IRWH4 Whirlpool KUDC03FTSS0 KitchenAid KUDC03FVBL3 KitchenAid KUDC03FVBL4 KitchenAid KUDC03FVBL5 KitchenAid KUDC03FVSS0 KitchenAid KUDC03FVSS2 KitchenAid KUDC03FVSS3 KitchenAid KUDC03FVSS4 KitchenAid KUDC03FVSS5 KitchenAid KUDC03FVWH3 KitchenAid KUDC03FVWH4 KitchenAid KUDC03FVWH5 KitchenAid KUDC03ITBL0 Whirlpool KUDC03ITBL0 KitchenAid KUDC03ITBL1 KitchenAid KUDC03ITBL2 KitchenAid KUDC03ITBL3 KitchenAid KUDC03ITBS0 Whirlpool KUDC03ITBS0 KitchenAid KUDC03ITBS1 KitchenAid KUDC03ITBS2 KitchenAid KUDC03ITBS3 KitchenAid KUDC03IVBL0 KitchenAid KUDC03IVBL1 KitchenAid KUDC03IVBL2 KitchenAid KUDC03IVBL3 KitchenAid KUDC03IVBL4 KitchenAid KUDC03IVBS0 KitchenAid KUDC03IVBS1 KitchenAid KUDC03IVBS2 KitchenAid KUDC03IVBS3 KitchenAid KUDC03IVBS4 KitchenAid KUDC03IVWH0 KitchenAid KUDC03IVWH1 KitchenAid KUDC03IVWH2 KitchenAid KUDC03IVWH3 KitchenAid KUDC03IVWH4 KitchenAid KUDC10FBBL0 KitchenAid KUDC10FBSS0 KitchenAid KUDC10FBWH0 KitchenAid KUDC10FXBL0 KitchenAid KUDC10FXBL1 KitchenAid KUDC10FXBL2 KitchenAid KUDC10FXBL3 KitchenAid KUDC10FXBL4 KitchenAid KUDC10FXBL5 KitchenAid KUDC10FXBL6 KitchenAid KUDC10FXSS0 KitchenAid KUDC10FXSS1 KitchenAid KUDC10FXSS2 KitchenAid KUDC10FXSS3 KitchenAid KUDC10FXSS4 KitchenAid KUDC10FXSS5 KitchenAid KUDC10FXSS6 KitchenAid KUDC10FXWH0 KitchenAid KUDC10FXWH1 KitchenAid KUDC10FXWH2 KitchenAid KUDC10FXWH3 KitchenAid KUDC10FXWH4 KitchenAid KUDC10FXWH5 KitchenAid KUDC10FXWH6 KitchenAid KUDC10IBBL0 KitchenAid KUDC10IBSS0 KitchenAid KUDC10IBWH0 KitchenAid KUDC10IXBL0 KitchenAid KUDC10IXBL1 KitchenAid KUDC10IXBL2 KitchenAid KUDC10IXBL3 KitchenAid KUDC10IXBL4 KitchenAid KUDC10IXBL6 KitchenAid KUDC10IXBL7 KitchenAid KUDC10IXBL8 KitchenAid KUDC10IXSS0 KitchenAid KUDC10IXSS1 KitchenAid KUDC10IXSS2 KitchenAid KUDC10IXSS3 KitchenAid KUDC10IXSS4 KitchenAid KUDC10IXSS6 KitchenAid KUDC10IXSS7 KitchenAid KUDC10IXSS8 KitchenAid KUDC10IXWH0 KitchenAid KUDC10IXWH1 KitchenAid KUDC10IXWH2 KitchenAid KUDC10IXWH3 KitchenAid KUDC10IXWH4 KitchenAid KUDC10IXWH6 KitchenAid KUDC10IXWH7 KitchenAid KUDC10IXWH8 KitchenAid KUDC20CVBL0 KitchenAid KUDC20CVBL2 KitchenAid KUDC20CVBL3 KitchenAid KUDC20CVBL4 KitchenAid KUDC20CVBL5 KitchenAid KUDC20CVSS0 KitchenAid KUDC20CVSS2 KitchenAid KUDC20CVSS3 KitchenAid KUDC20CVSS4 KitchenAid KUDC20CVSS5 KitchenAid KUDC20CVWH0 KitchenAid KUDC20CVWH2 KitchenAid KUDC20CVWH3 KitchenAid KUDC20CVWH4 KitchenAid KUDC20CVWH5 KitchenAid KUDC20FVBL0 KitchenAid KUDC20FVBL2 KitchenAid KUDC20FVBL3 KitchenAid KUDC20FVBL4 KitchenAid KUDC20FVSS0 KitchenAid KUDC20FVSS2 KitchenAid KUDC20FVSS3 KitchenAid KUDC20FVSS4 KitchenAid KUDC20FVWH0 KitchenAid KUDC20FVWH2 KitchenAid KUDC20FVWH3 KitchenAid KUDC20FVWH4 KitchenAid KUDE03FTBL0 KitchenAid KUDE03FTBL1 KitchenAid KUDE03FTSS0 KitchenAid KUDE03FTSS1 KitchenAid KUDE03FTWH0 KitchenAid KUDE03FTWH1 KitchenAid KUDE20FBBL0 KitchenAid KUDE20FBSS0 KitchenAid KUDE20FBWH0 KitchenAid KUDE20FXBL0 KitchenAid KUDE20FXBL1 KitchenAid KUDE20FXBL2 KitchenAid KUDE20FXBL3 KitchenAid KUDE20FXBL4 KitchenAid KUDE20FXSS0 KitchenAid KUDE20FXSS1 KitchenAid KUDE20FXSS2 KitchenAid KUDE20FXSS3 KitchenAid KUDE20FXSS4 KitchenAid KUDE20FXWH0 KitchenAid KUDE20FXWH1 KitchenAid KUDE20FXWH2 KitchenAid KUDE20FXWH3 KitchenAid KUDE20FXWH4 KitchenAid KUDE20IXBL0 KitchenAid KUDE20IXBL1 KitchenAid KUDE20IXBL2 KitchenAid KUDE20IXBL3 KitchenAid KUDE20IXBL4 KitchenAid KUDE20IXBL6 KitchenAid KUDE20IXBL8 KitchenAid KUDE20IXBL9 KitchenAid KUDE20IXSS0 KitchenAid KUDE20IXSS1 KitchenAid KUDE20IXSS2 KitchenAid KUDE20IXSS3 KitchenAid KUDE20IXSS4 KitchenAid KUDE20IXSS6 KitchenAid KUDE20IXSS8 KitchenAid KUDE20IXSS9 KitchenAid KUDE20IXWH0 KitchenAid KUDE20IXWH1 KitchenAid KUDE20IXWH2 KitchenAid KUDE20IXWH3 KitchenAid KUDE20IXWH4 KitchenAid KUDE20IXWH6 KitchenAid KUDE20IXWH8 KitchenAid KUDE20IXWH9 KitchenAid KUDE40CVBL0 KitchenAid KUDE40CVBL1 KitchenAid KUDE40CVBL2 KitchenAid KUDE40CVBL3 KitchenAid KUDE40CVSS0 KitchenAid KUDE40CVSS1 KitchenAid KUDE40CVSS2 KitchenAid KUDE40CVSS3 KitchenAid KUDE40CVWH0 KitchenAid KUDE40CVWH1 KitchenAid KUDE40CVWH2 KitchenAid KUDE40CVWH3 KitchenAid KUDE40FXBL0 KitchenAid KUDE40FXBL1 KitchenAid KUDE40FXBL2 KitchenAid KUDE40FXBL3 KitchenAid KUDE40FXBL4 KitchenAid KUDE40FXBL5 KitchenAid KUDE40FXBL6 KitchenAid KUDE40FXBT0 KitchenAid KUDE40FXBT1 KitchenAid KUDE40FXBT2 KitchenAid KUDE40FXBT3 KitchenAid KUDE40FXBT4 KitchenAid KUDE40FXBT5 KitchenAid KUDE40FXBT6 KitchenAid KUDE40FXPA0 KitchenAid KUDE40FXPA1 KitchenAid KUDE40FXPA2 KitchenAid KUDE40FXPA3 KitchenAid KUDE40FXPA4 KitchenAid KUDE40FXPA6 KitchenAid KUDE40FXSP0 KitchenAid KUDE40FXSP1 KitchenAid KUDE40FXSP2 KitchenAid KUDE40FXSP3 KitchenAid KUDE40FXSP4 KitchenAid KUDE40FXSP5 KitchenAid KUDE40FXSS0 KitchenAid KUDE40FXSS1 KitchenAid KUDE40FXSS2 KitchenAid KUDE40FXSS3 KitchenAid KUDE40FXSS4 KitchenAid KUDE40FXSS5 KitchenAid KUDE40FXSS6 KitchenAid KUDE40FXWH0 KitchenAid KUDE40FXWH1 KitchenAid KUDE40FXWH2 KitchenAid KUDE40FXWH3 KitchenAid KUDE40FXWH4 KitchenAid KUDE40FXWH5 KitchenAid KUDE40FXWH6 KitchenAid KUDE45CVBL0 KitchenAid KUDE45CVBL1 KitchenAid KUDE45CVBL2 KitchenAid KUDE45CVBL3 KitchenAid KUDE45CVSS0 KitchenAid KUDE45CVSS1 KitchenAid KUDE45CVSS2 KitchenAid KUDE45CVSS3 KitchenAid KUDE45CVWH0 KitchenAid KUDE45CVWH1 KitchenAid KUDE45CVWH2 KitchenAid KUDE45CVWH3 KitchenAid KUDE48FXBL0 KitchenAid KUDE48FXBL1 KitchenAid KUDE48FXBL2 KitchenAid KUDE48FXBL3 KitchenAid KUDE48FXBL4 KitchenAid KUDE48FXBL5 KitchenAid KUDE48FXPA5 KitchenAid KUDE48FXSP5 KitchenAid KUDE48FXSS0 KitchenAid KUDE48FXSS1 KitchenAid KUDE48FXSS2 KitchenAid KUDE48FXSS3 KitchenAid KUDE48FXSS4 KitchenAid KUDE48FXSS5 KitchenAid KUDE48FXWH0 KitchenAid KUDE48FXWH1 KitchenAid KUDE48FXWH2 KitchenAid KUDE48FXWH3 KitchenAid KUDE48FXWH4 KitchenAid KUDE48FXWH5 KitchenAid KUDE50CVSS3 KitchenAid KUDE50CXSS0 KitchenAid KUDE50CXSS1 KitchenAid KUDE50CXSS2 KitchenAid KUDE50CXSS4 KitchenAid KUDE50CXSS6 KitchenAid KUDE50CXSS8 KitchenAid KUDE50CXSS9 KitchenAid KUDE50FBSS0 KitchenAid KUDE60FVBL0 KitchenAid KUDE60FVBL1 KitchenAid KUDE60FVBL2 KitchenAid KUDE60FVBL3 KitchenAid KUDE60FVPA0 KitchenAid KUDE60FVPA1 KitchenAid KUDE60FVPA2 KitchenAid KUDE60FVPA3 KitchenAid KUDE60FVPA4 KitchenAid KUDE60FVSS0 KitchenAid KUDE60FVSS1 KitchenAid KUDE60FVSS2 KitchenAid KUDE60FVSS3 KitchenAid KUDE60FVWH0 KitchenAid KUDE60FVWH1 KitchenAid KUDE60FVWH2 KitchenAid KUDE60FVWH3 KitchenAid KUDE60FXBL0 KitchenAid KUDE60FXBL1 KitchenAid KUDE60FXBL2 KitchenAid KUDE60FXBL3 KitchenAid KUDE60FXBL4 KitchenAid KUDE60FXBL5 KitchenAid KUDE60FXPA0 KitchenAid KUDE60FXPA1 KitchenAid KUDE60FXPA2 KitchenAid KUDE60FXPA3 KitchenAid KUDE60FXSS0 KitchenAid KUDE60FXSS1 KitchenAid KUDE60FXSS2 KitchenAid KUDE60FXSS3 KitchenAid KUDE60FXSS4 KitchenAid KUDE60FXSS5 KitchenAid KUDE60FXWH0 KitchenAid KUDE60FXWH1 KitchenAid KUDE60FXWH2 KitchenAid KUDE60FXWH3 KitchenAid KUDE60FXWH4 KitchenAid KUDE60FXWH5 KitchenAid KUDE60HXSS0 KitchenAid KUDE60HXSS1 KitchenAid KUDE60HXSS2 KitchenAid KUDE60HXSS3 KitchenAid KUDE60HXSS4 KitchenAid KUDE60HXSS5 KitchenAid KUDE60SXSS0 KitchenAid KUDE60SXSS1 KitchenAid KUDE60SXSS2 KitchenAid KUDE60SXSS3 KitchenAid KUDE70CVSS0 KitchenAid KUDE70CVSS1 KitchenAid KUDE70CVSS2 KitchenAid KUDE70CVSS3 KitchenAid KUDE70FVPA0 KitchenAid KUDE70FVPA1 KitchenAid KUDE70FVPA2 KitchenAid KUDE70FVPA3 KitchenAid KUDE70FVPA4 KitchenAid KUDE70FVSS0 KitchenAid KUDE70FVSS1 KitchenAid KUDE70FVSS2 KitchenAid KUDE70FVSS3 KitchenAid KUDE70FXBL5 KitchenAid KUDE70FXPA0 KitchenAid KUDE70FXPA1 KitchenAid KUDE70FXPA2 KitchenAid KUDE70FXPA3 KitchenAid KUDE70FXPA5 KitchenAid KUDE70FXSS0 KitchenAid KUDE70FXSS1 KitchenAid KUDE70FXSS2 KitchenAid KUDE70FXSS3 KitchenAid KUDE70FXSS4 KitchenAid KUDE70FXSS5 KitchenAid KUDE70FXWH5 Whirlpool KUDI01DLBL0 Whirlpool KUDI01DLBL1 Whirlpool KUDI01DLBL2 Whirlpool KUDI01DLBS0 Whirlpool KUDI01DLBS1 Whirlpool KUDI01DLBS2 Whirlpool KUDI01DLBT0 Whirlpool KUDI01DLBT1 KitchenAid KUDI01DLBT1 KitchenAid KUDI01DLBT2 Whirlpool KUDI01DLBT2 KitchenAid KUDI01DLBT3 KitchenAid KUDI01DLBT6 KitchenAid KUDI01DLSS0 Whirlpool KUDI01DLWH0 Whirlpool KUDI01DLWH1 KitchenAid KUDI01DLWH1 Whirlpool KUDI01DLWH2 Whirlpool KUDI01FKBL0 Whirlpool KUDI01FKBL0 KitchenAid KUDI01FKBL1 Whirlpool KUDI01FKBL1 Whirlpool KUDI01FKSS0 Whirlpool KUDI01FKSS0 Whirlpool KUDI01FKSS1 Whirlpool KUDI01FKWH0 Whirlpool KUDI01FKWH0 KitchenAid KUDI01FKWH1 Whirlpool KUDI01FKWH1 Whirlpool KUDI01FLBL0 Whirlpool KUDI01FLBL1 Whirlpool KUDI01FLBL1 Whirlpool KUDI01FLBL2 Whirlpool KUDI01FLBL2 Whirlpool KUDI01FLBT0 Whirlpool KUDI01FLBT1 Whirlpool KUDI01FLBT1 Whirlpool KUDI01FLBT2 Whirlpool KUDI01FLBT2 KitchenAid KUDI01FLBT2 Whirlpool KUDI01FLSS0 Whirlpool KUDI01FLSS1 Whirlpool KUDI01FLSS1 Whirlpool KUDI01FLSS2 Whirlpool KUDI01FLSS2 Whirlpool KUDI01FLWH0 Whirlpool KUDI01FLWH1 Whirlpool KUDI01FLWH1 Whirlpool KUDI01FLWH2 Whirlpool KUDI01FLWH2 Whirlpool KUDI01ILBL0 Whirlpool KUDI01ILBL1 Whirlpool KUDI01ILBL2 Whirlpool KUDI01ILBS0 Whirlpool KUDI01ILBS1 Whirlpool KUDI01ILBS2 Whirlpool KUDI01ILBT0 Whirlpool KUDI01ILBT1 Whirlpool KUDI01ILBT2 KitchenAid KUDI01ILBT3 Whirlpool KUDI01ILWH0 Whirlpool KUDI01ILWH1 Whirlpool KUDI01ILWH2 Whirlpool KUDI01TJBL0 Whirlpool KUDI01TJBL1 Whirlpool KUDI01TJBT0 Whirlpool KUDI01TJBT1 Whirlpool KUDI01TJWH0 Whirlpool KUDI01TJWH1 KitchenAid KUDI02CRBL3 Whirlpool KUDI02CRBL3 KitchenAid KUDI02CRBL4 Whirlpool KUDI02CRBS3 KitchenAid KUDI02CRBS4 KitchenAid KUDI02CRWH0 KitchenAid KUDI02CRWH2 Whirlpool KUDI02CRWH3 KitchenAid KUDI02CRWH3 KitchenAid KUDI02CRWH4 KitchenAid KUDI02FRBL2 Whirlpool KUDI02FRBL3 KitchenAid KUDI02FRBL3 KitchenAid KUDI02FRBL4 Whirlpool KUDI02FRSS3 KitchenAid KUDI02FRWH1 KitchenAid KUDI02FRWH2 Whirlpool KUDI02FRWH3 KitchenAid KUDI02FRWH4 Whirlpool KUDI02IRBL3 Whirlpool KUDI02IRBS3 KitchenAid KUDI02IRBT3 Whirlpool KUDI02IRBT3 KitchenAid KUDI02IRBT4 Whirlpool KUDI02IRWH3 Whirlpool KUDJ01TJBL0 KitchenAid KUDJ01TJBL1 Whirlpool KUDJ01TJBL1 KitchenAid KUDJ01TJBT0 Whirlpool KUDJ01TJBT0 KitchenAid KUDJ01TJBT1 Whirlpool KUDJ01TJBT1 KitchenAid KUDJ01TJWH0 Whirlpool KUDJ01TJWH0 KitchenAid KUDJ01TJWH1 Whirlpool KUDJ01TJWH1 KitchenAid KUDJ02CRBS0 Whirlpool KUDJ02CRBS3 KitchenAid KUDJ02CRBS4 Whirlpool KUDK01ILBS0 Whirlpool KUDK01ILBS1 Whirlpool KUDK01ILBS2 Whirlpool KUDK01TKBL0 Whirlpool KUDK01TKBL1 Whirlpool KUDK01TKBS0 Whirlpool KUDK01TKBS1 KitchenAid KUDK01TKBS1 Whirlpool KUDK01TKBT0 Whirlpool KUDK01TKBT1 Whirlpool KUDK01TKWH0 Whirlpool KUDK01TKWH1 KitchenAid KUDK02CRBL3 Whirlpool KUDK02CRBL3 KitchenAid KUDK02CRBL4 Whirlpool KUDK02CRBS3 KitchenAid KUDK02CRWH1 KitchenAid KUDK02CRWH2 Whirlpool KUDK02CRWH3 KitchenAid KUDK02CRWH3 KitchenAid KUDK02CRWH4 Whirlpool KUDK03CTBL0 KitchenAid KUDK03CTBL0 KitchenAid KUDK03CTBL3 Whirlpool KUDK03CTSS0 Whirlpool KUDK03CTWH0 KitchenAid KUDK03CTWH1 KitchenAid KUDK03CTWH2 KitchenAid KUDK03CTWH3 KitchenAid KUDK03FTBL0 Whirlpool KUDK03FTBL0 KitchenAid KUDK03FTBL1 KitchenAid KUDK03FTBL2 KitchenAid KUDK03FTBL3 Whirlpool KUDK03FTSS0 KitchenAid KUDK03FTSS3 KitchenAid KUDK03FTWH0 Whirlpool KUDK03FTWH0 KitchenAid KUDK03FTWH1 KitchenAid KUDK03FTWH2 KitchenAid KUDK03FTWH3 Whirlpool KUDK03ITBL0 KitchenAid KUDK03ITBL3 Whirlpool KUDK03ITBS0 KitchenAid KUDK03ITBS2 KitchenAid KUDK03ITBS3 Whirlpool KUDK03ITBT0 KitchenAid KUDK03ITBT1 KitchenAid KUDK03ITBT3 Whirlpool KUDK03ITWH0 KitchenAid KUDK03ITWH3 KitchenAid KUDK30IVBS2 KitchenAid KUDK30IVBS3 KitchenAid KUDK30IVBS4 KitchenAid KUDK30IVSS3 KitchenAid KUDK30IVSS4 Whirlpool KUDL01ILBS0 Whirlpool KUDL01ILBS1 Whirlpool KUDL01ILBS2 Whirlpool KUDL01TKBL0 Whirlpool KUDL01TKBT0 KitchenAid KUDL01TKBT0 KitchenAid KUDL01TKWH0 Whirlpool KUDL01TKWH0 Whirlpool KUDL02FRSS3 Whirlpool KUDL02IRBS3 KitchenAid KUDL03FVSS0 KitchenAid KUDL03FVSS3 KitchenAid KUDL03FVSS4 Whirlpool KUDL03ITSS0 KitchenAid KUDL03ITSS3 KitchenAid KUDL03IVBL0 KitchenAid KUDL03IVBL2 KitchenAid KUDL03IVBL3 KitchenAid KUDL03IVBL4 KitchenAid KUDL03IVWH0 KitchenAid KUDL03IVWH2 KitchenAid KUDL03IVWH3 KitchenAid KUDL03IVWH4 KitchenAid KUDL15FXBL0 KitchenAid KUDL15FXBL1 KitchenAid KUDL15FXBL2 KitchenAid KUDL15FXBL3 KitchenAid KUDL15FXBL4 KitchenAid KUDL15FXBL5 KitchenAid KUDL15FXBL6 KitchenAid KUDL15FXSS0 KitchenAid KUDL15FXSS1 KitchenAid KUDL15FXSS2 KitchenAid KUDL15FXSS3 KitchenAid KUDL15FXSS4 KitchenAid KUDL15FXSS5 KitchenAid KUDL15FXSS6 KitchenAid KUDL15FXWH0 KitchenAid KUDL15FXWH1 KitchenAid KUDL15FXWH2 KitchenAid KUDL15FXWH3 KitchenAid KUDL15FXWH4 KitchenAid KUDL15FXWH5 KitchenAid KUDL15FXWH6 KitchenAid KUDL40CVBL0 KitchenAid KUDL40CVBL2 KitchenAid KUDL40CVBL3 KitchenAid KUDL40CVBL4 KitchenAid KUDL40CVSS0 KitchenAid KUDL40CVSS2 KitchenAid KUDL40CVSS3 KitchenAid KUDL40CVSS4 KitchenAid KUDL40CVWH0 KitchenAid KUDL40CVWH2 KitchenAid KUDL40CVWH3 KitchenAid KUDL40CVWH4 Whirlpool KUDM01FKBL0 Whirlpool KUDM01FKBL1 Whirlpool KUDM01FKBL1 KitchenAid KUDM01FKBT0 Whirlpool KUDM01FKBT0 Whirlpool KUDM01FKBT1 Whirlpool KUDM01FKBT1 Whirlpool KUDM01FKSS0 Whirlpool KUDM01FKSS1 Whirlpool KUDM01FKSS1 Whirlpool KUDM01FKWH0 Whirlpool KUDM01FKWH1 Whirlpool KUDM01FKWH1 Whirlpool KUDM01TJBL0 Whirlpool KUDM01TJBL1 Whirlpool KUDM01TJBS0 Whirlpool KUDM01TJBS1 Whirlpool KUDM01TJBT0 Whirlpool KUDM01TJBT1 Whirlpool KUDM01TJWH0 Whirlpool KUDM01TJWH1 KitchenAid KUDM03FTBL1 KitchenAid KUDM03FTBL2 KitchenAid KUDM03FTBL3 KitchenAid KUDM03FTSS1 KitchenAid KUDM03FTSS3 KitchenAid KUDM03FTWH1 KitchenAid KUDM03FTWH2 KitchenAid KUDM03FTWH3 Whirlpool KUDP01DLBL0 Whirlpool KUDP01DLBL1 Whirlpool KUDP01DLBL2 Whirlpool KUDP01DLBS0 Whirlpool KUDP01DLBS1 Whirlpool KUDP01DLBS2 Whirlpool KUDP01DLBT0 KitchenAid KUDP01DLBT1 Whirlpool KUDP01DLBT1 KitchenAid KUDP01DLBT2 Whirlpool KUDP01DLBT2 KitchenAid KUDP01DLBT5 KitchenAid KUDP01DLBT7 Whirlpool KUDP01DLWH0 Whirlpool KUDP01DLWH1 Whirlpool KUDP01DLWH2 KitchenAid KUDP01DLWH7 Whirlpool KUDP01FLBL0 Whirlpool KUDP01FLBL1 Whirlpool KUDP01FLBL2 Whirlpool KUDP01FLBT0 Whirlpool KUDP01FLBT1 KitchenAid KUDP01FLBT1 Whirlpool KUDP01FLBT2 Whirlpool KUDP01FLSS0 Whirlpool KUDP01FLSS1 Whirlpool KUDP01FLSS2 Whirlpool KUDP01FLWH0 Whirlpool KUDP01FLWH1 Whirlpool KUDP01FLWH2 Whirlpool KUDP01ILBL0 Whirlpool KUDP01ILBL1 Whirlpool KUDP01ILBL2 KitchenAid KUDP01ILBL7 Whirlpool KUDP01ILBS0 Whirlpool KUDP01ILBS1 Whirlpool KUDP01ILBS2 KitchenAid KUDP01ILBS7 Whirlpool KUDP01ILBT0 Whirlpool KUDP01ILBT1 Whirlpool KUDP01ILBT2 KitchenAid KUDP01ILBT5 KitchenAid KUDP01ILBT7 Whirlpool KUDP01ILWH0 Whirlpool KUDP01ILWH1 Whirlpool KUDP01ILWH2 Whirlpool KUDP02CRBL3 Whirlpool KUDP02CRBS3 KitchenAid KUDP02CRBT1 Whirlpool KUDP02CRBT3 KitchenAid KUDP02CRBT3 Whirlpool KUDP02CRWH3 KitchenAid KUDP02CRWH3 Whirlpool KUDP02FRBL3 KitchenAid KUDP02FRBT2 KitchenAid KUDP02FRBT3 Whirlpool KUDP02FRBT3 KitchenAid KUDP02FRBT4 Whirlpool KUDP02FRSS3 KitchenAid KUDP02FRWH2 Whirlpool KUDP02FRWH3 KitchenAid KUDP02FRWH3 KitchenAid KUDP02FRWH4 KitchenAid KUDP02FSPA1 Whirlpool KUDP02FSPA2 KitchenAid KUDP02FSPA2 KitchenAid KUDP02FSPA3 Whirlpool KUDP02FSPA3 KitchenAid KUDP02FSPA4 Whirlpool KUDP02IRBL3 KitchenAid KUDP02IRBL4 Whirlpool KUDP02IRBS3 KitchenAid KUDP02IRBS3 KitchenAid KUDP02IRBS4 KitchenAid KUDP02IRBT0 KitchenAid KUDP02IRBT1 Whirlpool KUDP02IRBT3 KitchenAid KUDP02IRBT3 KitchenAid KUDP02IRBT4 Whirlpool KUDP02IRWH3 KitchenAid KUDP02IRWH4 KitchenAid KUDP02SRBL1 KitchenAid KUDP02SRBL2 KitchenAid KUDP02SRBL3 Whirlpool KUDP02SRBL3 KitchenAid KUDP02SRBT1 KitchenAid KUDP02SRBT2 Whirlpool KUDP02SRBT3 KitchenAid KUDP02SRBT3 KitchenAid KUDP02SRBT4 Whirlpool KUDP02SRSS3 KitchenAid KUDP02SRSS4 KitchenAid KUDP02SRWH2 KitchenAid KUDP02SRWH3 Whirlpool KUDP02SRWH3 KitchenAid KUDR01DTBT0 Whirlpool KUDR01TJBL0 Whirlpool KUDR01TJBT0 Whirlpool KUDR01TJWH0 KitchenAid KUDR02FSBL1 KitchenAid KUDR02FSBL2 KitchenAid KUDR02FSBL3 Whirlpool KUDR02FSBL3 KitchenAid KUDR02FSBL4 Whirlpool KUDR02FSSS3 KitchenAid KUDR02FSWH1 KitchenAid KUDR02FSWH2 Whirlpool KUDR02FSWH3 KitchenAid KUDR02FSWH3 KitchenAid KUDR02FSWH4 Whirlpool KUDS01DJBL0 Whirlpool KUDS01DJBL1 Whirlpool KUDS01DJBT0 Whirlpool KUDS01DJBT1 Whirlpool KUDS01DJSB0 Whirlpool KUDS01DJSP0 Whirlpool KUDS01DJSP1 Whirlpool KUDS01DJSS0 Whirlpool KUDS01DJSS1 Whirlpool KUDS01DJSW0 Whirlpool KUDS01DJWH0 Whirlpool KUDS01DJWH1 Whirlpool KUDS01DLBL0 Whirlpool KUDS01DLBL1 Whirlpool KUDS01DLBL2 KitchenAid KUDS01DLBL7 KitchenAid KUDS01DLBT0 Whirlpool KUDS01DLBT0 Whirlpool KUDS01DLBT1 KitchenAid KUDS01DLBT1 Whirlpool KUDS01DLBT2 KitchenAid KUDS01DLBT2 KitchenAid KUDS01DLBT3 KitchenAid KUDS01DLBT7 Whirlpool KUDS01DLSP0 Whirlpool KUDS01DLSP1 Whirlpool KUDS01DLSP2 KitchenAid KUDS01DLSP6 KitchenAid KUDS01DLSP7 Whirlpool KUDS01DLSS0 Whirlpool KUDS01DLSS1 Whirlpool KUDS01DLSS2 Whirlpool KUDS01DLWH0 Whirlpool KUDS01DLWH1 Whirlpool KUDS01DLWH2 KitchenAid KUDS01DLWH7 Whirlpool KUDS01FKPA0 Whirlpool KUDS01FKPA1 Whirlpool KUDS01FKSS0 Whirlpool KUDS01FKSS1 Whirlpool KUDS01FLBL0 Whirlpool KUDS01FLBL1 Whirlpool KUDS01FLBL2 Whirlpool KUDS01FLBL2 Whirlpool KUDS01FLBL3 Whirlpool KUDS01FLBT0 Whirlpool KUDS01FLBT1 Whirlpool KUDS01FLBT2 Whirlpool KUDS01FLBT2 Whirlpool KUDS01FLBT3 KitchenAid KUDS01FLBT7 Whirlpool KUDS01FLSS0 Whirlpool KUDS01FLSS1 Whirlpool KUDS01FLSS2 Whirlpool KUDS01FLSS2 Whirlpool KUDS01FLSS3 Whirlpool KUDS01FLWH0 Whirlpool KUDS01FLWH1 Whirlpool KUDS01FLWH2 Whirlpool KUDS01FLWH2 Whirlpool KUDS01FLWH3 KitchenAid KUDS01FLWH7 Whirlpool KUDS01IJAL0 Whirlpool KUDS01IJAL1 Whirlpool KUDS01IJBL0 Whirlpool KUDS01IJBL1 Whirlpool KUDS01IJBS0 Whirlpool KUDS01IJBS1 Whirlpool KUDS01IJBT0 Whirlpool KUDS01IJBT1 Whirlpool KUDS01IJWH0 Whirlpool KUDS01IJWH1 Whirlpool KUDS01ILBL0 Whirlpool KUDS01ILBL1 Whirlpool KUDS01ILBL2 Whirlpool KUDS01ILBS0 Whirlpool KUDS01ILBS1 Whirlpool KUDS01ILBS2 KitchenAid KUDS01ILBT0 Whirlpool KUDS01ILBT0 Whirlpool KUDS01ILBT1 Whirlpool KUDS01ILBT2 KitchenAid KUDS01ILBT3 KitchenAid KUDS01ILBT5 Whirlpool KUDS01ILWH0 Whirlpool KUDS01ILWH1 Whirlpool KUDS01ILWH2 Whirlpool KUDS01VMMT0 Whirlpool KUDS01VMMT0 Whirlpool KUDS01VMMT1 KitchenAid KUDS01VMMT5 KitchenAid KUDS01VMMT6 Whirlpool KUDS01VMSS0 Whirlpool KUDS01VMSS0 KitchenAid KUDS01VMSS1 Whirlpool KUDS01VMSS1 KitchenAid KUDS01VMSS5 KitchenAid KUDS01VMSS6 Whirlpool KUDS02FRBL0 KitchenAid KUDS02FRBL2 Whirlpool KUDS02FRBL3 KitchenAid KUDS02FRBL3 KitchenAid KUDS02FRBL4 Whirlpool KUDS02FRSS0 Whirlpool KUDS02FRSS3 Whirlpool KUDS02FRWH0 Whirlpool KUDS02FRWH3 KitchenAid KUDS02FRWH3 KitchenAid KUDS02FRWH4 KitchenAid KUDS02FSPA2 Whirlpool KUDS02FSPA2 KitchenAid KUDS02FSPA3 Whirlpool KUDS02FSPA3 KitchenAid KUDS02ISSS1 KitchenAid KUDS02ISSS2 KitchenAid KUDS02SRBL3 Whirlpool KUDS02SRBL3 KitchenAid KUDS02SRBL4 Whirlpool KUDS02SRSS3 KitchenAid KUDS02SRSS3 KitchenAid KUDS02SRWH3 Whirlpool KUDS02SRWH3 KitchenAid KUDS02SRWH4 Whirlpool KUDS03CTBL0 KitchenAid KUDS03CTBL1 KitchenAid KUDS03CTBL2 KitchenAid KUDS03CTBL3 Whirlpool KUDS03CTSS0 KitchenAid KUDS03CTSS1 KitchenAid KUDS03CTSS3 Whirlpool KUDS03CTWH0 KitchenAid KUDS03CTWH1 KitchenAid KUDS03CTWH2 KitchenAid KUDS03CTWH3 KitchenAid KUDS03FSBL1 KitchenAid KUDS03FSBL2 Whirlpool KUDS03FSBL3 Whirlpool KUDS03FSBL3 KitchenAid KUDS03FSBL4 KitchenAid KUDS03FSBT1 KitchenAid KUDS03FSBT2 Whirlpool KUDS03FSBT3 KitchenAid KUDS03FSBT3 Whirlpool KUDS03FSBT3 KitchenAid KUDS03FSBT4 KitchenAid KUDS03FSSS1 KitchenAid KUDS03FSSS2 Whirlpool KUDS03FSSS3 KitchenAid KUDS03FSSS3 Whirlpool KUDS03FSSS3 KitchenAid KUDS03FSWH1 KitchenAid KUDS03FSWH2 KitchenAid KUDS03FSWH3 Whirlpool KUDS03FSWH3 Whirlpool KUDS03FSWH3 KitchenAid KUDS03FSWH4 Whirlpool KUDS03FTBL0 KitchenAid KUDS03FTBL0 KitchenAid KUDS03FTBL1 KitchenAid KUDS03FTBL2 KitchenAid KUDS03FTBL3 Whirlpool KUDS03FTBT0 KitchenAid KUDS03FTBT1 KitchenAid KUDS03FTBT2 KitchenAid KUDS03FTBT3 Whirlpool KUDS03FTPA0 KitchenAid KUDS03FTPA1 KitchenAid KUDS03FTPA3 Whirlpool KUDS03FTSS0 KitchenAid KUDS03FTSS3 Whirlpool KUDS03FTWH0 KitchenAid KUDS03FTWH1 KitchenAid KUDS03FTWH2 KitchenAid KUDS03FTWH3 Whirlpool KUDS03STBL0 KitchenAid KUDS03STBL0 KitchenAid KUDS03STBL1 KitchenAid KUDS03STBL2 KitchenAid KUDS03STBL3 Whirlpool KUDS03STSS0 KitchenAid KUDS03STSS1 KitchenAid KUDS03STSS2 KitchenAid KUDS03STSS3 KitchenAid KUDS03STWH0 Whirlpool KUDS03STWH0 KitchenAid KUDS03STWH1 KitchenAid KUDS03STWH2 KitchenAid KUDS03STWH3 KitchenAid KUDS30CXBL0 KitchenAid KUDS30CXBL1 KitchenAid KUDS30CXBL2 KitchenAid KUDS30CXBL3 KitchenAid KUDS30CXBL4 KitchenAid KUDS30CXBL5 KitchenAid KUDS30CXBL6 KitchenAid KUDS30CXBL7 KitchenAid KUDS30CXSS0 KitchenAid KUDS30CXSS1 KitchenAid KUDS30CXSS2 KitchenAid KUDS30CXSS3 KitchenAid KUDS30CXSS4 KitchenAid KUDS30CXSS5 KitchenAid KUDS30CXSS6 KitchenAid KUDS30CXSS7 KitchenAid KUDS30CXWH0 KitchenAid KUDS30CXWH1 KitchenAid KUDS30CXWH2 KitchenAid KUDS30CXWH3 KitchenAid KUDS30CXWH4 KitchenAid KUDS30CXWH5 KitchenAid KUDS30CXWH6 KitchenAid KUDS30CXWH7 KitchenAid KUDS30FBBL0 KitchenAid KUDS30FBBL1 KitchenAid KUDS30FBSS0 KitchenAid KUDS30FBSS1 KitchenAid KUDS30FBWH0 KitchenAid KUDS30FBWH1 KitchenAid KUDS30FXBL0 KitchenAid KUDS30FXBL1 KitchenAid KUDS30FXBL2 KitchenAid KUDS30FXBL3 KitchenAid KUDS30FXBL4 KitchenAid KUDS30FXBL5 KitchenAid KUDS30FXBL8 KitchenAid KUDS30FXBL9 KitchenAid KUDS30FXPA0 KitchenAid KUDS30FXPA1 KitchenAid KUDS30FXPA2 KitchenAid KUDS30FXPA3 KitchenAid KUDS30FXPA4 KitchenAid KUDS30FXPA8 KitchenAid KUDS30FXPA9 KitchenAid KUDS30FXSS0 KitchenAid KUDS30FXSS1 KitchenAid KUDS30FXSS2 KitchenAid KUDS30FXSS3 KitchenAid KUDS30FXSS4 KitchenAid KUDS30FXSS5 KitchenAid KUDS30FXSS8 KitchenAid KUDS30FXSS9 KitchenAid KUDS30FXWH0 KitchenAid KUDS30FXWH1 KitchenAid KUDS30FXWH2 KitchenAid KUDS30FXWH3 KitchenAid KUDS30FXWH4 KitchenAid KUDS30FXWH5 KitchenAid KUDS30FXWH8 KitchenAid KUDS30FXWH9 KitchenAid KUDS30HXSS0 KitchenAid KUDS30IBBL0 KitchenAid KUDS30IBBL1 KitchenAid KUDS30IBBT0 KitchenAid KUDS30IBBT1 KitchenAid KUDS30IBSS0 KitchenAid KUDS30IBSS1 KitchenAid KUDS30IBWH0 KitchenAid KUDS30IBWH1 KitchenAid KUDS30IVBL0 KitchenAid KUDS30IVBL2 KitchenAid KUDS30IVBL3 KitchenAid KUDS30IVBL4 KitchenAid KUDS30IVBS0 KitchenAid KUDS30IVBS2 KitchenAid KUDS30IVBS3 KitchenAid KUDS30IVBT0 KitchenAid KUDS30IVBT2 KitchenAid KUDS30IVBT3 KitchenAid KUDS30IVBT4 KitchenAid KUDS30IVSS0 KitchenAid KUDS30IVSS2 KitchenAid KUDS30IVSS3 KitchenAid KUDS30IVWH0 KitchenAid KUDS30IVWH2 KitchenAid KUDS30IVWH3 KitchenAid KUDS30IVWH4 KitchenAid KUDS30IXBL0 KitchenAid KUDS30IXBL1 KitchenAid KUDS30IXBL2 KitchenAid KUDS30IXBL3 KitchenAid KUDS30IXBL4 KitchenAid KUDS30IXBL6 KitchenAid KUDS30IXBL7 KitchenAid KUDS30IXBL8 KitchenAid KUDS30IXBL9 KitchenAid KUDS30IXBT0 KitchenAid KUDS30IXBT1 KitchenAid KUDS30IXBT2 KitchenAid KUDS30IXBT3 KitchenAid KUDS30IXBT4 KitchenAid KUDS30IXBT6 KitchenAid KUDS30IXBT7 KitchenAid KUDS30IXBT8 KitchenAid KUDS30IXBT9 KitchenAid KUDS30IXSS0 KitchenAid KUDS30IXSS1 KitchenAid KUDS30IXSS2 KitchenAid KUDS30IXSS3 KitchenAid KUDS30IXSS4 KitchenAid KUDS30IXSS6 KitchenAid KUDS30IXSS7 KitchenAid KUDS30IXSS8 KitchenAid KUDS30IXSS9 KitchenAid KUDS30IXWH0 KitchenAid KUDS30IXWH1 KitchenAid KUDS30IXWH2 KitchenAid KUDS30IXWH3 KitchenAid KUDS30IXWH4 KitchenAid KUDS30IXWH6 KitchenAid KUDS30IXWH7 KitchenAid KUDS30IXWH8 KitchenAid KUDS30IXWH9 KitchenAid KUDS30SXBL0 KitchenAid KUDS30SXBL1 KitchenAid KUDS30SXBL2 KitchenAid KUDS30SXBL3 KitchenAid KUDS30SXBL4 KitchenAid KUDS30SXBL8 KitchenAid KUDS30SXSS0 KitchenAid KUDS30SXSS1 KitchenAid KUDS30SXSS2 KitchenAid KUDS30SXSS3 KitchenAid KUDS30SXSS4 KitchenAid KUDS30SXSS8 KitchenAid KUDS30SXWH0 KitchenAid KUDS30SXWH1 KitchenAid KUDS30SXWH2 KitchenAid KUDS30SXWH3 KitchenAid KUDS30SXWH4 KitchenAid KUDS30SXWH8 KitchenAid KUDS35FBBL0 KitchenAid KUDS35FBBL1 KitchenAid KUDS35FBSS0 KitchenAid KUDS35FBSS1 KitchenAid KUDS35FBWH0 KitchenAid KUDS35FBWH1 KitchenAid KUDS35FXBL0 KitchenAid KUDS35FXBL1 KitchenAid KUDS35FXBL2 KitchenAid KUDS35FXBL3 KitchenAid KUDS35FXBL4 KitchenAid KUDS35FXBL5 KitchenAid KUDS35FXBL8 KitchenAid KUDS35FXBL9 KitchenAid KUDS35FXSS0 KitchenAid KUDS35FXSS1 KitchenAid KUDS35FXSS2 KitchenAid KUDS35FXSS3 KitchenAid KUDS35FXSS4 KitchenAid KUDS35FXSS5 KitchenAid KUDS35FXSS8 KitchenAid KUDS35FXSS9 KitchenAid KUDS35FXWH0 KitchenAid KUDS35FXWH1 KitchenAid KUDS35FXWH2 KitchenAid KUDS35FXWH3 KitchenAid KUDS35FXWH4 KitchenAid KUDS35FXWH5 KitchenAid KUDS35FXWH8 KitchenAid KUDS35FXWH9 KitchenAid KUDS40CVBL0 KitchenAid KUDS40CVBL1 KitchenAid KUDS40CVBL2 KitchenAid KUDS40CVBL3 KitchenAid KUDS40CVBL4 KitchenAid KUDS40CVSS0 KitchenAid KUDS40CVSS1 KitchenAid KUDS40CVSS2 KitchenAid KUDS40CVSS3 KitchenAid KUDS40CVSS4 KitchenAid KUDS40CVWH0 KitchenAid KUDS40CVWH1 KitchenAid KUDS40CVWH2 KitchenAid KUDS40CVWH3 KitchenAid KUDS40CVWH4 KitchenAid KUDS40FVBL0 KitchenAid KUDS40FVBL2 KitchenAid KUDS40FVBL3 KitchenAid KUDS40FVBL4 KitchenAid KUDS40FVBL5 KitchenAid KUDS40FVBT0 KitchenAid KUDS40FVBT2 KitchenAid KUDS40FVBT3 KitchenAid KUDS40FVBT4 KitchenAid KUDS40FVBT5 KitchenAid KUDS40FVPA0 KitchenAid KUDS40FVPA2 KitchenAid KUDS40FVPA3 KitchenAid KUDS40FVPA5 KitchenAid KUDS40FVSS0 KitchenAid KUDS40FVSS2 KitchenAid KUDS40FVSS3 KitchenAid KUDS40FVSS4 KitchenAid KUDS40FVSS5 KitchenAid KUDS40FVWH0 KitchenAid KUDS40FVWH2 KitchenAid KUDS40FVWH3 KitchenAid KUDS40FVWH4 KitchenAid KUDS40FVWH5 KitchenAid KUDS50FVBL0 KitchenAid KUDS50FVBL2 KitchenAid KUDS50FVBL3 KitchenAid KUDS50FVBL4 KitchenAid KUDS50FVPA0 KitchenAid KUDS50FVPA2 KitchenAid KUDS50FVPA3 KitchenAid KUDS50FVPA4 KitchenAid KUDS50FVPA5 KitchenAid KUDS50FVSS0 KitchenAid KUDS50FVSS2 KitchenAid KUDS50FVSS3 KitchenAid KUDS50FVSS4 KitchenAid KUDS50FVWH0 KitchenAid KUDS50FVWH2 KitchenAid KUDS50FVWH3 KitchenAid KUDS50FVWH4 KitchenAid KUDS50SVBL0 KitchenAid KUDS50SVBL2 KitchenAid KUDS50SVBL3 KitchenAid KUDS50SVBL4 KitchenAid KUDS50SVSS0 KitchenAid KUDS50SVSS2 KitchenAid KUDS50SVSS3 KitchenAid KUDS50SVSS4 KitchenAid KUDS50SVWH0 KitchenAid KUDS50SVWH2 KitchenAid KUDS50SVWH3 KitchenAid KUDS50SVWH4 Whirlpool KUDT03FTBL0 KitchenAid KUDT03FTBL0 KitchenAid KUDT03FTBL1 KitchenAid KUDT03FTBL2 KitchenAid KUDT03FTBL3 KitchenAid KUDT03FTPA0 KitchenAid KUDT03FTPA1 KitchenAid KUDT03FTPA2 KitchenAid KUDT03FTPA3 Whirlpool KUDT03FTSS0 KitchenAid KUDT03FTSS1 KitchenAid KUDT03FTSS3 KitchenAid KUDT03FTWH0 Whirlpool KUDT03FTWH0 KitchenAid KUDT03FTWH1 KitchenAid KUDT03FTWH3 Whirlpool KUDT03STBL0 KitchenAid KUDT03STBL0 KitchenAid KUDT03STBL1 KitchenAid KUDT03STBL2 KitchenAid KUDT03STBL3 Whirlpool KUDT03STSS0 KitchenAid KUDT03STSS1 KitchenAid KUDT03STSS3 Whirlpool KUDT03STWH0 KitchenAid KUDT03STWH1 KitchenAid KUDT03STWH2 KitchenAid KUDT03STWH3 KitchenAid KUDU02FRBL0 KitchenAid KUDU02FRBL1 KitchenAid KUDU02FRBL2 KitchenAid KUDU02FRBL3 KitchenAid KUDU02FRBL4 KitchenAid KUDU02FRSS1 KitchenAid KUDU02FRSS3 KitchenAid KUDU02FRSS4 KitchenAid KUDU02FRWH1 KitchenAid KUDU02FRWH2 KitchenAid KUDU02FRWH3 KitchenAid KUDU02FRWH4 KitchenAid KUDU02VRMT0 KitchenAid KUDU02VRMT1 KitchenAid KUDU02VRPA0 KitchenAid KUDU02VRSS0 KitchenAid KUDU02VRSS1 KitchenAid KUDU02VSPA1 Whirlpool KUDU02VSPA3 KitchenAid KUDU02VSPA3 KitchenAid KUDU02VSPA4 Whirlpool KUDU03FTBL0 KitchenAid KUDU03FTBL0 KitchenAid KUDU03FTBL1 KitchenAid KUDU03FTBL2 KitchenAid KUDU03FTBL3 KitchenAid KUDU03FTPA0 Whirlpool KUDU03FTPA0 KitchenAid KUDU03FTPA3 Whirlpool KUDU03FTSS0 KitchenAid KUDU03FTSS1 KitchenAid KUDU03FTSS3 Whirlpool KUDU03FTWH0 KitchenAid KUDU03FTWH0 KitchenAid KUDU03FTWH1 KitchenAid KUDU03FTWH2 KitchenAid KUDU03FTWH3 KitchenAid KUDU03STBL0 KitchenAid KUDU03STBL1 KitchenAid KUDU03STBL2 KitchenAid KUDU03STBL3 KitchenAid KUDU03STSS1 KitchenAid KUDU03STSS3 KitchenAid KUDU03STWH0 KitchenAid KUDU03STWH1 KitchenAid KUDU03STWH2 KitchenAid KUDU03STWH3 KitchenAid KUDW02FRBL0 Whirlpool KUDW02FRBL3 KitchenAid KUDW02FRBL3 KitchenAid KUDW02FRBL4 KitchenAid KUDW02FRSS3 Whirlpool KUDW02FRSS3 KitchenAid KUDW02FRSS4 KitchenAid KUDW02FRWH0 KitchenAid KUDW02FRWH2 Whirlpool KUDW02FRWH3 KitchenAid KUDW02FRWH3 KitchenAid KUDW02FRWH4 Whirlpool KUDW03CTBL0 KitchenAid KUDW03CTBL1 KitchenAid KUDW03CTBL3 KitchenAid KUDW03CTSS0 Whirlpool KUDW03CTSS0 KitchenAid KUDW03CTSS1 KitchenAid KUDW03CTSS2 KitchenAid KUDW03CTSS3 KitchenAid KUDW03CTWH0 Whirlpool KUDW03CTWH0 KitchenAid KUDW03CTWH1 KitchenAid KUDW03CTWH2 KitchenAid KUDW03CTWH3 Whirlpool KUDX03FTSS0 KitchenAid KUDX03FTSS1 KitchenAid KUDX03FTSS2 KitchenAid KUDX03FTSS3 Maytag MDB7609AWB0 Maytag MDB7609AWB1 Maytag MDB7609AWB2 Maytag MDB7609AWB3 Maytag MDB7609AWS0 Maytag MDB7609AWS1 Maytag MDB7609AWS2 Maytag MDB7609AWS3 Maytag MDB7609AWW0 Maytag MDB7609AWW1 Maytag MDB7609AWW2 Maytag MDB7609AWW3 Maytag MDB7709AWB0 Maytag MDB7709AWB1 Maytag MDB7709AWB2 Maytag MDB7709AWQ0 Maytag MDB7709AWQ1 Maytag MDB7709AWQ2 Maytag MDB7709AWS0 Maytag MDB7709AWS1 Maytag MDB7709AWS2 Maytag MDB7709AWW0 Maytag MDB7709AWW1 Maytag MDB7709AWW2 Maytag MDB7749AWB0 Maytag MDB7749AWB1 Maytag MDB7749AWB2 Maytag MDB7749AWM1 Maytag MDB7749AWM2 Maytag MDB7749AWQ1 Maytag MDB7749AWQ2 Maytag MDB7749AWS0 Maytag MDB7749AWS1 Maytag MDB7749AWW0 Maytag MDB7749AWW1 Maytag MDB7749AWW2 Maytag MDB7749SAB0 Maytag MDB7749SAB1 Maytag MDB7749SAM0 Maytag MDB7749SAM1 Maytag MDB7749SAQ0 Maytag MDB7749SAQ1 Maytag MDB7749SAW0 Maytag MDB7749SAW1 Maytag MDB7749SBB0 Maytag MDB7749SBB1 Maytag MDB7749SBB2 Maytag MDB7749SBM0 Maytag MDB7749SBM1 Maytag MDB7749SBM2 Maytag MDB7749SBQ0 Maytag MDB7749SBQ1 Maytag MDB7749SBQ2 Maytag MDB7749SBW0 Maytag MDB7749SBW1 Maytag MDB7749SBW2 Maytag MDB7759AWB0 Maytag MDB7759AWB1 Maytag MDB7759AWB2 Maytag MDB7759AWB3 Maytag MDB7759AWB4 Maytag MDB7759AWS0 Maytag MDB7759AWS1 Maytag MDB7759AWS2 Maytag MDB7759AWS3 Maytag MDB7759AWS4 Maytag MDB7759AWW0 Maytag MDB7759AWW1 Maytag MDB7759AWW2 Maytag MDB7759AWW3 Maytag MDB7759AWW4 Maytag MDB7759SAB0 Maytag MDB7759SAB1 Maytag MDB7759SAB2 Maytag MDB7759SAB3 Maytag MDB7759SAS0 Maytag MDB7759SAS1 Maytag MDB7759SAS2 Maytag MDB7759SAS3 Maytag MDB7759SAW0 Maytag MDB7759SAW1 Maytag MDB7759SAW2 Maytag MDB7759SAW3 Maytag MDB7760AWS0 Maytag MDB7760AWS1 Maytag MDB7760AWS2 Maytag MDB7760SAS0 Maytag MDB7760SAS1 Maytag MDB7809AWB0 Maytag MDB7809AWB1 Maytag MDB7809AWB2 Maytag MDB7809AWM0 Maytag MDB7809AWM1 Maytag MDB7809AWM2 Maytag MDB7809AWQ0 Maytag MDB7809AWQ1 Maytag MDB7809AWQ2 Maytag MDB7809AWW0 Maytag MDB7809AWW1 Maytag MDB7809AWW2 Maytag MDB8859AWB0 Maytag MDB8859AWB1 Maytag MDB8859AWB2 Maytag MDB8859AWB3 Maytag MDB8859AWS0 Maytag MDB8859AWS1 Maytag MDB8859AWS2 Maytag MDB8859AWS3 Maytag MDB8859AWW0 Maytag MDB8859AWW1 Maytag MDB8859AWW2 Maytag MDB8859AWW3 Maytag MDB8949SAB0 Maytag MDB8949SAB1 Maytag MDB8949SAM0 Maytag MDB8949SAM1 Maytag MDB8949SAW0 Maytag MDB8949SAW1 Maytag MDB8949SBB0 Maytag MDB8949SBB1 Maytag MDB8949SBB2 Maytag MDB8949SBM0 Maytag MDB8949SBM1 Maytag MDB8949SBM2 Maytag MDB8949SBW0 Maytag MDB8949SBW1 Maytag MDB8949SBW2 Maytag MDB8959AWB0 Maytag MDB8959AWB1 Maytag MDB8959AWB2 Maytag MDB8959AWB3 Maytag MDB8959AWB4 Maytag MDB8959AWB5 Maytag MDB8959AWB6 Maytag MDB8959AWB7 Maytag MDB8959AWS0 Maytag MDB8959AWS1 Maytag MDB8959AWS2 Maytag MDB8959AWS3 Maytag MDB8959AWS4 Maytag MDB8959AWS5 Maytag MDB8959AWS6 Maytag MDB8959AWS7 Maytag MDB8959AWW0 Maytag MDB8959AWW1 Maytag MDB8959AWW2 Maytag MDB8959AWW3 Maytag MDB8959AWW4 Maytag MDB8959AWW5 Maytag MDB8959AWW6 Maytag MDB8959AWW7 Maytag MDB8959SAB0 Maytag MDB8959SAB1 Maytag MDB8959SAS0 Maytag MDB8959SAS1 Maytag MDB8959SAW0 Maytag MDB8959SAW1 Maytag MDB8959SBB0 Maytag MDB8959SBB1 Maytag MDB8959SBB2 Maytag MDB8959SBS0 Maytag MDB8959SBS1 Maytag MDB8959SBS2 Maytag MDB8959SBW0 Maytag MDB8959SBW1 Maytag MDB8959SBW2 Maytag MDBH979AWB1 Maytag MDBH979AWB2 Maytag MDBH979AWB3 Maytag MDBH979AWB4 Maytag MDBH979AWS1 Maytag MDBH979AWS2 Maytag MDBH979AWS3 Maytag MDBH979AWS4 Maytag MDBH979AWW1 Maytag MDBH979AWW2 Maytag MDBH979AWW3 Maytag MDBH979AWW4 Maytag MDBH979SAB0 Maytag MDBH979SAB1 Maytag MDBH979SAM0 Maytag MDBH979SAM1 Maytag MDBH979SAQ0 Maytag MDBH979SAW0 Maytag MDBH979SAW1 Maytag MDBH989AWB1 Maytag MDBH989AWB2 Maytag MDBH989AWB3 Maytag MDBH989AWQ1 Maytag MDBH989AWQ2 Maytag MDBH989AWQ3 Maytag MDBH989AWS1 Maytag MDBH989AWS2 Maytag MDBH989AWS3 Maytag MDBH989AWW1 Maytag MDBH989AWW2 Maytag MDBH989AWW3 Roper RUD8000RQ0 Estate TUD8700RQ0 Whirlpool WDF750SAYB0 Whirlpool WDF750SAYB1 Whirlpool WDF750SAYB2 Whirlpool WDF750SAYM0 Whirlpool WDF750SAYM1 Whirlpool WDF750SAYM2 Whirlpool WDF750SAYW0 Whirlpool WDF750SAYW1 Whirlpool WDF750SAYW2 Whirlpool WDF775SAYB0 Whirlpool WDF775SAYB1 Whirlpool WDF775SAYB2 Whirlpool WDF775SAYM0 Whirlpool WDF775SAYM1 Whirlpool WDF775SAYM2 Whirlpool WDF775SAYW0 Whirlpool WDF775SAYW1 Whirlpool WDF775SAYW2 Whirlpool WDF780SLYB0 Whirlpool WDF780SLYB1 Whirlpool WDF780SLYB2 Whirlpool WDF780SLYM0 Whirlpool WDF780SLYM1 Whirlpool WDF780SLYM2 Whirlpool WDF780SLYW0 Whirlpool WDF780SLYW1 Whirlpool WDF780SLYW2 Whirlpool WDL785SAAM0 Whirlpool WDL785SAAM1 Whirlpool WDT790SAYB0 Whirlpool WDT790SAYB1 Whirlpool WDT790SAYB2 Whirlpool WDT790SAYM0 Whirlpool WDT790SAYM1 Whirlpool WDT790SAYM2 Whirlpool WDT790SAYW0 Whirlpool WDT790SAYW1 Whirlpool WDT790SAYW2 Whirlpool WDT790SLYB0 Whirlpool WDT790SLYM0 Whirlpool WDT790SLYM1 Whirlpool WDT790SLYM2 Whirlpool WDT790SLYW0 Whirlpool WDT910SAYE0 Whirlpool WDT910SAYE1 Whirlpool WDT910SAYE2 Whirlpool WDT910SAYH0 Whirlpool WDT910SAYH1 Whirlpool WDT910SAYH2 Whirlpool WDT910SAYM0 Whirlpool WDT910SAYM1 Whirlpool WDT910SAYM2 Whirlpool WDT910SSYB0 Whirlpool WDT910SSYB1 Whirlpool WDT910SSYB2 Whirlpool WDT910SSYM0 Whirlpool WDT910SSYM1 Whirlpool WDT910SSYM2 Whirlpool WDT910SSYW0 Whirlpool WDT910SSYW1 Whirlpool WDT910SSYW2 This is a Genuine Replacement Part,The Model Number and Name for The Following Item:Whirlpool (WHIRA) W10179427 Seal - Replacement'"
      ]
     },
     "metadata": {},
     "execution_count": 16
    },
    {
     "output_type": "display_data",
     "data": {
      "application/javascript": "\n            setTimeout(function() {\n                var nbb_cell_id = 16;\n                var nbb_unformatted_code = \"df.at[\\\"B00LQDEF5Q\\\", \\\"description\\\"]\";\n                var nbb_formatted_code = \"df.at[\\\"B00LQDEF5Q\\\", \\\"description\\\"]\";\n                var nbb_cells = Jupyter.notebook.get_cells();\n                for (var i = 0; i < nbb_cells.length; ++i) {\n                    if (nbb_cells[i].input_prompt_number == nbb_cell_id) {\n                        if (nbb_cells[i].get_text() == nbb_unformatted_code) {\n                             nbb_cells[i].set_text(nbb_formatted_code);\n                        }\n                        break;\n                    }\n                }\n            }, 500);\n            ",
      "text/plain": [
       "<IPython.core.display.Javascript object>"
      ]
     },
     "metadata": {}
    }
   ],
   "metadata": {
    "ExecuteTime": {
     "end_time": "2021-09-11T05:02:16.857509Z",
     "start_time": "2021-09-11T05:02:11.504510Z"
    },
    "run_control": {
     "marked": false
    }
   }
  },
  {
   "cell_type": "markdown",
   "source": [
    "And there you have it, an obnoxiously long list of SKUs. I'll drop the longest 1%.\n",
    "\n",
    "Since I want to create a relatively fine-grained vector space, I'll also drop the shortest 50%."
   ],
   "metadata": {}
  },
  {
   "cell_type": "code",
   "execution_count": 17,
   "source": [
    "fig = lang.length_dist(\r\n",
    "    data=df, subset=\"description\", log_scale=True, tick_prec=0, height=8\r\n",
    ")\r\n",
    "ax = fig.get_axes()[0]\r\n",
    "lower = df.description.str.len().quantile(0.5)\r\n",
    "upper = df.description.str.len().quantile(0.99)\r\n",
    "plotting.annotate.draw_line(ax, x=lower)\r\n",
    "plotting.annotate.draw_line(ax, x=upper)\r\n",
    "fig.savefig(\"figures/length_outliers.svg\", bbox_inches=\"tight\")"
   ],
   "outputs": [
    {
     "output_type": "display_data",
     "data": {
      "image/png": "[encoded data removed]",
      "text/plain": [
       "<Figure size 1728x576 with 3 Axes>"
      ]
     },
     "metadata": {
      "needs_background": "light"
     }
    },
    {
     "output_type": "display_data",
     "data": {
      "application/javascript": "\n            setTimeout(function() {\n                var nbb_cell_id = 17;\n                var nbb_unformatted_code = \"fig = lang.length_dist(\\n    data=df, subset=\\\"description\\\", log_scale=True, tick_prec=0, height=8\\n)\\nax = fig.get_axes()[0]\\nlower = df.description.str.len().quantile(0.5)\\nupper = df.description.str.len().quantile(0.99)\\nplotting.annotate.draw_line(ax, x=lower)\\nplotting.annotate.draw_line(ax, x=upper)\\nfig.savefig(\\\"figures/length_outliers.svg\\\", bbox_inches=\\\"tight\\\")\";\n                var nbb_formatted_code = \"fig = lang.length_dist(\\n    data=df, subset=\\\"description\\\", log_scale=True, tick_prec=0, height=8\\n)\\nax = fig.get_axes()[0]\\nlower = df.description.str.len().quantile(0.5)\\nupper = df.description.str.len().quantile(0.99)\\nplotting.annotate.draw_line(ax, x=lower)\\nplotting.annotate.draw_line(ax, x=upper)\\nfig.savefig(\\\"figures/length_outliers.svg\\\", bbox_inches=\\\"tight\\\")\";\n                var nbb_cells = Jupyter.notebook.get_cells();\n                for (var i = 0; i < nbb_cells.length; ++i) {\n                    if (nbb_cells[i].input_prompt_number == nbb_cell_id) {\n                        if (nbb_cells[i].get_text() == nbb_unformatted_code) {\n                             nbb_cells[i].set_text(nbb_formatted_code);\n                        }\n                        break;\n                    }\n                }\n            }, 500);\n            ",
      "text/plain": [
       "<IPython.core.display.Javascript object>"
      ]
     },
     "metadata": {}
    }
   ],
   "metadata": {
    "ExecuteTime": {
     "end_time": "2021-09-11T05:02:40.979536Z",
     "start_time": "2021-09-11T05:02:16.858507Z"
    }
   }
  },
  {
   "cell_type": "code",
   "execution_count": 18,
   "source": [
    "df = lang.trim_length_outliers(df, subset=\"description\", q_lower=0.5, q_upper=0.99)\r\n",
    "df.head()"
   ],
   "outputs": [
    {
     "output_type": "stream",
     "name": "stdout",
     "text": [
      "       len_description  len_main_cat\n",
      "count        4,039,221     4,039,221\n",
      "mean               976            35\n",
      "std                618            56\n",
      "min                379             4\n",
      "25%                530             7\n",
      "50%                766            11\n",
      "75%              1,225            23\n",
      "max              3,886           190\n",
      "\n",
      "\n",
      "             n_trimmed  pct_trimmed\n",
      "description  4,205,714           51\n",
      "main_cat             0            0\n",
      "total_obs    4,205,714           51\n"
     ]
    },
    {
     "output_type": "execute_result",
     "data": {
      "text/html": [
       "<div>\n",
       "<style scoped>\n",
       "    .dataframe tbody tr th:only-of-type {\n",
       "        vertical-align: middle;\n",
       "    }\n",
       "\n",
       "    .dataframe tbody tr th {\n",
       "        vertical-align: top;\n",
       "    }\n",
       "\n",
       "    .dataframe thead th {\n",
       "        text-align: right;\n",
       "    }\n",
       "</style>\n",
       "<table border=\"1\" class=\"dataframe\">\n",
       "  <thead>\n",
       "    <tr style=\"text-align: right;\">\n",
       "      <th></th>\n",
       "      <th>description</th>\n",
       "      <th>main_cat</th>\n",
       "    </tr>\n",
       "    <tr>\n",
       "      <th>asin</th>\n",
       "      <th></th>\n",
       "      <th></th>\n",
       "    </tr>\n",
       "  </thead>\n",
       "  <tbody>\n",
       "    <tr>\n",
       "      <th>B000ACRBT6</th>\n",
       "      <td>Plug and drive: no installation or activation ...</td>\n",
       "      <td>Cell Phones &amp; Accessories</td>\n",
       "    </tr>\n",
       "    <tr>\n",
       "      <th>1628090340</th>\n",
       "      <td>\"If you're looking for a reliable guidebook, t...</td>\n",
       "      <td>Books</td>\n",
       "    </tr>\n",
       "    <tr>\n",
       "      <th>0998825719</th>\n",
       "      <td>In her captivating literary memoir Singers sto...</td>\n",
       "      <td>Books</td>\n",
       "    </tr>\n",
       "    <tr>\n",
       "      <th>B0058OJ00Y</th>\n",
       "      <td>Create a luxurious oasis of watery bliss in yo...</td>\n",
       "      <td>Tools &amp; Home Improvement</td>\n",
       "    </tr>\n",
       "    <tr>\n",
       "      <th>1410494012</th>\n",
       "      <td>\"\"Danger Close\" is a riveting and intensely pe...</td>\n",
       "      <td>Books</td>\n",
       "    </tr>\n",
       "  </tbody>\n",
       "</table>\n",
       "</div>"
      ],
      "text/plain": [
       "                                                  description  \\\n",
       "asin                                                            \n",
       "B000ACRBT6  Plug and drive: no installation or activation ...   \n",
       "1628090340  \"If you're looking for a reliable guidebook, t...   \n",
       "0998825719  In her captivating literary memoir Singers sto...   \n",
       "B0058OJ00Y  Create a luxurious oasis of watery bliss in yo...   \n",
       "1410494012  \"\"Danger Close\" is a riveting and intensely pe...   \n",
       "\n",
       "                             main_cat  \n",
       "asin                                   \n",
       "B000ACRBT6  Cell Phones & Accessories  \n",
       "1628090340                      Books  \n",
       "0998825719                      Books  \n",
       "B0058OJ00Y   Tools & Home Improvement  \n",
       "1410494012                      Books  "
      ]
     },
     "metadata": {},
     "execution_count": 18
    },
    {
     "output_type": "display_data",
     "data": {
      "application/javascript": "\n            setTimeout(function() {\n                var nbb_cell_id = 18;\n                var nbb_unformatted_code = \"df = lang.trim_length_outliers(df, subset=\\\"description\\\", q_lower=0.5, q_upper=0.99)\\ndf.head()\";\n                var nbb_formatted_code = \"df = lang.trim_length_outliers(df, subset=\\\"description\\\", q_lower=0.5, q_upper=0.99)\\ndf.head()\";\n                var nbb_cells = Jupyter.notebook.get_cells();\n                for (var i = 0; i < nbb_cells.length; ++i) {\n                    if (nbb_cells[i].input_prompt_number == nbb_cell_id) {\n                        if (nbb_cells[i].get_text() == nbb_unformatted_code) {\n                             nbb_cells[i].set_text(nbb_formatted_code);\n                        }\n                        break;\n                    }\n                }\n            }, 500);\n            ",
      "text/plain": [
       "<IPython.core.display.Javascript object>"
      ]
     },
     "metadata": {}
    }
   ],
   "metadata": {
    "ExecuteTime": {
     "end_time": "2021-09-11T05:02:47.577508Z",
     "start_time": "2021-09-11T05:02:40.980510Z"
    }
   }
  },
  {
   "cell_type": "markdown",
   "source": [
    "The following is now the shortest product description. It's a mere 379 characters, but seems long enough to be useful. I can't imagine getting much use out of anything shorter. That said, I do plan on concatenating the description with a couple other text features."
   ],
   "metadata": {}
  },
  {
   "cell_type": "code",
   "execution_count": 19,
   "source": [
    "df.at[df.description.str.len().idxmin(), \"description\"]"
   ],
   "outputs": [
    {
     "output_type": "execute_result",
     "data": {
      "text/plain": [
       "\"Yu-Gi-Oh! is a strategic trading card game in which two players Duel each other using a variety of Monster, Spell, and Trap Cards to defeat their opponent's monsters and be the first to drop the other's Life Points to 0. Card Name : Ryko, Lightsworn Hunter Card Type : Effect Monster Card Number : SDLI-EN015 Set : Realms of Light Attribute : Light Level : 2 Monster Type : Beast\""
      ]
     },
     "metadata": {},
     "execution_count": 19
    },
    {
     "output_type": "display_data",
     "data": {
      "application/javascript": "\n            setTimeout(function() {\n                var nbb_cell_id = 19;\n                var nbb_unformatted_code = \"df.at[df.description.str.len().idxmin(), \\\"description\\\"]\";\n                var nbb_formatted_code = \"df.at[df.description.str.len().idxmin(), \\\"description\\\"]\";\n                var nbb_cells = Jupyter.notebook.get_cells();\n                for (var i = 0; i < nbb_cells.length; ++i) {\n                    if (nbb_cells[i].input_prompt_number == nbb_cell_id) {\n                        if (nbb_cells[i].get_text() == nbb_unformatted_code) {\n                             nbb_cells[i].set_text(nbb_formatted_code);\n                        }\n                        break;\n                    }\n                }\n            }, 500);\n            ",
      "text/plain": [
       "<IPython.core.display.Javascript object>"
      ]
     },
     "metadata": {}
    }
   ],
   "metadata": {
    "ExecuteTime": {
     "end_time": "2021-09-11T05:02:52.361509Z",
     "start_time": "2021-09-11T05:02:47.578510Z"
    }
   }
  },
  {
   "cell_type": "code",
   "execution_count": 20,
   "source": [
    "fig = lang.length_dist(df.sample(10 ** 6), subset=\"description\")"
   ],
   "outputs": [
    {
     "output_type": "display_data",
     "data": {
      "image/png": "[encoded data removed]",
      "text/plain": [
       "<Figure size 1080x360 with 3 Axes>"
      ]
     },
     "metadata": {
      "needs_background": "light"
     }
    },
    {
     "output_type": "display_data",
     "data": {
      "application/javascript": "\n            setTimeout(function() {\n                var nbb_cell_id = 20;\n                var nbb_unformatted_code = \"fig = lang.length_dist(df.sample(10 ** 6), subset=\\\"description\\\")\";\n                var nbb_formatted_code = \"fig = lang.length_dist(df.sample(10 ** 6), subset=\\\"description\\\")\";\n                var nbb_cells = Jupyter.notebook.get_cells();\n                for (var i = 0; i < nbb_cells.length; ++i) {\n                    if (nbb_cells[i].input_prompt_number == nbb_cell_id) {\n                        if (nbb_cells[i].get_text() == nbb_unformatted_code) {\n                             nbb_cells[i].set_text(nbb_formatted_code);\n                        }\n                        break;\n                    }\n                }\n            }, 500);\n            ",
      "text/plain": [
       "<IPython.core.display.Javascript object>"
      ]
     },
     "metadata": {}
    }
   ],
   "metadata": {
    "ExecuteTime": {
     "end_time": "2021-09-11T05:02:55.725509Z",
     "start_time": "2021-09-11T05:02:52.362508Z"
    }
   }
  },
  {
   "cell_type": "markdown",
   "source": [
    "The document lengths are now more or less on the same order of magnitude. I hope I've gotten rid of the anomalies."
   ],
   "metadata": {}
  },
  {
   "cell_type": "markdown",
   "source": [
    "# Cleaning 'main_cat'\n",
    "\n",
    "The next step is to clean up the target variable: 'main_cat'."
   ],
   "metadata": {}
  },
  {
   "cell_type": "code",
   "execution_count": 21,
   "source": [
    "# Get mask of samples with HTML\r\n",
    "is_html = df[\"main_cat\"].str.match(r\"^<\\w+\")\r\n",
    "\r\n",
    "# Extract `alt` property\r\n",
    "df.loc[is_html, \"main_cat\"] = (\r\n",
    "    df.loc[is_html, \"main_cat\"].str.extract(r\"alt=\\\"(.+)\\\"\").squeeze()\r\n",
    ")\r\n",
    "df[\"main_cat\"].unique()"
   ],
   "outputs": [
    {
     "output_type": "execute_result",
     "data": {
      "text/plain": [
       "array(['Cell Phones & Accessories', 'Books', 'Tools & Home Improvement',\n",
       "       'Digital Music', 'Sports & Outdoors', 'AMAZON FASHION',\n",
       "       'All Electronics', 'Software', 'Computers', 'Home Audio & Theater',\n",
       "       'Grocery', 'Movies & TV', 'Office Products', 'Camera & Photo',\n",
       "       'Home Audio &amp; Theater', 'Arts, Crafts & Sewing',\n",
       "       'Musical Instruments', 'Toys & Games', 'Luxury Beauty',\n",
       "       'Automotive', 'Industrial & Scientific', 'Camera &amp; Photo',\n",
       "       'Video Games', 'Amazon Home', 'Fine Art', 'Car Electronics',\n",
       "       'Health & Personal Care', 'Pet Supplies', 'Appliances', 'Baby',\n",
       "       'Prime Pantry', 'Magazine Subscriptions', 'All Beauty',\n",
       "       'Cell Phones &amp; Accessories', 'Handmade', 'GPS & Navigation',\n",
       "       'Portable Audio & Accessories', 'Sports &amp; Outdoors',\n",
       "       'Industrial &amp; Scientific', 'Tools &amp; Home Improvement',\n",
       "       'Toys &amp; Games', 'AMAZON LAUNCHPAD',\n",
       "       'Health &amp; Personal Care', 'Movies &amp; TV',\n",
       "       'Collectibles & Fine Art', 'GPS &amp; Navigation', 'Gift Cards',\n",
       "       'Portable Audio &amp; Accessories', 'Arts, Crafts &amp; Sewing',\n",
       "       'Amazon Devices', 'Buy a Kindle', 'Fire Phone', 'Beats by Dr. Dre',\n",
       "       'Entertainment', 'Apple Products', 'Amazon Fire TV',\n",
       "       'Sports Collectibles'], dtype=object)"
      ]
     },
     "metadata": {},
     "execution_count": 21
    },
    {
     "output_type": "display_data",
     "data": {
      "application/javascript": "\n            setTimeout(function() {\n                var nbb_cell_id = 21;\n                var nbb_unformatted_code = \"# Get mask of samples with HTML\\nis_html = df[\\\"main_cat\\\"].str.match(r\\\"^<\\\\w+\\\")\\n\\n# Extract `alt` property\\ndf.loc[is_html, \\\"main_cat\\\"] = (\\n    df.loc[is_html, \\\"main_cat\\\"].str.extract(r\\\"alt=\\\\\\\"(.+)\\\\\\\"\\\").squeeze()\\n)\\ndf[\\\"main_cat\\\"].unique()\";\n                var nbb_formatted_code = \"# Get mask of samples with HTML\\nis_html = df[\\\"main_cat\\\"].str.match(r\\\"^<\\\\w+\\\")\\n\\n# Extract `alt` property\\ndf.loc[is_html, \\\"main_cat\\\"] = (\\n    df.loc[is_html, \\\"main_cat\\\"].str.extract(r\\\"alt=\\\\\\\"(.+)\\\\\\\"\\\").squeeze()\\n)\\ndf[\\\"main_cat\\\"].unique()\";\n                var nbb_cells = Jupyter.notebook.get_cells();\n                for (var i = 0; i < nbb_cells.length; ++i) {\n                    if (nbb_cells[i].input_prompt_number == nbb_cell_id) {\n                        if (nbb_cells[i].get_text() == nbb_unformatted_code) {\n                             nbb_cells[i].set_text(nbb_formatted_code);\n                        }\n                        break;\n                    }\n                }\n            }, 500);\n            ",
      "text/plain": [
       "<IPython.core.display.Javascript object>"
      ]
     },
     "metadata": {}
    }
   ],
   "metadata": {
    "ExecuteTime": {
     "end_time": "2021-09-11T05:02:59.301537Z",
     "start_time": "2021-09-11T05:02:55.728510Z"
    }
   }
  },
  {
   "cell_type": "markdown",
   "source": [
    "Next, I decode HTML entities and convert to lowercase. By \"HTML entities,\" I mean those codes like `&amp;` you see above."
   ],
   "metadata": {}
  },
  {
   "cell_type": "code",
   "execution_count": 22,
   "source": [
    "steps = [lang.decode_html_entities, lang.lowercase]\r\n",
    "\r\n",
    "df[\"main_cat\"] = lang.chain_processors(df.loc[:, \"main_cat\"], steps, n_jobs=-1)\r\n",
    "df[\"main_cat\"].unique()"
   ],
   "outputs": [
    {
     "output_type": "execute_result",
     "data": {
      "text/plain": [
       "array(['cell phones & accessories', 'books', 'tools & home improvement',\n",
       "       'digital music', 'sports & outdoors', 'amazon fashion',\n",
       "       'all electronics', 'software', 'computers', 'home audio & theater',\n",
       "       'grocery', 'movies & tv', 'office products', 'camera & photo',\n",
       "       'arts, crafts & sewing', 'musical instruments', 'toys & games',\n",
       "       'luxury beauty', 'automotive', 'industrial & scientific',\n",
       "       'video games', 'amazon home', 'fine art', 'car electronics',\n",
       "       'health & personal care', 'pet supplies', 'appliances', 'baby',\n",
       "       'prime pantry', 'magazine subscriptions', 'all beauty', 'handmade',\n",
       "       'gps & navigation', 'portable audio & accessories',\n",
       "       'amazon launchpad', 'collectibles & fine art', 'gift cards',\n",
       "       'amazon devices', 'buy a kindle', 'fire phone', 'beats by dr. dre',\n",
       "       'entertainment', 'apple products', 'amazon fire tv',\n",
       "       'sports collectibles'], dtype=object)"
      ]
     },
     "metadata": {},
     "execution_count": 22
    },
    {
     "output_type": "display_data",
     "data": {
      "application/javascript": "\n            setTimeout(function() {\n                var nbb_cell_id = 22;\n                var nbb_unformatted_code = \"steps = [lang.decode_html_entities, lang.lowercase]\\n\\ndf[\\\"main_cat\\\"] = lang.chain_processors(df.loc[:, \\\"main_cat\\\"], steps, n_jobs=-1)\\ndf[\\\"main_cat\\\"].unique()\";\n                var nbb_formatted_code = \"steps = [lang.decode_html_entities, lang.lowercase]\\n\\ndf[\\\"main_cat\\\"] = lang.chain_processors(df.loc[:, \\\"main_cat\\\"], steps, n_jobs=-1)\\ndf[\\\"main_cat\\\"].unique()\";\n                var nbb_cells = Jupyter.notebook.get_cells();\n                for (var i = 0; i < nbb_cells.length; ++i) {\n                    if (nbb_cells[i].input_prompt_number == nbb_cell_id) {\n                        if (nbb_cells[i].get_text() == nbb_unformatted_code) {\n                             nbb_cells[i].set_text(nbb_formatted_code);\n                        }\n                        break;\n                    }\n                }\n            }, 500);\n            ",
      "text/plain": [
       "<IPython.core.display.Javascript object>"
      ]
     },
     "metadata": {}
    }
   ],
   "metadata": {
    "ExecuteTime": {
     "end_time": "2021-09-11T05:03:18.382508Z",
     "start_time": "2021-09-11T05:02:59.303508Z"
    }
   }
  },
  {
   "cell_type": "markdown",
   "source": [
    "Next, I examine the class balance."
   ],
   "metadata": {}
  },
  {
   "cell_type": "code",
   "execution_count": 23,
   "source": [
    "df[\"main_cat\"].value_counts()"
   ],
   "outputs": [
    {
     "output_type": "execute_result",
     "data": {
      "text/plain": [
       "books                           986192\n",
       "amazon home                     501425\n",
       "amazon fashion                  471307\n",
       "sports & outdoors               250305\n",
       "tools & home improvement        208458\n",
       "toys & games                    206248\n",
       "automotive                      196355\n",
       "grocery                         148852\n",
       "cell phones & accessories       147917\n",
       "digital music                   117238\n",
       "movies & tv                     102011\n",
       "computers                        98551\n",
       "office products                  73193\n",
       "all electronics                  70414\n",
       "pet supplies                     65073\n",
       "industrial & scientific          61799\n",
       "camera & photo                   60333\n",
       "arts, crafts & sewing            60041\n",
       "home audio & theater             45351\n",
       "musical instruments              44605\n",
       "video games                      28036\n",
       "health & personal care           22546\n",
       "baby                             12733\n",
       "software                         12304\n",
       "car electronics                  11273\n",
       "all beauty                       10752\n",
       "luxury beauty                     6943\n",
       "prime pantry                      5462\n",
       "gps & navigation                  3268\n",
       "appliances                        2887\n",
       "portable audio & accessories      2809\n",
       "handmade                          2278\n",
       "collectibles & fine art           1139\n",
       "fine art                           406\n",
       "magazine subscriptions             355\n",
       "amazon devices                     196\n",
       "gift cards                         145\n",
       "apple products                       6\n",
       "amazon launchpad                     5\n",
       "fire phone                           3\n",
       "entertainment                        3\n",
       "sports collectibles                  1\n",
       "beats by dr. dre                     1\n",
       "amazon fire tv                       1\n",
       "buy a kindle                         1\n",
       "Name: main_cat, dtype: int64"
      ]
     },
     "metadata": {},
     "execution_count": 23
    },
    {
     "output_type": "display_data",
     "data": {
      "application/javascript": "\n            setTimeout(function() {\n                var nbb_cell_id = 23;\n                var nbb_unformatted_code = \"df[\\\"main_cat\\\"].value_counts()\";\n                var nbb_formatted_code = \"df[\\\"main_cat\\\"].value_counts()\";\n                var nbb_cells = Jupyter.notebook.get_cells();\n                for (var i = 0; i < nbb_cells.length; ++i) {\n                    if (nbb_cells[i].input_prompt_number == nbb_cell_id) {\n                        if (nbb_cells[i].get_text() == nbb_unformatted_code) {\n                             nbb_cells[i].set_text(nbb_formatted_code);\n                        }\n                        break;\n                    }\n                }\n            }, 500);\n            ",
      "text/plain": [
       "<IPython.core.display.Javascript object>"
      ]
     },
     "metadata": {}
    }
   ],
   "metadata": {
    "ExecuteTime": {
     "end_time": "2021-09-11T05:03:18.922510Z",
     "start_time": "2021-09-11T05:03:18.383508Z"
    }
   }
  },
  {
   "cell_type": "markdown",
   "source": [
    "Looks pretty imbalanced, but serviceable. I'll drop the extremely small classes with less than 100 samples."
   ],
   "metadata": {}
  },
  {
   "cell_type": "code",
   "execution_count": 24,
   "source": [
    "df = utils.prune_categories(df, column=\"main_cat\", cut=100)"
   ],
   "outputs": [
    {
     "output_type": "stream",
     "name": "stdout",
     "text": [
      "                                Status  Support\n",
      "books                         retained   986192\n",
      "amazon home                   retained   501425\n",
      "amazon fashion                retained   471307\n",
      "sports & outdoors             retained   250305\n",
      "tools & home improvement      retained   208458\n",
      "toys & games                  retained   206248\n",
      "automotive                    retained   196355\n",
      "grocery                       retained   148852\n",
      "cell phones & accessories     retained   147917\n",
      "digital music                 retained   117238\n",
      "movies & tv                   retained   102011\n",
      "computers                     retained    98551\n",
      "office products               retained    73193\n",
      "all electronics               retained    70414\n",
      "pet supplies                  retained    65073\n",
      "industrial & scientific       retained    61799\n",
      "camera & photo                retained    60333\n",
      "arts, crafts & sewing         retained    60041\n",
      "home audio & theater          retained    45351\n",
      "musical instruments           retained    44605\n",
      "video games                   retained    28036\n",
      "health & personal care        retained    22546\n",
      "baby                          retained    12733\n",
      "software                      retained    12304\n",
      "car electronics               retained    11273\n",
      "all beauty                    retained    10752\n",
      "luxury beauty                 retained     6943\n",
      "prime pantry                  retained     5462\n",
      "gps & navigation              retained     3268\n",
      "appliances                    retained     2887\n",
      "portable audio & accessories  retained     2809\n",
      "handmade                      retained     2278\n",
      "collectibles & fine art       retained     1139\n",
      "fine art                      retained      406\n",
      "magazine subscriptions        retained      355\n",
      "amazon devices                retained      196\n",
      "gift cards                    retained      145\n",
      "apple products                 dropped        6\n",
      "amazon launchpad               dropped        5\n",
      "fire phone                     dropped        3\n",
      "entertainment                  dropped        3\n",
      "sports collectibles            dropped        1\n",
      "beats by dr. dre               dropped        1\n",
      "amazon fire tv                 dropped        1\n",
      "buy a kindle                   dropped        1\n"
     ]
    },
    {
     "output_type": "display_data",
     "data": {
      "application/javascript": "\n            setTimeout(function() {\n                var nbb_cell_id = 24;\n                var nbb_unformatted_code = \"df = utils.prune_categories(df, column=\\\"main_cat\\\", cut=100)\";\n                var nbb_formatted_code = \"df = utils.prune_categories(df, column=\\\"main_cat\\\", cut=100)\";\n                var nbb_cells = Jupyter.notebook.get_cells();\n                for (var i = 0; i < nbb_cells.length; ++i) {\n                    if (nbb_cells[i].input_prompt_number == nbb_cell_id) {\n                        if (nbb_cells[i].get_text() == nbb_unformatted_code) {\n                             nbb_cells[i].set_text(nbb_formatted_code);\n                        }\n                        break;\n                    }\n                }\n            }, 500);\n            ",
      "text/plain": [
       "<IPython.core.display.Javascript object>"
      ]
     },
     "metadata": {}
    }
   ],
   "metadata": {
    "ExecuteTime": {
     "end_time": "2021-09-11T05:03:20.686508Z",
     "start_time": "2021-09-11T05:03:18.923512Z"
    }
   }
  },
  {
   "cell_type": "markdown",
   "source": [
    "I define a function below for saving the data throughout this notebook. By saving periodically, I can avoid having to rerun the whole notebook."
   ],
   "metadata": {}
  },
  {
   "cell_type": "code",
   "execution_count": 17,
   "source": [
    "def data_checkpoint(data, path):\r\n",
    "    \"\"\"Save data to disk.\"\"\"\r\n",
    "    path = os.path.normpath(path)\r\n",
    "\r\n",
    "    if os.path.isdir(path):\r\n",
    "        shutil.rmtree(path)\r\n",
    "        print(\"Overwriting...\")\r\n",
    "\r\n",
    "    data.to_parquet(\r\n",
    "        path,\r\n",
    "        engine=\"pyarrow\",\r\n",
    "        index=True,\r\n",
    "        partition_cols=[\"main_cat\"],\r\n",
    "    )\r\n",
    "\r\n",
    "    n_files = len(glob.glob(f\"{path}/*/*.parquet\"))\r\n",
    "    print(f\"{n_files} files created.\")"
   ],
   "outputs": [
    {
     "output_type": "display_data",
     "data": {
      "application/javascript": "\n            setTimeout(function() {\n                var nbb_cell_id = 17;\n                var nbb_unformatted_code = \"def data_checkpoint(data, path):\\n    path = os.path.normpath(path)\\n\\n    if os.path.isdir(path):\\n        shutil.rmtree(path)\\n        print(\\\"Overwriting...\\\")\\n\\n    data.to_parquet(\\n        path,\\n        engine=\\\"pyarrow\\\",\\n        index=True,\\n        partition_cols=[\\\"main_cat\\\"],\\n    )\\n\\n    n_files = len(glob.glob(f\\\"{path}/*/*.parquet\\\"))\\n    print(f\\\"{n_files} files created.\\\")\";\n                var nbb_formatted_code = \"def data_checkpoint(data, path):\\n    path = os.path.normpath(path)\\n\\n    if os.path.isdir(path):\\n        shutil.rmtree(path)\\n        print(\\\"Overwriting...\\\")\\n\\n    data.to_parquet(\\n        path,\\n        engine=\\\"pyarrow\\\",\\n        index=True,\\n        partition_cols=[\\\"main_cat\\\"],\\n    )\\n\\n    n_files = len(glob.glob(f\\\"{path}/*/*.parquet\\\"))\\n    print(f\\\"{n_files} files created.\\\")\";\n                var nbb_cells = Jupyter.notebook.get_cells();\n                for (var i = 0; i < nbb_cells.length; ++i) {\n                    if (nbb_cells[i].input_prompt_number == nbb_cell_id) {\n                        if (nbb_cells[i].get_text() == nbb_unformatted_code) {\n                             nbb_cells[i].set_text(nbb_formatted_code);\n                        }\n                        break;\n                    }\n                }\n            }, 500);\n            ",
      "text/plain": [
       "<IPython.core.display.Javascript object>"
      ]
     },
     "metadata": {}
    }
   ],
   "metadata": {
    "ExecuteTime": {
     "end_time": "2021-09-11T06:48:28.539106Z",
     "start_time": "2021-09-11T06:48:28.426103Z"
    }
   }
  },
  {
   "cell_type": "code",
   "execution_count": 26,
   "source": [
    "data_checkpoint(df, \"data/skeleton_checkpoint\")"
   ],
   "outputs": [
    {
     "output_type": "stream",
     "name": "stdout",
     "text": [
      "Overwriting...\n",
      "37 files created.\n"
     ]
    },
    {
     "output_type": "display_data",
     "data": {
      "application/javascript": "\n            setTimeout(function() {\n                var nbb_cell_id = 26;\n                var nbb_unformatted_code = \"data_checkpoint(df, \\\"data/skeleton_checkpoint\\\")\";\n                var nbb_formatted_code = \"data_checkpoint(df, \\\"data/skeleton_checkpoint\\\")\";\n                var nbb_cells = Jupyter.notebook.get_cells();\n                for (var i = 0; i < nbb_cells.length; ++i) {\n                    if (nbb_cells[i].input_prompt_number == nbb_cell_id) {\n                        if (nbb_cells[i].get_text() == nbb_unformatted_code) {\n                             nbb_cells[i].set_text(nbb_formatted_code);\n                        }\n                        break;\n                    }\n                }\n            }, 500);\n            ",
      "text/plain": [
       "<IPython.core.display.Javascript object>"
      ]
     },
     "metadata": {}
    }
   ],
   "metadata": {
    "ExecuteTime": {
     "end_time": "2021-09-11T05:04:16.440095Z",
     "start_time": "2021-09-11T05:03:20.798508Z"
    }
   }
  },
  {
   "cell_type": "markdown",
   "source": [
    "# Adding 'title' and 'brand'\n",
    "\n",
    "The next step is to load the 'title' and 'brand' features."
   ],
   "metadata": {}
  },
  {
   "cell_type": "code",
   "execution_count": 27,
   "source": [
    "titles = pd.read_parquet(\r\n",
    "    \"data/amazon_raw\", engine=\"pyarrow\", columns=[\"title\", \"brand\", \"asin\"]\r\n",
    ")\r\n",
    "titles"
   ],
   "outputs": [
    {
     "output_type": "execute_result",
     "data": {
      "text/html": [
       "<div>\n",
       "<style scoped>\n",
       "    .dataframe tbody tr th:only-of-type {\n",
       "        vertical-align: middle;\n",
       "    }\n",
       "\n",
       "    .dataframe tbody tr th {\n",
       "        vertical-align: top;\n",
       "    }\n",
       "\n",
       "    .dataframe thead th {\n",
       "        text-align: right;\n",
       "    }\n",
       "</style>\n",
       "<table border=\"1\" class=\"dataframe\">\n",
       "  <thead>\n",
       "    <tr style=\"text-align: right;\">\n",
       "      <th></th>\n",
       "      <th>title</th>\n",
       "      <th>brand</th>\n",
       "      <th>asin</th>\n",
       "    </tr>\n",
       "  </thead>\n",
       "  <tbody>\n",
       "    <tr>\n",
       "      <th>0</th>\n",
       "      <td>Women Blouse, Ninasill Hooded Sweatshirt Coat ...</td>\n",
       "      <td>Ninasill_Blouse</td>\n",
       "      <td>6305121869</td>\n",
       "    </tr>\n",
       "    <tr>\n",
       "      <th>1</th>\n",
       "      <td>Coolred-Women Retro Split Sexy Skinny Premium ...</td>\n",
       "      <td>Coolred-Women</td>\n",
       "      <td>6318708057</td>\n",
       "    </tr>\n",
       "    <tr>\n",
       "      <th>2</th>\n",
       "      <td>Gaok Men's Retro Cotton Multi-Pocket Camo Carg...</td>\n",
       "      <td>Gaok</td>\n",
       "      <td>6342506256</td>\n",
       "    </tr>\n",
       "    <tr>\n",
       "      <th>3</th>\n",
       "      <td>QIBOE Men's Baggy Jeans Denim Sweatpants Loose...</td>\n",
       "      <td>QIBOE</td>\n",
       "      <td>6342509379</td>\n",
       "    </tr>\n",
       "    <tr>\n",
       "      <th>4</th>\n",
       "      <td>Crazy Explosion-proof Lens Polarized Sunglasse...</td>\n",
       "      <td>OLO</td>\n",
       "      <td>6342522081</td>\n",
       "    </tr>\n",
       "    <tr>\n",
       "      <th>...</th>\n",
       "      <td>...</td>\n",
       "      <td>...</td>\n",
       "      <td>...</td>\n",
       "    </tr>\n",
       "    <tr>\n",
       "      <th>15023054</th>\n",
       "      <td>Woodstock Percussion FBBS Fiesta Bamboo Blue S...</td>\n",
       "      <td>Woodstock Chimes</td>\n",
       "      <td>B0007IQV2Q</td>\n",
       "    </tr>\n",
       "    <tr>\n",
       "      <th>15023055</th>\n",
       "      <td>Woodstock Percussion MBC Mission Bamboo Chime</td>\n",
       "      <td>Woodstock Chimes</td>\n",
       "      <td>B0007IQV0I</td>\n",
       "    </tr>\n",
       "    <tr>\n",
       "      <th>15023056</th>\n",
       "      <td>Sunsei 70440 Solar Vent Stainless Steel Day/Ni...</td>\n",
       "      <td>ICP</td>\n",
       "      <td>B0007KGWGY</td>\n",
       "    </tr>\n",
       "    <tr>\n",
       "      <th>15023057</th>\n",
       "      <td>Valley Forge 20-Foot Aluminum In Ground Pole W...</td>\n",
       "      <td>Valley Forge</td>\n",
       "      <td>B0007KP9P4</td>\n",
       "    </tr>\n",
       "    <tr>\n",
       "      <th>15023058</th>\n",
       "      <td>Valley Forge, American Flag, Aluminum Bracket ...</td>\n",
       "      <td>Valley Forge</td>\n",
       "      <td>B0007KP9SG</td>\n",
       "    </tr>\n",
       "  </tbody>\n",
       "</table>\n",
       "<p>15023059 rows × 3 columns</p>\n",
       "</div>"
      ],
      "text/plain": [
       "                                                      title             brand  \\\n",
       "0         Women Blouse, Ninasill Hooded Sweatshirt Coat ...   Ninasill_Blouse   \n",
       "1         Coolred-Women Retro Split Sexy Skinny Premium ...     Coolred-Women   \n",
       "2         Gaok Men's Retro Cotton Multi-Pocket Camo Carg...              Gaok   \n",
       "3         QIBOE Men's Baggy Jeans Denim Sweatpants Loose...             QIBOE   \n",
       "4         Crazy Explosion-proof Lens Polarized Sunglasse...               OLO   \n",
       "...                                                     ...               ...   \n",
       "15023054  Woodstock Percussion FBBS Fiesta Bamboo Blue S...  Woodstock Chimes   \n",
       "15023055      Woodstock Percussion MBC Mission Bamboo Chime  Woodstock Chimes   \n",
       "15023056  Sunsei 70440 Solar Vent Stainless Steel Day/Ni...               ICP   \n",
       "15023057  Valley Forge 20-Foot Aluminum In Ground Pole W...      Valley Forge   \n",
       "15023058  Valley Forge, American Flag, Aluminum Bracket ...      Valley Forge   \n",
       "\n",
       "                asin  \n",
       "0         6305121869  \n",
       "1         6318708057  \n",
       "2         6342506256  \n",
       "3         6342509379  \n",
       "4         6342522081  \n",
       "...              ...  \n",
       "15023054  B0007IQV2Q  \n",
       "15023055  B0007IQV0I  \n",
       "15023056  B0007KGWGY  \n",
       "15023057  B0007KP9P4  \n",
       "15023058  B0007KP9SG  \n",
       "\n",
       "[15023059 rows x 3 columns]"
      ]
     },
     "metadata": {},
     "execution_count": 27
    },
    {
     "output_type": "display_data",
     "data": {
      "application/javascript": "\n            setTimeout(function() {\n                var nbb_cell_id = 27;\n                var nbb_unformatted_code = \"titles = pd.read_parquet(\\n    \\\"data/amazon_raw\\\", engine=\\\"pyarrow\\\", columns=[\\\"title\\\", \\\"brand\\\", \\\"asin\\\"]\\n)\\ntitles\";\n                var nbb_formatted_code = \"titles = pd.read_parquet(\\n    \\\"data/amazon_raw\\\", engine=\\\"pyarrow\\\", columns=[\\\"title\\\", \\\"brand\\\", \\\"asin\\\"]\\n)\\ntitles\";\n                var nbb_cells = Jupyter.notebook.get_cells();\n                for (var i = 0; i < nbb_cells.length; ++i) {\n                    if (nbb_cells[i].input_prompt_number == nbb_cell_id) {\n                        if (nbb_cells[i].get_text() == nbb_unformatted_code) {\n                             nbb_cells[i].set_text(nbb_formatted_code);\n                        }\n                        break;\n                    }\n                }\n            }, 500);\n            ",
      "text/plain": [
       "<IPython.core.display.Javascript object>"
      ]
     },
     "metadata": {}
    }
   ],
   "metadata": {
    "ExecuteTime": {
     "end_time": "2021-09-11T05:04:28.569075Z",
     "start_time": "2021-09-11T05:04:16.443093Z"
    }
   }
  },
  {
   "cell_type": "markdown",
   "source": [
    "Then I drop duplicates from the ID column 'asin' and set it as the index."
   ],
   "metadata": {}
  },
  {
   "cell_type": "code",
   "execution_count": 28,
   "source": [
    "titles = titles.drop_duplicates(subset=[\"asin\"])\n",
    "titles = titles.set_index(\"asin\")\n",
    "titles.head()"
   ],
   "outputs": [
    {
     "output_type": "execute_result",
     "data": {
      "text/html": [
       "<div>\n",
       "<style scoped>\n",
       "    .dataframe tbody tr th:only-of-type {\n",
       "        vertical-align: middle;\n",
       "    }\n",
       "\n",
       "    .dataframe tbody tr th {\n",
       "        vertical-align: top;\n",
       "    }\n",
       "\n",
       "    .dataframe thead th {\n",
       "        text-align: right;\n",
       "    }\n",
       "</style>\n",
       "<table border=\"1\" class=\"dataframe\">\n",
       "  <thead>\n",
       "    <tr style=\"text-align: right;\">\n",
       "      <th></th>\n",
       "      <th>title</th>\n",
       "      <th>brand</th>\n",
       "    </tr>\n",
       "    <tr>\n",
       "      <th>asin</th>\n",
       "      <th></th>\n",
       "      <th></th>\n",
       "    </tr>\n",
       "  </thead>\n",
       "  <tbody>\n",
       "    <tr>\n",
       "      <th>6305121869</th>\n",
       "      <td>Women Blouse, Ninasill Hooded Sweatshirt Coat ...</td>\n",
       "      <td>Ninasill_Blouse</td>\n",
       "    </tr>\n",
       "    <tr>\n",
       "      <th>6318708057</th>\n",
       "      <td>Coolred-Women Retro Split Sexy Skinny Premium ...</td>\n",
       "      <td>Coolred-Women</td>\n",
       "    </tr>\n",
       "    <tr>\n",
       "      <th>6342506256</th>\n",
       "      <td>Gaok Men's Retro Cotton Multi-Pocket Camo Carg...</td>\n",
       "      <td>Gaok</td>\n",
       "    </tr>\n",
       "    <tr>\n",
       "      <th>6342509379</th>\n",
       "      <td>QIBOE Men's Baggy Jeans Denim Sweatpants Loose...</td>\n",
       "      <td>QIBOE</td>\n",
       "    </tr>\n",
       "    <tr>\n",
       "      <th>6342522081</th>\n",
       "      <td>Crazy Explosion-proof Lens Polarized Sunglasse...</td>\n",
       "      <td>OLO</td>\n",
       "    </tr>\n",
       "  </tbody>\n",
       "</table>\n",
       "</div>"
      ],
      "text/plain": [
       "                                                        title            brand\n",
       "asin                                                                          \n",
       "6305121869  Women Blouse, Ninasill Hooded Sweatshirt Coat ...  Ninasill_Blouse\n",
       "6318708057  Coolred-Women Retro Split Sexy Skinny Premium ...    Coolred-Women\n",
       "6342506256  Gaok Men's Retro Cotton Multi-Pocket Camo Carg...             Gaok\n",
       "6342509379  QIBOE Men's Baggy Jeans Denim Sweatpants Loose...            QIBOE\n",
       "6342522081  Crazy Explosion-proof Lens Polarized Sunglasse...              OLO"
      ]
     },
     "metadata": {},
     "execution_count": 28
    },
    {
     "output_type": "display_data",
     "data": {
      "application/javascript": "\n            setTimeout(function() {\n                var nbb_cell_id = 28;\n                var nbb_unformatted_code = \"titles = titles.drop_duplicates(subset=[\\\"asin\\\"])\\ntitles = titles.set_index(\\\"asin\\\")\\ntitles.head()\";\n                var nbb_formatted_code = \"titles = titles.drop_duplicates(subset=[\\\"asin\\\"])\\ntitles = titles.set_index(\\\"asin\\\")\\ntitles.head()\";\n                var nbb_cells = Jupyter.notebook.get_cells();\n                for (var i = 0; i < nbb_cells.length; ++i) {\n                    if (nbb_cells[i].input_prompt_number == nbb_cell_id) {\n                        if (nbb_cells[i].get_text() == nbb_unformatted_code) {\n                             nbb_cells[i].set_text(nbb_formatted_code);\n                        }\n                        break;\n                    }\n                }\n            }, 500);\n            ",
      "text/plain": [
       "<IPython.core.display.Javascript object>"
      ]
     },
     "metadata": {}
    }
   ],
   "metadata": {
    "ExecuteTime": {
     "end_time": "2021-09-11T05:04:38.884949Z",
     "start_time": "2021-09-11T05:04:28.570074Z"
    }
   }
  },
  {
   "cell_type": "markdown",
   "source": [
    "I slice out the intersection between `titles` and `df`, discarding any samples which I previously discarded."
   ],
   "metadata": {}
  },
  {
   "cell_type": "code",
   "execution_count": 29,
   "source": [
    "titles = titles.loc[titles.index.intersection(df.index)]\n",
    "titles.shape"
   ],
   "outputs": [
    {
     "output_type": "execute_result",
     "data": {
      "text/plain": [
       "(4039200, 2)"
      ]
     },
     "metadata": {},
     "execution_count": 29
    },
    {
     "output_type": "display_data",
     "data": {
      "application/javascript": "\n            setTimeout(function() {\n                var nbb_cell_id = 29;\n                var nbb_unformatted_code = \"titles = titles.loc[titles.index.intersection(df.index)]\\ntitles.shape\";\n                var nbb_formatted_code = \"titles = titles.loc[titles.index.intersection(df.index)]\\ntitles.shape\";\n                var nbb_cells = Jupyter.notebook.get_cells();\n                for (var i = 0; i < nbb_cells.length; ++i) {\n                    if (nbb_cells[i].input_prompt_number == nbb_cell_id) {\n                        if (nbb_cells[i].get_text() == nbb_unformatted_code) {\n                             nbb_cells[i].set_text(nbb_formatted_code);\n                        }\n                        break;\n                    }\n                }\n            }, 500);\n            ",
      "text/plain": [
       "<IPython.core.display.Javascript object>"
      ]
     },
     "metadata": {}
    }
   ],
   "metadata": {
    "ExecuteTime": {
     "end_time": "2021-09-11T05:05:01.406949Z",
     "start_time": "2021-09-11T05:04:38.886949Z"
    }
   }
  },
  {
   "cell_type": "markdown",
   "source": [
    "Then I drop duplicates with respect to 'title' and 'brand'. Anything with the same title and brand is too close for comfort."
   ],
   "metadata": {}
  },
  {
   "cell_type": "code",
   "execution_count": 30,
   "source": [
    "titles = titles.drop_duplicates(subset=[\"title\", \"brand\"])\n",
    "titles.shape"
   ],
   "outputs": [
    {
     "output_type": "execute_result",
     "data": {
      "text/plain": [
       "(4017825, 2)"
      ]
     },
     "metadata": {},
     "execution_count": 30
    },
    {
     "output_type": "display_data",
     "data": {
      "application/javascript": "\n            setTimeout(function() {\n                var nbb_cell_id = 30;\n                var nbb_unformatted_code = \"titles = titles.drop_duplicates(subset=[\\\"title\\\", \\\"brand\\\"])\\ntitles.shape\";\n                var nbb_formatted_code = \"titles = titles.drop_duplicates(subset=[\\\"title\\\", \\\"brand\\\"])\\ntitles.shape\";\n                var nbb_cells = Jupyter.notebook.get_cells();\n                for (var i = 0; i < nbb_cells.length; ++i) {\n                    if (nbb_cells[i].input_prompt_number == nbb_cell_id) {\n                        if (nbb_cells[i].get_text() == nbb_unformatted_code) {\n                             nbb_cells[i].set_text(nbb_formatted_code);\n                        }\n                        break;\n                    }\n                }\n            }, 500);\n            ",
      "text/plain": [
       "<IPython.core.display.Javascript object>"
      ]
     },
     "metadata": {}
    }
   ],
   "metadata": {
    "ExecuteTime": {
     "end_time": "2021-09-11T05:05:05.098946Z",
     "start_time": "2021-09-11T05:05:01.407947Z"
    }
   }
  },
  {
   "cell_type": "markdown",
   "source": [
    "Looks like that shaved off about 20K samples. Not bad. Next, I'll survey the length distributions."
   ],
   "metadata": {}
  },
  {
   "cell_type": "code",
   "execution_count": 31,
   "source": [
    "fig = lang.length_dist(\r\n",
    "    titles.sample(10 ** 6), subset=\"title\", log_scale=True, tick_prec=1\r\n",
    ")"
   ],
   "outputs": [
    {
     "output_type": "display_data",
     "data": {
      "image/png": "[encoded data removed]",
      "text/plain": [
       "<Figure size 1080x360 with 3 Axes>"
      ]
     },
     "metadata": {
      "needs_background": "light"
     }
    },
    {
     "output_type": "display_data",
     "data": {
      "application/javascript": "\n            setTimeout(function() {\n                var nbb_cell_id = 31;\n                var nbb_unformatted_code = \"fig = lang.length_dist(\\n    titles.sample(10 ** 6), subset=\\\"title\\\", log_scale=True, tick_prec=1\\n)\";\n                var nbb_formatted_code = \"fig = lang.length_dist(\\n    titles.sample(10 ** 6), subset=\\\"title\\\", log_scale=True, tick_prec=1\\n)\";\n                var nbb_cells = Jupyter.notebook.get_cells();\n                for (var i = 0; i < nbb_cells.length; ++i) {\n                    if (nbb_cells[i].input_prompt_number == nbb_cell_id) {\n                        if (nbb_cells[i].get_text() == nbb_unformatted_code) {\n                             nbb_cells[i].set_text(nbb_formatted_code);\n                        }\n                        break;\n                    }\n                }\n            }, 500);\n            ",
      "text/plain": [
       "<IPython.core.display.Javascript object>"
      ]
     },
     "metadata": {}
    }
   ],
   "metadata": {
    "ExecuteTime": {
     "end_time": "2021-09-11T05:05:09.166947Z",
     "start_time": "2021-09-11T05:05:05.099946Z"
    }
   }
  },
  {
   "cell_type": "markdown",
   "source": [
    "Short titles don't bother me, but I'm worried about the extremely long ones. Let's look at the longest."
   ],
   "metadata": {}
  },
  {
   "cell_type": "code",
   "execution_count": 32,
   "source": [
    "titles.at[titles.title.str.len().idxmax(), \"title\"]"
   ],
   "outputs": [
    {
     "output_type": "execute_result",
     "data": {
      "text/plain": [
       "'NP-FH50 Li-ion Battery Replacement For Sony Alpha AC-VQH10, DSLR-A230, DSLR-A290, DSLR-A330, SLR-380, DSLR-A390, DSC-HX1, DSC-HX100, DSC-HX100V, SC-X200, DSC-HX200V, DCR-DVD103, DCR-DVD105, DCR-DVD105E, DCR-DVD106, DCR-DVD106E, DCR-DVD108, DCR-DVD109, DCR-DVD109E, DCR-DVD202, DCR-DVD202E,DCR-DVD203, DCR-DVD203E, DCR-DVD205, DCR-DVD205E, DCR-DVD305, DCR-DVD305E, DCR-DVD306, DCR-DVD306E, DCR-DVD308, DCR-DVD308E , DCR-DVD403, DCR-DVD403E, DCR-DVD404, DCR-DVD404E, DCR-DVD405, DCR-DVD405E, DCR-DVD406, DCR-DVD406E, DCR-DVD407, DCR-DVD407E, DCR-DVD408, DCR-DVD505, DCR-DVD505E, DCR-DVD506, DCR-DVD508, DCR-DVD602, DCR-DVD602E, DCR-DVD605, DCR-DVD605E, DCR-DVD610, DCR-DVD610E, DCR-DVD650, DCR-DVD653, DCR-DVD653E, DCR-DVD703, DCR-DVD703E, DCR-DVD705, DCR-DVD705E, DCR-DVD708, DCR-DVD708E, DCR-DVD710, DCR-DVD710E, DCR-DVD755, DCR-DVD755E, DCR-DVD803, DCR-DVD803E, DCR-DVD805, DCR-DVD805E, DCR-DVD808, DCRDVD808, DVD808, DCR-DVD808E, DCRDVD808E, DVD808E DCR-DVD810, DCR-DVD810E, DCR-DVD850, DCR-DVD850E, DCR-DVD905, DCR-DVD905E, DCR-DVD908, DCR-DVD908E, DCR-DVD910, DCR-DVD910E, DCR-DVD92, DCR-DVD92E, DCR-HC16, DCR-HC16E, DCR-HC17, DCR-HC17E, DCR-HC18, DCR-HC18E, DCR-C19, DCR-HC19E, DCR-HC20, DCR-HC20E, DCR-HC21,DCR-HC21E, DCR-HC22, DCR-HC22E, DCR-HC23, DCR-HC23E, DCR-C24, DCR-HC24E, DCR-HC26, DCR-HC26E, DCR-HC27, DCR-HC27E, DCR-HC28, DCR-HC28E, DCR-HC30, DCR-HC30E, DCR-C30G, DCR-HC30L, DCR-HC30S, DCR-HC32, DCR-HC32E, DCR-HC33, DCR-HC33E, DCR-HC35, DCR-HC35E, DCR-HC36, DCR-C36E, DCR-HC37, DCR-HC37E, DCR-HC38, DCR-HC38E, DCR-HC39, DCR-HC39E, DCR-HC40, DCR-HC40E, DCR-HC40S, DCR-C40W, DCR-HC41, DCR-HC41E, DCR-HC42, DCR-HC42E, DCR-HC43, DCR-HC43E, DCR-HC44, DCR-HC44E, DCR-HC45, DCR-HC45E, DCR-C46, DCR-HC46E DCR-HC47, DCR-HC47E, DCR-HC48, DCR-HC48E, DCR-HC5, DCR-HC52, DCR-HC52E, DCR-C62, DCR-HC62E, DCR-HC65, DCR-HC65E, DCR-HC7, DCR-HC8, DCR-HC85, DCR-HC85E, DCR-HC94, DCR-HC94E, DCR-HC96, DCR-HC96E, DCR-SR10, DCR-SR100, DCR-SR11, DCR-SR12, DCR-SR190, DCR-SR200, DCR-SR200C, DCR-SR220, DCR-'"
      ]
     },
     "metadata": {},
     "execution_count": 32
    },
    {
     "output_type": "display_data",
     "data": {
      "application/javascript": "\n            setTimeout(function() {\n                var nbb_cell_id = 32;\n                var nbb_unformatted_code = \"titles.at[titles.title.str.len().idxmax(), \\\"title\\\"]\";\n                var nbb_formatted_code = \"titles.at[titles.title.str.len().idxmax(), \\\"title\\\"]\";\n                var nbb_cells = Jupyter.notebook.get_cells();\n                for (var i = 0; i < nbb_cells.length; ++i) {\n                    if (nbb_cells[i].input_prompt_number == nbb_cell_id) {\n                        if (nbb_cells[i].get_text() == nbb_unformatted_code) {\n                             nbb_cells[i].set_text(nbb_formatted_code);\n                        }\n                        break;\n                    }\n                }\n            }, 500);\n            ",
      "text/plain": [
       "<IPython.core.display.Javascript object>"
      ]
     },
     "metadata": {}
    }
   ],
   "metadata": {
    "ExecuteTime": {
     "end_time": "2021-09-11T05:05:12.347947Z",
     "start_time": "2021-09-11T05:05:09.167947Z"
    }
   }
  },
  {
   "cell_type": "markdown",
   "source": [
    "It's a long list of alphanumeric codes. They look to be SKUs of compatible products. Since I'm building a natural language model and not a repository of codes, I'll drop the ultra-long titles. I'll also go ahead and drop the ultra-short titles by shaving off 1% from each tail of the distribution."
   ],
   "metadata": {}
  },
  {
   "cell_type": "code",
   "execution_count": 33,
   "source": [
    "titles = lang.trim_length_outliers(titles, subset=\"title\", q_inner=0.98)\r\n",
    "titles"
   ],
   "outputs": [
    {
     "output_type": "stream",
     "name": "stdout",
     "text": [
      "       len_title  len_brand\n",
      "count  3,935,434  3,770,541\n",
      "mean          69         15\n",
      "std           38         10\n",
      "min           10          1\n",
      "25%           41          7\n",
      "50%           62         12\n",
      "75%           86         18\n",
      "max          203      1,986\n",
      "\n",
      "\n",
      "           n_trimmed  pct_trimmed\n",
      "title         82,354            2\n",
      "brand              0            0\n",
      "total_obs     82,354            2\n"
     ]
    },
    {
     "output_type": "execute_result",
     "data": {
      "text/html": [
       "<div>\n",
       "<style scoped>\n",
       "    .dataframe tbody tr th:only-of-type {\n",
       "        vertical-align: middle;\n",
       "    }\n",
       "\n",
       "    .dataframe tbody tr th {\n",
       "        vertical-align: top;\n",
       "    }\n",
       "\n",
       "    .dataframe thead th {\n",
       "        text-align: right;\n",
       "    }\n",
       "</style>\n",
       "<table border=\"1\" class=\"dataframe\">\n",
       "  <thead>\n",
       "    <tr style=\"text-align: right;\">\n",
       "      <th></th>\n",
       "      <th>title</th>\n",
       "      <th>brand</th>\n",
       "    </tr>\n",
       "    <tr>\n",
       "      <th>asin</th>\n",
       "      <th></th>\n",
       "      <th></th>\n",
       "    </tr>\n",
       "  </thead>\n",
       "  <tbody>\n",
       "    <tr>\n",
       "      <th>6305121869</th>\n",
       "      <td>Women Blouse, Ninasill Hooded Sweatshirt Coat ...</td>\n",
       "      <td>Ninasill_Blouse</td>\n",
       "    </tr>\n",
       "    <tr>\n",
       "      <th>6318708057</th>\n",
       "      <td>Coolred-Women Retro Split Sexy Skinny Premium ...</td>\n",
       "      <td>Coolred-Women</td>\n",
       "    </tr>\n",
       "    <tr>\n",
       "      <th>6342506256</th>\n",
       "      <td>Gaok Men's Retro Cotton Multi-Pocket Camo Carg...</td>\n",
       "      <td>Gaok</td>\n",
       "    </tr>\n",
       "    <tr>\n",
       "      <th>6342509379</th>\n",
       "      <td>QIBOE Men's Baggy Jeans Denim Sweatpants Loose...</td>\n",
       "      <td>QIBOE</td>\n",
       "    </tr>\n",
       "    <tr>\n",
       "      <th>6342522081</th>\n",
       "      <td>Crazy Explosion-proof Lens Polarized Sunglasse...</td>\n",
       "      <td>OLO</td>\n",
       "    </tr>\n",
       "    <tr>\n",
       "      <th>...</th>\n",
       "      <td>...</td>\n",
       "      <td>...</td>\n",
       "    </tr>\n",
       "    <tr>\n",
       "      <th>B0007IIOE4</th>\n",
       "      <td>19HP 42&amp;quot; Yard Tractor</td>\n",
       "      <td>Electrolux</td>\n",
       "    </tr>\n",
       "    <tr>\n",
       "      <th>B0007IN33G</th>\n",
       "      <td>Echo Valley EV4061 Low Profile Globe Stand Black</td>\n",
       "      <td>Echo Valley</td>\n",
       "    </tr>\n",
       "    <tr>\n",
       "      <th>B0007IQUUO</th>\n",
       "      <td>Woodstock Chimes CRCBM Craftsman Chime, Black</td>\n",
       "      <td>Woodstock Chimes</td>\n",
       "    </tr>\n",
       "    <tr>\n",
       "      <th>B0007KGWGY</th>\n",
       "      <td>Sunsei 70440 Solar Vent Stainless Steel Day/Ni...</td>\n",
       "      <td>ICP</td>\n",
       "    </tr>\n",
       "    <tr>\n",
       "      <th>B0007KP9SG</th>\n",
       "      <td>Valley Forge, American Flag, Aluminum Bracket ...</td>\n",
       "      <td>Valley Forge</td>\n",
       "    </tr>\n",
       "  </tbody>\n",
       "</table>\n",
       "<p>3935471 rows × 2 columns</p>\n",
       "</div>"
      ],
      "text/plain": [
       "                                                        title  \\\n",
       "asin                                                            \n",
       "6305121869  Women Blouse, Ninasill Hooded Sweatshirt Coat ...   \n",
       "6318708057  Coolred-Women Retro Split Sexy Skinny Premium ...   \n",
       "6342506256  Gaok Men's Retro Cotton Multi-Pocket Camo Carg...   \n",
       "6342509379  QIBOE Men's Baggy Jeans Denim Sweatpants Loose...   \n",
       "6342522081  Crazy Explosion-proof Lens Polarized Sunglasse...   \n",
       "...                                                       ...   \n",
       "B0007IIOE4                         19HP 42&quot; Yard Tractor   \n",
       "B0007IN33G   Echo Valley EV4061 Low Profile Globe Stand Black   \n",
       "B0007IQUUO      Woodstock Chimes CRCBM Craftsman Chime, Black   \n",
       "B0007KGWGY  Sunsei 70440 Solar Vent Stainless Steel Day/Ni...   \n",
       "B0007KP9SG  Valley Forge, American Flag, Aluminum Bracket ...   \n",
       "\n",
       "                       brand  \n",
       "asin                          \n",
       "6305121869   Ninasill_Blouse  \n",
       "6318708057     Coolred-Women  \n",
       "6342506256              Gaok  \n",
       "6342509379             QIBOE  \n",
       "6342522081               OLO  \n",
       "...                      ...  \n",
       "B0007IIOE4        Electrolux  \n",
       "B0007IN33G       Echo Valley  \n",
       "B0007IQUUO  Woodstock Chimes  \n",
       "B0007KGWGY               ICP  \n",
       "B0007KP9SG      Valley Forge  \n",
       "\n",
       "[3935471 rows x 2 columns]"
      ]
     },
     "metadata": {},
     "execution_count": 33
    },
    {
     "output_type": "display_data",
     "data": {
      "application/javascript": "\n            setTimeout(function() {\n                var nbb_cell_id = 33;\n                var nbb_unformatted_code = \"titles = lang.trim_length_outliers(titles, subset=\\\"title\\\", q_inner=0.98)\\ntitles\";\n                var nbb_formatted_code = \"titles = lang.trim_length_outliers(titles, subset=\\\"title\\\", q_inner=0.98)\\ntitles\";\n                var nbb_cells = Jupyter.notebook.get_cells();\n                for (var i = 0; i < nbb_cells.length; ++i) {\n                    if (nbb_cells[i].input_prompt_number == nbb_cell_id) {\n                        if (nbb_cells[i].get_text() == nbb_unformatted_code) {\n                             nbb_cells[i].set_text(nbb_formatted_code);\n                        }\n                        break;\n                    }\n                }\n            }, 500);\n            ",
      "text/plain": [
       "<IPython.core.display.Javascript object>"
      ]
     },
     "metadata": {}
    }
   ],
   "metadata": {
    "ExecuteTime": {
     "end_time": "2021-09-11T05:05:15.168947Z",
     "start_time": "2021-09-11T05:05:12.348948Z"
    }
   }
  },
  {
   "cell_type": "markdown",
   "source": [
    "Much better. The longest title is now ~200 characters, and the shortest is ~10. Time to merge `titles` with `df`."
   ],
   "metadata": {}
  },
  {
   "cell_type": "code",
   "execution_count": 34,
   "source": [
    "df = pd.merge(df, titles, left_index=True, right_index=True)\r\n",
    "df"
   ],
   "outputs": [
    {
     "output_type": "execute_result",
     "data": {
      "text/html": [
       "<div>\n",
       "<style scoped>\n",
       "    .dataframe tbody tr th:only-of-type {\n",
       "        vertical-align: middle;\n",
       "    }\n",
       "\n",
       "    .dataframe tbody tr th {\n",
       "        vertical-align: top;\n",
       "    }\n",
       "\n",
       "    .dataframe thead th {\n",
       "        text-align: right;\n",
       "    }\n",
       "</style>\n",
       "<table border=\"1\" class=\"dataframe\">\n",
       "  <thead>\n",
       "    <tr style=\"text-align: right;\">\n",
       "      <th></th>\n",
       "      <th>description</th>\n",
       "      <th>main_cat</th>\n",
       "      <th>title</th>\n",
       "      <th>brand</th>\n",
       "    </tr>\n",
       "    <tr>\n",
       "      <th>asin</th>\n",
       "      <th></th>\n",
       "      <th></th>\n",
       "      <th></th>\n",
       "      <th></th>\n",
       "    </tr>\n",
       "  </thead>\n",
       "  <tbody>\n",
       "    <tr>\n",
       "      <th>B000ACRBT6</th>\n",
       "      <td>Plug and drive: no installation or activation ...</td>\n",
       "      <td>cell phones &amp; accessories</td>\n",
       "      <td>TomTom Rider 3.5-Inch Bluetooth Portable GPS N...</td>\n",
       "      <td>TomTom</td>\n",
       "    </tr>\n",
       "    <tr>\n",
       "      <th>1628090340</th>\n",
       "      <td>\"If you're looking for a reliable guidebook, t...</td>\n",
       "      <td>books</td>\n",
       "      <td>The Unofficial Guide to Mall of America (Unoff...</td>\n",
       "      <td>Visit Amazon's Beth Blair Page</td>\n",
       "    </tr>\n",
       "    <tr>\n",
       "      <th>0998825719</th>\n",
       "      <td>In her captivating literary memoir Singers sto...</td>\n",
       "      <td>books</td>\n",
       "      <td>California Calling: A Self-Interrogation</td>\n",
       "      <td>Visit Amazon's Natalie Singer Page</td>\n",
       "    </tr>\n",
       "    <tr>\n",
       "      <th>B0058OJ00Y</th>\n",
       "      <td>Create a luxurious oasis of watery bliss in yo...</td>\n",
       "      <td>tools &amp; home improvement</td>\n",
       "      <td>Moen TS296BN ioDIGITAL Vertical Spa Kit with V...</td>\n",
       "      <td>Moen</td>\n",
       "    </tr>\n",
       "    <tr>\n",
       "      <th>1410494012</th>\n",
       "      <td>\"\"Danger Close\" is a riveting and intensely pe...</td>\n",
       "      <td>books</td>\n",
       "      <td>Danger Close: One Woman's Epic Journey as a Co...</td>\n",
       "      <td>Amber Smith</td>\n",
       "    </tr>\n",
       "    <tr>\n",
       "      <th>...</th>\n",
       "      <td>...</td>\n",
       "      <td>...</td>\n",
       "      <td>...</td>\n",
       "      <td>...</td>\n",
       "    </tr>\n",
       "    <tr>\n",
       "      <th>B00CA8PIKW</th>\n",
       "      <td>Sellstrom Grafit series black frame shade 5 IR...</td>\n",
       "      <td>industrial &amp; scientific</td>\n",
       "      <td>Sellstrom 76251 Grafit Series Protective Eyewe...</td>\n",
       "      <td>Sellstrom</td>\n",
       "    </tr>\n",
       "    <tr>\n",
       "      <th>B001G8XILS</th>\n",
       "      <td>What comes up must come down in great looking ...</td>\n",
       "      <td>tools &amp; home improvement</td>\n",
       "      <td>Ergodyne Arsenal 5712 Canvas Utility Pouch - S...</td>\n",
       "      <td>Ergodyne</td>\n",
       "    </tr>\n",
       "    <tr>\n",
       "      <th>B00FSFO93G</th>\n",
       "      <td>OMHome Two-Piece Pajamas - Blue Suitable for b...</td>\n",
       "      <td>amazon fashion</td>\n",
       "      <td>OM Home Unisex Baby Two-Piece Pajamas</td>\n",
       "      <td>OM Home</td>\n",
       "    </tr>\n",
       "    <tr>\n",
       "      <th>B01H61BDA6</th>\n",
       "      <td>The Simbi Clay collection is made with pure cl...</td>\n",
       "      <td>amazon fashion</td>\n",
       "      <td>SIMBI 7mm Round Clay Beads Bracelet</td>\n",
       "      <td>Simbi</td>\n",
       "    </tr>\n",
       "    <tr>\n",
       "      <th>B015686T0K</th>\n",
       "      <td>These wooden flip flop style wall mounted hook...</td>\n",
       "      <td>office products</td>\n",
       "      <td>OLizee Beach Themed Wall Hook Towel Hat Coat H...</td>\n",
       "      <td>OLizee</td>\n",
       "    </tr>\n",
       "  </tbody>\n",
       "</table>\n",
       "<p>3935471 rows × 4 columns</p>\n",
       "</div>"
      ],
      "text/plain": [
       "                                                  description  \\\n",
       "asin                                                            \n",
       "B000ACRBT6  Plug and drive: no installation or activation ...   \n",
       "1628090340  \"If you're looking for a reliable guidebook, t...   \n",
       "0998825719  In her captivating literary memoir Singers sto...   \n",
       "B0058OJ00Y  Create a luxurious oasis of watery bliss in yo...   \n",
       "1410494012  \"\"Danger Close\" is a riveting and intensely pe...   \n",
       "...                                                       ...   \n",
       "B00CA8PIKW  Sellstrom Grafit series black frame shade 5 IR...   \n",
       "B001G8XILS  What comes up must come down in great looking ...   \n",
       "B00FSFO93G  OMHome Two-Piece Pajamas - Blue Suitable for b...   \n",
       "B01H61BDA6  The Simbi Clay collection is made with pure cl...   \n",
       "B015686T0K  These wooden flip flop style wall mounted hook...   \n",
       "\n",
       "                             main_cat  \\\n",
       "asin                                    \n",
       "B000ACRBT6  cell phones & accessories   \n",
       "1628090340                      books   \n",
       "0998825719                      books   \n",
       "B0058OJ00Y   tools & home improvement   \n",
       "1410494012                      books   \n",
       "...                               ...   \n",
       "B00CA8PIKW    industrial & scientific   \n",
       "B001G8XILS   tools & home improvement   \n",
       "B00FSFO93G             amazon fashion   \n",
       "B01H61BDA6             amazon fashion   \n",
       "B015686T0K            office products   \n",
       "\n",
       "                                                        title  \\\n",
       "asin                                                            \n",
       "B000ACRBT6  TomTom Rider 3.5-Inch Bluetooth Portable GPS N...   \n",
       "1628090340  The Unofficial Guide to Mall of America (Unoff...   \n",
       "0998825719           California Calling: A Self-Interrogation   \n",
       "B0058OJ00Y  Moen TS296BN ioDIGITAL Vertical Spa Kit with V...   \n",
       "1410494012  Danger Close: One Woman's Epic Journey as a Co...   \n",
       "...                                                       ...   \n",
       "B00CA8PIKW  Sellstrom 76251 Grafit Series Protective Eyewe...   \n",
       "B001G8XILS  Ergodyne Arsenal 5712 Canvas Utility Pouch - S...   \n",
       "B00FSFO93G              OM Home Unisex Baby Two-Piece Pajamas   \n",
       "B01H61BDA6                SIMBI 7mm Round Clay Beads Bracelet   \n",
       "B015686T0K  OLizee Beach Themed Wall Hook Towel Hat Coat H...   \n",
       "\n",
       "                                         brand  \n",
       "asin                                            \n",
       "B000ACRBT6                              TomTom  \n",
       "1628090340      Visit Amazon's Beth Blair Page  \n",
       "0998825719  Visit Amazon's Natalie Singer Page  \n",
       "B0058OJ00Y                                Moen  \n",
       "1410494012                         Amber Smith  \n",
       "...                                        ...  \n",
       "B00CA8PIKW                           Sellstrom  \n",
       "B001G8XILS                            Ergodyne  \n",
       "B00FSFO93G                             OM Home  \n",
       "B01H61BDA6                               Simbi  \n",
       "B015686T0K                              OLizee  \n",
       "\n",
       "[3935471 rows x 4 columns]"
      ]
     },
     "metadata": {},
     "execution_count": 34
    },
    {
     "output_type": "display_data",
     "data": {
      "application/javascript": "\n            setTimeout(function() {\n                var nbb_cell_id = 34;\n                var nbb_unformatted_code = \"df = pd.merge(df, titles, left_index=True, right_index=True)\\ndf\";\n                var nbb_formatted_code = \"df = pd.merge(df, titles, left_index=True, right_index=True)\\ndf\";\n                var nbb_cells = Jupyter.notebook.get_cells();\n                for (var i = 0; i < nbb_cells.length; ++i) {\n                    if (nbb_cells[i].input_prompt_number == nbb_cell_id) {\n                        if (nbb_cells[i].get_text() == nbb_unformatted_code) {\n                             nbb_cells[i].set_text(nbb_formatted_code);\n                        }\n                        break;\n                    }\n                }\n            }, 500);\n            ",
      "text/plain": [
       "<IPython.core.display.Javascript object>"
      ]
     },
     "metadata": {}
    }
   ],
   "metadata": {
    "ExecuteTime": {
     "end_time": "2021-09-11T05:05:29.666975Z",
     "start_time": "2021-09-11T05:05:15.169948Z"
    }
   }
  },
  {
   "cell_type": "code",
   "execution_count": 35,
   "source": [
    "del titles"
   ],
   "outputs": [
    {
     "output_type": "display_data",
     "data": {
      "application/javascript": "\n            setTimeout(function() {\n                var nbb_cell_id = 35;\n                var nbb_unformatted_code = \"del titles\";\n                var nbb_formatted_code = \"del titles\";\n                var nbb_cells = Jupyter.notebook.get_cells();\n                for (var i = 0; i < nbb_cells.length; ++i) {\n                    if (nbb_cells[i].input_prompt_number == nbb_cell_id) {\n                        if (nbb_cells[i].get_text() == nbb_unformatted_code) {\n                             nbb_cells[i].set_text(nbb_formatted_code);\n                        }\n                        break;\n                    }\n                }\n            }, 500);\n            ",
      "text/plain": [
       "<IPython.core.display.Javascript object>"
      ]
     },
     "metadata": {}
    }
   ],
   "metadata": {
    "ExecuteTime": {
     "end_time": "2021-09-11T05:05:29.769946Z",
     "start_time": "2021-09-11T05:05:29.667947Z"
    }
   }
  },
  {
   "cell_type": "markdown",
   "source": [
    "# Filtering Text\n",
    "\n",
    "Next, I apply some basic preprocessing filters to the text. I begin by decoding HTML entities and lowercasing. If you recall, I defined a list of functions earlier called `steps`."
   ],
   "metadata": {}
  },
  {
   "cell_type": "code",
   "execution_count": 36,
   "source": [
    "steps"
   ],
   "outputs": [
    {
     "output_type": "execute_result",
     "data": {
      "text/plain": [
       "[<function tools.language.processors.text.decode_html_entities(docs: Union[str, Iterable[str]], n_jobs=None) -> Union[str, Iterable[str]]>,\n",
       " <function tools.language.processors.text.lowercase(docs: Union[str, Iterable[str]], n_jobs=None) -> Union[str, Iterable[str]]>]"
      ]
     },
     "metadata": {},
     "execution_count": 36
    },
    {
     "output_type": "display_data",
     "data": {
      "application/javascript": "\n            setTimeout(function() {\n                var nbb_cell_id = 36;\n                var nbb_unformatted_code = \"steps\";\n                var nbb_formatted_code = \"steps\";\n                var nbb_cells = Jupyter.notebook.get_cells();\n                for (var i = 0; i < nbb_cells.length; ++i) {\n                    if (nbb_cells[i].input_prompt_number == nbb_cell_id) {\n                        if (nbb_cells[i].get_text() == nbb_unformatted_code) {\n                             nbb_cells[i].set_text(nbb_formatted_code);\n                        }\n                        break;\n                    }\n                }\n            }, 500);\n            ",
      "text/plain": [
       "<IPython.core.display.Javascript object>"
      ]
     },
     "metadata": {}
    }
   ],
   "metadata": {
    "ExecuteTime": {
     "end_time": "2021-09-11T05:05:29.891947Z",
     "start_time": "2021-09-11T05:05:29.770946Z"
    }
   }
  },
  {
   "cell_type": "code",
   "execution_count": 37,
   "source": [
    "df.update(\n",
    "    # Apply `steps` as a pipeline, elementwise\n",
    "    lang.chain_processors(\n",
    "        df.loc[:, [\"description\", \"title\", \"brand\"]],\n",
    "        steps,\n",
    "        n_jobs=-1,\n",
    "    )\n",
    ")\n",
    "df.head()"
   ],
   "outputs": [
    {
     "output_type": "execute_result",
     "data": {
      "text/html": [
       "<div>\n",
       "<style scoped>\n",
       "    .dataframe tbody tr th:only-of-type {\n",
       "        vertical-align: middle;\n",
       "    }\n",
       "\n",
       "    .dataframe tbody tr th {\n",
       "        vertical-align: top;\n",
       "    }\n",
       "\n",
       "    .dataframe thead th {\n",
       "        text-align: right;\n",
       "    }\n",
       "</style>\n",
       "<table border=\"1\" class=\"dataframe\">\n",
       "  <thead>\n",
       "    <tr style=\"text-align: right;\">\n",
       "      <th></th>\n",
       "      <th>description</th>\n",
       "      <th>main_cat</th>\n",
       "      <th>title</th>\n",
       "      <th>brand</th>\n",
       "    </tr>\n",
       "    <tr>\n",
       "      <th>asin</th>\n",
       "      <th></th>\n",
       "      <th></th>\n",
       "      <th></th>\n",
       "      <th></th>\n",
       "    </tr>\n",
       "  </thead>\n",
       "  <tbody>\n",
       "    <tr>\n",
       "      <th>B000ACRBT6</th>\n",
       "      <td>plug and drive: no installation or activation ...</td>\n",
       "      <td>cell phones &amp; accessories</td>\n",
       "      <td>tomtom rider 3.5-inch bluetooth portable gps n...</td>\n",
       "      <td>tomtom</td>\n",
       "    </tr>\n",
       "    <tr>\n",
       "      <th>1628090340</th>\n",
       "      <td>\"if you're looking for a reliable guidebook, t...</td>\n",
       "      <td>books</td>\n",
       "      <td>the unofficial guide to mall of america (unoff...</td>\n",
       "      <td>visit amazon's beth blair page</td>\n",
       "    </tr>\n",
       "    <tr>\n",
       "      <th>0998825719</th>\n",
       "      <td>in her captivating literary memoir singers sto...</td>\n",
       "      <td>books</td>\n",
       "      <td>california calling: a self-interrogation</td>\n",
       "      <td>visit amazon's natalie singer page</td>\n",
       "    </tr>\n",
       "    <tr>\n",
       "      <th>B0058OJ00Y</th>\n",
       "      <td>create a luxurious oasis of watery bliss in yo...</td>\n",
       "      <td>tools &amp; home improvement</td>\n",
       "      <td>moen ts296bn iodigital vertical spa kit with v...</td>\n",
       "      <td>moen</td>\n",
       "    </tr>\n",
       "    <tr>\n",
       "      <th>1410494012</th>\n",
       "      <td>\"\"danger close\" is a riveting and intensely pe...</td>\n",
       "      <td>books</td>\n",
       "      <td>danger close: one woman's epic journey as a co...</td>\n",
       "      <td>amber smith</td>\n",
       "    </tr>\n",
       "  </tbody>\n",
       "</table>\n",
       "</div>"
      ],
      "text/plain": [
       "                                                  description  \\\n",
       "asin                                                            \n",
       "B000ACRBT6  plug and drive: no installation or activation ...   \n",
       "1628090340  \"if you're looking for a reliable guidebook, t...   \n",
       "0998825719  in her captivating literary memoir singers sto...   \n",
       "B0058OJ00Y  create a luxurious oasis of watery bliss in yo...   \n",
       "1410494012  \"\"danger close\" is a riveting and intensely pe...   \n",
       "\n",
       "                             main_cat  \\\n",
       "asin                                    \n",
       "B000ACRBT6  cell phones & accessories   \n",
       "1628090340                      books   \n",
       "0998825719                      books   \n",
       "B0058OJ00Y   tools & home improvement   \n",
       "1410494012                      books   \n",
       "\n",
       "                                                        title  \\\n",
       "asin                                                            \n",
       "B000ACRBT6  tomtom rider 3.5-inch bluetooth portable gps n...   \n",
       "1628090340  the unofficial guide to mall of america (unoff...   \n",
       "0998825719           california calling: a self-interrogation   \n",
       "B0058OJ00Y  moen ts296bn iodigital vertical spa kit with v...   \n",
       "1410494012  danger close: one woman's epic journey as a co...   \n",
       "\n",
       "                                         brand  \n",
       "asin                                            \n",
       "B000ACRBT6                              tomtom  \n",
       "1628090340      visit amazon's beth blair page  \n",
       "0998825719  visit amazon's natalie singer page  \n",
       "B0058OJ00Y                                moen  \n",
       "1410494012                         amber smith  "
      ]
     },
     "metadata": {},
     "execution_count": 37
    },
    {
     "output_type": "display_data",
     "data": {
      "application/javascript": "\n            setTimeout(function() {\n                var nbb_cell_id = 37;\n                var nbb_unformatted_code = \"df.update(\\n    # Apply `steps` as a pipeline, elementwise\\n    lang.chain_processors(\\n        df.loc[:, [\\\"description\\\", \\\"title\\\", \\\"brand\\\"]],\\n        steps,\\n        n_jobs=-1,\\n    )\\n)\\ndf.head()\";\n                var nbb_formatted_code = \"df.update(\\n    # Apply `steps` as a pipeline, elementwise\\n    lang.chain_processors(\\n        df.loc[:, [\\\"description\\\", \\\"title\\\", \\\"brand\\\"]],\\n        steps,\\n        n_jobs=-1,\\n    )\\n)\\ndf.head()\";\n                var nbb_cells = Jupyter.notebook.get_cells();\n                for (var i = 0; i < nbb_cells.length; ++i) {\n                    if (nbb_cells[i].input_prompt_number == nbb_cell_id) {\n                        if (nbb_cells[i].get_text() == nbb_unformatted_code) {\n                             nbb_cells[i].set_text(nbb_formatted_code);\n                        }\n                        break;\n                    }\n                }\n            }, 500);\n            ",
      "text/plain": [
       "<IPython.core.display.Javascript object>"
      ]
     },
     "metadata": {}
    }
   ],
   "metadata": {
    "ExecuteTime": {
     "end_time": "2021-09-11T05:08:58.919008Z",
     "start_time": "2021-09-11T05:05:29.893947Z"
    }
   }
  },
  {
   "cell_type": "markdown",
   "source": [
    "Next I'll remove HTML tags from 'title' and 'brand'. I know there are an abundance of them in this dataset."
   ],
   "metadata": {}
  },
  {
   "cell_type": "code",
   "execution_count": 38,
   "source": [
    "df.update(lang.strip_html_tags(df.loc[:, [\"title\", \"brand\"]], n_jobs=-1))\n",
    "df.head()"
   ],
   "outputs": [
    {
     "output_type": "execute_result",
     "data": {
      "text/html": [
       "<div>\n",
       "<style scoped>\n",
       "    .dataframe tbody tr th:only-of-type {\n",
       "        vertical-align: middle;\n",
       "    }\n",
       "\n",
       "    .dataframe tbody tr th {\n",
       "        vertical-align: top;\n",
       "    }\n",
       "\n",
       "    .dataframe thead th {\n",
       "        text-align: right;\n",
       "    }\n",
       "</style>\n",
       "<table border=\"1\" class=\"dataframe\">\n",
       "  <thead>\n",
       "    <tr style=\"text-align: right;\">\n",
       "      <th></th>\n",
       "      <th>description</th>\n",
       "      <th>main_cat</th>\n",
       "      <th>title</th>\n",
       "      <th>brand</th>\n",
       "    </tr>\n",
       "    <tr>\n",
       "      <th>asin</th>\n",
       "      <th></th>\n",
       "      <th></th>\n",
       "      <th></th>\n",
       "      <th></th>\n",
       "    </tr>\n",
       "  </thead>\n",
       "  <tbody>\n",
       "    <tr>\n",
       "      <th>B000ACRBT6</th>\n",
       "      <td>plug and drive: no installation or activation ...</td>\n",
       "      <td>cell phones &amp; accessories</td>\n",
       "      <td>tomtom rider 3.5-inch bluetooth portable gps n...</td>\n",
       "      <td>tomtom</td>\n",
       "    </tr>\n",
       "    <tr>\n",
       "      <th>1628090340</th>\n",
       "      <td>\"if you're looking for a reliable guidebook, t...</td>\n",
       "      <td>books</td>\n",
       "      <td>the unofficial guide to mall of america (unoff...</td>\n",
       "      <td>visit amazon's beth blair page</td>\n",
       "    </tr>\n",
       "    <tr>\n",
       "      <th>0998825719</th>\n",
       "      <td>in her captivating literary memoir singers sto...</td>\n",
       "      <td>books</td>\n",
       "      <td>california calling: a self-interrogation</td>\n",
       "      <td>visit amazon's natalie singer page</td>\n",
       "    </tr>\n",
       "    <tr>\n",
       "      <th>B0058OJ00Y</th>\n",
       "      <td>create a luxurious oasis of watery bliss in yo...</td>\n",
       "      <td>tools &amp; home improvement</td>\n",
       "      <td>moen ts296bn iodigital vertical spa kit with v...</td>\n",
       "      <td>moen</td>\n",
       "    </tr>\n",
       "    <tr>\n",
       "      <th>1410494012</th>\n",
       "      <td>\"\"danger close\" is a riveting and intensely pe...</td>\n",
       "      <td>books</td>\n",
       "      <td>danger close: one woman's epic journey as a co...</td>\n",
       "      <td>amber smith</td>\n",
       "    </tr>\n",
       "  </tbody>\n",
       "</table>\n",
       "</div>"
      ],
      "text/plain": [
       "                                                  description  \\\n",
       "asin                                                            \n",
       "B000ACRBT6  plug and drive: no installation or activation ...   \n",
       "1628090340  \"if you're looking for a reliable guidebook, t...   \n",
       "0998825719  in her captivating literary memoir singers sto...   \n",
       "B0058OJ00Y  create a luxurious oasis of watery bliss in yo...   \n",
       "1410494012  \"\"danger close\" is a riveting and intensely pe...   \n",
       "\n",
       "                             main_cat  \\\n",
       "asin                                    \n",
       "B000ACRBT6  cell phones & accessories   \n",
       "1628090340                      books   \n",
       "0998825719                      books   \n",
       "B0058OJ00Y   tools & home improvement   \n",
       "1410494012                      books   \n",
       "\n",
       "                                                        title  \\\n",
       "asin                                                            \n",
       "B000ACRBT6  tomtom rider 3.5-inch bluetooth portable gps n...   \n",
       "1628090340  the unofficial guide to mall of america (unoff...   \n",
       "0998825719           california calling: a self-interrogation   \n",
       "B0058OJ00Y  moen ts296bn iodigital vertical spa kit with v...   \n",
       "1410494012  danger close: one woman's epic journey as a co...   \n",
       "\n",
       "                                         brand  \n",
       "asin                                            \n",
       "B000ACRBT6                              tomtom  \n",
       "1628090340      visit amazon's beth blair page  \n",
       "0998825719  visit amazon's natalie singer page  \n",
       "B0058OJ00Y                                moen  \n",
       "1410494012                         amber smith  "
      ]
     },
     "metadata": {},
     "execution_count": 38
    },
    {
     "output_type": "display_data",
     "data": {
      "application/javascript": "\n            setTimeout(function() {\n                var nbb_cell_id = 38;\n                var nbb_unformatted_code = \"df.update(lang.strip_html_tags(df.loc[:, [\\\"title\\\", \\\"brand\\\"]], n_jobs=-1))\\ndf.head()\";\n                var nbb_formatted_code = \"df.update(lang.strip_html_tags(df.loc[:, [\\\"title\\\", \\\"brand\\\"]], n_jobs=-1))\\ndf.head()\";\n                var nbb_cells = Jupyter.notebook.get_cells();\n                for (var i = 0; i < nbb_cells.length; ++i) {\n                    if (nbb_cells[i].input_prompt_number == nbb_cell_id) {\n                        if (nbb_cells[i].get_text() == nbb_unformatted_code) {\n                             nbb_cells[i].set_text(nbb_formatted_code);\n                        }\n                        break;\n                    }\n                }\n            }, 500);\n            ",
      "text/plain": [
       "<IPython.core.display.Javascript object>"
      ]
     },
     "metadata": {}
    }
   ],
   "metadata": {
    "ExecuteTime": {
     "end_time": "2021-09-11T05:09:55.319015Z",
     "start_time": "2021-09-11T05:08:58.920982Z"
    }
   }
  },
  {
   "cell_type": "markdown",
   "source": [
    "## Dropping Nulls\n",
    "\n",
    "Next, I'll drop 0-length documents after clearing any extra whitespace that may be around."
   ],
   "metadata": {}
  },
  {
   "cell_type": "code",
   "execution_count": 39,
   "source": [
    "df.update(lang.strip_extra_space(df, n_jobs=-1))\r\n",
    "df.head()"
   ],
   "outputs": [
    {
     "output_type": "execute_result",
     "data": {
      "text/html": [
       "<div>\n",
       "<style scoped>\n",
       "    .dataframe tbody tr th:only-of-type {\n",
       "        vertical-align: middle;\n",
       "    }\n",
       "\n",
       "    .dataframe tbody tr th {\n",
       "        vertical-align: top;\n",
       "    }\n",
       "\n",
       "    .dataframe thead th {\n",
       "        text-align: right;\n",
       "    }\n",
       "</style>\n",
       "<table border=\"1\" class=\"dataframe\">\n",
       "  <thead>\n",
       "    <tr style=\"text-align: right;\">\n",
       "      <th></th>\n",
       "      <th>description</th>\n",
       "      <th>main_cat</th>\n",
       "      <th>title</th>\n",
       "      <th>brand</th>\n",
       "    </tr>\n",
       "    <tr>\n",
       "      <th>asin</th>\n",
       "      <th></th>\n",
       "      <th></th>\n",
       "      <th></th>\n",
       "      <th></th>\n",
       "    </tr>\n",
       "  </thead>\n",
       "  <tbody>\n",
       "    <tr>\n",
       "      <th>B000ACRBT6</th>\n",
       "      <td>plug and drive: no installation or activation ...</td>\n",
       "      <td>cell phones &amp; accessories</td>\n",
       "      <td>tomtom rider 3.5-inch bluetooth portable gps n...</td>\n",
       "      <td>tomtom</td>\n",
       "    </tr>\n",
       "    <tr>\n",
       "      <th>1628090340</th>\n",
       "      <td>\"if you're looking for a reliable guidebook, t...</td>\n",
       "      <td>books</td>\n",
       "      <td>the unofficial guide to mall of america (unoff...</td>\n",
       "      <td>visit amazon's beth blair page</td>\n",
       "    </tr>\n",
       "    <tr>\n",
       "      <th>0998825719</th>\n",
       "      <td>in her captivating literary memoir singers sto...</td>\n",
       "      <td>books</td>\n",
       "      <td>california calling: a self-interrogation</td>\n",
       "      <td>visit amazon's natalie singer page</td>\n",
       "    </tr>\n",
       "    <tr>\n",
       "      <th>B0058OJ00Y</th>\n",
       "      <td>create a luxurious oasis of watery bliss in yo...</td>\n",
       "      <td>tools &amp; home improvement</td>\n",
       "      <td>moen ts296bn iodigital vertical spa kit with v...</td>\n",
       "      <td>moen</td>\n",
       "    </tr>\n",
       "    <tr>\n",
       "      <th>1410494012</th>\n",
       "      <td>\"\"danger close\" is a riveting and intensely pe...</td>\n",
       "      <td>books</td>\n",
       "      <td>danger close: one woman's epic journey as a co...</td>\n",
       "      <td>amber smith</td>\n",
       "    </tr>\n",
       "  </tbody>\n",
       "</table>\n",
       "</div>"
      ],
      "text/plain": [
       "                                                  description  \\\n",
       "asin                                                            \n",
       "B000ACRBT6  plug and drive: no installation or activation ...   \n",
       "1628090340  \"if you're looking for a reliable guidebook, t...   \n",
       "0998825719  in her captivating literary memoir singers sto...   \n",
       "B0058OJ00Y  create a luxurious oasis of watery bliss in yo...   \n",
       "1410494012  \"\"danger close\" is a riveting and intensely pe...   \n",
       "\n",
       "                             main_cat  \\\n",
       "asin                                    \n",
       "B000ACRBT6  cell phones & accessories   \n",
       "1628090340                      books   \n",
       "0998825719                      books   \n",
       "B0058OJ00Y   tools & home improvement   \n",
       "1410494012                      books   \n",
       "\n",
       "                                                        title  \\\n",
       "asin                                                            \n",
       "B000ACRBT6  tomtom rider 3.5-inch bluetooth portable gps n...   \n",
       "1628090340  the unofficial guide to mall of america (unoff...   \n",
       "0998825719           california calling: a self-interrogation   \n",
       "B0058OJ00Y  moen ts296bn iodigital vertical spa kit with v...   \n",
       "1410494012  danger close: one woman's epic journey as a co...   \n",
       "\n",
       "                                         brand  \n",
       "asin                                            \n",
       "B000ACRBT6                              tomtom  \n",
       "1628090340      visit amazon's beth blair page  \n",
       "0998825719  visit amazon's natalie singer page  \n",
       "B0058OJ00Y                                moen  \n",
       "1410494012                         amber smith  "
      ]
     },
     "metadata": {},
     "execution_count": 39
    },
    {
     "output_type": "display_data",
     "data": {
      "application/javascript": "\n            setTimeout(function() {\n                var nbb_cell_id = 39;\n                var nbb_unformatted_code = \"df.update(lang.strip_extra_space(df, n_jobs=-1))\\ndf.head()\";\n                var nbb_formatted_code = \"df.update(lang.strip_extra_space(df, n_jobs=-1))\\ndf.head()\";\n                var nbb_cells = Jupyter.notebook.get_cells();\n                for (var i = 0; i < nbb_cells.length; ++i) {\n                    if (nbb_cells[i].input_prompt_number == nbb_cell_id) {\n                        if (nbb_cells[i].get_text() == nbb_unformatted_code) {\n                             nbb_cells[i].set_text(nbb_formatted_code);\n                        }\n                        break;\n                    }\n                }\n            }, 500);\n            ",
      "text/plain": [
       "<IPython.core.display.Javascript object>"
      ]
     },
     "metadata": {}
    }
   ],
   "metadata": {
    "ExecuteTime": {
     "end_time": "2021-09-11T05:16:08.824026Z",
     "start_time": "2021-09-11T05:09:55.320017Z"
    }
   }
  },
  {
   "cell_type": "code",
   "execution_count": 40,
   "source": [
    "# Convert 0-length strings to null\r\n",
    "df = df.mask(df.applymap(len, \"ignore\") == 0)\r\n",
    "df.isna().sum()"
   ],
   "outputs": [
    {
     "output_type": "execute_result",
     "data": {
      "text/plain": [
       "description         0\n",
       "main_cat            0\n",
       "title            4161\n",
       "brand          165061\n",
       "dtype: int64"
      ]
     },
     "metadata": {},
     "execution_count": 40
    },
    {
     "output_type": "display_data",
     "data": {
      "application/javascript": "\n            setTimeout(function() {\n                var nbb_cell_id = 40;\n                var nbb_unformatted_code = \"# Convert 0-length strings to null\\ndf = df.mask(df.applymap(len, \\\"ignore\\\") == 0)\\ndf.isna().sum()\";\n                var nbb_formatted_code = \"# Convert 0-length strings to null\\ndf = df.mask(df.applymap(len, \\\"ignore\\\") == 0)\\ndf.isna().sum()\";\n                var nbb_cells = Jupyter.notebook.get_cells();\n                for (var i = 0; i < nbb_cells.length; ++i) {\n                    if (nbb_cells[i].input_prompt_number == nbb_cell_id) {\n                        if (nbb_cells[i].get_text() == nbb_unformatted_code) {\n                             nbb_cells[i].set_text(nbb_formatted_code);\n                        }\n                        break;\n                    }\n                }\n            }, 500);\n            ",
      "text/plain": [
       "<IPython.core.display.Javascript object>"
      ]
     },
     "metadata": {}
    }
   ],
   "metadata": {
    "ExecuteTime": {
     "end_time": "2021-09-11T05:16:14.094027Z",
     "start_time": "2021-09-11T05:16:08.826027Z"
    }
   }
  },
  {
   "cell_type": "markdown",
   "source": [
    "I leave the 'brand' nulls intact for now. I will revisit them later."
   ],
   "metadata": {}
  },
  {
   "cell_type": "code",
   "execution_count": 41,
   "source": [
    "df = df.dropna(subset=[\"description\", \"title\", \"main_cat\"])\r\n",
    "df.shape"
   ],
   "outputs": [
    {
     "output_type": "execute_result",
     "data": {
      "text/plain": [
       "(3931310, 4)"
      ]
     },
     "metadata": {},
     "execution_count": 41
    },
    {
     "output_type": "display_data",
     "data": {
      "application/javascript": "\n            setTimeout(function() {\n                var nbb_cell_id = 41;\n                var nbb_unformatted_code = \"df = df.dropna(subset=[\\\"description\\\", \\\"title\\\", \\\"main_cat\\\"])\\ndf.shape\";\n                var nbb_formatted_code = \"df = df.dropna(subset=[\\\"description\\\", \\\"title\\\", \\\"main_cat\\\"])\\ndf.shape\";\n                var nbb_cells = Jupyter.notebook.get_cells();\n                for (var i = 0; i < nbb_cells.length; ++i) {\n                    if (nbb_cells[i].input_prompt_number == nbb_cell_id) {\n                        if (nbb_cells[i].get_text() == nbb_unformatted_code) {\n                             nbb_cells[i].set_text(nbb_formatted_code);\n                        }\n                        break;\n                    }\n                }\n            }, 500);\n            ",
      "text/plain": [
       "<IPython.core.display.Javascript object>"
      ]
     },
     "metadata": {}
    }
   ],
   "metadata": {
    "ExecuteTime": {
     "end_time": "2021-09-11T05:16:16.630028Z",
     "start_time": "2021-09-11T05:16:14.096028Z"
    }
   }
  },
  {
   "cell_type": "markdown",
   "source": [
    "## Dropping Duplicates\n",
    "\n",
    "Next, I drop duplicates again after filtering. I look for duplicates with respect to both 'title' and 'brand', and also with respect to 'description'."
   ],
   "metadata": {}
  },
  {
   "cell_type": "code",
   "execution_count": 42,
   "source": [
    "df = df.drop_duplicates(subset=[\"title\", \"brand\"])\r\n",
    "df = df.drop_duplicates(subset=[\"description\"])\r\n",
    "df.shape"
   ],
   "outputs": [
    {
     "output_type": "execute_result",
     "data": {
      "text/plain": [
       "(3887490, 4)"
      ]
     },
     "metadata": {},
     "execution_count": 42
    },
    {
     "output_type": "display_data",
     "data": {
      "application/javascript": "\n            setTimeout(function() {\n                var nbb_cell_id = 42;\n                var nbb_unformatted_code = \"df = df.drop_duplicates(subset=[\\\"title\\\", \\\"brand\\\"])\\ndf = df.drop_duplicates(subset=[\\\"description\\\"])\\ndf.shape\";\n                var nbb_formatted_code = \"df = df.drop_duplicates(subset=[\\\"title\\\", \\\"brand\\\"])\\ndf = df.drop_duplicates(subset=[\\\"description\\\"])\\ndf.shape\";\n                var nbb_cells = Jupyter.notebook.get_cells();\n                for (var i = 0; i < nbb_cells.length; ++i) {\n                    if (nbb_cells[i].input_prompt_number == nbb_cell_id) {\n                        if (nbb_cells[i].get_text() == nbb_unformatted_code) {\n                             nbb_cells[i].set_text(nbb_formatted_code);\n                        }\n                        break;\n                    }\n                }\n            }, 500);\n            ",
      "text/plain": [
       "<IPython.core.display.Javascript object>"
      ]
     },
     "metadata": {}
    }
   ],
   "metadata": {
    "ExecuteTime": {
     "end_time": "2021-09-11T05:16:37.339053Z",
     "start_time": "2021-09-11T05:16:16.631028Z"
    }
   }
  },
  {
   "cell_type": "markdown",
   "source": [
    "That shaved off tens of thousands of samples. Pretty good.\n",
    "\n",
    "Now to save the filtered text."
   ],
   "metadata": {}
  },
  {
   "cell_type": "code",
   "execution_count": 46,
   "source": [
    "data_checkpoint(df, \"data/filter_checkpoint\")"
   ],
   "outputs": [
    {
     "output_type": "stream",
     "name": "stdout",
     "text": [
      "37 files created.\n"
     ]
    },
    {
     "output_type": "display_data",
     "data": {
      "application/javascript": "\n            setTimeout(function() {\n                var nbb_cell_id = 46;\n                var nbb_unformatted_code = \"data_checkpoint(df, \\\"data/filter_checkpoint\\\")\";\n                var nbb_formatted_code = \"data_checkpoint(df, \\\"data/filter_checkpoint\\\")\";\n                var nbb_cells = Jupyter.notebook.get_cells();\n                for (var i = 0; i < nbb_cells.length; ++i) {\n                    if (nbb_cells[i].input_prompt_number == nbb_cell_id) {\n                        if (nbb_cells[i].get_text() == nbb_unformatted_code) {\n                             nbb_cells[i].set_text(nbb_formatted_code);\n                        }\n                        break;\n                    }\n                }\n            }, 500);\n            ",
      "text/plain": [
       "<IPython.core.display.Javascript object>"
      ]
     },
     "metadata": {}
    }
   ],
   "metadata": {
    "ExecuteTime": {
     "end_time": "2021-09-11T05:22:13.732342Z",
     "start_time": "2021-09-11T05:21:00.991708Z"
    }
   }
  },
  {
   "cell_type": "markdown",
   "source": [
    "## Revisiting Length Outliers\n",
    "\n",
    "I plot length distributions on a linear scale to see if anything has changed."
   ],
   "metadata": {}
  },
  {
   "cell_type": "code",
   "execution_count": 47,
   "source": [
    "df = pd.read_parquet(\"data/filter_checkpoint\", engine=\"pyarrow\")\r\n",
    "df.head()"
   ],
   "outputs": [
    {
     "output_type": "execute_result",
     "data": {
      "text/html": [
       "<div>\n",
       "<style scoped>\n",
       "    .dataframe tbody tr th:only-of-type {\n",
       "        vertical-align: middle;\n",
       "    }\n",
       "\n",
       "    .dataframe tbody tr th {\n",
       "        vertical-align: top;\n",
       "    }\n",
       "\n",
       "    .dataframe thead th {\n",
       "        text-align: right;\n",
       "    }\n",
       "</style>\n",
       "<table border=\"1\" class=\"dataframe\">\n",
       "  <thead>\n",
       "    <tr style=\"text-align: right;\">\n",
       "      <th></th>\n",
       "      <th>description</th>\n",
       "      <th>title</th>\n",
       "      <th>brand</th>\n",
       "      <th>main_cat</th>\n",
       "    </tr>\n",
       "    <tr>\n",
       "      <th>asin</th>\n",
       "      <th></th>\n",
       "      <th></th>\n",
       "      <th></th>\n",
       "      <th></th>\n",
       "    </tr>\n",
       "  </thead>\n",
       "  <tbody>\n",
       "    <tr>\n",
       "      <th>B00APG79QM</th>\n",
       "      <td>100% cotton pillow protectors effectively bloc...</td>\n",
       "      <td>temporary hair chalk - non-toxic rainbow color...</td>\n",
       "      <td>sysrion</td>\n",
       "      <td>all beauty</td>\n",
       "    </tr>\n",
       "    <tr>\n",
       "      <th>B00CZH3FGM</th>\n",
       "      <td>view larger prepare to flash a brighter, white...</td>\n",
       "      <td>crest + oral-b professional whitening kit, 1 c...</td>\n",
       "      <td>crest</td>\n",
       "      <td>all beauty</td>\n",
       "    </tr>\n",
       "    <tr>\n",
       "      <th>B000KMCSG2</th>\n",
       "      <td>the limited edition philips norelco smarttouch...</td>\n",
       "      <td>philips norelco 9199xl limited edition formula...</td>\n",
       "      <td>philips norelco</td>\n",
       "      <td>all beauty</td>\n",
       "    </tr>\n",
       "    <tr>\n",
       "      <th>B001E0C9LI</th>\n",
       "      <td>the all-over bodygrooming system, with specifi...</td>\n",
       "      <td>philips norelco bg2030 professional bodygroomi...</td>\n",
       "      <td>philips norelco</td>\n",
       "      <td>all beauty</td>\n",
       "    </tr>\n",
       "    <tr>\n",
       "      <th>B0000530SM</th>\n",
       "      <td>premium whitening toothpaste with fluoride fre...</td>\n",
       "      <td>rembrandt dazzling white toothpaste - mint, (5...</td>\n",
       "      <td>rembrandt</td>\n",
       "      <td>all beauty</td>\n",
       "    </tr>\n",
       "  </tbody>\n",
       "</table>\n",
       "</div>"
      ],
      "text/plain": [
       "                                                  description  \\\n",
       "asin                                                            \n",
       "B00APG79QM  100% cotton pillow protectors effectively bloc...   \n",
       "B00CZH3FGM  view larger prepare to flash a brighter, white...   \n",
       "B000KMCSG2  the limited edition philips norelco smarttouch...   \n",
       "B001E0C9LI  the all-over bodygrooming system, with specifi...   \n",
       "B0000530SM  premium whitening toothpaste with fluoride fre...   \n",
       "\n",
       "                                                        title  \\\n",
       "asin                                                            \n",
       "B00APG79QM  temporary hair chalk - non-toxic rainbow color...   \n",
       "B00CZH3FGM  crest + oral-b professional whitening kit, 1 c...   \n",
       "B000KMCSG2  philips norelco 9199xl limited edition formula...   \n",
       "B001E0C9LI  philips norelco bg2030 professional bodygroomi...   \n",
       "B0000530SM  rembrandt dazzling white toothpaste - mint, (5...   \n",
       "\n",
       "                      brand    main_cat  \n",
       "asin                                     \n",
       "B00APG79QM          sysrion  all beauty  \n",
       "B00CZH3FGM            crest  all beauty  \n",
       "B000KMCSG2  philips norelco  all beauty  \n",
       "B001E0C9LI  philips norelco  all beauty  \n",
       "B0000530SM        rembrandt  all beauty  "
      ]
     },
     "metadata": {},
     "execution_count": 47
    },
    {
     "output_type": "display_data",
     "data": {
      "application/javascript": "\n            setTimeout(function() {\n                var nbb_cell_id = 47;\n                var nbb_unformatted_code = \"df = pd.read_parquet(\\\"data/filter_checkpoint\\\", engine=\\\"pyarrow\\\")\\ndf.head()\";\n                var nbb_formatted_code = \"df = pd.read_parquet(\\\"data/filter_checkpoint\\\", engine=\\\"pyarrow\\\")\\ndf.head()\";\n                var nbb_cells = Jupyter.notebook.get_cells();\n                for (var i = 0; i < nbb_cells.length; ++i) {\n                    if (nbb_cells[i].input_prompt_number == nbb_cell_id) {\n                        if (nbb_cells[i].get_text() == nbb_unformatted_code) {\n                             nbb_cells[i].set_text(nbb_formatted_code);\n                        }\n                        break;\n                    }\n                }\n            }, 500);\n            ",
      "text/plain": [
       "<IPython.core.display.Javascript object>"
      ]
     },
     "metadata": {}
    }
   ],
   "metadata": {
    "ExecuteTime": {
     "end_time": "2021-09-11T05:22:44.763427Z",
     "start_time": "2021-09-11T05:22:24.276792Z"
    }
   }
  },
  {
   "cell_type": "code",
   "execution_count": 48,
   "source": [
    "fig = lang.length_dist(\r\n",
    "    df.sample(10 ** 6),\r\n",
    "    subset=[\"description\", \"title\", \"brand\"],\r\n",
    "    tick_prec=1,\r\n",
    ")"
   ],
   "outputs": [
    {
     "output_type": "display_data",
     "data": {
      "image/png": "[encoded data removed]",
      "text/plain": [
       "<Figure size 1080x360 with 3 Axes>"
      ]
     },
     "metadata": {
      "needs_background": "light"
     }
    },
    {
     "output_type": "display_data",
     "data": {
      "application/javascript": "\n            setTimeout(function() {\n                var nbb_cell_id = 48;\n                var nbb_unformatted_code = \"fig = lang.length_dist(\\n    df.sample(10 ** 6),\\n    subset=[\\\"description\\\", \\\"title\\\", \\\"brand\\\"],\\n    tick_prec=1,\\n)\";\n                var nbb_formatted_code = \"fig = lang.length_dist(\\n    df.sample(10 ** 6),\\n    subset=[\\\"description\\\", \\\"title\\\", \\\"brand\\\"],\\n    tick_prec=1,\\n)\";\n                var nbb_cells = Jupyter.notebook.get_cells();\n                for (var i = 0; i < nbb_cells.length; ++i) {\n                    if (nbb_cells[i].input_prompt_number == nbb_cell_id) {\n                        if (nbb_cells[i].get_text() == nbb_unformatted_code) {\n                             nbb_cells[i].set_text(nbb_formatted_code);\n                        }\n                        break;\n                    }\n                }\n            }, 500);\n            ",
      "text/plain": [
       "<IPython.core.display.Javascript object>"
      ]
     },
     "metadata": {}
    }
   ],
   "metadata": {
    "ExecuteTime": {
     "end_time": "2021-09-11T05:22:59.120455Z",
     "start_time": "2021-09-11T05:22:44.767426Z"
    }
   }
  },
  {
   "cell_type": "code",
   "execution_count": 49,
   "source": [
    "lang.other.length_info(df)"
   ],
   "outputs": [
    {
     "output_type": "stream",
     "name": "stdout",
     "text": [
      "       len_description  len_title  len_brand\n",
      "count        3,887,490  3,887,490  3,723,595\n",
      "mean               972         68         15\n",
      "std                616         38         10\n",
      "min                 88          2          1\n",
      "25%                528         41          7\n",
      "50%                761         61         12\n",
      "75%              1,216         85         18\n",
      "max              3,886        203      1,986\n"
     ]
    },
    {
     "output_type": "display_data",
     "data": {
      "application/javascript": "\n            setTimeout(function() {\n                var nbb_cell_id = 49;\n                var nbb_unformatted_code = \"lang.other.length_info(df)\";\n                var nbb_formatted_code = \"lang.other.length_info(df)\";\n                var nbb_cells = Jupyter.notebook.get_cells();\n                for (var i = 0; i < nbb_cells.length; ++i) {\n                    if (nbb_cells[i].input_prompt_number == nbb_cell_id) {\n                        if (nbb_cells[i].get_text() == nbb_unformatted_code) {\n                             nbb_cells[i].set_text(nbb_formatted_code);\n                        }\n                        break;\n                    }\n                }\n            }, 500);\n            ",
      "text/plain": [
       "<IPython.core.display.Javascript object>"
      ]
     },
     "metadata": {}
    }
   ],
   "metadata": {
    "ExecuteTime": {
     "end_time": "2021-09-11T05:23:02.537606Z",
     "start_time": "2021-09-11T05:22:59.125428Z"
    }
   }
  },
  {
   "cell_type": "markdown",
   "source": [
    "Looks like my filtering has resulted in a few very short titles and descriptions. I'll ignore brands for the moment, but trim the shortest 1% of titles and descriptions."
   ],
   "metadata": {}
  },
  {
   "cell_type": "code",
   "execution_count": 50,
   "source": [
    "df = lang.trim_length_outliers(\r\n",
    "    df,\r\n",
    "    subset=[\"title\", \"description\"],\r\n",
    "    q_lower=0.01,\r\n",
    ")\r\n",
    "df.head()"
   ],
   "outputs": [
    {
     "output_type": "stream",
     "name": "stdout",
     "text": [
      "       len_description  len_title  len_brand  len_main_cat\n",
      "count        3,796,286  3,796,286  3,635,321     3,796,286\n",
      "mean               976         68         15            12\n",
      "std                614         37         10             6\n",
      "min                384         13          1             4\n",
      "25%                533         42          7             7\n",
      "50%                767         62         12            11\n",
      "75%              1,221         85         18            15\n",
      "max              3,885        202      1,986            28\n",
      "\n",
      "\n",
      "             n_trimmed  pct_trimmed\n",
      "description     44,223            1\n",
      "title           47,360            1\n",
      "brand                0            0\n",
      "main_cat             0            0\n",
      "total_obs       91,204            2\n"
     ]
    },
    {
     "output_type": "execute_result",
     "data": {
      "text/html": [
       "<div>\n",
       "<style scoped>\n",
       "    .dataframe tbody tr th:only-of-type {\n",
       "        vertical-align: middle;\n",
       "    }\n",
       "\n",
       "    .dataframe tbody tr th {\n",
       "        vertical-align: top;\n",
       "    }\n",
       "\n",
       "    .dataframe thead th {\n",
       "        text-align: right;\n",
       "    }\n",
       "</style>\n",
       "<table border=\"1\" class=\"dataframe\">\n",
       "  <thead>\n",
       "    <tr style=\"text-align: right;\">\n",
       "      <th></th>\n",
       "      <th>description</th>\n",
       "      <th>title</th>\n",
       "      <th>brand</th>\n",
       "      <th>main_cat</th>\n",
       "    </tr>\n",
       "    <tr>\n",
       "      <th>asin</th>\n",
       "      <th></th>\n",
       "      <th></th>\n",
       "      <th></th>\n",
       "      <th></th>\n",
       "    </tr>\n",
       "  </thead>\n",
       "  <tbody>\n",
       "    <tr>\n",
       "      <th>B00APG79QM</th>\n",
       "      <td>100% cotton pillow protectors effectively bloc...</td>\n",
       "      <td>temporary hair chalk - non-toxic rainbow color...</td>\n",
       "      <td>sysrion</td>\n",
       "      <td>all beauty</td>\n",
       "    </tr>\n",
       "    <tr>\n",
       "      <th>B00CZH3FGM</th>\n",
       "      <td>view larger prepare to flash a brighter, white...</td>\n",
       "      <td>crest + oral-b professional whitening kit, 1 c...</td>\n",
       "      <td>crest</td>\n",
       "      <td>all beauty</td>\n",
       "    </tr>\n",
       "    <tr>\n",
       "      <th>B000KMCSG2</th>\n",
       "      <td>the limited edition philips norelco smarttouch...</td>\n",
       "      <td>philips norelco 9199xl limited edition formula...</td>\n",
       "      <td>philips norelco</td>\n",
       "      <td>all beauty</td>\n",
       "    </tr>\n",
       "    <tr>\n",
       "      <th>B001E0C9LI</th>\n",
       "      <td>the all-over bodygrooming system, with specifi...</td>\n",
       "      <td>philips norelco bg2030 professional bodygroomi...</td>\n",
       "      <td>philips norelco</td>\n",
       "      <td>all beauty</td>\n",
       "    </tr>\n",
       "    <tr>\n",
       "      <th>B0000530SM</th>\n",
       "      <td>premium whitening toothpaste with fluoride fre...</td>\n",
       "      <td>rembrandt dazzling white toothpaste - mint, (5...</td>\n",
       "      <td>rembrandt</td>\n",
       "      <td>all beauty</td>\n",
       "    </tr>\n",
       "  </tbody>\n",
       "</table>\n",
       "</div>"
      ],
      "text/plain": [
       "                                                  description  \\\n",
       "asin                                                            \n",
       "B00APG79QM  100% cotton pillow protectors effectively bloc...   \n",
       "B00CZH3FGM  view larger prepare to flash a brighter, white...   \n",
       "B000KMCSG2  the limited edition philips norelco smarttouch...   \n",
       "B001E0C9LI  the all-over bodygrooming system, with specifi...   \n",
       "B0000530SM  premium whitening toothpaste with fluoride fre...   \n",
       "\n",
       "                                                        title  \\\n",
       "asin                                                            \n",
       "B00APG79QM  temporary hair chalk - non-toxic rainbow color...   \n",
       "B00CZH3FGM  crest + oral-b professional whitening kit, 1 c...   \n",
       "B000KMCSG2  philips norelco 9199xl limited edition formula...   \n",
       "B001E0C9LI  philips norelco bg2030 professional bodygroomi...   \n",
       "B0000530SM  rembrandt dazzling white toothpaste - mint, (5...   \n",
       "\n",
       "                      brand    main_cat  \n",
       "asin                                     \n",
       "B00APG79QM          sysrion  all beauty  \n",
       "B00CZH3FGM            crest  all beauty  \n",
       "B000KMCSG2  philips norelco  all beauty  \n",
       "B001E0C9LI  philips norelco  all beauty  \n",
       "B0000530SM        rembrandt  all beauty  "
      ]
     },
     "metadata": {},
     "execution_count": 50
    },
    {
     "output_type": "display_data",
     "data": {
      "application/javascript": "\n            setTimeout(function() {\n                var nbb_cell_id = 50;\n                var nbb_unformatted_code = \"df = lang.trim_length_outliers(\\n    df,\\n    subset=[\\\"title\\\", \\\"description\\\"],\\n    q_lower=0.01,\\n)\\ndf.head()\";\n                var nbb_formatted_code = \"df = lang.trim_length_outliers(\\n    df,\\n    subset=[\\\"title\\\", \\\"description\\\"],\\n    q_lower=0.01,\\n)\\ndf.head()\";\n                var nbb_cells = Jupyter.notebook.get_cells();\n                for (var i = 0; i < nbb_cells.length; ++i) {\n                    if (nbb_cells[i].input_prompt_number == nbb_cell_id) {\n                        if (nbb_cells[i].get_text() == nbb_unformatted_code) {\n                             nbb_cells[i].set_text(nbb_formatted_code);\n                        }\n                        break;\n                    }\n                }\n            }, 500);\n            ",
      "text/plain": [
       "<IPython.core.display.Javascript object>"
      ]
     },
     "metadata": {}
    }
   ],
   "metadata": {
    "ExecuteTime": {
     "end_time": "2021-09-11T05:23:07.891597Z",
     "start_time": "2021-09-11T05:23:02.541567Z"
    }
   }
  },
  {
   "cell_type": "markdown",
   "source": [
    "I haven't trimmed the brands yet, but clearly the massive positive skew is a problem. Apparently the longest brand name is ~2K characters. I can tell just by the character count that I need to drop the longest 1%."
   ],
   "metadata": {}
  },
  {
   "cell_type": "code",
   "execution_count": 51,
   "source": [
    "df = lang.trim_length_outliers(\r\n",
    "    df,\r\n",
    "    subset=\"brand\",\r\n",
    "    q_upper=0.99,\r\n",
    ")\r\n",
    "df.head()"
   ],
   "outputs": [
    {
     "output_type": "stream",
     "name": "stdout",
     "text": [
      "       len_description  len_title  len_brand  len_main_cat\n",
      "count        3,751,304  3,751,304  3,590,339     3,751,304\n",
      "mean               973         68         14            12\n",
      "std                611         37          9             6\n",
      "min                384         13          2             4\n",
      "25%                533         42          7             7\n",
      "50%                765         62         11            11\n",
      "75%              1,216         85         18            15\n",
      "max              3,885        202         39            28\n",
      "\n",
      "\n",
      "             n_trimmed  pct_trimmed\n",
      "description          0            0\n",
      "title                0            0\n",
      "brand           44,982            1\n",
      "main_cat             0            0\n",
      "total_obs       44,982            1\n"
     ]
    },
    {
     "output_type": "execute_result",
     "data": {
      "text/html": [
       "<div>\n",
       "<style scoped>\n",
       "    .dataframe tbody tr th:only-of-type {\n",
       "        vertical-align: middle;\n",
       "    }\n",
       "\n",
       "    .dataframe tbody tr th {\n",
       "        vertical-align: top;\n",
       "    }\n",
       "\n",
       "    .dataframe thead th {\n",
       "        text-align: right;\n",
       "    }\n",
       "</style>\n",
       "<table border=\"1\" class=\"dataframe\">\n",
       "  <thead>\n",
       "    <tr style=\"text-align: right;\">\n",
       "      <th></th>\n",
       "      <th>description</th>\n",
       "      <th>title</th>\n",
       "      <th>brand</th>\n",
       "      <th>main_cat</th>\n",
       "    </tr>\n",
       "    <tr>\n",
       "      <th>asin</th>\n",
       "      <th></th>\n",
       "      <th></th>\n",
       "      <th></th>\n",
       "      <th></th>\n",
       "    </tr>\n",
       "  </thead>\n",
       "  <tbody>\n",
       "    <tr>\n",
       "      <th>B00APG79QM</th>\n",
       "      <td>100% cotton pillow protectors effectively bloc...</td>\n",
       "      <td>temporary hair chalk - non-toxic rainbow color...</td>\n",
       "      <td>sysrion</td>\n",
       "      <td>all beauty</td>\n",
       "    </tr>\n",
       "    <tr>\n",
       "      <th>B00CZH3FGM</th>\n",
       "      <td>view larger prepare to flash a brighter, white...</td>\n",
       "      <td>crest + oral-b professional whitening kit, 1 c...</td>\n",
       "      <td>crest</td>\n",
       "      <td>all beauty</td>\n",
       "    </tr>\n",
       "    <tr>\n",
       "      <th>B000KMCSG2</th>\n",
       "      <td>the limited edition philips norelco smarttouch...</td>\n",
       "      <td>philips norelco 9199xl limited edition formula...</td>\n",
       "      <td>philips norelco</td>\n",
       "      <td>all beauty</td>\n",
       "    </tr>\n",
       "    <tr>\n",
       "      <th>B001E0C9LI</th>\n",
       "      <td>the all-over bodygrooming system, with specifi...</td>\n",
       "      <td>philips norelco bg2030 professional bodygroomi...</td>\n",
       "      <td>philips norelco</td>\n",
       "      <td>all beauty</td>\n",
       "    </tr>\n",
       "    <tr>\n",
       "      <th>B0000530SM</th>\n",
       "      <td>premium whitening toothpaste with fluoride fre...</td>\n",
       "      <td>rembrandt dazzling white toothpaste - mint, (5...</td>\n",
       "      <td>rembrandt</td>\n",
       "      <td>all beauty</td>\n",
       "    </tr>\n",
       "  </tbody>\n",
       "</table>\n",
       "</div>"
      ],
      "text/plain": [
       "                                                  description  \\\n",
       "asin                                                            \n",
       "B00APG79QM  100% cotton pillow protectors effectively bloc...   \n",
       "B00CZH3FGM  view larger prepare to flash a brighter, white...   \n",
       "B000KMCSG2  the limited edition philips norelco smarttouch...   \n",
       "B001E0C9LI  the all-over bodygrooming system, with specifi...   \n",
       "B0000530SM  premium whitening toothpaste with fluoride fre...   \n",
       "\n",
       "                                                        title  \\\n",
       "asin                                                            \n",
       "B00APG79QM  temporary hair chalk - non-toxic rainbow color...   \n",
       "B00CZH3FGM  crest + oral-b professional whitening kit, 1 c...   \n",
       "B000KMCSG2  philips norelco 9199xl limited edition formula...   \n",
       "B001E0C9LI  philips norelco bg2030 professional bodygroomi...   \n",
       "B0000530SM  rembrandt dazzling white toothpaste - mint, (5...   \n",
       "\n",
       "                      brand    main_cat  \n",
       "asin                                     \n",
       "B00APG79QM          sysrion  all beauty  \n",
       "B00CZH3FGM            crest  all beauty  \n",
       "B000KMCSG2  philips norelco  all beauty  \n",
       "B001E0C9LI  philips norelco  all beauty  \n",
       "B0000530SM        rembrandt  all beauty  "
      ]
     },
     "metadata": {},
     "execution_count": 51
    },
    {
     "output_type": "display_data",
     "data": {
      "application/javascript": "\n            setTimeout(function() {\n                var nbb_cell_id = 51;\n                var nbb_unformatted_code = \"df = lang.trim_length_outliers(\\n    df,\\n    subset=\\\"brand\\\",\\n    q_upper=0.99,\\n)\\ndf.head()\";\n                var nbb_formatted_code = \"df = lang.trim_length_outliers(\\n    df,\\n    subset=\\\"brand\\\",\\n    q_upper=0.99,\\n)\\ndf.head()\";\n                var nbb_cells = Jupyter.notebook.get_cells();\n                for (var i = 0; i < nbb_cells.length; ++i) {\n                    if (nbb_cells[i].input_prompt_number == nbb_cell_id) {\n                        if (nbb_cells[i].get_text() == nbb_unformatted_code) {\n                             nbb_cells[i].set_text(nbb_formatted_code);\n                        }\n                        break;\n                    }\n                }\n            }, 500);\n            ",
      "text/plain": [
       "<IPython.core.display.Javascript object>"
      ]
     },
     "metadata": {}
    }
   ],
   "metadata": {
    "ExecuteTime": {
     "end_time": "2021-09-11T05:23:13.088675Z",
     "start_time": "2021-09-11T05:23:07.894567Z"
    }
   }
  },
  {
   "cell_type": "code",
   "execution_count": 52,
   "source": [
    "fig = lang.length_dist(df.sample(10 ** 6), subset=[\"description\", \"title\", \"brand\"])"
   ],
   "outputs": [
    {
     "output_type": "display_data",
     "data": {
      "image/png": "[encoded data removed]",
      "text/plain": [
       "<Figure size 1080x360 with 3 Axes>"
      ]
     },
     "metadata": {
      "needs_background": "light"
     }
    },
    {
     "output_type": "display_data",
     "data": {
      "application/javascript": "\n            setTimeout(function() {\n                var nbb_cell_id = 52;\n                var nbb_unformatted_code = \"fig = lang.length_dist(df.sample(10 ** 6), subset=[\\\"description\\\", \\\"title\\\", \\\"brand\\\"])\";\n                var nbb_formatted_code = \"fig = lang.length_dist(df.sample(10 ** 6), subset=[\\\"description\\\", \\\"title\\\", \\\"brand\\\"])\";\n                var nbb_cells = Jupyter.notebook.get_cells();\n                for (var i = 0; i < nbb_cells.length; ++i) {\n                    if (nbb_cells[i].input_prompt_number == nbb_cell_id) {\n                        if (nbb_cells[i].get_text() == nbb_unformatted_code) {\n                             nbb_cells[i].set_text(nbb_formatted_code);\n                        }\n                        break;\n                    }\n                }\n            }, 500);\n            ",
      "text/plain": [
       "<IPython.core.display.Javascript object>"
      ]
     },
     "metadata": {}
    }
   ],
   "metadata": {
    "ExecuteTime": {
     "end_time": "2021-09-11T05:23:21.621711Z",
     "start_time": "2021-09-11T05:23:13.091673Z"
    }
   }
  },
  {
   "cell_type": "markdown",
   "source": [
    "The lengths are looking pretty good, considering how skewed they were to begin with. These are plotted on a linear scale."
   ],
   "metadata": {}
  },
  {
   "cell_type": "code",
   "execution_count": 53,
   "source": [
    "data_checkpoint(df, \"data/length_checkpoint\")"
   ],
   "outputs": [
    {
     "output_type": "stream",
     "name": "stdout",
     "text": [
      "Overwriting...\n",
      "37 files created.\n"
     ]
    },
    {
     "output_type": "display_data",
     "data": {
      "application/javascript": "\n            setTimeout(function() {\n                var nbb_cell_id = 53;\n                var nbb_unformatted_code = \"data_checkpoint(df, \\\"data/length_checkpoint\\\")\";\n                var nbb_formatted_code = \"data_checkpoint(df, \\\"data/length_checkpoint\\\")\";\n                var nbb_cells = Jupyter.notebook.get_cells();\n                for (var i = 0; i < nbb_cells.length; ++i) {\n                    if (nbb_cells[i].input_prompt_number == nbb_cell_id) {\n                        if (nbb_cells[i].get_text() == nbb_unformatted_code) {\n                             nbb_cells[i].set_text(nbb_formatted_code);\n                        }\n                        break;\n                    }\n                }\n            }, 500);\n            ",
      "text/plain": [
       "<IPython.core.display.Javascript object>"
      ]
     },
     "metadata": {}
    }
   ],
   "metadata": {
    "ExecuteTime": {
     "end_time": "2021-09-11T05:24:40.418157Z",
     "start_time": "2021-09-11T05:23:21.624711Z"
    }
   }
  },
  {
   "cell_type": "markdown",
   "source": [
    "# Clean Brand\n",
    "\n",
    "Now I'll do my best to clean up the 'brand' feature. I expect it to have a strong relationship with category."
   ],
   "metadata": {}
  },
  {
   "cell_type": "code",
   "execution_count": 54,
   "source": [
    "df = pd.read_parquet(\"data/length_checkpoint\", engine=\"pyarrow\")\r\n",
    "df.head()"
   ],
   "outputs": [
    {
     "output_type": "execute_result",
     "data": {
      "text/html": [
       "<div>\n",
       "<style scoped>\n",
       "    .dataframe tbody tr th:only-of-type {\n",
       "        vertical-align: middle;\n",
       "    }\n",
       "\n",
       "    .dataframe tbody tr th {\n",
       "        vertical-align: top;\n",
       "    }\n",
       "\n",
       "    .dataframe thead th {\n",
       "        text-align: right;\n",
       "    }\n",
       "</style>\n",
       "<table border=\"1\" class=\"dataframe\">\n",
       "  <thead>\n",
       "    <tr style=\"text-align: right;\">\n",
       "      <th></th>\n",
       "      <th>description</th>\n",
       "      <th>title</th>\n",
       "      <th>brand</th>\n",
       "      <th>main_cat</th>\n",
       "    </tr>\n",
       "    <tr>\n",
       "      <th>asin</th>\n",
       "      <th></th>\n",
       "      <th></th>\n",
       "      <th></th>\n",
       "      <th></th>\n",
       "    </tr>\n",
       "  </thead>\n",
       "  <tbody>\n",
       "    <tr>\n",
       "      <th>B00APG79QM</th>\n",
       "      <td>100% cotton pillow protectors effectively bloc...</td>\n",
       "      <td>temporary hair chalk - non-toxic rainbow color...</td>\n",
       "      <td>sysrion</td>\n",
       "      <td>all beauty</td>\n",
       "    </tr>\n",
       "    <tr>\n",
       "      <th>B00CZH3FGM</th>\n",
       "      <td>view larger prepare to flash a brighter, white...</td>\n",
       "      <td>crest + oral-b professional whitening kit, 1 c...</td>\n",
       "      <td>crest</td>\n",
       "      <td>all beauty</td>\n",
       "    </tr>\n",
       "    <tr>\n",
       "      <th>B000KMCSG2</th>\n",
       "      <td>the limited edition philips norelco smarttouch...</td>\n",
       "      <td>philips norelco 9199xl limited edition formula...</td>\n",
       "      <td>philips norelco</td>\n",
       "      <td>all beauty</td>\n",
       "    </tr>\n",
       "    <tr>\n",
       "      <th>B001E0C9LI</th>\n",
       "      <td>the all-over bodygrooming system, with specifi...</td>\n",
       "      <td>philips norelco bg2030 professional bodygroomi...</td>\n",
       "      <td>philips norelco</td>\n",
       "      <td>all beauty</td>\n",
       "    </tr>\n",
       "    <tr>\n",
       "      <th>B0000530SM</th>\n",
       "      <td>premium whitening toothpaste with fluoride fre...</td>\n",
       "      <td>rembrandt dazzling white toothpaste - mint, (5...</td>\n",
       "      <td>rembrandt</td>\n",
       "      <td>all beauty</td>\n",
       "    </tr>\n",
       "  </tbody>\n",
       "</table>\n",
       "</div>"
      ],
      "text/plain": [
       "                                                  description  \\\n",
       "asin                                                            \n",
       "B00APG79QM  100% cotton pillow protectors effectively bloc...   \n",
       "B00CZH3FGM  view larger prepare to flash a brighter, white...   \n",
       "B000KMCSG2  the limited edition philips norelco smarttouch...   \n",
       "B001E0C9LI  the all-over bodygrooming system, with specifi...   \n",
       "B0000530SM  premium whitening toothpaste with fluoride fre...   \n",
       "\n",
       "                                                        title  \\\n",
       "asin                                                            \n",
       "B00APG79QM  temporary hair chalk - non-toxic rainbow color...   \n",
       "B00CZH3FGM  crest + oral-b professional whitening kit, 1 c...   \n",
       "B000KMCSG2  philips norelco 9199xl limited edition formula...   \n",
       "B001E0C9LI  philips norelco bg2030 professional bodygroomi...   \n",
       "B0000530SM  rembrandt dazzling white toothpaste - mint, (5...   \n",
       "\n",
       "                      brand    main_cat  \n",
       "asin                                     \n",
       "B00APG79QM          sysrion  all beauty  \n",
       "B00CZH3FGM            crest  all beauty  \n",
       "B000KMCSG2  philips norelco  all beauty  \n",
       "B001E0C9LI  philips norelco  all beauty  \n",
       "B0000530SM        rembrandt  all beauty  "
      ]
     },
     "metadata": {},
     "execution_count": 54
    },
    {
     "output_type": "display_data",
     "data": {
      "application/javascript": "\n            setTimeout(function() {\n                var nbb_cell_id = 54;\n                var nbb_unformatted_code = \"df = pd.read_parquet(\\\"data/length_checkpoint\\\", engine=\\\"pyarrow\\\")\\ndf.head()\";\n                var nbb_formatted_code = \"df = pd.read_parquet(\\\"data/length_checkpoint\\\", engine=\\\"pyarrow\\\")\\ndf.head()\";\n                var nbb_cells = Jupyter.notebook.get_cells();\n                for (var i = 0; i < nbb_cells.length; ++i) {\n                    if (nbb_cells[i].input_prompt_number == nbb_cell_id) {\n                        if (nbb_cells[i].get_text() == nbb_unformatted_code) {\n                             nbb_cells[i].set_text(nbb_formatted_code);\n                        }\n                        break;\n                    }\n                }\n            }, 500);\n            ",
      "text/plain": [
       "<IPython.core.display.Javascript object>"
      ]
     },
     "metadata": {}
    }
   ],
   "metadata": {
    "ExecuteTime": {
     "end_time": "2021-09-11T05:24:56.290157Z",
     "start_time": "2021-09-11T05:24:40.426159Z"
    },
    "run_control": {
     "marked": false
    }
   }
  },
  {
   "cell_type": "markdown",
   "source": [
    "I examine the top brands."
   ],
   "metadata": {}
  },
  {
   "cell_type": "code",
   "execution_count": 55,
   "source": [
    "brand_counts = df[\"brand\"].value_counts()\r\n",
    "brand_counts.head(15)"
   ],
   "outputs": [
    {
     "output_type": "execute_result",
     "data": {
      "text/plain": [
       "generic                 10079\n",
       "unknown                  8903\n",
       "yu-gi-oh!                7072\n",
       "magic: the gathering     6475\n",
       "invicta                  6021\n",
       "sony                     4860\n",
       "amazon collection        4839\n",
       "various artists          4609\n",
       "samsung                  4099\n",
       "evan fischer             4022\n",
       "hp                       3775\n",
       "various                  3724\n",
       "toogoo(r)                3660\n",
       "3drose                   3587\n",
       "empire                   3548\n",
       "Name: brand, dtype: int64"
      ]
     },
     "metadata": {},
     "execution_count": 55
    },
    {
     "output_type": "display_data",
     "data": {
      "application/javascript": "\n            setTimeout(function() {\n                var nbb_cell_id = 55;\n                var nbb_unformatted_code = \"brand_counts = df[\\\"brand\\\"].value_counts()\\nbrand_counts.head(15)\";\n                var nbb_formatted_code = \"brand_counts = df[\\\"brand\\\"].value_counts()\\nbrand_counts.head(15)\";\n                var nbb_cells = Jupyter.notebook.get_cells();\n                for (var i = 0; i < nbb_cells.length; ++i) {\n                    if (nbb_cells[i].input_prompt_number == nbb_cell_id) {\n                        if (nbb_cells[i].get_text() == nbb_unformatted_code) {\n                             nbb_cells[i].set_text(nbb_formatted_code);\n                        }\n                        break;\n                    }\n                }\n            }, 500);\n            ",
      "text/plain": [
       "<IPython.core.display.Javascript object>"
      ]
     },
     "metadata": {}
    }
   ],
   "metadata": {
    "ExecuteTime": {
     "end_time": "2021-09-11T05:24:57.383185Z",
     "start_time": "2021-09-11T05:24:56.296157Z"
    }
   }
  },
  {
   "cell_type": "markdown",
   "source": [
    "Next I put together a list of null placeholders. I'll have to add to the list whenever I spot a new one."
   ],
   "metadata": {}
  },
  {
   "cell_type": "code",
   "execution_count": 56,
   "source": [
    "null_brands = [\r\n",
    "    \"generic\",\r\n",
    "    \"n/a\",\r\n",
    "    \"no brand\",\r\n",
    "    \"none\",\r\n",
    "    \"not available\",\r\n",
    "    \"null\",\r\n",
    "    \"unavailable\",\r\n",
    "    \"unbranded\",\r\n",
    "    \"unknown\",\r\n",
    "    \"learn more\",\r\n",
    "    \"other\",\r\n",
    "    \"anonymous\",\r\n",
    "]\r\n",
    "\r\n",
    "brand_counts.loc[null_brands].sort_values()"
   ],
   "outputs": [
    {
     "output_type": "execute_result",
     "data": {
      "text/plain": [
       "unavailable          1\n",
       "no brand             5\n",
       "null                27\n",
       "unbranded           76\n",
       "other              104\n",
       "not available      108\n",
       "anonymous          108\n",
       "learn more         223\n",
       "n/a                545\n",
       "none               620\n",
       "unknown           8903\n",
       "generic          10079\n",
       "Name: brand, dtype: int64"
      ]
     },
     "metadata": {},
     "execution_count": 56
    },
    {
     "output_type": "display_data",
     "data": {
      "application/javascript": "\n            setTimeout(function() {\n                var nbb_cell_id = 56;\n                var nbb_unformatted_code = \"null_brands = [\\n    \\\"generic\\\",\\n    \\\"n/a\\\",\\n    \\\"no brand\\\",\\n    \\\"none\\\",\\n    \\\"not available\\\",\\n    \\\"null\\\",\\n    \\\"unavailable\\\",\\n    \\\"unbranded\\\",\\n    \\\"unknown\\\",\\n    \\\"learn more\\\",\\n    \\\"other\\\",\\n    \\\"anonymous\\\",\\n]\\n\\nbrand_counts.loc[null_brands].sort_values()\";\n                var nbb_formatted_code = \"null_brands = [\\n    \\\"generic\\\",\\n    \\\"n/a\\\",\\n    \\\"no brand\\\",\\n    \\\"none\\\",\\n    \\\"not available\\\",\\n    \\\"null\\\",\\n    \\\"unavailable\\\",\\n    \\\"unbranded\\\",\\n    \\\"unknown\\\",\\n    \\\"learn more\\\",\\n    \\\"other\\\",\\n    \\\"anonymous\\\",\\n]\\n\\nbrand_counts.loc[null_brands].sort_values()\";\n                var nbb_cells = Jupyter.notebook.get_cells();\n                for (var i = 0; i < nbb_cells.length; ++i) {\n                    if (nbb_cells[i].input_prompt_number == nbb_cell_id) {\n                        if (nbb_cells[i].get_text() == nbb_unformatted_code) {\n                             nbb_cells[i].set_text(nbb_formatted_code);\n                        }\n                        break;\n                    }\n                }\n            }, 500);\n            ",
      "text/plain": [
       "<IPython.core.display.Javascript object>"
      ]
     },
     "metadata": {}
    }
   ],
   "metadata": {
    "ExecuteTime": {
     "end_time": "2021-09-11T05:24:57.812185Z",
     "start_time": "2021-09-11T05:24:57.389157Z"
    }
   }
  },
  {
   "cell_type": "code",
   "execution_count": 57,
   "source": [
    "df.loc[df.brand == \"generic\"]"
   ],
   "outputs": [
    {
     "output_type": "execute_result",
     "data": {
      "text/html": [
       "<div>\n",
       "<style scoped>\n",
       "    .dataframe tbody tr th:only-of-type {\n",
       "        vertical-align: middle;\n",
       "    }\n",
       "\n",
       "    .dataframe tbody tr th {\n",
       "        vertical-align: top;\n",
       "    }\n",
       "\n",
       "    .dataframe thead th {\n",
       "        text-align: right;\n",
       "    }\n",
       "</style>\n",
       "<table border=\"1\" class=\"dataframe\">\n",
       "  <thead>\n",
       "    <tr style=\"text-align: right;\">\n",
       "      <th></th>\n",
       "      <th>description</th>\n",
       "      <th>title</th>\n",
       "      <th>brand</th>\n",
       "      <th>main_cat</th>\n",
       "    </tr>\n",
       "    <tr>\n",
       "      <th>asin</th>\n",
       "      <th></th>\n",
       "      <th></th>\n",
       "      <th></th>\n",
       "      <th></th>\n",
       "    </tr>\n",
       "  </thead>\n",
       "  <tbody>\n",
       "    <tr>\n",
       "      <th>B019E906LU</th>\n",
       "      <td>digital printing studio vinyl floor christmas ...</td>\n",
       "      <td>5x7ft study books photograghy backdrops photo ...</td>\n",
       "      <td>generic</td>\n",
       "      <td>all beauty</td>\n",
       "    </tr>\n",
       "    <tr>\n",
       "      <th>B00246EHKW</th>\n",
       "      <td>*check out the 90 day supply (3 bottles) save ...</td>\n",
       "      <td>gain weight fast with safe weight gain pills -...</td>\n",
       "      <td>generic</td>\n",
       "      <td>all beauty</td>\n",
       "    </tr>\n",
       "    <tr>\n",
       "      <th>B0017SWH5A</th>\n",
       "      <td>designed specifically for pet owners. austin a...</td>\n",
       "      <td>austin air pet machine air purifier - black - ...</td>\n",
       "      <td>generic</td>\n",
       "      <td>all beauty</td>\n",
       "    </tr>\n",
       "    <tr>\n",
       "      <th>B00OUQOJ8Y</th>\n",
       "      <td>savfy iphone 6 backup power bank (3200 mah) ca...</td>\n",
       "      <td>savfy® iphone 6 4.7\" 4.7 inch 3200mah backup b...</td>\n",
       "      <td>generic</td>\n",
       "      <td>all beauty</td>\n",
       "    </tr>\n",
       "    <tr>\n",
       "      <th>B0095NXF5U</th>\n",
       "      <td>use this item to tape down lower lashes before...</td>\n",
       "      <td>double eyelid eye beauty tape with scissors</td>\n",
       "      <td>generic</td>\n",
       "      <td>all beauty</td>\n",
       "    </tr>\n",
       "    <tr>\n",
       "      <th>...</th>\n",
       "      <td>...</td>\n",
       "      <td>...</td>\n",
       "      <td>...</td>\n",
       "      <td>...</td>\n",
       "    </tr>\n",
       "    <tr>\n",
       "      <th>B00WJGWIUS</th>\n",
       "      <td>features: easy to install and dismantle, effec...</td>\n",
       "      <td>generic full housing shell case button kit rep...</td>\n",
       "      <td>generic</td>\n",
       "      <td>video games</td>\n",
       "    </tr>\n",
       "    <tr>\n",
       "      <th>B00ITE71U6</th>\n",
       "      <td>features: high quality noctilucence silicone s...</td>\n",
       "      <td>generic glow noctilucence cover silicone skin ...</td>\n",
       "      <td>generic</td>\n",
       "      <td>video games</td>\n",
       "    </tr>\n",
       "    <tr>\n",
       "      <th>B004EL94AI</th>\n",
       "      <td>salem secrets takes you into the haunting tale...</td>\n",
       "      <td>hidden mysteries: salem secrets - witch trials...</td>\n",
       "      <td>generic</td>\n",
       "      <td>video games</td>\n",
       "    </tr>\n",
       "    <tr>\n",
       "      <th>B000QSGH6M</th>\n",
       "      <td>rock out without wires! this guitar mania ii g...</td>\n",
       "      <td>wireless 2.4ghz guitarmaniaii playstation2 gui...</td>\n",
       "      <td>generic</td>\n",
       "      <td>video games</td>\n",
       "    </tr>\n",
       "    <tr>\n",
       "      <th>B0010LC6QE</th>\n",
       "      <td>durable hard crystal clear cover case with bla...</td>\n",
       "      <td>nintendo ds lite clear crystal hard case nds case</td>\n",
       "      <td>generic</td>\n",
       "      <td>video games</td>\n",
       "    </tr>\n",
       "  </tbody>\n",
       "</table>\n",
       "<p>10079 rows × 4 columns</p>\n",
       "</div>"
      ],
      "text/plain": [
       "                                                  description  \\\n",
       "asin                                                            \n",
       "B019E906LU  digital printing studio vinyl floor christmas ...   \n",
       "B00246EHKW  *check out the 90 day supply (3 bottles) save ...   \n",
       "B0017SWH5A  designed specifically for pet owners. austin a...   \n",
       "B00OUQOJ8Y  savfy iphone 6 backup power bank (3200 mah) ca...   \n",
       "B0095NXF5U  use this item to tape down lower lashes before...   \n",
       "...                                                       ...   \n",
       "B00WJGWIUS  features: easy to install and dismantle, effec...   \n",
       "B00ITE71U6  features: high quality noctilucence silicone s...   \n",
       "B004EL94AI  salem secrets takes you into the haunting tale...   \n",
       "B000QSGH6M  rock out without wires! this guitar mania ii g...   \n",
       "B0010LC6QE  durable hard crystal clear cover case with bla...   \n",
       "\n",
       "                                                        title    brand  \\\n",
       "asin                                                                     \n",
       "B019E906LU  5x7ft study books photograghy backdrops photo ...  generic   \n",
       "B00246EHKW  gain weight fast with safe weight gain pills -...  generic   \n",
       "B0017SWH5A  austin air pet machine air purifier - black - ...  generic   \n",
       "B00OUQOJ8Y  savfy® iphone 6 4.7\" 4.7 inch 3200mah backup b...  generic   \n",
       "B0095NXF5U        double eyelid eye beauty tape with scissors  generic   \n",
       "...                                                       ...      ...   \n",
       "B00WJGWIUS  generic full housing shell case button kit rep...  generic   \n",
       "B00ITE71U6  generic glow noctilucence cover silicone skin ...  generic   \n",
       "B004EL94AI  hidden mysteries: salem secrets - witch trials...  generic   \n",
       "B000QSGH6M  wireless 2.4ghz guitarmaniaii playstation2 gui...  generic   \n",
       "B0010LC6QE  nintendo ds lite clear crystal hard case nds case  generic   \n",
       "\n",
       "               main_cat  \n",
       "asin                     \n",
       "B019E906LU   all beauty  \n",
       "B00246EHKW   all beauty  \n",
       "B0017SWH5A   all beauty  \n",
       "B00OUQOJ8Y   all beauty  \n",
       "B0095NXF5U   all beauty  \n",
       "...                 ...  \n",
       "B00WJGWIUS  video games  \n",
       "B00ITE71U6  video games  \n",
       "B004EL94AI  video games  \n",
       "B000QSGH6M  video games  \n",
       "B0010LC6QE  video games  \n",
       "\n",
       "[10079 rows x 4 columns]"
      ]
     },
     "metadata": {},
     "execution_count": 57
    },
    {
     "output_type": "display_data",
     "data": {
      "application/javascript": "\n            setTimeout(function() {\n                var nbb_cell_id = 57;\n                var nbb_unformatted_code = \"df.loc[df.brand == \\\"generic\\\"]\";\n                var nbb_formatted_code = \"df.loc[df.brand == \\\"generic\\\"]\";\n                var nbb_cells = Jupyter.notebook.get_cells();\n                for (var i = 0; i < nbb_cells.length; ++i) {\n                    if (nbb_cells[i].input_prompt_number == nbb_cell_id) {\n                        if (nbb_cells[i].get_text() == nbb_unformatted_code) {\n                             nbb_cells[i].set_text(nbb_formatted_code);\n                        }\n                        break;\n                    }\n                }\n            }, 500);\n            ",
      "text/plain": [
       "<IPython.core.display.Javascript object>"
      ]
     },
     "metadata": {}
    }
   ],
   "metadata": {
    "ExecuteTime": {
     "end_time": "2021-09-11T05:24:58.148157Z",
     "start_time": "2021-09-11T05:24:57.818156Z"
    }
   }
  },
  {
   "cell_type": "code",
   "execution_count": 58,
   "source": [
    "if \"generic\" in null_brands:\r\n",
    "    null_brands.remove(\"generic\")\r\n",
    "df.loc[df.brand.isin(null_brands), \"brand\"] = np.nan\r\n",
    "df.isna().sum()"
   ],
   "outputs": [
    {
     "output_type": "execute_result",
     "data": {
      "text/plain": [
       "description         0\n",
       "title               0\n",
       "brand          171685\n",
       "main_cat            0\n",
       "dtype: int64"
      ]
     },
     "metadata": {},
     "execution_count": 58
    },
    {
     "output_type": "display_data",
     "data": {
      "application/javascript": "\n            setTimeout(function() {\n                var nbb_cell_id = 58;\n                var nbb_unformatted_code = \"if \\\"generic\\\" in null_brands:\\n    null_brands.remove(\\\"generic\\\")\\ndf.loc[df.brand.isin(null_brands), \\\"brand\\\"] = np.nan\\ndf.isna().sum()\";\n                var nbb_formatted_code = \"if \\\"generic\\\" in null_brands:\\n    null_brands.remove(\\\"generic\\\")\\ndf.loc[df.brand.isin(null_brands), \\\"brand\\\"] = np.nan\\ndf.isna().sum()\";\n                var nbb_cells = Jupyter.notebook.get_cells();\n                for (var i = 0; i < nbb_cells.length; ++i) {\n                    if (nbb_cells[i].input_prompt_number == nbb_cell_id) {\n                        if (nbb_cells[i].get_text() == nbb_unformatted_code) {\n                             nbb_cells[i].set_text(nbb_formatted_code);\n                        }\n                        break;\n                    }\n                }\n            }, 500);\n            ",
      "text/plain": [
       "<IPython.core.display.Javascript object>"
      ]
     },
     "metadata": {}
    }
   ],
   "metadata": {
    "ExecuteTime": {
     "end_time": "2021-09-11T05:24:59.203156Z",
     "start_time": "2021-09-11T05:24:58.153157Z"
    }
   }
  },
  {
   "cell_type": "code",
   "execution_count": 59,
   "source": [
    "by_brands = df.brand.str.startswith(\"by \").dropna()\r\n",
    "df.dropna().loc[by_brands, [\"brand\"]]"
   ],
   "outputs": [
    {
     "output_type": "execute_result",
     "data": {
      "text/html": [
       "<div>\n",
       "<style scoped>\n",
       "    .dataframe tbody tr th:only-of-type {\n",
       "        vertical-align: middle;\n",
       "    }\n",
       "\n",
       "    .dataframe tbody tr th {\n",
       "        vertical-align: top;\n",
       "    }\n",
       "\n",
       "    .dataframe thead th {\n",
       "        text-align: right;\n",
       "    }\n",
       "</style>\n",
       "<table border=\"1\" class=\"dataframe\">\n",
       "  <thead>\n",
       "    <tr style=\"text-align: right;\">\n",
       "      <th></th>\n",
       "      <th>brand</th>\n",
       "    </tr>\n",
       "    <tr>\n",
       "      <th>asin</th>\n",
       "      <th></th>\n",
       "    </tr>\n",
       "  </thead>\n",
       "  <tbody>\n",
       "    <tr>\n",
       "      <th>B01CMJZLXM</th>\n",
       "      <td>by alegory</td>\n",
       "    </tr>\n",
       "    <tr>\n",
       "      <th>B00KUSQ9NY</th>\n",
       "      <td>by alegory</td>\n",
       "    </tr>\n",
       "    <tr>\n",
       "      <th>B00CMSCV32</th>\n",
       "      <td>by sega</td>\n",
       "    </tr>\n",
       "    <tr>\n",
       "      <th>B00LZWGVFA</th>\n",
       "      <td>by gunnar optiks</td>\n",
       "    </tr>\n",
       "    <tr>\n",
       "      <th>B00K0SXUBS</th>\n",
       "      <td>by w5swl</td>\n",
       "    </tr>\n",
       "    <tr>\n",
       "      <th>...</th>\n",
       "      <td>...</td>\n",
       "    </tr>\n",
       "    <tr>\n",
       "      <th>B0046RROE8</th>\n",
       "      <td>by ethahe</td>\n",
       "    </tr>\n",
       "    <tr>\n",
       "      <th>B00002S5FG</th>\n",
       "      <td>by microsoft</td>\n",
       "    </tr>\n",
       "    <tr>\n",
       "      <th>B001AXHL08</th>\n",
       "      <td>by jwin</td>\n",
       "    </tr>\n",
       "    <tr>\n",
       "      <th>B00APUFWSK</th>\n",
       "      <td>by game master</td>\n",
       "    </tr>\n",
       "    <tr>\n",
       "      <th>B0030GG11S</th>\n",
       "      <td>by meridian4</td>\n",
       "    </tr>\n",
       "  </tbody>\n",
       "</table>\n",
       "<p>22112 rows × 1 columns</p>\n",
       "</div>"
      ],
      "text/plain": [
       "                       brand\n",
       "asin                        \n",
       "B01CMJZLXM        by alegory\n",
       "B00KUSQ9NY        by alegory\n",
       "B00CMSCV32           by sega\n",
       "B00LZWGVFA  by gunnar optiks\n",
       "B00K0SXUBS          by w5swl\n",
       "...                      ...\n",
       "B0046RROE8         by ethahe\n",
       "B00002S5FG      by microsoft\n",
       "B001AXHL08           by jwin\n",
       "B00APUFWSK    by game master\n",
       "B0030GG11S      by meridian4\n",
       "\n",
       "[22112 rows x 1 columns]"
      ]
     },
     "metadata": {},
     "execution_count": 59
    },
    {
     "output_type": "display_data",
     "data": {
      "application/javascript": "\n            setTimeout(function() {\n                var nbb_cell_id = 59;\n                var nbb_unformatted_code = \"by_brands = df.brand.str.startswith(\\\"by \\\").dropna()\\ndf.dropna().loc[by_brands, [\\\"brand\\\"]]\";\n                var nbb_formatted_code = \"by_brands = df.brand.str.startswith(\\\"by \\\").dropna()\\ndf.dropna().loc[by_brands, [\\\"brand\\\"]]\";\n                var nbb_cells = Jupyter.notebook.get_cells();\n                for (var i = 0; i < nbb_cells.length; ++i) {\n                    if (nbb_cells[i].input_prompt_number == nbb_cell_id) {\n                        if (nbb_cells[i].get_text() == nbb_unformatted_code) {\n                             nbb_cells[i].set_text(nbb_formatted_code);\n                        }\n                        break;\n                    }\n                }\n            }, 500);\n            ",
      "text/plain": [
       "<IPython.core.display.Javascript object>"
      ]
     },
     "metadata": {}
    }
   ],
   "metadata": {
    "ExecuteTime": {
     "end_time": "2021-09-11T05:25:01.941258Z",
     "start_time": "2021-09-11T05:24:59.210157Z"
    }
   }
  },
  {
   "cell_type": "code",
   "execution_count": 60,
   "source": [
    "df[\"brand\"] = df.loc[:, \"brand\"].str.replace(\"^(by\\s+)\", \"\", regex=True)\r\n",
    "df.dropna().loc[by_brands, [\"brand\"]]"
   ],
   "outputs": [
    {
     "output_type": "execute_result",
     "data": {
      "text/html": [
       "<div>\n",
       "<style scoped>\n",
       "    .dataframe tbody tr th:only-of-type {\n",
       "        vertical-align: middle;\n",
       "    }\n",
       "\n",
       "    .dataframe tbody tr th {\n",
       "        vertical-align: top;\n",
       "    }\n",
       "\n",
       "    .dataframe thead th {\n",
       "        text-align: right;\n",
       "    }\n",
       "</style>\n",
       "<table border=\"1\" class=\"dataframe\">\n",
       "  <thead>\n",
       "    <tr style=\"text-align: right;\">\n",
       "      <th></th>\n",
       "      <th>brand</th>\n",
       "    </tr>\n",
       "    <tr>\n",
       "      <th>asin</th>\n",
       "      <th></th>\n",
       "    </tr>\n",
       "  </thead>\n",
       "  <tbody>\n",
       "    <tr>\n",
       "      <th>B01CMJZLXM</th>\n",
       "      <td>alegory</td>\n",
       "    </tr>\n",
       "    <tr>\n",
       "      <th>B00KUSQ9NY</th>\n",
       "      <td>alegory</td>\n",
       "    </tr>\n",
       "    <tr>\n",
       "      <th>B00CMSCV32</th>\n",
       "      <td>sega</td>\n",
       "    </tr>\n",
       "    <tr>\n",
       "      <th>B00LZWGVFA</th>\n",
       "      <td>gunnar optiks</td>\n",
       "    </tr>\n",
       "    <tr>\n",
       "      <th>B00K0SXUBS</th>\n",
       "      <td>w5swl</td>\n",
       "    </tr>\n",
       "    <tr>\n",
       "      <th>...</th>\n",
       "      <td>...</td>\n",
       "    </tr>\n",
       "    <tr>\n",
       "      <th>B0046RROE8</th>\n",
       "      <td>ethahe</td>\n",
       "    </tr>\n",
       "    <tr>\n",
       "      <th>B00002S5FG</th>\n",
       "      <td>microsoft</td>\n",
       "    </tr>\n",
       "    <tr>\n",
       "      <th>B001AXHL08</th>\n",
       "      <td>jwin</td>\n",
       "    </tr>\n",
       "    <tr>\n",
       "      <th>B00APUFWSK</th>\n",
       "      <td>game master</td>\n",
       "    </tr>\n",
       "    <tr>\n",
       "      <th>B0030GG11S</th>\n",
       "      <td>meridian4</td>\n",
       "    </tr>\n",
       "  </tbody>\n",
       "</table>\n",
       "<p>22112 rows × 1 columns</p>\n",
       "</div>"
      ],
      "text/plain": [
       "                    brand\n",
       "asin                     \n",
       "B01CMJZLXM        alegory\n",
       "B00KUSQ9NY        alegory\n",
       "B00CMSCV32           sega\n",
       "B00LZWGVFA  gunnar optiks\n",
       "B00K0SXUBS          w5swl\n",
       "...                   ...\n",
       "B0046RROE8         ethahe\n",
       "B00002S5FG      microsoft\n",
       "B001AXHL08           jwin\n",
       "B00APUFWSK    game master\n",
       "B0030GG11S      meridian4\n",
       "\n",
       "[22112 rows x 1 columns]"
      ]
     },
     "metadata": {},
     "execution_count": 60
    },
    {
     "output_type": "display_data",
     "data": {
      "application/javascript": "\n            setTimeout(function() {\n                var nbb_cell_id = 60;\n                var nbb_unformatted_code = \"df[\\\"brand\\\"] = df.loc[:, \\\"brand\\\"].str.replace(\\\"^(by\\\\s+)\\\", \\\"\\\", regex=True)\\ndf.dropna().loc[by_brands, [\\\"brand\\\"]]\";\n                var nbb_formatted_code = \"df[\\\"brand\\\"] = df.loc[:, \\\"brand\\\"].str.replace(\\\"^(by\\\\s+)\\\", \\\"\\\", regex=True)\\ndf.dropna().loc[by_brands, [\\\"brand\\\"]]\";\n                var nbb_cells = Jupyter.notebook.get_cells();\n                for (var i = 0; i < nbb_cells.length; ++i) {\n                    if (nbb_cells[i].input_prompt_number == nbb_cell_id) {\n                        if (nbb_cells[i].get_text() == nbb_unformatted_code) {\n                             nbb_cells[i].set_text(nbb_formatted_code);\n                        }\n                        break;\n                    }\n                }\n            }, 500);\n            ",
      "text/plain": [
       "<IPython.core.display.Javascript object>"
      ]
     },
     "metadata": {}
    }
   ],
   "metadata": {
    "ExecuteTime": {
     "end_time": "2021-09-11T05:25:05.358226Z",
     "start_time": "2021-09-11T05:25:01.947228Z"
    },
    "scrolled": true
   }
  },
  {
   "cell_type": "code",
   "execution_count": 61,
   "source": [
    "amazon_pages = df.brand.str.extract(r\"visit amazon's (.+) page\")\r\n",
    "amazon_pages = amazon_pages.dropna().squeeze()\r\n",
    "df.loc[amazon_pages.index, \"brand\"] = amazon_pages\r\n",
    "df.loc[amazon_pages.index]"
   ],
   "outputs": [
    {
     "output_type": "execute_result",
     "data": {
      "text/html": [
       "<div>\n",
       "<style scoped>\n",
       "    .dataframe tbody tr th:only-of-type {\n",
       "        vertical-align: middle;\n",
       "    }\n",
       "\n",
       "    .dataframe tbody tr th {\n",
       "        vertical-align: top;\n",
       "    }\n",
       "\n",
       "    .dataframe thead th {\n",
       "        text-align: right;\n",
       "    }\n",
       "</style>\n",
       "<table border=\"1\" class=\"dataframe\">\n",
       "  <thead>\n",
       "    <tr style=\"text-align: right;\">\n",
       "      <th></th>\n",
       "      <th>description</th>\n",
       "      <th>title</th>\n",
       "      <th>brand</th>\n",
       "      <th>main_cat</th>\n",
       "    </tr>\n",
       "    <tr>\n",
       "      <th>asin</th>\n",
       "      <th></th>\n",
       "      <th></th>\n",
       "      <th></th>\n",
       "      <th></th>\n",
       "    </tr>\n",
       "  </thead>\n",
       "  <tbody>\n",
       "    <tr>\n",
       "      <th>0143110098</th>\n",
       "      <td>“a fresh, thrilling portrait… guy’s elizabeth ...</td>\n",
       "      <td>elizabeth: the later years</td>\n",
       "      <td>john guy</td>\n",
       "      <td>books</td>\n",
       "    </tr>\n",
       "    <tr>\n",
       "      <th>0815729103</th>\n",
       "      <td>shivshankar menon's choices is a short book co...</td>\n",
       "      <td>choices: inside the making of indias foreign p...</td>\n",
       "      <td>shivshankar menon</td>\n",
       "      <td>books</td>\n",
       "    </tr>\n",
       "    <tr>\n",
       "      <th>1501129090</th>\n",
       "      <td>the book is written in a clear and easy to fol...</td>\n",
       "      <td>guided: reclaiming the intuitive voice of your...</td>\n",
       "      <td>hans christian king</td>\n",
       "      <td>books</td>\n",
       "    </tr>\n",
       "    <tr>\n",
       "      <th>1492264997</th>\n",
       "      <td>death in the australian outback: the australia...</td>\n",
       "      <td>death in the australian outback (bigfoot littl...</td>\n",
       "      <td>anthony e thorogood</td>\n",
       "      <td>books</td>\n",
       "    </tr>\n",
       "    <tr>\n",
       "      <th>0738715034</th>\n",
       "      <td>\" goddess to the core is a wonderfully present...</td>\n",
       "      <td>goddess to the core: an inspired workout to ma...</td>\n",
       "      <td>sierra bender</td>\n",
       "      <td>books</td>\n",
       "    </tr>\n",
       "    <tr>\n",
       "      <th>...</th>\n",
       "      <td>...</td>\n",
       "      <td>...</td>\n",
       "      <td>...</td>\n",
       "      <td>...</td>\n",
       "    </tr>\n",
       "    <tr>\n",
       "      <th>1425177654</th>\n",
       "      <td>emelia sam currently resides in washington, dc...</td>\n",
       "      <td>i haven't found myself... but i'm still lookin...</td>\n",
       "      <td>emelia sam</td>\n",
       "      <td>books</td>\n",
       "    </tr>\n",
       "    <tr>\n",
       "      <th>1501187538</th>\n",
       "      <td>ania ahlborn is the bestselling author of the ...</td>\n",
       "      <td>apart in the dark: novellas</td>\n",
       "      <td>ania ahlborn</td>\n",
       "      <td>books</td>\n",
       "    </tr>\n",
       "    <tr>\n",
       "      <th>0521478081</th>\n",
       "      <td>\"the most sensitive and intelligent book in th...</td>\n",
       "      <td>franois truffaut</td>\n",
       "      <td>annette insdorf</td>\n",
       "      <td>books</td>\n",
       "    </tr>\n",
       "    <tr>\n",
       "      <th>2707317217</th>\n",
       "      <td>127pages. in8. broch. il avait dit: ici, je n'...</td>\n",
       "      <td>apprendre finir</td>\n",
       "      <td>laurent mauvignier</td>\n",
       "      <td>books</td>\n",
       "    </tr>\n",
       "    <tr>\n",
       "      <th>1847562442</th>\n",
       "      <td>kitty neale was raised in south london and thi...</td>\n",
       "      <td>a broken family</td>\n",
       "      <td>kitty neale</td>\n",
       "      <td>books</td>\n",
       "    </tr>\n",
       "  </tbody>\n",
       "</table>\n",
       "<p>516272 rows × 4 columns</p>\n",
       "</div>"
      ],
      "text/plain": [
       "                                                  description  \\\n",
       "asin                                                            \n",
       "0143110098  “a fresh, thrilling portrait… guy’s elizabeth ...   \n",
       "0815729103  shivshankar menon's choices is a short book co...   \n",
       "1501129090  the book is written in a clear and easy to fol...   \n",
       "1492264997  death in the australian outback: the australia...   \n",
       "0738715034  \" goddess to the core is a wonderfully present...   \n",
       "...                                                       ...   \n",
       "1425177654  emelia sam currently resides in washington, dc...   \n",
       "1501187538  ania ahlborn is the bestselling author of the ...   \n",
       "0521478081  \"the most sensitive and intelligent book in th...   \n",
       "2707317217  127pages. in8. broch. il avait dit: ici, je n'...   \n",
       "1847562442  kitty neale was raised in south london and thi...   \n",
       "\n",
       "                                                        title  \\\n",
       "asin                                                            \n",
       "0143110098                         elizabeth: the later years   \n",
       "0815729103  choices: inside the making of indias foreign p...   \n",
       "1501129090  guided: reclaiming the intuitive voice of your...   \n",
       "1492264997  death in the australian outback (bigfoot littl...   \n",
       "0738715034  goddess to the core: an inspired workout to ma...   \n",
       "...                                                       ...   \n",
       "1425177654  i haven't found myself... but i'm still lookin...   \n",
       "1501187538                        apart in the dark: novellas   \n",
       "0521478081                                   franois truffaut   \n",
       "2707317217                                    apprendre finir   \n",
       "1847562442                                    a broken family   \n",
       "\n",
       "                          brand main_cat  \n",
       "asin                                      \n",
       "0143110098             john guy    books  \n",
       "0815729103    shivshankar menon    books  \n",
       "1501129090  hans christian king    books  \n",
       "1492264997  anthony e thorogood    books  \n",
       "0738715034        sierra bender    books  \n",
       "...                         ...      ...  \n",
       "1425177654           emelia sam    books  \n",
       "1501187538         ania ahlborn    books  \n",
       "0521478081      annette insdorf    books  \n",
       "2707317217   laurent mauvignier    books  \n",
       "1847562442          kitty neale    books  \n",
       "\n",
       "[516272 rows x 4 columns]"
      ]
     },
     "metadata": {},
     "execution_count": 61
    },
    {
     "output_type": "display_data",
     "data": {
      "application/javascript": "\n            setTimeout(function() {\n                var nbb_cell_id = 61;\n                var nbb_unformatted_code = \"amazon_pages = df.brand.str.extract(r\\\"visit amazon's (.+) page\\\")\\namazon_pages = amazon_pages.dropna().squeeze()\\ndf.loc[amazon_pages.index, \\\"brand\\\"] = amazon_pages\\ndf.loc[amazon_pages.index]\";\n                var nbb_formatted_code = \"amazon_pages = df.brand.str.extract(r\\\"visit amazon's (.+) page\\\")\\namazon_pages = amazon_pages.dropna().squeeze()\\ndf.loc[amazon_pages.index, \\\"brand\\\"] = amazon_pages\\ndf.loc[amazon_pages.index]\";\n                var nbb_cells = Jupyter.notebook.get_cells();\n                for (var i = 0; i < nbb_cells.length; ++i) {\n                    if (nbb_cells[i].input_prompt_number == nbb_cell_id) {\n                        if (nbb_cells[i].get_text() == nbb_unformatted_code) {\n                             nbb_cells[i].set_text(nbb_formatted_code);\n                        }\n                        break;\n                    }\n                }\n            }, 500);\n            ",
      "text/plain": [
       "<IPython.core.display.Javascript object>"
      ]
     },
     "metadata": {}
    }
   ],
   "metadata": {
    "ExecuteTime": {
     "end_time": "2021-09-11T05:25:10.376257Z",
     "start_time": "2021-09-11T05:25:05.364226Z"
    }
   }
  },
  {
   "cell_type": "code",
   "execution_count": 62,
   "source": [
    "regex = df.brand.value_counts().reset_index()\r\n",
    "regex.columns = [\"brand\", \"support\"]\r\n",
    "regex[\"brand\"] = lang.strip_non_word(regex.loc[:, \"brand\"])\r\n",
    "regex = regex.loc[\r\n",
    "    (~regex.brand.str.contains(\"\\s\", regex=True))\r\n",
    "    & (regex.brand != \"various\")\r\n",
    "    & (regex.brand.str.len() > 3)\r\n",
    "]\r\n",
    "regex[\"brand\"] = r\"^\" + regex.brand.map(re.escape) + r\"\\b\"\r\n",
    "regex.head(20)"
   ],
   "outputs": [
    {
     "output_type": "execute_result",
     "data": {
      "text/html": [
       "<div>\n",
       "<style scoped>\n",
       "    .dataframe tbody tr th:only-of-type {\n",
       "        vertical-align: middle;\n",
       "    }\n",
       "\n",
       "    .dataframe tbody tr th {\n",
       "        vertical-align: top;\n",
       "    }\n",
       "\n",
       "    .dataframe thead th {\n",
       "        text-align: right;\n",
       "    }\n",
       "</style>\n",
       "<table border=\"1\" class=\"dataframe\">\n",
       "  <thead>\n",
       "    <tr style=\"text-align: right;\">\n",
       "      <th></th>\n",
       "      <th>brand</th>\n",
       "      <th>support</th>\n",
       "    </tr>\n",
       "  </thead>\n",
       "  <tbody>\n",
       "    <tr>\n",
       "      <th>0</th>\n",
       "      <td>^generic\\b</td>\n",
       "      <td>10138</td>\n",
       "    </tr>\n",
       "    <tr>\n",
       "      <th>3</th>\n",
       "      <td>^invicta\\b</td>\n",
       "      <td>6021</td>\n",
       "    </tr>\n",
       "    <tr>\n",
       "      <th>4</th>\n",
       "      <td>^sony\\b</td>\n",
       "      <td>5357</td>\n",
       "    </tr>\n",
       "    <tr>\n",
       "      <th>7</th>\n",
       "      <td>^samsung\\b</td>\n",
       "      <td>4099</td>\n",
       "    </tr>\n",
       "    <tr>\n",
       "      <th>12</th>\n",
       "      <td>^3drose\\b</td>\n",
       "      <td>3587</td>\n",
       "    </tr>\n",
       "    <tr>\n",
       "      <th>13</th>\n",
       "      <td>^empire\\b</td>\n",
       "      <td>3549</td>\n",
       "    </tr>\n",
       "    <tr>\n",
       "      <th>14</th>\n",
       "      <td>^uxcell\\b</td>\n",
       "      <td>3379</td>\n",
       "    </tr>\n",
       "    <tr>\n",
       "      <th>16</th>\n",
       "      <td>^pokemon\\b</td>\n",
       "      <td>3181</td>\n",
       "    </tr>\n",
       "    <tr>\n",
       "      <th>17</th>\n",
       "      <td>^disney\\b</td>\n",
       "      <td>3134</td>\n",
       "    </tr>\n",
       "    <tr>\n",
       "      <th>18</th>\n",
       "      <td>^seiko\\b</td>\n",
       "      <td>2699</td>\n",
       "    </tr>\n",
       "    <tr>\n",
       "      <th>19</th>\n",
       "      <td>^mattel\\b</td>\n",
       "      <td>2662</td>\n",
       "    </tr>\n",
       "    <tr>\n",
       "      <th>20</th>\n",
       "      <td>^hasbro\\b</td>\n",
       "      <td>2608</td>\n",
       "    </tr>\n",
       "    <tr>\n",
       "      <th>21</th>\n",
       "      <td>^panasonic\\b</td>\n",
       "      <td>2504</td>\n",
       "    </tr>\n",
       "    <tr>\n",
       "      <th>22</th>\n",
       "      <td>^lego\\b</td>\n",
       "      <td>2484</td>\n",
       "    </tr>\n",
       "    <tr>\n",
       "      <th>24</th>\n",
       "      <td>^dell\\b</td>\n",
       "      <td>2368</td>\n",
       "    </tr>\n",
       "    <tr>\n",
       "      <th>26</th>\n",
       "      <td>^amzer\\b</td>\n",
       "      <td>2326</td>\n",
       "    </tr>\n",
       "    <tr>\n",
       "      <th>27</th>\n",
       "      <td>^casio\\b</td>\n",
       "      <td>2301</td>\n",
       "    </tr>\n",
       "    <tr>\n",
       "      <th>28</th>\n",
       "      <td>^kohler\\b</td>\n",
       "      <td>2281</td>\n",
       "    </tr>\n",
       "    <tr>\n",
       "      <th>30</th>\n",
       "      <td>^canon\\b</td>\n",
       "      <td>2224</td>\n",
       "    </tr>\n",
       "    <tr>\n",
       "      <th>31</th>\n",
       "      <td>^autoandart\\b</td>\n",
       "      <td>2193</td>\n",
       "    </tr>\n",
       "  </tbody>\n",
       "</table>\n",
       "</div>"
      ],
      "text/plain": [
       "            brand  support\n",
       "0      ^generic\\b    10138\n",
       "3      ^invicta\\b     6021\n",
       "4         ^sony\\b     5357\n",
       "7      ^samsung\\b     4099\n",
       "12      ^3drose\\b     3587\n",
       "13      ^empire\\b     3549\n",
       "14      ^uxcell\\b     3379\n",
       "16     ^pokemon\\b     3181\n",
       "17      ^disney\\b     3134\n",
       "18       ^seiko\\b     2699\n",
       "19      ^mattel\\b     2662\n",
       "20      ^hasbro\\b     2608\n",
       "21   ^panasonic\\b     2504\n",
       "22        ^lego\\b     2484\n",
       "24        ^dell\\b     2368\n",
       "26       ^amzer\\b     2326\n",
       "27       ^casio\\b     2301\n",
       "28      ^kohler\\b     2281\n",
       "30       ^canon\\b     2224\n",
       "31  ^autoandart\\b     2193"
      ]
     },
     "metadata": {},
     "execution_count": 62
    },
    {
     "output_type": "display_data",
     "data": {
      "application/javascript": "\n            setTimeout(function() {\n                var nbb_cell_id = 62;\n                var nbb_unformatted_code = \"regex = df.brand.value_counts().reset_index()\\nregex.columns = [\\\"brand\\\", \\\"support\\\"]\\nregex[\\\"brand\\\"] = lang.strip_non_word(regex.loc[:, \\\"brand\\\"])\\nregex = regex.loc[\\n    (~regex.brand.str.contains(\\\"\\\\s\\\", regex=True))\\n    & (regex.brand != \\\"various\\\")\\n    & (regex.brand.str.len() > 3)\\n]\\nregex[\\\"brand\\\"] = r\\\"^\\\" + regex.brand.map(re.escape) + r\\\"\\\\b\\\"\\nregex.head(20)\";\n                var nbb_formatted_code = \"regex = df.brand.value_counts().reset_index()\\nregex.columns = [\\\"brand\\\", \\\"support\\\"]\\nregex[\\\"brand\\\"] = lang.strip_non_word(regex.loc[:, \\\"brand\\\"])\\nregex = regex.loc[\\n    (~regex.brand.str.contains(\\\"\\\\s\\\", regex=True))\\n    & (regex.brand != \\\"various\\\")\\n    & (regex.brand.str.len() > 3)\\n]\\nregex[\\\"brand\\\"] = r\\\"^\\\" + regex.brand.map(re.escape) + r\\\"\\\\b\\\"\\nregex.head(20)\";\n                var nbb_cells = Jupyter.notebook.get_cells();\n                for (var i = 0; i < nbb_cells.length; ++i) {\n                    if (nbb_cells[i].input_prompt_number == nbb_cell_id) {\n                        if (nbb_cells[i].get_text() == nbb_unformatted_code) {\n                             nbb_cells[i].set_text(nbb_formatted_code);\n                        }\n                        break;\n                    }\n                }\n            }, 500);\n            ",
      "text/plain": [
       "<IPython.core.display.Javascript object>"
      ]
     },
     "metadata": {}
    }
   ],
   "metadata": {
    "ExecuteTime": {
     "end_time": "2021-09-11T05:26:38.907535Z",
     "start_time": "2021-09-11T05:25:10.382230Z"
    }
   }
  },
  {
   "cell_type": "code",
   "execution_count": 63,
   "source": [
    "no_brand = df.loc[df.brand.isna()]\r\n",
    "fillers = lang.locate_patterns(regex.brand.head(100), no_brand.title)\r\n",
    "fillers.sort_values()"
   ],
   "outputs": [
    {
     "output_type": "execute_result",
     "data": {
      "text/plain": [
       "asin\n",
       "B0174OFIZ6          acer\n",
       "B00005U2P0    activision\n",
       "B003DXAAPG        adidas\n",
       "B00L2N3EZC        adidas\n",
       "B00L2IPZ5Y        adidas\n",
       "                 ...    \n",
       "B00KMONWNG        vktech\n",
       "B00963S6TE        yamaha\n",
       "B004NT8VRS        yamaha\n",
       "B00IWKVSR4        yamaha\n",
       "B005M3JQ9Q        yamaha\n",
       "Name: locate_patterns, Length: 10418, dtype: object"
      ]
     },
     "metadata": {},
     "execution_count": 63
    },
    {
     "output_type": "display_data",
     "data": {
      "application/javascript": "\n            setTimeout(function() {\n                var nbb_cell_id = 63;\n                var nbb_unformatted_code = \"no_brand = df.loc[df.brand.isna()]\\nfillers = lang.locate_patterns(regex.brand.head(100), no_brand.title)\\nfillers.sort_values()\";\n                var nbb_formatted_code = \"no_brand = df.loc[df.brand.isna()]\\nfillers = lang.locate_patterns(regex.brand.head(100), no_brand.title)\\nfillers.sort_values()\";\n                var nbb_cells = Jupyter.notebook.get_cells();\n                for (var i = 0; i < nbb_cells.length; ++i) {\n                    if (nbb_cells[i].input_prompt_number == nbb_cell_id) {\n                        if (nbb_cells[i].get_text() == nbb_unformatted_code) {\n                             nbb_cells[i].set_text(nbb_formatted_code);\n                        }\n                        break;\n                    }\n                }\n            }, 500);\n            ",
      "text/plain": [
       "<IPython.core.display.Javascript object>"
      ]
     },
     "metadata": {}
    }
   ],
   "metadata": {
    "ExecuteTime": {
     "end_time": "2021-09-11T05:26:56.594098Z",
     "start_time": "2021-09-11T05:26:38.915532Z"
    }
   }
  },
  {
   "cell_type": "code",
   "execution_count": 64,
   "source": [
    "df.loc[fillers.index, \"brand\"] = fillers\r\n",
    "df.loc[fillers.index]"
   ],
   "outputs": [
    {
     "output_type": "execute_result",
     "data": {
      "text/html": [
       "<div>\n",
       "<style scoped>\n",
       "    .dataframe tbody tr th:only-of-type {\n",
       "        vertical-align: middle;\n",
       "    }\n",
       "\n",
       "    .dataframe tbody tr th {\n",
       "        vertical-align: top;\n",
       "    }\n",
       "\n",
       "    .dataframe thead th {\n",
       "        text-align: right;\n",
       "    }\n",
       "</style>\n",
       "<table border=\"1\" class=\"dataframe\">\n",
       "  <thead>\n",
       "    <tr style=\"text-align: right;\">\n",
       "      <th></th>\n",
       "      <th>description</th>\n",
       "      <th>title</th>\n",
       "      <th>brand</th>\n",
       "      <th>main_cat</th>\n",
       "    </tr>\n",
       "    <tr>\n",
       "      <th>asin</th>\n",
       "      <th></th>\n",
       "      <th></th>\n",
       "      <th></th>\n",
       "      <th></th>\n",
       "    </tr>\n",
       "  </thead>\n",
       "  <tbody>\n",
       "    <tr>\n",
       "      <th>0898983428</th>\n",
       "      <td>628 pages of incredible sheet music for piano ...</td>\n",
       "      <td>columbia's colossal fake book (f2332fbx)</td>\n",
       "      <td>columbia</td>\n",
       "      <td>books</td>\n",
       "    </tr>\n",
       "    <tr>\n",
       "      <th>1405288027</th>\n",
       "      <td>what would you do if you were famous? what's y...</td>\n",
       "      <td>lego (r) ninjago: book of secrets</td>\n",
       "      <td>lego</td>\n",
       "      <td>books</td>\n",
       "    </tr>\n",
       "    <tr>\n",
       "      <th>1423122607</th>\n",
       "      <td>#1 new york times bestselling author and illus...</td>\n",
       "      <td>disney princess collection (storybook collection)</td>\n",
       "      <td>disney</td>\n",
       "      <td>books</td>\n",
       "    </tr>\n",
       "    <tr>\n",
       "      <th>145081137X</th>\n",
       "      <td>the disney school years memory keeper is a stu...</td>\n",
       "      <td>disney school years memory keeper</td>\n",
       "      <td>disney</td>\n",
       "      <td>books</td>\n",
       "    </tr>\n",
       "    <tr>\n",
       "      <th>1455039608</th>\n",
       "      <td>your daughter will love this disney princess 1...</td>\n",
       "      <td>disney princess storybook library set (volumes...</td>\n",
       "      <td>disney</td>\n",
       "      <td>books</td>\n",
       "    </tr>\n",
       "    <tr>\n",
       "      <th>...</th>\n",
       "      <td>...</td>\n",
       "      <td>...</td>\n",
       "      <td>...</td>\n",
       "      <td>...</td>\n",
       "    </tr>\n",
       "    <tr>\n",
       "      <th>B01HILUTZO</th>\n",
       "      <td>the nike zoom lebron soldier 10 mens basketbal...</td>\n",
       "      <td>nike men's lebron 10 basketball shoe</td>\n",
       "      <td>nike</td>\n",
       "      <td>amazon fashion</td>\n",
       "    </tr>\n",
       "    <tr>\n",
       "      <th>B01HIMR5E6</th>\n",
       "      <td>the adidas® kids altarun boosts style and perf...</td>\n",
       "      <td>adidas kids womens altarun (little kid/big kid)</td>\n",
       "      <td>adidas</td>\n",
       "      <td>amazon fashion</td>\n",
       "    </tr>\n",
       "    <tr>\n",
       "      <th>B01HINBHRG</th>\n",
       "      <td>from the playground to the court, have them re...</td>\n",
       "      <td>adidas kids' altasport running shoe</td>\n",
       "      <td>adidas</td>\n",
       "      <td>amazon fashion</td>\n",
       "    </tr>\n",
       "    <tr>\n",
       "      <th>B01HIXUOUW</th>\n",
       "      <td>bring an all-time great to the skate park with...</td>\n",
       "      <td>adidas skateboarding mens samba adv</td>\n",
       "      <td>adidas</td>\n",
       "      <td>amazon fashion</td>\n",
       "    </tr>\n",
       "    <tr>\n",
       "      <th>B01HJ09W8E</th>\n",
       "      <td>cut to the chase with the retro style of the a...</td>\n",
       "      <td>adidas skateboarding mens skate adv</td>\n",
       "      <td>adidas</td>\n",
       "      <td>amazon fashion</td>\n",
       "    </tr>\n",
       "  </tbody>\n",
       "</table>\n",
       "<p>10418 rows × 4 columns</p>\n",
       "</div>"
      ],
      "text/plain": [
       "                                                  description  \\\n",
       "asin                                                            \n",
       "0898983428  628 pages of incredible sheet music for piano ...   \n",
       "1405288027  what would you do if you were famous? what's y...   \n",
       "1423122607  #1 new york times bestselling author and illus...   \n",
       "145081137X  the disney school years memory keeper is a stu...   \n",
       "1455039608  your daughter will love this disney princess 1...   \n",
       "...                                                       ...   \n",
       "B01HILUTZO  the nike zoom lebron soldier 10 mens basketbal...   \n",
       "B01HIMR5E6  the adidas® kids altarun boosts style and perf...   \n",
       "B01HINBHRG  from the playground to the court, have them re...   \n",
       "B01HIXUOUW  bring an all-time great to the skate park with...   \n",
       "B01HJ09W8E  cut to the chase with the retro style of the a...   \n",
       "\n",
       "                                                        title     brand  \\\n",
       "asin                                                                      \n",
       "0898983428           columbia's colossal fake book (f2332fbx)  columbia   \n",
       "1405288027                  lego (r) ninjago: book of secrets      lego   \n",
       "1423122607  disney princess collection (storybook collection)    disney   \n",
       "145081137X                  disney school years memory keeper    disney   \n",
       "1455039608  disney princess storybook library set (volumes...    disney   \n",
       "...                                                       ...       ...   \n",
       "B01HILUTZO               nike men's lebron 10 basketball shoe      nike   \n",
       "B01HIMR5E6    adidas kids womens altarun (little kid/big kid)    adidas   \n",
       "B01HINBHRG                adidas kids' altasport running shoe    adidas   \n",
       "B01HIXUOUW                adidas skateboarding mens samba adv    adidas   \n",
       "B01HJ09W8E                adidas skateboarding mens skate adv    adidas   \n",
       "\n",
       "                  main_cat  \n",
       "asin                        \n",
       "0898983428           books  \n",
       "1405288027           books  \n",
       "1423122607           books  \n",
       "145081137X           books  \n",
       "1455039608           books  \n",
       "...                    ...  \n",
       "B01HILUTZO  amazon fashion  \n",
       "B01HIMR5E6  amazon fashion  \n",
       "B01HINBHRG  amazon fashion  \n",
       "B01HIXUOUW  amazon fashion  \n",
       "B01HJ09W8E  amazon fashion  \n",
       "\n",
       "[10418 rows x 4 columns]"
      ]
     },
     "metadata": {},
     "execution_count": 64
    },
    {
     "output_type": "display_data",
     "data": {
      "application/javascript": "\n            setTimeout(function() {\n                var nbb_cell_id = 64;\n                var nbb_unformatted_code = \"df.loc[fillers.index, \\\"brand\\\"] = fillers\\ndf.loc[fillers.index]\";\n                var nbb_formatted_code = \"df.loc[fillers.index, \\\"brand\\\"] = fillers\\ndf.loc[fillers.index]\";\n                var nbb_cells = Jupyter.notebook.get_cells();\n                for (var i = 0; i < nbb_cells.length; ++i) {\n                    if (nbb_cells[i].input_prompt_number == nbb_cell_id) {\n                        if (nbb_cells[i].get_text() == nbb_unformatted_code) {\n                             nbb_cells[i].set_text(nbb_formatted_code);\n                        }\n                        break;\n                    }\n                }\n            }, 500);\n            ",
      "text/plain": [
       "<IPython.core.display.Javascript object>"
      ]
     },
     "metadata": {}
    }
   ],
   "metadata": {
    "ExecuteTime": {
     "end_time": "2021-09-11T05:26:56.881128Z",
     "start_time": "2021-09-11T05:26:56.601107Z"
    }
   }
  },
  {
   "cell_type": "code",
   "execution_count": 65,
   "source": [
    "df.isna().sum()"
   ],
   "outputs": [
    {
     "output_type": "execute_result",
     "data": {
      "text/plain": [
       "description         0\n",
       "title               0\n",
       "brand          161267\n",
       "main_cat            0\n",
       "dtype: int64"
      ]
     },
     "metadata": {},
     "execution_count": 65
    },
    {
     "output_type": "display_data",
     "data": {
      "application/javascript": "\n            setTimeout(function() {\n                var nbb_cell_id = 65;\n                var nbb_unformatted_code = \"df.isna().sum()\";\n                var nbb_formatted_code = \"df.isna().sum()\";\n                var nbb_cells = Jupyter.notebook.get_cells();\n                for (var i = 0; i < nbb_cells.length; ++i) {\n                    if (nbb_cells[i].input_prompt_number == nbb_cell_id) {\n                        if (nbb_cells[i].get_text() == nbb_unformatted_code) {\n                             nbb_cells[i].set_text(nbb_formatted_code);\n                        }\n                        break;\n                    }\n                }\n            }, 500);\n            ",
      "text/plain": [
       "<IPython.core.display.Javascript object>"
      ]
     },
     "metadata": {}
    }
   ],
   "metadata": {
    "ExecuteTime": {
     "end_time": "2021-09-11T05:26:57.727098Z",
     "start_time": "2021-09-11T05:26:56.885098Z"
    }
   }
  },
  {
   "cell_type": "code",
   "execution_count": 66,
   "source": [
    "no_brand = df.isna().groupby(df.main_cat).sum()[[\"brand\"]]\r\n",
    "no_brand[\"support\"] = df.main_cat.value_counts()\r\n",
    "no_brand = no_brand.rename(columns={\"brand\": \"null_brand\"})\r\n",
    "no_brand[\"frac_null\"] = no_brand[\"null_brand\"] / no_brand[\"support\"]\r\n",
    "no_brand.sort_values(\"frac_null\", ascending=False).head(10).style.bar(\"frac_null\")"
   ],
   "outputs": [
    {
     "output_type": "execute_result",
     "data": {
      "text/html": [
       "<style  type=\"text/css\" >\n",
       "#T_759fb_row0_col2{\n",
       "            width:  10em;\n",
       "             height:  80%;\n",
       "            background:  linear-gradient(90deg,#d65f5f 100.0%, transparent 100.0%);\n",
       "        }#T_759fb_row1_col2{\n",
       "            width:  10em;\n",
       "             height:  80%;\n",
       "            background:  linear-gradient(90deg,#d65f5f 99.9%, transparent 99.9%);\n",
       "        }#T_759fb_row2_col2{\n",
       "            width:  10em;\n",
       "             height:  80%;\n",
       "            background:  linear-gradient(90deg,#d65f5f 99.3%, transparent 99.3%);\n",
       "        }#T_759fb_row3_col2{\n",
       "            width:  10em;\n",
       "             height:  80%;\n",
       "            background:  linear-gradient(90deg,#d65f5f 66.2%, transparent 66.2%);\n",
       "        }#T_759fb_row4_col2{\n",
       "            width:  10em;\n",
       "             height:  80%;\n",
       "            background:  linear-gradient(90deg,#d65f5f 25.2%, transparent 25.2%);\n",
       "        }#T_759fb_row5_col2{\n",
       "            width:  10em;\n",
       "             height:  80%;\n",
       "            background:  linear-gradient(90deg,#d65f5f 22.8%, transparent 22.8%);\n",
       "        }#T_759fb_row6_col2{\n",
       "            width:  10em;\n",
       "             height:  80%;\n",
       "            background:  linear-gradient(90deg,#d65f5f 5.9%, transparent 5.9%);\n",
       "        }#T_759fb_row7_col2{\n",
       "            width:  10em;\n",
       "             height:  80%;\n",
       "            background:  linear-gradient(90deg,#d65f5f 3.7%, transparent 3.7%);\n",
       "        }#T_759fb_row8_col2{\n",
       "            width:  10em;\n",
       "             height:  80%;\n",
       "            background:  linear-gradient(90deg,#d65f5f 3.5%, transparent 3.5%);\n",
       "        }#T_759fb_row9_col2{\n",
       "            width:  10em;\n",
       "             height:  80%;\n",
       "        }</style><table id=\"T_759fb_\" ><thead>    <tr>        <th class=\"blank level0\" ></th>        <th class=\"col_heading level0 col0\" >null_brand</th>        <th class=\"col_heading level0 col1\" >support</th>        <th class=\"col_heading level0 col2\" >frac_null</th>    </tr>    <tr>        <th class=\"index_name level0\" >main_cat</th>        <th class=\"blank\" ></th>        <th class=\"blank\" ></th>        <th class=\"blank\" ></th>    </tr></thead><tbody>\n",
       "                <tr>\n",
       "                        <th id=\"T_759fb_level0_row0\" class=\"row_heading level0 row0\" >fine art</th>\n",
       "                        <td id=\"T_759fb_row0_col0\" class=\"data row0 col0\" >280</td>\n",
       "                        <td id=\"T_759fb_row0_col1\" class=\"data row0 col1\" >280</td>\n",
       "                        <td id=\"T_759fb_row0_col2\" class=\"data row0 col2\" >1.000000</td>\n",
       "            </tr>\n",
       "            <tr>\n",
       "                        <th id=\"T_759fb_level0_row1\" class=\"row_heading level0 row1\" >luxury beauty</th>\n",
       "                        <td id=\"T_759fb_row1_col0\" class=\"data row1 col0\" >6623</td>\n",
       "                        <td id=\"T_759fb_row1_col1\" class=\"data row1 col1\" >6631</td>\n",
       "                        <td id=\"T_759fb_row1_col2\" class=\"data row1 col2\" >0.998794</td>\n",
       "            </tr>\n",
       "            <tr>\n",
       "                        <th id=\"T_759fb_level0_row2\" class=\"row_heading level0 row2\" >handmade</th>\n",
       "                        <td id=\"T_759fb_row2_col0\" class=\"data row2 col0\" >2212</td>\n",
       "                        <td id=\"T_759fb_row2_col1\" class=\"data row2 col1\" >2227</td>\n",
       "                        <td id=\"T_759fb_row2_col2\" class=\"data row2 col2\" >0.993264</td>\n",
       "            </tr>\n",
       "            <tr>\n",
       "                        <th id=\"T_759fb_level0_row3\" class=\"row_heading level0 row3\" >magazine subscriptions</th>\n",
       "                        <td id=\"T_759fb_row3_col0\" class=\"data row3 col0\" >2</td>\n",
       "                        <td id=\"T_759fb_row3_col1\" class=\"data row3 col1\" >3</td>\n",
       "                        <td id=\"T_759fb_row3_col2\" class=\"data row3 col2\" >0.666667</td>\n",
       "            </tr>\n",
       "            <tr>\n",
       "                        <th id=\"T_759fb_level0_row4\" class=\"row_heading level0 row4\" >movies & tv</th>\n",
       "                        <td id=\"T_759fb_row4_col0\" class=\"data row4 col0\" >22979</td>\n",
       "                        <td id=\"T_759fb_row4_col1\" class=\"data row4 col1\" >87791</td>\n",
       "                        <td id=\"T_759fb_row4_col2\" class=\"data row4 col2\" >0.261747</td>\n",
       "            </tr>\n",
       "            <tr>\n",
       "                        <th id=\"T_759fb_level0_row5\" class=\"row_heading level0 row5\" >amazon fashion</th>\n",
       "                        <td id=\"T_759fb_row5_col0\" class=\"data row5 col0\" >107538</td>\n",
       "                        <td id=\"T_759fb_row5_col1\" class=\"data row5 col1\" >451819</td>\n",
       "                        <td id=\"T_759fb_row5_col2\" class=\"data row5 col2\" >0.238011</td>\n",
       "            </tr>\n",
       "            <tr>\n",
       "                        <th id=\"T_759fb_level0_row6\" class=\"row_heading level0 row6\" >gift cards</th>\n",
       "                        <td id=\"T_759fb_row6_col0\" class=\"data row6 col0\" >10</td>\n",
       "                        <td id=\"T_759fb_row6_col1\" class=\"data row6 col1\" >140</td>\n",
       "                        <td id=\"T_759fb_row6_col2\" class=\"data row6 col2\" >0.071429</td>\n",
       "            </tr>\n",
       "            <tr>\n",
       "                        <th id=\"T_759fb_level0_row7\" class=\"row_heading level0 row7\" >all beauty</th>\n",
       "                        <td id=\"T_759fb_row7_col0\" class=\"data row7 col0\" >504</td>\n",
       "                        <td id=\"T_759fb_row7_col1\" class=\"data row7 col1\" >10187</td>\n",
       "                        <td id=\"T_759fb_row7_col2\" class=\"data row7 col2\" >0.049475</td>\n",
       "            </tr>\n",
       "            <tr>\n",
       "                        <th id=\"T_759fb_level0_row8\" class=\"row_heading level0 row8\" >collectibles & fine art</th>\n",
       "                        <td id=\"T_759fb_row8_col0\" class=\"data row8 col0\" >45</td>\n",
       "                        <td id=\"T_759fb_row8_col1\" class=\"data row8 col1\" >952</td>\n",
       "                        <td id=\"T_759fb_row8_col2\" class=\"data row8 col2\" >0.047269</td>\n",
       "            </tr>\n",
       "            <tr>\n",
       "                        <th id=\"T_759fb_level0_row9\" class=\"row_heading level0 row9\" >sports & outdoors</th>\n",
       "                        <td id=\"T_759fb_row9_col0\" class=\"data row9 col0\" >3115</td>\n",
       "                        <td id=\"T_759fb_row9_col1\" class=\"data row9 col1\" >239447</td>\n",
       "                        <td id=\"T_759fb_row9_col2\" class=\"data row9 col2\" >0.013009</td>\n",
       "            </tr>\n",
       "    </tbody></table>"
      ],
      "text/plain": [
       "<pandas.io.formats.style.Styler at 0x14f2b915910>"
      ]
     },
     "metadata": {},
     "execution_count": 66
    },
    {
     "output_type": "display_data",
     "data": {
      "application/javascript": "\n            setTimeout(function() {\n                var nbb_cell_id = 66;\n                var nbb_unformatted_code = \"no_brand = df.isna().groupby(df.main_cat).sum()[[\\\"brand\\\"]]\\nno_brand[\\\"support\\\"] = df.main_cat.value_counts()\\nno_brand = no_brand.rename(columns={\\\"brand\\\": \\\"null_brand\\\"})\\nno_brand[\\\"frac_null\\\"] = no_brand[\\\"null_brand\\\"] / no_brand[\\\"support\\\"]\\nno_brand.sort_values(\\\"frac_null\\\", ascending=False).head(10).style.bar(\\\"frac_null\\\")\";\n                var nbb_formatted_code = \"no_brand = df.isna().groupby(df.main_cat).sum()[[\\\"brand\\\"]]\\nno_brand[\\\"support\\\"] = df.main_cat.value_counts()\\nno_brand = no_brand.rename(columns={\\\"brand\\\": \\\"null_brand\\\"})\\nno_brand[\\\"frac_null\\\"] = no_brand[\\\"null_brand\\\"] / no_brand[\\\"support\\\"]\\nno_brand.sort_values(\\\"frac_null\\\", ascending=False).head(10).style.bar(\\\"frac_null\\\")\";\n                var nbb_cells = Jupyter.notebook.get_cells();\n                for (var i = 0; i < nbb_cells.length; ++i) {\n                    if (nbb_cells[i].input_prompt_number == nbb_cell_id) {\n                        if (nbb_cells[i].get_text() == nbb_unformatted_code) {\n                             nbb_cells[i].set_text(nbb_formatted_code);\n                        }\n                        break;\n                    }\n                }\n            }, 500);\n            ",
      "text/plain": [
       "<IPython.core.display.Javascript object>"
      ]
     },
     "metadata": {}
    }
   ],
   "metadata": {
    "ExecuteTime": {
     "end_time": "2021-09-11T05:26:58.734862Z",
     "start_time": "2021-09-11T05:26:57.733099Z"
    }
   }
  },
  {
   "cell_type": "code",
   "execution_count": 67,
   "source": [
    "df.loc[df.brand.isna(), \"brand\"] = \"\"\r\n",
    "df.brand.value_counts().head(10)"
   ],
   "outputs": [
    {
     "output_type": "execute_result",
     "data": {
      "text/plain": [
       "                        161267\n",
       "generic                  10190\n",
       "yu-gi-oh!                 7072\n",
       "magic: the gathering      6475\n",
       "invicta                   6021\n",
       "nike                      5811\n",
       "sony                      5379\n",
       "adidas                    5079\n",
       "amazon collection         4839\n",
       "various artists           4610\n",
       "Name: brand, dtype: int64"
      ]
     },
     "metadata": {},
     "execution_count": 67
    },
    {
     "output_type": "display_data",
     "data": {
      "application/javascript": "\n            setTimeout(function() {\n                var nbb_cell_id = 67;\n                var nbb_unformatted_code = \"df.loc[df.brand.isna(), \\\"brand\\\"] = \\\"\\\"\\ndf.brand.value_counts().head(10)\";\n                var nbb_formatted_code = \"df.loc[df.brand.isna(), \\\"brand\\\"] = \\\"\\\"\\ndf.brand.value_counts().head(10)\";\n                var nbb_cells = Jupyter.notebook.get_cells();\n                for (var i = 0; i < nbb_cells.length; ++i) {\n                    if (nbb_cells[i].input_prompt_number == nbb_cell_id) {\n                        if (nbb_cells[i].get_text() == nbb_unformatted_code) {\n                             nbb_cells[i].set_text(nbb_formatted_code);\n                        }\n                        break;\n                    }\n                }\n            }, 500);\n            ",
      "text/plain": [
       "<IPython.core.display.Javascript object>"
      ]
     },
     "metadata": {}
    }
   ],
   "metadata": {
    "ExecuteTime": {
     "end_time": "2021-09-11T05:27:00.339443Z",
     "start_time": "2021-09-11T05:26:58.755386Z"
    }
   }
  },
  {
   "cell_type": "markdown",
   "source": [
    "## Revisiting Class Balance"
   ],
   "metadata": {}
  },
  {
   "cell_type": "code",
   "execution_count": 68,
   "source": [
    "df = utils.prune_categories(df, \"main_cat\", cut=100)"
   ],
   "outputs": [
    {
     "output_type": "stream",
     "name": "stdout",
     "text": [
      "                                Status  Support\n",
      "books                         retained   879359\n",
      "amazon home                   retained   480704\n",
      "amazon fashion                retained   451819\n",
      "sports & outdoors             retained   239447\n",
      "tools & home improvement      retained   202021\n",
      "toys & games                  retained   199664\n",
      "automotive                    retained   187736\n",
      "grocery                       retained   144866\n",
      "cell phones & accessories     retained   133852\n",
      "computers                     retained    91048\n",
      "movies & tv                   retained    87791\n",
      "digital music                 retained    83154\n",
      "office products               retained    69175\n",
      "all electronics               retained    66592\n",
      "pet supplies                  retained    61123\n",
      "industrial & scientific       retained    58771\n",
      "arts, crafts & sewing         retained    57123\n",
      "camera & photo                retained    54676\n",
      "musical instruments           retained    43259\n",
      "home audio & theater          retained    43249\n",
      "video games                   retained    25774\n",
      "health & personal care        retained    21509\n",
      "baby                          retained    12245\n",
      "software                      retained    11529\n",
      "car electronics               retained    10730\n",
      "all beauty                    retained    10187\n",
      "luxury beauty                 retained     6631\n",
      "prime pantry                  retained     5061\n",
      "gps & navigation              retained     3012\n",
      "appliances                    retained     2804\n",
      "portable audio & accessories  retained     2606\n",
      "handmade                      retained     2227\n",
      "collectibles & fine art       retained      952\n",
      "fine art                      retained      280\n",
      "amazon devices                retained      185\n",
      "gift cards                    retained      140\n",
      "magazine subscriptions         dropped        3\n"
     ]
    },
    {
     "output_type": "display_data",
     "data": {
      "application/javascript": "\n            setTimeout(function() {\n                var nbb_cell_id = 68;\n                var nbb_unformatted_code = \"df = utils.prune_categories(df, \\\"main_cat\\\", cut=100)\";\n                var nbb_formatted_code = \"df = utils.prune_categories(df, \\\"main_cat\\\", cut=100)\";\n                var nbb_cells = Jupyter.notebook.get_cells();\n                for (var i = 0; i < nbb_cells.length; ++i) {\n                    if (nbb_cells[i].input_prompt_number == nbb_cell_id) {\n                        if (nbb_cells[i].get_text() == nbb_unformatted_code) {\n                             nbb_cells[i].set_text(nbb_formatted_code);\n                        }\n                        break;\n                    }\n                }\n            }, 500);\n            ",
      "text/plain": [
       "<IPython.core.display.Javascript object>"
      ]
     },
     "metadata": {}
    }
   ],
   "metadata": {
    "ExecuteTime": {
     "end_time": "2021-09-11T05:27:01.365195Z",
     "start_time": "2021-09-11T05:27:00.346446Z"
    }
   }
  },
  {
   "cell_type": "code",
   "execution_count": 69,
   "source": [
    "data_checkpoint(df, \"data/brand_checkpoint\")"
   ],
   "outputs": [
    {
     "output_type": "stream",
     "name": "stdout",
     "text": [
      "Overwriting...\n",
      "36 files created.\n"
     ]
    },
    {
     "output_type": "display_data",
     "data": {
      "application/javascript": "\n            setTimeout(function() {\n                var nbb_cell_id = 69;\n                var nbb_unformatted_code = \"data_checkpoint(df, \\\"data/brand_checkpoint\\\")\";\n                var nbb_formatted_code = \"data_checkpoint(df, \\\"data/brand_checkpoint\\\")\";\n                var nbb_cells = Jupyter.notebook.get_cells();\n                for (var i = 0; i < nbb_cells.length; ++i) {\n                    if (nbb_cells[i].input_prompt_number == nbb_cell_id) {\n                        if (nbb_cells[i].get_text() == nbb_unformatted_code) {\n                             nbb_cells[i].set_text(nbb_formatted_code);\n                        }\n                        break;\n                    }\n                }\n            }, 500);\n            ",
      "text/plain": [
       "<IPython.core.display.Javascript object>"
      ]
     },
     "metadata": {}
    }
   ],
   "metadata": {
    "ExecuteTime": {
     "end_time": "2021-09-11T05:28:23.219843Z",
     "start_time": "2021-09-11T05:27:01.374193Z"
    }
   }
  },
  {
   "cell_type": "markdown",
   "source": [
    "# Adding 'feature' text"
   ],
   "metadata": {}
  },
  {
   "cell_type": "code",
   "execution_count": 3,
   "source": [
    "df = pd.read_parquet(\"data/brand_checkpoint\", engine=\"pyarrow\")\r\n",
    "df.head()"
   ],
   "outputs": [
    {
     "output_type": "execute_result",
     "data": {
      "text/html": [
       "<div>\n",
       "<style scoped>\n",
       "    .dataframe tbody tr th:only-of-type {\n",
       "        vertical-align: middle;\n",
       "    }\n",
       "\n",
       "    .dataframe tbody tr th {\n",
       "        vertical-align: top;\n",
       "    }\n",
       "\n",
       "    .dataframe thead th {\n",
       "        text-align: right;\n",
       "    }\n",
       "</style>\n",
       "<table border=\"1\" class=\"dataframe\">\n",
       "  <thead>\n",
       "    <tr style=\"text-align: right;\">\n",
       "      <th></th>\n",
       "      <th>description</th>\n",
       "      <th>title</th>\n",
       "      <th>brand</th>\n",
       "      <th>main_cat</th>\n",
       "    </tr>\n",
       "    <tr>\n",
       "      <th>asin</th>\n",
       "      <th></th>\n",
       "      <th></th>\n",
       "      <th></th>\n",
       "      <th></th>\n",
       "    </tr>\n",
       "  </thead>\n",
       "  <tbody>\n",
       "    <tr>\n",
       "      <th>B00APG79QM</th>\n",
       "      <td>100% cotton pillow protectors effectively bloc...</td>\n",
       "      <td>temporary hair chalk - non-toxic rainbow color...</td>\n",
       "      <td>sysrion</td>\n",
       "      <td>all beauty</td>\n",
       "    </tr>\n",
       "    <tr>\n",
       "      <th>B00CZH3FGM</th>\n",
       "      <td>view larger prepare to flash a brighter, white...</td>\n",
       "      <td>crest + oral-b professional whitening kit, 1 c...</td>\n",
       "      <td>crest</td>\n",
       "      <td>all beauty</td>\n",
       "    </tr>\n",
       "    <tr>\n",
       "      <th>B000KMCSG2</th>\n",
       "      <td>the limited edition philips norelco smarttouch...</td>\n",
       "      <td>philips norelco 9199xl limited edition formula...</td>\n",
       "      <td>philips norelco</td>\n",
       "      <td>all beauty</td>\n",
       "    </tr>\n",
       "    <tr>\n",
       "      <th>B001E0C9LI</th>\n",
       "      <td>the all-over bodygrooming system, with specifi...</td>\n",
       "      <td>philips norelco bg2030 professional bodygroomi...</td>\n",
       "      <td>philips norelco</td>\n",
       "      <td>all beauty</td>\n",
       "    </tr>\n",
       "    <tr>\n",
       "      <th>B0000530SM</th>\n",
       "      <td>premium whitening toothpaste with fluoride fre...</td>\n",
       "      <td>rembrandt dazzling white toothpaste - mint, (5...</td>\n",
       "      <td>rembrandt</td>\n",
       "      <td>all beauty</td>\n",
       "    </tr>\n",
       "  </tbody>\n",
       "</table>\n",
       "</div>"
      ],
      "text/plain": [
       "                                                  description  \\\n",
       "asin                                                            \n",
       "B00APG79QM  100% cotton pillow protectors effectively bloc...   \n",
       "B00CZH3FGM  view larger prepare to flash a brighter, white...   \n",
       "B000KMCSG2  the limited edition philips norelco smarttouch...   \n",
       "B001E0C9LI  the all-over bodygrooming system, with specifi...   \n",
       "B0000530SM  premium whitening toothpaste with fluoride fre...   \n",
       "\n",
       "                                                        title  \\\n",
       "asin                                                            \n",
       "B00APG79QM  temporary hair chalk - non-toxic rainbow color...   \n",
       "B00CZH3FGM  crest + oral-b professional whitening kit, 1 c...   \n",
       "B000KMCSG2  philips norelco 9199xl limited edition formula...   \n",
       "B001E0C9LI  philips norelco bg2030 professional bodygroomi...   \n",
       "B0000530SM  rembrandt dazzling white toothpaste - mint, (5...   \n",
       "\n",
       "                      brand    main_cat  \n",
       "asin                                     \n",
       "B00APG79QM          sysrion  all beauty  \n",
       "B00CZH3FGM            crest  all beauty  \n",
       "B000KMCSG2  philips norelco  all beauty  \n",
       "B001E0C9LI  philips norelco  all beauty  \n",
       "B0000530SM        rembrandt  all beauty  "
      ]
     },
     "metadata": {},
     "execution_count": 3
    },
    {
     "output_type": "display_data",
     "data": {
      "application/javascript": "\n            setTimeout(function() {\n                var nbb_cell_id = 3;\n                var nbb_unformatted_code = \"df = pd.read_parquet(\\\"data/brand_checkpoint\\\", engine=\\\"pyarrow\\\")\\ndf.head()\";\n                var nbb_formatted_code = \"df = pd.read_parquet(\\\"data/brand_checkpoint\\\", engine=\\\"pyarrow\\\")\\ndf.head()\";\n                var nbb_cells = Jupyter.notebook.get_cells();\n                for (var i = 0; i < nbb_cells.length; ++i) {\n                    if (nbb_cells[i].input_prompt_number == nbb_cell_id) {\n                        if (nbb_cells[i].get_text() == nbb_unformatted_code) {\n                             nbb_cells[i].set_text(nbb_formatted_code);\n                        }\n                        break;\n                    }\n                }\n            }, 500);\n            ",
      "text/plain": [
       "<IPython.core.display.Javascript object>"
      ]
     },
     "metadata": {}
    }
   ],
   "metadata": {
    "ExecuteTime": {
     "end_time": "2021-09-11T06:19:56.864061Z",
     "start_time": "2021-09-11T06:19:46.129768Z"
    },
    "scrolled": true
   }
  },
  {
   "cell_type": "code",
   "execution_count": 4,
   "source": [
    "feat = dd.read_parquet(\r\n",
    "    \"data/amazon_raw\", columns=\"feature\", index=\"asin\", engine=\"pyarrow\"\r\n",
    ")\r\n",
    "feat = feat.loc[feat.index.isin(df.index)].str.join(\" \")\r\n",
    "feat.head()"
   ],
   "outputs": [
    {
     "output_type": "execute_result",
     "data": {
      "text/plain": [
       "asin\n",
       "6305121869    Import Versatile Occasions - Great for Daily,C...\n",
       "6318708057    100% Spandex Order Larger If You are Between S...\n",
       "6342506256    Cotton Zipper closure Material:100% cotton Zip...\n",
       "6342509379    Denim Zipper closure Material: cotton Style: h...\n",
       "6342522081    Material: Polycarbonate Main features: Windpro...\n",
       "Name: feature, dtype: object"
      ]
     },
     "metadata": {},
     "execution_count": 4
    },
    {
     "output_type": "display_data",
     "data": {
      "application/javascript": "\n            setTimeout(function() {\n                var nbb_cell_id = 4;\n                var nbb_unformatted_code = \"feat = dd.read_parquet(\\n    \\\"data/amazon_raw\\\", columns=\\\"feature\\\", index=\\\"asin\\\", engine=\\\"pyarrow\\\"\\n)\\nfeat = feat.loc[feat.index.isin(df.index)].str.join(\\\" \\\")\\nfeat.head()\";\n                var nbb_formatted_code = \"feat = dd.read_parquet(\\n    \\\"data/amazon_raw\\\", columns=\\\"feature\\\", index=\\\"asin\\\", engine=\\\"pyarrow\\\"\\n)\\nfeat = feat.loc[feat.index.isin(df.index)].str.join(\\\" \\\")\\nfeat.head()\";\n                var nbb_cells = Jupyter.notebook.get_cells();\n                for (var i = 0; i < nbb_cells.length; ++i) {\n                    if (nbb_cells[i].input_prompt_number == nbb_cell_id) {\n                        if (nbb_cells[i].get_text() == nbb_unformatted_code) {\n                             nbb_cells[i].set_text(nbb_formatted_code);\n                        }\n                        break;\n                    }\n                }\n            }, 500);\n            ",
      "text/plain": [
       "<IPython.core.display.Javascript object>"
      ]
     },
     "metadata": {}
    }
   ],
   "metadata": {
    "ExecuteTime": {
     "end_time": "2021-09-11T06:20:06.393204Z",
     "start_time": "2021-09-11T06:19:56.866060Z"
    },
    "run_control": {
     "marked": false
    }
   }
  },
  {
   "cell_type": "code",
   "execution_count": 5,
   "source": [
    "df = pd.merge(df, feat.compute(), left_index=True, right_index=True, copy=False)\r\n",
    "df.head()"
   ],
   "outputs": [
    {
     "output_type": "execute_result",
     "data": {
      "text/html": [
       "<div>\n",
       "<style scoped>\n",
       "    .dataframe tbody tr th:only-of-type {\n",
       "        vertical-align: middle;\n",
       "    }\n",
       "\n",
       "    .dataframe tbody tr th {\n",
       "        vertical-align: top;\n",
       "    }\n",
       "\n",
       "    .dataframe thead th {\n",
       "        text-align: right;\n",
       "    }\n",
       "</style>\n",
       "<table border=\"1\" class=\"dataframe\">\n",
       "  <thead>\n",
       "    <tr style=\"text-align: right;\">\n",
       "      <th></th>\n",
       "      <th>description</th>\n",
       "      <th>title</th>\n",
       "      <th>brand</th>\n",
       "      <th>main_cat</th>\n",
       "      <th>feature</th>\n",
       "    </tr>\n",
       "    <tr>\n",
       "      <th>asin</th>\n",
       "      <th></th>\n",
       "      <th></th>\n",
       "      <th></th>\n",
       "      <th></th>\n",
       "      <th></th>\n",
       "    </tr>\n",
       "  </thead>\n",
       "  <tbody>\n",
       "    <tr>\n",
       "      <th>0000044806</th>\n",
       "      <td>ayurveda holds secrets for all our skin proble...</td>\n",
       "      <td>medimix ayurvedic facewash - 100 ml (pack of 2)</td>\n",
       "      <td>medimix</td>\n",
       "      <td>health &amp; personal care</td>\n",
       "      <td>None</td>\n",
       "    </tr>\n",
       "    <tr>\n",
       "      <th>0000060259</th>\n",
       "      <td>if you feel that applying powder kumkum is tir...</td>\n",
       "      <td>lakme jewel sindoor (maroon) - pack of 2</td>\n",
       "      <td>lakme</td>\n",
       "      <td>health &amp; personal care</td>\n",
       "      <td>None</td>\n",
       "    </tr>\n",
       "    <tr>\n",
       "      <th>0000098906</th>\n",
       "      <td>frog - rubbing its spine with the wooden stick...</td>\n",
       "      <td>wooden percussion 3 piece set frog, cricket an...</td>\n",
       "      <td>wadsuwan shop</td>\n",
       "      <td>musical instruments</td>\n",
       "      <td>Wood percussion Small 3 inches Creates origina...</td>\n",
       "    </tr>\n",
       "    <tr>\n",
       "      <th>0000143502</th>\n",
       "      <td>rise and swine (good eats vol. 7) includes bon...</td>\n",
       "      <td>rise and swine (good eats vol. 7)</td>\n",
       "      <td>alton brown</td>\n",
       "      <td>movies &amp; tv</td>\n",
       "      <td>None</td>\n",
       "    </tr>\n",
       "    <tr>\n",
       "      <th>0000143529</th>\n",
       "      <td>disc 1: flour power (scones; shortcakes; south...</td>\n",
       "      <td>my fair pastry (good eats vol. 9)</td>\n",
       "      <td>alton brown</td>\n",
       "      <td>movies &amp; tv</td>\n",
       "      <td>None</td>\n",
       "    </tr>\n",
       "  </tbody>\n",
       "</table>\n",
       "</div>"
      ],
      "text/plain": [
       "                                                  description  \\\n",
       "asin                                                            \n",
       "0000044806  ayurveda holds secrets for all our skin proble...   \n",
       "0000060259  if you feel that applying powder kumkum is tir...   \n",
       "0000098906  frog - rubbing its spine with the wooden stick...   \n",
       "0000143502  rise and swine (good eats vol. 7) includes bon...   \n",
       "0000143529  disc 1: flour power (scones; shortcakes; south...   \n",
       "\n",
       "                                                        title          brand  \\\n",
       "asin                                                                           \n",
       "0000044806    medimix ayurvedic facewash - 100 ml (pack of 2)        medimix   \n",
       "0000060259           lakme jewel sindoor (maroon) - pack of 2          lakme   \n",
       "0000098906  wooden percussion 3 piece set frog, cricket an...  wadsuwan shop   \n",
       "0000143502                  rise and swine (good eats vol. 7)    alton brown   \n",
       "0000143529                  my fair pastry (good eats vol. 9)    alton brown   \n",
       "\n",
       "                          main_cat  \\\n",
       "asin                                 \n",
       "0000044806  health & personal care   \n",
       "0000060259  health & personal care   \n",
       "0000098906     musical instruments   \n",
       "0000143502             movies & tv   \n",
       "0000143529             movies & tv   \n",
       "\n",
       "                                                      feature  \n",
       "asin                                                           \n",
       "0000044806                                               None  \n",
       "0000060259                                               None  \n",
       "0000098906  Wood percussion Small 3 inches Creates origina...  \n",
       "0000143502                                               None  \n",
       "0000143529                                               None  "
      ]
     },
     "metadata": {},
     "execution_count": 5
    },
    {
     "output_type": "display_data",
     "data": {
      "application/javascript": "\n            setTimeout(function() {\n                var nbb_cell_id = 5;\n                var nbb_unformatted_code = \"df = pd.merge(df, feat.compute(), left_index=True, right_index=True, copy=False)\\ndf.head()\";\n                var nbb_formatted_code = \"df = pd.merge(df, feat.compute(), left_index=True, right_index=True, copy=False)\\ndf.head()\";\n                var nbb_cells = Jupyter.notebook.get_cells();\n                for (var i = 0; i < nbb_cells.length; ++i) {\n                    if (nbb_cells[i].input_prompt_number == nbb_cell_id) {\n                        if (nbb_cells[i].get_text() == nbb_unformatted_code) {\n                             nbb_cells[i].set_text(nbb_formatted_code);\n                        }\n                        break;\n                    }\n                }\n            }, 500);\n            ",
      "text/plain": [
       "<IPython.core.display.Javascript object>"
      ]
     },
     "metadata": {}
    }
   ],
   "metadata": {
    "ExecuteTime": {
     "end_time": "2021-09-11T06:25:06.495391Z",
     "start_time": "2021-09-11T06:20:06.394204Z"
    }
   }
  },
  {
   "cell_type": "code",
   "execution_count": 6,
   "source": [
    "del feat"
   ],
   "outputs": [
    {
     "output_type": "display_data",
     "data": {
      "application/javascript": "\n            setTimeout(function() {\n                var nbb_cell_id = 6;\n                var nbb_unformatted_code = \"del feat\";\n                var nbb_formatted_code = \"del feat\";\n                var nbb_cells = Jupyter.notebook.get_cells();\n                for (var i = 0; i < nbb_cells.length; ++i) {\n                    if (nbb_cells[i].input_prompt_number == nbb_cell_id) {\n                        if (nbb_cells[i].get_text() == nbb_unformatted_code) {\n                             nbb_cells[i].set_text(nbb_formatted_code);\n                        }\n                        break;\n                    }\n                }\n            }, 500);\n            ",
      "text/plain": [
       "<IPython.core.display.Javascript object>"
      ]
     },
     "metadata": {}
    }
   ],
   "metadata": {
    "ExecuteTime": {
     "end_time": "2021-09-11T06:25:06.630391Z",
     "start_time": "2021-09-11T06:25:06.496392Z"
    }
   }
  },
  {
   "cell_type": "code",
   "execution_count": 7,
   "source": [
    "display(df.index.duplicated().sum())\r\n",
    "df = df.loc[~df.index.duplicated()]\r\n",
    "df.index.duplicated().sum()"
   ],
   "outputs": [
    {
     "output_type": "display_data",
     "data": {
      "text/plain": [
       "89103"
      ]
     },
     "metadata": {}
    },
    {
     "output_type": "execute_result",
     "data": {
      "text/plain": [
       "0"
      ]
     },
     "metadata": {},
     "execution_count": 7
    },
    {
     "output_type": "display_data",
     "data": {
      "application/javascript": "\n            setTimeout(function() {\n                var nbb_cell_id = 7;\n                var nbb_unformatted_code = \"display(df.index.duplicated().sum())\\ndf = df.loc[~df.index.duplicated()]\\ndf.index.duplicated().sum()\";\n                var nbb_formatted_code = \"display(df.index.duplicated().sum())\\ndf = df.loc[~df.index.duplicated()]\\ndf.index.duplicated().sum()\";\n                var nbb_cells = Jupyter.notebook.get_cells();\n                for (var i = 0; i < nbb_cells.length; ++i) {\n                    if (nbb_cells[i].input_prompt_number == nbb_cell_id) {\n                        if (nbb_cells[i].get_text() == nbb_unformatted_code) {\n                             nbb_cells[i].set_text(nbb_formatted_code);\n                        }\n                        break;\n                    }\n                }\n            }, 500);\n            ",
      "text/plain": [
       "<IPython.core.display.Javascript object>"
      ]
     },
     "metadata": {}
    }
   ],
   "metadata": {
    "ExecuteTime": {
     "end_time": "2021-09-11T06:25:15.605392Z",
     "start_time": "2021-09-11T06:25:06.631390Z"
    }
   }
  },
  {
   "cell_type": "code",
   "execution_count": 8,
   "source": [
    "steps = [lang.decode_html_entities, lang.lowercase, lang.strip_html_tags]\r\n",
    "df[\"feature\"] = lang.chain_processors(df.loc[:, \"feature\"], steps, n_jobs=-1)\r\n",
    "df[\"feature\"].head()"
   ],
   "outputs": [
    {
     "output_type": "execute_result",
     "data": {
      "text/plain": [
       "asin\n",
       "0000044806                                                 None\n",
       "0000060259                                                 None\n",
       "0000098906    wood percussion small 3 inches creates origina...\n",
       "0000143502                                                 None\n",
       "0000143529                                                 None\n",
       "Name: feature, dtype: object"
      ]
     },
     "metadata": {},
     "execution_count": 8
    },
    {
     "output_type": "display_data",
     "data": {
      "application/javascript": "\n            setTimeout(function() {\n                var nbb_cell_id = 8;\n                var nbb_unformatted_code = \"steps = [lang.decode_html_entities, lang.lowercase, lang.strip_html_tags]\\ndf[\\\"feature\\\"] = lang.chain_processors(df.loc[:, \\\"feature\\\"], steps, n_jobs=-1)\\ndf[\\\"feature\\\"].head()\";\n                var nbb_formatted_code = \"steps = [lang.decode_html_entities, lang.lowercase, lang.strip_html_tags]\\ndf[\\\"feature\\\"] = lang.chain_processors(df.loc[:, \\\"feature\\\"], steps, n_jobs=-1)\\ndf[\\\"feature\\\"].head()\";\n                var nbb_cells = Jupyter.notebook.get_cells();\n                for (var i = 0; i < nbb_cells.length; ++i) {\n                    if (nbb_cells[i].input_prompt_number == nbb_cell_id) {\n                        if (nbb_cells[i].get_text() == nbb_unformatted_code) {\n                             nbb_cells[i].set_text(nbb_formatted_code);\n                        }\n                        break;\n                    }\n                }\n            }, 500);\n            ",
      "text/plain": [
       "<IPython.core.display.Javascript object>"
      ]
     },
     "metadata": {}
    }
   ],
   "metadata": {
    "ExecuteTime": {
     "end_time": "2021-09-11T06:26:36.103206Z",
     "start_time": "2021-09-11T06:25:15.606391Z"
    }
   }
  },
  {
   "cell_type": "code",
   "execution_count": 9,
   "source": [
    "lang.length_info(df[\"feature\"])"
   ],
   "outputs": [
    {
     "output_type": "stream",
     "name": "stdout",
     "text": [
      "       len_feature\n",
      "count    2,343,887\n",
      "mean           562\n",
      "std            526\n",
      "min              0\n",
      "25%            197\n",
      "50%            348\n",
      "75%            818\n",
      "max          9,947\n"
     ]
    },
    {
     "output_type": "display_data",
     "data": {
      "application/javascript": "\n            setTimeout(function() {\n                var nbb_cell_id = 9;\n                var nbb_unformatted_code = \"lang.length_info(df[\\\"feature\\\"])\";\n                var nbb_formatted_code = \"lang.length_info(df[\\\"feature\\\"])\";\n                var nbb_cells = Jupyter.notebook.get_cells();\n                for (var i = 0; i < nbb_cells.length; ++i) {\n                    if (nbb_cells[i].input_prompt_number == nbb_cell_id) {\n                        if (nbb_cells[i].get_text() == nbb_unformatted_code) {\n                             nbb_cells[i].set_text(nbb_formatted_code);\n                        }\n                        break;\n                    }\n                }\n            }, 500);\n            ",
      "text/plain": [
       "<IPython.core.display.Javascript object>"
      ]
     },
     "metadata": {}
    }
   ],
   "metadata": {
    "ExecuteTime": {
     "end_time": "2021-09-11T06:26:37.162233Z",
     "start_time": "2021-09-11T06:26:36.104206Z"
    }
   }
  },
  {
   "cell_type": "code",
   "execution_count": 10,
   "source": [
    "fig = lang.length_dist(\r\n",
    "    df.sample(10 ** 4, random_state=39),\r\n",
    "    subset=[\"feature\"],\r\n",
    ")"
   ],
   "outputs": [
    {
     "output_type": "display_data",
     "data": {
      "image/png": "[encoded data removed]",
      "text/plain": [
       "<Figure size 1080x360 with 3 Axes>"
      ]
     },
     "metadata": {
      "needs_background": "light"
     }
    },
    {
     "output_type": "display_data",
     "data": {
      "application/javascript": "\n            setTimeout(function() {\n                var nbb_cell_id = 10;\n                var nbb_unformatted_code = \"fig = lang.length_dist(\\n    df.sample(10 ** 4, random_state=39),\\n    subset=[\\\"feature\\\"],\\n)\";\n                var nbb_formatted_code = \"fig = lang.length_dist(\\n    df.sample(10 ** 4, random_state=39),\\n    subset=[\\\"feature\\\"],\\n)\";\n                var nbb_cells = Jupyter.notebook.get_cells();\n                for (var i = 0; i < nbb_cells.length; ++i) {\n                    if (nbb_cells[i].input_prompt_number == nbb_cell_id) {\n                        if (nbb_cells[i].get_text() == nbb_unformatted_code) {\n                             nbb_cells[i].set_text(nbb_formatted_code);\n                        }\n                        break;\n                    }\n                }\n            }, 500);\n            ",
      "text/plain": [
       "<IPython.core.display.Javascript object>"
      ]
     },
     "metadata": {}
    }
   ],
   "metadata": {
    "ExecuteTime": {
     "end_time": "2021-09-11T06:26:37.728260Z",
     "start_time": "2021-09-11T06:26:37.164236Z"
    }
   }
  },
  {
   "cell_type": "code",
   "execution_count": 11,
   "source": [
    "df.at[df.feature.str.len().idxmax(), \"feature\"]"
   ],
   "outputs": [
    {
     "output_type": "execute_result",
     "data": {
      "text/plain": [
       "'sony kde-55xbr950,kdl-55ex640,kdl-55ex620,kdl-60ex700,kdl-55hx820,kdl-60ex720,kdl-60nx720,kdl-60ex500,kdl-60nx800,kdl-40s3000,kdl-55bx520,kdl-40v2500,kdl-40v3000,kdl-40vl130,kdl-40z4100,kdl-40ex700,kdl-60ex723,nsx-40gt1,kdl-40s2000,kdl-40s20l1,kdl-40w3000,kdl-40xbr3,kdl-40sl130,kdl-40xbr9,kdl-40v5100,kdl-40ve5,kdl-40w4100,kdl-40ex600,kdl-40ex523,kdl-40ex401,kdl-40d3000,kdl-40xbr5,kdl-v40xbr1,klv-40s200a,kdl-40xbr6,kdl-40s5100,kdl-40bx450,kdl-40nx700,kdl-40ex720,kdl-40s504,kdl-40bx420,fwd-40lx2f,kdl-40s2400,kdl-40xbr2,kdl-40xbr4,klv-s40a10,klv-40u100m,kdl-40xbr7,kdl-40z5100,klv-40zx1m,kdl-40ex640,kdl-40ex400,fwd-40lx1,kdl-40s2010,fwd-42pv1p/b,fwd-42px2,kde-42xbr950,kde-42xs955,kdl-40w5100,pfm-42x1,kdl-42xbr950,ke-42ts2,pfm-42b1,pfm-42b2,kdl-40ex500,kz-42ts1,kz-42ts1j,kz-42ts1u,fwd-42lx1,fwd-42pv1as,pfm-42v1,ke-42m1,ke-42ts2u,pfm-42b1u,pfm-42b2h,ke-42xbr900,ke-42xs910,kdl-46s5100,kdl-46v5100,kdl-46s2000,kdl-46s2010,kdl-46bx420,fwd-42pv1,kdl-46ex500,kdl-46ex523,kdl-46ex720,kdl-46hx729,kdl-46w4100,kdl-46hx750,kdl-46ex600,kdl-46v2500,kdl-46v3000,kdl-46xbr4,kdl-46hx820,kdl-46ex400,nsx-46gt1,kdl-46s504,kdl-46xbr10,kdl-46bx450,kdl-46w3000,kdl-46xbr8,kdl-46xbr3,kdl-46ex700,kdl-46nx700,kdl-46nx800,kdl-46ex620,xbr-46hx929,kdl-46xbr9,kdl-46z4100,kdl-46z5100,kdl-46vl130,kdl-46ex640,kdl-46xbr2,kdl-46w5100,kdl-46s3000,kdl-46v25l1,kdl-46xbr5,kde-50xbr950,kdl-46nx720,ke-50xbr900,ke-50xs910,fwd-50px2,pmb-50hx1,fwd-50px1,kdl-46ve5,kdl-52z5100,fwd-50px3/b,pfm-50c1/c1e,kdl-65hx729,xbr-65hx929,kde-50xs955, toshiba 55ht1u,55s41u,55sl417u,55sl412u,55sv670u,55l6200u,32e200u,32ft2u,32tl515u,32sl415u,32hl67,55wx800u,32c120u,32hl67u,32hlv66,32hlx95,32lv67u,55g300u,32c110u,32hl83p,32hl95,32hlc56,32hlv16,32hlx84,32hl66,32lv67,p32lsa,32hl86,32c100u,32hl84,32slv411u,42dpc85,42hp83p,42hp84,42hpx84,32cv100u,42hl67,p42lsa,42hpx95,42sl417u,42lx177,32dt1u,42l6200u,42hl196,42hp66,42lz196,p42lha,42hl167,42tl515u,42zv650u,42hp82,42hp95,47hl167,42lx196,47lz196,47zv650u,p47lsa,47tl515u,47l6200u,pd42w1,p47l sharp lc-m3700,lc-37d40u,lc-37d43u,lc-37d6u,lc-37d4u,lc-37d90u,lc-37d5u,lc-37d62u,lc-37gd4u,lc-37gd5u,lc-37d7u,lc-c3742u,lc-37hv4u,lc-37rd2,lc-37sh12u,lc-40c37u,lc-42d72u,lc-37d4uj,lc-42ht3u,lc-42ht4u,lc-42le540u,lc-42bt10u,lc-42d64u,lc-37ht3u,lc-42d69u,lc-42d62u,lc-42sb45u,lc-62c42u,lc-42d65u,lc-42d92u,lc-42d43u,lc-32d59u,lc-70le847u,lc-70le845u,lc-70le732u,lc-60c42u,pz-43hv2u,lc-46le540u,lc-46sv50u,lc-46le700u,lc-46bd80u,lc-42sv50u,lc-46d43u,lc-46d64u,lc-46d43u,lc-46d64u,pn-465u,lc-46le832u,lc-46le835u,lc-70le640u,lc-46le830u,lc-c46700un,lc-46se94u,lc-60c46u,lc-46d85u,lc-46e77u,lc-46ht4u,lc-46sb57u,lc-46d82u,lc-46d92u,lc-c4677u,pn-465up,lc-40e67u,lc-40e77u,lc-40le700u,lc-c4067u,lc-40le830u,lc-46d62u,lc-80le632u,lc-45d40u,lc-45gd4u,lc-45gd5u,lc-40c45u,lc-40le835u,lc-45gx6u,lc-45gd7u,pn-455,pz-50hv2u,lc-pd50u,lc-80le844u,lc-60le632u,lc-60e77un,lc-60le845u,lc-60le835u,lc-60le831u,lc-45gd6u,lc-60le640u,lc-60c6400u,lc-c6077un,lc-60le847u,lc-60e88un,lc-60le925un,lc-60le925un,lc-52le640u,lc-52c6400u,lc-c52700un,lc-52d62u,lc-52d64u,lc-60le830u,pn-525u,lc-52e77u,lc-52sb57u,lc-c5277u,lc-52le835u,lc-60le832u,lc-52d43u,lc-52se94u,lc-60c52u,lc-52d92u,lc-52d93u,lc-52d82u,lc-52d85u,lc-52ht4u,lc-c5262u,lc-52le700u,lc-47sb57ut,lc-52le830u,lc-37db5u,lc-37g4u,lc-37gp1u,lc-37d42u,lc-37d44u,lc-37d64u,lc-37gb5u,lc-37ht4u,lc-37hv6u,lc-37sh20u,lc-37gd6u,sony kdl-52xbr9,kdl-52xbr2,kdl-52s5100,kdl-52w5100,kdl-52w3000,kdl-37l5000,ke-37xs910,kdl-37m3000,kde-37xs955,kdl-52xbr10,kdl-52xbr4,kdl-52xbr5,kdl-52ex700,kdl-52nx800,kdl-52v5100,kdl-52ve5,fwd-32lx2f,kdl-32m3000,klv-32u100,klv-32u100m,klv-s32a10,kdl-52xbr3,lmd-322ws,kdl-32ex720,kdl-32bx420,kdl-v32xbr1,kdl-32l5000,fwd-32lx1,kdl-32s3000,kdl-v32xbr2,klv-32m1,pfm-32c1,kdl-32s5100,klv-32s200a,kdl-32bx320,kdl-32sl130,kdl-32xbr4,kz-32ts1u,nsx-32gt1,kdl-32s2010,kdl-32s2400,klh-w32,klv-32mrx1,kdl-55v5100,kdl-55xbr8,klv-32mrx1,kdl-55v5100,kdl-55xbr8,kdl-32ex729,xbr-55hx929,kdl-55nx720,kdl-55hx750,kdl-55hx729,kdl-55ex500,kdl-32s2000,kdl-55ex720 lg 32lh40,32ld550,32lm6200,ru-32lz30c,32lb4d,32cs560,32lc7d,32lg30,32lk450,32ld400,32lm5800,32lg70,32cs460,l3200ak,ru-32lz50c,32lf11,32lh30,42sl90,42le5300,mu-42pz90v,mu-42pz90xc,32lc4d,32lg60,42lm5800,42ls5700,42ls3400,42px3dcv,32lh20,32lk330,mu-42pz41v,42lh40,42lh55,42lb1dra,mu-42pz94v,42pb4d,42pc3dc,42pc5d,42pm1m,42ld400,du-42pz60,m4210c-ba,ru-42px10c,ru-42pz90v,42pj350,mu-42pm12x,42lc5dc,42lp1d,42lg30,42lg60,42lv3500,42lc2d,42lk520,mu-42pz90c,42px4d,42px5d,mu-42pm11,ru-42pz90,mu-42pz15b,42lh90,42lb5d,42lb9d,42lbx - opus,42lv5500,42lc4d,42pc3dv,ru-42px11,ru-42pz61,ru-42pz71,du-42lz30,42pb4da,42ld550,42lh50,42ls5750,42lv5400,42pc1da,42lw5300,42pt350,42pm3mv,42px3dbv,42px3dlv,mu-42pz90h,m4210n-b21,42lh30,42lb4d,42lc7d,42lp1dc,42sl80,42pc3d,42pc5dc,42lk550,42lk450,mu-42pz44v,42lh20,42lm6200,42lb1dr,42cs560,42lg50,42lg70,42pm4m,42lv3700,42pw350,du-42px12xd,du-42py10,42lf11,60pk250,42pq30,42cs570,60pz850,60pb4d,60pk540,du-60pz60,du-42px12x,du-42px12xc,60pk750,60pz750,60pz950,60pc1d,60pv450,60pv490,60ps80,60pa6500,60pm6700,60pm9700,mu-60pz95v,60ld550,60px950,60pa5500,mu-60pz10,mu-60pz12,60py3d,mu-60pz90v,60pz550,60py2dr,du-60py10,60pb4da,60ps11,60ps60,37lg60,37lh40,37lg30,37lg50,mu-60pz90c,60pk950,37lc5dc,du-37lz30,m3701c-bh,37lh20,60pk550,46ld550,37lb4d,37lv3500,37lk450,m3700c-ba,l3700ak,l3700tk,37lh55,37lc2d,37lc7d,50pv490,37lb5d,37lb1da,50px1d,mu-50pz41v,mu-50pz90c,50pq30,m3701c,37lh30,50pm9700,50pz750,50pc1dr,50pc3d,50pc5d,50pm1m,mu-50pz41b,50pj350,50pk540,50pk950,50ps80,50pa5500,50pz950,50py3d,du-50px10c,du-50py10,50px2dc,50px5d,50pk750,50ps60,50pa6500,50pk250,50pa4500,50pm4700,50pw350,50pb4d,50pc1dra,50px4dr-h,du-50pz60,50pk550,mu-50pz41,mu-50pz90v,50pb4da,50pc3d-h,50pt350,50pv450,50pz550,65lm6200,65lw6500,52lb5d,50py2dr,mu-50pm10,57ly3d,47sl80,47sl90,47lw6500,50pm6700,50pq20,47ld500,47le8500,47lh50,47lh85,52ly3d,52ld550,47lg90,47lv5500,47lw5700,47lb5d,47lw5600,47lv3700,47lx9500,47lf11,47lh30,47lh40,47lm5800,47ls5700,47lg60,47lg70,47le5350,47lk550,47ld450, lg 47le7300,47le7500,47lh55,47lh90,47lm6200,47ls4600,47cs570,47lm8600,47lv5400,47lw5300,47lbx,47lk520,47lb4df,47ld520,47ld650,47le5400,47lm6700,47ls5750,47lg50,55sl80,55le8500,55lx9500,55lv3700,47ly3d,47le5500,55lx6500,55ls5750,55ls4600,55lhx,47lm7600,47lm9600,55lh55,55lv5500,55ld650,55lv5400,55lw5300,55lw5600,55lm9600,55lm5800,55ls5700,55g2,55lh85,55lh50,55lm6700,55lm6200,55lk520,55lw5700,55ld520,55le5400,55le7300,55le7500,55lh40,55lh90,55lm8600,55lm7600,32lb9d,32lh1dc,l3200a,32lv2500,32lg40,55le5500,panasonic th-50phd5u,th-50px80u,th-50pz80u,th-50pz85u,tc-p46g15,tc-p60ut50,tc-p46st30,th-46pz850u,th-46pz80u,tc-p46x3,tc-p55st30,tc-p46c2,tc-p46s2,th-46pz85u,tc-p46s30,tc-p46g10,tc-l55et5,tc-p46u1,tc-p46g25,tc-l55wt50,tc-p55vt30,tc-l55e50,tc-32lx34,tc-p55gt50,tc-p55ut50,tc-p55st50,tc-l55dt50,tc-p55gt30,tc-l32u3,tc-55le54,tc-32le60,tc-32lx50,tc-32lx60,tc-l32x30,tc-65pst34,tc-l32e5,tc-32lx70,tc-32lx600,tc-32lh1,tc-l32c3,tc-p54g10,tc-32lx700,tc-l32dt30,tc-l32e3,tc-p65st30,tc-p65gt30,tc-l47et5,tc-p65vt30,tc-p65vt50,tc-p65st50,tc-p65gt50,tc-p54s2,th-37pwd6ux,tc-p54s1,tc-p54v10,tc-p54z1,tc-p54g25,tc-54ps14,th-37pwd5uy,tc-l47e50,tc-l47e5,tc-l47wt50,tc-l47dt50,th-37pwd6u,th-37ph10uk,th-37pwd6uy,pt-37p1,pt-37pd4p,th-37phd8uk,th-37pwd4uz,th-37pwd6,th-37pwd7uy,th-37pwd8uk,tc-l37e5,tc-37pd1,th-37pa20u/p,th-37px600,th-37px60u,tc-l37e3,tc-l37u3,th-37pd25u/p,th-37pw5,th-37pa30/pe30,th-37pg9u,th-37ph9uk,th-37pwd5,th-37pwd5uz,th-37px50u,th-50phd5uy,th-37pr10u,th-37pr9u,th-37px25u/p,tc-l37dt30,th-37pa20hd,tc-p46s1,th-50phd3u,th-50pz700u,th-50ph10uk,tc-p50x1,tc-50px14,tc-p50v10,th-50pz800u,th-50px77u,tc-p50st30,th-50phd7uy,th-50pm50u,th-50pwd8uk,th-50px60u,tc-p50u50,tc-p50ut50,pt-50pd2-p,th-50pf9uk,th-50ph10uka,th-50pe700u,tc-p50s2,tc-p50u2,tc-p50st50,tc-p50c2,tc-p50gt50,tc-p50x5,th-50px50u/p,th-50pz750u,th-50pz77u,th-50xvs30,th-50xvs30u/p,tc-p50g25,th-50pf10uk,tc-p50s30,tc-p50x3,tc-50px34,th-50phd8uk,th-50px25u/p,th-50px600u,th-50px6u,tc-p50c1 samsung un46c5000,ln46b750,ln46b650,un46es6100,un46es7500,un46b7000,un46b7000,ln46a540,460px,ln-s4692d,ln-t4661f,ln-t4665fx,ln46b630,460fp-2,un46c6400,un46d5500,un46d6050,un46d6900,460dxn,ln-t4671f,ln46a630,ln46a950,un46b8500,ln46c650,un46c7000,un46d6300,460fpn-2,460utn,un46es7550,un46b7100,ln46b640,un46es8000,ln-t4681f,ln46b540,ln46b550,ln46b610,460p/pn,ln-r469d,un46d6400,un46d6420,un46d6450,un46d6500,ln46c550,un46c6300,un46es6580,un46b8000,un46c6500,un46c6800,un32d5500,ln32a550,un32d4000,un32d4010,un32d4005,un32eh5000,un32eh4000,ln32d450,ln32d403,ln32b530,ln32b540,un32eh4050,ln-t3232h,ln32a450,ln32b360,ln32b460,un32eh5300,320mxn-2,ln-s5296d,ln-t3253h,un32d6000,pn58b650,pn58b530,pn58b540,pn58b550,fp-t5894w,un60d7050,pn60e550,pn58b560,pn58b850,pn58c550,pn58c590,pn60e7000,pn60e6500,un60d6450,un60d6400,un60d7000,un60es6100,un55c5000,un55c6300,un60es7500,un60es8000,pn60e8000,pn60e535,un55d6400,un55d6450,pn60e530,un60d6000,un60d6500,un55b6000,un55d7050,un55d7900,un55c6400,un55c6500,un55d6000,ln55c630,un55es6550,un55es6580,un55es8000,un55es6150,un55es7500,un55d7000,un55b8500,ln55c650,un55es7550,ln55b650,ln55a950,un55d8000,un55d6300,un55es6100,un55b8000,un55d6900,un55b7000,pn51e530,pn51e7000,un55c7000,un55d6420,un55d6500,un55d6050,pn51e550,pn51e6500,ln55b640,un55d6005,un55b7100,pn51d550c1f,un50es6550,pn50c450,pn51e450,pn51e490,pn51e8000,pn51d8000,ln-s5797d,pn59d530,hpn5039,hp-p5071,hp-s5073,un50es6580,pn63b550,pn63c8000,pn50c590,ppm50m7hb,un65d8000,ln-t5781f,ps-37s4h,ln37a550,ln37b550,ln-s3738d,pn59d7000,pn59d8000,sharp lc-m3700,lc-37d40u,lc-37d43u,lc-37d6u,lc-37d4u,lc-37d90u,lc-37d5u,lc-37d62u,lc-37gd4u,lc-37gd5u,lc-37d7u,lc-c3742u,lc-37hv4u,lc-37rd2,lc-37sh12u,lc-40c37u,lc-42d72u,lc-37d4uj,lc-42ht3u,lc-42ht4u,lc-42le540u,lc-42bt10u,lc-42d64u,lc-37ht3u,lc-42d69u,lc-42d62u,lc-42sb45u,lc-62c42u,lc-42d65u,lc-42d92u,lc-42d43u,lc-32d59u,lc-70le847u,lc-70le845u,lc-70le732u,lc-60c42u,pz-43hv2u,lc-46le540u,lc-46sv50u,lc-46le700u,lc-46bd80u,lc-42sv50u,lc-46d43u,lc-46d64u,lc-46d4'"
      ]
     },
     "metadata": {},
     "execution_count": 11
    },
    {
     "output_type": "display_data",
     "data": {
      "application/javascript": "\n            setTimeout(function() {\n                var nbb_cell_id = 11;\n                var nbb_unformatted_code = \"df.at[df.feature.str.len().idxmax(), \\\"feature\\\"]\";\n                var nbb_formatted_code = \"df.at[df.feature.str.len().idxmax(), \\\"feature\\\"]\";\n                var nbb_cells = Jupyter.notebook.get_cells();\n                for (var i = 0; i < nbb_cells.length; ++i) {\n                    if (nbb_cells[i].input_prompt_number == nbb_cell_id) {\n                        if (nbb_cells[i].get_text() == nbb_unformatted_code) {\n                             nbb_cells[i].set_text(nbb_formatted_code);\n                        }\n                        break;\n                    }\n                }\n            }, 500);\n            ",
      "text/plain": [
       "<IPython.core.display.Javascript object>"
      ]
     },
     "metadata": {}
    }
   ],
   "metadata": {
    "ExecuteTime": {
     "end_time": "2021-09-11T06:26:39.337233Z",
     "start_time": "2021-09-11T06:26:37.729234Z"
    }
   }
  },
  {
   "cell_type": "code",
   "execution_count": 12,
   "source": [
    "df = lang.trim_length_outliers(df, subset=\"feature\", method=\"iqr\")"
   ],
   "outputs": [
    {
     "output_type": "stream",
     "name": "stdout",
     "text": [
      "       len_description  len_title  len_brand  len_main_cat  len_feature\n",
      "count        3,692,413  3,692,413  3,692,413     3,692,413    2,284,999\n",
      "mean               971         68         11            12          518\n",
      "std                611         37          6             6          446\n",
      "min                384         13          0             4            0\n",
      "25%                531         42          7             7          193\n",
      "50%                761         61         11            11          338\n",
      "75%              1,209         85         14            15          725\n",
      "max              3,885        202         39            28        1,749\n",
      "\n",
      "\n",
      "             n_trimmed  pct_trimmed\n",
      "description          0            0\n",
      "title                0            0\n",
      "brand                0            0\n",
      "main_cat             0            0\n",
      "feature         58,888            2\n",
      "total_obs       58,888            2\n"
     ]
    },
    {
     "output_type": "display_data",
     "data": {
      "application/javascript": "\n            setTimeout(function() {\n                var nbb_cell_id = 12;\n                var nbb_unformatted_code = \"df = lang.trim_length_outliers(df, subset=\\\"feature\\\", method=\\\"iqr\\\")\";\n                var nbb_formatted_code = \"df = lang.trim_length_outliers(df, subset=\\\"feature\\\", method=\\\"iqr\\\")\";\n                var nbb_cells = Jupyter.notebook.get_cells();\n                for (var i = 0; i < nbb_cells.length; ++i) {\n                    if (nbb_cells[i].input_prompt_number == nbb_cell_id) {\n                        if (nbb_cells[i].get_text() == nbb_unformatted_code) {\n                             nbb_cells[i].set_text(nbb_formatted_code);\n                        }\n                        break;\n                    }\n                }\n            }, 500);\n            ",
      "text/plain": [
       "<IPython.core.display.Javascript object>"
      ]
     },
     "metadata": {}
    }
   ],
   "metadata": {
    "ExecuteTime": {
     "end_time": "2021-09-11T06:26:47.058438Z",
     "start_time": "2021-09-11T06:26:39.338235Z"
    }
   }
  },
  {
   "cell_type": "markdown",
   "source": [
    "Next, I delete everything between brackets or parentheses."
   ],
   "metadata": {}
  },
  {
   "cell_type": "code",
   "execution_count": 13,
   "source": [
    "longest_feat = df.feature.str.len().idxmax()\r\n",
    "df.at[longest_feat, \"feature\"]"
   ],
   "outputs": [
    {
     "output_type": "execute_result",
     "data": {
      "text/plain": [
       "'invite nature to your yard: looking for yard decorations and accessories to draw beautiful wildlife right to your home? birds in the garden are looking for water to drink and splash in outdoors. the catttail birdbaths are a beautiful way to provide water for backyard birds year-round. makes a great gift for the avid gardener or bird-watcher. functional pieces of garden art: these botanical garden ornaments are outdoor pieces of sculpture to beautify your garden. the bright and lustrous hammered finish of the copper bowls create a beautiful contrast against the black spray of wrought iron leaves and cattails. they make an artful addition to any perennial bed, water feature, or natural setting in your yard. choose a style with one bowl or two. hand-made wrought iron and solid copper: the black leaves and cattails are handmade of fine wrought iron. the birdbath bowls are hand-hammered from solid copper, which will not rust, but develops a rich natural copper patina over time. catttail birdbaths measure 50-in h with one or two 12-in diameter x 3-in d bowls. easy to assemble: no tools required! simply thread the spiked foot to the bottom of the main stem and the copper bowl to the top. spike directly into the ground and fan the cattails and leaves as desired. cattail birdbath have multi-pronged ground stakes for increased stability. who we are: at achla designs, we create unique and handmade garden accessories and furnishings for any backyard habitat. we continue to add to our exquisite product line each year, resulting in a large selection of items for you to choose from for your home and yard decor. we take pride in providing exceptional products and customer service and keep our warehouse thoroughly stocked all year long.'"
      ]
     },
     "metadata": {},
     "execution_count": 13
    },
    {
     "output_type": "display_data",
     "data": {
      "application/javascript": "\n            setTimeout(function() {\n                var nbb_cell_id = 13;\n                var nbb_unformatted_code = \"longest_feat = df.feature.str.len().idxmax()\\ndf.at[longest_feat, \\\"feature\\\"]\";\n                var nbb_formatted_code = \"longest_feat = df.feature.str.len().idxmax()\\ndf.at[longest_feat, \\\"feature\\\"]\";\n                var nbb_cells = Jupyter.notebook.get_cells();\n                for (var i = 0; i < nbb_cells.length; ++i) {\n                    if (nbb_cells[i].input_prompt_number == nbb_cell_id) {\n                        if (nbb_cells[i].get_text() == nbb_unformatted_code) {\n                             nbb_cells[i].set_text(nbb_formatted_code);\n                        }\n                        break;\n                    }\n                }\n            }, 500);\n            ",
      "text/plain": [
       "<IPython.core.display.Javascript object>"
      ]
     },
     "metadata": {}
    }
   ],
   "metadata": {
    "ExecuteTime": {
     "end_time": "2021-09-11T06:26:50.451436Z",
     "start_time": "2021-09-11T06:26:47.059439Z"
    }
   }
  },
  {
   "cell_type": "code",
   "execution_count": 14,
   "source": [
    "df[\"feature\"] = df.loc[:, \"feature\"].str.replace(r\"([{\\(].+[\\)}])\", \"\", regex=True)\r\n",
    "df.at[longest_feat, \"feature\"]"
   ],
   "outputs": [
    {
     "output_type": "execute_result",
     "data": {
      "text/plain": [
       "'invite nature to your yard: looking for yard decorations and accessories to draw beautiful wildlife right to your home? birds in the garden are looking for water to drink and splash in outdoors. the catttail birdbaths are a beautiful way to provide water for backyard birds year-round. makes a great gift for the avid gardener or bird-watcher. functional pieces of garden art: these botanical garden ornaments are outdoor pieces of sculpture to beautify your garden. the bright and lustrous hammered finish of the copper bowls create a beautiful contrast against the black spray of wrought iron leaves and cattails. they make an artful addition to any perennial bed, water feature, or natural setting in your yard. choose a style with one bowl or two. hand-made wrought iron and solid copper: the black leaves and cattails are handmade of fine wrought iron. the birdbath bowls are hand-hammered from solid copper, which will not rust, but develops a rich natural copper patina over time. catttail birdbaths measure 50-in h with one or two 12-in diameter x 3-in d bowls. easy to assemble: no tools required! simply thread the spiked foot to the bottom of the main stem and the copper bowl to the top. spike directly into the ground and fan the cattails and leaves as desired. cattail birdbath have multi-pronged ground stakes for increased stability. who we are: at achla designs, we create unique and handmade garden accessories and furnishings for any backyard habitat. we continue to add to our exquisite product line each year, resulting in a large selection of items for you to choose from for your home and yard decor. we take pride in providing exceptional products and customer service and keep our warehouse thoroughly stocked all year long.'"
      ]
     },
     "metadata": {},
     "execution_count": 14
    },
    {
     "output_type": "display_data",
     "data": {
      "application/javascript": "\n            setTimeout(function() {\n                var nbb_cell_id = 14;\n                var nbb_unformatted_code = \"df[\\\"feature\\\"] = df.loc[:, \\\"feature\\\"].str.replace(r\\\"([{\\\\(].+[\\\\)}])\\\", \\\"\\\", regex=True)\\ndf.at[longest_feat, \\\"feature\\\"]\";\n                var nbb_formatted_code = \"df[\\\"feature\\\"] = df.loc[:, \\\"feature\\\"].str.replace(r\\\"([{\\\\(].+[\\\\)}])\\\", \\\"\\\", regex=True)\\ndf.at[longest_feat, \\\"feature\\\"]\";\n                var nbb_cells = Jupyter.notebook.get_cells();\n                for (var i = 0; i < nbb_cells.length; ++i) {\n                    if (nbb_cells[i].input_prompt_number == nbb_cell_id) {\n                        if (nbb_cells[i].get_text() == nbb_unformatted_code) {\n                             nbb_cells[i].set_text(nbb_formatted_code);\n                        }\n                        break;\n                    }\n                }\n            }, 500);\n            ",
      "text/plain": [
       "<IPython.core.display.Javascript object>"
      ]
     },
     "metadata": {}
    }
   ],
   "metadata": {
    "ExecuteTime": {
     "end_time": "2021-09-11T06:26:57.418438Z",
     "start_time": "2021-09-11T06:26:50.452437Z"
    }
   }
  },
  {
   "cell_type": "code",
   "execution_count": 15,
   "source": [
    "df[\"feature\"].fillna(\"\", inplace=True)\r\n",
    "df.head()"
   ],
   "outputs": [
    {
     "output_type": "execute_result",
     "data": {
      "text/html": [
       "<div>\n",
       "<style scoped>\n",
       "    .dataframe tbody tr th:only-of-type {\n",
       "        vertical-align: middle;\n",
       "    }\n",
       "\n",
       "    .dataframe tbody tr th {\n",
       "        vertical-align: top;\n",
       "    }\n",
       "\n",
       "    .dataframe thead th {\n",
       "        text-align: right;\n",
       "    }\n",
       "</style>\n",
       "<table border=\"1\" class=\"dataframe\">\n",
       "  <thead>\n",
       "    <tr style=\"text-align: right;\">\n",
       "      <th></th>\n",
       "      <th>description</th>\n",
       "      <th>title</th>\n",
       "      <th>brand</th>\n",
       "      <th>main_cat</th>\n",
       "      <th>feature</th>\n",
       "    </tr>\n",
       "    <tr>\n",
       "      <th>asin</th>\n",
       "      <th></th>\n",
       "      <th></th>\n",
       "      <th></th>\n",
       "      <th></th>\n",
       "      <th></th>\n",
       "    </tr>\n",
       "  </thead>\n",
       "  <tbody>\n",
       "    <tr>\n",
       "      <th>0000044806</th>\n",
       "      <td>ayurveda holds secrets for all our skin proble...</td>\n",
       "      <td>medimix ayurvedic facewash - 100 ml (pack of 2)</td>\n",
       "      <td>medimix</td>\n",
       "      <td>health &amp; personal care</td>\n",
       "      <td></td>\n",
       "    </tr>\n",
       "    <tr>\n",
       "      <th>0000060259</th>\n",
       "      <td>if you feel that applying powder kumkum is tir...</td>\n",
       "      <td>lakme jewel sindoor (maroon) - pack of 2</td>\n",
       "      <td>lakme</td>\n",
       "      <td>health &amp; personal care</td>\n",
       "      <td></td>\n",
       "    </tr>\n",
       "    <tr>\n",
       "      <th>0000098906</th>\n",
       "      <td>frog - rubbing its spine with the wooden stick...</td>\n",
       "      <td>wooden percussion 3 piece set frog, cricket an...</td>\n",
       "      <td>wadsuwan shop</td>\n",
       "      <td>musical instruments</td>\n",
       "      <td>wood percussion small 3 inches creates origina...</td>\n",
       "    </tr>\n",
       "    <tr>\n",
       "      <th>0000143502</th>\n",
       "      <td>rise and swine (good eats vol. 7) includes bon...</td>\n",
       "      <td>rise and swine (good eats vol. 7)</td>\n",
       "      <td>alton brown</td>\n",
       "      <td>movies &amp; tv</td>\n",
       "      <td></td>\n",
       "    </tr>\n",
       "    <tr>\n",
       "      <th>0000143529</th>\n",
       "      <td>disc 1: flour power (scones; shortcakes; south...</td>\n",
       "      <td>my fair pastry (good eats vol. 9)</td>\n",
       "      <td>alton brown</td>\n",
       "      <td>movies &amp; tv</td>\n",
       "      <td></td>\n",
       "    </tr>\n",
       "  </tbody>\n",
       "</table>\n",
       "</div>"
      ],
      "text/plain": [
       "                                                  description  \\\n",
       "asin                                                            \n",
       "0000044806  ayurveda holds secrets for all our skin proble...   \n",
       "0000060259  if you feel that applying powder kumkum is tir...   \n",
       "0000098906  frog - rubbing its spine with the wooden stick...   \n",
       "0000143502  rise and swine (good eats vol. 7) includes bon...   \n",
       "0000143529  disc 1: flour power (scones; shortcakes; south...   \n",
       "\n",
       "                                                        title          brand  \\\n",
       "asin                                                                           \n",
       "0000044806    medimix ayurvedic facewash - 100 ml (pack of 2)        medimix   \n",
       "0000060259           lakme jewel sindoor (maroon) - pack of 2          lakme   \n",
       "0000098906  wooden percussion 3 piece set frog, cricket an...  wadsuwan shop   \n",
       "0000143502                  rise and swine (good eats vol. 7)    alton brown   \n",
       "0000143529                  my fair pastry (good eats vol. 9)    alton brown   \n",
       "\n",
       "                          main_cat  \\\n",
       "asin                                 \n",
       "0000044806  health & personal care   \n",
       "0000060259  health & personal care   \n",
       "0000098906     musical instruments   \n",
       "0000143502             movies & tv   \n",
       "0000143529             movies & tv   \n",
       "\n",
       "                                                      feature  \n",
       "asin                                                           \n",
       "0000044806                                                     \n",
       "0000060259                                                     \n",
       "0000098906  wood percussion small 3 inches creates origina...  \n",
       "0000143502                                                     \n",
       "0000143529                                                     "
      ]
     },
     "metadata": {},
     "execution_count": 15
    },
    {
     "output_type": "display_data",
     "data": {
      "application/javascript": "\n            setTimeout(function() {\n                var nbb_cell_id = 15;\n                var nbb_unformatted_code = \"df[\\\"feature\\\"].fillna(\\\"\\\", inplace=True)\\ndf.head()\";\n                var nbb_formatted_code = \"df[\\\"feature\\\"].fillna(\\\"\\\", inplace=True)\\ndf.head()\";\n                var nbb_cells = Jupyter.notebook.get_cells();\n                for (var i = 0; i < nbb_cells.length; ++i) {\n                    if (nbb_cells[i].input_prompt_number == nbb_cell_id) {\n                        if (nbb_cells[i].get_text() == nbb_unformatted_code) {\n                             nbb_cells[i].set_text(nbb_formatted_code);\n                        }\n                        break;\n                    }\n                }\n            }, 500);\n            ",
      "text/plain": [
       "<IPython.core.display.Javascript object>"
      ]
     },
     "metadata": {}
    }
   ],
   "metadata": {
    "ExecuteTime": {
     "end_time": "2021-09-11T06:26:57.775466Z",
     "start_time": "2021-09-11T06:26:57.419440Z"
    }
   }
  },
  {
   "cell_type": "code",
   "execution_count": 18,
   "source": [
    "data_checkpoint(df, \"data/feature_checkpoint\")"
   ],
   "outputs": [
    {
     "output_type": "stream",
     "name": "stdout",
     "text": [
      "Overwriting...\n",
      "36 files created.\n"
     ]
    },
    {
     "output_type": "display_data",
     "data": {
      "application/javascript": "\n            setTimeout(function() {\n                var nbb_cell_id = 18;\n                var nbb_unformatted_code = \"data_checkpoint(df, \\\"data/feature_checkpoint\\\")\";\n                var nbb_formatted_code = \"data_checkpoint(df, \\\"data/feature_checkpoint\\\")\";\n                var nbb_cells = Jupyter.notebook.get_cells();\n                for (var i = 0; i < nbb_cells.length; ++i) {\n                    if (nbb_cells[i].input_prompt_number == nbb_cell_id) {\n                        if (nbb_cells[i].get_text() == nbb_unformatted_code) {\n                             nbb_cells[i].set_text(nbb_formatted_code);\n                        }\n                        break;\n                    }\n                }\n            }, 500);\n            ",
      "text/plain": [
       "<IPython.core.display.Javascript object>"
      ]
     },
     "metadata": {}
    }
   ],
   "metadata": {
    "ExecuteTime": {
     "end_time": "2021-09-11T06:49:23.708336Z",
     "start_time": "2021-09-11T06:48:40.076767Z"
    }
   }
  },
  {
   "cell_type": "markdown",
   "source": [
    "# Constructing Model Text"
   ],
   "metadata": {}
  },
  {
   "cell_type": "code",
   "execution_count": 19,
   "source": [
    "df = dd.read_parquet(\"data/feature_checkpoint\", engine=\"pyarrow\", index=\"asin\")\r\n",
    "df.head()"
   ],
   "outputs": [
    {
     "output_type": "execute_result",
     "data": {
      "text/html": [
       "<div>\n",
       "<style scoped>\n",
       "    .dataframe tbody tr th:only-of-type {\n",
       "        vertical-align: middle;\n",
       "    }\n",
       "\n",
       "    .dataframe tbody tr th {\n",
       "        vertical-align: top;\n",
       "    }\n",
       "\n",
       "    .dataframe thead th {\n",
       "        text-align: right;\n",
       "    }\n",
       "</style>\n",
       "<table border=\"1\" class=\"dataframe\">\n",
       "  <thead>\n",
       "    <tr style=\"text-align: right;\">\n",
       "      <th></th>\n",
       "      <th>description</th>\n",
       "      <th>title</th>\n",
       "      <th>brand</th>\n",
       "      <th>feature</th>\n",
       "      <th>main_cat</th>\n",
       "    </tr>\n",
       "    <tr>\n",
       "      <th>asin</th>\n",
       "      <th></th>\n",
       "      <th></th>\n",
       "      <th></th>\n",
       "      <th></th>\n",
       "      <th></th>\n",
       "    </tr>\n",
       "  </thead>\n",
       "  <tbody>\n",
       "    <tr>\n",
       "      <th>1441072241</th>\n",
       "      <td>after rising in the appalachian mountains of v...</td>\n",
       "      <td>come tell me how you lived: native american hi...</td>\n",
       "      <td>enter the arena</td>\n",
       "      <td></td>\n",
       "      <td>all beauty</td>\n",
       "    </tr>\n",
       "    <tr>\n",
       "      <th>6090113980</th>\n",
       "      <td>note : we cannot guarantee 100% that you will ...</td>\n",
       "      <td>prayer rug carpet mat gebetsteppich islamic mu...</td>\n",
       "      <td>bonballoon</td>\n",
       "      <td></td>\n",
       "      <td>all beauty</td>\n",
       "    </tr>\n",
       "    <tr>\n",
       "      <th>7250468162</th>\n",
       "      <td>no7 stay perfect foundation now stays perfect ...</td>\n",
       "      <td>no7 stay perfect foundation cool vanilla by no7</td>\n",
       "      <td>no7</td>\n",
       "      <td></td>\n",
       "      <td>all beauty</td>\n",
       "    </tr>\n",
       "    <tr>\n",
       "      <th>8279996397</th>\n",
       "      <td>according to the legend, in 1613, two brothers...</td>\n",
       "      <td>imagen bendita por su santidad our lady of cha...</td>\n",
       "      <td>chango</td>\n",
       "      <td></td>\n",
       "      <td>all beauty</td>\n",
       "    </tr>\n",
       "    <tr>\n",
       "      <th>9197882747</th>\n",
       "      <td>if you can design one thing, you can design ev...</td>\n",
       "      <td>hall of femmes: lella vignelli (hall of femmes)</td>\n",
       "      <td>oyster press</td>\n",
       "      <td></td>\n",
       "      <td>all beauty</td>\n",
       "    </tr>\n",
       "  </tbody>\n",
       "</table>\n",
       "</div>"
      ],
      "text/plain": [
       "                                                  description  \\\n",
       "asin                                                            \n",
       "1441072241  after rising in the appalachian mountains of v...   \n",
       "6090113980  note : we cannot guarantee 100% that you will ...   \n",
       "7250468162  no7 stay perfect foundation now stays perfect ...   \n",
       "8279996397  according to the legend, in 1613, two brothers...   \n",
       "9197882747  if you can design one thing, you can design ev...   \n",
       "\n",
       "                                                        title  \\\n",
       "asin                                                            \n",
       "1441072241  come tell me how you lived: native american hi...   \n",
       "6090113980  prayer rug carpet mat gebetsteppich islamic mu...   \n",
       "7250468162    no7 stay perfect foundation cool vanilla by no7   \n",
       "8279996397  imagen bendita por su santidad our lady of cha...   \n",
       "9197882747    hall of femmes: lella vignelli (hall of femmes)   \n",
       "\n",
       "                      brand feature    main_cat  \n",
       "asin                                             \n",
       "1441072241  enter the arena          all beauty  \n",
       "6090113980       bonballoon          all beauty  \n",
       "7250468162              no7          all beauty  \n",
       "8279996397           chango          all beauty  \n",
       "9197882747     oyster press          all beauty  "
      ]
     },
     "metadata": {},
     "execution_count": 19
    },
    {
     "output_type": "display_data",
     "data": {
      "application/javascript": "\n            setTimeout(function() {\n                var nbb_cell_id = 19;\n                var nbb_unformatted_code = \"df = dd.read_parquet(\\\"data/feature_checkpoint\\\", engine=\\\"pyarrow\\\", index=\\\"asin\\\")\\ndf.head()\";\n                var nbb_formatted_code = \"df = dd.read_parquet(\\\"data/feature_checkpoint\\\", engine=\\\"pyarrow\\\", index=\\\"asin\\\")\\ndf.head()\";\n                var nbb_cells = Jupyter.notebook.get_cells();\n                for (var i = 0; i < nbb_cells.length; ++i) {\n                    if (nbb_cells[i].input_prompt_number == nbb_cell_id) {\n                        if (nbb_cells[i].get_text() == nbb_unformatted_code) {\n                             nbb_cells[i].set_text(nbb_formatted_code);\n                        }\n                        break;\n                    }\n                }\n            }, 500);\n            ",
      "text/plain": [
       "<IPython.core.display.Javascript object>"
      ]
     },
     "metadata": {}
    }
   ],
   "metadata": {
    "ExecuteTime": {
     "end_time": "2021-09-11T06:49:38.578209Z",
     "start_time": "2021-09-11T06:49:35.739208Z"
    }
   }
  },
  {
   "cell_type": "code",
   "execution_count": 20,
   "source": [
    "text_schema = \"{title}. {description}. {feature}. {brand}.\"\r\n",
    "\r\n",
    "\r\n",
    "def construct_text(item, schema=text_schema):\r\n",
    "    text = schema.format(**item)\r\n",
    "    return lang.strip_extra_periods(text)\r\n",
    "\r\n",
    "\r\n",
    "construct_text(df.head(1).squeeze())"
   ],
   "outputs": [
    {
     "output_type": "execute_result",
     "data": {
      "text/plain": [
       "'come tell me how you lived: native american history of the tennessee valley. after rising in the appalachian mountains of virginia and north carolina, the tennessee river flows in a southwesterly direction through tennessee making a bend to the west in alabama and touching mississippi. the river turns to the north through tennessee again and finally into kentucky where it joins the ohio river. for thousands of years, native americans lived in and around the river valley in great numbers. even though lakes from the tennessee valley authority dams have covered the evidence left at many of the indian sites, this book attempts to show how these first americans lived. numerous pictures are shown to help illustrate their long and interesting story. enter the arena.'"
      ]
     },
     "metadata": {},
     "execution_count": 20
    },
    {
     "output_type": "display_data",
     "data": {
      "application/javascript": "\n            setTimeout(function() {\n                var nbb_cell_id = 20;\n                var nbb_unformatted_code = \"text_schema = \\\"{title}. {description}. {feature}. {brand}.\\\"\\n\\n\\ndef construct_text(item, schema=text_schema):\\n    text = schema.format(**item)\\n    return lang.strip_extra_periods(text)\\n\\n\\nconstruct_text(df.head(1).squeeze())\";\n                var nbb_formatted_code = \"text_schema = \\\"{title}. {description}. {feature}. {brand}.\\\"\\n\\n\\ndef construct_text(item, schema=text_schema):\\n    text = schema.format(**item)\\n    return lang.strip_extra_periods(text)\\n\\n\\nconstruct_text(df.head(1).squeeze())\";\n                var nbb_cells = Jupyter.notebook.get_cells();\n                for (var i = 0; i < nbb_cells.length; ++i) {\n                    if (nbb_cells[i].input_prompt_number == nbb_cell_id) {\n                        if (nbb_cells[i].get_text() == nbb_unformatted_code) {\n                             nbb_cells[i].set_text(nbb_formatted_code);\n                        }\n                        break;\n                    }\n                }\n            }, 500);\n            ",
      "text/plain": [
       "<IPython.core.display.Javascript object>"
      ]
     },
     "metadata": {}
    }
   ],
   "metadata": {
    "ExecuteTime": {
     "end_time": "2021-09-11T06:49:40.743788Z",
     "start_time": "2021-09-11T06:49:38.579206Z"
    }
   }
  },
  {
   "cell_type": "code",
   "execution_count": 21,
   "source": [
    "# Apply function row-wise\r\n",
    "df[\"text\"] = df.apply(construct_text, meta=str, axis=1)\r\n",
    "df[\"text\"].head()"
   ],
   "outputs": [
    {
     "output_type": "execute_result",
     "data": {
      "text/plain": [
       "asin\n",
       "1441072241    come tell me how you lived: native american hi...\n",
       "6090113980    prayer rug carpet mat gebetsteppich islamic mu...\n",
       "7250468162    no7 stay perfect foundation cool vanilla by no...\n",
       "8279996397    imagen bendita por su santidad our lady of cha...\n",
       "9197882747    hall of femmes: lella vignelli (hall of femmes...\n",
       "Name: text, dtype: object"
      ]
     },
     "metadata": {},
     "execution_count": 21
    },
    {
     "output_type": "display_data",
     "data": {
      "application/javascript": "\n            setTimeout(function() {\n                var nbb_cell_id = 21;\n                var nbb_unformatted_code = \"# Apply function row-wise\\ndf[\\\"text\\\"] = df.apply(construct_text, meta=str, axis=1)\\ndf[\\\"text\\\"].head()\";\n                var nbb_formatted_code = \"# Apply function row-wise\\ndf[\\\"text\\\"] = df.apply(construct_text, meta=str, axis=1)\\ndf[\\\"text\\\"].head()\";\n                var nbb_cells = Jupyter.notebook.get_cells();\n                for (var i = 0; i < nbb_cells.length; ++i) {\n                    if (nbb_cells[i].input_prompt_number == nbb_cell_id) {\n                        if (nbb_cells[i].get_text() == nbb_unformatted_code) {\n                             nbb_cells[i].set_text(nbb_formatted_code);\n                        }\n                        break;\n                    }\n                }\n            }, 500);\n            ",
      "text/plain": [
       "<IPython.core.display.Javascript object>"
      ]
     },
     "metadata": {}
    }
   ],
   "metadata": {
    "ExecuteTime": {
     "end_time": "2021-09-11T06:49:46.403534Z",
     "start_time": "2021-09-11T06:49:40.744787Z"
    }
   }
  },
  {
   "cell_type": "markdown",
   "source": [
    "# Export"
   ],
   "metadata": {}
  },
  {
   "cell_type": "code",
   "execution_count": 22,
   "source": [
    "df.to_parquet(\r\n",
    "    \"data/amazon_clean\",\r\n",
    "    engine=\"pyarrow\",\r\n",
    "    schema=\"infer\",\r\n",
    "    write_index=True,\r\n",
    "    overwrite=True,\r\n",
    ")"
   ],
   "outputs": [
    {
     "output_type": "display_data",
     "data": {
      "application/javascript": "\n            setTimeout(function() {\n                var nbb_cell_id = 22;\n                var nbb_unformatted_code = \"df.to_parquet(\\n    \\\"data/amazon_clean\\\",\\n    engine=\\\"pyarrow\\\",\\n    schema=\\\"infer\\\",\\n    write_index=True,\\n    overwrite=True,\\n)\";\n                var nbb_formatted_code = \"df.to_parquet(\\n    \\\"data/amazon_clean\\\",\\n    engine=\\\"pyarrow\\\",\\n    schema=\\\"infer\\\",\\n    write_index=True,\\n    overwrite=True,\\n)\";\n                var nbb_cells = Jupyter.notebook.get_cells();\n                for (var i = 0; i < nbb_cells.length; ++i) {\n                    if (nbb_cells[i].input_prompt_number == nbb_cell_id) {\n                        if (nbb_cells[i].get_text() == nbb_unformatted_code) {\n                             nbb_cells[i].set_text(nbb_formatted_code);\n                        }\n                        break;\n                    }\n                }\n            }, 500);\n            ",
      "text/plain": [
       "<IPython.core.display.Javascript object>"
      ]
     },
     "metadata": {}
    }
   ],
   "metadata": {
    "ExecuteTime": {
     "end_time": "2021-09-11T06:50:57.887081Z",
     "start_time": "2021-09-11T06:49:46.404535Z"
    }
   }
  },
  {
   "cell_type": "code",
   "execution_count": 23,
   "source": [
    "conf = input(\"Delete checkpoints? (y/n): \")\r\n",
    "if strtobool(conf):\r\n",
    "    for path in glob.glob(\"data/*_checkpoint\"):\r\n",
    "        shutil.rmtree(path)\r\n",
    "        print(f\"'{path}' deleted.\")\r\n",
    "else:\r\n",
    "    print(f\"Checkpoints not deleted.\")"
   ],
   "outputs": [
    {
     "output_type": "stream",
     "name": "stdout",
     "text": [
      "Delete checkpoints? (y/n): y\n",
      "'data\\brand_checkpoint' deleted.\n",
      "'data\\feature_checkpoint' deleted.\n",
      "'data\\filter_checkpoint' deleted.\n",
      "'data\\length_checkpoint' deleted.\n",
      "'data\\skeleton_checkpoint' deleted.\n"
     ]
    },
    {
     "output_type": "display_data",
     "data": {
      "application/javascript": "\n            setTimeout(function() {\n                var nbb_cell_id = 23;\n                var nbb_unformatted_code = \"conf = input(\\\"Delete checkpoints? (y/n): \\\")\\nif strtobool(conf):\\n    for path in glob.glob(\\\"data/*_checkpoint\\\"):\\n        shutil.rmtree(path)\\n        print(f\\\"'{path}' deleted.\\\")\\nelse:\\n    print(f\\\"Checkpoints not deleted.\\\")\";\n                var nbb_formatted_code = \"conf = input(\\\"Delete checkpoints? (y/n): \\\")\\nif strtobool(conf):\\n    for path in glob.glob(\\\"data/*_checkpoint\\\"):\\n        shutil.rmtree(path)\\n        print(f\\\"'{path}' deleted.\\\")\\nelse:\\n    print(f\\\"Checkpoints not deleted.\\\")\";\n                var nbb_cells = Jupyter.notebook.get_cells();\n                for (var i = 0; i < nbb_cells.length; ++i) {\n                    if (nbb_cells[i].input_prompt_number == nbb_cell_id) {\n                        if (nbb_cells[i].get_text() == nbb_unformatted_code) {\n                             nbb_cells[i].set_text(nbb_formatted_code);\n                        }\n                        break;\n                    }\n                }\n            }, 500);\n            ",
      "text/plain": [
       "<IPython.core.display.Javascript object>"
      ]
     },
     "metadata": {}
    }
   ],
   "metadata": {
    "ExecuteTime": {
     "end_time": "2021-09-11T06:51:57.953993Z",
     "start_time": "2021-09-11T06:50:57.888081Z"
    }
   }
  }
 ],
 "metadata": {
  "interpreter": {
   "hash": "45e948d0256f8c78ae85303b642a175be3add64c95f2eaa9e19fcfd099775c4c"
  },
  "kernelspec": {
   "display_name": "learn-env",
   "language": "python",
   "name": "learn-env"
  },
  "language_info": {
   "codemirror_mode": {
    "name": "ipython",
    "version": 3
   },
   "file_extension": ".py",
   "mimetype": "text/x-python",
   "name": "python",
   "nbconvert_exporter": "python",
   "pygments_lexer": "ipython3",
   "version": "3.8.5"
  },
  "toc": {
   "base_numbering": 1,
   "nav_menu": {},
   "number_sections": false,
   "sideBar": true,
   "skip_h1_title": false,
   "title_cell": "Table of Contents",
   "title_sidebar": "Contents",
   "toc_cell": false,
   "toc_position": {
    "height": "calc(100% - 180px)",
    "left": "10px",
    "top": "150px",
    "width": "568.889px"
   },
   "toc_section_display": true,
   "toc_window_display": true
  }
 },
 "nbformat": 4,
 "nbformat_minor": 2
}