{
 "cells": [
  {
   "cell_type": "code",
   "execution_count": 1,
   "metadata": {
    "ExecuteTime": {
     "end_time": "2021-08-23T00:30:12.471432Z",
     "start_time": "2021-08-23T00:30:09.453227Z"
    },
    "scrolled": true
   },
   "outputs": [
    {
     "data": {
      "application/javascript": [
       "\n",
       "            setTimeout(function() {\n",
       "                var nbb_cell_id = 1;\n",
       "                var nbb_unformatted_code = \"import re\\nimport string\\nimport json\\nimport os\\nimport shutil\\nfrom pprint import pprint\\nfrom functools import partial\\nfrom operator import itemgetter, attrgetter\\nfrom os.path import normpath\\nfrom typing import Callable\\n\\nimport joblib\\nimport matplotlib.pyplot as plt\\nimport nltk\\nimport numpy as np\\nimport pandas as pd\\nimport seaborn as sns\\n\\nimport dask\\nimport dask.dataframe as dd\\n\\n# Set Seaborn theme and default palette\\nsns.set_theme(font_scale=1.25, style=\\\"darkgrid\\\")\\nsns.set_palette(\\\"deep\\\", desat=0.85, color_codes=True)\\n\\n# Turn on inline plotting\\n%matplotlib inline\\n\\n# Load Black auto-formatter\\n%load_ext nb_black\\n\\n# Enable automatic reloading\\n%load_ext autoreload\\n%autoreload 2\";\n",
       "                var nbb_formatted_code = \"import re\\nimport string\\nimport json\\nimport os\\nimport shutil\\nfrom pprint import pprint\\nfrom functools import partial\\nfrom operator import itemgetter, attrgetter\\nfrom os.path import normpath\\nfrom typing import Callable\\n\\nimport joblib\\nimport matplotlib.pyplot as plt\\nimport nltk\\nimport numpy as np\\nimport pandas as pd\\nimport seaborn as sns\\n\\nimport dask\\nimport dask.dataframe as dd\\n\\n# Set Seaborn theme and default palette\\nsns.set_theme(font_scale=1.25, style=\\\"darkgrid\\\")\\nsns.set_palette(\\\"deep\\\", desat=0.85, color_codes=True)\\n\\n# Turn on inline plotting\\n%matplotlib inline\\n\\n# Load Black auto-formatter\\n%load_ext nb_black\\n\\n# Enable automatic reloading\\n%load_ext autoreload\\n%autoreload 2\";\n",
       "                var nbb_cells = Jupyter.notebook.get_cells();\n",
       "                for (var i = 0; i < nbb_cells.length; ++i) {\n",
       "                    if (nbb_cells[i].input_prompt_number == nbb_cell_id) {\n",
       "                        if (nbb_cells[i].get_text() == nbb_unformatted_code) {\n",
       "                             nbb_cells[i].set_text(nbb_formatted_code);\n",
       "                        }\n",
       "                        break;\n",
       "                    }\n",
       "                }\n",
       "            }, 500);\n",
       "            "
      ],
      "text/plain": [
       "<IPython.core.display.Javascript object>"
      ]
     },
     "metadata": {},
     "output_type": "display_data"
    }
   ],
   "source": [
    "import re\n",
    "import string\n",
    "import json\n",
    "import os\n",
    "import shutil\n",
    "from pprint import pprint\n",
    "from functools import partial\n",
    "from operator import itemgetter, attrgetter\n",
    "from os.path import normpath\n",
    "from typing import Callable\n",
    "\n",
    "import joblib\n",
    "import matplotlib.pyplot as plt\n",
    "import nltk\n",
    "import numpy as np\n",
    "import pandas as pd\n",
    "import seaborn as sns\n",
    "\n",
    "import dask\n",
    "import dask.dataframe as dd\n",
    "\n",
    "# Set Seaborn theme and default palette\n",
    "sns.set_theme(font_scale=1.25, style=\"darkgrid\")\n",
    "sns.set_palette(\"deep\", desat=0.85, color_codes=True)\n",
    "\n",
    "# Turn on inline plotting\n",
    "%matplotlib inline\n",
    "\n",
    "# Load Black auto-formatter\n",
    "%load_ext nb_black\n",
    "\n",
    "# Enable automatic reloading\n",
    "%load_ext autoreload\n",
    "%autoreload 2"
   ]
  },
  {
   "cell_type": "code",
   "execution_count": 2,
   "metadata": {
    "ExecuteTime": {
     "end_time": "2021-08-23T00:30:13.413445Z",
     "start_time": "2021-08-23T00:30:12.472435Z"
    }
   },
   "outputs": [
    {
     "data": {
      "text/plain": [
       "<dask.config.set at 0x294a6191b80>"
      ]
     },
     "execution_count": 2,
     "metadata": {},
     "output_type": "execute_result"
    },
    {
     "data": {
      "application/javascript": [
       "\n",
       "            setTimeout(function() {\n",
       "                var nbb_cell_id = 2;\n",
       "                var nbb_unformatted_code = \"# Import my modules\\nfrom tools import cleaning, plotting, language as lang, outliers, utils\\n\\n# Set my default MPL settings\\nplt.rcParams.update(plotting.MPL_DEFAULTS)\\n\\ndask.config.set(scheduler=\\\"processes\\\")\";\n",
       "                var nbb_formatted_code = \"# Import my modules\\nfrom tools import cleaning, plotting, language as lang, outliers, utils\\n\\n# Set my default MPL settings\\nplt.rcParams.update(plotting.MPL_DEFAULTS)\\n\\ndask.config.set(scheduler=\\\"processes\\\")\";\n",
       "                var nbb_cells = Jupyter.notebook.get_cells();\n",
       "                for (var i = 0; i < nbb_cells.length; ++i) {\n",
       "                    if (nbb_cells[i].input_prompt_number == nbb_cell_id) {\n",
       "                        if (nbb_cells[i].get_text() == nbb_unformatted_code) {\n",
       "                             nbb_cells[i].set_text(nbb_formatted_code);\n",
       "                        }\n",
       "                        break;\n",
       "                    }\n",
       "                }\n",
       "            }, 500);\n",
       "            "
      ],
      "text/plain": [
       "<IPython.core.display.Javascript object>"
      ]
     },
     "metadata": {},
     "output_type": "display_data"
    }
   ],
   "source": [
    "# Import my modules\n",
    "from tools import cleaning, plotting, language as lang, outliers, utils\n",
    "\n",
    "# Set my default MPL settings\n",
    "plt.rcParams.update(plotting.MPL_DEFAULTS)\n",
    "\n",
    "dask.config.set(scheduler=\"processes\")"
   ]
  },
  {
   "cell_type": "markdown",
   "metadata": {},
   "source": [
    "# Initial Pruning"
   ]
  },
  {
   "cell_type": "code",
   "execution_count": 3,
   "metadata": {
    "ExecuteTime": {
     "end_time": "2021-08-22T01:33:35.555699Z",
     "start_time": "2021-08-22T01:33:35.294890Z"
    }
   },
   "outputs": [
    {
     "data": {
      "text/html": [
       "<div><strong>Dask DataFrame Structure:</strong></div>\n",
       "<div>\n",
       "<style scoped>\n",
       "    .dataframe tbody tr th:only-of-type {\n",
       "        vertical-align: middle;\n",
       "    }\n",
       "\n",
       "    .dataframe tbody tr th {\n",
       "        vertical-align: top;\n",
       "    }\n",
       "\n",
       "    .dataframe thead th {\n",
       "        text-align: right;\n",
       "    }\n",
       "</style>\n",
       "<table border=\"1\" class=\"dataframe\">\n",
       "  <thead>\n",
       "    <tr style=\"text-align: right;\">\n",
       "      <th></th>\n",
       "      <th>description</th>\n",
       "      <th>main_cat</th>\n",
       "      <th>asin</th>\n",
       "    </tr>\n",
       "    <tr>\n",
       "      <th>npartitions=151</th>\n",
       "      <th></th>\n",
       "      <th></th>\n",
       "      <th></th>\n",
       "    </tr>\n",
       "  </thead>\n",
       "  <tbody>\n",
       "    <tr>\n",
       "      <th></th>\n",
       "      <td>object</td>\n",
       "      <td>object</td>\n",
       "      <td>object</td>\n",
       "    </tr>\n",
       "    <tr>\n",
       "      <th></th>\n",
       "      <td>...</td>\n",
       "      <td>...</td>\n",
       "      <td>...</td>\n",
       "    </tr>\n",
       "    <tr>\n",
       "      <th>...</th>\n",
       "      <td>...</td>\n",
       "      <td>...</td>\n",
       "      <td>...</td>\n",
       "    </tr>\n",
       "    <tr>\n",
       "      <th></th>\n",
       "      <td>...</td>\n",
       "      <td>...</td>\n",
       "      <td>...</td>\n",
       "    </tr>\n",
       "    <tr>\n",
       "      <th></th>\n",
       "      <td>...</td>\n",
       "      <td>...</td>\n",
       "      <td>...</td>\n",
       "    </tr>\n",
       "  </tbody>\n",
       "</table>\n",
       "</div>\n",
       "<div>Dask Name: dropna, 302 tasks</div>"
      ],
      "text/plain": [
       "Dask DataFrame Structure:\n",
       "                description main_cat    asin\n",
       "npartitions=151                             \n",
       "                     object   object  object\n",
       "                        ...      ...     ...\n",
       "...                     ...      ...     ...\n",
       "                        ...      ...     ...\n",
       "                        ...      ...     ...\n",
       "Dask Name: dropna, 302 tasks"
      ]
     },
     "execution_count": 3,
     "metadata": {},
     "output_type": "execute_result"
    },
    {
     "data": {
      "application/javascript": [
       "\n",
       "            setTimeout(function() {\n",
       "                var nbb_cell_id = 3;\n",
       "                var nbb_unformatted_code = \"cols = [\\\"description\\\", \\\"main_cat\\\", \\\"asin\\\"]\\ndf = dd.read_parquet(\\\"data/amazon\\\", engine=\\\"pyarrow\\\", columns=cols)\\ndf = df.dropna(subset=[\\\"description\\\", \\\"main_cat\\\"])\\ndf\";\n",
       "                var nbb_formatted_code = \"cols = [\\\"description\\\", \\\"main_cat\\\", \\\"asin\\\"]\\ndf = dd.read_parquet(\\\"data/amazon\\\", engine=\\\"pyarrow\\\", columns=cols)\\ndf = df.dropna(subset=[\\\"description\\\", \\\"main_cat\\\"])\\ndf\";\n",
       "                var nbb_cells = Jupyter.notebook.get_cells();\n",
       "                for (var i = 0; i < nbb_cells.length; ++i) {\n",
       "                    if (nbb_cells[i].input_prompt_number == nbb_cell_id) {\n",
       "                        if (nbb_cells[i].get_text() == nbb_unformatted_code) {\n",
       "                             nbb_cells[i].set_text(nbb_formatted_code);\n",
       "                        }\n",
       "                        break;\n",
       "                    }\n",
       "                }\n",
       "            }, 500);\n",
       "            "
      ],
      "text/plain": [
       "<IPython.core.display.Javascript object>"
      ]
     },
     "metadata": {},
     "output_type": "display_data"
    }
   ],
   "source": [
    "cols = [\"description\", \"main_cat\", \"asin\"]\n",
    "df = dd.read_parquet(\"data/amazon\", engine=\"pyarrow\", columns=cols)\n",
    "df = df.dropna(subset=[\"description\", \"main_cat\"])\n",
    "df"
   ]
  },
  {
   "cell_type": "code",
   "execution_count": 4,
   "metadata": {
    "ExecuteTime": {
     "end_time": "2021-08-22T01:33:37.559318Z",
     "start_time": "2021-08-22T01:33:35.556673Z"
    }
   },
   "outputs": [
    {
     "data": {
      "text/html": [
       "<div>\n",
       "<style scoped>\n",
       "    .dataframe tbody tr th:only-of-type {\n",
       "        vertical-align: middle;\n",
       "    }\n",
       "\n",
       "    .dataframe tbody tr th {\n",
       "        vertical-align: top;\n",
       "    }\n",
       "\n",
       "    .dataframe thead th {\n",
       "        text-align: right;\n",
       "    }\n",
       "</style>\n",
       "<table border=\"1\" class=\"dataframe\">\n",
       "  <thead>\n",
       "    <tr style=\"text-align: right;\">\n",
       "      <th></th>\n",
       "      <th>description</th>\n",
       "      <th>main_cat</th>\n",
       "      <th>asin</th>\n",
       "    </tr>\n",
       "  </thead>\n",
       "  <tbody>\n",
       "    <tr>\n",
       "      <th>0</th>\n",
       "      <td>[(=^ ^=) 1.It is made of high quality material...</td>\n",
       "      <td>Movies &amp; TV</td>\n",
       "      <td>6305121869</td>\n",
       "    </tr>\n",
       "    <tr>\n",
       "      <th>1</th>\n",
       "      <td>[&lt;b&gt;&lt;br&gt;Hi friend, welcome to our store. Befor...</td>\n",
       "      <td>&lt;img src=\"https://images-na.ssl-images-amazon....</td>\n",
       "      <td>6318708057</td>\n",
       "    </tr>\n",
       "    <tr>\n",
       "      <th>2</th>\n",
       "      <td>[Gaok men's pants are all made from cotton mat...</td>\n",
       "      <td>&lt;img src=\"https://images-na.ssl-images-amazon....</td>\n",
       "      <td>6342506256</td>\n",
       "    </tr>\n",
       "    <tr>\n",
       "      <th>3</th>\n",
       "      <td>[&lt;b&gt;pant size(Unit:inch)&lt;/b&gt;&lt;br&gt; W30(tag30) Wa...</td>\n",
       "      <td>&lt;img src=\"https://images-na.ssl-images-amazon....</td>\n",
       "      <td>6342509379</td>\n",
       "    </tr>\n",
       "    <tr>\n",
       "      <th>4</th>\n",
       "      <td>[All of our sunglasses offer protection agains...</td>\n",
       "      <td>Sports &amp; Outdoors</td>\n",
       "      <td>6342522081</td>\n",
       "    </tr>\n",
       "  </tbody>\n",
       "</table>\n",
       "</div>"
      ],
      "text/plain": [
       "                                         description  \\\n",
       "0  [(=^ ^=) 1.It is made of high quality material...   \n",
       "1  [<b><br>Hi friend, welcome to our store. Befor...   \n",
       "2  [Gaok men's pants are all made from cotton mat...   \n",
       "3  [<b>pant size(Unit:inch)</b><br> W30(tag30) Wa...   \n",
       "4  [All of our sunglasses offer protection agains...   \n",
       "\n",
       "                                            main_cat        asin  \n",
       "0                                        Movies & TV  6305121869  \n",
       "1  <img src=\"https://images-na.ssl-images-amazon....  6318708057  \n",
       "2  <img src=\"https://images-na.ssl-images-amazon....  6342506256  \n",
       "3  <img src=\"https://images-na.ssl-images-amazon....  6342509379  \n",
       "4                                  Sports & Outdoors  6342522081  "
      ]
     },
     "execution_count": 4,
     "metadata": {},
     "output_type": "execute_result"
    },
    {
     "data": {
      "application/javascript": [
       "\n",
       "            setTimeout(function() {\n",
       "                var nbb_cell_id = 4;\n",
       "                var nbb_unformatted_code = \"df.head()\";\n",
       "                var nbb_formatted_code = \"df.head()\";\n",
       "                var nbb_cells = Jupyter.notebook.get_cells();\n",
       "                for (var i = 0; i < nbb_cells.length; ++i) {\n",
       "                    if (nbb_cells[i].input_prompt_number == nbb_cell_id) {\n",
       "                        if (nbb_cells[i].get_text() == nbb_unformatted_code) {\n",
       "                             nbb_cells[i].set_text(nbb_formatted_code);\n",
       "                        }\n",
       "                        break;\n",
       "                    }\n",
       "                }\n",
       "            }, 500);\n",
       "            "
      ],
      "text/plain": [
       "<IPython.core.display.Javascript object>"
      ]
     },
     "metadata": {},
     "output_type": "display_data"
    }
   ],
   "source": [
    "df.head()"
   ]
  },
  {
   "cell_type": "code",
   "execution_count": 5,
   "metadata": {
    "ExecuteTime": {
     "end_time": "2021-08-22T01:33:37.662453Z",
     "start_time": "2021-08-22T01:33:37.560318Z"
    }
   },
   "outputs": [
    {
     "data": {
      "application/javascript": [
       "\n",
       "            setTimeout(function() {\n",
       "                var nbb_cell_id = 5;\n",
       "                var nbb_unformatted_code = \"# df.to_parquet(\\n#     \\\"data/init_dropna\\\",\\n#     engine=\\\"pyarrow\\\",\\n#     schema=\\\"infer\\\",\\n#     overwrite=True,\\n# )\";\n",
       "                var nbb_formatted_code = \"# df.to_parquet(\\n#     \\\"data/init_dropna\\\",\\n#     engine=\\\"pyarrow\\\",\\n#     schema=\\\"infer\\\",\\n#     overwrite=True,\\n# )\";\n",
       "                var nbb_cells = Jupyter.notebook.get_cells();\n",
       "                for (var i = 0; i < nbb_cells.length; ++i) {\n",
       "                    if (nbb_cells[i].input_prompt_number == nbb_cell_id) {\n",
       "                        if (nbb_cells[i].get_text() == nbb_unformatted_code) {\n",
       "                             nbb_cells[i].set_text(nbb_formatted_code);\n",
       "                        }\n",
       "                        break;\n",
       "                    }\n",
       "                }\n",
       "            }, 500);\n",
       "            "
      ],
      "text/plain": [
       "<IPython.core.display.Javascript object>"
      ]
     },
     "metadata": {},
     "output_type": "display_data"
    }
   ],
   "source": [
    "# df.to_parquet(\n",
    "#     \"data/init_dropna\",\n",
    "#     engine=\"pyarrow\",\n",
    "#     schema=\"infer\",\n",
    "#     overwrite=True,\n",
    "# )"
   ]
  },
  {
   "cell_type": "code",
   "execution_count": 6,
   "metadata": {
    "ExecuteTime": {
     "end_time": "2021-08-22T01:33:37.768220Z",
     "start_time": "2021-08-22T01:33:37.663453Z"
    }
   },
   "outputs": [
    {
     "data": {
      "application/javascript": [
       "\n",
       "            setTimeout(function() {\n",
       "                var nbb_cell_id = 6;\n",
       "                var nbb_unformatted_code = \"# df = dd.read_parquet(\\\"data/init_dropna\\\", engine=\\\"pyarrow\\\").compute()\\n# df\";\n",
       "                var nbb_formatted_code = \"# df = dd.read_parquet(\\\"data/init_dropna\\\", engine=\\\"pyarrow\\\").compute()\\n# df\";\n",
       "                var nbb_cells = Jupyter.notebook.get_cells();\n",
       "                for (var i = 0; i < nbb_cells.length; ++i) {\n",
       "                    if (nbb_cells[i].input_prompt_number == nbb_cell_id) {\n",
       "                        if (nbb_cells[i].get_text() == nbb_unformatted_code) {\n",
       "                             nbb_cells[i].set_text(nbb_formatted_code);\n",
       "                        }\n",
       "                        break;\n",
       "                    }\n",
       "                }\n",
       "            }, 500);\n",
       "            "
      ],
      "text/plain": [
       "<IPython.core.display.Javascript object>"
      ]
     },
     "metadata": {},
     "output_type": "display_data"
    }
   ],
   "source": [
    "# df = dd.read_parquet(\"data/init_dropna\", engine=\"pyarrow\").compute()\n",
    "# df"
   ]
  },
  {
   "cell_type": "code",
   "execution_count": 7,
   "metadata": {
    "ExecuteTime": {
     "end_time": "2021-08-22T01:34:51.761877Z",
     "start_time": "2021-08-22T01:33:37.768220Z"
    }
   },
   "outputs": [
    {
     "data": {
      "text/html": [
       "<div>\n",
       "<style scoped>\n",
       "    .dataframe tbody tr th:only-of-type {\n",
       "        vertical-align: middle;\n",
       "    }\n",
       "\n",
       "    .dataframe tbody tr th {\n",
       "        vertical-align: top;\n",
       "    }\n",
       "\n",
       "    .dataframe thead th {\n",
       "        text-align: right;\n",
       "    }\n",
       "</style>\n",
       "<table border=\"1\" class=\"dataframe\">\n",
       "  <thead>\n",
       "    <tr style=\"text-align: right;\">\n",
       "      <th></th>\n",
       "      <th>description</th>\n",
       "      <th>main_cat</th>\n",
       "      <th>asin</th>\n",
       "    </tr>\n",
       "  </thead>\n",
       "  <tbody>\n",
       "    <tr>\n",
       "      <th>0</th>\n",
       "      <td>[(=^ ^=) 1.It is made of high quality material...</td>\n",
       "      <td>Movies &amp; TV</td>\n",
       "      <td>6305121869</td>\n",
       "    </tr>\n",
       "    <tr>\n",
       "      <th>1</th>\n",
       "      <td>[&lt;b&gt;&lt;br&gt;Hi friend, welcome to our store. Befor...</td>\n",
       "      <td>&lt;img src=\"https://images-na.ssl-images-amazon....</td>\n",
       "      <td>6318708057</td>\n",
       "    </tr>\n",
       "    <tr>\n",
       "      <th>2</th>\n",
       "      <td>[Gaok men's pants are all made from cotton mat...</td>\n",
       "      <td>&lt;img src=\"https://images-na.ssl-images-amazon....</td>\n",
       "      <td>6342506256</td>\n",
       "    </tr>\n",
       "    <tr>\n",
       "      <th>3</th>\n",
       "      <td>[&lt;b&gt;pant size(Unit:inch)&lt;/b&gt;&lt;br&gt; W30(tag30) Wa...</td>\n",
       "      <td>&lt;img src=\"https://images-na.ssl-images-amazon....</td>\n",
       "      <td>6342509379</td>\n",
       "    </tr>\n",
       "    <tr>\n",
       "      <th>4</th>\n",
       "      <td>[All of our sunglasses offer protection agains...</td>\n",
       "      <td>Sports &amp; Outdoors</td>\n",
       "      <td>6342522081</td>\n",
       "    </tr>\n",
       "    <tr>\n",
       "      <th>...</th>\n",
       "      <td>...</td>\n",
       "      <td>...</td>\n",
       "      <td>...</td>\n",
       "    </tr>\n",
       "    <tr>\n",
       "      <th>22121</th>\n",
       "      <td>[, CND Craft Culture Collection: Patina Buckle...</td>\n",
       "      <td>Luxury Beauty</td>\n",
       "      <td>B01HIQIEYC</td>\n",
       "    </tr>\n",
       "    <tr>\n",
       "      <th>22122</th>\n",
       "      <td>[CND Shellac was designed to be used as a syst...</td>\n",
       "      <td>Luxury Beauty</td>\n",
       "      <td>B01HIQHQU0</td>\n",
       "    </tr>\n",
       "    <tr>\n",
       "      <th>22123</th>\n",
       "      <td>[CND Shellac was designed to be used as a syst...</td>\n",
       "      <td>Luxury Beauty</td>\n",
       "      <td>B01HIQEOLO</td>\n",
       "    </tr>\n",
       "    <tr>\n",
       "      <th>22124</th>\n",
       "      <td>[The I AM JUICY COUTURE girl is once again tak...</td>\n",
       "      <td>Luxury Beauty</td>\n",
       "      <td>B01HJ2UY0W</td>\n",
       "    </tr>\n",
       "    <tr>\n",
       "      <th>22125</th>\n",
       "      <td>[I Love Juicy Couture Eau De Parfum Spray 3.4 ...</td>\n",
       "      <td>Luxury Beauty</td>\n",
       "      <td>B01HJ2UY1G</td>\n",
       "    </tr>\n",
       "  </tbody>\n",
       "</table>\n",
       "<p>11617835 rows × 3 columns</p>\n",
       "</div>"
      ],
      "text/plain": [
       "                                             description  \\\n",
       "0      [(=^ ^=) 1.It is made of high quality material...   \n",
       "1      [<b><br>Hi friend, welcome to our store. Befor...   \n",
       "2      [Gaok men's pants are all made from cotton mat...   \n",
       "3      [<b>pant size(Unit:inch)</b><br> W30(tag30) Wa...   \n",
       "4      [All of our sunglasses offer protection agains...   \n",
       "...                                                  ...   \n",
       "22121  [, CND Craft Culture Collection: Patina Buckle...   \n",
       "22122  [CND Shellac was designed to be used as a syst...   \n",
       "22123  [CND Shellac was designed to be used as a syst...   \n",
       "22124  [The I AM JUICY COUTURE girl is once again tak...   \n",
       "22125  [I Love Juicy Couture Eau De Parfum Spray 3.4 ...   \n",
       "\n",
       "                                                main_cat        asin  \n",
       "0                                            Movies & TV  6305121869  \n",
       "1      <img src=\"https://images-na.ssl-images-amazon....  6318708057  \n",
       "2      <img src=\"https://images-na.ssl-images-amazon....  6342506256  \n",
       "3      <img src=\"https://images-na.ssl-images-amazon....  6342509379  \n",
       "4                                      Sports & Outdoors  6342522081  \n",
       "...                                                  ...         ...  \n",
       "22121                                      Luxury Beauty  B01HIQIEYC  \n",
       "22122                                      Luxury Beauty  B01HIQHQU0  \n",
       "22123                                      Luxury Beauty  B01HIQEOLO  \n",
       "22124                                      Luxury Beauty  B01HJ2UY0W  \n",
       "22125                                      Luxury Beauty  B01HJ2UY1G  \n",
       "\n",
       "[11617835 rows x 3 columns]"
      ]
     },
     "execution_count": 7,
     "metadata": {},
     "output_type": "execute_result"
    },
    {
     "data": {
      "application/javascript": [
       "\n",
       "            setTimeout(function() {\n",
       "                var nbb_cell_id = 7;\n",
       "                var nbb_unformatted_code = \"df = df.compute()\\ndf\";\n",
       "                var nbb_formatted_code = \"df = df.compute()\\ndf\";\n",
       "                var nbb_cells = Jupyter.notebook.get_cells();\n",
       "                for (var i = 0; i < nbb_cells.length; ++i) {\n",
       "                    if (nbb_cells[i].input_prompt_number == nbb_cell_id) {\n",
       "                        if (nbb_cells[i].get_text() == nbb_unformatted_code) {\n",
       "                             nbb_cells[i].set_text(nbb_formatted_code);\n",
       "                        }\n",
       "                        break;\n",
       "                    }\n",
       "                }\n",
       "            }, 500);\n",
       "            "
      ],
      "text/plain": [
       "<IPython.core.display.Javascript object>"
      ]
     },
     "metadata": {},
     "output_type": "display_data"
    }
   ],
   "source": [
    "df = df.compute()\n",
    "df"
   ]
  },
  {
   "cell_type": "code",
   "execution_count": 8,
   "metadata": {
    "ExecuteTime": {
     "end_time": "2021-08-22T01:35:08.672624Z",
     "start_time": "2021-08-22T01:34:51.762849Z"
    }
   },
   "outputs": [
    {
     "data": {
      "text/html": [
       "<div>\n",
       "<style scoped>\n",
       "    .dataframe tbody tr th:only-of-type {\n",
       "        vertical-align: middle;\n",
       "    }\n",
       "\n",
       "    .dataframe tbody tr th {\n",
       "        vertical-align: top;\n",
       "    }\n",
       "\n",
       "    .dataframe thead th {\n",
       "        text-align: right;\n",
       "    }\n",
       "</style>\n",
       "<table border=\"1\" class=\"dataframe\">\n",
       "  <thead>\n",
       "    <tr style=\"text-align: right;\">\n",
       "      <th></th>\n",
       "      <th>description</th>\n",
       "      <th>main_cat</th>\n",
       "      <th>asin</th>\n",
       "    </tr>\n",
       "  </thead>\n",
       "  <tbody>\n",
       "    <tr>\n",
       "      <th>0</th>\n",
       "      <td>(=^ ^=) 1.It is made of high quality materials...</td>\n",
       "      <td>Movies &amp; TV</td>\n",
       "      <td>6305121869</td>\n",
       "    </tr>\n",
       "    <tr>\n",
       "      <th>1</th>\n",
       "      <td>&lt;b&gt;&lt;br&gt;Hi friend, welcome to our store. Before...</td>\n",
       "      <td>&lt;img src=\"https://images-na.ssl-images-amazon....</td>\n",
       "      <td>6318708057</td>\n",
       "    </tr>\n",
       "    <tr>\n",
       "      <th>2</th>\n",
       "      <td>Gaok men's pants are all made from cotton mate...</td>\n",
       "      <td>&lt;img src=\"https://images-na.ssl-images-amazon....</td>\n",
       "      <td>6342506256</td>\n",
       "    </tr>\n",
       "    <tr>\n",
       "      <th>3</th>\n",
       "      <td>&lt;b&gt;pant size(Unit:inch)&lt;/b&gt;&lt;br&gt; W30(tag30) Wai...</td>\n",
       "      <td>&lt;img src=\"https://images-na.ssl-images-amazon....</td>\n",
       "      <td>6342509379</td>\n",
       "    </tr>\n",
       "    <tr>\n",
       "      <th>4</th>\n",
       "      <td>All of our sunglasses offer protection against...</td>\n",
       "      <td>Sports &amp; Outdoors</td>\n",
       "      <td>6342522081</td>\n",
       "    </tr>\n",
       "  </tbody>\n",
       "</table>\n",
       "</div>"
      ],
      "text/plain": [
       "                                         description  \\\n",
       "0  (=^ ^=) 1.It is made of high quality materials...   \n",
       "1  <b><br>Hi friend, welcome to our store. Before...   \n",
       "2  Gaok men's pants are all made from cotton mate...   \n",
       "3  <b>pant size(Unit:inch)</b><br> W30(tag30) Wai...   \n",
       "4  All of our sunglasses offer protection against...   \n",
       "\n",
       "                                            main_cat        asin  \n",
       "0                                        Movies & TV  6305121869  \n",
       "1  <img src=\"https://images-na.ssl-images-amazon....  6318708057  \n",
       "2  <img src=\"https://images-na.ssl-images-amazon....  6342506256  \n",
       "3  <img src=\"https://images-na.ssl-images-amazon....  6342509379  \n",
       "4                                  Sports & Outdoors  6342522081  "
      ]
     },
     "execution_count": 8,
     "metadata": {},
     "output_type": "execute_result"
    },
    {
     "data": {
      "application/javascript": [
       "\n",
       "            setTimeout(function() {\n",
       "                var nbb_cell_id = 8;\n",
       "                var nbb_unformatted_code = \"df[\\\"description\\\"] = df.loc[:, \\\"description\\\"].str.join(\\\" \\\")\\ndf.head()\";\n",
       "                var nbb_formatted_code = \"df[\\\"description\\\"] = df.loc[:, \\\"description\\\"].str.join(\\\" \\\")\\ndf.head()\";\n",
       "                var nbb_cells = Jupyter.notebook.get_cells();\n",
       "                for (var i = 0; i < nbb_cells.length; ++i) {\n",
       "                    if (nbb_cells[i].input_prompt_number == nbb_cell_id) {\n",
       "                        if (nbb_cells[i].get_text() == nbb_unformatted_code) {\n",
       "                             nbb_cells[i].set_text(nbb_formatted_code);\n",
       "                        }\n",
       "                        break;\n",
       "                    }\n",
       "                }\n",
       "            }, 500);\n",
       "            "
      ],
      "text/plain": [
       "<IPython.core.display.Javascript object>"
      ]
     },
     "metadata": {},
     "output_type": "display_data"
    }
   ],
   "source": [
    "df[\"description\"] = df.loc[:, \"description\"].str.join(\" \")\n",
    "df.head()"
   ]
  },
  {
   "cell_type": "code",
   "execution_count": 9,
   "metadata": {
    "ExecuteTime": {
     "end_time": "2021-08-22T01:35:40.265072Z",
     "start_time": "2021-08-22T01:35:08.674625Z"
    }
   },
   "outputs": [
    {
     "data": {
      "text/plain": [
       "(8244935, 3)"
      ]
     },
     "execution_count": 9,
     "metadata": {},
     "output_type": "execute_result"
    },
    {
     "data": {
      "application/javascript": [
       "\n",
       "            setTimeout(function() {\n",
       "                var nbb_cell_id = 9;\n",
       "                var nbb_unformatted_code = \"df = df.drop_duplicates(subset=[\\\"asin\\\"])\\ndf = df.drop_duplicates(subset=[\\\"description\\\"])\\ndf.shape\";\n",
       "                var nbb_formatted_code = \"df = df.drop_duplicates(subset=[\\\"asin\\\"])\\ndf = df.drop_duplicates(subset=[\\\"description\\\"])\\ndf.shape\";\n",
       "                var nbb_cells = Jupyter.notebook.get_cells();\n",
       "                for (var i = 0; i < nbb_cells.length; ++i) {\n",
       "                    if (nbb_cells[i].input_prompt_number == nbb_cell_id) {\n",
       "                        if (nbb_cells[i].get_text() == nbb_unformatted_code) {\n",
       "                             nbb_cells[i].set_text(nbb_formatted_code);\n",
       "                        }\n",
       "                        break;\n",
       "                    }\n",
       "                }\n",
       "            }, 500);\n",
       "            "
      ],
      "text/plain": [
       "<IPython.core.display.Javascript object>"
      ]
     },
     "metadata": {},
     "output_type": "display_data"
    }
   ],
   "source": [
    "df = df.drop_duplicates(subset=[\"asin\"])\n",
    "df = df.drop_duplicates(subset=[\"description\"])\n",
    "df.shape"
   ]
  },
  {
   "cell_type": "code",
   "execution_count": 10,
   "metadata": {
    "ExecuteTime": {
     "end_time": "2021-08-22T01:35:41.011760Z",
     "start_time": "2021-08-22T01:35:40.268072Z"
    }
   },
   "outputs": [
    {
     "data": {
      "text/html": [
       "<div>\n",
       "<style scoped>\n",
       "    .dataframe tbody tr th:only-of-type {\n",
       "        vertical-align: middle;\n",
       "    }\n",
       "\n",
       "    .dataframe tbody tr th {\n",
       "        vertical-align: top;\n",
       "    }\n",
       "\n",
       "    .dataframe thead th {\n",
       "        text-align: right;\n",
       "    }\n",
       "</style>\n",
       "<table border=\"1\" class=\"dataframe\">\n",
       "  <thead>\n",
       "    <tr style=\"text-align: right;\">\n",
       "      <th></th>\n",
       "      <th>description</th>\n",
       "      <th>main_cat</th>\n",
       "    </tr>\n",
       "    <tr>\n",
       "      <th>asin</th>\n",
       "      <th></th>\n",
       "      <th></th>\n",
       "    </tr>\n",
       "  </thead>\n",
       "  <tbody>\n",
       "    <tr>\n",
       "      <th>6305121869</th>\n",
       "      <td>(=^ ^=) 1.It is made of high quality materials...</td>\n",
       "      <td>Movies &amp; TV</td>\n",
       "    </tr>\n",
       "    <tr>\n",
       "      <th>6318708057</th>\n",
       "      <td>&lt;b&gt;&lt;br&gt;Hi friend, welcome to our store. Before...</td>\n",
       "      <td>&lt;img src=\"https://images-na.ssl-images-amazon....</td>\n",
       "    </tr>\n",
       "    <tr>\n",
       "      <th>6342506256</th>\n",
       "      <td>Gaok men's pants are all made from cotton mate...</td>\n",
       "      <td>&lt;img src=\"https://images-na.ssl-images-amazon....</td>\n",
       "    </tr>\n",
       "    <tr>\n",
       "      <th>6342509379</th>\n",
       "      <td>&lt;b&gt;pant size(Unit:inch)&lt;/b&gt;&lt;br&gt; W30(tag30) Wai...</td>\n",
       "      <td>&lt;img src=\"https://images-na.ssl-images-amazon....</td>\n",
       "    </tr>\n",
       "    <tr>\n",
       "      <th>6342522081</th>\n",
       "      <td>All of our sunglasses offer protection against...</td>\n",
       "      <td>Sports &amp; Outdoors</td>\n",
       "    </tr>\n",
       "  </tbody>\n",
       "</table>\n",
       "</div>"
      ],
      "text/plain": [
       "                                                  description  \\\n",
       "asin                                                            \n",
       "6305121869  (=^ ^=) 1.It is made of high quality materials...   \n",
       "6318708057  <b><br>Hi friend, welcome to our store. Before...   \n",
       "6342506256  Gaok men's pants are all made from cotton mate...   \n",
       "6342509379  <b>pant size(Unit:inch)</b><br> W30(tag30) Wai...   \n",
       "6342522081  All of our sunglasses offer protection against...   \n",
       "\n",
       "                                                     main_cat  \n",
       "asin                                                           \n",
       "6305121869                                        Movies & TV  \n",
       "6318708057  <img src=\"https://images-na.ssl-images-amazon....  \n",
       "6342506256  <img src=\"https://images-na.ssl-images-amazon....  \n",
       "6342509379  <img src=\"https://images-na.ssl-images-amazon....  \n",
       "6342522081                                  Sports & Outdoors  "
      ]
     },
     "execution_count": 10,
     "metadata": {},
     "output_type": "execute_result"
    },
    {
     "data": {
      "application/javascript": [
       "\n",
       "            setTimeout(function() {\n",
       "                var nbb_cell_id = 10;\n",
       "                var nbb_unformatted_code = \"df = df.set_index(\\\"asin\\\")\\ndf.head()\";\n",
       "                var nbb_formatted_code = \"df = df.set_index(\\\"asin\\\")\\ndf.head()\";\n",
       "                var nbb_cells = Jupyter.notebook.get_cells();\n",
       "                for (var i = 0; i < nbb_cells.length; ++i) {\n",
       "                    if (nbb_cells[i].input_prompt_number == nbb_cell_id) {\n",
       "                        if (nbb_cells[i].get_text() == nbb_unformatted_code) {\n",
       "                             nbb_cells[i].set_text(nbb_formatted_code);\n",
       "                        }\n",
       "                        break;\n",
       "                    }\n",
       "                }\n",
       "            }, 500);\n",
       "            "
      ],
      "text/plain": [
       "<IPython.core.display.Javascript object>"
      ]
     },
     "metadata": {},
     "output_type": "display_data"
    }
   ],
   "source": [
    "df = df.set_index(\"asin\")\n",
    "df.head()"
   ]
  },
  {
   "cell_type": "code",
   "execution_count": 11,
   "metadata": {
    "ExecuteTime": {
     "end_time": "2021-08-22T01:35:47.862656Z",
     "start_time": "2021-08-22T01:35:41.014761Z"
    }
   },
   "outputs": [
    {
     "data": {
      "text/plain": [
       "array(['Movies & TV', 'AMAZON FASHION', 'Sports & Outdoors',\n",
       "       'Amazon Home', 'Health & Personal Care', 'Toys & Games', 'Baby',\n",
       "       'Office Products', 'Digital Music', 'Video Games',\n",
       "       'Home Audio & Theater', 'Tools & Home Improvement',\n",
       "       'All Electronics', 'All Beauty', 'Cell Phones & Accessories',\n",
       "       'Camera & Photo', 'Industrial & Scientific', 'Musical Instruments',\n",
       "       'Automotive', 'Computers', 'Arts, Crafts & Sewing', 'Grocery',\n",
       "       'Portable Audio & Accessories', 'Car Electronics', 'Software',\n",
       "       'Books', 'Pet Supplies', 'Appliances', 'Luxury Beauty',\n",
       "       'Amazon Devices', 'AMAZON LAUNCHPAD', 'GPS & Navigation',\n",
       "       'Handmade', 'Gift Cards', 'Fine Art',\n",
       "       'MEMBERSHIPS & SUBSCRIPTIONS', 'Health &amp; Personal Care',\n",
       "       'Arts, Crafts &amp; Sewing', 'Toys &amp; Games',\n",
       "       'Industrial &amp; Scientific', 'Tools &amp; Home Improvement',\n",
       "       'Sports &amp; Outdoors', 'Camera &amp; Photo',\n",
       "       'Home Audio &amp; Theater', 'Portable Audio &amp; Accessories',\n",
       "       'Cell Phones &amp; Accessories', 'GPS &amp; Navigation',\n",
       "       'Movies &amp; TV', 'Apple Products', 'Beats by Dr. Dre',\n",
       "       'Collectibles & Fine Art', 'Sports Collectibles', 'Prime Pantry',\n",
       "       'Fire Phone', 'Amazon Fire TV', 'Buy a Kindle',\n",
       "       'Magazine Subscriptions', 'Entertainment', 'Collectible Coins'],\n",
       "      dtype=object)"
      ]
     },
     "execution_count": 11,
     "metadata": {},
     "output_type": "execute_result"
    },
    {
     "data": {
      "application/javascript": [
       "\n",
       "            setTimeout(function() {\n",
       "                var nbb_cell_id = 11;\n",
       "                var nbb_unformatted_code = \"is_html = df[\\\"main_cat\\\"].str.match(r\\\"^<\\\\w+\\\")\\ndf.loc[is_html, \\\"main_cat\\\"] = (\\n    df.loc[is_html, \\\"main_cat\\\"].str.extract(r\\\"alt=\\\\\\\"(.+)\\\\\\\"\\\").squeeze()\\n)\\ndf[\\\"main_cat\\\"].unique()\";\n",
       "                var nbb_formatted_code = \"is_html = df[\\\"main_cat\\\"].str.match(r\\\"^<\\\\w+\\\")\\ndf.loc[is_html, \\\"main_cat\\\"] = (\\n    df.loc[is_html, \\\"main_cat\\\"].str.extract(r\\\"alt=\\\\\\\"(.+)\\\\\\\"\\\").squeeze()\\n)\\ndf[\\\"main_cat\\\"].unique()\";\n",
       "                var nbb_cells = Jupyter.notebook.get_cells();\n",
       "                for (var i = 0; i < nbb_cells.length; ++i) {\n",
       "                    if (nbb_cells[i].input_prompt_number == nbb_cell_id) {\n",
       "                        if (nbb_cells[i].get_text() == nbb_unformatted_code) {\n",
       "                             nbb_cells[i].set_text(nbb_formatted_code);\n",
       "                        }\n",
       "                        break;\n",
       "                    }\n",
       "                }\n",
       "            }, 500);\n",
       "            "
      ],
      "text/plain": [
       "<IPython.core.display.Javascript object>"
      ]
     },
     "metadata": {},
     "output_type": "display_data"
    }
   ],
   "source": [
    "is_html = df[\"main_cat\"].str.match(r\"^<\\w+\")\n",
    "df.loc[is_html, \"main_cat\"] = (\n",
    "    df.loc[is_html, \"main_cat\"].str.extract(r\"alt=\\\"(.+)\\\"\").squeeze()\n",
    ")\n",
    "df[\"main_cat\"].unique()"
   ]
  },
  {
   "cell_type": "code",
   "execution_count": 12,
   "metadata": {
    "ExecuteTime": {
     "end_time": "2021-08-22T01:35:52.386313Z",
     "start_time": "2021-08-22T01:35:47.863655Z"
    }
   },
   "outputs": [
    {
     "data": {
      "text/plain": [
       "array(['movies & tv', 'amazon fashion', 'sports & outdoors',\n",
       "       'amazon home', 'health & personal care', 'toys & games', 'baby',\n",
       "       'office products', 'digital music', 'video games',\n",
       "       'home audio & theater', 'tools & home improvement',\n",
       "       'all electronics', 'all beauty', 'cell phones & accessories',\n",
       "       'camera & photo', 'industrial & scientific', 'musical instruments',\n",
       "       'automotive', 'computers', 'arts, crafts & sewing', 'grocery',\n",
       "       'portable audio & accessories', 'car electronics', 'software',\n",
       "       'books', 'pet supplies', 'appliances', 'luxury beauty',\n",
       "       'amazon devices', 'amazon launchpad', 'gps & navigation',\n",
       "       'handmade', 'gift cards', 'fine art',\n",
       "       'memberships & subscriptions', 'apple products',\n",
       "       'beats by dr. dre', 'collectibles & fine art',\n",
       "       'sports collectibles', 'prime pantry', 'fire phone',\n",
       "       'amazon fire tv', 'buy a kindle', 'magazine subscriptions',\n",
       "       'entertainment', 'collectible coins'], dtype=object)"
      ]
     },
     "execution_count": 12,
     "metadata": {},
     "output_type": "execute_result"
    },
    {
     "data": {
      "application/javascript": [
       "\n",
       "            setTimeout(function() {\n",
       "                var nbb_cell_id = 12;\n",
       "                var nbb_unformatted_code = \"df[\\\"main_cat\\\"] = lang.decode_html_entities(df[\\\"main_cat\\\"])\\ndf[\\\"main_cat\\\"] = df[\\\"main_cat\\\"].str.lower()\\ndf[\\\"main_cat\\\"].unique()\";\n",
       "                var nbb_formatted_code = \"df[\\\"main_cat\\\"] = lang.decode_html_entities(df[\\\"main_cat\\\"])\\ndf[\\\"main_cat\\\"] = df[\\\"main_cat\\\"].str.lower()\\ndf[\\\"main_cat\\\"].unique()\";\n",
       "                var nbb_cells = Jupyter.notebook.get_cells();\n",
       "                for (var i = 0; i < nbb_cells.length; ++i) {\n",
       "                    if (nbb_cells[i].input_prompt_number == nbb_cell_id) {\n",
       "                        if (nbb_cells[i].get_text() == nbb_unformatted_code) {\n",
       "                             nbb_cells[i].set_text(nbb_formatted_code);\n",
       "                        }\n",
       "                        break;\n",
       "                    }\n",
       "                }\n",
       "            }, 500);\n",
       "            "
      ],
      "text/plain": [
       "<IPython.core.display.Javascript object>"
      ]
     },
     "metadata": {},
     "output_type": "display_data"
    }
   ],
   "source": [
    "df[\"main_cat\"] = lang.decode_html_entities(df[\"main_cat\"])\n",
    "df[\"main_cat\"] = df[\"main_cat\"].str.lower()\n",
    "df[\"main_cat\"].unique()"
   ]
  },
  {
   "cell_type": "code",
   "execution_count": null,
   "metadata": {},
   "outputs": [],
   "source": [
    "df = utils.prune_categories(df, column=\"main_cat\", cut=1000)\n",
    "df[\"main_cat\"].value_counts()"
   ]
  },
  {
   "cell_type": "code",
   "execution_count": 16,
   "metadata": {
    "ExecuteTime": {
     "end_time": "2021-08-22T01:36:53.561754Z",
     "start_time": "2021-08-22T01:35:54.860832Z"
    }
   },
   "outputs": [
    {
     "data": {
      "application/javascript": [
       "\n",
       "            setTimeout(function() {\n",
       "                var nbb_cell_id = 16;\n",
       "                var nbb_unformatted_code = \"path = \\\"data/init_skeleton\\\"\\nif os.path.isdir(path):\\n    shutil.rmtree(path)\\n\\ndf.to_parquet(\\n    path,\\n    engine=\\\"pyarrow\\\",\\n    index=True,\\n    partition_cols=[\\\"main_cat\\\"],\\n)\";\n",
       "                var nbb_formatted_code = \"path = \\\"data/init_skeleton\\\"\\nif os.path.isdir(path):\\n    shutil.rmtree(path)\\n\\ndf.to_parquet(\\n    path,\\n    engine=\\\"pyarrow\\\",\\n    index=True,\\n    partition_cols=[\\\"main_cat\\\"],\\n)\";\n",
       "                var nbb_cells = Jupyter.notebook.get_cells();\n",
       "                for (var i = 0; i < nbb_cells.length; ++i) {\n",
       "                    if (nbb_cells[i].input_prompt_number == nbb_cell_id) {\n",
       "                        if (nbb_cells[i].get_text() == nbb_unformatted_code) {\n",
       "                             nbb_cells[i].set_text(nbb_formatted_code);\n",
       "                        }\n",
       "                        break;\n",
       "                    }\n",
       "                }\n",
       "            }, 500);\n",
       "            "
      ],
      "text/plain": [
       "<IPython.core.display.Javascript object>"
      ]
     },
     "metadata": {},
     "output_type": "display_data"
    }
   ],
   "source": [
    "path = \"data/init_skeleton\"\n",
    "if os.path.isdir(path):\n",
    "    shutil.rmtree(path)\n",
    "\n",
    "df.to_parquet(\n",
    "    path,\n",
    "    engine=\"pyarrow\",\n",
    "    index=True,\n",
    "    partition_cols=[\"main_cat\"],\n",
    ")"
   ]
  },
  {
   "cell_type": "code",
   "execution_count": 17,
   "metadata": {
    "ExecuteTime": {
     "end_time": "2021-08-22T01:37:08.705411Z",
     "start_time": "2021-08-22T01:36:53.563754Z"
    }
   },
   "outputs": [
    {
     "data": {
      "text/html": [
       "<div>\n",
       "<style scoped>\n",
       "    .dataframe tbody tr th:only-of-type {\n",
       "        vertical-align: middle;\n",
       "    }\n",
       "\n",
       "    .dataframe tbody tr th {\n",
       "        vertical-align: top;\n",
       "    }\n",
       "\n",
       "    .dataframe thead th {\n",
       "        text-align: right;\n",
       "    }\n",
       "</style>\n",
       "<table border=\"1\" class=\"dataframe\">\n",
       "  <thead>\n",
       "    <tr style=\"text-align: right;\">\n",
       "      <th></th>\n",
       "      <th>description</th>\n",
       "      <th>main_cat</th>\n",
       "    </tr>\n",
       "    <tr>\n",
       "      <th>asin</th>\n",
       "      <th></th>\n",
       "      <th></th>\n",
       "    </tr>\n",
       "  </thead>\n",
       "  <tbody>\n",
       "    <tr>\n",
       "      <th>B000052XWP</th>\n",
       "      <td>&lt;P&gt;&lt;STRONG&gt;Advanced Pain Relief for the Arch, ...</td>\n",
       "      <td>all beauty</td>\n",
       "    </tr>\n",
       "    <tr>\n",
       "      <th>B00005NWS1</th>\n",
       "      <td>This electric shoe polisher has a high torque ...</td>\n",
       "      <td>all beauty</td>\n",
       "    </tr>\n",
       "    <tr>\n",
       "      <th>B000068DEG</th>\n",
       "      <td>BVLGARI by Bvlgari for WOMEN EAU DE PARFUM SPR...</td>\n",
       "      <td>all beauty</td>\n",
       "    </tr>\n",
       "    <tr>\n",
       "      <th>B00006IQ95</th>\n",
       "      <td>&lt;strong&gt;Quick and convenient for easy touch-up...</td>\n",
       "      <td>all beauty</td>\n",
       "    </tr>\n",
       "    <tr>\n",
       "      <th>B000078OSM</th>\n",
       "      <td>Carry your light travel necessities comfortabl...</td>\n",
       "      <td>all beauty</td>\n",
       "    </tr>\n",
       "    <tr>\n",
       "      <th>...</th>\n",
       "      <td>...</td>\n",
       "      <td>...</td>\n",
       "    </tr>\n",
       "    <tr>\n",
       "      <th>B00ZOGIMZ0</th>\n",
       "      <td>&lt;b&gt;Oriental Style Durable Handle bag wireless...</td>\n",
       "      <td>video games</td>\n",
       "    </tr>\n",
       "    <tr>\n",
       "      <th>B015ONJ9KO</th>\n",
       "      <td>&lt;div&gt;+++Find, record, download, convert and en...</td>\n",
       "      <td>video games</td>\n",
       "    </tr>\n",
       "    <tr>\n",
       "      <th>B015ONXBXA</th>\n",
       "      <td>&lt;div&gt;++Audials Tunebite Platinum - At a Glance...</td>\n",
       "      <td>video games</td>\n",
       "    </tr>\n",
       "    <tr>\n",
       "      <th>B015OOLJ3I</th>\n",
       "      <td>&lt;div&gt;+++Legally record, convert and enjoy prot...</td>\n",
       "      <td>video games</td>\n",
       "    </tr>\n",
       "    <tr>\n",
       "      <th>B01DTJYXEW</th>\n",
       "      <td>&lt;div&gt;&lt;div&gt;DesignCAD is an easy-to-learn and us...</td>\n",
       "      <td>video games</td>\n",
       "    </tr>\n",
       "  </tbody>\n",
       "</table>\n",
       "<p>8243671 rows × 2 columns</p>\n",
       "</div>"
      ],
      "text/plain": [
       "                                                  description     main_cat\n",
       "asin                                                                      \n",
       "B000052XWP  <P><STRONG>Advanced Pain Relief for the Arch, ...   all beauty\n",
       "B00005NWS1  This electric shoe polisher has a high torque ...   all beauty\n",
       "B000068DEG  BVLGARI by Bvlgari for WOMEN EAU DE PARFUM SPR...   all beauty\n",
       "B00006IQ95  <strong>Quick and convenient for easy touch-up...   all beauty\n",
       "B000078OSM  Carry your light travel necessities comfortabl...   all beauty\n",
       "...                                                       ...          ...\n",
       "B00ZOGIMZ0   <b>Oriental Style Durable Handle bag wireless...  video games\n",
       "B015ONJ9KO  <div>+++Find, record, download, convert and en...  video games\n",
       "B015ONXBXA  <div>++Audials Tunebite Platinum - At a Glance...  video games\n",
       "B015OOLJ3I  <div>+++Legally record, convert and enjoy prot...  video games\n",
       "B01DTJYXEW  <div><div>DesignCAD is an easy-to-learn and us...  video games\n",
       "\n",
       "[8243671 rows x 2 columns]"
      ]
     },
     "execution_count": 17,
     "metadata": {},
     "output_type": "execute_result"
    },
    {
     "data": {
      "application/javascript": [
       "\n",
       "            setTimeout(function() {\n",
       "                var nbb_cell_id = 17;\n",
       "                var nbb_unformatted_code = \"df = pd.read_parquet(\\\"data/init_skeleton\\\", engine=\\\"pyarrow\\\")\\ndf\";\n",
       "                var nbb_formatted_code = \"df = pd.read_parquet(\\\"data/init_skeleton\\\", engine=\\\"pyarrow\\\")\\ndf\";\n",
       "                var nbb_cells = Jupyter.notebook.get_cells();\n",
       "                for (var i = 0; i < nbb_cells.length; ++i) {\n",
       "                    if (nbb_cells[i].input_prompt_number == nbb_cell_id) {\n",
       "                        if (nbb_cells[i].get_text() == nbb_unformatted_code) {\n",
       "                             nbb_cells[i].set_text(nbb_formatted_code);\n",
       "                        }\n",
       "                        break;\n",
       "                    }\n",
       "                }\n",
       "            }, 500);\n",
       "            "
      ],
      "text/plain": [
       "<IPython.core.display.Javascript object>"
      ]
     },
     "metadata": {},
     "output_type": "display_data"
    }
   ],
   "source": [
    "df = pd.read_parquet(\"data/init_skeleton\", engine=\"pyarrow\")\n",
    "df"
   ]
  },
  {
   "cell_type": "code",
   "execution_count": 18,
   "metadata": {
    "ExecuteTime": {
     "end_time": "2021-08-22T01:37:17.465439Z",
     "start_time": "2021-08-22T01:37:08.706409Z"
    }
   },
   "outputs": [
    {
     "data": {
      "text/html": [
       "<div>\n",
       "<style scoped>\n",
       "    .dataframe tbody tr th:only-of-type {\n",
       "        vertical-align: middle;\n",
       "    }\n",
       "\n",
       "    .dataframe tbody tr th {\n",
       "        vertical-align: top;\n",
       "    }\n",
       "\n",
       "    .dataframe thead th {\n",
       "        text-align: right;\n",
       "    }\n",
       "</style>\n",
       "<table border=\"1\" class=\"dataframe\">\n",
       "  <thead>\n",
       "    <tr style=\"text-align: right;\">\n",
       "      <th></th>\n",
       "      <th>title</th>\n",
       "      <th>brand</th>\n",
       "      <th>asin</th>\n",
       "      <th>price</th>\n",
       "    </tr>\n",
       "    <tr>\n",
       "      <th>__null_dask_index__</th>\n",
       "      <th></th>\n",
       "      <th></th>\n",
       "      <th></th>\n",
       "      <th></th>\n",
       "    </tr>\n",
       "  </thead>\n",
       "  <tbody>\n",
       "    <tr>\n",
       "      <th>0</th>\n",
       "      <td>Women Blouse, Ninasill Hooded Sweatshirt Coat ...</td>\n",
       "      <td>Ninasill_Blouse</td>\n",
       "      <td>6305121869</td>\n",
       "      <td>$9.99 - $12.50</td>\n",
       "    </tr>\n",
       "    <tr>\n",
       "      <th>1</th>\n",
       "      <td>Coolred-Women Retro Split Sexy Skinny Premium ...</td>\n",
       "      <td>Coolred-Women</td>\n",
       "      <td>6318708057</td>\n",
       "      <td>$16.08 - $18.36</td>\n",
       "    </tr>\n",
       "    <tr>\n",
       "      <th>2</th>\n",
       "      <td>Gaok Men's Retro Cotton Multi-Pocket Camo Carg...</td>\n",
       "      <td>Gaok</td>\n",
       "      <td>6342506256</td>\n",
       "      <td>$26.99</td>\n",
       "    </tr>\n",
       "    <tr>\n",
       "      <th>3</th>\n",
       "      <td>QIBOE Men's Baggy Jeans Denim Sweatpants Loose...</td>\n",
       "      <td>QIBOE</td>\n",
       "      <td>6342509379</td>\n",
       "      <td>$38.99</td>\n",
       "    </tr>\n",
       "    <tr>\n",
       "      <th>4</th>\n",
       "      <td>Crazy Explosion-proof Lens Polarized Sunglasse...</td>\n",
       "      <td>OLO</td>\n",
       "      <td>6342522081</td>\n",
       "      <td>$3.29</td>\n",
       "    </tr>\n",
       "    <tr>\n",
       "      <th>...</th>\n",
       "      <td>...</td>\n",
       "      <td>...</td>\n",
       "      <td>...</td>\n",
       "      <td>...</td>\n",
       "    </tr>\n",
       "    <tr>\n",
       "      <th>99995</th>\n",
       "      <td>Woodstock Percussion FBBS Fiesta Bamboo Blue S...</td>\n",
       "      <td>Woodstock Chimes</td>\n",
       "      <td>B0007IQV2Q</td>\n",
       "      <td>None</td>\n",
       "    </tr>\n",
       "    <tr>\n",
       "      <th>99996</th>\n",
       "      <td>Woodstock Percussion MBC Mission Bamboo Chime</td>\n",
       "      <td>Woodstock Chimes</td>\n",
       "      <td>B0007IQV0I</td>\n",
       "      <td>None</td>\n",
       "    </tr>\n",
       "    <tr>\n",
       "      <th>99997</th>\n",
       "      <td>Sunsei 70440 Solar Vent Stainless Steel Day/Ni...</td>\n",
       "      <td>ICP</td>\n",
       "      <td>B0007KGWGY</td>\n",
       "      <td>None</td>\n",
       "    </tr>\n",
       "    <tr>\n",
       "      <th>99998</th>\n",
       "      <td>Valley Forge 20-Foot Aluminum In Ground Pole W...</td>\n",
       "      <td>Valley Forge</td>\n",
       "      <td>B0007KP9P4</td>\n",
       "      <td>None</td>\n",
       "    </tr>\n",
       "    <tr>\n",
       "      <th>99999</th>\n",
       "      <td>Valley Forge, American Flag, Aluminum Bracket ...</td>\n",
       "      <td>Valley Forge</td>\n",
       "      <td>B0007KP9SG</td>\n",
       "      <td>$10.39</td>\n",
       "    </tr>\n",
       "  </tbody>\n",
       "</table>\n",
       "<p>11617169 rows × 4 columns</p>\n",
       "</div>"
      ],
      "text/plain": [
       "                                                                 title  \\\n",
       "__null_dask_index__                                                      \n",
       "0                    Women Blouse, Ninasill Hooded Sweatshirt Coat ...   \n",
       "1                    Coolred-Women Retro Split Sexy Skinny Premium ...   \n",
       "2                    Gaok Men's Retro Cotton Multi-Pocket Camo Carg...   \n",
       "3                    QIBOE Men's Baggy Jeans Denim Sweatpants Loose...   \n",
       "4                    Crazy Explosion-proof Lens Polarized Sunglasse...   \n",
       "...                                                                ...   \n",
       "99995                Woodstock Percussion FBBS Fiesta Bamboo Blue S...   \n",
       "99996                    Woodstock Percussion MBC Mission Bamboo Chime   \n",
       "99997                Sunsei 70440 Solar Vent Stainless Steel Day/Ni...   \n",
       "99998                Valley Forge 20-Foot Aluminum In Ground Pole W...   \n",
       "99999                Valley Forge, American Flag, Aluminum Bracket ...   \n",
       "\n",
       "                                brand        asin            price  \n",
       "__null_dask_index__                                                 \n",
       "0                     Ninasill_Blouse  6305121869   $9.99 - $12.50  \n",
       "1                       Coolred-Women  6318708057  $16.08 - $18.36  \n",
       "2                                Gaok  6342506256           $26.99  \n",
       "3                               QIBOE  6342509379           $38.99  \n",
       "4                                 OLO  6342522081            $3.29  \n",
       "...                               ...         ...              ...  \n",
       "99995                Woodstock Chimes  B0007IQV2Q             None  \n",
       "99996                Woodstock Chimes  B0007IQV0I             None  \n",
       "99997                             ICP  B0007KGWGY             None  \n",
       "99998                    Valley Forge  B0007KP9P4             None  \n",
       "99999                    Valley Forge  B0007KP9SG           $10.39  \n",
       "\n",
       "[11617169 rows x 4 columns]"
      ]
     },
     "execution_count": 18,
     "metadata": {},
     "output_type": "execute_result"
    },
    {
     "data": {
      "application/javascript": [
       "\n",
       "            setTimeout(function() {\n",
       "                var nbb_cell_id = 18;\n",
       "                var nbb_unformatted_code = \"titles = pd.read_parquet(\\n    \\\"data/init_dropna\\\", engine=\\\"pyarrow\\\", columns=[\\\"title\\\", \\\"brand\\\", \\\"asin\\\", \\\"price\\\"]\\n)\\ntitles\";\n",
       "                var nbb_formatted_code = \"titles = pd.read_parquet(\\n    \\\"data/init_dropna\\\", engine=\\\"pyarrow\\\", columns=[\\\"title\\\", \\\"brand\\\", \\\"asin\\\", \\\"price\\\"]\\n)\\ntitles\";\n",
       "                var nbb_cells = Jupyter.notebook.get_cells();\n",
       "                for (var i = 0; i < nbb_cells.length; ++i) {\n",
       "                    if (nbb_cells[i].input_prompt_number == nbb_cell_id) {\n",
       "                        if (nbb_cells[i].get_text() == nbb_unformatted_code) {\n",
       "                             nbb_cells[i].set_text(nbb_formatted_code);\n",
       "                        }\n",
       "                        break;\n",
       "                    }\n",
       "                }\n",
       "            }, 500);\n",
       "            "
      ],
      "text/plain": [
       "<IPython.core.display.Javascript object>"
      ]
     },
     "metadata": {},
     "output_type": "display_data"
    }
   ],
   "source": [
    "titles = pd.read_parquet(\n",
    "    \"data/init_dropna\", engine=\"pyarrow\", columns=[\"title\", \"brand\", \"asin\", \"price\"]\n",
    ")\n",
    "titles"
   ]
  },
  {
   "cell_type": "code",
   "execution_count": 19,
   "metadata": {
    "ExecuteTime": {
     "end_time": "2021-08-22T01:37:23.837849Z",
     "start_time": "2021-08-22T01:37:17.466411Z"
    }
   },
   "outputs": [
    {
     "data": {
      "text/html": [
       "<div>\n",
       "<style scoped>\n",
       "    .dataframe tbody tr th:only-of-type {\n",
       "        vertical-align: middle;\n",
       "    }\n",
       "\n",
       "    .dataframe tbody tr th {\n",
       "        vertical-align: top;\n",
       "    }\n",
       "\n",
       "    .dataframe thead th {\n",
       "        text-align: right;\n",
       "    }\n",
       "</style>\n",
       "<table border=\"1\" class=\"dataframe\">\n",
       "  <thead>\n",
       "    <tr style=\"text-align: right;\">\n",
       "      <th></th>\n",
       "      <th>title</th>\n",
       "      <th>brand</th>\n",
       "      <th>price</th>\n",
       "    </tr>\n",
       "    <tr>\n",
       "      <th>asin</th>\n",
       "      <th></th>\n",
       "      <th></th>\n",
       "      <th></th>\n",
       "    </tr>\n",
       "  </thead>\n",
       "  <tbody>\n",
       "    <tr>\n",
       "      <th>6305121869</th>\n",
       "      <td>Women Blouse, Ninasill Hooded Sweatshirt Coat ...</td>\n",
       "      <td>Ninasill_Blouse</td>\n",
       "      <td>$9.99 - $12.50</td>\n",
       "    </tr>\n",
       "    <tr>\n",
       "      <th>6318708057</th>\n",
       "      <td>Coolred-Women Retro Split Sexy Skinny Premium ...</td>\n",
       "      <td>Coolred-Women</td>\n",
       "      <td>$16.08 - $18.36</td>\n",
       "    </tr>\n",
       "    <tr>\n",
       "      <th>6342506256</th>\n",
       "      <td>Gaok Men's Retro Cotton Multi-Pocket Camo Carg...</td>\n",
       "      <td>Gaok</td>\n",
       "      <td>$26.99</td>\n",
       "    </tr>\n",
       "    <tr>\n",
       "      <th>6342509379</th>\n",
       "      <td>QIBOE Men's Baggy Jeans Denim Sweatpants Loose...</td>\n",
       "      <td>QIBOE</td>\n",
       "      <td>$38.99</td>\n",
       "    </tr>\n",
       "    <tr>\n",
       "      <th>6342522081</th>\n",
       "      <td>Crazy Explosion-proof Lens Polarized Sunglasse...</td>\n",
       "      <td>OLO</td>\n",
       "      <td>$3.29</td>\n",
       "    </tr>\n",
       "  </tbody>\n",
       "</table>\n",
       "</div>"
      ],
      "text/plain": [
       "                                                        title  \\\n",
       "asin                                                            \n",
       "6305121869  Women Blouse, Ninasill Hooded Sweatshirt Coat ...   \n",
       "6318708057  Coolred-Women Retro Split Sexy Skinny Premium ...   \n",
       "6342506256  Gaok Men's Retro Cotton Multi-Pocket Camo Carg...   \n",
       "6342509379  QIBOE Men's Baggy Jeans Denim Sweatpants Loose...   \n",
       "6342522081  Crazy Explosion-proof Lens Polarized Sunglasse...   \n",
       "\n",
       "                      brand            price  \n",
       "asin                                          \n",
       "6305121869  Ninasill_Blouse   $9.99 - $12.50  \n",
       "6318708057    Coolred-Women  $16.08 - $18.36  \n",
       "6342506256             Gaok           $26.99  \n",
       "6342509379            QIBOE           $38.99  \n",
       "6342522081              OLO            $3.29  "
      ]
     },
     "execution_count": 19,
     "metadata": {},
     "output_type": "execute_result"
    },
    {
     "data": {
      "application/javascript": [
       "\n",
       "            setTimeout(function() {\n",
       "                var nbb_cell_id = 19;\n",
       "                var nbb_unformatted_code = \"titles = titles.drop_duplicates(subset=[\\\"asin\\\"])\\ntitles = titles.set_index(\\\"asin\\\")\\ntitles.head()\";\n",
       "                var nbb_formatted_code = \"titles = titles.drop_duplicates(subset=[\\\"asin\\\"])\\ntitles = titles.set_index(\\\"asin\\\")\\ntitles.head()\";\n",
       "                var nbb_cells = Jupyter.notebook.get_cells();\n",
       "                for (var i = 0; i < nbb_cells.length; ++i) {\n",
       "                    if (nbb_cells[i].input_prompt_number == nbb_cell_id) {\n",
       "                        if (nbb_cells[i].get_text() == nbb_unformatted_code) {\n",
       "                             nbb_cells[i].set_text(nbb_formatted_code);\n",
       "                        }\n",
       "                        break;\n",
       "                    }\n",
       "                }\n",
       "            }, 500);\n",
       "            "
      ],
      "text/plain": [
       "<IPython.core.display.Javascript object>"
      ]
     },
     "metadata": {},
     "output_type": "display_data"
    }
   ],
   "source": [
    "titles = titles.drop_duplicates(subset=[\"asin\"])\n",
    "titles = titles.set_index(\"asin\")\n",
    "titles.head()"
   ]
  },
  {
   "cell_type": "code",
   "execution_count": 20,
   "metadata": {
    "ExecuteTime": {
     "end_time": "2021-08-22T01:37:33.706512Z",
     "start_time": "2021-08-22T01:37:23.838850Z"
    }
   },
   "outputs": [
    {
     "data": {
      "text/plain": [
       "(11146133, 3)"
      ]
     },
     "execution_count": 20,
     "metadata": {},
     "output_type": "execute_result"
    },
    {
     "data": {
      "application/javascript": [
       "\n",
       "            setTimeout(function() {\n",
       "                var nbb_cell_id = 20;\n",
       "                var nbb_unformatted_code = \"titles = titles.drop_duplicates(subset=[\\\"title\\\", \\\"brand\\\"])\\ntitles.shape\";\n",
       "                var nbb_formatted_code = \"titles = titles.drop_duplicates(subset=[\\\"title\\\", \\\"brand\\\"])\\ntitles.shape\";\n",
       "                var nbb_cells = Jupyter.notebook.get_cells();\n",
       "                for (var i = 0; i < nbb_cells.length; ++i) {\n",
       "                    if (nbb_cells[i].input_prompt_number == nbb_cell_id) {\n",
       "                        if (nbb_cells[i].get_text() == nbb_unformatted_code) {\n",
       "                             nbb_cells[i].set_text(nbb_formatted_code);\n",
       "                        }\n",
       "                        break;\n",
       "                    }\n",
       "                }\n",
       "            }, 500);\n",
       "            "
      ],
      "text/plain": [
       "<IPython.core.display.Javascript object>"
      ]
     },
     "metadata": {},
     "output_type": "display_data"
    }
   ],
   "source": [
    "titles = titles.drop_duplicates(subset=[\"title\", \"brand\"])\n",
    "titles.shape"
   ]
  },
  {
   "cell_type": "code",
   "execution_count": 21,
   "metadata": {
    "ExecuteTime": {
     "end_time": "2021-08-22T01:38:04.624400Z",
     "start_time": "2021-08-22T01:37:33.707509Z"
    }
   },
   "outputs": [
    {
     "data": {
      "text/html": [
       "<div>\n",
       "<style scoped>\n",
       "    .dataframe tbody tr th:only-of-type {\n",
       "        vertical-align: middle;\n",
       "    }\n",
       "\n",
       "    .dataframe tbody tr th {\n",
       "        vertical-align: top;\n",
       "    }\n",
       "\n",
       "    .dataframe thead th {\n",
       "        text-align: right;\n",
       "    }\n",
       "</style>\n",
       "<table border=\"1\" class=\"dataframe\">\n",
       "  <thead>\n",
       "    <tr style=\"text-align: right;\">\n",
       "      <th></th>\n",
       "      <th>description</th>\n",
       "      <th>main_cat</th>\n",
       "      <th>title</th>\n",
       "      <th>brand</th>\n",
       "      <th>price</th>\n",
       "    </tr>\n",
       "    <tr>\n",
       "      <th>asin</th>\n",
       "      <th></th>\n",
       "      <th></th>\n",
       "      <th></th>\n",
       "      <th></th>\n",
       "      <th></th>\n",
       "    </tr>\n",
       "  </thead>\n",
       "  <tbody>\n",
       "    <tr>\n",
       "      <th>B000052XWP</th>\n",
       "      <td>&lt;P&gt;&lt;STRONG&gt;Advanced Pain Relief for the Arch, ...</td>\n",
       "      <td>all beauty</td>\n",
       "      <td>Dr Scholls Dyna Step-Women's</td>\n",
       "      <td>Dr Scholl's</td>\n",
       "      <td>None</td>\n",
       "    </tr>\n",
       "    <tr>\n",
       "      <th>B00005NWS1</th>\n",
       "      <td>This electric shoe polisher has a high torque ...</td>\n",
       "      <td>all beauty</td>\n",
       "      <td>First Class Electric Shoe Polisher</td>\n",
       "      <td>Jerdon</td>\n",
       "      <td>None</td>\n",
       "    </tr>\n",
       "    <tr>\n",
       "      <th>B000068DEG</th>\n",
       "      <td>BVLGARI by Bvlgari for WOMEN EAU DE PARFUM SPR...</td>\n",
       "      <td>all beauty</td>\n",
       "      <td>Bvlgari Women Eau de Perfume, 1.7 fl. oz</td>\n",
       "      <td>BVLGARI</td>\n",
       "      <td>None</td>\n",
       "    </tr>\n",
       "    <tr>\n",
       "      <th>B00006IQ95</th>\n",
       "      <td>&lt;strong&gt;Quick and convenient for easy touch-up...</td>\n",
       "      <td>all beauty</td>\n",
       "      <td>Mespirit Eyebrows Remover Trimmer Razor Shaver...</td>\n",
       "      <td>La Sante</td>\n",
       "      <td>None</td>\n",
       "    </tr>\n",
       "    <tr>\n",
       "      <th>B000078OSM</th>\n",
       "      <td>Carry your light travel necessities comfortabl...</td>\n",
       "      <td>all beauty</td>\n",
       "      <td>Clava One Pocket 20&amp;quot; Duffel (Vachetta Tan)</td>\n",
       "      <td>Clava</td>\n",
       "      <td>$185.16</td>\n",
       "    </tr>\n",
       "    <tr>\n",
       "      <th>...</th>\n",
       "      <td>...</td>\n",
       "      <td>...</td>\n",
       "      <td>...</td>\n",
       "      <td>...</td>\n",
       "      <td>...</td>\n",
       "    </tr>\n",
       "    <tr>\n",
       "      <th>B00ZOGIMZ0</th>\n",
       "      <td>&lt;b&gt;Oriental Style Durable Handle bag wireless...</td>\n",
       "      <td>video games</td>\n",
       "      <td>Oriental Style Durable Handle bag wireless Han...</td>\n",
       "      <td>by\\n    \\n    Oriental Style</td>\n",
       "      <td>\\n\\t\\t                                        ...</td>\n",
       "    </tr>\n",
       "    <tr>\n",
       "      <th>B015ONJ9KO</th>\n",
       "      <td>&lt;div&gt;+++Find, record, download, convert and en...</td>\n",
       "      <td>video games</td>\n",
       "      <td>Audials One 2016 [Download]</td>\n",
       "      <td>by\\n    \\n    Audials AG</td>\n",
       "      <td>\\n\\t\\t                                        ...</td>\n",
       "    </tr>\n",
       "    <tr>\n",
       "      <th>B015ONXBXA</th>\n",
       "      <td>&lt;div&gt;++Audials Tunebite Platinum - At a Glance...</td>\n",
       "      <td>video games</td>\n",
       "      <td>Audials Tunebite 2016 Platinum [Download]</td>\n",
       "      <td>by\\n    \\n    Audials AG</td>\n",
       "      <td>None</td>\n",
       "    </tr>\n",
       "    <tr>\n",
       "      <th>B015OOLJ3I</th>\n",
       "      <td>&lt;div&gt;+++Legally record, convert and enjoy prot...</td>\n",
       "      <td>video games</td>\n",
       "      <td>Audials Tunebite 2016 Premium [Download]</td>\n",
       "      <td>by\\n    \\n    Audials AG</td>\n",
       "      <td>None</td>\n",
       "    </tr>\n",
       "    <tr>\n",
       "      <th>B01DTJYXEW</th>\n",
       "      <td>&lt;div&gt;&lt;div&gt;DesignCAD is an easy-to-learn and us...</td>\n",
       "      <td>video games</td>\n",
       "      <td>DesignCAD v25 [Download]</td>\n",
       "      <td>by\\n    \\n    TurboCAD Design Group</td>\n",
       "      <td>None</td>\n",
       "    </tr>\n",
       "  </tbody>\n",
       "</table>\n",
       "<p>8177520 rows × 5 columns</p>\n",
       "</div>"
      ],
      "text/plain": [
       "                                                  description     main_cat  \\\n",
       "asin                                                                         \n",
       "B000052XWP  <P><STRONG>Advanced Pain Relief for the Arch, ...   all beauty   \n",
       "B00005NWS1  This electric shoe polisher has a high torque ...   all beauty   \n",
       "B000068DEG  BVLGARI by Bvlgari for WOMEN EAU DE PARFUM SPR...   all beauty   \n",
       "B00006IQ95  <strong>Quick and convenient for easy touch-up...   all beauty   \n",
       "B000078OSM  Carry your light travel necessities comfortabl...   all beauty   \n",
       "...                                                       ...          ...   \n",
       "B00ZOGIMZ0   <b>Oriental Style Durable Handle bag wireless...  video games   \n",
       "B015ONJ9KO  <div>+++Find, record, download, convert and en...  video games   \n",
       "B015ONXBXA  <div>++Audials Tunebite Platinum - At a Glance...  video games   \n",
       "B015OOLJ3I  <div>+++Legally record, convert and enjoy prot...  video games   \n",
       "B01DTJYXEW  <div><div>DesignCAD is an easy-to-learn and us...  video games   \n",
       "\n",
       "                                                        title  \\\n",
       "asin                                                            \n",
       "B000052XWP                       Dr Scholls Dyna Step-Women's   \n",
       "B00005NWS1                 First Class Electric Shoe Polisher   \n",
       "B000068DEG           Bvlgari Women Eau de Perfume, 1.7 fl. oz   \n",
       "B00006IQ95  Mespirit Eyebrows Remover Trimmer Razor Shaver...   \n",
       "B000078OSM    Clava One Pocket 20&quot; Duffel (Vachetta Tan)   \n",
       "...                                                       ...   \n",
       "B00ZOGIMZ0  Oriental Style Durable Handle bag wireless Han...   \n",
       "B015ONJ9KO                        Audials One 2016 [Download]   \n",
       "B015ONXBXA          Audials Tunebite 2016 Platinum [Download]   \n",
       "B015OOLJ3I           Audials Tunebite 2016 Premium [Download]   \n",
       "B01DTJYXEW                           DesignCAD v25 [Download]   \n",
       "\n",
       "                                          brand  \\\n",
       "asin                                              \n",
       "B000052XWP                          Dr Scholl's   \n",
       "B00005NWS1                               Jerdon   \n",
       "B000068DEG                              BVLGARI   \n",
       "B00006IQ95                             La Sante   \n",
       "B000078OSM                                Clava   \n",
       "...                                         ...   \n",
       "B00ZOGIMZ0         by\\n    \\n    Oriental Style   \n",
       "B015ONJ9KO             by\\n    \\n    Audials AG   \n",
       "B015ONXBXA             by\\n    \\n    Audials AG   \n",
       "B015OOLJ3I             by\\n    \\n    Audials AG   \n",
       "B01DTJYXEW  by\\n    \\n    TurboCAD Design Group   \n",
       "\n",
       "                                                        price  \n",
       "asin                                                           \n",
       "B000052XWP                                               None  \n",
       "B00005NWS1                                               None  \n",
       "B000068DEG                                               None  \n",
       "B00006IQ95                                               None  \n",
       "B000078OSM                                            $185.16  \n",
       "...                                                       ...  \n",
       "B00ZOGIMZ0  \\n\\t\\t                                        ...  \n",
       "B015ONJ9KO  \\n\\t\\t                                        ...  \n",
       "B015ONXBXA                                               None  \n",
       "B015OOLJ3I                                               None  \n",
       "B01DTJYXEW                                               None  \n",
       "\n",
       "[8177520 rows x 5 columns]"
      ]
     },
     "execution_count": 21,
     "metadata": {},
     "output_type": "execute_result"
    },
    {
     "data": {
      "application/javascript": [
       "\n",
       "            setTimeout(function() {\n",
       "                var nbb_cell_id = 21;\n",
       "                var nbb_unformatted_code = \"df = pd.merge(df, titles, left_index=True, right_index=True)\\ndf\";\n",
       "                var nbb_formatted_code = \"df = pd.merge(df, titles, left_index=True, right_index=True)\\ndf\";\n",
       "                var nbb_cells = Jupyter.notebook.get_cells();\n",
       "                for (var i = 0; i < nbb_cells.length; ++i) {\n",
       "                    if (nbb_cells[i].input_prompt_number == nbb_cell_id) {\n",
       "                        if (nbb_cells[i].get_text() == nbb_unformatted_code) {\n",
       "                             nbb_cells[i].set_text(nbb_formatted_code);\n",
       "                        }\n",
       "                        break;\n",
       "                    }\n",
       "                }\n",
       "            }, 500);\n",
       "            "
      ],
      "text/plain": [
       "<IPython.core.display.Javascript object>"
      ]
     },
     "metadata": {},
     "output_type": "display_data"
    }
   ],
   "source": [
    "df = pd.merge(df, titles, left_index=True, right_index=True)\n",
    "df"
   ]
  },
  {
   "cell_type": "code",
   "execution_count": 22,
   "metadata": {
    "ExecuteTime": {
     "end_time": "2021-08-22T01:38:04.979399Z",
     "start_time": "2021-08-22T01:38:04.627399Z"
    }
   },
   "outputs": [
    {
     "data": {
      "application/javascript": [
       "\n",
       "            setTimeout(function() {\n",
       "                var nbb_cell_id = 22;\n",
       "                var nbb_unformatted_code = \"del titles\";\n",
       "                var nbb_formatted_code = \"del titles\";\n",
       "                var nbb_cells = Jupyter.notebook.get_cells();\n",
       "                for (var i = 0; i < nbb_cells.length; ++i) {\n",
       "                    if (nbb_cells[i].input_prompt_number == nbb_cell_id) {\n",
       "                        if (nbb_cells[i].get_text() == nbb_unformatted_code) {\n",
       "                             nbb_cells[i].set_text(nbb_formatted_code);\n",
       "                        }\n",
       "                        break;\n",
       "                    }\n",
       "                }\n",
       "            }, 500);\n",
       "            "
      ],
      "text/plain": [
       "<IPython.core.display.Javascript object>"
      ]
     },
     "metadata": {},
     "output_type": "display_data"
    }
   ],
   "source": [
    "del titles"
   ]
  },
  {
   "cell_type": "markdown",
   "metadata": {},
   "source": [
    "# Filter Text"
   ]
  },
  {
   "cell_type": "code",
   "execution_count": 23,
   "metadata": {
    "ExecuteTime": {
     "end_time": "2021-08-22T01:38:19.838700Z",
     "start_time": "2021-08-22T01:38:04.981399Z"
    }
   },
   "outputs": [
    {
     "data": {
      "text/html": [
       "<div>\n",
       "<style scoped>\n",
       "    .dataframe tbody tr th:only-of-type {\n",
       "        vertical-align: middle;\n",
       "    }\n",
       "\n",
       "    .dataframe tbody tr th {\n",
       "        vertical-align: top;\n",
       "    }\n",
       "\n",
       "    .dataframe thead th {\n",
       "        text-align: right;\n",
       "    }\n",
       "</style>\n",
       "<table border=\"1\" class=\"dataframe\">\n",
       "  <thead>\n",
       "    <tr style=\"text-align: right;\">\n",
       "      <th></th>\n",
       "      <th>description</th>\n",
       "      <th>main_cat</th>\n",
       "      <th>title</th>\n",
       "      <th>brand</th>\n",
       "      <th>price</th>\n",
       "    </tr>\n",
       "    <tr>\n",
       "      <th>asin</th>\n",
       "      <th></th>\n",
       "      <th></th>\n",
       "      <th></th>\n",
       "      <th></th>\n",
       "      <th></th>\n",
       "    </tr>\n",
       "  </thead>\n",
       "  <tbody>\n",
       "    <tr>\n",
       "      <th>B000052XWP</th>\n",
       "      <td>&lt;P&gt;&lt;STRONG&gt;Advanced Pain Relief for the Arch, ...</td>\n",
       "      <td>all beauty</td>\n",
       "      <td>Dr Scholls Dyna Step-Women's</td>\n",
       "      <td>Dr Scholl's</td>\n",
       "      <td>None</td>\n",
       "    </tr>\n",
       "    <tr>\n",
       "      <th>B00005NWS1</th>\n",
       "      <td>This electric shoe polisher has a high torque ...</td>\n",
       "      <td>all beauty</td>\n",
       "      <td>First Class Electric Shoe Polisher</td>\n",
       "      <td>Jerdon</td>\n",
       "      <td>None</td>\n",
       "    </tr>\n",
       "    <tr>\n",
       "      <th>B000068DEG</th>\n",
       "      <td>BVLGARI by Bvlgari for WOMEN EAU DE PARFUM SPR...</td>\n",
       "      <td>all beauty</td>\n",
       "      <td>Bvlgari Women Eau de Perfume, 1.7 fl. oz</td>\n",
       "      <td>BVLGARI</td>\n",
       "      <td>None</td>\n",
       "    </tr>\n",
       "    <tr>\n",
       "      <th>B00006IQ95</th>\n",
       "      <td>&lt;strong&gt;Quick and convenient for easy touch-up...</td>\n",
       "      <td>all beauty</td>\n",
       "      <td>Mespirit Eyebrows Remover Trimmer Razor Shaver...</td>\n",
       "      <td>La Sante</td>\n",
       "      <td>None</td>\n",
       "    </tr>\n",
       "    <tr>\n",
       "      <th>B000078OSM</th>\n",
       "      <td>Carry your light travel necessities comfortabl...</td>\n",
       "      <td>all beauty</td>\n",
       "      <td>Clava One Pocket 20\" Duffel (Vachetta Tan)</td>\n",
       "      <td>Clava</td>\n",
       "      <td>$185.16</td>\n",
       "    </tr>\n",
       "  </tbody>\n",
       "</table>\n",
       "</div>"
      ],
      "text/plain": [
       "                                                  description    main_cat  \\\n",
       "asin                                                                        \n",
       "B000052XWP  <P><STRONG>Advanced Pain Relief for the Arch, ...  all beauty   \n",
       "B00005NWS1  This electric shoe polisher has a high torque ...  all beauty   \n",
       "B000068DEG  BVLGARI by Bvlgari for WOMEN EAU DE PARFUM SPR...  all beauty   \n",
       "B00006IQ95  <strong>Quick and convenient for easy touch-up...  all beauty   \n",
       "B000078OSM  Carry your light travel necessities comfortabl...  all beauty   \n",
       "\n",
       "                                                        title        brand  \\\n",
       "asin                                                                         \n",
       "B000052XWP                       Dr Scholls Dyna Step-Women's  Dr Scholl's   \n",
       "B00005NWS1                 First Class Electric Shoe Polisher       Jerdon   \n",
       "B000068DEG           Bvlgari Women Eau de Perfume, 1.7 fl. oz      BVLGARI   \n",
       "B00006IQ95  Mespirit Eyebrows Remover Trimmer Razor Shaver...     La Sante   \n",
       "B000078OSM         Clava One Pocket 20\" Duffel (Vachetta Tan)        Clava   \n",
       "\n",
       "              price  \n",
       "asin                 \n",
       "B000052XWP     None  \n",
       "B00005NWS1     None  \n",
       "B000068DEG     None  \n",
       "B00006IQ95     None  \n",
       "B000078OSM  $185.16  "
      ]
     },
     "execution_count": 23,
     "metadata": {},
     "output_type": "execute_result"
    },
    {
     "data": {
      "application/javascript": [
       "\n",
       "            setTimeout(function() {\n",
       "                var nbb_cell_id = 23;\n",
       "                var nbb_unformatted_code = \"df = lang.decode_html_entities(df)\\ndf.head()\";\n",
       "                var nbb_formatted_code = \"df = lang.decode_html_entities(df)\\ndf.head()\";\n",
       "                var nbb_cells = Jupyter.notebook.get_cells();\n",
       "                for (var i = 0; i < nbb_cells.length; ++i) {\n",
       "                    if (nbb_cells[i].input_prompt_number == nbb_cell_id) {\n",
       "                        if (nbb_cells[i].get_text() == nbb_unformatted_code) {\n",
       "                             nbb_cells[i].set_text(nbb_formatted_code);\n",
       "                        }\n",
       "                        break;\n",
       "                    }\n",
       "                }\n",
       "            }, 500);\n",
       "            "
      ],
      "text/plain": [
       "<IPython.core.display.Javascript object>"
      ]
     },
     "metadata": {},
     "output_type": "display_data"
    }
   ],
   "source": [
    "df = lang.decode_html_entities(df)\n",
    "df.head()"
   ]
  },
  {
   "cell_type": "code",
   "execution_count": 24,
   "metadata": {
    "ExecuteTime": {
     "end_time": "2021-08-22T01:39:01.771960Z",
     "start_time": "2021-08-22T01:38:19.839697Z"
    }
   },
   "outputs": [
    {
     "data": {
      "text/html": [
       "<div>\n",
       "<style scoped>\n",
       "    .dataframe tbody tr th:only-of-type {\n",
       "        vertical-align: middle;\n",
       "    }\n",
       "\n",
       "    .dataframe tbody tr th {\n",
       "        vertical-align: top;\n",
       "    }\n",
       "\n",
       "    .dataframe thead th {\n",
       "        text-align: right;\n",
       "    }\n",
       "</style>\n",
       "<table border=\"1\" class=\"dataframe\">\n",
       "  <thead>\n",
       "    <tr style=\"text-align: right;\">\n",
       "      <th></th>\n",
       "      <th>description</th>\n",
       "      <th>main_cat</th>\n",
       "      <th>title</th>\n",
       "      <th>brand</th>\n",
       "      <th>price</th>\n",
       "    </tr>\n",
       "    <tr>\n",
       "      <th>asin</th>\n",
       "      <th></th>\n",
       "      <th></th>\n",
       "      <th></th>\n",
       "      <th></th>\n",
       "      <th></th>\n",
       "    </tr>\n",
       "  </thead>\n",
       "  <tbody>\n",
       "    <tr>\n",
       "      <th>B000052XWP</th>\n",
       "      <td>&lt;p&gt;&lt;strong&gt;advanced pain relief for the arch, ...</td>\n",
       "      <td>all beauty</td>\n",
       "      <td>dr scholls dyna step-women's</td>\n",
       "      <td>dr scholl's</td>\n",
       "      <td>None</td>\n",
       "    </tr>\n",
       "    <tr>\n",
       "      <th>B00005NWS1</th>\n",
       "      <td>this electric shoe polisher has a high torque ...</td>\n",
       "      <td>all beauty</td>\n",
       "      <td>first class electric shoe polisher</td>\n",
       "      <td>jerdon</td>\n",
       "      <td>None</td>\n",
       "    </tr>\n",
       "    <tr>\n",
       "      <th>B000068DEG</th>\n",
       "      <td>bvlgari by bvlgari for women eau de parfum spr...</td>\n",
       "      <td>all beauty</td>\n",
       "      <td>bvlgari women eau de perfume, 1.7 fl. oz</td>\n",
       "      <td>bvlgari</td>\n",
       "      <td>None</td>\n",
       "    </tr>\n",
       "    <tr>\n",
       "      <th>B00006IQ95</th>\n",
       "      <td>&lt;strong&gt;quick and convenient for easy touch-up...</td>\n",
       "      <td>all beauty</td>\n",
       "      <td>mespirit eyebrows remover trimmer razor shaver...</td>\n",
       "      <td>la sante</td>\n",
       "      <td>None</td>\n",
       "    </tr>\n",
       "    <tr>\n",
       "      <th>B000078OSM</th>\n",
       "      <td>carry your light travel necessities comfortabl...</td>\n",
       "      <td>all beauty</td>\n",
       "      <td>clava one pocket 20\" duffel (vachetta tan)</td>\n",
       "      <td>clava</td>\n",
       "      <td>$185.16</td>\n",
       "    </tr>\n",
       "  </tbody>\n",
       "</table>\n",
       "</div>"
      ],
      "text/plain": [
       "                                                  description    main_cat  \\\n",
       "asin                                                                        \n",
       "B000052XWP  <p><strong>advanced pain relief for the arch, ...  all beauty   \n",
       "B00005NWS1  this electric shoe polisher has a high torque ...  all beauty   \n",
       "B000068DEG  bvlgari by bvlgari for women eau de parfum spr...  all beauty   \n",
       "B00006IQ95  <strong>quick and convenient for easy touch-up...  all beauty   \n",
       "B000078OSM  carry your light travel necessities comfortabl...  all beauty   \n",
       "\n",
       "                                                        title        brand  \\\n",
       "asin                                                                         \n",
       "B000052XWP                       dr scholls dyna step-women's  dr scholl's   \n",
       "B00005NWS1                 first class electric shoe polisher       jerdon   \n",
       "B000068DEG           bvlgari women eau de perfume, 1.7 fl. oz      bvlgari   \n",
       "B00006IQ95  mespirit eyebrows remover trimmer razor shaver...     la sante   \n",
       "B000078OSM         clava one pocket 20\" duffel (vachetta tan)        clava   \n",
       "\n",
       "              price  \n",
       "asin                 \n",
       "B000052XWP     None  \n",
       "B00005NWS1     None  \n",
       "B000068DEG     None  \n",
       "B00006IQ95     None  \n",
       "B000078OSM  $185.16  "
      ]
     },
     "execution_count": 24,
     "metadata": {},
     "output_type": "execute_result"
    },
    {
     "data": {
      "application/javascript": [
       "\n",
       "            setTimeout(function() {\n",
       "                var nbb_cell_id = 24;\n",
       "                var nbb_unformatted_code = \"df = lang.lowercase(df)\\ndf.head()\";\n",
       "                var nbb_formatted_code = \"df = lang.lowercase(df)\\ndf.head()\";\n",
       "                var nbb_cells = Jupyter.notebook.get_cells();\n",
       "                for (var i = 0; i < nbb_cells.length; ++i) {\n",
       "                    if (nbb_cells[i].input_prompt_number == nbb_cell_id) {\n",
       "                        if (nbb_cells[i].get_text() == nbb_unformatted_code) {\n",
       "                             nbb_cells[i].set_text(nbb_formatted_code);\n",
       "                        }\n",
       "                        break;\n",
       "                    }\n",
       "                }\n",
       "            }, 500);\n",
       "            "
      ],
      "text/plain": [
       "<IPython.core.display.Javascript object>"
      ]
     },
     "metadata": {},
     "output_type": "display_data"
    }
   ],
   "source": [
    "df = lang.lowercase(df)\n",
    "df.head()"
   ]
  },
  {
   "cell_type": "markdown",
   "metadata": {},
   "source": [
    "Next I'll remove HTML tags. There are some visible in the 'description' field above, and I know that there are some in 'title' and 'price'."
   ]
  },
  {
   "cell_type": "code",
   "execution_count": 25,
   "metadata": {
    "ExecuteTime": {
     "end_time": "2021-08-22T01:43:24.710557Z",
     "start_time": "2021-08-22T01:39:01.776961Z"
    }
   },
   "outputs": [
    {
     "data": {
      "text/html": [
       "<div>\n",
       "<style scoped>\n",
       "    .dataframe tbody tr th:only-of-type {\n",
       "        vertical-align: middle;\n",
       "    }\n",
       "\n",
       "    .dataframe tbody tr th {\n",
       "        vertical-align: top;\n",
       "    }\n",
       "\n",
       "    .dataframe thead th {\n",
       "        text-align: right;\n",
       "    }\n",
       "</style>\n",
       "<table border=\"1\" class=\"dataframe\">\n",
       "  <thead>\n",
       "    <tr style=\"text-align: right;\">\n",
       "      <th></th>\n",
       "      <th>description</th>\n",
       "      <th>main_cat</th>\n",
       "      <th>title</th>\n",
       "      <th>brand</th>\n",
       "      <th>price</th>\n",
       "    </tr>\n",
       "    <tr>\n",
       "      <th>asin</th>\n",
       "      <th></th>\n",
       "      <th></th>\n",
       "      <th></th>\n",
       "      <th></th>\n",
       "      <th></th>\n",
       "    </tr>\n",
       "  </thead>\n",
       "  <tbody>\n",
       "    <tr>\n",
       "      <th>B000052XWP</th>\n",
       "      <td>advanced pain relief for the arch, heel, knee,...</td>\n",
       "      <td>all beauty</td>\n",
       "      <td>dr scholls dyna step-women's</td>\n",
       "      <td>dr scholl's</td>\n",
       "      <td>None</td>\n",
       "    </tr>\n",
       "    <tr>\n",
       "      <th>B00005NWS1</th>\n",
       "      <td>this electric shoe polisher has a high torque ...</td>\n",
       "      <td>all beauty</td>\n",
       "      <td>first class electric shoe polisher</td>\n",
       "      <td>jerdon</td>\n",
       "      <td>None</td>\n",
       "    </tr>\n",
       "    <tr>\n",
       "      <th>B000068DEG</th>\n",
       "      <td>bvlgari by bvlgari for women eau de parfum spr...</td>\n",
       "      <td>all beauty</td>\n",
       "      <td>bvlgari women eau de perfume, 1.7 fl. oz</td>\n",
       "      <td>bvlgari</td>\n",
       "      <td>None</td>\n",
       "    </tr>\n",
       "    <tr>\n",
       "      <th>B00006IQ95</th>\n",
       "      <td>quick and convenient for easy touch-ups around...</td>\n",
       "      <td>all beauty</td>\n",
       "      <td>mespirit eyebrows remover trimmer razor shaver...</td>\n",
       "      <td>la sante</td>\n",
       "      <td>None</td>\n",
       "    </tr>\n",
       "    <tr>\n",
       "      <th>B000078OSM</th>\n",
       "      <td>carry your light travel necessities comfortabl...</td>\n",
       "      <td>all beauty</td>\n",
       "      <td>clava one pocket 20\" duffel (vachetta tan)</td>\n",
       "      <td>clava</td>\n",
       "      <td>$185.16</td>\n",
       "    </tr>\n",
       "  </tbody>\n",
       "</table>\n",
       "</div>"
      ],
      "text/plain": [
       "                                                  description    main_cat  \\\n",
       "asin                                                                        \n",
       "B000052XWP  advanced pain relief for the arch, heel, knee,...  all beauty   \n",
       "B00005NWS1  this electric shoe polisher has a high torque ...  all beauty   \n",
       "B000068DEG  bvlgari by bvlgari for women eau de parfum spr...  all beauty   \n",
       "B00006IQ95  quick and convenient for easy touch-ups around...  all beauty   \n",
       "B000078OSM  carry your light travel necessities comfortabl...  all beauty   \n",
       "\n",
       "                                                        title        brand  \\\n",
       "asin                                                                         \n",
       "B000052XWP                       dr scholls dyna step-women's  dr scholl's   \n",
       "B00005NWS1                 first class electric shoe polisher       jerdon   \n",
       "B000068DEG           bvlgari women eau de perfume, 1.7 fl. oz      bvlgari   \n",
       "B00006IQ95  mespirit eyebrows remover trimmer razor shaver...     la sante   \n",
       "B000078OSM         clava one pocket 20\" duffel (vachetta tan)        clava   \n",
       "\n",
       "              price  \n",
       "asin                 \n",
       "B000052XWP     None  \n",
       "B00005NWS1     None  \n",
       "B000068DEG     None  \n",
       "B00006IQ95     None  \n",
       "B000078OSM  $185.16  "
      ]
     },
     "execution_count": 25,
     "metadata": {},
     "output_type": "execute_result"
    },
    {
     "data": {
      "application/javascript": [
       "\n",
       "            setTimeout(function() {\n",
       "                var nbb_cell_id = 25;\n",
       "                var nbb_unformatted_code = \"df = lang.strip_html_tags(df)\\ndf.head()\";\n",
       "                var nbb_formatted_code = \"df = lang.strip_html_tags(df)\\ndf.head()\";\n",
       "                var nbb_cells = Jupyter.notebook.get_cells();\n",
       "                for (var i = 0; i < nbb_cells.length; ++i) {\n",
       "                    if (nbb_cells[i].input_prompt_number == nbb_cell_id) {\n",
       "                        if (nbb_cells[i].get_text() == nbb_unformatted_code) {\n",
       "                             nbb_cells[i].set_text(nbb_formatted_code);\n",
       "                        }\n",
       "                        break;\n",
       "                    }\n",
       "                }\n",
       "            }, 500);\n",
       "            "
      ],
      "text/plain": [
       "<IPython.core.display.Javascript object>"
      ]
     },
     "metadata": {},
     "output_type": "display_data"
    }
   ],
   "source": [
    "df = lang.strip_html_tags(df)\n",
    "df.head()"
   ]
  },
  {
   "cell_type": "markdown",
   "metadata": {},
   "source": [
    "## Prune Nulls"
   ]
  },
  {
   "cell_type": "code",
   "execution_count": 26,
   "metadata": {
    "ExecuteTime": {
     "end_time": "2021-08-22T01:43:35.778554Z",
     "start_time": "2021-08-22T01:43:24.716725Z"
    }
   },
   "outputs": [
    {
     "data": {
      "text/plain": [
       "description        809\n",
       "main_cat             0\n",
       "title                0\n",
       "brand           465414\n",
       "price          3774135\n",
       "dtype: int64"
      ]
     },
     "execution_count": 26,
     "metadata": {},
     "output_type": "execute_result"
    },
    {
     "data": {
      "application/javascript": [
       "\n",
       "            setTimeout(function() {\n",
       "                var nbb_cell_id = 26;\n",
       "                var nbb_unformatted_code = \"df = df.mask(df.applymap(len, \\\"ignore\\\") == 0)\\ndf.isna().sum()\";\n",
       "                var nbb_formatted_code = \"df = df.mask(df.applymap(len, \\\"ignore\\\") == 0)\\ndf.isna().sum()\";\n",
       "                var nbb_cells = Jupyter.notebook.get_cells();\n",
       "                for (var i = 0; i < nbb_cells.length; ++i) {\n",
       "                    if (nbb_cells[i].input_prompt_number == nbb_cell_id) {\n",
       "                        if (nbb_cells[i].get_text() == nbb_unformatted_code) {\n",
       "                             nbb_cells[i].set_text(nbb_formatted_code);\n",
       "                        }\n",
       "                        break;\n",
       "                    }\n",
       "                }\n",
       "            }, 500);\n",
       "            "
      ],
      "text/plain": [
       "<IPython.core.display.Javascript object>"
      ]
     },
     "metadata": {},
     "output_type": "display_data"
    }
   ],
   "source": [
    "df = df.mask(df.applymap(len, \"ignore\") == 0)\n",
    "df.isna().sum()"
   ]
  },
  {
   "cell_type": "code",
   "execution_count": 27,
   "metadata": {
    "ExecuteTime": {
     "end_time": "2021-08-22T01:43:40.201053Z",
     "start_time": "2021-08-22T01:43:35.779555Z"
    }
   },
   "outputs": [
    {
     "data": {
      "text/plain": [
       "(8176711, 5)"
      ]
     },
     "execution_count": 27,
     "metadata": {},
     "output_type": "execute_result"
    },
    {
     "data": {
      "application/javascript": [
       "\n",
       "            setTimeout(function() {\n",
       "                var nbb_cell_id = 27;\n",
       "                var nbb_unformatted_code = \"df = df.dropna(subset=[\\\"description\\\"])\\ndf.shape\";\n",
       "                var nbb_formatted_code = \"df = df.dropna(subset=[\\\"description\\\"])\\ndf.shape\";\n",
       "                var nbb_cells = Jupyter.notebook.get_cells();\n",
       "                for (var i = 0; i < nbb_cells.length; ++i) {\n",
       "                    if (nbb_cells[i].input_prompt_number == nbb_cell_id) {\n",
       "                        if (nbb_cells[i].get_text() == nbb_unformatted_code) {\n",
       "                             nbb_cells[i].set_text(nbb_formatted_code);\n",
       "                        }\n",
       "                        break;\n",
       "                    }\n",
       "                }\n",
       "            }, 500);\n",
       "            "
      ],
      "text/plain": [
       "<IPython.core.display.Javascript object>"
      ]
     },
     "metadata": {},
     "output_type": "display_data"
    }
   ],
   "source": [
    "df = df.dropna(subset=[\"description\"])\n",
    "df.shape"
   ]
  },
  {
   "cell_type": "markdown",
   "metadata": {},
   "source": [
    "## Dedupe"
   ]
  },
  {
   "cell_type": "code",
   "execution_count": 28,
   "metadata": {
    "ExecuteTime": {
     "end_time": "2021-08-22T01:44:10.484587Z",
     "start_time": "2021-08-22T01:43:40.203052Z"
    }
   },
   "outputs": [
    {
     "data": {
      "text/plain": [
       "(8081533, 5)"
      ]
     },
     "execution_count": 28,
     "metadata": {},
     "output_type": "execute_result"
    },
    {
     "data": {
      "application/javascript": [
       "\n",
       "            setTimeout(function() {\n",
       "                var nbb_cell_id = 28;\n",
       "                var nbb_unformatted_code = \"df = df.drop_duplicates(subset=[\\\"title\\\", \\\"brand\\\"])\\ndf = df.drop_duplicates(subset=[\\\"description\\\"])\\ndf.shape\";\n",
       "                var nbb_formatted_code = \"df = df.drop_duplicates(subset=[\\\"title\\\", \\\"brand\\\"])\\ndf = df.drop_duplicates(subset=[\\\"description\\\"])\\ndf.shape\";\n",
       "                var nbb_cells = Jupyter.notebook.get_cells();\n",
       "                for (var i = 0; i < nbb_cells.length; ++i) {\n",
       "                    if (nbb_cells[i].input_prompt_number == nbb_cell_id) {\n",
       "                        if (nbb_cells[i].get_text() == nbb_unformatted_code) {\n",
       "                             nbb_cells[i].set_text(nbb_formatted_code);\n",
       "                        }\n",
       "                        break;\n",
       "                    }\n",
       "                }\n",
       "            }, 500);\n",
       "            "
      ],
      "text/plain": [
       "<IPython.core.display.Javascript object>"
      ]
     },
     "metadata": {},
     "output_type": "display_data"
    }
   ],
   "source": [
    "df = df.drop_duplicates(subset=[\"title\", \"brand\"])\n",
    "df = df.drop_duplicates(subset=[\"description\"])\n",
    "df.shape"
   ]
  },
  {
   "cell_type": "code",
   "execution_count": 29,
   "metadata": {
    "ExecuteTime": {
     "end_time": "2021-08-22T01:45:41.203364Z",
     "start_time": "2021-08-22T01:44:10.485585Z"
    }
   },
   "outputs": [
    {
     "data": {
      "application/javascript": [
       "\n",
       "            setTimeout(function() {\n",
       "                var nbb_cell_id = 29;\n",
       "                var nbb_unformatted_code = \"path = \\\"data/clean_text\\\"\\nif os.path.isdir(path):\\n    shutil.rmtree(path)\\n\\ndf.to_parquet(\\n    path,\\n    engine=\\\"pyarrow\\\",\\n    index=True,\\n    partition_cols=[\\\"main_cat\\\"],\\n)\";\n",
       "                var nbb_formatted_code = \"path = \\\"data/clean_text\\\"\\nif os.path.isdir(path):\\n    shutil.rmtree(path)\\n\\ndf.to_parquet(\\n    path,\\n    engine=\\\"pyarrow\\\",\\n    index=True,\\n    partition_cols=[\\\"main_cat\\\"],\\n)\";\n",
       "                var nbb_cells = Jupyter.notebook.get_cells();\n",
       "                for (var i = 0; i < nbb_cells.length; ++i) {\n",
       "                    if (nbb_cells[i].input_prompt_number == nbb_cell_id) {\n",
       "                        if (nbb_cells[i].get_text() == nbb_unformatted_code) {\n",
       "                             nbb_cells[i].set_text(nbb_formatted_code);\n",
       "                        }\n",
       "                        break;\n",
       "                    }\n",
       "                }\n",
       "            }, 500);\n",
       "            "
      ],
      "text/plain": [
       "<IPython.core.display.Javascript object>"
      ]
     },
     "metadata": {},
     "output_type": "display_data"
    }
   ],
   "source": [
    "path = \"data/clean_text\"\n",
    "if os.path.isdir(path):\n",
    "    shutil.rmtree(path)\n",
    "\n",
    "df.to_parquet(\n",
    "    path,\n",
    "    engine=\"pyarrow\",\n",
    "    index=True,\n",
    "    partition_cols=[\"main_cat\"],\n",
    ")"
   ]
  },
  {
   "cell_type": "markdown",
   "metadata": {},
   "source": [
    "# Prune Length Outliers"
   ]
  },
  {
   "cell_type": "code",
   "execution_count": 3,
   "metadata": {
    "ExecuteTime": {
     "end_time": "2021-08-23T00:30:46.022146Z",
     "start_time": "2021-08-23T00:30:26.971909Z"
    }
   },
   "outputs": [
    {
     "data": {
      "text/html": [
       "<div>\n",
       "<style scoped>\n",
       "    .dataframe tbody tr th:only-of-type {\n",
       "        vertical-align: middle;\n",
       "    }\n",
       "\n",
       "    .dataframe tbody tr th {\n",
       "        vertical-align: top;\n",
       "    }\n",
       "\n",
       "    .dataframe thead th {\n",
       "        text-align: right;\n",
       "    }\n",
       "</style>\n",
       "<table border=\"1\" class=\"dataframe\">\n",
       "  <thead>\n",
       "    <tr style=\"text-align: right;\">\n",
       "      <th></th>\n",
       "      <th>description</th>\n",
       "      <th>title</th>\n",
       "      <th>brand</th>\n",
       "      <th>price</th>\n",
       "      <th>main_cat</th>\n",
       "    </tr>\n",
       "    <tr>\n",
       "      <th>asin</th>\n",
       "      <th></th>\n",
       "      <th></th>\n",
       "      <th></th>\n",
       "      <th></th>\n",
       "      <th></th>\n",
       "    </tr>\n",
       "  </thead>\n",
       "  <tbody>\n",
       "    <tr>\n",
       "      <th>B000052XWP</th>\n",
       "      <td>advanced pain relief for the arch, heel, knee,...</td>\n",
       "      <td>dr scholls dyna step-women's</td>\n",
       "      <td>dr scholl's</td>\n",
       "      <td>None</td>\n",
       "      <td>all beauty</td>\n",
       "    </tr>\n",
       "    <tr>\n",
       "      <th>B00005NWS1</th>\n",
       "      <td>this electric shoe polisher has a high torque ...</td>\n",
       "      <td>first class electric shoe polisher</td>\n",
       "      <td>jerdon</td>\n",
       "      <td>None</td>\n",
       "      <td>all beauty</td>\n",
       "    </tr>\n",
       "    <tr>\n",
       "      <th>B000068DEG</th>\n",
       "      <td>bvlgari by bvlgari for women eau de parfum spr...</td>\n",
       "      <td>bvlgari women eau de perfume, 1.7 fl. oz</td>\n",
       "      <td>bvlgari</td>\n",
       "      <td>None</td>\n",
       "      <td>all beauty</td>\n",
       "    </tr>\n",
       "    <tr>\n",
       "      <th>B00006IQ95</th>\n",
       "      <td>quick and convenient for easy touch-ups around...</td>\n",
       "      <td>mespirit eyebrows remover trimmer razor shaver...</td>\n",
       "      <td>la sante</td>\n",
       "      <td>None</td>\n",
       "      <td>all beauty</td>\n",
       "    </tr>\n",
       "    <tr>\n",
       "      <th>B000078OSM</th>\n",
       "      <td>carry your light travel necessities comfortabl...</td>\n",
       "      <td>clava one pocket 20\" duffel (vachetta tan)</td>\n",
       "      <td>clava</td>\n",
       "      <td>$185.16</td>\n",
       "      <td>all beauty</td>\n",
       "    </tr>\n",
       "  </tbody>\n",
       "</table>\n",
       "</div>"
      ],
      "text/plain": [
       "                                                  description  \\\n",
       "asin                                                            \n",
       "B000052XWP  advanced pain relief for the arch, heel, knee,...   \n",
       "B00005NWS1  this electric shoe polisher has a high torque ...   \n",
       "B000068DEG  bvlgari by bvlgari for women eau de parfum spr...   \n",
       "B00006IQ95  quick and convenient for easy touch-ups around...   \n",
       "B000078OSM  carry your light travel necessities comfortabl...   \n",
       "\n",
       "                                                        title        brand  \\\n",
       "asin                                                                         \n",
       "B000052XWP                       dr scholls dyna step-women's  dr scholl's   \n",
       "B00005NWS1                 first class electric shoe polisher       jerdon   \n",
       "B000068DEG           bvlgari women eau de perfume, 1.7 fl. oz      bvlgari   \n",
       "B00006IQ95  mespirit eyebrows remover trimmer razor shaver...     la sante   \n",
       "B000078OSM         clava one pocket 20\" duffel (vachetta tan)        clava   \n",
       "\n",
       "              price    main_cat  \n",
       "asin                             \n",
       "B000052XWP     None  all beauty  \n",
       "B00005NWS1     None  all beauty  \n",
       "B000068DEG     None  all beauty  \n",
       "B00006IQ95     None  all beauty  \n",
       "B000078OSM  $185.16  all beauty  "
      ]
     },
     "execution_count": 3,
     "metadata": {},
     "output_type": "execute_result"
    },
    {
     "data": {
      "application/javascript": [
       "\n",
       "            setTimeout(function() {\n",
       "                var nbb_cell_id = 3;\n",
       "                var nbb_unformatted_code = \"df = pd.read_parquet(\\\"data/clean_text\\\", engine=\\\"pyarrow\\\")\\ndf.head()\";\n",
       "                var nbb_formatted_code = \"df = pd.read_parquet(\\\"data/clean_text\\\", engine=\\\"pyarrow\\\")\\ndf.head()\";\n",
       "                var nbb_cells = Jupyter.notebook.get_cells();\n",
       "                for (var i = 0; i < nbb_cells.length; ++i) {\n",
       "                    if (nbb_cells[i].input_prompt_number == nbb_cell_id) {\n",
       "                        if (nbb_cells[i].get_text() == nbb_unformatted_code) {\n",
       "                             nbb_cells[i].set_text(nbb_formatted_code);\n",
       "                        }\n",
       "                        break;\n",
       "                    }\n",
       "                }\n",
       "            }, 500);\n",
       "            "
      ],
      "text/plain": [
       "<IPython.core.display.Javascript object>"
      ]
     },
     "metadata": {},
     "output_type": "display_data"
    }
   ],
   "source": [
    "df = pd.read_parquet(\"data/clean_text\", engine=\"pyarrow\")\n",
    "df.head()"
   ]
  },
  {
   "cell_type": "code",
   "execution_count": 4,
   "metadata": {
    "ExecuteTime": {
     "end_time": "2021-08-23T00:30:50.617837Z",
     "start_time": "2021-08-23T00:30:46.023145Z"
    }
   },
   "outputs": [
    {
     "data": {
      "image/png": "[encoded data removed]",
      "text/plain": [
       "<Figure size 1080x360 with 3 Axes>"
      ]
     },
     "metadata": {
      "needs_background": "light"
     },
     "output_type": "display_data"
    },
    {
     "data": {
      "application/javascript": [
       "\n",
       "            setTimeout(function() {\n",
       "                var nbb_cell_id = 4;\n",
       "                var nbb_unformatted_code = \"fig = lang.length_dist(df.sample(10000), subset=[\\\"description\\\"])\";\n",
       "                var nbb_formatted_code = \"fig = lang.length_dist(df.sample(10000), subset=[\\\"description\\\"])\";\n",
       "                var nbb_cells = Jupyter.notebook.get_cells();\n",
       "                for (var i = 0; i < nbb_cells.length; ++i) {\n",
       "                    if (nbb_cells[i].input_prompt_number == nbb_cell_id) {\n",
       "                        if (nbb_cells[i].get_text() == nbb_unformatted_code) {\n",
       "                             nbb_cells[i].set_text(nbb_formatted_code);\n",
       "                        }\n",
       "                        break;\n",
       "                    }\n",
       "                }\n",
       "            }, 500);\n",
       "            "
      ],
      "text/plain": [
       "<IPython.core.display.Javascript object>"
      ]
     },
     "metadata": {},
     "output_type": "display_data"
    }
   ],
   "source": [
    "fig = lang.length_dist(df.sample(10000), subset=[\"description\"])"
   ]
  },
  {
   "cell_type": "code",
   "execution_count": 5,
   "metadata": {
    "ExecuteTime": {
     "end_time": "2021-08-23T00:31:03.188101Z",
     "start_time": "2021-08-23T00:30:50.617837Z"
    }
   },
   "outputs": [
    {
     "name": "stdout",
     "output_type": "stream",
     "text": [
      "        len_description  len_title  len_brand  len_price\n",
      "min                   1          1          1          5\n",
      "median              378         57         11          6\n",
      "max             257,332      1,996      1,986      4,648\n"
     ]
    },
    {
     "data": {
      "application/javascript": [
       "\n",
       "            setTimeout(function() {\n",
       "                var nbb_cell_id = 5;\n",
       "                var nbb_unformatted_code = \"lang.other.length_info(df)\";\n",
       "                var nbb_formatted_code = \"lang.other.length_info(df)\";\n",
       "                var nbb_cells = Jupyter.notebook.get_cells();\n",
       "                for (var i = 0; i < nbb_cells.length; ++i) {\n",
       "                    if (nbb_cells[i].input_prompt_number == nbb_cell_id) {\n",
       "                        if (nbb_cells[i].get_text() == nbb_unformatted_code) {\n",
       "                             nbb_cells[i].set_text(nbb_formatted_code);\n",
       "                        }\n",
       "                        break;\n",
       "                    }\n",
       "                }\n",
       "            }, 500);\n",
       "            "
      ],
      "text/plain": [
       "<IPython.core.display.Javascript object>"
      ]
     },
     "metadata": {},
     "output_type": "display_data"
    }
   ],
   "source": [
    "lang.other.length_info(df)"
   ]
  },
  {
   "cell_type": "code",
   "execution_count": 6,
   "metadata": {
    "ExecuteTime": {
     "end_time": "2021-08-23T00:31:12.674610Z",
     "start_time": "2021-08-23T00:31:03.190103Z"
    }
   },
   "outputs": [
    {
     "name": "stdout",
     "output_type": "stream",
     "text": [
      "        len_description\n",
      "min                 135\n",
      "median              490\n",
      "max               3,883\n",
      "\n",
      "\n",
      "             n_trimmed  pct_trimmed\n",
      "description  1,696,694           21\n",
      "title                0            0\n",
      "brand                0            0\n",
      "price                0            0\n",
      "main_cat             0            0\n",
      "total_obs    1,696,694           21\n"
     ]
    },
    {
     "data": {
      "text/html": [
       "<div>\n",
       "<style scoped>\n",
       "    .dataframe tbody tr th:only-of-type {\n",
       "        vertical-align: middle;\n",
       "    }\n",
       "\n",
       "    .dataframe tbody tr th {\n",
       "        vertical-align: top;\n",
       "    }\n",
       "\n",
       "    .dataframe thead th {\n",
       "        text-align: right;\n",
       "    }\n",
       "</style>\n",
       "<table border=\"1\" class=\"dataframe\">\n",
       "  <thead>\n",
       "    <tr style=\"text-align: right;\">\n",
       "      <th></th>\n",
       "      <th>description</th>\n",
       "      <th>title</th>\n",
       "      <th>brand</th>\n",
       "      <th>price</th>\n",
       "      <th>main_cat</th>\n",
       "    </tr>\n",
       "    <tr>\n",
       "      <th>asin</th>\n",
       "      <th></th>\n",
       "      <th></th>\n",
       "      <th></th>\n",
       "      <th></th>\n",
       "      <th></th>\n",
       "    </tr>\n",
       "  </thead>\n",
       "  <tbody>\n",
       "    <tr>\n",
       "      <th>B000052XWP</th>\n",
       "      <td>advanced pain relief for the arch, heel, knee,...</td>\n",
       "      <td>dr scholls dyna step-women's</td>\n",
       "      <td>dr scholl's</td>\n",
       "      <td>None</td>\n",
       "      <td>all beauty</td>\n",
       "    </tr>\n",
       "    <tr>\n",
       "      <th>B00005NWS1</th>\n",
       "      <td>this electric shoe polisher has a high torque ...</td>\n",
       "      <td>first class electric shoe polisher</td>\n",
       "      <td>jerdon</td>\n",
       "      <td>None</td>\n",
       "      <td>all beauty</td>\n",
       "    </tr>\n",
       "    <tr>\n",
       "      <th>B000068DEG</th>\n",
       "      <td>bvlgari by bvlgari for women eau de parfum spr...</td>\n",
       "      <td>bvlgari women eau de perfume, 1.7 fl. oz</td>\n",
       "      <td>bvlgari</td>\n",
       "      <td>None</td>\n",
       "      <td>all beauty</td>\n",
       "    </tr>\n",
       "    <tr>\n",
       "      <th>B00006IQ95</th>\n",
       "      <td>quick and convenient for easy touch-ups around...</td>\n",
       "      <td>mespirit eyebrows remover trimmer razor shaver...</td>\n",
       "      <td>la sante</td>\n",
       "      <td>None</td>\n",
       "      <td>all beauty</td>\n",
       "    </tr>\n",
       "    <tr>\n",
       "      <th>B000078OSM</th>\n",
       "      <td>carry your light travel necessities comfortabl...</td>\n",
       "      <td>clava one pocket 20\" duffel (vachetta tan)</td>\n",
       "      <td>clava</td>\n",
       "      <td>$185.16</td>\n",
       "      <td>all beauty</td>\n",
       "    </tr>\n",
       "  </tbody>\n",
       "</table>\n",
       "</div>"
      ],
      "text/plain": [
       "                                                  description  \\\n",
       "asin                                                            \n",
       "B000052XWP  advanced pain relief for the arch, heel, knee,...   \n",
       "B00005NWS1  this electric shoe polisher has a high torque ...   \n",
       "B000068DEG  bvlgari by bvlgari for women eau de parfum spr...   \n",
       "B00006IQ95  quick and convenient for easy touch-ups around...   \n",
       "B000078OSM  carry your light travel necessities comfortabl...   \n",
       "\n",
       "                                                        title        brand  \\\n",
       "asin                                                                         \n",
       "B000052XWP                       dr scholls dyna step-women's  dr scholl's   \n",
       "B00005NWS1                 first class electric shoe polisher       jerdon   \n",
       "B000068DEG           bvlgari women eau de perfume, 1.7 fl. oz      bvlgari   \n",
       "B00006IQ95  mespirit eyebrows remover trimmer razor shaver...     la sante   \n",
       "B000078OSM         clava one pocket 20\" duffel (vachetta tan)        clava   \n",
       "\n",
       "              price    main_cat  \n",
       "asin                             \n",
       "B000052XWP     None  all beauty  \n",
       "B00005NWS1     None  all beauty  \n",
       "B000068DEG     None  all beauty  \n",
       "B00006IQ95     None  all beauty  \n",
       "B000078OSM  $185.16  all beauty  "
      ]
     },
     "execution_count": 6,
     "metadata": {},
     "output_type": "execute_result"
    },
    {
     "data": {
      "application/javascript": [
       "\n",
       "            setTimeout(function() {\n",
       "                var nbb_cell_id = 6;\n",
       "                var nbb_unformatted_code = \"df = lang.trim_length_outliers(\\n    df,\\n    subset=[\\\"description\\\"],\\n    q_lower=0.2,\\n    q_upper=0.99,\\n)\\ndf.head()\";\n",
       "                var nbb_formatted_code = \"df = lang.trim_length_outliers(\\n    df,\\n    subset=[\\\"description\\\"],\\n    q_lower=0.2,\\n    q_upper=0.99,\\n)\\ndf.head()\";\n",
       "                var nbb_cells = Jupyter.notebook.get_cells();\n",
       "                for (var i = 0; i < nbb_cells.length; ++i) {\n",
       "                    if (nbb_cells[i].input_prompt_number == nbb_cell_id) {\n",
       "                        if (nbb_cells[i].get_text() == nbb_unformatted_code) {\n",
       "                             nbb_cells[i].set_text(nbb_formatted_code);\n",
       "                        }\n",
       "                        break;\n",
       "                    }\n",
       "                }\n",
       "            }, 500);\n",
       "            "
      ],
      "text/plain": [
       "<IPython.core.display.Javascript object>"
      ]
     },
     "metadata": {},
     "output_type": "display_data"
    }
   ],
   "source": [
    "df = lang.trim_length_outliers(\n",
    "    df,\n",
    "    subset=[\"description\"],\n",
    "    q_lower=0.2,\n",
    "    q_upper=0.99,\n",
    ")\n",
    "df.head()"
   ]
  },
  {
   "cell_type": "code",
   "execution_count": 7,
   "metadata": {
    "ExecuteTime": {
     "end_time": "2021-08-23T00:31:22.389774Z",
     "start_time": "2021-08-23T00:31:12.675585Z"
    }
   },
   "outputs": [
    {
     "name": "stdout",
     "output_type": "stream",
     "text": [
      "        len_title  len_brand\n",
      "min             8          2\n",
      "median         59         11\n",
      "max           218         42\n",
      "\n",
      "\n",
      "             n_trimmed  pct_trimmed\n",
      "description          0            0\n",
      "title           62,722            1\n",
      "brand           26,897            0\n",
      "price                0            0\n",
      "main_cat             0            0\n",
      "total_obs       89,265            1\n"
     ]
    },
    {
     "data": {
      "text/html": [
       "<div>\n",
       "<style scoped>\n",
       "    .dataframe tbody tr th:only-of-type {\n",
       "        vertical-align: middle;\n",
       "    }\n",
       "\n",
       "    .dataframe tbody tr th {\n",
       "        vertical-align: top;\n",
       "    }\n",
       "\n",
       "    .dataframe thead th {\n",
       "        text-align: right;\n",
       "    }\n",
       "</style>\n",
       "<table border=\"1\" class=\"dataframe\">\n",
       "  <thead>\n",
       "    <tr style=\"text-align: right;\">\n",
       "      <th></th>\n",
       "      <th>description</th>\n",
       "      <th>title</th>\n",
       "      <th>brand</th>\n",
       "      <th>price</th>\n",
       "      <th>main_cat</th>\n",
       "    </tr>\n",
       "    <tr>\n",
       "      <th>asin</th>\n",
       "      <th></th>\n",
       "      <th></th>\n",
       "      <th></th>\n",
       "      <th></th>\n",
       "      <th></th>\n",
       "    </tr>\n",
       "  </thead>\n",
       "  <tbody>\n",
       "    <tr>\n",
       "      <th>B000052XWP</th>\n",
       "      <td>advanced pain relief for the arch, heel, knee,...</td>\n",
       "      <td>dr scholls dyna step-women's</td>\n",
       "      <td>dr scholl's</td>\n",
       "      <td>None</td>\n",
       "      <td>all beauty</td>\n",
       "    </tr>\n",
       "    <tr>\n",
       "      <th>B00005NWS1</th>\n",
       "      <td>this electric shoe polisher has a high torque ...</td>\n",
       "      <td>first class electric shoe polisher</td>\n",
       "      <td>jerdon</td>\n",
       "      <td>None</td>\n",
       "      <td>all beauty</td>\n",
       "    </tr>\n",
       "    <tr>\n",
       "      <th>B000068DEG</th>\n",
       "      <td>bvlgari by bvlgari for women eau de parfum spr...</td>\n",
       "      <td>bvlgari women eau de perfume, 1.7 fl. oz</td>\n",
       "      <td>bvlgari</td>\n",
       "      <td>None</td>\n",
       "      <td>all beauty</td>\n",
       "    </tr>\n",
       "    <tr>\n",
       "      <th>B00006IQ95</th>\n",
       "      <td>quick and convenient for easy touch-ups around...</td>\n",
       "      <td>mespirit eyebrows remover trimmer razor shaver...</td>\n",
       "      <td>la sante</td>\n",
       "      <td>None</td>\n",
       "      <td>all beauty</td>\n",
       "    </tr>\n",
       "    <tr>\n",
       "      <th>B000078OSM</th>\n",
       "      <td>carry your light travel necessities comfortabl...</td>\n",
       "      <td>clava one pocket 20\" duffel (vachetta tan)</td>\n",
       "      <td>clava</td>\n",
       "      <td>$185.16</td>\n",
       "      <td>all beauty</td>\n",
       "    </tr>\n",
       "  </tbody>\n",
       "</table>\n",
       "</div>"
      ],
      "text/plain": [
       "                                                  description  \\\n",
       "asin                                                            \n",
       "B000052XWP  advanced pain relief for the arch, heel, knee,...   \n",
       "B00005NWS1  this electric shoe polisher has a high torque ...   \n",
       "B000068DEG  bvlgari by bvlgari for women eau de parfum spr...   \n",
       "B00006IQ95  quick and convenient for easy touch-ups around...   \n",
       "B000078OSM  carry your light travel necessities comfortabl...   \n",
       "\n",
       "                                                        title        brand  \\\n",
       "asin                                                                         \n",
       "B000052XWP                       dr scholls dyna step-women's  dr scholl's   \n",
       "B00005NWS1                 first class electric shoe polisher       jerdon   \n",
       "B000068DEG           bvlgari women eau de perfume, 1.7 fl. oz      bvlgari   \n",
       "B00006IQ95  mespirit eyebrows remover trimmer razor shaver...     la sante   \n",
       "B000078OSM         clava one pocket 20\" duffel (vachetta tan)        clava   \n",
       "\n",
       "              price    main_cat  \n",
       "asin                             \n",
       "B000052XWP     None  all beauty  \n",
       "B00005NWS1     None  all beauty  \n",
       "B000068DEG     None  all beauty  \n",
       "B00006IQ95     None  all beauty  \n",
       "B000078OSM  $185.16  all beauty  "
      ]
     },
     "execution_count": 7,
     "metadata": {},
     "output_type": "execute_result"
    },
    {
     "data": {
      "application/javascript": [
       "\n",
       "            setTimeout(function() {\n",
       "                var nbb_cell_id = 7;\n",
       "                var nbb_unformatted_code = \"df = lang.trim_length_outliers(\\n    df,\\n    subset=[\\\"title\\\", \\\"brand\\\"],\\n    q_inner=0.99,\\n)\\ndf.head()\";\n",
       "                var nbb_formatted_code = \"df = lang.trim_length_outliers(\\n    df,\\n    subset=[\\\"title\\\", \\\"brand\\\"],\\n    q_inner=0.99,\\n)\\ndf.head()\";\n",
       "                var nbb_cells = Jupyter.notebook.get_cells();\n",
       "                for (var i = 0; i < nbb_cells.length; ++i) {\n",
       "                    if (nbb_cells[i].input_prompt_number == nbb_cell_id) {\n",
       "                        if (nbb_cells[i].get_text() == nbb_unformatted_code) {\n",
       "                             nbb_cells[i].set_text(nbb_formatted_code);\n",
       "                        }\n",
       "                        break;\n",
       "                    }\n",
       "                }\n",
       "            }, 500);\n",
       "            "
      ],
      "text/plain": [
       "<IPython.core.display.Javascript object>"
      ]
     },
     "metadata": {},
     "output_type": "display_data"
    }
   ],
   "source": [
    "df = lang.trim_length_outliers(\n",
    "    df,\n",
    "    subset=[\"title\", \"brand\"],\n",
    "    q_inner=0.99,\n",
    ")\n",
    "df.head()"
   ]
  },
  {
   "cell_type": "code",
   "execution_count": null,
   "metadata": {},
   "outputs": [],
   "source": [
    "fig = lang.length_dist(df, subset=[\"description\", \"title\", \"brand\"])"
   ]
  },
  {
   "cell_type": "markdown",
   "metadata": {},
   "source": [
    "# Clean Price"
   ]
  },
  {
   "cell_type": "code",
   "execution_count": 8,
   "metadata": {
    "ExecuteTime": {
     "end_time": "2021-08-23T00:31:29.979218Z",
     "start_time": "2021-08-23T00:31:22.390739Z"
    }
   },
   "outputs": [
    {
     "data": {
      "text/html": [
       "<div>\n",
       "<style scoped>\n",
       "    .dataframe tbody tr th:only-of-type {\n",
       "        vertical-align: middle;\n",
       "    }\n",
       "\n",
       "    .dataframe tbody tr th {\n",
       "        vertical-align: top;\n",
       "    }\n",
       "\n",
       "    .dataframe thead th {\n",
       "        text-align: right;\n",
       "    }\n",
       "</style>\n",
       "<table border=\"1\" class=\"dataframe\">\n",
       "  <thead>\n",
       "    <tr style=\"text-align: right;\">\n",
       "      <th></th>\n",
       "      <th>description</th>\n",
       "      <th>title</th>\n",
       "      <th>brand</th>\n",
       "      <th>price</th>\n",
       "      <th>main_cat</th>\n",
       "    </tr>\n",
       "    <tr>\n",
       "      <th>asin</th>\n",
       "      <th></th>\n",
       "      <th></th>\n",
       "      <th></th>\n",
       "      <th></th>\n",
       "      <th></th>\n",
       "    </tr>\n",
       "  </thead>\n",
       "  <tbody>\n",
       "    <tr>\n",
       "      <th>B000052XWP</th>\n",
       "      <td>advanced pain relief for the arch, heel, knee,...</td>\n",
       "      <td>dr scholls dyna step-women's</td>\n",
       "      <td>dr scholl's</td>\n",
       "      <td>NaN</td>\n",
       "      <td>all beauty</td>\n",
       "    </tr>\n",
       "    <tr>\n",
       "      <th>B00005NWS1</th>\n",
       "      <td>this electric shoe polisher has a high torque ...</td>\n",
       "      <td>first class electric shoe polisher</td>\n",
       "      <td>jerdon</td>\n",
       "      <td>NaN</td>\n",
       "      <td>all beauty</td>\n",
       "    </tr>\n",
       "    <tr>\n",
       "      <th>B000068DEG</th>\n",
       "      <td>bvlgari by bvlgari for women eau de parfum spr...</td>\n",
       "      <td>bvlgari women eau de perfume, 1.7 fl. oz</td>\n",
       "      <td>bvlgari</td>\n",
       "      <td>NaN</td>\n",
       "      <td>all beauty</td>\n",
       "    </tr>\n",
       "    <tr>\n",
       "      <th>B00006IQ95</th>\n",
       "      <td>quick and convenient for easy touch-ups around...</td>\n",
       "      <td>mespirit eyebrows remover trimmer razor shaver...</td>\n",
       "      <td>la sante</td>\n",
       "      <td>NaN</td>\n",
       "      <td>all beauty</td>\n",
       "    </tr>\n",
       "    <tr>\n",
       "      <th>B000078OSM</th>\n",
       "      <td>carry your light travel necessities comfortabl...</td>\n",
       "      <td>clava one pocket 20\" duffel (vachetta tan)</td>\n",
       "      <td>clava</td>\n",
       "      <td>185.16</td>\n",
       "      <td>all beauty</td>\n",
       "    </tr>\n",
       "    <tr>\n",
       "      <th>B0000TIK8K</th>\n",
       "      <td>traditional indiglo night-light, wr 30m, easy ...</td>\n",
       "      <td>timex children's watch t72891</td>\n",
       "      <td>timex</td>\n",
       "      <td>NaN</td>\n",
       "      <td>all beauty</td>\n",
       "    </tr>\n",
       "    <tr>\n",
       "      <th>B00012KBNS</th>\n",
       "      <td>the lady's watch has a .75 inch diameter face ...</td>\n",
       "      <td>timex indiglo watch ladies gold with expansion...</td>\n",
       "      <td>magnifying aids</td>\n",
       "      <td>99.95</td>\n",
       "      <td>all beauty</td>\n",
       "    </tr>\n",
       "    <tr>\n",
       "      <th>B000172RRG</th>\n",
       "      <td>overall protection for your hairstyle front br...</td>\n",
       "      <td>rain runner light blue</td>\n",
       "      <td>andre</td>\n",
       "      <td>NaN</td>\n",
       "      <td>all beauty</td>\n",
       "    </tr>\n",
       "    <tr>\n",
       "      <th>B000186WR6</th>\n",
       "      <td>rich design, this stylish, polish finish, two-...</td>\n",
       "      <td>mens royal tel time bi color talking watch wit...</td>\n",
       "      <td>royal tel-time</td>\n",
       "      <td>49.95</td>\n",
       "      <td>all beauty</td>\n",
       "    </tr>\n",
       "    <tr>\n",
       "      <th>B00019FWE4</th>\n",
       "      <td>100-hour chronograph. high contrast lcd displa...</td>\n",
       "      <td>nike oregon series digital super watch wa0024-001</td>\n",
       "      <td>nike</td>\n",
       "      <td>NaN</td>\n",
       "      <td>all beauty</td>\n",
       "    </tr>\n",
       "  </tbody>\n",
       "</table>\n",
       "</div>"
      ],
      "text/plain": [
       "                                                  description  \\\n",
       "asin                                                            \n",
       "B000052XWP  advanced pain relief for the arch, heel, knee,...   \n",
       "B00005NWS1  this electric shoe polisher has a high torque ...   \n",
       "B000068DEG  bvlgari by bvlgari for women eau de parfum spr...   \n",
       "B00006IQ95  quick and convenient for easy touch-ups around...   \n",
       "B000078OSM  carry your light travel necessities comfortabl...   \n",
       "B0000TIK8K  traditional indiglo night-light, wr 30m, easy ...   \n",
       "B00012KBNS  the lady's watch has a .75 inch diameter face ...   \n",
       "B000172RRG  overall protection for your hairstyle front br...   \n",
       "B000186WR6  rich design, this stylish, polish finish, two-...   \n",
       "B00019FWE4  100-hour chronograph. high contrast lcd displa...   \n",
       "\n",
       "                                                        title  \\\n",
       "asin                                                            \n",
       "B000052XWP                       dr scholls dyna step-women's   \n",
       "B00005NWS1                 first class electric shoe polisher   \n",
       "B000068DEG           bvlgari women eau de perfume, 1.7 fl. oz   \n",
       "B00006IQ95  mespirit eyebrows remover trimmer razor shaver...   \n",
       "B000078OSM         clava one pocket 20\" duffel (vachetta tan)   \n",
       "B0000TIK8K                      timex children's watch t72891   \n",
       "B00012KBNS  timex indiglo watch ladies gold with expansion...   \n",
       "B000172RRG                             rain runner light blue   \n",
       "B000186WR6  mens royal tel time bi color talking watch wit...   \n",
       "B00019FWE4  nike oregon series digital super watch wa0024-001   \n",
       "\n",
       "                      brand   price    main_cat  \n",
       "asin                                             \n",
       "B000052XWP      dr scholl's     NaN  all beauty  \n",
       "B00005NWS1           jerdon     NaN  all beauty  \n",
       "B000068DEG          bvlgari     NaN  all beauty  \n",
       "B00006IQ95         la sante     NaN  all beauty  \n",
       "B000078OSM            clava  185.16  all beauty  \n",
       "B0000TIK8K            timex     NaN  all beauty  \n",
       "B00012KBNS  magnifying aids   99.95  all beauty  \n",
       "B000172RRG            andre     NaN  all beauty  \n",
       "B000186WR6   royal tel-time   49.95  all beauty  \n",
       "B00019FWE4             nike     NaN  all beauty  "
      ]
     },
     "execution_count": 8,
     "metadata": {},
     "output_type": "execute_result"
    },
    {
     "data": {
      "application/javascript": [
       "\n",
       "            setTimeout(function() {\n",
       "                var nbb_cell_id = 8;\n",
       "                var nbb_unformatted_code = \"df[\\\"price\\\"] = df.loc[:, \\\"price\\\"].str.extract(r\\\"\\\\$?(\\\\d+\\\\.\\\\d{2}|\\\\d+)\\\")\\ndf[\\\"price\\\"] = df.loc[:, \\\"price\\\"].astype(np.float64)\\ndf.head(10)\";\n",
       "                var nbb_formatted_code = \"df[\\\"price\\\"] = df.loc[:, \\\"price\\\"].str.extract(r\\\"\\\\$?(\\\\d+\\\\.\\\\d{2}|\\\\d+)\\\")\\ndf[\\\"price\\\"] = df.loc[:, \\\"price\\\"].astype(np.float64)\\ndf.head(10)\";\n",
       "                var nbb_cells = Jupyter.notebook.get_cells();\n",
       "                for (var i = 0; i < nbb_cells.length; ++i) {\n",
       "                    if (nbb_cells[i].input_prompt_number == nbb_cell_id) {\n",
       "                        if (nbb_cells[i].get_text() == nbb_unformatted_code) {\n",
       "                             nbb_cells[i].set_text(nbb_formatted_code);\n",
       "                        }\n",
       "                        break;\n",
       "                    }\n",
       "                }\n",
       "            }, 500);\n",
       "            "
      ],
      "text/plain": [
       "<IPython.core.display.Javascript object>"
      ]
     },
     "metadata": {},
     "output_type": "display_data"
    }
   ],
   "source": [
    "df[\"price\"] = df.loc[:, \"price\"].str.extract(r\"\\$?(\\d+\\.\\d{2}|\\d+)\")\n",
    "df[\"price\"] = df.loc[:, \"price\"].astype(np.float64)\n",
    "df.head(10)"
   ]
  },
  {
   "cell_type": "code",
   "execution_count": 9,
   "metadata": {
    "ExecuteTime": {
     "end_time": "2021-08-23T00:31:31.076802Z",
     "start_time": "2021-08-23T00:31:29.980220Z"
    }
   },
   "outputs": [
    {
     "data": {
      "text/plain": [
       "description    0.000000\n",
       "title          0.000000\n",
       "brand          0.048635\n",
       "price          0.459268\n",
       "main_cat       0.000000\n",
       "dtype: float64"
      ]
     },
     "execution_count": 9,
     "metadata": {},
     "output_type": "execute_result"
    },
    {
     "data": {
      "application/javascript": [
       "\n",
       "            setTimeout(function() {\n",
       "                var nbb_cell_id = 9;\n",
       "                var nbb_unformatted_code = \"df.isna().sum() / df.shape[0]\";\n",
       "                var nbb_formatted_code = \"df.isna().sum() / df.shape[0]\";\n",
       "                var nbb_cells = Jupyter.notebook.get_cells();\n",
       "                for (var i = 0; i < nbb_cells.length; ++i) {\n",
       "                    if (nbb_cells[i].input_prompt_number == nbb_cell_id) {\n",
       "                        if (nbb_cells[i].get_text() == nbb_unformatted_code) {\n",
       "                             nbb_cells[i].set_text(nbb_formatted_code);\n",
       "                        }\n",
       "                        break;\n",
       "                    }\n",
       "                }\n",
       "            }, 500);\n",
       "            "
      ],
      "text/plain": [
       "<IPython.core.display.Javascript object>"
      ]
     },
     "metadata": {},
     "output_type": "display_data"
    }
   ],
   "source": [
    "df.isna().sum() / df.shape[0]"
   ]
  },
  {
   "cell_type": "markdown",
   "metadata": {},
   "source": [
    "# Clean Brand"
   ]
  },
  {
   "cell_type": "code",
   "execution_count": 10,
   "metadata": {
    "ExecuteTime": {
     "end_time": "2021-08-23T00:31:32.429347Z",
     "start_time": "2021-08-23T00:31:31.078772Z"
    }
   },
   "outputs": [
    {
     "data": {
      "text/plain": [
       "generic                 19520\n",
       "unknown                 18196\n",
       "uxcell                  17692\n",
       "3drose                  13969\n",
       "disney                  10168\n",
       "various artists          7772\n",
       "yu-gi-oh!                7400\n",
       "sony                     7212\n",
       "adidas                   7097\n",
       "magic: the gathering     6782\n",
       "invicta                  6547\n",
       "samsung                  6369\n",
       "hp                       5772\n",
       "amscan                   5537\n",
       "various                  5358\n",
       "Name: brand, dtype: int64"
      ]
     },
     "execution_count": 10,
     "metadata": {},
     "output_type": "execute_result"
    },
    {
     "data": {
      "application/javascript": [
       "\n",
       "            setTimeout(function() {\n",
       "                var nbb_cell_id = 10;\n",
       "                var nbb_unformatted_code = \"brand_counts = df[\\\"brand\\\"].value_counts()\\nbrand_counts.head(15)\";\n",
       "                var nbb_formatted_code = \"brand_counts = df[\\\"brand\\\"].value_counts()\\nbrand_counts.head(15)\";\n",
       "                var nbb_cells = Jupyter.notebook.get_cells();\n",
       "                for (var i = 0; i < nbb_cells.length; ++i) {\n",
       "                    if (nbb_cells[i].input_prompt_number == nbb_cell_id) {\n",
       "                        if (nbb_cells[i].get_text() == nbb_unformatted_code) {\n",
       "                             nbb_cells[i].set_text(nbb_formatted_code);\n",
       "                        }\n",
       "                        break;\n",
       "                    }\n",
       "                }\n",
       "            }, 500);\n",
       "            "
      ],
      "text/plain": [
       "<IPython.core.display.Javascript object>"
      ]
     },
     "metadata": {},
     "output_type": "display_data"
    }
   ],
   "source": [
    "brand_counts = df[\"brand\"].value_counts()\n",
    "brand_counts.head(15)"
   ]
  },
  {
   "cell_type": "code",
   "execution_count": 11,
   "metadata": {
    "ExecuteTime": {
     "end_time": "2021-08-23T00:31:32.767003Z",
     "start_time": "2021-08-23T00:31:32.430348Z"
    }
   },
   "outputs": [
    {
     "data": {
      "text/plain": [
       "unavailable          3\n",
       "no                   5\n",
       "no brand            15\n",
       "null                33\n",
       "unbranded          162\n",
       "anonymous          186\n",
       "not available      230\n",
       "na                 270\n",
       "learn more         305\n",
       "other              355\n",
       "n/a                831\n",
       "none               969\n",
       "unknown          18196\n",
       "generic          19520\n",
       "Name: brand, dtype: int64"
      ]
     },
     "execution_count": 11,
     "metadata": {},
     "output_type": "execute_result"
    },
    {
     "data": {
      "application/javascript": [
       "\n",
       "            setTimeout(function() {\n",
       "                var nbb_cell_id = 11;\n",
       "                var nbb_unformatted_code = \"null_brands = [\\n    \\\"generic\\\",\\n    \\\"n/a\\\",\\n    \\\"na\\\",\\n    \\\"no\\\",\\n    \\\"no brand\\\",\\n    \\\"none\\\",\\n    \\\"not available\\\",\\n    \\\"null\\\",\\n    \\\"unavailable\\\",\\n    \\\"unbranded\\\",\\n    \\\"unknown\\\",\\n    \\\"learn more\\\",\\n    \\\"other\\\",\\n    \\\"anonymous\\\",\\n]\\n\\nbrand_counts.loc[null_brands].sort_values()\";\n",
       "                var nbb_formatted_code = \"null_brands = [\\n    \\\"generic\\\",\\n    \\\"n/a\\\",\\n    \\\"na\\\",\\n    \\\"no\\\",\\n    \\\"no brand\\\",\\n    \\\"none\\\",\\n    \\\"not available\\\",\\n    \\\"null\\\",\\n    \\\"unavailable\\\",\\n    \\\"unbranded\\\",\\n    \\\"unknown\\\",\\n    \\\"learn more\\\",\\n    \\\"other\\\",\\n    \\\"anonymous\\\",\\n]\\n\\nbrand_counts.loc[null_brands].sort_values()\";\n",
       "                var nbb_cells = Jupyter.notebook.get_cells();\n",
       "                for (var i = 0; i < nbb_cells.length; ++i) {\n",
       "                    if (nbb_cells[i].input_prompt_number == nbb_cell_id) {\n",
       "                        if (nbb_cells[i].get_text() == nbb_unformatted_code) {\n",
       "                             nbb_cells[i].set_text(nbb_formatted_code);\n",
       "                        }\n",
       "                        break;\n",
       "                    }\n",
       "                }\n",
       "            }, 500);\n",
       "            "
      ],
      "text/plain": [
       "<IPython.core.display.Javascript object>"
      ]
     },
     "metadata": {},
     "output_type": "display_data"
    }
   ],
   "source": [
    "null_brands = [\n",
    "    \"generic\",\n",
    "    \"n/a\",\n",
    "    \"na\",\n",
    "    \"no\",\n",
    "    \"no brand\",\n",
    "    \"none\",\n",
    "    \"not available\",\n",
    "    \"null\",\n",
    "    \"unavailable\",\n",
    "    \"unbranded\",\n",
    "    \"unknown\",\n",
    "    \"learn more\",\n",
    "    \"other\",\n",
    "    \"anonymous\",\n",
    "]\n",
    "\n",
    "brand_counts.loc[null_brands].sort_values()"
   ]
  },
  {
   "cell_type": "code",
   "execution_count": 12,
   "metadata": {
    "ExecuteTime": {
     "end_time": "2021-08-23T00:31:33.189877Z",
     "start_time": "2021-08-23T00:31:32.768002Z"
    }
   },
   "outputs": [
    {
     "data": {
      "text/html": [
       "<div>\n",
       "<style scoped>\n",
       "    .dataframe tbody tr th:only-of-type {\n",
       "        vertical-align: middle;\n",
       "    }\n",
       "\n",
       "    .dataframe tbody tr th {\n",
       "        vertical-align: top;\n",
       "    }\n",
       "\n",
       "    .dataframe thead th {\n",
       "        text-align: right;\n",
       "    }\n",
       "</style>\n",
       "<table border=\"1\" class=\"dataframe\">\n",
       "  <thead>\n",
       "    <tr style=\"text-align: right;\">\n",
       "      <th></th>\n",
       "      <th>description</th>\n",
       "      <th>title</th>\n",
       "      <th>brand</th>\n",
       "      <th>price</th>\n",
       "      <th>main_cat</th>\n",
       "    </tr>\n",
       "    <tr>\n",
       "      <th>asin</th>\n",
       "      <th></th>\n",
       "      <th></th>\n",
       "      <th></th>\n",
       "      <th></th>\n",
       "      <th></th>\n",
       "    </tr>\n",
       "  </thead>\n",
       "  <tbody>\n",
       "    <tr>\n",
       "      <th>B007IS408A</th>\n",
       "      <td>made of high-quality canvas, very light and du...</td>\n",
       "      <td>beyond border korean fashion men waist bag fan...</td>\n",
       "      <td>generic</td>\n",
       "      <td>NaN</td>\n",
       "      <td>all beauty</td>\n",
       "    </tr>\n",
       "    <tr>\n",
       "      <th>B00AYS2TMA</th>\n",
       "      <td>size: c package include: 1x silicone bra ( sel...</td>\n",
       "      <td>invisible self-adhesive strapless backless sil...</td>\n",
       "      <td>generic</td>\n",
       "      <td>NaN</td>\n",
       "      <td>all beauty</td>\n",
       "    </tr>\n",
       "    <tr>\n",
       "      <th>B00AYS2T2A</th>\n",
       "      <td>size: a package include: 1x silicone bra ( sel...</td>\n",
       "      <td>leegoal self adhesive nubra strapless sheer si...</td>\n",
       "      <td>generic</td>\n",
       "      <td>8.87</td>\n",
       "      <td>all beauty</td>\n",
       "    </tr>\n",
       "    <tr>\n",
       "      <th>B00GLJDNN0</th>\n",
       "      <td>description it is a light and soft underwear,t...</td>\n",
       "      <td>generic women girls sexy lingeries sleepwear l...</td>\n",
       "      <td>generic</td>\n",
       "      <td>NaN</td>\n",
       "      <td>all beauty</td>\n",
       "    </tr>\n",
       "    <tr>\n",
       "      <th>B00HNKJUOC</th>\n",
       "      <td>description: occasion: wedding, engagements,pr...</td>\n",
       "      <td>wedding bridal prom crystal rhinestone butterf...</td>\n",
       "      <td>generic</td>\n",
       "      <td>3.89</td>\n",
       "      <td>all beauty</td>\n",
       "    </tr>\n",
       "    <tr>\n",
       "      <th>...</th>\n",
       "      <td>...</td>\n",
       "      <td>...</td>\n",
       "      <td>...</td>\n",
       "      <td>...</td>\n",
       "      <td>...</td>\n",
       "    </tr>\n",
       "    <tr>\n",
       "      <th>B00W4PRT3U</th>\n",
       "      <td>descriptions: cute cat paw design , enhance th...</td>\n",
       "      <td>generic cat paw analog joystick thumbstick gri...</td>\n",
       "      <td>generic</td>\n",
       "      <td>NaN</td>\n",
       "      <td>video games</td>\n",
       "    </tr>\n",
       "    <tr>\n",
       "      <th>B00WJGWIUS</th>\n",
       "      <td>features: easy to install and dismantle, effec...</td>\n",
       "      <td>generic full housing shell case button kit rep...</td>\n",
       "      <td>generic</td>\n",
       "      <td>NaN</td>\n",
       "      <td>video games</td>\n",
       "    </tr>\n",
       "    <tr>\n",
       "      <th>B010YVWESK</th>\n",
       "      <td>new hd tv component composite audio video av c...</td>\n",
       "      <td>paladia new hd tv component composite audio vi...</td>\n",
       "      <td>generic</td>\n",
       "      <td>NaN</td>\n",
       "      <td>video games</td>\n",
       "    </tr>\n",
       "    <tr>\n",
       "      <th>B017214MWQ</th>\n",
       "      <td>this brand new replacement generic rechargeabl...</td>\n",
       "      <td>game boy advance sp replacement rechargeable b...</td>\n",
       "      <td>generic</td>\n",
       "      <td>19.95</td>\n",
       "      <td>video games</td>\n",
       "    </tr>\n",
       "    <tr>\n",
       "      <th>B01A8HESUC</th>\n",
       "      <td>as a wii-specific game designed to get gamers ...</td>\n",
       "      <td>fish eyes double person dance mat for wii game...</td>\n",
       "      <td>generic</td>\n",
       "      <td>NaN</td>\n",
       "      <td>video games</td>\n",
       "    </tr>\n",
       "  </tbody>\n",
       "</table>\n",
       "<p>19520 rows × 5 columns</p>\n",
       "</div>"
      ],
      "text/plain": [
       "                                                  description  \\\n",
       "asin                                                            \n",
       "B007IS408A  made of high-quality canvas, very light and du...   \n",
       "B00AYS2TMA  size: c package include: 1x silicone bra ( sel...   \n",
       "B00AYS2T2A  size: a package include: 1x silicone bra ( sel...   \n",
       "B00GLJDNN0  description it is a light and soft underwear,t...   \n",
       "B00HNKJUOC  description: occasion: wedding, engagements,pr...   \n",
       "...                                                       ...   \n",
       "B00W4PRT3U  descriptions: cute cat paw design , enhance th...   \n",
       "B00WJGWIUS  features: easy to install and dismantle, effec...   \n",
       "B010YVWESK  new hd tv component composite audio video av c...   \n",
       "B017214MWQ  this brand new replacement generic rechargeabl...   \n",
       "B01A8HESUC  as a wii-specific game designed to get gamers ...   \n",
       "\n",
       "                                                        title    brand  price  \\\n",
       "asin                                                                            \n",
       "B007IS408A  beyond border korean fashion men waist bag fan...  generic    NaN   \n",
       "B00AYS2TMA  invisible self-adhesive strapless backless sil...  generic    NaN   \n",
       "B00AYS2T2A  leegoal self adhesive nubra strapless sheer si...  generic   8.87   \n",
       "B00GLJDNN0  generic women girls sexy lingeries sleepwear l...  generic    NaN   \n",
       "B00HNKJUOC  wedding bridal prom crystal rhinestone butterf...  generic   3.89   \n",
       "...                                                       ...      ...    ...   \n",
       "B00W4PRT3U  generic cat paw analog joystick thumbstick gri...  generic    NaN   \n",
       "B00WJGWIUS  generic full housing shell case button kit rep...  generic    NaN   \n",
       "B010YVWESK  paladia new hd tv component composite audio vi...  generic    NaN   \n",
       "B017214MWQ  game boy advance sp replacement rechargeable b...  generic  19.95   \n",
       "B01A8HESUC  fish eyes double person dance mat for wii game...  generic    NaN   \n",
       "\n",
       "               main_cat  \n",
       "asin                     \n",
       "B007IS408A   all beauty  \n",
       "B00AYS2TMA   all beauty  \n",
       "B00AYS2T2A   all beauty  \n",
       "B00GLJDNN0   all beauty  \n",
       "B00HNKJUOC   all beauty  \n",
       "...                 ...  \n",
       "B00W4PRT3U  video games  \n",
       "B00WJGWIUS  video games  \n",
       "B010YVWESK  video games  \n",
       "B017214MWQ  video games  \n",
       "B01A8HESUC  video games  \n",
       "\n",
       "[19520 rows x 5 columns]"
      ]
     },
     "execution_count": 12,
     "metadata": {},
     "output_type": "execute_result"
    },
    {
     "data": {
      "application/javascript": [
       "\n",
       "            setTimeout(function() {\n",
       "                var nbb_cell_id = 12;\n",
       "                var nbb_unformatted_code = \"df.loc[df.brand == \\\"generic\\\"]\";\n",
       "                var nbb_formatted_code = \"df.loc[df.brand == \\\"generic\\\"]\";\n",
       "                var nbb_cells = Jupyter.notebook.get_cells();\n",
       "                for (var i = 0; i < nbb_cells.length; ++i) {\n",
       "                    if (nbb_cells[i].input_prompt_number == nbb_cell_id) {\n",
       "                        if (nbb_cells[i].get_text() == nbb_unformatted_code) {\n",
       "                             nbb_cells[i].set_text(nbb_formatted_code);\n",
       "                        }\n",
       "                        break;\n",
       "                    }\n",
       "                }\n",
       "            }, 500);\n",
       "            "
      ],
      "text/plain": [
       "<IPython.core.display.Javascript object>"
      ]
     },
     "metadata": {},
     "output_type": "display_data"
    }
   ],
   "source": [
    "df.loc[df.brand == \"generic\"]"
   ]
  },
  {
   "cell_type": "code",
   "execution_count": 13,
   "metadata": {
    "ExecuteTime": {
     "end_time": "2021-08-23T00:31:34.678528Z",
     "start_time": "2021-08-23T00:31:33.190878Z"
    }
   },
   "outputs": [
    {
     "data": {
      "text/plain": [
       "description          0\n",
       "title                0\n",
       "brand           327743\n",
       "price          2891358\n",
       "main_cat             0\n",
       "dtype: int64"
      ]
     },
     "execution_count": 13,
     "metadata": {},
     "output_type": "execute_result"
    },
    {
     "data": {
      "application/javascript": [
       "\n",
       "            setTimeout(function() {\n",
       "                var nbb_cell_id = 13;\n",
       "                var nbb_unformatted_code = \"if \\\"generic\\\" in null_brands:\\n    null_brands.remove(\\\"generic\\\")\\ndf.loc[df.brand.isin(null_brands), \\\"brand\\\"] = np.nan\\ndf.isna().sum()\";\n",
       "                var nbb_formatted_code = \"if \\\"generic\\\" in null_brands:\\n    null_brands.remove(\\\"generic\\\")\\ndf.loc[df.brand.isin(null_brands), \\\"brand\\\"] = np.nan\\ndf.isna().sum()\";\n",
       "                var nbb_cells = Jupyter.notebook.get_cells();\n",
       "                for (var i = 0; i < nbb_cells.length; ++i) {\n",
       "                    if (nbb_cells[i].input_prompt_number == nbb_cell_id) {\n",
       "                        if (nbb_cells[i].get_text() == nbb_unformatted_code) {\n",
       "                             nbb_cells[i].set_text(nbb_formatted_code);\n",
       "                        }\n",
       "                        break;\n",
       "                    }\n",
       "                }\n",
       "            }, 500);\n",
       "            "
      ],
      "text/plain": [
       "<IPython.core.display.Javascript object>"
      ]
     },
     "metadata": {},
     "output_type": "display_data"
    }
   ],
   "source": [
    "if \"generic\" in null_brands:\n",
    "    null_brands.remove(\"generic\")\n",
    "df.loc[df.brand.isin(null_brands), \"brand\"] = np.nan\n",
    "df.isna().sum()"
   ]
  },
  {
   "cell_type": "code",
   "execution_count": 14,
   "metadata": {
    "ExecuteTime": {
     "end_time": "2021-08-23T00:31:41.925878Z",
     "start_time": "2021-08-23T00:31:34.679497Z"
    }
   },
   "outputs": [
    {
     "data": {
      "text/html": [
       "<div>\n",
       "<style scoped>\n",
       "    .dataframe tbody tr th:only-of-type {\n",
       "        vertical-align: middle;\n",
       "    }\n",
       "\n",
       "    .dataframe tbody tr th {\n",
       "        vertical-align: top;\n",
       "    }\n",
       "\n",
       "    .dataframe thead th {\n",
       "        text-align: right;\n",
       "    }\n",
       "</style>\n",
       "<table border=\"1\" class=\"dataframe\">\n",
       "  <thead>\n",
       "    <tr style=\"text-align: right;\">\n",
       "      <th></th>\n",
       "      <th>brand</th>\n",
       "    </tr>\n",
       "    <tr>\n",
       "      <th>asin</th>\n",
       "      <th></th>\n",
       "    </tr>\n",
       "  </thead>\n",
       "  <tbody>\n",
       "    <tr>\n",
       "      <th>B00HN356DI</th>\n",
       "      <td>by unbra</td>\n",
       "    </tr>\n",
       "    <tr>\n",
       "      <th>B00KUSQ9NY</th>\n",
       "      <td>by alegory</td>\n",
       "    </tr>\n",
       "    <tr>\n",
       "      <th>B00K0SXUBS</th>\n",
       "      <td>by w5swl</td>\n",
       "    </tr>\n",
       "    <tr>\n",
       "      <th>B00XO7BFEQ</th>\n",
       "      <td>by nvidia</td>\n",
       "    </tr>\n",
       "    <tr>\n",
       "      <th>B001F64EQ4</th>\n",
       "      <td>by the cup</td>\n",
       "    </tr>\n",
       "    <tr>\n",
       "      <th>...</th>\n",
       "      <td>...</td>\n",
       "    </tr>\n",
       "    <tr>\n",
       "      <th>B000AXRIU2</th>\n",
       "      <td>by dreamcatcher games</td>\n",
       "    </tr>\n",
       "    <tr>\n",
       "      <th>B000B7PHLY</th>\n",
       "      <td>by value software</td>\n",
       "    </tr>\n",
       "    <tr>\n",
       "      <th>B000B7TFEY</th>\n",
       "      <td>by value software</td>\n",
       "    </tr>\n",
       "    <tr>\n",
       "      <th>B000BC3AHC</th>\n",
       "      <td>by atari</td>\n",
       "    </tr>\n",
       "    <tr>\n",
       "      <th>B000BCKM6Y</th>\n",
       "      <td>by global software publishing</td>\n",
       "    </tr>\n",
       "  </tbody>\n",
       "</table>\n",
       "<p>1149 rows × 1 columns</p>\n",
       "</div>"
      ],
      "text/plain": [
       "                                    brand\n",
       "asin                                     \n",
       "B00HN356DI                       by unbra\n",
       "B00KUSQ9NY                     by alegory\n",
       "B00K0SXUBS                       by w5swl\n",
       "B00XO7BFEQ                      by nvidia\n",
       "B001F64EQ4                     by the cup\n",
       "...                                   ...\n",
       "B000AXRIU2          by dreamcatcher games\n",
       "B000B7PHLY              by value software\n",
       "B000B7TFEY              by value software\n",
       "B000BC3AHC                       by atari\n",
       "B000BCKM6Y  by global software publishing\n",
       "\n",
       "[1149 rows x 1 columns]"
      ]
     },
     "execution_count": 14,
     "metadata": {},
     "output_type": "execute_result"
    },
    {
     "data": {
      "application/javascript": [
       "\n",
       "            setTimeout(function() {\n",
       "                var nbb_cell_id = 14;\n",
       "                var nbb_unformatted_code = \"by_brands = df.brand.str.startswith(\\\"by \\\").dropna()\\ndf.dropna().loc[by_brands, [\\\"brand\\\"]]\";\n",
       "                var nbb_formatted_code = \"by_brands = df.brand.str.startswith(\\\"by \\\").dropna()\\ndf.dropna().loc[by_brands, [\\\"brand\\\"]]\";\n",
       "                var nbb_cells = Jupyter.notebook.get_cells();\n",
       "                for (var i = 0; i < nbb_cells.length; ++i) {\n",
       "                    if (nbb_cells[i].input_prompt_number == nbb_cell_id) {\n",
       "                        if (nbb_cells[i].get_text() == nbb_unformatted_code) {\n",
       "                             nbb_cells[i].set_text(nbb_formatted_code);\n",
       "                        }\n",
       "                        break;\n",
       "                    }\n",
       "                }\n",
       "            }, 500);\n",
       "            "
      ],
      "text/plain": [
       "<IPython.core.display.Javascript object>"
      ]
     },
     "metadata": {},
     "output_type": "display_data"
    }
   ],
   "source": [
    "by_brands = df.brand.str.startswith(\"by \").dropna()\n",
    "df.dropna().loc[by_brands, [\"brand\"]]"
   ]
  },
  {
   "cell_type": "code",
   "execution_count": 15,
   "metadata": {
    "ExecuteTime": {
     "end_time": "2021-08-23T00:31:48.005349Z",
     "start_time": "2021-08-23T00:31:41.926879Z"
    },
    "scrolled": true
   },
   "outputs": [
    {
     "data": {
      "text/html": [
       "<div>\n",
       "<style scoped>\n",
       "    .dataframe tbody tr th:only-of-type {\n",
       "        vertical-align: middle;\n",
       "    }\n",
       "\n",
       "    .dataframe tbody tr th {\n",
       "        vertical-align: top;\n",
       "    }\n",
       "\n",
       "    .dataframe thead th {\n",
       "        text-align: right;\n",
       "    }\n",
       "</style>\n",
       "<table border=\"1\" class=\"dataframe\">\n",
       "  <thead>\n",
       "    <tr style=\"text-align: right;\">\n",
       "      <th></th>\n",
       "      <th>brand</th>\n",
       "    </tr>\n",
       "    <tr>\n",
       "      <th>asin</th>\n",
       "      <th></th>\n",
       "    </tr>\n",
       "  </thead>\n",
       "  <tbody>\n",
       "    <tr>\n",
       "      <th>B00HN356DI</th>\n",
       "      <td>unbra</td>\n",
       "    </tr>\n",
       "    <tr>\n",
       "      <th>B00KUSQ9NY</th>\n",
       "      <td>alegory</td>\n",
       "    </tr>\n",
       "    <tr>\n",
       "      <th>B00K0SXUBS</th>\n",
       "      <td>w5swl</td>\n",
       "    </tr>\n",
       "    <tr>\n",
       "      <th>B00XO7BFEQ</th>\n",
       "      <td>nvidia</td>\n",
       "    </tr>\n",
       "    <tr>\n",
       "      <th>B001F64EQ4</th>\n",
       "      <td>the cup</td>\n",
       "    </tr>\n",
       "    <tr>\n",
       "      <th>...</th>\n",
       "      <td>...</td>\n",
       "    </tr>\n",
       "    <tr>\n",
       "      <th>B000AXRIU2</th>\n",
       "      <td>dreamcatcher games</td>\n",
       "    </tr>\n",
       "    <tr>\n",
       "      <th>B000B7PHLY</th>\n",
       "      <td>value software</td>\n",
       "    </tr>\n",
       "    <tr>\n",
       "      <th>B000B7TFEY</th>\n",
       "      <td>value software</td>\n",
       "    </tr>\n",
       "    <tr>\n",
       "      <th>B000BC3AHC</th>\n",
       "      <td>atari</td>\n",
       "    </tr>\n",
       "    <tr>\n",
       "      <th>B000BCKM6Y</th>\n",
       "      <td>global software publishing</td>\n",
       "    </tr>\n",
       "  </tbody>\n",
       "</table>\n",
       "<p>1149 rows × 1 columns</p>\n",
       "</div>"
      ],
      "text/plain": [
       "                                 brand\n",
       "asin                                  \n",
       "B00HN356DI                       unbra\n",
       "B00KUSQ9NY                     alegory\n",
       "B00K0SXUBS                       w5swl\n",
       "B00XO7BFEQ                      nvidia\n",
       "B001F64EQ4                     the cup\n",
       "...                                ...\n",
       "B000AXRIU2          dreamcatcher games\n",
       "B000B7PHLY              value software\n",
       "B000B7TFEY              value software\n",
       "B000BC3AHC                       atari\n",
       "B000BCKM6Y  global software publishing\n",
       "\n",
       "[1149 rows x 1 columns]"
      ]
     },
     "execution_count": 15,
     "metadata": {},
     "output_type": "execute_result"
    },
    {
     "data": {
      "application/javascript": [
       "\n",
       "            setTimeout(function() {\n",
       "                var nbb_cell_id = 15;\n",
       "                var nbb_unformatted_code = \"df[\\\"brand\\\"] = df.loc[:, \\\"brand\\\"].str.replace(\\\"^(by\\\\s+)\\\", \\\"\\\", regex=True)\\ndf.dropna().loc[by_brands, [\\\"brand\\\"]]\";\n",
       "                var nbb_formatted_code = \"df[\\\"brand\\\"] = df.loc[:, \\\"brand\\\"].str.replace(\\\"^(by\\\\s+)\\\", \\\"\\\", regex=True)\\ndf.dropna().loc[by_brands, [\\\"brand\\\"]]\";\n",
       "                var nbb_cells = Jupyter.notebook.get_cells();\n",
       "                for (var i = 0; i < nbb_cells.length; ++i) {\n",
       "                    if (nbb_cells[i].input_prompt_number == nbb_cell_id) {\n",
       "                        if (nbb_cells[i].get_text() == nbb_unformatted_code) {\n",
       "                             nbb_cells[i].set_text(nbb_formatted_code);\n",
       "                        }\n",
       "                        break;\n",
       "                    }\n",
       "                }\n",
       "            }, 500);\n",
       "            "
      ],
      "text/plain": [
       "<IPython.core.display.Javascript object>"
      ]
     },
     "metadata": {},
     "output_type": "display_data"
    }
   ],
   "source": [
    "df[\"brand\"] = df.loc[:, \"brand\"].str.replace(\"^(by\\s+)\", \"\", regex=True)\n",
    "df.dropna().loc[by_brands, [\"brand\"]]"
   ]
  },
  {
   "cell_type": "code",
   "execution_count": 16,
   "metadata": {
    "ExecuteTime": {
     "end_time": "2021-08-23T00:31:55.495522Z",
     "start_time": "2021-08-23T00:31:48.006323Z"
    }
   },
   "outputs": [
    {
     "data": {
      "text/html": [
       "<div>\n",
       "<style scoped>\n",
       "    .dataframe tbody tr th:only-of-type {\n",
       "        vertical-align: middle;\n",
       "    }\n",
       "\n",
       "    .dataframe tbody tr th {\n",
       "        vertical-align: top;\n",
       "    }\n",
       "\n",
       "    .dataframe thead th {\n",
       "        text-align: right;\n",
       "    }\n",
       "</style>\n",
       "<table border=\"1\" class=\"dataframe\">\n",
       "  <thead>\n",
       "    <tr style=\"text-align: right;\">\n",
       "      <th></th>\n",
       "      <th>description</th>\n",
       "      <th>title</th>\n",
       "      <th>brand</th>\n",
       "      <th>price</th>\n",
       "      <th>main_cat</th>\n",
       "    </tr>\n",
       "    <tr>\n",
       "      <th>asin</th>\n",
       "      <th></th>\n",
       "      <th></th>\n",
       "      <th></th>\n",
       "      <th></th>\n",
       "      <th></th>\n",
       "    </tr>\n",
       "  </thead>\n",
       "  <tbody>\n",
       "    <tr>\n",
       "      <th>0001050230</th>\n",
       "      <td>william shakespeare is widely regarded as the ...</td>\n",
       "      <td>love's labour's lost: performed by derek jacob...</td>\n",
       "      <td>william shakespeare</td>\n",
       "      <td>20.93</td>\n",
       "      <td>books</td>\n",
       "    </tr>\n",
       "    <tr>\n",
       "      <th>000105001X</th>\n",
       "      <td>jo clifford, a successful journalist, is all s...</td>\n",
       "      <td>lady of hay</td>\n",
       "      <td>barbara erskine</td>\n",
       "      <td>NaN</td>\n",
       "      <td>books</td>\n",
       "    </tr>\n",
       "    <tr>\n",
       "      <th>0001047868</th>\n",
       "      <td>grade 6 up-kidnapped by robert louis stevenson...</td>\n",
       "      <td>kidnapped (harpercollinsaudiobooks)</td>\n",
       "      <td>robert louis stevenson</td>\n",
       "      <td>NaN</td>\n",
       "      <td>books</td>\n",
       "    </tr>\n",
       "    <tr>\n",
       "      <th>000100039X</th>\n",
       "      <td>kahlil gibran was among the most important ara...</td>\n",
       "      <td>the prophet</td>\n",
       "      <td>kahlil gibran</td>\n",
       "      <td>NaN</td>\n",
       "      <td>books</td>\n",
       "    </tr>\n",
       "    <tr>\n",
       "      <th>0001049143</th>\n",
       "      <td>grade 7 up-scottish actor john cairney gives v...</td>\n",
       "      <td>the poems &amp; songs of robert burns (harpercolli...</td>\n",
       "      <td>robert burns</td>\n",
       "      <td>NaN</td>\n",
       "      <td>books</td>\n",
       "    </tr>\n",
       "    <tr>\n",
       "      <th>...</th>\n",
       "      <td>...</td>\n",
       "      <td>...</td>\n",
       "      <td>...</td>\n",
       "      <td>...</td>\n",
       "      <td>...</td>\n",
       "    </tr>\n",
       "    <tr>\n",
       "      <th>B004APDZBM</th>\n",
       "      <td>this 3 volume series of wonderfully illustrate...</td>\n",
       "      <td>the art of making leather cases - 3 volume set</td>\n",
       "      <td>al stohlman</td>\n",
       "      <td>NaN</td>\n",
       "      <td>books</td>\n",
       "    </tr>\n",
       "    <tr>\n",
       "      <th>B00EEDQ30U</th>\n",
       "      <td>you can fit these potholder patterns into the ...</td>\n",
       "      <td>vintage floral potholders crochet patterns</td>\n",
       "      <td>maggie weldon</td>\n",
       "      <td>NaN</td>\n",
       "      <td>books</td>\n",
       "    </tr>\n",
       "    <tr>\n",
       "      <th>0310948827</th>\n",
       "      <td>if you want to prepare for (or are already in)...</td>\n",
       "      <td>the god of all comfort bible study guide: find...</td>\n",
       "      <td>dee brestin</td>\n",
       "      <td>31.25</td>\n",
       "      <td>books</td>\n",
       "    </tr>\n",
       "    <tr>\n",
       "      <th>1596716495</th>\n",
       "      <td>cris ippolite is the founder and president of ...</td>\n",
       "      <td>filemaker pro 11 essential training</td>\n",
       "      <td>cris ippolite</td>\n",
       "      <td>NaN</td>\n",
       "      <td>books</td>\n",
       "    </tr>\n",
       "    <tr>\n",
       "      <th>1598030647</th>\n",
       "      <td>the writings that make up the new testament st...</td>\n",
       "      <td>after the new testament: the writings of the a...</td>\n",
       "      <td>bart d. ehrman</td>\n",
       "      <td>27.95</td>\n",
       "      <td>books</td>\n",
       "    </tr>\n",
       "  </tbody>\n",
       "</table>\n",
       "<p>700860 rows × 5 columns</p>\n",
       "</div>"
      ],
      "text/plain": [
       "                                                  description  \\\n",
       "asin                                                            \n",
       "0001050230  william shakespeare is widely regarded as the ...   \n",
       "000105001X  jo clifford, a successful journalist, is all s...   \n",
       "0001047868  grade 6 up-kidnapped by robert louis stevenson...   \n",
       "000100039X  kahlil gibran was among the most important ara...   \n",
       "0001049143  grade 7 up-scottish actor john cairney gives v...   \n",
       "...                                                       ...   \n",
       "B004APDZBM  this 3 volume series of wonderfully illustrate...   \n",
       "B00EEDQ30U  you can fit these potholder patterns into the ...   \n",
       "0310948827  if you want to prepare for (or are already in)...   \n",
       "1596716495  cris ippolite is the founder and president of ...   \n",
       "1598030647  the writings that make up the new testament st...   \n",
       "\n",
       "                                                        title  \\\n",
       "asin                                                            \n",
       "0001050230  love's labour's lost: performed by derek jacob...   \n",
       "000105001X                                        lady of hay   \n",
       "0001047868                kidnapped (harpercollinsaudiobooks)   \n",
       "000100039X                                        the prophet   \n",
       "0001049143  the poems & songs of robert burns (harpercolli...   \n",
       "...                                                       ...   \n",
       "B004APDZBM     the art of making leather cases - 3 volume set   \n",
       "B00EEDQ30U         vintage floral potholders crochet patterns   \n",
       "0310948827  the god of all comfort bible study guide: find...   \n",
       "1596716495                filemaker pro 11 essential training   \n",
       "1598030647  after the new testament: the writings of the a...   \n",
       "\n",
       "                             brand  price main_cat  \n",
       "asin                                                \n",
       "0001050230     william shakespeare  20.93    books  \n",
       "000105001X         barbara erskine    NaN    books  \n",
       "0001047868  robert louis stevenson    NaN    books  \n",
       "000100039X           kahlil gibran    NaN    books  \n",
       "0001049143            robert burns    NaN    books  \n",
       "...                            ...    ...      ...  \n",
       "B004APDZBM             al stohlman    NaN    books  \n",
       "B00EEDQ30U           maggie weldon    NaN    books  \n",
       "0310948827             dee brestin  31.25    books  \n",
       "1596716495           cris ippolite    NaN    books  \n",
       "1598030647          bart d. ehrman  27.95    books  \n",
       "\n",
       "[700860 rows x 5 columns]"
      ]
     },
     "execution_count": 16,
     "metadata": {},
     "output_type": "execute_result"
    },
    {
     "data": {
      "application/javascript": [
       "\n",
       "            setTimeout(function() {\n",
       "                var nbb_cell_id = 16;\n",
       "                var nbb_unformatted_code = \"amazon_pages = df.brand.str.extract(r\\\"visit amazon's (.+) page\\\")\\namazon_pages = amazon_pages.dropna().squeeze()\\ndf.loc[amazon_pages.index, \\\"brand\\\"] = amazon_pages\\ndf.loc[amazon_pages.index]\";\n",
       "                var nbb_formatted_code = \"amazon_pages = df.brand.str.extract(r\\\"visit amazon's (.+) page\\\")\\namazon_pages = amazon_pages.dropna().squeeze()\\ndf.loc[amazon_pages.index, \\\"brand\\\"] = amazon_pages\\ndf.loc[amazon_pages.index]\";\n",
       "                var nbb_cells = Jupyter.notebook.get_cells();\n",
       "                for (var i = 0; i < nbb_cells.length; ++i) {\n",
       "                    if (nbb_cells[i].input_prompt_number == nbb_cell_id) {\n",
       "                        if (nbb_cells[i].get_text() == nbb_unformatted_code) {\n",
       "                             nbb_cells[i].set_text(nbb_formatted_code);\n",
       "                        }\n",
       "                        break;\n",
       "                    }\n",
       "                }\n",
       "            }, 500);\n",
       "            "
      ],
      "text/plain": [
       "<IPython.core.display.Javascript object>"
      ]
     },
     "metadata": {},
     "output_type": "display_data"
    }
   ],
   "source": [
    "amazon_pages = df.brand.str.extract(r\"visit amazon's (.+) page\")\n",
    "amazon_pages = amazon_pages.dropna().squeeze()\n",
    "df.loc[amazon_pages.index, \"brand\"] = amazon_pages\n",
    "df.loc[amazon_pages.index]"
   ]
  },
  {
   "cell_type": "code",
   "execution_count": 17,
   "metadata": {
    "ExecuteTime": {
     "end_time": "2021-08-23T00:31:59.564034Z",
     "start_time": "2021-08-23T00:31:55.496493Z"
    }
   },
   "outputs": [
    {
     "data": {
      "text/html": [
       "<div>\n",
       "<style scoped>\n",
       "    .dataframe tbody tr th:only-of-type {\n",
       "        vertical-align: middle;\n",
       "    }\n",
       "\n",
       "    .dataframe tbody tr th {\n",
       "        vertical-align: top;\n",
       "    }\n",
       "\n",
       "    .dataframe thead th {\n",
       "        text-align: right;\n",
       "    }\n",
       "</style>\n",
       "<table border=\"1\" class=\"dataframe\">\n",
       "  <thead>\n",
       "    <tr style=\"text-align: right;\">\n",
       "      <th></th>\n",
       "      <th>brand</th>\n",
       "      <th>count</th>\n",
       "    </tr>\n",
       "  </thead>\n",
       "  <tbody>\n",
       "    <tr>\n",
       "      <th>0</th>\n",
       "      <td>^generic\\b</td>\n",
       "      <td>19634</td>\n",
       "    </tr>\n",
       "    <tr>\n",
       "      <th>1</th>\n",
       "      <td>^uxcell\\b</td>\n",
       "      <td>17699</td>\n",
       "    </tr>\n",
       "    <tr>\n",
       "      <th>2</th>\n",
       "      <td>^3drose\\b</td>\n",
       "      <td>13969</td>\n",
       "    </tr>\n",
       "    <tr>\n",
       "      <th>3</th>\n",
       "      <td>^disney\\b</td>\n",
       "      <td>10198</td>\n",
       "    </tr>\n",
       "    <tr>\n",
       "      <th>4</th>\n",
       "      <td>^sony\\b</td>\n",
       "      <td>7886</td>\n",
       "    </tr>\n",
       "    <tr>\n",
       "      <th>7</th>\n",
       "      <td>^adidas\\b</td>\n",
       "      <td>7097</td>\n",
       "    </tr>\n",
       "    <tr>\n",
       "      <th>9</th>\n",
       "      <td>^invicta\\b</td>\n",
       "      <td>6547</td>\n",
       "    </tr>\n",
       "    <tr>\n",
       "      <th>10</th>\n",
       "      <td>^samsung\\b</td>\n",
       "      <td>6371</td>\n",
       "    </tr>\n",
       "    <tr>\n",
       "      <th>12</th>\n",
       "      <td>^amscan\\b</td>\n",
       "      <td>5537</td>\n",
       "    </tr>\n",
       "    <tr>\n",
       "      <th>15</th>\n",
       "      <td>^nike\\b</td>\n",
       "      <td>5269</td>\n",
       "    </tr>\n",
       "  </tbody>\n",
       "</table>\n",
       "</div>"
      ],
      "text/plain": [
       "         brand  count\n",
       "0   ^generic\\b  19634\n",
       "1    ^uxcell\\b  17699\n",
       "2    ^3drose\\b  13969\n",
       "3    ^disney\\b  10198\n",
       "4      ^sony\\b   7886\n",
       "7    ^adidas\\b   7097\n",
       "9   ^invicta\\b   6547\n",
       "10  ^samsung\\b   6371\n",
       "12   ^amscan\\b   5537\n",
       "15     ^nike\\b   5269"
      ]
     },
     "execution_count": 17,
     "metadata": {},
     "output_type": "execute_result"
    },
    {
     "data": {
      "application/javascript": [
       "\n",
       "            setTimeout(function() {\n",
       "                var nbb_cell_id = 17;\n",
       "                var nbb_unformatted_code = \"regex = df.brand.value_counts().reset_index()\\nregex.columns = [\\\"brand\\\", \\\"count\\\"]\\nregex[\\\"brand\\\"] = lang.strip_non_word(regex.loc[:, \\\"brand\\\"])\\nregex = regex.loc[\\n    (~regex.brand.str.contains(\\\"\\\\s\\\", regex=True))\\n    & (regex.brand != \\\"various\\\")\\n    & (regex.brand.str.len() > 3)\\n]\\nregex[\\\"brand\\\"] = r\\\"^\\\" + regex.brand.map(re.escape) + r\\\"\\\\b\\\"\\nregex.head(10)\";\n",
       "                var nbb_formatted_code = \"regex = df.brand.value_counts().reset_index()\\nregex.columns = [\\\"brand\\\", \\\"count\\\"]\\nregex[\\\"brand\\\"] = lang.strip_non_word(regex.loc[:, \\\"brand\\\"])\\nregex = regex.loc[\\n    (~regex.brand.str.contains(\\\"\\\\s\\\", regex=True))\\n    & (regex.brand != \\\"various\\\")\\n    & (regex.brand.str.len() > 3)\\n]\\nregex[\\\"brand\\\"] = r\\\"^\\\" + regex.brand.map(re.escape) + r\\\"\\\\b\\\"\\nregex.head(10)\";\n",
       "                var nbb_cells = Jupyter.notebook.get_cells();\n",
       "                for (var i = 0; i < nbb_cells.length; ++i) {\n",
       "                    if (nbb_cells[i].input_prompt_number == nbb_cell_id) {\n",
       "                        if (nbb_cells[i].get_text() == nbb_unformatted_code) {\n",
       "                             nbb_cells[i].set_text(nbb_formatted_code);\n",
       "                        }\n",
       "                        break;\n",
       "                    }\n",
       "                }\n",
       "            }, 500);\n",
       "            "
      ],
      "text/plain": [
       "<IPython.core.display.Javascript object>"
      ]
     },
     "metadata": {},
     "output_type": "display_data"
    }
   ],
   "source": [
    "regex = df.brand.value_counts().reset_index()\n",
    "regex.columns = [\"brand\", \"count\"]\n",
    "regex[\"brand\"] = lang.strip_non_word(regex.loc[:, \"brand\"])\n",
    "regex = regex.loc[\n",
    "    (~regex.brand.str.contains(\"\\s\", regex=True))\n",
    "    & (regex.brand != \"various\")\n",
    "    & (regex.brand.str.len() > 3)\n",
    "]\n",
    "regex[\"brand\"] = r\"^\" + regex.brand.map(re.escape) + r\"\\b\"\n",
    "regex.head(10)"
   ]
  },
  {
   "cell_type": "code",
   "execution_count": 18,
   "metadata": {
    "ExecuteTime": {
     "end_time": "2021-08-23T00:31:59.666033Z",
     "start_time": "2021-08-23T00:31:59.565034Z"
    }
   },
   "outputs": [
    {
     "data": {
      "text/plain": [
       "0      ^generic\\b\n",
       "1       ^uxcell\\b\n",
       "2       ^3drose\\b\n",
       "3       ^disney\\b\n",
       "4         ^sony\\b\n",
       "7       ^adidas\\b\n",
       "9      ^invicta\\b\n",
       "10     ^samsung\\b\n",
       "12      ^amscan\\b\n",
       "15        ^nike\\b\n",
       "19    ^majestic\\b\n",
       "21        ^dell\\b\n",
       "23      ^mattel\\b\n",
       "24     ^beistle\\b\n",
       "25     ^pokemon\\b\n",
       "26        ^lego\\b\n",
       "27      ^hasbro\\b\n",
       "29      ^empire\\b\n",
       "33      ^darice\\b\n",
       "35      ^reebok\\b\n",
       "Name: brand, dtype: object"
      ]
     },
     "execution_count": 18,
     "metadata": {},
     "output_type": "execute_result"
    },
    {
     "data": {
      "application/javascript": [
       "\n",
       "            setTimeout(function() {\n",
       "                var nbb_cell_id = 18;\n",
       "                var nbb_unformatted_code = \"regex = regex.loc[:, \\\"brand\\\"].head(20)\\nregex\";\n",
       "                var nbb_formatted_code = \"regex = regex.loc[:, \\\"brand\\\"].head(20)\\nregex\";\n",
       "                var nbb_cells = Jupyter.notebook.get_cells();\n",
       "                for (var i = 0; i < nbb_cells.length; ++i) {\n",
       "                    if (nbb_cells[i].input_prompt_number == nbb_cell_id) {\n",
       "                        if (nbb_cells[i].get_text() == nbb_unformatted_code) {\n",
       "                             nbb_cells[i].set_text(nbb_formatted_code);\n",
       "                        }\n",
       "                        break;\n",
       "                    }\n",
       "                }\n",
       "            }, 500);\n",
       "            "
      ],
      "text/plain": [
       "<IPython.core.display.Javascript object>"
      ]
     },
     "metadata": {},
     "output_type": "display_data"
    }
   ],
   "source": [
    "regex = regex.loc[:, \"brand\"].head(20)\n",
    "regex"
   ]
  },
  {
   "cell_type": "code",
   "execution_count": 19,
   "metadata": {
    "ExecuteTime": {
     "end_time": "2021-08-23T00:32:11.119555Z",
     "start_time": "2021-08-23T00:31:59.667033Z"
    }
   },
   "outputs": [
    {
     "data": {
      "text/plain": [
       "asin\n",
       "024129505X      lego\n",
       "0736402012    disney\n",
       "0786832924    disney\n",
       "0786835850    disney\n",
       "1405288027      lego\n",
       "               ...  \n",
       "B01HJB1QEG    adidas\n",
       "B01HJCYJQM    adidas\n",
       "B01HJDV7HK    adidas\n",
       "B01HJDVCJI    adidas\n",
       "B01HJDW6ZC    adidas\n",
       "Name: locate_patterns, Length: 22953, dtype: object"
      ]
     },
     "execution_count": 19,
     "metadata": {},
     "output_type": "execute_result"
    },
    {
     "data": {
      "application/javascript": [
       "\n",
       "            setTimeout(function() {\n",
       "                var nbb_cell_id = 19;\n",
       "                var nbb_unformatted_code = \"missing_brand = df.loc[df.brand.isna()]\\nfillers = lang.locate_patterns(regex, missing_brand.title, exclusive=True)\\nfillers\";\n",
       "                var nbb_formatted_code = \"missing_brand = df.loc[df.brand.isna()]\\nfillers = lang.locate_patterns(regex, missing_brand.title, exclusive=True)\\nfillers\";\n",
       "                var nbb_cells = Jupyter.notebook.get_cells();\n",
       "                for (var i = 0; i < nbb_cells.length; ++i) {\n",
       "                    if (nbb_cells[i].input_prompt_number == nbb_cell_id) {\n",
       "                        if (nbb_cells[i].get_text() == nbb_unformatted_code) {\n",
       "                             nbb_cells[i].set_text(nbb_formatted_code);\n",
       "                        }\n",
       "                        break;\n",
       "                    }\n",
       "                }\n",
       "            }, 500);\n",
       "            "
      ],
      "text/plain": [
       "<IPython.core.display.Javascript object>"
      ]
     },
     "metadata": {},
     "output_type": "display_data"
    }
   ],
   "source": [
    "missing_brand = df.loc[df.brand.isna()]\n",
    "fillers = lang.locate_patterns(regex, missing_brand.title, exclusive=True)\n",
    "fillers"
   ]
  },
  {
   "cell_type": "code",
   "execution_count": 20,
   "metadata": {
    "ExecuteTime": {
     "end_time": "2021-08-23T00:32:11.478907Z",
     "start_time": "2021-08-23T00:32:11.119555Z"
    }
   },
   "outputs": [
    {
     "data": {
      "text/html": [
       "<div>\n",
       "<style scoped>\n",
       "    .dataframe tbody tr th:only-of-type {\n",
       "        vertical-align: middle;\n",
       "    }\n",
       "\n",
       "    .dataframe tbody tr th {\n",
       "        vertical-align: top;\n",
       "    }\n",
       "\n",
       "    .dataframe thead th {\n",
       "        text-align: right;\n",
       "    }\n",
       "</style>\n",
       "<table border=\"1\" class=\"dataframe\">\n",
       "  <thead>\n",
       "    <tr style=\"text-align: right;\">\n",
       "      <th></th>\n",
       "      <th>description</th>\n",
       "      <th>title</th>\n",
       "      <th>brand</th>\n",
       "      <th>price</th>\n",
       "      <th>main_cat</th>\n",
       "    </tr>\n",
       "    <tr>\n",
       "      <th>asin</th>\n",
       "      <th></th>\n",
       "      <th></th>\n",
       "      <th></th>\n",
       "      <th></th>\n",
       "      <th></th>\n",
       "    </tr>\n",
       "  </thead>\n",
       "  <tbody>\n",
       "    <tr>\n",
       "      <th>024129505X</th>\n",
       "      <td>a brand-new lego city adventure about thieves,...</td>\n",
       "      <td>lego city: bulldozer break-in</td>\n",
       "      <td>lego</td>\n",
       "      <td>8.55</td>\n",
       "      <td>books</td>\n",
       "    </tr>\n",
       "    <tr>\n",
       "      <th>0736402012</th>\n",
       "      <td>from disney winnie the poohs sweet dreams book...</td>\n",
       "      <td>disney's one, two, pooh's looking for you (swe...</td>\n",
       "      <td>disney</td>\n",
       "      <td>22.79</td>\n",
       "      <td>books</td>\n",
       "    </tr>\n",
       "    <tr>\n",
       "      <th>0786832924</th>\n",
       "      <td>magic is everywhere if you know where to look....</td>\n",
       "      <td>disney's add a little magic: words of inspiration</td>\n",
       "      <td>disney</td>\n",
       "      <td>18.88</td>\n",
       "      <td>books</td>\n",
       "    </tr>\n",
       "    <tr>\n",
       "      <th>0786835850</th>\n",
       "      <td>inside kim possible's very first badical boxed...</td>\n",
       "      <td>disney's kim possible: badical - books #1-4 bo...</td>\n",
       "      <td>disney</td>\n",
       "      <td>35.00</td>\n",
       "      <td>books</td>\n",
       "    </tr>\n",
       "    <tr>\n",
       "      <th>1405288027</th>\n",
       "      <td>what would you do if you were famous? what's y...</td>\n",
       "      <td>lego (r) ninjago: book of secrets</td>\n",
       "      <td>lego</td>\n",
       "      <td>14.30</td>\n",
       "      <td>books</td>\n",
       "    </tr>\n",
       "    <tr>\n",
       "      <th>...</th>\n",
       "      <td>...</td>\n",
       "      <td>...</td>\n",
       "      <td>...</td>\n",
       "      <td>...</td>\n",
       "      <td>...</td>\n",
       "    </tr>\n",
       "    <tr>\n",
       "      <th>B01HJB1QEG</th>\n",
       "      <td>in 1991 the equipment running shoe stepped ont...</td>\n",
       "      <td>adidas originals women's equipment support adv...</td>\n",
       "      <td>adidas</td>\n",
       "      <td>98.75</td>\n",
       "      <td>amazon fashion</td>\n",
       "    </tr>\n",
       "    <tr>\n",
       "      <th>B01HJCYJQM</th>\n",
       "      <td>these running-inspired low tops match clean de...</td>\n",
       "      <td>adidas originals men's x_plr sneakers, lightwe...</td>\n",
       "      <td>adidas</td>\n",
       "      <td>33.95</td>\n",
       "      <td>amazon fashion</td>\n",
       "    </tr>\n",
       "    <tr>\n",
       "      <th>B01HJDV7HK</th>\n",
       "      <td>an edgy take on adidas running-inspired herita...</td>\n",
       "      <td>adidas originals men's tubular shadow knit fas...</td>\n",
       "      <td>adidas</td>\n",
       "      <td>93.98</td>\n",
       "      <td>amazon fashion</td>\n",
       "    </tr>\n",
       "    <tr>\n",
       "      <th>B01HJDVCJI</th>\n",
       "      <td>an edgy take on adidas running-inspired herita...</td>\n",
       "      <td>adidas originals men's tubular shadow fashion ...</td>\n",
       "      <td>adidas</td>\n",
       "      <td>48.45</td>\n",
       "      <td>amazon fashion</td>\n",
       "    </tr>\n",
       "    <tr>\n",
       "      <th>B01HJDW6ZC</th>\n",
       "      <td>these men's tubular shoes honor running-inspir...</td>\n",
       "      <td>adidas originals men's tubular shadow running ...</td>\n",
       "      <td>adidas</td>\n",
       "      <td>32.85</td>\n",
       "      <td>amazon fashion</td>\n",
       "    </tr>\n",
       "  </tbody>\n",
       "</table>\n",
       "<p>22953 rows × 5 columns</p>\n",
       "</div>"
      ],
      "text/plain": [
       "                                                  description  \\\n",
       "asin                                                            \n",
       "024129505X  a brand-new lego city adventure about thieves,...   \n",
       "0736402012  from disney winnie the poohs sweet dreams book...   \n",
       "0786832924  magic is everywhere if you know where to look....   \n",
       "0786835850  inside kim possible's very first badical boxed...   \n",
       "1405288027  what would you do if you were famous? what's y...   \n",
       "...                                                       ...   \n",
       "B01HJB1QEG  in 1991 the equipment running shoe stepped ont...   \n",
       "B01HJCYJQM  these running-inspired low tops match clean de...   \n",
       "B01HJDV7HK  an edgy take on adidas running-inspired herita...   \n",
       "B01HJDVCJI  an edgy take on adidas running-inspired herita...   \n",
       "B01HJDW6ZC  these men's tubular shoes honor running-inspir...   \n",
       "\n",
       "                                                        title   brand  price  \\\n",
       "asin                                                                           \n",
       "024129505X                      lego city: bulldozer break-in    lego   8.55   \n",
       "0736402012  disney's one, two, pooh's looking for you (swe...  disney  22.79   \n",
       "0786832924  disney's add a little magic: words of inspiration  disney  18.88   \n",
       "0786835850  disney's kim possible: badical - books #1-4 bo...  disney  35.00   \n",
       "1405288027                  lego (r) ninjago: book of secrets    lego  14.30   \n",
       "...                                                       ...     ...    ...   \n",
       "B01HJB1QEG  adidas originals women's equipment support adv...  adidas  98.75   \n",
       "B01HJCYJQM  adidas originals men's x_plr sneakers, lightwe...  adidas  33.95   \n",
       "B01HJDV7HK  adidas originals men's tubular shadow knit fas...  adidas  93.98   \n",
       "B01HJDVCJI  adidas originals men's tubular shadow fashion ...  adidas  48.45   \n",
       "B01HJDW6ZC  adidas originals men's tubular shadow running ...  adidas  32.85   \n",
       "\n",
       "                  main_cat  \n",
       "asin                        \n",
       "024129505X           books  \n",
       "0736402012           books  \n",
       "0786832924           books  \n",
       "0786835850           books  \n",
       "1405288027           books  \n",
       "...                    ...  \n",
       "B01HJB1QEG  amazon fashion  \n",
       "B01HJCYJQM  amazon fashion  \n",
       "B01HJDV7HK  amazon fashion  \n",
       "B01HJDVCJI  amazon fashion  \n",
       "B01HJDW6ZC  amazon fashion  \n",
       "\n",
       "[22953 rows x 5 columns]"
      ]
     },
     "execution_count": 20,
     "metadata": {},
     "output_type": "execute_result"
    },
    {
     "data": {
      "application/javascript": [
       "\n",
       "            setTimeout(function() {\n",
       "                var nbb_cell_id = 20;\n",
       "                var nbb_unformatted_code = \"df.loc[fillers.index, \\\"brand\\\"] = fillers\\ndf.loc[fillers.index]\";\n",
       "                var nbb_formatted_code = \"df.loc[fillers.index, \\\"brand\\\"] = fillers\\ndf.loc[fillers.index]\";\n",
       "                var nbb_cells = Jupyter.notebook.get_cells();\n",
       "                for (var i = 0; i < nbb_cells.length; ++i) {\n",
       "                    if (nbb_cells[i].input_prompt_number == nbb_cell_id) {\n",
       "                        if (nbb_cells[i].get_text() == nbb_unformatted_code) {\n",
       "                             nbb_cells[i].set_text(nbb_formatted_code);\n",
       "                        }\n",
       "                        break;\n",
       "                    }\n",
       "                }\n",
       "            }, 500);\n",
       "            "
      ],
      "text/plain": [
       "<IPython.core.display.Javascript object>"
      ]
     },
     "metadata": {},
     "output_type": "display_data"
    }
   ],
   "source": [
    "df.loc[fillers.index, \"brand\"] = fillers\n",
    "df.loc[fillers.index]"
   ]
  },
  {
   "cell_type": "code",
   "execution_count": 21,
   "metadata": {
    "ExecuteTime": {
     "end_time": "2021-08-23T00:32:12.653583Z",
     "start_time": "2021-08-23T00:32:11.479908Z"
    }
   },
   "outputs": [
    {
     "data": {
      "text/plain": [
       "description          0\n",
       "title                0\n",
       "brand           304790\n",
       "price          2891358\n",
       "main_cat             0\n",
       "dtype: int64"
      ]
     },
     "execution_count": 21,
     "metadata": {},
     "output_type": "execute_result"
    },
    {
     "data": {
      "application/javascript": [
       "\n",
       "            setTimeout(function() {\n",
       "                var nbb_cell_id = 21;\n",
       "                var nbb_unformatted_code = \"df.isna().sum()\";\n",
       "                var nbb_formatted_code = \"df.isna().sum()\";\n",
       "                var nbb_cells = Jupyter.notebook.get_cells();\n",
       "                for (var i = 0; i < nbb_cells.length; ++i) {\n",
       "                    if (nbb_cells[i].input_prompt_number == nbb_cell_id) {\n",
       "                        if (nbb_cells[i].get_text() == nbb_unformatted_code) {\n",
       "                             nbb_cells[i].set_text(nbb_formatted_code);\n",
       "                        }\n",
       "                        break;\n",
       "                    }\n",
       "                }\n",
       "            }, 500);\n",
       "            "
      ],
      "text/plain": [
       "<IPython.core.display.Javascript object>"
      ]
     },
     "metadata": {},
     "output_type": "display_data"
    }
   ],
   "source": [
    "df.isna().sum()"
   ]
  },
  {
   "cell_type": "code",
   "execution_count": 22,
   "metadata": {
    "ExecuteTime": {
     "end_time": "2021-08-23T00:32:13.696038Z",
     "start_time": "2021-08-23T00:32:12.654582Z"
    }
   },
   "outputs": [
    {
     "data": {
      "text/plain": [
       "(5990784, 5)"
      ]
     },
     "execution_count": 22,
     "metadata": {},
     "output_type": "execute_result"
    },
    {
     "data": {
      "application/javascript": [
       "\n",
       "            setTimeout(function() {\n",
       "                var nbb_cell_id = 22;\n",
       "                var nbb_unformatted_code = \"df = df.dropna(subset=[\\\"brand\\\"])\\ndf.shape\";\n",
       "                var nbb_formatted_code = \"df = df.dropna(subset=[\\\"brand\\\"])\\ndf.shape\";\n",
       "                var nbb_cells = Jupyter.notebook.get_cells();\n",
       "                for (var i = 0; i < nbb_cells.length; ++i) {\n",
       "                    if (nbb_cells[i].input_prompt_number == nbb_cell_id) {\n",
       "                        if (nbb_cells[i].get_text() == nbb_unformatted_code) {\n",
       "                             nbb_cells[i].set_text(nbb_formatted_code);\n",
       "                        }\n",
       "                        break;\n",
       "                    }\n",
       "                }\n",
       "            }, 500);\n",
       "            "
      ],
      "text/plain": [
       "<IPython.core.display.Javascript object>"
      ]
     },
     "metadata": {},
     "output_type": "display_data"
    }
   ],
   "source": [
    "df = df.dropna(subset=[\"brand\"])\n",
    "df.shape"
   ]
  },
  {
   "cell_type": "markdown",
   "metadata": {},
   "source": [
    "## Revisit Main Categories"
   ]
  },
  {
   "cell_type": "code",
   "execution_count": 23,
   "metadata": {
    "ExecuteTime": {
     "end_time": "2021-08-23T00:32:20.836132Z",
     "start_time": "2021-08-23T00:32:13.697037Z"
    },
    "run_control": {
     "marked": false
    }
   },
   "outputs": [
    {
     "name": "stdout",
     "output_type": "stream",
     "text": [
      "                        Dropped\n",
      "handmade                      2\n",
      "luxury beauty                13\n",
      "magazine subscriptions      711\n"
     ]
    },
    {
     "data": {
      "text/plain": [
       "books                           1215259\n",
       "amazon home                      891352\n",
       "amazon fashion                   693327\n",
       "sports & outdoors                459051\n",
       "toys & games                     343662\n",
       "tools & home improvement         325844\n",
       "automotive                       322586\n",
       "grocery                          213847\n",
       "cell phones & accessories        186793\n",
       "digital music                    174645\n",
       "computers                        131705\n",
       "office products                  130659\n",
       "arts, crafts & sewing            128890\n",
       "pet supplies                     108244\n",
       "industrial & scientific          105528\n",
       "all electronics                   95336\n",
       "movies & tv                       89554\n",
       "camera & photo                    74788\n",
       "musical instruments               67374\n",
       "home audio & theater              65569\n",
       "health & personal care            37988\n",
       "video games                       35234\n",
       "baby                              21443\n",
       "all beauty                        18953\n",
       "car electronics                   16744\n",
       "software                          14164\n",
       "prime pantry                       7237\n",
       "appliances                         4548\n",
       "gps & navigation                   4235\n",
       "portable audio & accessories       3932\n",
       "collectibles & fine art            1567\n",
       "Name: main_cat, dtype: int64"
      ]
     },
     "execution_count": 23,
     "metadata": {},
     "output_type": "execute_result"
    },
    {
     "data": {
      "application/javascript": [
       "\n",
       "            setTimeout(function() {\n",
       "                var nbb_cell_id = 23;\n",
       "                var nbb_unformatted_code = \"df = utils.prune_categories(df, \\\"main_cat\\\", cut=1000)\\ndf[\\\"main_cat\\\"].value_counts()\";\n",
       "                var nbb_formatted_code = \"df = utils.prune_categories(df, \\\"main_cat\\\", cut=1000)\\ndf[\\\"main_cat\\\"].value_counts()\";\n",
       "                var nbb_cells = Jupyter.notebook.get_cells();\n",
       "                for (var i = 0; i < nbb_cells.length; ++i) {\n",
       "                    if (nbb_cells[i].input_prompt_number == nbb_cell_id) {\n",
       "                        if (nbb_cells[i].get_text() == nbb_unformatted_code) {\n",
       "                             nbb_cells[i].set_text(nbb_formatted_code);\n",
       "                        }\n",
       "                        break;\n",
       "                    }\n",
       "                }\n",
       "            }, 500);\n",
       "            "
      ],
      "text/plain": [
       "<IPython.core.display.Javascript object>"
      ]
     },
     "metadata": {},
     "output_type": "display_data"
    }
   ],
   "source": [
    "df = utils.prune_categories(df, \"main_cat\", cut=1000)\n",
    "df[\"main_cat\"].value_counts()"
   ]
  },
  {
   "cell_type": "markdown",
   "metadata": {},
   "source": [
    "# Add Subcategory Info"
   ]
  },
  {
   "cell_type": "code",
   "execution_count": 24,
   "metadata": {
    "ExecuteTime": {
     "end_time": "2021-08-23T00:33:05.942610Z",
     "start_time": "2021-08-23T00:32:20.837131Z"
    }
   },
   "outputs": [
    {
     "data": {
      "text/plain": [
       "asin\n",
       "B000052XWP    [Clothing, Shoes & Jewelry, Women, Shoes, Sand...\n",
       "B000052XWP    [Clothing, Shoes & Jewelry, Women, Shoes, Sand...\n",
       "B00005NWS1    [Clothing, Shoes & Jewelry, Shoe, Jewelry & Wa...\n",
       "B00005NWS1    [Clothing, Shoes & Jewelry, Shoe, Jewelry & Wa...\n",
       "B000068DEG    [Clothing, Shoes & Jewelry, Novelty & More, Cl...\n",
       "                                    ...                        \n",
       "B00ZOGIMZ0    [Software, Music, MP3 Editing & Effects, MP3 S...\n",
       "B015ONJ9KO    [Software, Digital Software, Music, CD Burning...\n",
       "B015ONXBXA    [Software, Digital Software, Music, CD Burning...\n",
       "B015OOLJ3I    [Software, Digital Software, Lifestyle & Hobbi...\n",
       "B01DTJYXEW    [Software, Digital Software, Design & Illustra...\n",
       "Name: category, Length: 5835320, dtype: object"
      ]
     },
     "execution_count": 24,
     "metadata": {},
     "output_type": "execute_result"
    },
    {
     "data": {
      "application/javascript": [
       "\n",
       "            setTimeout(function() {\n",
       "                var nbb_cell_id = 24;\n",
       "                var nbb_unformatted_code = \"subcats = pd.read_parquet(\\n    \\\"data/init_dropna\\\", engine=\\\"pyarrow\\\", columns=[\\\"category\\\", \\\"asin\\\"]\\n)\\nsubcats.set_index(\\\"asin\\\", inplace=True)\\nsubcats = subcats.loc[df.index].dropna().squeeze()\\nsubcats\";\n",
       "                var nbb_formatted_code = \"subcats = pd.read_parquet(\\n    \\\"data/init_dropna\\\", engine=\\\"pyarrow\\\", columns=[\\\"category\\\", \\\"asin\\\"]\\n)\\nsubcats.set_index(\\\"asin\\\", inplace=True)\\nsubcats = subcats.loc[df.index].dropna().squeeze()\\nsubcats\";\n",
       "                var nbb_cells = Jupyter.notebook.get_cells();\n",
       "                for (var i = 0; i < nbb_cells.length; ++i) {\n",
       "                    if (nbb_cells[i].input_prompt_number == nbb_cell_id) {\n",
       "                        if (nbb_cells[i].get_text() == nbb_unformatted_code) {\n",
       "                             nbb_cells[i].set_text(nbb_formatted_code);\n",
       "                        }\n",
       "                        break;\n",
       "                    }\n",
       "                }\n",
       "            }, 500);\n",
       "            "
      ],
      "text/plain": [
       "<IPython.core.display.Javascript object>"
      ]
     },
     "metadata": {},
     "output_type": "display_data"
    }
   ],
   "source": [
    "subcats = pd.read_parquet(\n",
    "    \"data/init_dropna\", engine=\"pyarrow\", columns=[\"category\", \"asin\"]\n",
    ")\n",
    "subcats.set_index(\"asin\", inplace=True)\n",
    "subcats = subcats.loc[df.index].dropna().squeeze()\n",
    "subcats"
   ]
  },
  {
   "cell_type": "code",
   "execution_count": 25,
   "metadata": {
    "ExecuteTime": {
     "end_time": "2021-08-23T00:34:06.004647Z",
     "start_time": "2021-08-23T00:33:05.944610Z"
    }
   },
   "outputs": [
    {
     "data": {
      "text/plain": [
       "asin\n",
       "B000052XWP                            clothing, shoes & jewelry\n",
       "B000052XWP                                                women\n",
       "B000052XWP                                                shoes\n",
       "B000052XWP                                              sandals\n",
       "B000052XWP                            clothing, shoes & jewelry\n",
       "                                    ...                        \n",
       "B01DTJYXEW    architectural drawings - draw professional-qua...\n",
       "B01DTJYXEW    engineering layouts - double-precision accurac...\n",
       "B01DTJYXEW    shop drawings - entering specific values for d...\n",
       "B01DTJYXEW    home projects - create do-it-yourself landscap...\n",
       "B01DTJYXEW    other cad needs - create electronic schematics...\n",
       "Name: category, Length: 26019512, dtype: object"
      ]
     },
     "execution_count": 25,
     "metadata": {},
     "output_type": "execute_result"
    },
    {
     "data": {
      "application/javascript": [
       "\n",
       "            setTimeout(function() {\n",
       "                var nbb_cell_id = 25;\n",
       "                var nbb_unformatted_code = \"subcats = subcats.explode()\\nfilts = [lang.decode_html_entities, lang.lowercase, lang.strip_html_tags]\\nfor filt in filts:\\n    subcats = filt(subcats)\\nsubcats\";\n",
       "                var nbb_formatted_code = \"subcats = subcats.explode()\\nfilts = [lang.decode_html_entities, lang.lowercase, lang.strip_html_tags]\\nfor filt in filts:\\n    subcats = filt(subcats)\\nsubcats\";\n",
       "                var nbb_cells = Jupyter.notebook.get_cells();\n",
       "                for (var i = 0; i < nbb_cells.length; ++i) {\n",
       "                    if (nbb_cells[i].input_prompt_number == nbb_cell_id) {\n",
       "                        if (nbb_cells[i].get_text() == nbb_unformatted_code) {\n",
       "                             nbb_cells[i].set_text(nbb_formatted_code);\n",
       "                        }\n",
       "                        break;\n",
       "                    }\n",
       "                }\n",
       "            }, 500);\n",
       "            "
      ],
      "text/plain": [
       "<IPython.core.display.Javascript object>"
      ]
     },
     "metadata": {},
     "output_type": "display_data"
    }
   ],
   "source": [
    "subcats = subcats.explode()\n",
    "filts = [lang.decode_html_entities, lang.lowercase, lang.strip_html_tags]\n",
    "for filt in filts:\n",
    "    subcats = filt(subcats)\n",
    "subcats"
   ]
  },
  {
   "cell_type": "code",
   "execution_count": 26,
   "metadata": {
    "ExecuteTime": {
     "end_time": "2021-08-23T00:34:31.073195Z",
     "start_time": "2021-08-23T00:34:06.004647Z"
    },
    "run_control": {
     "marked": false
    }
   },
   "outputs": [
    {
     "name": "stdout",
     "output_type": "stream",
     "text": [
      "        category\n",
      "min            5\n",
      "median        15\n",
      "max           38\n",
      "\n",
      "\n",
      "           n_trimmed  pct_trimmed\n",
      "category   2,028,580            8\n",
      "total_obs  2,028,580            8\n"
     ]
    },
    {
     "data": {
      "text/plain": [
       "asin\n",
       "B000052XWP    clothing, shoes & jewelry\n",
       "B000052XWP                        women\n",
       "B000052XWP                        shoes\n",
       "B000052XWP                      sandals\n",
       "B000052XWP    clothing, shoes & jewelry\n",
       "Name: category, dtype: object"
      ]
     },
     "execution_count": 26,
     "metadata": {},
     "output_type": "execute_result"
    },
    {
     "data": {
      "application/javascript": [
       "\n",
       "            setTimeout(function() {\n",
       "                var nbb_cell_id = 26;\n",
       "                var nbb_unformatted_code = \"subcats = lang.trim_length_outliers(subcats, q_inner=0.9)\\nsubcats.head()\";\n",
       "                var nbb_formatted_code = \"subcats = lang.trim_length_outliers(subcats, q_inner=0.9)\\nsubcats.head()\";\n",
       "                var nbb_cells = Jupyter.notebook.get_cells();\n",
       "                for (var i = 0; i < nbb_cells.length; ++i) {\n",
       "                    if (nbb_cells[i].input_prompt_number == nbb_cell_id) {\n",
       "                        if (nbb_cells[i].get_text() == nbb_unformatted_code) {\n",
       "                             nbb_cells[i].set_text(nbb_formatted_code);\n",
       "                        }\n",
       "                        break;\n",
       "                    }\n",
       "                }\n",
       "            }, 500);\n",
       "            "
      ],
      "text/plain": [
       "<IPython.core.display.Javascript object>"
      ]
     },
     "metadata": {},
     "output_type": "display_data"
    }
   ],
   "source": [
    "subcats = lang.trim_length_outliers(subcats, q_inner=0.9)\n",
    "subcats.head()"
   ]
  },
  {
   "cell_type": "markdown",
   "metadata": {},
   "source": [
    "Next I drop duplicate subcategories (relative to each product)."
   ]
  },
  {
   "cell_type": "code",
   "execution_count": 27,
   "metadata": {
    "ExecuteTime": {
     "end_time": "2021-08-23T00:34:46.951583Z",
     "start_time": "2021-08-23T00:34:31.074194Z"
    }
   },
   "outputs": [
    {
     "data": {
      "text/plain": [
       "asin\n",
       "B000052XWP    clothing, shoes & jewelry\n",
       "B000052XWP                        women\n",
       "B000052XWP                        shoes\n",
       "B000052XWP                      sandals\n",
       "B00005NWS1    clothing, shoes & jewelry\n",
       "                        ...            \n",
       "B015OOLJ3I          lifestyle & hobbies\n",
       "B015OOLJ3I                 scrapbooking\n",
       "B01DTJYXEW                     software\n",
       "B01DTJYXEW             digital software\n",
       "B01DTJYXEW        design & illustration\n",
       "Name: category, Length: 23479537, dtype: object"
      ]
     },
     "execution_count": 27,
     "metadata": {},
     "output_type": "execute_result"
    },
    {
     "data": {
      "application/javascript": [
       "\n",
       "            setTimeout(function() {\n",
       "                var nbb_cell_id = 27;\n",
       "                var nbb_unformatted_code = \"subcats = subcats.reset_index().drop_duplicates()\\nsubcats = subcats.set_index(\\\"asin\\\").squeeze()\\nsubcats\";\n",
       "                var nbb_formatted_code = \"subcats = subcats.reset_index().drop_duplicates()\\nsubcats = subcats.set_index(\\\"asin\\\").squeeze()\\nsubcats\";\n",
       "                var nbb_cells = Jupyter.notebook.get_cells();\n",
       "                for (var i = 0; i < nbb_cells.length; ++i) {\n",
       "                    if (nbb_cells[i].input_prompt_number == nbb_cell_id) {\n",
       "                        if (nbb_cells[i].get_text() == nbb_unformatted_code) {\n",
       "                             nbb_cells[i].set_text(nbb_formatted_code);\n",
       "                        }\n",
       "                        break;\n",
       "                    }\n",
       "                }\n",
       "            }, 500);\n",
       "            "
      ],
      "text/plain": [
       "<IPython.core.display.Javascript object>"
      ]
     },
     "metadata": {},
     "output_type": "display_data"
    }
   ],
   "source": [
    "subcats = subcats.reset_index().drop_duplicates()\n",
    "subcats = subcats.set_index(\"asin\").squeeze()\n",
    "subcats"
   ]
  },
  {
   "cell_type": "code",
   "execution_count": 28,
   "metadata": {
    "ExecuteTime": {
     "end_time": "2021-08-23T00:36:36.547019Z",
     "start_time": "2021-08-23T00:34:46.952553Z"
    }
   },
   "outputs": [
    {
     "data": {
      "text/plain": [
       "asin\n",
       "0000012300    [sports & outdoors, outdoor recreation, campin...\n",
       "0000098906    [musical instruments, drums & percussion, hand...\n",
       "0000143502                                [movies & tv, movies]\n",
       "0000143529                                [movies & tv, movies]\n",
       "0000143588                                [movies & tv, movies]\n",
       "Name: category, dtype: object"
      ]
     },
     "execution_count": 28,
     "metadata": {},
     "output_type": "execute_result"
    },
    {
     "data": {
      "application/javascript": [
       "\n",
       "            setTimeout(function() {\n",
       "                var nbb_cell_id = 28;\n",
       "                var nbb_unformatted_code = \"subcats = utils.implode(subcats)\\nsubcats.head()\";\n",
       "                var nbb_formatted_code = \"subcats = utils.implode(subcats)\\nsubcats.head()\";\n",
       "                var nbb_cells = Jupyter.notebook.get_cells();\n",
       "                for (var i = 0; i < nbb_cells.length; ++i) {\n",
       "                    if (nbb_cells[i].input_prompt_number == nbb_cell_id) {\n",
       "                        if (nbb_cells[i].get_text() == nbb_unformatted_code) {\n",
       "                             nbb_cells[i].set_text(nbb_formatted_code);\n",
       "                        }\n",
       "                        break;\n",
       "                    }\n",
       "                }\n",
       "            }, 500);\n",
       "            "
      ],
      "text/plain": [
       "<IPython.core.display.Javascript object>"
      ]
     },
     "metadata": {},
     "output_type": "display_data"
    }
   ],
   "source": [
    "subcats = utils.implode(subcats)\n",
    "subcats.head()"
   ]
  },
  {
   "cell_type": "code",
   "execution_count": 29,
   "metadata": {
    "ExecuteTime": {
     "end_time": "2021-08-23T00:36:44.744384Z",
     "start_time": "2021-08-23T00:36:36.548020Z"
    }
   },
   "outputs": [
    {
     "data": {
      "text/html": [
       "<div>\n",
       "<style scoped>\n",
       "    .dataframe tbody tr th:only-of-type {\n",
       "        vertical-align: middle;\n",
       "    }\n",
       "\n",
       "    .dataframe tbody tr th {\n",
       "        vertical-align: top;\n",
       "    }\n",
       "\n",
       "    .dataframe thead th {\n",
       "        text-align: right;\n",
       "    }\n",
       "</style>\n",
       "<table border=\"1\" class=\"dataframe\">\n",
       "  <thead>\n",
       "    <tr style=\"text-align: right;\">\n",
       "      <th></th>\n",
       "      <th>description</th>\n",
       "      <th>title</th>\n",
       "      <th>brand</th>\n",
       "      <th>price</th>\n",
       "      <th>main_cat</th>\n",
       "      <th>sub_cat</th>\n",
       "    </tr>\n",
       "    <tr>\n",
       "      <th>asin</th>\n",
       "      <th></th>\n",
       "      <th></th>\n",
       "      <th></th>\n",
       "      <th></th>\n",
       "      <th></th>\n",
       "      <th></th>\n",
       "    </tr>\n",
       "  </thead>\n",
       "  <tbody>\n",
       "    <tr>\n",
       "      <th>B000052XWP</th>\n",
       "      <td>advanced pain relief for the arch, heel, knee,...</td>\n",
       "      <td>dr scholls dyna step-women's</td>\n",
       "      <td>dr scholl's</td>\n",
       "      <td>NaN</td>\n",
       "      <td>all beauty</td>\n",
       "      <td>[clothing, shoes &amp; jewelry, women, shoes, sand...</td>\n",
       "    </tr>\n",
       "    <tr>\n",
       "      <th>B00005NWS1</th>\n",
       "      <td>this electric shoe polisher has a high torque ...</td>\n",
       "      <td>first class electric shoe polisher</td>\n",
       "      <td>jerdon</td>\n",
       "      <td>NaN</td>\n",
       "      <td>all beauty</td>\n",
       "      <td>[clothing, shoes &amp; jewelry, shoe, jewelry &amp; wa...</td>\n",
       "    </tr>\n",
       "    <tr>\n",
       "      <th>B000068DEG</th>\n",
       "      <td>bvlgari by bvlgari for women eau de parfum spr...</td>\n",
       "      <td>bvlgari women eau de perfume, 1.7 fl. oz</td>\n",
       "      <td>bvlgari</td>\n",
       "      <td>NaN</td>\n",
       "      <td>all beauty</td>\n",
       "      <td>[clothing, shoes &amp; jewelry, novelty &amp; more, cl...</td>\n",
       "    </tr>\n",
       "    <tr>\n",
       "      <th>B00006IQ95</th>\n",
       "      <td>quick and convenient for easy touch-ups around...</td>\n",
       "      <td>mespirit eyebrows remover trimmer razor shaver...</td>\n",
       "      <td>la sante</td>\n",
       "      <td>NaN</td>\n",
       "      <td>all beauty</td>\n",
       "      <td>[clothing, shoes &amp; jewelry, women, clothing, l...</td>\n",
       "    </tr>\n",
       "    <tr>\n",
       "      <th>B000078OSM</th>\n",
       "      <td>carry your light travel necessities comfortabl...</td>\n",
       "      <td>clava one pocket 20\" duffel (vachetta tan)</td>\n",
       "      <td>clava</td>\n",
       "      <td>185.16</td>\n",
       "      <td>all beauty</td>\n",
       "      <td>[clothing, shoes &amp; jewelry, luggage &amp; travel g...</td>\n",
       "    </tr>\n",
       "  </tbody>\n",
       "</table>\n",
       "</div>"
      ],
      "text/plain": [
       "                                                  description  \\\n",
       "asin                                                            \n",
       "B000052XWP  advanced pain relief for the arch, heel, knee,...   \n",
       "B00005NWS1  this electric shoe polisher has a high torque ...   \n",
       "B000068DEG  bvlgari by bvlgari for women eau de parfum spr...   \n",
       "B00006IQ95  quick and convenient for easy touch-ups around...   \n",
       "B000078OSM  carry your light travel necessities comfortabl...   \n",
       "\n",
       "                                                        title        brand  \\\n",
       "asin                                                                         \n",
       "B000052XWP                       dr scholls dyna step-women's  dr scholl's   \n",
       "B00005NWS1                 first class electric shoe polisher       jerdon   \n",
       "B000068DEG           bvlgari women eau de perfume, 1.7 fl. oz      bvlgari   \n",
       "B00006IQ95  mespirit eyebrows remover trimmer razor shaver...     la sante   \n",
       "B000078OSM         clava one pocket 20\" duffel (vachetta tan)        clava   \n",
       "\n",
       "             price    main_cat  \\\n",
       "asin                             \n",
       "B000052XWP     NaN  all beauty   \n",
       "B00005NWS1     NaN  all beauty   \n",
       "B000068DEG     NaN  all beauty   \n",
       "B00006IQ95     NaN  all beauty   \n",
       "B000078OSM  185.16  all beauty   \n",
       "\n",
       "                                                      sub_cat  \n",
       "asin                                                           \n",
       "B000052XWP  [clothing, shoes & jewelry, women, shoes, sand...  \n",
       "B00005NWS1  [clothing, shoes & jewelry, shoe, jewelry & wa...  \n",
       "B000068DEG  [clothing, shoes & jewelry, novelty & more, cl...  \n",
       "B00006IQ95  [clothing, shoes & jewelry, women, clothing, l...  \n",
       "B000078OSM  [clothing, shoes & jewelry, luggage & travel g...  "
      ]
     },
     "execution_count": 29,
     "metadata": {},
     "output_type": "execute_result"
    },
    {
     "data": {
      "application/javascript": [
       "\n",
       "            setTimeout(function() {\n",
       "                var nbb_cell_id = 29;\n",
       "                var nbb_unformatted_code = \"df = pd.merge(df, subcats, left_index=True, right_index=True, how=\\\"left\\\")\\ndf = df.rename(columns={\\\"category\\\": \\\"sub_cat\\\"})\\ndf.head()\";\n",
       "                var nbb_formatted_code = \"df = pd.merge(df, subcats, left_index=True, right_index=True, how=\\\"left\\\")\\ndf = df.rename(columns={\\\"category\\\": \\\"sub_cat\\\"})\\ndf.head()\";\n",
       "                var nbb_cells = Jupyter.notebook.get_cells();\n",
       "                for (var i = 0; i < nbb_cells.length; ++i) {\n",
       "                    if (nbb_cells[i].input_prompt_number == nbb_cell_id) {\n",
       "                        if (nbb_cells[i].get_text() == nbb_unformatted_code) {\n",
       "                             nbb_cells[i].set_text(nbb_formatted_code);\n",
       "                        }\n",
       "                        break;\n",
       "                    }\n",
       "                }\n",
       "            }, 500);\n",
       "            "
      ],
      "text/plain": [
       "<IPython.core.display.Javascript object>"
      ]
     },
     "metadata": {},
     "output_type": "display_data"
    }
   ],
   "source": [
    "df = pd.merge(df, subcats, left_index=True, right_index=True, how=\"left\")\n",
    "df = df.rename(columns={\"category\": \"sub_cat\"})\n",
    "df.head()"
   ]
  },
  {
   "cell_type": "code",
   "execution_count": 30,
   "metadata": {
    "ExecuteTime": {
     "end_time": "2021-08-23T00:36:44.854355Z",
     "start_time": "2021-08-23T00:36:44.745354Z"
    }
   },
   "outputs": [
    {
     "data": {
      "application/javascript": [
       "\n",
       "            setTimeout(function() {\n",
       "                var nbb_cell_id = 30;\n",
       "                var nbb_unformatted_code = \"del subcats\";\n",
       "                var nbb_formatted_code = \"del subcats\";\n",
       "                var nbb_cells = Jupyter.notebook.get_cells();\n",
       "                for (var i = 0; i < nbb_cells.length; ++i) {\n",
       "                    if (nbb_cells[i].input_prompt_number == nbb_cell_id) {\n",
       "                        if (nbb_cells[i].get_text() == nbb_unformatted_code) {\n",
       "                             nbb_cells[i].set_text(nbb_formatted_code);\n",
       "                        }\n",
       "                        break;\n",
       "                    }\n",
       "                }\n",
       "            }, 500);\n",
       "            "
      ],
      "text/plain": [
       "<IPython.core.display.Javascript object>"
      ]
     },
     "metadata": {},
     "output_type": "display_data"
    }
   ],
   "source": [
    "del subcats"
   ]
  },
  {
   "cell_type": "markdown",
   "metadata": {},
   "source": [
    "# Add 'feature' text"
   ]
  },
  {
   "cell_type": "code",
   "execution_count": 31,
   "metadata": {
    "ExecuteTime": {
     "end_time": "2021-08-23T00:38:24.741423Z",
     "start_time": "2021-08-23T00:36:44.855355Z"
    }
   },
   "outputs": [
    {
     "data": {
      "text/plain": [
       "asin\n",
       "B000078OSM    [Front exterior zipper pocket, Fully-lined int...\n",
       "B000078OSM    [Front exterior zipper pocket, Fully-lined int...\n",
       "B0002YE8VQ    [Man made, Kitty Cat Felt with Satin Bow on th...\n",
       "B0002YE8VQ    [Man made, Kitty Cat Felt with Satin Bow on th...\n",
       "B0009LHRLK    [leather, zipper closure, Roomy interior, Full...\n",
       "                                    ...                        \n",
       "B00ZOGIMZ0    [Brand new and high quality, compatible with: ...\n",
       "B015ONJ9KO    [Music for Free from the Internet: Get the cur...\n",
       "B015ONXBXA    [Video Stream Recorder: Record all major video...\n",
       "B015OOLJ3I    [Music Stream Recorder with Turbo Speed: Recor...\n",
       "B01DTJYXEW    [Architectural Drawings - Draw professional-qu...\n",
       "Name: feature, Length: 3990231, dtype: object"
      ]
     },
     "execution_count": 31,
     "metadata": {},
     "output_type": "execute_result"
    },
    {
     "data": {
      "application/javascript": [
       "\n",
       "            setTimeout(function() {\n",
       "                var nbb_cell_id = 31;\n",
       "                var nbb_unformatted_code = \"feat = pd.read_parquet(\\n    \\\"data/init_dropna\\\", engine=\\\"pyarrow\\\", columns=[\\\"feature\\\", \\\"asin\\\"]\\n)\\nfeat.set_index(\\\"asin\\\", inplace=True)\\nfeat = feat.loc[df.index].dropna().squeeze()\\nfeat\";\n",
       "                var nbb_formatted_code = \"feat = pd.read_parquet(\\n    \\\"data/init_dropna\\\", engine=\\\"pyarrow\\\", columns=[\\\"feature\\\", \\\"asin\\\"]\\n)\\nfeat.set_index(\\\"asin\\\", inplace=True)\\nfeat = feat.loc[df.index].dropna().squeeze()\\nfeat\";\n",
       "                var nbb_cells = Jupyter.notebook.get_cells();\n",
       "                for (var i = 0; i < nbb_cells.length; ++i) {\n",
       "                    if (nbb_cells[i].input_prompt_number == nbb_cell_id) {\n",
       "                        if (nbb_cells[i].get_text() == nbb_unformatted_code) {\n",
       "                             nbb_cells[i].set_text(nbb_formatted_code);\n",
       "                        }\n",
       "                        break;\n",
       "                    }\n",
       "                }\n",
       "            }, 500);\n",
       "            "
      ],
      "text/plain": [
       "<IPython.core.display.Javascript object>"
      ]
     },
     "metadata": {},
     "output_type": "display_data"
    }
   ],
   "source": [
    "feat = pd.read_parquet(\n",
    "    \"data/init_dropna\", engine=\"pyarrow\", columns=[\"feature\", \"asin\"]\n",
    ")\n",
    "feat.set_index(\"asin\", inplace=True)\n",
    "feat = feat.loc[df.index].dropna().squeeze()\n",
    "feat"
   ]
  },
  {
   "cell_type": "code",
   "execution_count": 32,
   "metadata": {
    "ExecuteTime": {
     "end_time": "2021-08-23T00:40:27.630908Z",
     "start_time": "2021-08-23T00:38:24.744422Z"
    }
   },
   "outputs": [
    {
     "data": {
      "text/plain": [
       "asin\n",
       "B000078OSM    front exterior zipper pocket fully-lined inter...\n",
       "B000078OSM    front exterior zipper pocket fully-lined inter...\n",
       "B0002YE8VQ    man made kitty cat felt with satin bow on the ...\n",
       "B0002YE8VQ    man made kitty cat felt with satin bow on the ...\n",
       "B0009LHRLK    leather zipper closure roomy interior fully-li...\n",
       "                                    ...                        \n",
       "B00ZOGIMZ0    brand new and high quality, compatible with: m...\n",
       "B015ONJ9KO    music for free from the internet: get the curr...\n",
       "B015ONXBXA    video stream recorder: record all major video ...\n",
       "B015OOLJ3I    music stream recorder with turbo speed: record...\n",
       "B01DTJYXEW    architectural drawings - draw professional-qua...\n",
       "Name: feature, Length: 3990231, dtype: object"
      ]
     },
     "execution_count": 32,
     "metadata": {},
     "output_type": "execute_result"
    },
    {
     "data": {
      "application/javascript": [
       "\n",
       "            setTimeout(function() {\n",
       "                var nbb_cell_id = 32;\n",
       "                var nbb_unformatted_code = \"feat = feat.str.join(\\\" \\\")\\nfilts = [lang.decode_html_entities, lang.lowercase, lang.strip_html_tags]\\nfor filt in filts:\\n    feat = filt(feat)\\nfeat\";\n",
       "                var nbb_formatted_code = \"feat = feat.str.join(\\\" \\\")\\nfilts = [lang.decode_html_entities, lang.lowercase, lang.strip_html_tags]\\nfor filt in filts:\\n    feat = filt(feat)\\nfeat\";\n",
       "                var nbb_cells = Jupyter.notebook.get_cells();\n",
       "                for (var i = 0; i < nbb_cells.length; ++i) {\n",
       "                    if (nbb_cells[i].input_prompt_number == nbb_cell_id) {\n",
       "                        if (nbb_cells[i].get_text() == nbb_unformatted_code) {\n",
       "                             nbb_cells[i].set_text(nbb_formatted_code);\n",
       "                        }\n",
       "                        break;\n",
       "                    }\n",
       "                }\n",
       "            }, 500);\n",
       "            "
      ],
      "text/plain": [
       "<IPython.core.display.Javascript object>"
      ]
     },
     "metadata": {},
     "output_type": "display_data"
    }
   ],
   "source": [
    "feat = feat.str.join(\" \")\n",
    "filts = [lang.decode_html_entities, lang.lowercase, lang.strip_html_tags]\n",
    "for filt in filts:\n",
    "    feat = filt(feat)\n",
    "feat"
   ]
  },
  {
   "cell_type": "code",
   "execution_count": 33,
   "metadata": {
    "ExecuteTime": {
     "end_time": "2021-08-23T00:40:29.313378Z",
     "start_time": "2021-08-23T00:40:27.631909Z"
    }
   },
   "outputs": [
    {
     "name": "stdout",
     "output_type": "stream",
     "text": [
      "        len_feature\n",
      "min               0\n",
      "median          280\n",
      "max          77,138\n"
     ]
    },
    {
     "data": {
      "application/javascript": [
       "\n",
       "            setTimeout(function() {\n",
       "                var nbb_cell_id = 33;\n",
       "                var nbb_unformatted_code = \"lang.length_info(feat)\";\n",
       "                var nbb_formatted_code = \"lang.length_info(feat)\";\n",
       "                var nbb_cells = Jupyter.notebook.get_cells();\n",
       "                for (var i = 0; i < nbb_cells.length; ++i) {\n",
       "                    if (nbb_cells[i].input_prompt_number == nbb_cell_id) {\n",
       "                        if (nbb_cells[i].get_text() == nbb_unformatted_code) {\n",
       "                             nbb_cells[i].set_text(nbb_formatted_code);\n",
       "                        }\n",
       "                        break;\n",
       "                    }\n",
       "                }\n",
       "            }, 500);\n",
       "            "
      ],
      "text/plain": [
       "<IPython.core.display.Javascript object>"
      ]
     },
     "metadata": {},
     "output_type": "display_data"
    }
   ],
   "source": [
    "lang.length_info(feat)"
   ]
  },
  {
   "cell_type": "code",
   "execution_count": 34,
   "metadata": {
    "ExecuteTime": {
     "end_time": "2021-08-23T00:40:31.377883Z",
     "start_time": "2021-08-23T00:40:29.315352Z"
    }
   },
   "outputs": [
    {
     "data": {
      "text/plain": [
       "'cra-z-art cra-z-loom ultimate color craze refill over 2000 pieces ultimate color craze cra-z-loom bracelet maker rubber bands and \"s\" clips latex free use with cra-z-loom tm to make fun rubber band accessories! recommended ages: 3 years and up product measures: 10.25\" x 8.25\" x 1.5\" #productdescription { color: #333333; word-wrap: break-word; font-size: small; line-height: initial; margin: 0.5em 0px 0em 25px; } #productdescription_feature_div > h2.default { color: #cc6600; font-size: medium; margin: 0 0 0.25em; } #productdescription_feature_div > h2.books { color:#333 !important; font-size:21px !important; line-height: 1.3; padding-bottom: 4px; font-weight: normal; margin: 0px; } #productdescription_feature_div > h2.softlines { color:#333 !important; font-size:21px !important; line-height: 1.3; padding-bottom: 4px; font-weight: bold; margin: 0px; } #productdescription > p, #productdescription > div, #productdescription > table { margin: 0 0 1em 0; } #productdescription p { margin: 0em 0 1em 1em; } #productdescription h3 { font-weight: normal; color: #333333; font-size: 1.23em; clear: left; margin: 0.75em 0px 0.375em -15px; } #productdescription table { border-collapse: inherit !important; margin-bottom: 0; } #productdescription table img { max-width: inherit !important; } #productdescription table td { font-size: small; vertical-align: inherit !important; } #productdescription ul li { margin: 0 0 0 20px; } #productdescription ul li ul { list-style-type: disc !important; margin-left: 20px !important; } #productdescription ul ul li { list-style-type: disc !important; margin-left: 20px !important; } #productdescription > ul ul li { list-style-type: disc !important; } #productdescription ul li ul li { margin: 0 0 0 20px; } #productdescription .aplus p { margin: 0 0 1em 0; } #productdescription small { font-size: smaller; } #productdescription.proddescwidth { max-width: 1000px } p.when(\\'jquery\\').execute(function($){ $(\"#productdescription table\").each(function() { var width = $(this).attr(\\'width\\'); if (width) width += \\'px\\'; else width = \\'auto\\'; $(this).css(\\'width\\', width); var padding = $(this).attr(\\'cellpadding\\'); if (padding) padding += \\'px\\'; else padding = \\'0px\\'; $(this).css(\\'padding\\', padding); }); }); product information product dimensions 0.6 x 0.6 x 0 inches item weight 8.8 ounces shipping weight 8.8 ounces domestic shipping item can be shipped within u.s. international shipping this item is not eligible for international shipping. learn more asin b00e9kmag4 item model number 17105 manufacturer recommended age 0 months and up best sellers rank #372,459 in toys & games ( see top 100 in toys & games ) #1,810 in toys & games > preschool > toddler toys > art & creativity #4,546 in toys & games > arts & crafts > craft kits #7,433 in toys & games > preschool > pre-kindergarten toys > art & creativity customer reviews /* * fix for udp-1061. average customer reviews has a small extra line on hover * https://omni-grok.amazon.com/xref/src/appgroup/websitetemplates/retail/softlinesdetailpageassets/udp-intl-lock/src/legacy.css?indexname=websitetemplates#40 */ .nounderline a:hover { text-decoration: none; } 4.3 out of 5 stars 35 customer reviews p.when(\\'a\\', \\'ready\\').execute(function(a) { a.declarative(\\'acrlink-click-metrics\\', \\'click\\', { \"allowlinkdefault\" : true }, function(event){ if(window.ue) { ue.count(\"acrlinkclickcount\", (ue.count(\"acrlinkclickcount\") || 0) + 1); } }); }); p.when(\\'a\\', \\'cf\\').execute(function(a) { a.declarative(\\'acrstarslink-click-metrics\\', \\'click\\', { \"allowlinkdefault\" : true }, function(event){ if(window.ue) { ue.count(\"acrstarslinkwithpopoverclickcount\", (ue.count(\"acrstarslinkwithpopoverclickcount\") || 0) + 1); } }); }); 4.3 out of 5 stars warranty & support product warranty: for warranty information about this product, please click here feedback if you are a seller for this product, would you like to suggest updates through seller support ? would you like to tell us about a lower price ? p.now(\"a\",\"tellmemorelinkdata\").execute(function(a,tellmemorelinkdata){ if(typeof tellmemorelinkdata !== \\'undefined\\'){ a.state(\\'lowerpricepopoverdata\\',{\"nsprefix\":\"ns_7mt6246dwaxbc9zydjwr_\",\"path\":\"encodeuri(\\'&originaluri=\\' + window.location.pathname)\",\"destination\":\"/gp/pdp/pf/pricingfeedbackform.html/ref=_pfdpb?ie=utf8&prefix=ns_7mt6246dwaxbc9zydjwr_&asin=b00e9kmag4&from=product-detail&storeid=toys-and-gamesencodeuri(\\'&originaluri=\\' + window.location.pathname)\",\"trigger\":\"ns_7mt6246dwaxbc9zydjwr_hmd_pricing_feedback_trigger_product-detail\",\"title\":\"tell us about a lower price\",\"url\":\"/gp/pdp/pf/pricingfeedbackform.html/ref=_pfdpb?ie=utf8&prefix=ns_7mt6246dwaxbc9zydjwr_&asin=b00e9kmag4&from=product-detail&storeid=toys-and-games\"}); return { key:\"pricing-fbw\", method: function(){ return {\"nsprefix\":\"ns_7mt6246dwaxbc9zydjwr_\",\"path\":\"encodeuri(\\'&originaluri=\\' + window.location.pathname)\",\"destination\":\"/gp/pdp/pf/pricingfeedbackform.html/ref=_pfdpb?ie=utf8&prefix=ns_7mt6246dwaxbc9zydjwr_&asin=b00e9kmag4&from=product-detail&storeid=toys-and-gamesencodeuri(\\'&originaluri=\\' + window.location.pathname)\",\"trigger\":\"ns_7mt6246dwaxbc9zydjwr_hmd_pricing_feedback_trigger_product-detail\",\"title\":\"tell us about a lower price\",\"url\":\"/gp/pdp/pf/pricingfeedbackform.html/ref=_pfdpb?ie=utf8&prefix=ns_7mt6246dwaxbc9zydjwr_&asin=b00e9kmag4&from=product-detail&storeid=toys-and-games\"}; } } } else{ p.when(\"a\").register(\"tellmemorelinkdata\",function(a){ a.state(\\'lowerpricepopoverdata\\',{\"nsprefix\":\"ns_7mt6246dwaxbc9zydjwr_\",\"path\":\"encodeuri(\\'&originaluri=\\' + window.location.pathname)\",\"destination\":\"/gp/pdp/pf/pricingfeedbackform.html/ref=_pfdpb?ie=utf8&prefix=ns_7mt6246dwaxbc9zydjwr_&asin=b00e9kmag4&from=product-detail&storeid=toys-and-gamesencodeuri(\\'&originaluri=\\' + window.location.pathname)\",\"trigger\":\"ns_7mt6246dwaxbc9zydjwr_hmd_pricing_feedback_trigger_product-detail\",\"title\":\"tell us about a lower price\",\"url\":\"/gp/pdp/pf/pricingfeedbackform.html/ref=_pfdpb?ie=utf8&prefix=ns_7mt6246dwaxbc9zydjwr_&asin=b00e9kmag4&from=product-detail&storeid=toys-and-games\"}); return { key:\"pricing-fbw\", method: function(){ return {\"nsprefix\":\"ns_7mt6246dwaxbc9zydjwr_\",\"path\":\"encodeuri(\\'&originaluri=\\' + window.location.pathname)\",\"destination\":\"/gp/pdp/pf/pricingfeedbackform.html/ref=_pfdpb?ie=utf8&prefix=ns_7mt6246dwaxbc9zydjwr_&asin=b00e9kmag4&from=product-detail&storeid=toys-and-gamesencodeuri(\\'&originaluri=\\' + window.location.pathname)\",\"trigger\":\"ns_7mt6246dwaxbc9zydjwr_hmd_pricing_feedback_trigger_product-detail\",\"title\":\"tell us about a lower price\",\"url\":\"/gp/pdp/pf/pricingfeedbackform.html/ref=_pfdpb?ie=utf8&prefix=ns_7mt6246dwaxbc9zydjwr_&asin=b00e9kmag4&from=product-detail&storeid=toys-and-games\"}; } } }); } }); related video shorts (0) upload your video be the first video your name here (window.amazonuipagejs ? amazonuipagejs : p).load.js(\\'https://images-na.ssl-images-amazon.com/images/i/613pr0dedgl.js?auiclients/vserelatedvideosclientassets\\'); (window.amazonuipagejs ? amazonuipagejs : p).load.js(\\'https://images-na.ssl-images-amazon.com/images/i/01dlj9xpvrl._rc|01x4gity+ul.js,41n4mgrlntl.js,01r9lpt6pbl.js,31mbukphaql.js,11yaqqxzkzl.js,71krhszvobl.js,61gz7vhqlal.js,01hsgea4ivl.js,01no8pwmlml.js,01smpzwh3bl.js_.js?auiclients/brila\\'); .sp_large_format_widgettitle_asinimage_spacing { margin-bottom: 40px;}.sp_large_format_asinimage_productdescription_spacing { margin-bottom: 30px;}.sp_large_format_carousel { height: 461px;}.sp_large_format_offervertical { height: 375px;}.sp_book_carousel_header { margin-bottom: 10px;}.sp_badge_spacing_above_image { margin-top: 0px; margin-bottom: 4px;}.sp_badge_spacing_below_image { margin-top: 6px; margin-bottom: 6px;}.sp_invisible_badge { visibility: hidden;}.sp_prime_wardrobe_badge { position: relative; top: 2px;} .sp_amazon_certified_text { font-size: 13px; color: #c45500;}.sp_works_with_alexa { font-size: 13px; color: #111111;} {\"eelendpoint\":\"https://unagi-na.amazon.com/1/events/com.amazon.eel.sponsoredproductseventtracking.prod\"} sponsored products related to this item page 1 of 1 start over page 1 of 1 previous page of related sponsored products (function(f) {f(window.p._namespace(\"firebirdsprendering\"));}(function(p) { p.when(\\'sponsoredproductsviewability\\').execute(function(sv) { sv.loadimagepixel(\"/gp/sponsored-products/logging/log-action.html?qualifier=1547007319&id=6146304044806485&widgetname=sp_detail2&adid=200001778295861&eventtype=2&adindex=0\"); }); })); (function(f) {f(window.p._namespace(\"firebirdsprendering\"));}(function(p) { p.when(\\'a\\', \\'sponsoredproductsviewability\\').execute(function(a, sv) { sv.registerviewtrackingelement(a.$(\"#sp_detail2_b002n4kk7o\"), \"sp_detail2\"); });})); \",\"closebutton\":\"false\",\"name\":\"sponsored-products-feedback-modal-sp_detail2\",\"width\":\"350\",\"header\":\"share your feedback\",\"url\":\"/gp/sponsored-products/lazyload/handler/sp-feedback-handler.html?pl=9gbvrikbzg42roioycyrdo1yxvymyfsqigc5dor12d7mghoevtne2tniq3se6zczuqghhvqmc%2bmg%0ajzmgn4hvgs3nta64kykvddtn6jgqbsvdk8iukattw2rboet%2bpn2vc52bgyrc9%2f6%2bt8vy5osl%2flac%0ah%2fltg%2b0m13dnfbsqf3fg4kej5h%2b7warhztopcrcxeg7lbywiymi5bg4%2bcdxfqvwc8l7zuq%2fx0uci%0aswxamiyjeeegy0m5dki8rbo3agspdfy6du%2b4dps%2fg49xqitkapt7vj2ykcikk8xugv8zd5hasykm%0aym0ywja50%2buqvxuqzazu3o6mzz66fqd4qwzlbuuypd5pgvezix1ypo60g9euu%2bwabptmc7whtrow%0apzrqrw2keumil2sx0j32inaf2rso3viz06fygy9xo27rd8kz6qukealcm3gi8%2b1dri84%2fhuqkrfx%0ak%2bbb61aqkblss7itp3ewedpatumpojrz92bufjjy%2bpcb8lvvxz%2f1kgyk4dlfor6jpf3u%2f9da8zgg%0a2qffqgjtnxjndon2yp63cqgedzwcapsy%2bz3n7zvvopyqgsiwiizqu27qadnlc9u3isl39p7uhs8u%0aij5h4admwarbfsncemy4xnfcxuy%2fg1uvff7rzl93cbs%3d\"}\"> feedback harrisville designs f557ml-az 7\" bright lotta loops in assorted colors - makes 8 po... 573 $15.96 (function(f) {f(window.p._namespace(\"firebirdsprendering\"));}(function(p) { p.when(\\'sponsoredproductsviewability\\').execute(function(sv) { sv.loadimagepixel(\"/gp/sponsored-products/logging/log-action.html?qualifier=1547007319&id=6146304044806485&widgetname=sp_detail2&adid=200009099372451&eventtype=2&adindex=1\"); }); })); (function(f) {f(window.p._namespace(\"firebirdsprendering\"));}(function(p) { p.when(\\'a\\', \\'sponsoredproductsviewability\\').execute(function(a, sv) { sv.registerviewtrackingelement(a.$(\"#sp_detail2_b07crzt55v\"), \"sp_detail2\"); });})); \",\"closebutton\":\"false\",\"name\":\"sponsored-products-feedback-modal-sp_detail2\",\"width\":\"350\",\"header\":\"share your feedback\",\"url\":\"/gp/sponsored-products/lazyload/handler/sp-feedback-handler.html?pl=3hpjz%2bijd3ovtcfeqxwh8uqdvtbwsv80af0kypln3hbmhz8r6f9tcm9fgf%2bvrgi6l9ve85lnikc2%0a646yazifmzs0cbvxnetfkgmocyegivjtwpyzwgium2ypgacmys9qpoxmaff7gsruhne2wtr4iko9%0amjljrka3lriujcpfy4wh0dyojsr2perdjvhajryijiaw7vfxs7iimk96ffkmzj0vprmvtwm6arov%0ay7gruiy6cvxx%2fkkykfc8qs9evoidliwpz%2boq%2b%2bn0ebtoevi8ai5inwv7fbaiibk3l4c9btga61iu%0a%2f3g8alq0oazexv%2b2ya1ut78l0mrh53cb9xpydtteswtxiusu3%2bbod%2fup3yfbuipadnn2zw8876ai%0aqs%2fropmdq06c5i3gidhi4jhbebhsbcxamx5wgfpc9m73%2bzwt2mvyzo%2bhnpjknydqptldk7x5yiie%0astzkneb%2blgt%2f%2bpwwetpij9kp3ydaiihydd1ztwxbhhs66zdab40ohdfncldivnkwcsubdefsudkr%0aitj4wtf20keq0mutnwq6qfc%2fvrl9ciz6v2txgwzcywbgnp3ed3ymq7wdaqbzl7agebevidhqrv8g%0a1mmzreskj9y91cae46csivbzn1mx7clrvwqmslp8clg%3d\"}\"> feedback baker ross rainbow fish weaving kits kids - summer craft sets children to make (pac... $9.95 (function(f) {f(window.p._namespace(\"firebirdsprendering\"));}(function(p) { p.when(\\'sponsoredproductsviewability\\').execute(function(sv) { sv.loadimagepixel(\"/gp/sponsored-products/logging/log-action.html?qualifier=1547007319&id=6146304044806485&widgetname=sp_detail2&adid=200003643780571&eventtype=2&adindex=2\"); }); })); (function(f) {f(window.p._namespace(\"firebirdsprendering\"));}(function(p) { p.when(\\'a\\', \\'sponsoredproductsviewability\\').execute(function(a, sv) { sv.registerviewtrackingelement(a.$(\"#sp_detail2_b0753h4mjb\"), \"sp_detail2\"); });})); \",\"closebutton\":\"false\",\"name\":\"sponsored-products-feedback-modal-sp_detail2\",\"width\":\"350\",\"header\":\"share your feedback\",\"url\":\"/gp/sponsored-products/lazyload/handler/sp-feedback-handler.html?pl=tnyo7bu4itian4ctebxxjvfbzvo9%2bbnggxlpxt1stpxmxbiag689qqkozak%2baj2na3ov51ziqgcv%0atipzvmplnnji7j3vy6cckmxa6czmxlpqny9szlessyt8v1qmst4cjqwedrnvhi6kbzcn%2byrykoxw%0avsxr8d%2fdacvnq5nss49wmrt5oheuvykxh1mury4mrfbcuecvxnfug9kyfeoabv79fph3cen%2fcl4s%0axnm9widug7%2flqmdwcunoxobq0%2bua1ow7yoxhvljxg4gc2dluwkh4vmip7ufpu7mhfzcjrxlh8vz7%0a9bzaiheluew8rotxwl98tyh4vpz4zefml1cy9r1teimcvc6hetue4ugvrkep4a2%2bozg2t2nzx1lp%0aob%2fkstifbyq7ixkc1zgxkvrf0zdjksdy%2bnmh6dhmmornhgvormjfggmyzd8gast7%2bsfxcp53gvey%0afvntjg2kyszcu5ezmj320xo9f42cmcj%2fnbdgdpp1zm7it2wuyr8sntzhgjwja9hhkzdiwf3bh9ih%0acn3jiwayicfpbbdig%2bkxqzzsewvm0mikrd9ldr9ruge4pjx%2f%2b0yef0csrae7mzhxqwpee0yspibc%0a4ij35srfoxrhptg%2bz82enkyvv%2fnhvdmzodj3z5ruldijrpnahrvkdg%3d%3d\"}\"> feedback loom kit, rubber bands refills set for kids bracelet loom craft, 10000pcs in 28 dif... 23 $17.99 (function(f) {f(window.p._namespace(\"firebirdsprendering\"));}(function(p) { p.when(\\'sponsoredproductsviewability\\').execute(function(sv) { sv.loadimagepixel(\"/gp/sponsored-products/logging/log-action.html?qualifier=1547007319&id=6146304044806485&widgetname=sp_detail2&adid=200007233957911&eventtype=2&adindex=3\"); }); })); (function(f) {f(window.p._namespace(\"firebirdsprendering\"));}(function(p) { p.when(\\'a\\', \\'sponsoredproductsviewability\\').execute(function(a, sv) { sv.registerviewtrackingelement(a.$(\"#sp_detail2_b00gu0y8pw\"), \"sp_detail2\"); });})); \",\"closebutton\":\"false\",\"name\":\"sponsored-products-feedback-modal-sp_detail2\",\"width\":\"350\",\"header\":\"share your feedback\",\"url\":\"/gp/sponsored-products/lazyload/handler/sp-feedback-handler.html?pl=nyxaddr53wqufywbpcvwkwnrjweqvm1wuzajzfel1mpqfqikmerzeumdopc3sdvmbyszrleftv%2fo%0axg32ybznan6jxxlymqzrmvkshmwbkkm6kenbjdkmwdcvqxzbazzif47mmbmbhka6wufkjw%2bpnj4k%0ajs9m%2bkjctxpbrbdion7klljoujegbnexlx5exhjvrx9z9xt6nswhvgwm0sfnxt7xi%2bw%2fnm%2b%2fzpw8%0atv%2bxs8ybob5mai2qm%2bavskyyumms4xmyeb5ijrcs8qivyszrx9z73w9uk%2f1mflk1ys9tivjhagrq%0atd9roplcftdjzs6ftrkv%2b6aoxcjjwwtd5in%2fu%2bic0xsnvt8ldsuf%2fylmsxsj7eqgwe7gzgoo1llt%0ahq7m8xlilkwzgh2znbrb%2fxkhnobdg3yporfrzqt8ekpeduw9nxyscabm1yk92pbiz5usr9niqn8p%0aqlf1snntmnpuzvs5tiq8h9kwwf3yiegywxui3knw5boqsj8oxx%2fv81rnxpnuq1waf841ajldajoo%0aptutcobwsustg3kcnqczdr3taa6o7ixfsfo2qva0ijz%2fzcyky7kykoqzlnlk4m9jy3qaxy88%2fzdy%0a%2f5knzslsrcgoaemksgnwbfmrrp5csuus\"}\"> feedback darice 624-piece stretch band bracelet loops and s-clips set, mix (rb1011) $4.66 (function(f) {f(window.p._namespace(\"firebirdsprendering\"));}(function(p) { p.when(\\'sponsoredproductsviewability\\').execute(function(sv) { sv.loadimagepixel(\"/gp/sponsored-products/logging/log-action.html?qualifier=1547007319&id=6146304044806485&widgetname=sp_detail2&adid=200010599939311&eventtype=2&adindex=4\"); }); })); (function(f) {f(window.p._namespace(\"firebirdsprendering\"));}(function(p) { p.when(\\'a\\', \\'sponsoredproductsviewability\\').execute(function(a, sv) { sv.registerviewtrackingelement(a.$(\"#sp_detail2_b07gjlsfsm\"), \"sp_detail2\"); });})); \",\"closebutton\":\"false\",\"name\":\"sponsored-products-feedback-modal-sp_detail2\",\"width\":\"350\",\"header\":\"share your feedback\",\"url\":\"/gp/sponsored-products/lazyload/handler/sp-feedback-handler.html?pl=w%2f3cyktdks1dqorlzlridxmpzpvh9iosaklpsvbn4g9tklvqmj%2bwquwakdnygxss03hesj%2bly7ps%0anhwa8mjrwxofwdeombac1dmh1etke6du5zgctvi9x1%2bmlcatyz1%2f4rspcqpf7dfx5khbnprftlqp%0a70r43v0ig6ov1xkgxv8ihwylwhv%2bnrb1p%2bjwxerww5mnkqwnvghnbas6bdkl3hzacsne3kbc%2bpfo%0apvq%2bmnyatliuosdq%2fltcs3tn7anvjn0g4ji6g8mdag71cjed2ttxjrwtkrfbgkdnr4ifoaz8bv5y%0asxmnw1ins4y0kdwib6cr3uoxoxkj6bzicr%2f0lcnl9og4vxcxefvcgqatb7i%2faz4z6pq3m5ashlj4%0aavyvkpmpc%2b0g7pgqoxrya5ux9zxyvudxcnesfmglgbtmvt4ou7ibnxlcmafwvqwrcf%2ben4hde3hf%0anjyalshhjgkfhnbtoyysoymtzlpc6nt85pjlpxbb%2fbcxwxwbezrifacxsvq6og%2f%2b%2bnye7ocgoupi%0avmc7liy2bckdp6s46vyqjfyk6%2fgsol%2fwrlz1yihqvltsgumwphrxkhc9a%2fb6cbw6uiwckx3%2f2gdw%0acdii3fveu2qjp7wz7yjm53hgqw4%2fe2qqtjtfk7hp4oo%3d\"}\"> feedback inscraft 11750+ rainbow rubber bands refill kit, 11,000 loom bands, 600 s-clips, 52... 19 $18.99 (function(f) {f(window.p._namespace(\"firebirdsprendering\"));}(function(p) { p.when(\\'sponsoredproductsviewability\\').execute(function(sv) { sv.loadimagepixel(\"/gp/sponsored-products/logging/log-action.html?qualifier=1547007319&id=6146304044806485&widgetname=sp_detail2&adid=200010473490661&eventtype=2&adindex=5\"); }); })); (function(f) {f(window.p._namespace(\"firebirdsprendering\"));}(function(p) { p.when(\\'a\\', \\'sponsoredproductsviewability\\').execute(function(a, sv) { sv.registerviewtrackingelement(a.$(\"#sp_detail2_b00j5u4l8s\"), \"sp_detail2\"); });})); \",\"closebutton\":\"false\",\"name\":\"sponsored-products-feedback-modal-sp_detail2\",\"width\":\"350\",\"header\":\"share your feedback\",\"url\":\"/gp/sponsored-products/lazyload/handler/sp-feedback-handler.html?pl=3lpjtgxghemafmrmwjreu%2f8jikec8qmkabskhmrrwmgmoqybjxe2cuxx%2bo1po6he9vkw0m%2bjb85x%0a1%2fc9nr9i1kgqbq9o4vcpdmg15%2fnxiad9wiybxsxrda6zbtdu4xcabkhjaotwgntfjny5dc3xmopx%0an6vyiwp%2bfokzddc5p2jpxwq%2b2tjgujlk7uleyrn0hlhvkjapplmnfeot8dwqqnleulteyuhuekoo%0ah3vjim9iv%2fsxicq19%2bnicxudm45shugcj9btkdx1torngxwgtokac%2byu9bopvwhosfv0%2fmppdtnl%0aqutonw6orje%2bnmokcb91njqasl2snzyv2xyv%2blaux7kwpi7%2btwgdeiaitreesc7n0ilhrk95cuog%0aqc3izglut%2flp8ac1lrnppobwejvk8stmdiexr0nxdkye7c2z4v3xnooo2u5jo5%2bvlgw3w8zljm47%0aqpv3tzqxslbkg6xdaq0bm3gg2vvm4%2blxxlg7rpbqu%2belnk43jgusqnj%2bezplulcfro0ei4dwtkgq%0a%2blptjt7azh3yj4671itwxbwcg0%2findse6owqp1ih%2bysql84n6jlxdf%2b5jprvi952fua%2fsvzvzmnr\"}\"> feedback rainbow loom tail upgrade kit - metal hook - pink 439 $6.48 (function(f) {f(window.p._namespace(\"firebirdsprendering\"));}(function(p) { p.when(\\'sponsoredproductsviewability\\').execute(function(sv) { sv.loadimagepixel(\"/gp/sponsored-products/logging/log-action.html?qualifier=1547007319&id=6146304044806485&widgetname=sp_detail2&adid=200003718382271&eventtype=2&adindex=6\"); }); })); (function(f) {f(window.p._namespace(\"firebirdsprendering\"));}(function(p) { p.when(\\'a\\', \\'sponsoredproductsviewability\\').execute(function(a, sv) { sv.registerviewtrackingelement(a.$(\"#sp_detail2_b01byhrux2\"), \"sp_detail2\"); });})); \",\"closebutton\":\"false\",\"name\":\"sponsored-products-feedback-modal-sp_detail2\",\"width\":\"350\",\"header\":\"share your feedback\",\"url\":\"/gp/sponsored-products/lazyload/handler/sp-feedback-handler.html?pl=9s2pmii91stlrrqqjfkdnvrop1uhceuzm1wn7fslhjk81%2fujovkd44yg8ojk23tzvrafgfsyen%2bs%0akyx8tyk0ejhf%2bf1c8jpvpb9hfglqmxbq%2fl4%2b0hnpsfkf0dnlii%2fonl%2fgazikgkks6qqn96%2fu28av%0aqgswdkrv9ahghhpk3wlj4kxgvwkhdv%2bghduqkbvbe5zmh7q1wgjupckqo3kjd93%2f5rrkcojwmlsl%0ae4qhi9alpk%2f4tl2oeqwvtygkbaixcnzqybyfmosy6g2c4idkfu%2buvduawblvoqfjb%2flkmub%2bsjvq%0agokvkqfnm5mr1%2fnnhyinkglsulgtestuocctylvdnal1zyqokbtu7kgijwqqxchbekkkmd%2btqkv%2f%0a4jjc2aq%2fnf79txkbi%2flkaf4hul3cqlwvjqgduchfc1ft7fqrrlfoqtbq71asphv50wgwnt4yawwt%0aqhusjpe5tpfj%2bh1nkxswsxwcj0yy65tkdgkyevgx46adictobvhws5bllmr2krssual6sya2fie%2b%0apqtdhozqhv9mmq7vgh93boavehomfkcaruvw9tlxg2doya9ngbt1eathxt%2bigsehtkiyku2ve9pd%0a9hw7999lfxq%3d\"}\"> feedback folk toys 1 pound of cotton loops for wooden weaving looper loom 5 $18.95 (function(f) {f(window.p._namespace(\"firebirdsprendering\"));}(function(p) { p.when(\\'sponsoredproductsviewability\\').execute(function(sv) { sv.loadimagepixel(\"/gp/sponsored-products/logging/log-action.html?qualifier=1547007319&id=6146304044806485&widgetname=sp_detail2&adid=200006571925361&eventtype=2&adindex=7\"); }); })); (function(f) {f(window.p._namespace(\"firebirdsprendering\"));}(function(p) { p.when(\\'a\\', \\'sponsoredproductsviewability\\').execute(function(a, sv) { sv.registerviewtrackingelement(a.$(\"#sp_detail2_b00e2k95fk\"), \"sp_detail2\"); });})); \",\"closebutton\":\"false\",\"name\":\"sponsored-products-feedback-modal-sp_detail2\",\"width\":\"350\",\"header\":\"share your feedback\",\"url\":\"/gp/sponsored-products/lazyload/handler/sp-feedback-handler.html?pl=zebtccq2lrdhovmernb2nvw2efjeh4xxen8jn5oqsiqehgpcgckhvgteb78nv7%2bjlkhkrrai6quo%0afytvqovk4vv8x8uxy4camo5xnmbmeongtcufxq82totqlfwjx1n6da%2bgzfxleuwy9%2fpzxtunb1yc%0apmmv%2fm%2bxr28elwef23brzbextvxnnba%2b0veefqemjyvbofuhdzba9gbtrjwgrhq6haeuf5npi6up%0adugx8bhfcpkgtfbw3tphjrfh2x886zru7iaknrhdrwbxuw1nisrog39g18tlicrzevl2wo7zs250%0alg8faeoz%2fywtrtehmrl1njtfah60mqcw0tqyilkoijjsxoltneb6uh9cytkuwrchnewstovan%2fv0%0aqj3oohyjm6baavp4mqvdvcche2j0jlsvhsawojctq1naonkpauqe2qpcahoeoha0ajyq5%2f5uol8%2b%0alglqibz0dpmfl6caq1yt5rmwd0sniz8dfnxubwsevg%2f7mecgofapwpr8oywaeliqngrjmggyrsv6%0aefrvel5zgpmthfil0jdebiu9wdprjumvclrbrldb4gqlcwrl02ta11zokttnhts6oguy91kql0el%0as7a8seibrtheappkk3cw4osvj7kfwit%2bfgatg069hidkv1%2fld7chiw%3d%3d\"}\"> feedback loom rubber bands - 4800 pc rubber band refill mega value pack with clips (rainbow ... 495 $9.99 (function(f) {f(window.p._namespace(\"firebirdsprendering\"));}(function(p) { p.when(\\'sponsoredproductsviewability\\').execute(function(sv) { sv.loadimagepixel(\"/gp/sponsored-products/logging/log-action.html?qualifier=1547007319&id=6146304044806485&widgetname=sp_detail2&adid=200005354929711&eventtype=2&adindex=8\"); }); })); (function(f) {f(window.p._namespace(\"firebirdsprendering\"));}(function(p) { p.when(\\'a\\', \\'sponsoredproductsviewability\\').execute(function(a, sv) { sv.registerviewtrackingelement(a.$(\"#sp_detail2_b01ju1ix9o\"), \"sp_detail2\"); });})); \",\"closebutton\":\"false\",\"name\":\"sponsored-products-feedback-modal-sp_detail2\",\"width\":\"350\",\"header\":\"share your feedback\",\"url\":\"/gp/sponsored-products/lazyload/handler/sp-feedback-handler.html?pl=claf7qkmbwdc5r8xrfmyev%2fbzyffg0aiuwuy6pxoqayydlncdivwt%2bng7fkmv6e3dyhvjqw103st%0ao1ns7wwstewb2gbswaqagvsftv1flzbasfw7ifdl4zt6xfpclghrjxrmvzq6oy51kjmttfhsw1kk%0aitms7cbpyxbuzl4sqxcwhds1vvwkejkwe5dfsup1pcs7ibjj02xdtci%2fpfbs%2bsnypblkoxh0iilc%0a85omzg%2bifaozsawcih5ndcnffu9cr83k2ctk8lelbbunar8qbcu6%2bop72pvd6lfe%2fobqum0oku4v%0akxp7wffuxlgp5i%2bwaaxd5o%2bytxanbafa24%2bpwr1y7lch7%2bahd7rxxdmpp2yndjj0v7cyxo0dpk5g%0ayjcfvalz08g%2ftvb%2fz3p4frpg%2f6axp3ce4nykkuxvz9nelkdjo4v6t6o4vrpupc%2bg5xswz9sjy0eg%0acv56r%2fitqktglnaigutqp5vs2zhy7quk%2bqnuaauuuowenvwth6%2bqqhuzdyyiffd542cu29sr4l8k%0aaa1oxpxdbtjsyex31b8oro0nyzuqgnp45fur8uh5yhzwtiaukn2hf%2bc1wvkcsi%2bytosksu8w7epy%0au4tsgvxkmmit%2bzfyus8fnht3nst%2flephy60fwuuox6fl6pdrrb2drg%3d%3d\"}\"> feedback ststech diy loom refill kit for crafting gadgets friendship bracelet -5500 rubber b... 52 $12.75 (function(f) {f(window.p._namespace(\"firebirdsprendering\"));}(function(p) { p.when(\\'sponsoredproductsviewability\\').execute(function(sv) { sv.loadimagepixel(\"/gp/sponsored-products/logging/log-action.html?qualifier=1547007319&id=6146304044806485&widgetname=sp_detail2&adid=200010473813961&eventtype=2&adindex=9\"); }); })); (function(f) {f(window.p._namespace(\"firebirdsprendering\"));}(function(p) { p.when(\\'a\\', \\'sponsoredproductsviewability\\').execute(function(a, sv) { sv.registerviewtrackingelement(a.$(\"#sp_detail2_b00tp5ddfk\"), \"sp_detail2\"); });})); \",\"closebutton\":\"false\",\"name\":\"sponsored-products-feedback-modal-sp_detail2\",\"width\":\"350\",\"header\":\"share your feedback\",\"url\":\"/gp/sponsored-products/lazyload/handler/sp-feedback-handler.html?pl=epzyc3ikp3x06pum5qnabmdjcmoavsik860y645vzc6t2olti8hb7s0kg9gqymp2qpjd%2fmnhauyp%0ainq26rcvtfhhzoppcegxethxupigxyjdr29o%2b7quwwnxdyo5qtdlhatjxssgnqlylcmnwlxksxqs%0avc%2fidysvynkwmmlzc5ruyoyjr%2bo6%2f96nzjyj%2bsn6xpieyojuh7vj99zhlpyybhls6mljhp6mldqg%0awu2%2fvep6kqy7jtufbpninmko9shkt1ujfjbdlqekaj3hg970vmhuyt0bfunyw2hkqwrecdw1czmz%0a0obxz24m2f%2bufcnhh2kigd0ue9vul7kru63zwp2hbcuhxo0t9xbzl9wkrbsor%2bpuse3xml15s4xe%0axtnndr7jrxg4kaorchx%2b2mpkx7crt5ydfpddog8zr96xtkvcxhq3lxpuc6v7uclxckx7qvuqtbfm%0alrgldkmyvt09gnt7k%2fpud76oofcwdnof2ayuw%2fepquwucjnljbkpwu7i27egfddrugap6rnkh%2bgl%0awil1tmha%2bk25uacxdryrmhms4bsa4i2%2bok6rnbnustw6q9ws2hhttgy2uylbvhbixnfj29ebl5sp%0apx0npe%2fkcr4rfmkw16ezjhxkw%2bfgxhle%2b8v5yoy2t64%3d\"}\"> feedback authentic rainbow loom confetti jelly bands | 600 bands & 24 c-clips | limited edit... 89 $4.55 next page of related sponsored products ad feedback (function(f) {f(window.p._namespace(\"firebirdsprendering\"));}(function(p) { p.when(\\'a\\', \\'a-carousel-framework\\', \\'amazonclicks\\').execute(function (a, cf, ac) { cf.getcarousel(document.getelementbyid(\"sp_detail2\")); ac.registerfeedbackevents(\"sp_detail2_carousel\", \"sp_detail2_feedbackmessage\", \"ad feedback\", \"hide feedback\", \"pa_feedbackform_container_sp_detail2\"); }); p.when(\\'a\\', \\'sphat\\').execute(function(a, sphat) { var containerselector = \"#sp_detail2 div\"; var elementsallowedtobehidden = [\\'script\\', \\'div.sp_adid\\', \\'div.pa_feedbackform_container_sp_detail2\\', \\'span.a-declarative\\', \\'span.aok-hidden\\', \\'input[type=hidden]\\', \\'noscript\\']; var csmcountermetricname = \\'sp_detail2.adb\\'; var hadimpact = sphat.checkforhiddenelements(containerselector, elementsallowedtobehidden, csmcountermetricname); a.state(\"sp_detail2\", { adblockerhadimpact: hadimpact}); }); p.when(\\'sponsoredproductsviewability\\').execute(function(sv) { sv.registerauievents([\\'ready\\', \\'scroll\\', \\'resize\\', \\'orientationchange\\']); });})); (window.amazonuipagejs ? amazonuipagejs : p).load.js(\\'https://images-na.ssl-images-amazon.com/images/i/51uouboiatl.js?auiclients/askauiassets#155248-t1.170181-t1.169174-t1.153429-t1\\'); (function(f) {f(window.p._namespace(\"askauiassets\"));}(function(p) { window.p && p.when(\\'jquery\\', \\'ready\\').execute(function($) { var btf = $(\\'#ask-btf_feature_div\\'); if ($(\\'html\\').is(\\'.a-lt-ie10\\')) { var assetslink = btf.find(\\'link\\').attr(\\'href\\'); document.stylesheets[document.stylesheets.length - 1].addimport(assetslink); } else { btf.find(\\'script, link\\').appendto(\\'head\\'); } var atf = $(\\'.askatflink\\'); atf.attr(\"href\", \"#ask\"); }); })); customer questions & answers see questions and answers (function(f) {f(window.p._namespace(\"askauiassets\"));}(function(p) { (function(p){ p.when(\"jquery\").execute(function($){ \"use strict\"; $(\\'.cdquestionanswerbucket\\').height(432); }); })(window.amazonuipagejs || window.p); })); (window.amazonuipagejs ? amazonuipagejs : p).load.js(\\'https://images-na.ssl-images-amazon.com/images/i/1125ldejral.js?auiclients/detailpagelazyloadlibassets\\'); p.when(\"jquery\", \"lazyloadlib\",\"ready\").execute(function ($) { $(\\'#ask_lazy_load_div\\').lazyloadcontent({ threshold : 800, url: \"/gp/ask-widget/askwidget.html?asin=b00e9kmag4&askerror=&askmessage=&wdg=toy_display_on_website&asklanguage=&requestid=7mt6246dwaxbc9zydjwr\", metrics : true, name : \\'ask_btf\\', cache : false }); }); (window.amazonuipagejs ? amazonuipagejs : p).load.js(\\'https://images-na.ssl-images-amazon.com/images/i/31efok3oa7l._rc|11zk+fpvdvl.js,01vtmkfx-gl.js,11xqmwsdhfl.js,21cvg-diyql.js_.js?auiclients/desktopmedleyfilteringmetaasset\\'); 35 customer reviews 4.3 out of 5 stars 4.3 out of 5 stars 5 star 83% 4 star 11% 3 star 3 star (0%) 0% 2 star 2 star (0%) 0% 1 star 6% by customer groups & interests crafts & hobbies 3.8 toys 4.0 is this feature helpful? yes no thank you for your feedback. review this product share your thoughts with other customers write a customer review showing 1-8 of 35 reviews top reviews most recent top reviews there was a problem filtering reviews right now. please try again later. eryn lee 5.0 out of 5 stars bright, colorful and in pefect condition july 28, 2016 verified purchase i have a five and six year old and also a nine year old step son. they have gotten into this looming rage along with all the rest of the country, it seems like haha. they love to make bracelets and necklaces, and they are now taking on challenging designs such as crosses. we bought them a loom starter kit from walmart that came with the clear clips that you need to attach at the ends of the bracelets and the necklaces, when we ran out of those 200 rubberbands or so i started looking around for more. i was blown away when i found quidsi cra-z art loom ultimate refill for under $3!!! everywhere i was looking was super expensive. i was able to get a great deal on here and was very satisfied with my order. the package was in great condition and so was the loom refill box itself. the bands were in baggies to make them easily accessible and keep them separated. there were astounded when i told them there were over 2,000 bands in there, they were just shocked. they were so happy with it also, they loved all the colors, they are so bright and you really get great colors with it. red, black, white, green, yellow, blue, and pink, boys and girls alike are happy with these!! my 9 year old step son made a black and blue necklace right away and was just instantly hooked and has been hooked all summer. it has kept them super busy and that\\'s all you can really ask for in a toy. so happy i was able to find them this great product at a great price and i can\\'t wait until were knee deep in bracelets and necklaces and crosses and making our next order. haha. read more helpful comment report abuse mcali17 5.0 out of 5 stars kids love them. work with their looms and now we ... october 11, 2017 verified purchase kids love them. work with their looms and now we have more bracelets than we will ever know what to do with. read more helpful comment report abuse debra 5.0 out of 5 stars using for loom knitting markers! june 28, 2016 verified purchase using these rubber bands as markers for my loom knitting and they work great. needed more colors for elaborate patterns and these fit the bill - and the pegs on my loom! read more helpful comment report abuse terrill rayner 5.0 out of 5 stars five stars september 3, 2017 verified purchase excellent....!!!! read more helpful comment report abuse fam t 5.0 out of 5 stars phenomenal march 15, 2016 verified purchase phenomenal, bought it for my sisters birthday and she went crazy with it making all sorts of things. read more helpful comment report abuse tara b. 5.0 out of 5 stars nice refill option! march 17, 2014 verified purchase i love this brand! the quality of the bands is remarkable! they are very flexable with out breaking! i will order more soon! i would recommend this for anyone looking for good quality refill bands! read more one person found this helpful helpful comment report abuse hopeful 5.0 out of 5 stars five stars may 17, 2016 verified purchase granddaughter loved it! she\\'s 10 read more helpful comment report abuse harplady 5.0 out of 5 stars gift for niece january 12, 2014 verified purchase she had this on her christmas wish list and when she opened it she said she would put it to use right away. read more one person found this helpful helpful comment report abuse see all 35 reviews write a customer review var isaui = typeof p === \\'object\\' && typeof p.when === \\'function\\'; if(typeof setcsmreq == \\'function\\') { setcsmreq(\\'cf\\'); }else { if(typeof uet == \\'function\\') { uet(\\'cf\\'); } if(isaui){ p.trigger(\"cf\"); }else{ amznjq.completedstage(\\'amznjq.criticalfeature\\'); } } (window.amazonuipagejs ? amazonuipagejs : p).when(\\'cf\\').execute(function(){ (window.amazonuipagejs ? amazonuipagejs : p).load.js(\\'https://images-na.ssl-images-amazon.com/images/i/21zvykotn9l._rc|21qo8dw80kl.js,11hnuzlwa7l.js,01ghkb2usnl.js_.js?auiclients/hardlinesfeaturedetailpagemetaasset\\'); }); if(typeof p !== \"undefined\" && typeof p.when === \"function\"){ p.when(\\'cf\\').execute(function() { p.when(\\'search-js-jq\\').execute(function(){}); p.when(\\'amazonshoveler\\').execute(function(){}); p.when(\\'simsjs\\').execute(function(){}); p.when(\\'cmuannotations\\').execute(function(){}); p.when(\\'externaljs.tagging\\').execute(function(){}); p.when(\\'amzn-ratings-bar\\').execute(function(){}); p.when(\\'accessoriesjs\\').execute(function(){}); p.when(\\'priceformatterjs\\').execute(function(){}); p.when(\\'customerpopover\\').execute(function(){}); }); } // this will fetch the resource in a low impact way from the experiment server. // executeonload will prevent fetching the resource until everything else on the page has loaded. var cloudfrontimg = new image(); var shouldexecuteonload = (\"1\" == \"1\"); if (shouldexecuteonload) { if (window.addeventlistener) { window.addeventlistener(\"load\", function() { settimeout(function(){ cloudfrontimg.src = \"//cloudfront-labs.amazonaws.com/x.png\"; }, 400);}, false); } else if (window.attachevent) { window.attachevent(\"onload\", function() { settimeout(function(){ cloudfrontimg.src = \"//cloudfront-labs.amazonaws.com/x.png\"; }, 400);}); } } else { settimeout(function(){ cloudfrontimg.src = \"//cloudfront-labs.amazonaws.com/x.png\"; }, 400); } (window.amazonuipagejs ? amazonuipagejs : p).when(\\'atf\\').execute(function(){ (window.amazonuipagejs ? amazonuipagejs : p).load.js(\\'https://images-na.ssl-images-amazon.com/images/i/31i6nvdevdl.js?auiclients/pagerefreshasset#123392-t1\\'); }); p.register(\\'page-refresh-js-init-mason-data\\', function() { var datatoreturn = {\"divtoupdatedata\":{\"twister\":{\"dpx-product-description\":{\"divtoupdate\":\"dpx-product-description_feature_div\"},\"dpx-btf-renewed-program-description\":{\"divtoupdate\":\"dpx-btf-renewed-program-description_feature_div\"},\"dpx-upsell-downsell-widget\":{\"divtoupdate\":\"dpx-upsell-downsell-widget_feature_div\"},\"twister-cf-marker\":{\"divtoupdate\":\"twister-cf-marker_feature_div\"},\"cpsia-product-safety-warning\":{\"divtoupdate\":\"cpsia-product-safety-warning_feature_div\"},\"dp-ads-center-promo\":{\"divtoupdate\":\"dp-ads-center-promo_feature_div\"},\"sims-consolidated-4\":{\"divtoupdate\":\"sims-consolidated-4_feature_div\"},\"dp-fast-track-logger\":{\"divtoupdate\":\"dp-fast-track-logger_feature_div\"},\"dp-ads-middle\":{\"divtoupdate\":\"dp-ads-middle_feature_div\"},\"dp-ads-center-promo-top\":{\"divtoupdate\":\"dp-ads-center-promo-top_feature_div\"},\"dpx-ajax-block-components\":{\"divtoupdate\":\"dpx-ajax-block-components_feature_div\"},\"ask-dp-search\":{\"divtoupdate\":\"ask-dp-search_feature_div\"},\"va-related-videos-widget\":{\"divtoupdate\":\"va-related-videos-widget_feature_div\"},\"sims-consolidated-2\":{\"divtoupdate\":\"sims-consolidated-2_feature_div\"},\"dp-out-of-stock-top\":{\"divtoupdate\":\"dp-out-of-stock-top_feature_div\"},\"dvd-rental-badge\":{\"divtoupdate\":\"dvd-rental-badge_feature_div\"},\"dpx-giveaway\":{\"divtoupdate\":\"dpx-giveaway_feature_div\"},\"andon-cord-pulling\":{\"divtoupdate\":\"andon-cord-pulling_feature_div\"},\"mags-dp-msg1\":{\"divtoupdate\":\"mags-dp-msg1_feature_div\"},\"view-dpv-rich-media-2\":{\"divtoupdate\":\"view-dpv-rich-media-2_feature_div\"},\"dpx-aplus-product-description\":{\"divtoupdate\":\"dpx-aplus-product-description_feature_div\"},\"important-information\":{\"divtoupdate\":\"important-information_feature_div\"},\"view-dpv-rich-media-1\":{\"divtoupdate\":\"view-dpv-rich-media-1_feature_div\"},\"dpx-btf-bundle\":{\"divtoupdate\":\"dpx-btf-bundle_feature_div\"},\"dpx-btf-hlcx-comparison\":{\"divtoupdate\":\"dpx-btf-hlcx-comparison_feature_div\"},\"qpe-title-tag\":{\"divtoupdate\":\"qpe-title-tag_feature_div\"},\"product-details-grid\":{\"divtoupdate\":\"product-details-grid_feature_div\"},\"twister-atf-marker\":{\"divtoupdate\":\"twister-atf-marker_feature_div\"},\"petronas-promo-right-col\":{\"divtoupdate\":\"petronas-promo-right-col_feature_div\"},\"hero-quick-promo-grid\":{\"divtoupdate\":\"hero-quick-promo-grid_feature_div\"},\"sims-consolidated-3\":{\"divtoupdate\":\"sims-consolidated-3_feature_div\"},\"ask-btf\":{\"divtoupdate\":\"ask-btf_feature_div\"},\"dpx-legal\":{\"divtoupdate\":\"dpx-legal_feature_div\"},\"twister-log-metrics\":{\"divtoupdate\":\"twister-log-metrics_feature_div\"},\"services-widget-2\":{\"divtoupdate\":\"services-widget-2_feature_div\"},\"promotions\":{\"divtoupdate\":\"promotions_feature_div\"},\"services-widget-1\":{\"divtoupdate\":\"services-widget-1_feature_div\"},\"dpx-btf-bundle-discoverability\":{\"divtoupdate\":\"dpx-btf-bundle-discoverability_feature_div\"},\"product-alert-grid\":{\"divtoupdate\":\"product-alert-grid_feature_div\"},\"dpx-image-block-variations\":{\"divtoupdate\":\"dpx-image-block-variations_feature_div\"},\"dpx-aplus-3p-product-description\":{\"divtoupdate\":\"dpx-aplus-3p-product-description_feature_div\"},\"sims-consolidated-1\":{\"divtoupdate\":\"sims-consolidated-1_feature_div\"}},\"location\":{},\"rentbuybox\":{},\"newbuybox\":{}}}; //selectively not escaping this. return datatoreturn; }); {\"pagerefreshurlparams\":{\"sid\":\"144-0926512-6230417\",\"ptd\":\"toys_and_games\",\"json\":\"1\",\"dpxajaxflag\":\"1\",\"scac\":\"1\",\"isudpflag\":\"1\",\"twisterview\":\"glance\",\"ee\":\"2\",\"pgid\":\"toy_display_on_website\",\"nodeid\":\"165793011\",\"rid\":\"7mt6246dwaxbc9zydjwr\",\"parentasin\":\"b00e9kmag4\",\"enpre\":\"1\",\"dcm\":\"1\",\"asinlist\":\"b00e9kmag4\",\"auiajax\":\"1\",\"storeid\":\"toys-and-games\"}} (window.amazonuipagejs ? amazonuipagejs : p).load.js(\\'https://images-na.ssl-images-amazon.com/images/i/612jlcvojql.js?auiclients/detailpageimageblockassets#153723-t1.169593-t1\\'); p.when(\\'a\\', \\'jquery\\', \\'imageblockatf\\', \\'cf\\').register(\\'imageblockbtf\\', function(a, $, imageblockatf, cf){ var data = {}; var obj = jquery.parsejson(\\'{\"datainjson\":null,\"alwaysincludevideo\":true,\"autoplayvideo\":false,\"defaultcolor\":\"initial\",\"mainimagesizes\":[[\"355\",\"355\"],[\"450\",\"450\"],[\"425\",\"550\"],[\"466\",\"606\"],[\"522\",\"679\"],[\"569\",\"741\"],[\"679\",\"879\"]],\"maxalts\":7,\"altsonleft\":true,\"productgroupid\":\"toy_display_on_website\",\"lazyloadexperiencedisabled\":true,\"lazyloadexperienceonhoverdisabled\":false,\"usechromelessvideoplayer\":false,\"colortoasin\":{},\"refactorenabled\":true,\"useiv\":true,\"views\":[\"imageblockmagnifierview\",\"imageblockaltimageview\",\"imageblockvideoview\",\"imageblocktwisterview\",\"imageblockimmersiveviewimages\",\"imageblockimmersiveviewvideos\",\"imageblockimmersiveview360\",\"imageblocktabbedimmersiveview\"],\"enhancedhoveroverlay\":false,\"landingasincolor\":\"initial\",\"colorimages\":{},\"heroimages\":{},\"enable360map\":{},\"staticimages\":{\"hoverzoomicon\":\"https://images-na.ssl-images-amazon.com/images/g/01/img11/apparel/ux/dp/icon_zoom._cb138923886_.png\",\"zoomlensbackground\":\"https://images-na.ssl-images-amazon.com/images/g/01/apparel/rcxgs/tile._cb483369105_.gif\",\"zoomincur\":\"https://images-na.ssl-images-amazon.com/images/g/01/detail-page/cursors/zoomin._cb323082799_.cur\",\"arrow\":\"https://images-na.ssl-images-amazon.com/images/g/01/javascripts/lib/popover/images/light/sprite-vertical-popover-arrow._cb186877868_.png\",\"zoomin\":\"https://images-na.ssl-images-amazon.com/images/g/01/detail-page/cursors/zoom-in._cb184888790_.bmp\",\"zoomout\":\"https://images-na.ssl-images-amazon.com/images/g/01/detail-page/cursors/zoom-out._cb184888738_.bmp\",\"videothumbicon\":\"https://images-na.ssl-images-amazon.com/images/g/01/quarterdeck/en_us/images/video._cb183716339_ss40_.gif\",\"spinnernolabel\":\"https://images-na.ssl-images-amazon.com/images/g/01/ui/loadindicators/loading-large._cb192238965_.gif\",\"zoomoutcur\":\"https://images-na.ssl-images-amazon.com/images/g/01/detail-page/cursors/zoomout._cb323082798_.cur\",\"videoswfpath\":\"https://images-na.ssl-images-amazon.com/images/g/01/quarterdeck/en_us/video/20110518115040892/video._cb178668404_.swf\",\"grabbing\":\"https://images-na.ssl-images-amazon.com/images/g/01/homecustomproduct/grabbingbox._cb518076765_.cur\",\"icon360\":\"https://images-na.ssl-images-amazon.com/images/g/01/homecustomproduct/360_icon_73x73v2._cb510686333_ss40_.png\",\"grab\":\"https://images-na.ssl-images-amazon.com/images/g/01/homecustomproduct/grabbox._cb518076765_.cur\",\"spinner\":\"https://images-na.ssl-images-amazon.com/images/g/01/ui/loadindicators/loading-large_labeled._cb192238949_.gif\"},\"staticstrings\":{\"images\":\"images\",\"watchmorevideos\":\"click to see more videos\",\"allmedia\":\"all media\",\"dragtospin\":\"drag to spin\",\"videos\":\"videos\",\"video\":\"video\",\"rollovertozoom\":\"roll over image to zoom in\",\"clicktoexpand\":\"click image to open expanded view\",\"playvideo\":\"click to play video\",\"touchtozoom\":\"touch the image to zoom in\",\"multiplevideos\":\"videos\",\"singlevideo\":\"video\",\"pleaseselect\":\"please select\",\"close\":\"close\",\"clicktozoom\":\"click on image to zoom in\"},\"usechildvideos\":true,\"useclickzoom\":false,\"usehoverzoom\":true,\"usehoverzoomipad\":false,\"visualdimensions\":[],\"mainimageheightpartitions\":null,\"mainimagemaxsizes\":null,\"herofocalpoint\":null,\"showmagnifieronhover\":false,\"disablehoveronaltimages\":false,\"overridealtimageclickaction\":false,\"naturalmainimagesize\":null,\"imgtagwrapperclasses\":null,\"prioritizevideos\":false,\"usepeekhover\":false,\"fademagnifier\":false,\"repositionheroimage\":false,\"herovideovariant\":null,\"videos\":[],\"title\":\"cra-z-art cra-z-loom ultimate color craze refill\",\"airyconfig\":{\"jsurl\":\"https://images-na.ssl-images-amazon.com/images/g/01/vap/video/airy2/prod/2.0.1460.0/js/airy.skin._cb513066589_.js\",\"cssurl\":\"https://images-na.ssl-images-amazon.com/images/g/01/vap/video/airy2/prod/2.0.1460.0/css/beacon._cb513066589_.css\",\"swfurl\":\"https://images-na.ssl-images-amazon.com/images/g/01/vap/video/airy2/prod/2.0.1460.0/flash/airybasicrenderer._cb513066589_.swf\",\"forestermetadataparams\":{\"marketplaceid\":\"atvpdkikx0der\",\"clientid\":\"dpx\",\"method\":\"toy.imageblock\",\"requestid\":\"7mt6246dwaxbc9zydjwr\",\"session\":\"144-0926512-6230417\"}},\"productreeltreatment\":\"t2\",\"vsevideodatasourcetreatment\":\"t1\",\"mediaasin\":\"b00e9kmag4\",\"largesclvideothumbnail\":false,\"displayvideobanner\":false,\"dprequestid\":\"7mt6246dwaxbc9zydjwr\"}\\'); data[\"alwaysincludevideo\"] = obj.alwaysincludevideo ? 1 : 0; data[\"autoplayvideo\"] = obj.autoplayvideo ? 1 : 0; data[\"defaultcolor\"] = obj.defaultcolor; data[\"maxalts\"] = obj.maxalts; data[\"altsonleft\"] = obj.altsonleft; data[\"newvideomissing\"] = obj.newvideomissing; data[\"lazyloadexperiencedisabled\"] = obj.lazyloadexperiencedisabled; data[\"lazyloadexperienceonhoverdisabled\"] = obj.lazyloadexperienceonhoverdisabled; data[\"usechromelessvideoplayer\"] = obj.usechromelessvideoplayer ? 1 : 0; data[\"colortoasin\"] = obj.colortoasin; data[\"ivrepresentativeasin\"] = obj.ivrepresentativeasin; data[\"ivimagesetkeys\"] = obj.ivimagesetkeys; data[\"useiv\"] = obj.useiv ? 1 : 0; data[\"views\"] = obj.views; data[\"enhancedhoveroverlay\"] = obj.enhancedhoveroverlay; data[\"landingasincolor\"] = obj.landingasincolor; data[\"colorimages\"] = obj.colorimages; data[\"heroimage\"] = obj.heroimages; data[\"spin360colorenabled\"] = obj.enable360map; data[\"staticimages\"] = obj.staticimages; data[\"staticstrings\"] = obj.staticstrings; data[\"usechildvideos\"] = obj.usechildvideos ? 1 : 0; data[\"useclickzoom\"] = obj.useclickzoom ? 1 : 0; data[\"usehoverzoom\"] = obj.usehoverzoom ? 1 : 0; data[\"usehoverzoomipad\"] = obj.usehoverzoomipad ? 1 : 0; data[\"visualdimensions\"] = obj.visualdimensions; data[\"islargesclvideothumbnail\"] = obj.largesclvideothumbnail; data[\"mainimagesizes\"] = obj.mainimagesizes; data[\"displayvideobanner\"] = obj.displayvideobanner; data[\"mainimageheightpartitions\"] = obj.mainimageheightpartitions; data[\"mainimagemaxsizes\"] = obj.mainimagemaxsizes; data[\"herofocalpoint\"] = obj.herofocalpoint; data[\"showmagnifieronhover\"] = obj.showmagnifieronhover ? 1 : 0; data[\"disablehoveronaltimages\"] = obj.disablehoveronaltimages ? 1 : 0; data[\"overridealtimageclickaction\"] = obj.overridealtimageclickaction ? 1 : 0; data[\"naturalmainimagesize\"] = obj.naturalmainimagesize; data[\"imgtagwrapperclasses\"] = obj.imgtagwrapperclasses; data[\"prioritizevideos\"] = obj.prioritizevideos; data[\"usepeekhover\"] = obj.usepeekhover; data[\"fademagnifier\"] = obj.fademagnifier; data[\"repositionheroimage\"] = obj.repositionheroimage; data[\"herovideovariant\"] = obj.herovideovariant; data[\"videos\"] = obj.videos; data[\"productgroupid\"] = obj.productgroupid; data[\"title\"] = obj.title; data[\"airyconfig\"] = obj.airyconfig; data[\"isdpxfeatureenabled\"] = true; data[\"tabbedimmersiveviewtreatment\"] = obj.productreeltreatment; data[\"vsevideodatasourcetreatment\"] = obj.vsevideodatasourcetreatment; data[\"dprequestid\"] = obj.dprequestid; data[\"mediaasin\"] = obj.mediaasin; return data; }); p.when(\\'a\\',\\'jquery\\').execute(\\'triggervideoajax\\', function(a){ var obj = jquery.parsejson(\\'{\"datainjson\":null,\"colorimages\":{},\"videos\":[],\"lazyloadexperiencedisabled\":true,\"lazyloadexperienceonhoverdisabled\":false,\"refactorenabled\":false,\"mainimagesizes\":[[\"355\",\"355\"],[\"450\",\"450\"],[\"425\",\"550\"],[\"466\",\"606\"],[\"522\",\"679\"],[\"569\",\"741\"],[\"679\",\"879\"]]}\\'); a.trigger(\\'triggervideoajax\\',obj.videos); }); customers who viewed this item also viewed page 1 of 1 start over page 1 of 1 this shopping feature will continue to load items. in order to navigate out of this carousel please use your heading shortcut key to navigate to the next or previous heading. back cra-z-art cra-z-loom ultimate collector case with 1800 rubber bands, 50 s clips and alphabet sticker sheet 4.6 out of 5 stars 58 $5.54 cra-z-art shimmer \\'n sparkle cra-z-loom bracelet maker 4.2 out of 5 stars 378 $22.95 cra-z-art wonderful weaves (12413) 4.3 out of 5 stars 59 $10.21 cra-z-loom super cra-z-loom 3.2 out of 5 stars 5 $29.99 made by me craft loops refill by horizon group usa 4.3 out of 5 stars 171 $4.95 talented kidz 11,750+ authentic rainbow mega refill loom: set w/10,750 premium quality rubber bands, 30 charms, 200 beads, abc stickers to personalize your case, 550 clips, 9 backpack hooks, organizer 4.7 out of 5 stars 1,958 # 1 best seller in weaving loom tools… $19.50 next if (history && history.replacestate) { var url = window.location.href; var urlparts = url.split(\\'?\\'); if (urlparts.length >= 2) { var prefix = encodeuricomponent(\"spla\") + \\'=\\'; var parts = urlparts[1].split(/[&;]/g); for (var i = parts.length; i-- > 0;) { if (parts[i].lastindexof(prefix, 0) !== -1) { parts.splice(i, 1); } } url = urlparts[0] + (parts.length > 0 ? \\'?\\' + parts.join(\\'&\\') : \"\"); window.history.replacestate({}, document.title, url); } } pages with related products. see and discover other items: loom bracelets , bracelet loom // only execute if performance object is defined in js if(typeof performance!= \"undefined\" && typeof performance.getentries != \"undefined\") { var metaassetnames = []; metaassetnames.push(\"ushardlinesdetailpagemetaassetfixed\"); metaassetnames.push(\"ushardlinesdetailpagemetaassetvariable_turbo_desktop\"); if(metaassetnames.length > 0) { for(assetindex = 0; assetindex (window.amazonuipagejs ? amazonuipagejs : p).when(\\'a\\').execute(function(a){ if(a.preload){ a.preload(\\'https://images-na.ssl-images-amazon.com/images/i/61fluid2l-l._rc|11iyhapguol.js,61vqrvc280l.js,21isnz47xol.js,012fvc3131l.js,119kawlhu6l.js,31fv8bqhlol.js,31rekjl2x6l.js,51wivjzk7vl.js,11ahlqhprjl.js,01natrwbnul.js,11anyffs5hl.js,116tgw9tsal.js,21auxui+drl.js,01polxbdxwl.js,61gdyz5kyql.js,01mi-j86cyl.js,11bogvnnntl.js,31sg6rlhlbl.js,01rpautep4l.js,01iyxusgj4l.js,01chxuhdzsl.js_.js?auiclients/amazonui#177619-t1.144375-t1\\'); a.preload(\\'https://images-na.ssl-images-amazon.com/images/i/61debwgm5il._rc|01evdoiemkl.css,01k+ps1deel.css,31badtwq3tl.css,11ff1zzjodl.css,11ugc+gxopl.css,21lk7jaicml.css,11l58qpo0gl.css,21eugtxgpol.css,01xl9kigtzl.css,01yhs3cs-hl.css,21gwe3cr-yl.css,019shznt8rl.css,01gv-pabirl.css,11vzhcgahbl.css,21mne54csml.css,11wgrxudjrl.css,01du8+splfl.css,11dgn6wmptl.css,01shjpml6tl.css,111-d2qrjil.css,01qrwurrz-l.css,31elcx173pl.css,114kwzgkcvl.css,01cbs3uk11l.css,21gqsbkze0l.css,01l8y-jfehl.css_.css?auiclients/amazonui#us.not-trident\\'); a.preload(\\'https://images-na.ssl-images-amazon.com/images/i/31gnjjwvxpl._rc|11div+n5b+l.js,21lotnkorwl.js,51cyss8km3l.js,316nvz1c+gl.js,21+4xnetxrl.js,318rs4pigpl.js,01jeqq6i0ul.js,0185itv0m6l.js,41+mvzl0wbl.js,217xov1wjvl.js,01gx8dhrpll.js,011qznp-nfl.js,11h+quk5jal.js,21fbjlpfm6l.js,11zdiayg8gl.js,71p9twqshsl.js,6179ibzcr+l.js,31ujtapgopl.js,01lhjt5piyl.js,11iv7fmb1ql.js,31ac-cq+zwl.js,01fekjo0kkl.js,0193uyicinl.js,41d4kruiy9l.js,31ad06vraql.js,11e9-8uuhql.js,01s9hefbt3l.js,11ihzuqapkl.js,61ixrfotlol.js,11wbo+4152l.js,11mqqfpek+l.js,41edkfa-8yl.js,11g4c43ozvl.js,21ug6yrfidl.js,3133ounahql.js,11jf5os-4fl.js,01x2zigx4kl.js,210mdw2-zel.js,21mymeonftl.js,61+tknam7yl.js,515exqsrgfl.js,21ojdarbhql.js,41s+obpxtpl.js,01iwub29q4l.js,01jze3-dfll.js_.js?auiclients/ushardlinesdetailpagemetaassetfixed#desktop.us.164772-t1.141052-t1.146207-t1.172469-t1.155915-t1.111960-t1.146883-t1.151985-t1.136850-t1.123392-t1.186073-t2.114779-t1.120067-t1.131900-t1.184660-c.162909-c.108310-t1.156391-t1.80562-t1.107686-t1.172346-t1.133003-t1\\'); a.preload(\\'https://images-na.ssl-images-amazon.com/images/i/11ugk4%2bgcnl._rc|11iku6mx1jl.css,01ekixtj5kl.css,21rtx+upnsl.css,21gzlfolcvl.css,014trskro3l.css,11xry3bskol.css,01tcv-xmezl.css,01d-b-oendl.css,01zmytfbgdl.css,2184gzidrml.css,01qus5fvxol.css,11mxghh1ebl.css,016zweumvel.css,41voqb1k0ll.css,31mkqhv3gal.css,01gt2vh57dl.css,314gb2lklml.css,01xhpyzh3cl.css,01rgq3jqo7l.css,21s+bwgcjwl.css,31e6r41swll.css,11x8k4aolpl.css,21pjfsp9yvl.css,31+23kj581l.css,014z+mbaral.css,01rrh0yfa4l.css,41hu-8cmu8l.css,01zgr4pdstl.css,014f6qn6oal.css,218xvpwf2yl.css,01f31vncowl.css,01rgq3jqo7l.css,01kwuipokil.css,41zdtmmdfyl.css,01kymrlkg9l.css_.css?auiclients/ushardlinesdetailpagemetaassetfixed#desktop.us.not-trident.141052-t1.164400-t1.136850-t1.113972-t1.131900-t1.108310-t1.80562-t1.172346-t1.133003-t1\\'); a.preload(\\'https://images-na.ssl-images-amazon.com/images/i/21e71nrlt3l._rc|11ze1yhmgjl.js,21dxjvtd0hl.js,31qpl48gbdl.js,41uxugxh7tl.js,31bq6updcgl.js,312xluew6sl.js,51ekuadxehl.js,21ndisf0a1l.js,015trqc5i+l.js,61e7xszhehl.js,01lch4zctal.js,01otvpwikql.js,51taluzwqwl.js,01qwovekkll.js,21mr+glpoil.js,01qxu4-2a0l.js,11wtwl+500l.js,517jaxjzznl.js,01qpwv8d5hl.js,01yivelyw5l.js,016qfwaadml.js,41dzl0sszul.js,11gx+6s5o-l.js,312rsavktrl.js,41pwak5-xdl.js,017s5z---tl.js,31zs5tqvwdl.js,51p2flvttll.js,01aptwnkehl.js,51ldtx6xp6l.js,21w43lsq1-l.js,01focsltmbl.js_.js?auiclients/ushardlinesdetailpagemetaassetvariable_turbo_desktop#desktop.us.171964-t1.137613-t1.159929-t1.146207-t1.167162-t1.153662-t1.103061-t1.123392-t1.153197-t1.150150-t1.127433-t1.126331-t1.179985-t1.87783-t2.159402-t1.108343-t1.109378-t1.143147-t1.147957-t1.154031-t1.171818-t1.169593-t1\\'); a.preload(\\'https://images-na.ssl-images-amazon.com/images/i/61zzapgh8wl._rc|21dfs8eev-l.css,31bmnmv4vql.css,019m+d36jfl.css,41bcmfuzail.css,21kmtf4iipl.css,21thlxrpr2l.css,211mifdzc7l.css,31dtk1hhb6l.css,21g0snplg4l.css,31x-ol7pugl.css,11z7s+lk47l.css,01nw8vtuevl.css,01jovs9kd8l.css,21m-8smjjsl.css,31j4n5vuy7l.css,116cafinnul.css,31g3e1o5egl.css,21fmybezpel.css,01oha16nd1l.css,01u22tk7kxl.css,11xmzpmxsjl.css,01bwcpgon+l.css,21m9kxdm2yl.css,01ywso+cb3l.css,21tgssxwhnl.css,01vf6gfybxl.css,01avrrnt6xl.css_.css?auiclients/ushardlinesdetailpagemetaassetvariable_turbo_desktop#desktop.us.122952-t1.159929-t1.113788-c.114039-c.119597-t1.103061-t1.174137-t1.167251-t1.150150-t1.133480-t1.142006-t1.127433-t1.126331-t1.159402-t1.108343-t1.109378-t1.169593-t1\\'); a.preload(\\'https://images-na.ssl-images-amazon.com/images/i/31gnjjwvxpl._rc|21e71nrlt3l.js,11ze1yhmgjl.js,21dxjvtd0hl.js,21lotnkorwl.js,51cyss8km3l.js,21+4xnetxrl.js,51ooh40jfyl.js,316nvz1c+gl.js,01adyly9rhl.js,0185itv0m6l.js,41+mvzl0wbl.js,01gx8dhrpll.js,011qznp-nfl.js,11zdiayg8gl.js,71p9twqshsl.js,01orq5axqsl.js,31ujtapgopl.js,01lhjt5piyl.js,11iv7fmb1ql.js,31ac-cq+zwl.js,01fekjo0kkl.js,01hmcbfsnfl.js,01-sz0ff1pl.js,11wbo+4152l.js,11mqqfpek+l.js,11g4c43ozvl.js,11gappelxul.js,01x2zigx4kl.js,01otvpwikql.js,31qpl48gbdl.js,01qxu4-2a0l.js,01zf+ovnfll.js,31rmoynjshl.js,517jaxjzznl.js,210mdw2-zel.js,21mymeonftl.js,61+tknam7yl.js,515exqsrgfl.js,21ojdarbhql.js,41s+obpxtpl.js,01iwub29q4l.js,01qpwv8d5hl.js,01jze3-dfll.js,01yivelyw5l.js,016qfwaadml.js,017s5z---tl.js,51ldtx6xp6l.js,21w43lsq1-l.js,01focsltmbl.js_.js?auiclients/ussoftlinesdetailpagemetaasset_turbo_desktop#desktop.us.164772-t1.141052-t1.167162-t1.111960-t1.146883-t1.151985-t1.136850-t1.153662-t1.103061-t1.123392-t1.186073-t2.131900-t1.184660-c.162909-c.126331-t1.156391-t1.179985-t1.87783-t2.127140-t1.147075-t1.159402-t1.108343-t1.109378-t1.143147-t1.147957-t1.154031-t1.171818-t1\\'); a.preload(\\'https://images-na.ssl-images-amazon.com/images/i/41aoeewqg5l._rc|41prsefiqgl.css,11ugk4+gcnl.css,21dfs8eev-l.css,31bmnmv4vql.css,01ekixtj5kl.css,21rtx+upnsl.css,014trskro3l.css,41jxa-llnnl.css,21gzlfolcvl.css,01tcv-xmezl.css,01d-b-oendl.css,2184gzidrml.css,016zweumvel.css,31mkqhv3gal.css,01gt2vh57dl.css,314gb2lklml.css,01xhpyzh3cl.css,01qlwk8mu6l.css,014z+mbaral.css,01rrh0yfa4l.css,01zgr4pdstl.css,018mgorj7tl.css,01nw8vtuevl.css,01rgq3jqo7l.css,019m+d36jfl.css,01jovs9kd8l.css,116cafinnul.css,01mlzcotfll.css,31g3e1o5egl.css,01kwuipokil.css,41zdtmmdfyl.css,01kymrlkg9l.css,21fmybezpel.css,01oha16nd1l.css,01vf6gfybxl.css,01avrrnt6xl.css_.css?auiclients/ussoftlinesdetailpagemetaasset_turbo_desktop#desktop.us.141052-t1.113788-c.114039-c.119597-t1.136850-t1.103061-t1.174137-t1.113972-t1.131900-t1.126331-t1.147075-t1.159402-t1.108343-t1.109378-t1\\'); a.preload(\\'https://images-na.ssl-images-amazon.com/images/i/31gnjjwvxpl._rc|21dxjvtd0hl.js,21lotnkorwl.js,0185itv0m6l.js,41+mvzl0wbl.js,51cyss8km3l.js,21e71nrlt3l.js,11ze1yhmgjl.js,21fbjlpfm6l.js,11zdiayg8gl.js,01ncgm4u+ql.js,71p9twqshsl.js,31ujtapgopl.js,01lhjt5piyl.js,11iv7fmb1ql.js,31ac-cq+zwl.js,01fekjo0kkl.js,11mqqfpek+l.js,01x2zigx4kl.js,219rmkdyn-l.js,316lu5vl96l.js,01otvpwikql.js,31qpl48gbdl.js,217xov1wjvl.js,31bq6updcgl.js,312xluew6sl.js,11e9-8uuhql.js,11ihzuqapkl.js,01qxu4-2a0l.js,01ghkb2usnl.js,517jaxjzznl.js,210mdw2-zel.js,21mymeonftl.js,61+tknam7yl.js,515exqsrgfl.js,21ojdarbhql.js,41s+obpxtpl.js,01iwub29q4l.js,01qpwv8d5hl.js,01-oy+rw+ll.js,01jze3-dfll.js,016qfwaadml.js,017s5z---tl.js,51ldtx6xp6l.js,21w43lsq1-l.js,01focsltmbl.js_.js?auiclients/usmediadetailpagemetaasset_turbo_desktop#desktop.us.164772-t1.141052-t1.167162-t1.146883-t1.151985-t1.136850-t1.153662-t1.103061-t1.123392-t1.153197-t1.186073-t2.131900-t1.184660-c.162909-c.156391-t1.179985-t1.87783-t2.159402-t1.108343-t1.109378-t1.143147-t1.147957-t1.154031-t1.171818-t1.133003-t1\\'); a.preload(\\'https://images-na.ssl-images-amazon.com/images/i/51zlzozensl._rc|11ugk4+gcnl.css,31bmnmv4vql.css,01ekixtj5kl.css,01tcv-xmezl.css,01d-b-oendl.css,21rtx+upnsl.css,21dfs8eev-l.css,11mxghh1ebl.css,016zweumvel.css,31mkqhv3gal.css,01gt2vh57dl.css,314gb2lklml.css,01xhpyzh3cl.css,01rrh0yfa4l.css,01nw8vtuevl.css,01rgq3jqo7l.css,21jnhnxhfbl.css,019m+d36jfl.css,01jovs9kd8l.css,01zmytfbgdl.css,21kmtf4iipl.css,21thlxrpr2l.css,31e6r41swll.css,21pjfsp9yvl.css,116cafinnul.css,01wsp46sqtl.css,31g3e1o5egl.css,01kwuipokil.css,41zdtmmdfyl.css,01kymrlkg9l.css,21fmybezpel.css,01vf6gfybxl.css,01avrrnt6xl.css_.css?auiclients/usmediadetailpagemetaasset_turbo_desktop#desktop.us.141052-t1.122952-t1.113788-c.114039-c.119597-t1.136850-t1.103061-t1.174137-t1.131900-t1.159402-t1.108343-t1.109378-t1.133003-t1\\'); } }); function prefetchtypassets() { var imageassets = new array(); var jscssassets = new array(); imageassets.push(\"https://images-na.ssl-images-amazon.com/images/g/01/x-locale/common/buy-buttons/review-1-click-order._cb192251243_.gif\"); imageassets.push(\"https://images-na.ssl-images-amazon.com/images/g/01/x-locale/common/buttons/continue-shopping._cb192193522_.gif\"); imageassets.push(\"https://images-na.ssl-images-amazon.com/images/g/01/x-locale/common/buy-buttons/thank-you-elbow._cb192238786_.gif\"); imageassets.push(\"https://images-na.ssl-images-amazon.com/images/g/01/x-locale/communities/social/snwicons_v2._cb369764580_.png\"); imageassets.push(\"https://images-na.ssl-images-amazon.com/images/g/01/checkout/assets/carrot._cb192196173_.gif\"); imageassets.push(\"https://images-na.ssl-images-amazon.com/images/g/01/checkout/thank-you-page/assets/yellow-rounded-corner-sprite._cb192238288_.gif\"); imageassets.push(\"https://images-na.ssl-images-amazon.com/images/g/01/checkout/thank-you-page/assets/white-rounded-corner-sprite._cb192259929_.gif\"); imageassets.push(\"https://images-na.ssl-images-amazon.com/images/g/01/gno/sprites/nav-sprite-global_bluebeacon-v3-1x_optimized._cb483188077_.png\"); imageassets.push(\"https://images-na.ssl-images-amazon.com/images/g/01/x-locale/common/transparent-pixel._cb386942464_.gif\"); // pre-fetching image assets for (var i=0; i var ocinittimestamp = 1547007319; if (!window.$searchjs && window.$nav) { window.$searchjs = $nav.make(\\'sx\\'); } if (window.$searchjs) { } (function() { var precachematerials = [\"https://images-na.ssl-images-amazon.com/images/g/01/nav2/images/gui/searchsprite._cb280429789_.png\"]; if (window.amznjq) { amznjq.addpl(precachematerials); } else if (window.p) { p.when(\\'a\\').execute(function(a){ a.preload(precachematerials); }); } })(); there\\'s a problem loading this menu right now. learn more about amazon prime. #nav-prime-tooltip{ padding: 0 20px 2px 20px; background-color: white; font-family: arial,sans-serif; } .nav-npt-text-title{ font-family: arial,sans-serif; font-size: 18px; font-weight: bold; line-height: 21px; color: #e47923; } .nav-npt-text-detail, a.nav-npt-a{ font-family: arial,sans-serif; font-size: 12px; line-height: 14px; color: #333333; margin: 2px 0px; } a.nav-npt-a { text-decoration: underline; } get fast, free shipping with amazon prime prime members enjoy free two-day shipping and exclusive access to music, movies, tv shows, original audio series, and kindle books. > get started window.$nav && $nav.when(\"data\").run(function(data) { data({\"youraccountcontent\":{\"template\":{\"name\":\"itemlist\",\"data\":{\"items\":[{\"text\":\"your account\",\"url\":\"/gp/css/homepage.html/ref=nav_youraccount_ya\"},{\"text\":\"your orders\",\"url\":\"/gp/css/order-history/ref=nav_youraccount_orders\",\"id\":\"nav_prefetch_yourorders\"},{\"text\":\"your lists\",\"url\":\"/gp/registry/wishlist/ref=nav_youraccount_wl?ie=utf8&requiressignin=1\"},{\"text\":\"your recommendations\",\"url\":\"/gp/yourstore/ref=nav_youraccount_recs\"},{\"text\":\"your subscribe & save items\",\"url\":\"/gp/subscribe-and-save/manager/viewsubscriptions/ref=nav_youraccount_sns\"},{\"text\":\"memberships & subscriptions\",\"url\":\"/yourmembershipsandsubscriptions/ref=nav_youraccount_digital_subscriptions\"},{\"text\":\"your service requests\",\"url\":\"/localservices/ya/servicerequests/ref=nav_youraccount_desktop_vas_requestlist\"},{\"text\":\"your prime membership\",\"url\":\"/gp/subs/primeclub/account/homepage.html/ref=nav_youraccount_prime\"},{\"text\":\"your garage\",\"url\":\"/gp/your-garage/ref=nav_youraccount_au_pf_as_gno\"},{\"text\":\"your fanshop\",\"url\":\"/fanshop/ref=nav_youraccount_yfs\"},{\"text\":\"your pets\",\"url\":\"/yourpets/ref=nav_youraccount_nav_youraccount_pet_profiles\"},{\"text\":\"start a selling account\",\"url\":\"/b/ref=nav_youraccount_nav_cs_sell?_encoding=utf8&ld=azussoa-yaflyout&node=12766669011\"},{\"text\":\"register for a business account\",\"url\":\"/b/ref=nav_youraccount_b2b_reg?ie=utf8&node=11261610011\"},{\"text\":\"your amazon credit cards\",\"url\":\"/credit-cards/b/ref=nav_youraccount_cc?ie=utf8&node=1266766011\"},{\"text\":\"your content and devices\",\"url\":\"/mn/dcw/myx.html/ref=nav_youraccount_myk\"},{\"text\":\"your music library\",\"url\":\"/gp/dmusic/mp3/player/ref=nav_youraccount_cldplyr\"},{\"text\":\"your amazon photos\",\"url\":\"/photos/ref=nav_youraccount_primephotos\"},{\"text\":\"your amazon drive\",\"url\":\"/clouddrive/ref=nav_youraccount_clddrv\"},{\"text\":\"your prime video\",\"url\":\"/prime-instant-video/s/browse/ref=nav_youraccount_piv?_encoding=utf8&node=2676882011\"},{\"text\":\"your kindle unlimited\",\"url\":\"/gp/kindle/ku/ku_central/ref=nav_youraccount_ku\"},{\"text\":\"your watchlist\",\"url\":\"/gp/video/watchlist/ref=nav_youraccount_ywl\"},{\"text\":\"your video library\",\"url\":\"/gp/video/library/ref=nav_youraccount_yvl\"},{\"text\":\"your android apps & devices\",\"url\":\"/gp/mas/your-account/myapps/ref=nav_youraccount_aad\"}]}},\"signinhtml\":\" sign in new customer? start here. \",\"wltriggers\":\"98075:104259\"},\"wishlistcontent\":{\"template\":{\"name\":\"itemlist\",\"data\":{\"items\":[{\"text\":\"create a list\",\"url\":\"/gp/registry/wishlist/ref=nav_wishlist_create?ie=utf8&triggerelementid=createlist\"},{\"text\":\"find a list or registry\",\"url\":\"/gp/registry/search/ref=nav_wishlist_find\"},{\"text\":\"find a gift\",\"url\":\"/gcx/gifts-for-adults/gfhz/ref=nav_wishlist_gf\"},{\"subtext\":\"install amazon assistant\",\"text\":\"save items from the web\",\"url\":\"/gp/bit/ref=nav_wishlist_bit_v2_a0032?ie=utf8&bitcampaigncode=a0032\"},{\"text\":\"wedding registry\",\"url\":\"/wedding/home/ref=nav_wishlist_wr\"},{\"text\":\"baby registry\",\"url\":\"/baby-reg/homepage/ref=nav_wishlist_br\"},{\"text\":\"friends & family gifting\",\"url\":\"/gp/gift-central/organizer/ref=nav_wishlist_fafgift\"},{\"text\":\"amazonsmile charity lists\",\"url\":\"/gp/clpf/ref=nav_wishlist_smi_se_ya_lll_ll\"},{\"text\":\"pantry lists\",\"url\":\"/gp/pantry/yourlists/ref=nav_wishlist_pntry_gno\"},{\"text\":\"your hearts\",\"url\":\"/stream/saves/items/ref=nav_wishlist_strm_in_youtique_lists\"},{\"text\":\"explore idea lists\",\"url\":\"/ideas/ref=nav_wishlist_idea_nav\"},{\"text\":\"explore showroom\",\"url\":\"/showroom/ref=nav_wishlist_srm_your_desk_wl\"},{\"text\":\"scout | style explorer\",\"url\":\"/scout/ref=nav_wishlist_sbl\"},{\"text\":\"take the home style quiz\",\"url\":\"/stylequiz/ref=nav_wishlist_sq_ya_yl\"}]}},\"wltriggers\":\"57042:165723:159729:167383:180559\"},\"cartcontent\":{\"html\":\" items in your cart prime pantry items your shopping cart is empty. give it purpose—fill it with books, dvds, clothes, electronics, and more. if you already have an account, sign in . there\\'s a problem previewing your cart right now. check your internet connection and go to your cart , or try again . view cart ( 0 items) ( 0 item) ( 0 items) \"},\"signincontent\":{\"html\":\" sign in new customer? start here. \"},\"accountlistcontent\":{\"html\":\" sign in new customer? start here. your lists create a list find a list or registry find a gift save items from the web wedding registry baby registry friends & family gifting amazonsmile charity lists pantry lists your hearts explore idea lists explore showroom scout | style explorer take the home style quiz your account your account your orders your lists your recommendations your subscribe & save items memberships & subscriptions your service requests your prime membership your garage your fanshop your pets start a selling account register for a business account your amazon credit cards your content and devices your music library your amazon photos your amazon drive your prime video your kindle unlimited your watchlist your video library your android apps & devices \"},\"templates\":{\"asin-promo\":\" \\' class=\\'nav_asin_promo\\'> \\' class=\\'nav_asin_promo_img\\'/> \",\"discoverypanellist\":\" deliveries at a glance \\' class=\\'nav-dp-link\\'> \\' class=\\'nav-dp-image\\'/> \\'> \\'> view all orders \",\"itemlist\":\" \\' class=\\'nav-link nav-haspanel nav-title nav-carat nav-action-button nav-item\\' id=\\' \\' data-nav-role=\\' \\' data-nav-ref=\\' \\' data-nav-panelkey=\\' \\' role=\\'navigation\\' aria-label=\\' \\' data-nav-subtextkey=\\' \\' 16) { #> style=\\'line-height: px;\\' > \\' style=\\'height: px; width: px;\\' /> \\'> \\' class=\\'nav-a\\'> \\'> id=\\' \\' src=\\' \\' alt=\\' \\' /> \",\"notificationslist\":\" notifications nav-noti-list- nav-noti-list-with-image \\'> \\'>× \\' alt=\\' \\' title=\\' \\' /> \\' class=\\'nav-noti-list-content\\'> \",\"discoverypanelsummary\":\" deliveries at a glance \\' class=\\'nav-dp-image\\' height=\\' \\'/> sign in to view orders \",\"htmllist\":\" \",\"subnav\":\" style=\\' \\' > \\' class=\\'nav-action-button nav-sprite\\'> \\'> \\'> \\'> \\' class=\\'nav_a\\'> \\'> \\' class=\\'nav_sv_fo_v_lmargin nav_a\\'> \",\"wishlist\":\" \\' class=\\'nav_a\\'> \",\"cart\":\" \\' class=\\'nav-cart-item-link\\'> \\' class=\\'nav-cart-item-image\\' /> \\'> \"}}); }); window.$nav && $nav.declare(\\'config.prefetchurls\\', [\"https://images-na.ssl-images-amazon.com/images/g/01/authportal/common/images/amazon_logo_no-org_mid._cb153387053_.png\",\"https://images-na.ssl-images-amazon.com/images/g/01/authportal/common/images/amznbtn-sprite03._cb395592492_.png\",\"https://images-na.ssl-images-amazon.com/images/g/01/authportal/flex/reduced-nav/ap-flex-reduced-nav-2.0._cb309092102_.js\",\"https://images-na.ssl-images-amazon.com/images/g/01/authportal/flex/reduced-nav/ap-flex-reduced-nav-2.1._cb343920894_.css\",\"https://images-na.ssl-images-amazon.com/images/g/01/gno/sprites/nav-sprite-global_bluebeacon-v3-1x_optimized._cb483188077_.png\",\"https://images-na.ssl-images-amazon.com/images/g/01/x-locale/common/buttons/sign-in-secure._cb192194766_.gif\",\"https://images-na.ssl-images-amazon.com/images/g/01/x-locale/common/login/fwcim._cb460999895_.js\",\"https://images-na.ssl-images-amazon.com/images/g/01/x-locale/common/transparent-pixel._cb386942464_.gif\"]); window.$nav && $nav.declare(\\'config.prefetch\\',function() { var purls = window.$nav.getnow(\\'config.prefetchurls\\'); (window.amazonuipagejs ? amazonuipagejs : p).when(\\'a\\').execute(function (a) { a.preload(purls); }); }); /* */ (window.amazonuipagejs ? amazonuipagejs : p).when(\\'a\\').execute(function(a){ if(a.preload){ a.preload(\\'https://images-na.ssl-images-amazon.com/images/i/41ekbh%2bv9ol._rc|71gqiqpjkvl.js,61ybdwam-8l.js,41msv8-3arl.js,113nkcqymfl.js,01wbjiz9ovl.js,21yi5xzwawl.js,31sfwv+1s1l.js,51+klsvwgql.js,31sch+n9nhl.js_.js?auiclients/amazonnavigationdesktopmetaasset#desktop\\'); a.preload(\\'https://images-na.ssl-images-amazon.com/images/i/71sqe9anu%2bl._rc|11qlbytjbcl.css,31boonmfb4l.css,210-42nmyml.css,31jg45b6o1l.css,11s8gisgx9l.css,31ovhrw+xil.css,01xhmohpk1l.css_.css?auiclients/amazonnavigationdesktopmetaasset#desktop\\'); } }); window.$nav && $nav.declare(\\'config.flyouturl\\', null); window.$nav && $nav.declare(\\'btf.lite\\'); window.$nav && $nav.declare(\\'btf.full\\'); window.$nav && $nav.declare(\\'btf.exists\\'); (window.amazonuipagejs ? amazonuipagejs : p).register(\\'navcf\\'); window.$nav && $nav.when(\\'$\\').run(\\'camarketplaceredirectoverlay\\',function($) { $.ajax({ type: \\'post\\', url: \\'/gp/redirection/canada.html\\', data: { path: \\'/dp/b00e9kmag4/\\', querystring: \\'?ie=utf8\\', pagetype: \\'detail\\', referer: \\'\\' }, success: function(data) { if (data) { $(\\'body\\').append(data); } } }); }); window.$nav && $nav.when(\\'$\\', \\'page.ready\\').run(\\'[freesearchtraffic]mxmarketplaceredirectoverlay\\',function($) { $.ajax({ type: \\'post\\', url: \\'/gp/redirection/mexico.html\\', data: { path: \\'/dp/b00e9kmag4/\\', querystring: \\'?ie=utf8\\', pagetype: \\'detail\\', referer: \\'\\' }, success: function(data) { if (data) { $(\\'body\\').append(data); } } }); }); {\"origsessionid\":\"144-0926512-6230417\",\"subpagetype\":null,\"pagetype\":\"detail\",\"asin\":\"b00e9kmag4\",\"path\":\"/dp/b00e9kmag4/\",\"isaui\":\"1\"} (window.amazonuipagejs ? amazonuipagejs : p).when(\\'navcf\\').execute(function(){ (window.amazonuipagejs ? amazonuipagejs : p).load.js(\\'https://images-na.ssl-images-amazon.com/images/i/11imx6buywl.js?auiclients/retailwebsiteoverlayauiassets\\'); }); window.$nav && window.$nav.build(\\'pldnlocalstorage\\', function() { var pldnlocalstorage = function() {}; pldnlocalstorage.prototype.setitem = function(key, obj) { if (typeof obj !== \\'string\\') { obj = window.json && window.json.stringify(obj); } try { window.localstorage && window.localstorage.setitem(key, obj); return true; } catch (exception) { return false; }; }; pldnlocalstorage.prototype.getitem = function(key) { try { return window.localstorage && window.localstorage.getitem(key); } catch(exception) {}; }; return new pldnlocalstorage(); }); window.$nav && window.$nav.when(\\'pldnlocalstorage\\').run(\\'pldnucolcheck\\', function(storage) { if (!storage.getitem(\\'amazonsmilecampaigns\\')) { storage.setitem(\\'amazonsmilecampaigns\\', { \"ucol\": { \"optout\": false, \"hits\": [ { \"date\": new date(), \"redirect\": false, \"optout\": false } ] } }); } }); {\"rhfhandlerparams\":{\"rhfasins\":\"\",\"nop13ncache\":\"\",\"weblabtriggers\":\"\",\"auidebug\":\"\",\"keywords\":\"\",\"k\":\"\",\"rviasins\":\"\",\"url\":\"\",\"parentsession\":\"144-0926512-6230417\",\"rhfstate\":\"\",\"contextmetadataoverride\":\"\",\"currentsubpagetype\":null,\"field-keywords\":\"\",\"relatedrequestid\":\"7mt6246dwaxbc9zydjwr\",\"recsasins\":\"\",\"excludeasin\":\"qjawrtlltufhna==\",\"auditenabled\":\"\",\"customerid\":\"\",\"testrecsfailure\":\"\",\"previewcampaigns\":\"\",\"forcewidgets\":\"\",\"currentpagetype\":\"detail\",\"stringdebug\":\"\"},\"subpagetype\":null,\"requestid\":\"7mt6246dwaxbc9zydjwr\",\"sessionid\":\"144-0926512-6230417\",\"customerid\":\"\",\"pagetype\":\"detail\",\"ybhhandlerparams\":{\"relatedrequestid\":\"7mt6246dwaxbc9zydjwr\",\"currentpagetype\":\"detail\",\"parentsession\":\"144-0926512-6230417\"}} your recently viewed items and featured recommendations › view or edit your browsing history after viewing product detail pages, look here to find an easy way to navigate back to pages you are interested in. your recently viewed items and featured recommendations › view or edit your browsing history after viewing product detail pages, look here to find an easy way to navigate back to pages you are interested in. back to top get to know us careers blog about amazon press center investor relations amazon devices make money with us sell on amazon sell under private brands sell on amazon handmade sell your services on amazon sell on amazon business sell your apps on amazon become an affiliate advertise your products self-publish with us › see all amazon payment products amazon rewards visa signature cards amazon.com store card amazon business card amazon.com corporate credit line shop with points credit card marketplace reload your balance amazon currency converter let us help you your account your orders shipping rates & policies amazon prime returns & replacements manage your content and devices amazon assistant help #icp-touch-link-language { display: none; } english choose a language for shopping. #icp-touch-link-country { display: none; } united states choose a country/region for shopping. amazon music stream millions of songs amazon advertising find, attract, and engage customers amazon drive cloud storage from amazon 6pm score deals on fashion brands abebooks books, art & collectibles acx audiobook publishing made easy alexa actionable analytics for the web amazon business everything for your business amazonfresh groceries & more right to your door amazonglobal ship orders internationally home services handpicked pros happiness guarantee amazon inspire digital educational resources amazon rapids fun stories for kids on the go amazon restaurants food delivery from local restaurants amazon web services scalable cloud computing services audible download audiobooks book depository books with free delivery worldwide box office mojo find movie box office data comixology thousands of digital comics createspace indie print publishing made easy dpreview digital photography east dane designer men\\'s fashion fabric sewing, quilting & knitting goodreads book reviews & recommendations imdb movies, tv & celebrities imdbpro get info entertainment professionals need junglee.com shop online in india kindle direct publishing indie digital publishing made easy prime now free 2-hour delivery on everyday items amazon photos unlimited photo storage free with prime prime video direct video distribution made easy shopbop designer fashion brands amazon warehouse great deals on quality used products whole foods market americas healthiest grocery store withoutabox submit to film festivals woot! deals and shenanigans zappos shoes & clothing souq.com shop online in the middle east subscribe with amazon discover & try subscription services pillpack pharmacy simplified amazon renewed refurbished products with a warranty amazon second chance pass it on, trade it in, give it a second life conditions of use privacy notice interest-based ads 1996-2018, amazon.com, inc. or its affiliates (function(a,b){a.attachevent?a.attachevent(\"onload\",b):a.addeventlistener&&a.addeventlistener(\"load\",b,!1)})(window,function(){settimeout(function(){var el=document.getelementbyid(\"sis_pixel_r2\");el&&(el.innerhtml=\\' \\')},300)}); (function(w,t){w.attachevent?w.attachevent(\\'onload\\',t):w.addeventlistener(\\'load\\',t, !1)})(window,function(){settimeout(function(){document.getelementbyid(\\'apaypx\\').innerhtml=\\' \\'},300)}); (window.amazonuipagejs ? amazonuipagejs : p).when(\\'beforeload\\').execute(function() { (window.amazonuipagejs ? amazonuipagejs : p).load.js(\\'https://images-na.ssl-images-amazon.com/images/i/31khtijcacl.js?auiclients/a11yclientsidemetrics\\'); }); window.ue_ibe = (window.ue_ibe || 0) + 1; if (window.ue_ibe === 1) { var ue_mbl=ue_csm.ue.exec(function(e,a){function l(f){b=f||{};a.amznperformance=b;b.transition=b.transition||{};b.timing=b.timing||{};e.ue.exec(m,\"csm-android-check\")()&&b.tags instanceof array&&(f=-1!=b.tags.indexof(\"usesappstarttime\")||b.transition.type?!b.transition.type&&-1 n||2==d._rtn)&&b.push(\"n\"+h(a.name));return b.join(\"_\")}).join(\"*\")}function p(){var a=\"pm\",b;for(b in c)c.hasownproperty(b)&&(a+=\"*\"+c[b]+\"_\"+b);return a}function q(){d.log({k:\"rtiming\",value:l()+\"~\"+p()},\"csm\")}if(f&&f.getentriesbytype&&array.prototype.map&&array.prototype.filter&&e.ue&&e.ue.log){var g= {connectstart:\"c\",connectend:\"c\",domainlookupstart:\"d\",domainlookupend:\"d\",duration:\"z\",encodedbodysize:\"e\",decodedbodysize:\"e\",fetchstart:\"f\",redirectstart:\"r\",redirectend:\"r\",requeststart:\"q\",responsestart:\"s\",responseend:\"s\",starttime:\"a\",transfersize:\"t\"},d=e.ue,c={},k=1,n=20,m=200;d&&d._rre&&(d._art=function(){d._ld&&window.settimeout(q,0)})}})(ue_csm||{},window.performance); (function(c,d){var b=c.ue,a=d.navigator;b&&b.tag&&a&&(a=a.connection||a.mozconnection||a.webkitconnection)&&a.type&&b.tag(\"netinfo:\"+a.type)})(ue_csm,window); (function(c,d){function h(a,b){for(var c=[],d=0;d 1-1/a.ue_fadb,n=!1,v=q();u||!v?e.uels(\"https://m.media-amazon.com/images/g/01/csm/showads.v2.js\",{onerror:r,onload:s}):k();a.ue_isadb=t;a.ue_isadb.unk=\"adblk_unk\";a.ue_isadb.no=l;a.ue_isadb.yes=h}},\"adb\")(document,window); (function(c,l,m){function h(a){if(a)try{if(a.id)return\"//*[@id=\\'\"+a.id+\"\\']\";var b,d=1,e;for(e=a.previoussibling;e;e=e.previoussibling)e.nodename===a.nodename&&(d+=1);b=d;var c=a.nodename;1!==b&&(c+=\"[\"+b+\"]\");a.parentnode&&(c=h(a.parentnode)+\"/\"+c);return c}catch(f){return\"detached\"}}function f(a){if(a&&a.getattribute)return a.getattribute(k)?a.getattribute(k):f(a.parentelement)}var k=\"data-cel-widget\",g=!1,d=[];(c.ue||{}).isbf=function(){try{var a=json.parse(localstorage[\"csm-bf\"]||\"[]\"),b=0 b?3>a-b:3>b-a}function n(a,b){var f=g.pagexoffset,e=g.pageyoffset,d;a:{try{if(a){var h=a.getboundingclientrect(),l,m=0===a.offsetwidth&&0===a.offsetheight;c:{for(var k=a.parentnode,p=h.left||0,q=h.top||0,r=h.width||0,t=h.height||0;k&&k!==document.body;){var n;d:{try{if(k){var c=k.getboundingclientrect();n={x:c.left|| 0,y:c.top||0,w:c.width||0,h:c.height||0}}else n=void 0;break d}catch(v){}n=void 0}var s=window.getcomputedstyle(k),u=\"hidden\"===s.overflow,x=u||\"hidden\"===s.overflowx,y=u||\"hidden\"===s.overflowy,m=q+t-1 n.y+n.h-1;if((p+r-1 n.x+n.w-1)&&x||m&&y){l=!0;break c}k=k.parentnode}l=!1}d={x:h.left+f||0,y:h.top+e||0,w:h.width||0,h:h.height||0,d:(m||l)|0}}else d=void 0;break a}catch(n){}d=void 0}if(d&&!a.cel_b)a.cel_b=d,w({n:a.getattribute(z),w:a.cel_b.w,h:a.cel_b.h,d:a.cel_b.d,x:a.cel_b.x, y:a.cel_b.y,t:b,k:\"ewi\",cl:a.classname},{clog:1});else{if(f=d)f=a.cel_b,e=d,f=e.d===f.d&&1===e.d?!1:!(c(f.x,e.x)&&c(f.y,e.y)&&c(f.w,e.w)&&c(f.h,e.h)&&f.d===e.d);f&&(a.cel_b=d,w({n:a.getattribute(z),w:a.cel_b.w,h:a.cel_b.h,d:a.cel_b.d,x:a.cel_b.x,y:a.cel_b.y,t:b,k:\"ewi\"},{clog:1}))}}function x(b,e){var c;c=b.c?h.getelementsbyclassname(b.c):b.id?[h.getelementbyid(b.id)]:h.queryselectorall(b.s);b.w=[];for(var g=0;g c)){d=void 0;a:if(r[c].t-r[c-1].t>n)d=0;else{for(d=e+1;d s){d=0;break a}}d=1}d=!d}(f= d)?e=c-1:b.pop();b.push(b)}f=g.now()-z;v=math.min(v,f);e=math.max(e,f);t=(t*y+f)/(y+1);y+=1;l({k:u,e:b,min:math.floor(1e3*v),max:math.floor(1e3*e),avg:math.floor(1e3*t)},{c:1});r=[];b=[];e=0}}var n=100,x=20,s=25,u=\"mmm1\",p,b,d=a.ue,l=a.ue_cel.log,k,v=1e3,e=0,t=0,y=0,z,f,r=[],b=[],e=0,w,q,d,a,f,g=h&&h.now&&h||date.now&&date||{now:function(){return(new date).gettime()}};return{on:function(a){p=a.ts;b=a.ns;d.attach&&d.attach(\"mousemove\",m,g);k=setinterval(c,3e3)},off:function(a){b&&(w&&m(w,!0),c()); clearinterval(k);d.detach&&d.detach(\"mousemove\",m,g)},ready:function(){return a.ue_cel&&a.ue_cel.log},reset:function(){r=[];b=[];e=0;w=null}}}(window.performance),a.ue_cel&&a.ue_cel.registermodule(\"mouse move module\",a.ue_mmm))})(ue_csm,document); ue_csm.ue.exec(function(b,c){var e=function(){},f=function(){return{send:function(b,d){if(d&&b){var a;if(c.xdomainrequest)a=new xdomainrequest,a.onerror=e,a.ontimeout=e,a.onprogress=e,a.onload=e,a.timeout=0;else if(c.xmlhttprequest){if(a=new xmlhttprequest,!(\"withcredentials\"in a))throw\"\";}else a=void 0;if(!a)throw\"\";a.open(\"post\",b,!0);a.setrequestheader&&a.setrequestheader(\"content-type\",\"text/plain\");a.send(d)}},issupported:!0}}(),g=function(){return{send:function(c,d){if(c&&d)if(navigator.sendbeacon(c, d))b.ue_sbuimp&&b.ue&&b.ue.ssw&&b.ue.ssw(\"eelsts\",\"scs\");else throw\"\";},issupported:!!navigator.sendbeacon&&!(c.cordova&&c.cordova.platformid&&\"ios\"==c.cordova.platformid)}}();b.ue._ajx=f;b.ue._sbcn=g},\"transportation-clients\")(ue_csm,window); ue_csm.ue.exec(function(c,f){function b(){for(var a=0;a a?\"0\"+a:a};return date.prototype.toisostring?a.toisostring():a.getutcfullyear()+\"-\"+b(a.getutcmonth()+1)+\"-\"+b(a.getutcdate())+\"t\"+b(a.getutchours())+\":\"+b(a.getutcminutes())+\":\"+b(a.getutcseconds())+\".\"+string((a.getutcmilliseconds()/1e3).tofixed(3)).slice(2,5)+\"z\"}function x(a){try{return json.stringify(a)}catch(b){}return null}function d(a,b,d,l){var m=!1;l=l||{};q++;q==e&&c({m:\"max number of sushi logs exceeded\",f:\"sushi-client.js\",loglevel:\"error\",attribution:\"csmsushiclient_max_calls\"},f.ue_err_chan|| \"jserr\");var g;if(g=!(q>=e))(g=a&&-1 q)&&n(),r+=b,a={data:t.compressevent(a)},e.push(a),(l||{}).n?0===f?n():u||(u=f.settimeout(n,f)):v||(v=f.settimeout(n,r)),m=!0):m=!1);!m&&c.ue_int&&console.error(\"invalid js nexus api call\");return m}function g(){if(!h){for(var a=0;a (z+w).length||a.charat(0)===z}function c(a){if(a)switch(typeof a){case \"number\":return!(isnan(a)|| infinity===a)&&b(a.tostring());case \"boolean\":break;case \"string\":return b(a);default:return!0}return!1}function d(b){if(c(b)){var g=a;b instanceof array?g=l:b instanceof function?g=a:b instanceof object&&(g=k);switch(g){case a:b=h[b]?h[b]:a(b);break;case l:var e=b;b=[];for(var g=e.length,f=0;f w)d.count&&1==p-w&&(d.count(\"weblabtriggerthresholdreached\",1),b.ue_int&&console.error(\"number of max call reached. data will no longer be send\"));else{var h=c||{};h&&-1 a.length+n?(2e3'"
      ]
     },
     "execution_count": 34,
     "metadata": {},
     "output_type": "execute_result"
    },
    {
     "data": {
      "application/javascript": [
       "\n",
       "            setTimeout(function() {\n",
       "                var nbb_cell_id = 34;\n",
       "                var nbb_unformatted_code = \"feat.loc[feat.str.len().idxmax()]\";\n",
       "                var nbb_formatted_code = \"feat.loc[feat.str.len().idxmax()]\";\n",
       "                var nbb_cells = Jupyter.notebook.get_cells();\n",
       "                for (var i = 0; i < nbb_cells.length; ++i) {\n",
       "                    if (nbb_cells[i].input_prompt_number == nbb_cell_id) {\n",
       "                        if (nbb_cells[i].get_text() == nbb_unformatted_code) {\n",
       "                             nbb_cells[i].set_text(nbb_formatted_code);\n",
       "                        }\n",
       "                        break;\n",
       "                    }\n",
       "                }\n",
       "            }, 500);\n",
       "            "
      ],
      "text/plain": [
       "<IPython.core.display.Javascript object>"
      ]
     },
     "metadata": {},
     "output_type": "display_data"
    }
   ],
   "source": [
    "feat.loc[feat.str.len().idxmax()]"
   ]
  },
  {
   "cell_type": "code",
   "execution_count": 35,
   "metadata": {
    "ExecuteTime": {
     "end_time": "2021-08-23T00:40:35.270018Z",
     "start_time": "2021-08-23T00:40:31.409132Z"
    }
   },
   "outputs": [
    {
     "name": "stdout",
     "output_type": "stream",
     "text": [
      "        len_feature\n",
      "min              17\n",
      "median          280\n",
      "max           1,905\n",
      "\n",
      "\n",
      "           n_trimmed  pct_trimmed\n",
      "feature       79,733            2\n",
      "total_obs     79,733            2\n"
     ]
    },
    {
     "data": {
      "text/plain": [
       "asin\n",
       "B000078OSM    front exterior zipper pocket fully-lined inter...\n",
       "B000078OSM    front exterior zipper pocket fully-lined inter...\n",
       "B0002YE8VQ    man made kitty cat felt with satin bow on the ...\n",
       "B0002YE8VQ    man made kitty cat felt with satin bow on the ...\n",
       "B0009LHRLK    leather zipper closure roomy interior fully-li...\n",
       "Name: feature, dtype: object"
      ]
     },
     "execution_count": 35,
     "metadata": {},
     "output_type": "execute_result"
    },
    {
     "data": {
      "application/javascript": [
       "\n",
       "            setTimeout(function() {\n",
       "                var nbb_cell_id = 35;\n",
       "                var nbb_unformatted_code = \"feat = lang.trim_length_outliers(feat, q_inner=0.98)\\nfeat.head()\";\n",
       "                var nbb_formatted_code = \"feat = lang.trim_length_outliers(feat, q_inner=0.98)\\nfeat.head()\";\n",
       "                var nbb_cells = Jupyter.notebook.get_cells();\n",
       "                for (var i = 0; i < nbb_cells.length; ++i) {\n",
       "                    if (nbb_cells[i].input_prompt_number == nbb_cell_id) {\n",
       "                        if (nbb_cells[i].get_text() == nbb_unformatted_code) {\n",
       "                             nbb_cells[i].set_text(nbb_formatted_code);\n",
       "                        }\n",
       "                        break;\n",
       "                    }\n",
       "                }\n",
       "            }, 500);\n",
       "            "
      ],
      "text/plain": [
       "<IPython.core.display.Javascript object>"
      ]
     },
     "metadata": {},
     "output_type": "display_data"
    }
   ],
   "source": [
    "feat = lang.trim_length_outliers(feat, q_inner=0.98)\n",
    "feat.head()"
   ]
  },
  {
   "cell_type": "code",
   "execution_count": 36,
   "metadata": {
    "ExecuteTime": {
     "end_time": "2021-08-23T00:40:38.885660Z",
     "start_time": "2021-08-23T00:40:35.270989Z"
    }
   },
   "outputs": [
    {
     "data": {
      "text/plain": [
       "'dual camera, dual safeguard! easier for back your car. both the front and rear camera can record and save videos simultaneously. the screen of this dvr provides a clearer view and better images and details for the playback whether in the dvr or computer. from the video file, you would find the license plate number very clear even in the evening or in the rain. 32gb tf card can store about 10 hours of videos and the loop record makes no wasted spaces. superior night vision! h.264 video format and cmos sensor is perfect for the night mode. the superior 7-glass lenses and six assisting led could help the camera save clearer video in a poor light condition. allwinner a20 chipset + nt99141 sensor. what is g-sensor? when your car is being collided or shocked, the camera recorder would lock the current video file and protect it from being deleted or covered. therefore, when a car accident occurs to your car unfortunately, this camera recorder will save the proof for you at once. the sensitivity of g-sensor is adjustable. there is also a lock button for you to lock the current video by hand. motion detection. get ready all the time! when you leave your car for a while and you want the car vdr keep working, just turn off the engine and use a power bank to charge it and then set parking mode (there is internal battery inside it). when there is something moving in the range of the camera, it begins recording and saving video until nothing is moving. this smart system could provide a safe record 24 hours and save more space instead of recording useless video. what is in the box? a210 car vdr with dual camera x1, 6 meters wire for rear camera x1, 32 gb micro sd card x1, power cord(1.2 meters) x1, suction mount x1, sticker hooks x5, usb cable x1, manual x1. quick-response support team provides worry-free solutions and you are welcomed to contact us through e-mail whenever you need help!'"
      ]
     },
     "execution_count": 36,
     "metadata": {},
     "output_type": "execute_result"
    },
    {
     "data": {
      "application/javascript": [
       "\n",
       "            setTimeout(function() {\n",
       "                var nbb_cell_id = 36;\n",
       "                var nbb_unformatted_code = \"feat.loc[feat.str.len().idxmax()]\";\n",
       "                var nbb_formatted_code = \"feat.loc[feat.str.len().idxmax()]\";\n",
       "                var nbb_cells = Jupyter.notebook.get_cells();\n",
       "                for (var i = 0; i < nbb_cells.length; ++i) {\n",
       "                    if (nbb_cells[i].input_prompt_number == nbb_cell_id) {\n",
       "                        if (nbb_cells[i].get_text() == nbb_unformatted_code) {\n",
       "                             nbb_cells[i].set_text(nbb_formatted_code);\n",
       "                        }\n",
       "                        break;\n",
       "                    }\n",
       "                }\n",
       "            }, 500);\n",
       "            "
      ],
      "text/plain": [
       "<IPython.core.display.Javascript object>"
      ]
     },
     "metadata": {},
     "output_type": "display_data"
    }
   ],
   "source": [
    "feat.loc[feat.str.len().idxmax()]"
   ]
  },
  {
   "cell_type": "code",
   "execution_count": 37,
   "metadata": {
    "ExecuteTime": {
     "end_time": "2021-08-23T00:41:24.209673Z",
     "start_time": "2021-08-23T00:40:38.886630Z"
    }
   },
   "outputs": [
    {
     "data": {
      "text/html": [
       "<div>\n",
       "<style scoped>\n",
       "    .dataframe tbody tr th:only-of-type {\n",
       "        vertical-align: middle;\n",
       "    }\n",
       "\n",
       "    .dataframe tbody tr th {\n",
       "        vertical-align: top;\n",
       "    }\n",
       "\n",
       "    .dataframe thead th {\n",
       "        text-align: right;\n",
       "    }\n",
       "</style>\n",
       "<table border=\"1\" class=\"dataframe\">\n",
       "  <thead>\n",
       "    <tr style=\"text-align: right;\">\n",
       "      <th></th>\n",
       "      <th>description</th>\n",
       "      <th>title</th>\n",
       "      <th>brand</th>\n",
       "      <th>price</th>\n",
       "      <th>main_cat</th>\n",
       "      <th>sub_cat</th>\n",
       "      <th>feature</th>\n",
       "    </tr>\n",
       "    <tr>\n",
       "      <th>asin</th>\n",
       "      <th></th>\n",
       "      <th></th>\n",
       "      <th></th>\n",
       "      <th></th>\n",
       "      <th></th>\n",
       "      <th></th>\n",
       "      <th></th>\n",
       "    </tr>\n",
       "  </thead>\n",
       "  <tbody>\n",
       "    <tr>\n",
       "      <th>0000012300</th>\n",
       "      <td>deluxe duffel bag with full length zipper desi...</td>\n",
       "      <td>6ft of acid free linen tape for bookbinding</td>\n",
       "      <td>stansport</td>\n",
       "      <td>4.00</td>\n",
       "      <td>sports &amp; outdoors</td>\n",
       "      <td>[sports &amp; outdoors, outdoor recreation, campin...</td>\n",
       "      <td>cotton canvas acid free</td>\n",
       "    </tr>\n",
       "    <tr>\n",
       "      <th>0000044806</th>\n",
       "      <td>ayurveda holds secrets for all our skin proble...</td>\n",
       "      <td>medimix ayurvedic facewash - 100 ml (pack of 2)</td>\n",
       "      <td>medimix</td>\n",
       "      <td>16.80</td>\n",
       "      <td>health &amp; personal care</td>\n",
       "      <td>NaN</td>\n",
       "      <td>NaN</td>\n",
       "    </tr>\n",
       "    <tr>\n",
       "      <th>0000060259</th>\n",
       "      <td>if you feel that applying powder kumkum is tir...</td>\n",
       "      <td>lakme jewel sindoor (maroon) - pack of 2</td>\n",
       "      <td>lakme</td>\n",
       "      <td>7.99</td>\n",
       "      <td>health &amp; personal care</td>\n",
       "      <td>NaN</td>\n",
       "      <td>NaN</td>\n",
       "    </tr>\n",
       "    <tr>\n",
       "      <th>0000098906</th>\n",
       "      <td>frog - rubbing its spine with the wooden stick...</td>\n",
       "      <td>wooden percussion 3 piece set frog, cricket an...</td>\n",
       "      <td>wadsuwan shop</td>\n",
       "      <td>0.91</td>\n",
       "      <td>musical instruments</td>\n",
       "      <td>[musical instruments, drums &amp; percussion, hand...</td>\n",
       "      <td>wood percussion small 3 inches creates origina...</td>\n",
       "    </tr>\n",
       "    <tr>\n",
       "      <th>0000143502</th>\n",
       "      <td>rise and swine (good eats vol. 7) includes bon...</td>\n",
       "      <td>rise and swine (good eats vol. 7)</td>\n",
       "      <td>alton brown</td>\n",
       "      <td>NaN</td>\n",
       "      <td>movies &amp; tv</td>\n",
       "      <td>[movies &amp; tv, movies]</td>\n",
       "      <td>NaN</td>\n",
       "    </tr>\n",
       "  </tbody>\n",
       "</table>\n",
       "</div>"
      ],
      "text/plain": [
       "                                                  description  \\\n",
       "asin                                                            \n",
       "0000012300  deluxe duffel bag with full length zipper desi...   \n",
       "0000044806  ayurveda holds secrets for all our skin proble...   \n",
       "0000060259  if you feel that applying powder kumkum is tir...   \n",
       "0000098906  frog - rubbing its spine with the wooden stick...   \n",
       "0000143502  rise and swine (good eats vol. 7) includes bon...   \n",
       "\n",
       "                                                        title          brand  \\\n",
       "asin                                                                           \n",
       "0000012300        6ft of acid free linen tape for bookbinding      stansport   \n",
       "0000044806    medimix ayurvedic facewash - 100 ml (pack of 2)        medimix   \n",
       "0000060259           lakme jewel sindoor (maroon) - pack of 2          lakme   \n",
       "0000098906  wooden percussion 3 piece set frog, cricket an...  wadsuwan shop   \n",
       "0000143502                  rise and swine (good eats vol. 7)    alton brown   \n",
       "\n",
       "            price                main_cat  \\\n",
       "asin                                        \n",
       "0000012300   4.00       sports & outdoors   \n",
       "0000044806  16.80  health & personal care   \n",
       "0000060259   7.99  health & personal care   \n",
       "0000098906   0.91     musical instruments   \n",
       "0000143502    NaN             movies & tv   \n",
       "\n",
       "                                                      sub_cat  \\\n",
       "asin                                                            \n",
       "0000012300  [sports & outdoors, outdoor recreation, campin...   \n",
       "0000044806                                                NaN   \n",
       "0000060259                                                NaN   \n",
       "0000098906  [musical instruments, drums & percussion, hand...   \n",
       "0000143502                              [movies & tv, movies]   \n",
       "\n",
       "                                                      feature  \n",
       "asin                                                           \n",
       "0000012300                            cotton canvas acid free  \n",
       "0000044806                                                NaN  \n",
       "0000060259                                                NaN  \n",
       "0000098906  wood percussion small 3 inches creates origina...  \n",
       "0000143502                                                NaN  "
      ]
     },
     "execution_count": 37,
     "metadata": {},
     "output_type": "execute_result"
    },
    {
     "data": {
      "application/javascript": [
       "\n",
       "            setTimeout(function() {\n",
       "                var nbb_cell_id = 37;\n",
       "                var nbb_unformatted_code = \"df = pd.merge(df, feat, left_index=True, right_index=True, how=\\\"left\\\")\\ndf.head()\";\n",
       "                var nbb_formatted_code = \"df = pd.merge(df, feat, left_index=True, right_index=True, how=\\\"left\\\")\\ndf.head()\";\n",
       "                var nbb_cells = Jupyter.notebook.get_cells();\n",
       "                for (var i = 0; i < nbb_cells.length; ++i) {\n",
       "                    if (nbb_cells[i].input_prompt_number == nbb_cell_id) {\n",
       "                        if (nbb_cells[i].get_text() == nbb_unformatted_code) {\n",
       "                             nbb_cells[i].set_text(nbb_formatted_code);\n",
       "                        }\n",
       "                        break;\n",
       "                    }\n",
       "                }\n",
       "            }, 500);\n",
       "            "
      ],
      "text/plain": [
       "<IPython.core.display.Javascript object>"
      ]
     },
     "metadata": {},
     "output_type": "display_data"
    }
   ],
   "source": [
    "df = pd.merge(df, feat, left_index=True, right_index=True, how=\"left\")\n",
    "df.head()"
   ]
  },
  {
   "cell_type": "code",
   "execution_count": 38,
   "metadata": {
    "ExecuteTime": {
     "end_time": "2021-08-23T00:41:56.578715Z",
     "start_time": "2021-08-23T00:41:24.219676Z"
    }
   },
   "outputs": [
    {
     "name": "stdout",
     "output_type": "stream",
     "text": [
      "No categories dropped.\n"
     ]
    },
    {
     "data": {
      "text/html": [
       "<div>\n",
       "<style scoped>\n",
       "    .dataframe tbody tr th:only-of-type {\n",
       "        vertical-align: middle;\n",
       "    }\n",
       "\n",
       "    .dataframe tbody tr th {\n",
       "        vertical-align: top;\n",
       "    }\n",
       "\n",
       "    .dataframe thead th {\n",
       "        text-align: right;\n",
       "    }\n",
       "</style>\n",
       "<table border=\"1\" class=\"dataframe\">\n",
       "  <thead>\n",
       "    <tr style=\"text-align: right;\">\n",
       "      <th></th>\n",
       "      <th>description</th>\n",
       "      <th>title</th>\n",
       "      <th>brand</th>\n",
       "      <th>price</th>\n",
       "      <th>main_cat</th>\n",
       "      <th>sub_cat</th>\n",
       "      <th>feature</th>\n",
       "    </tr>\n",
       "    <tr>\n",
       "      <th>asin</th>\n",
       "      <th></th>\n",
       "      <th></th>\n",
       "      <th></th>\n",
       "      <th></th>\n",
       "      <th></th>\n",
       "      <th></th>\n",
       "      <th></th>\n",
       "    </tr>\n",
       "  </thead>\n",
       "  <tbody>\n",
       "    <tr>\n",
       "      <th>0000012300</th>\n",
       "      <td>deluxe duffel bag with full length zipper desi...</td>\n",
       "      <td>6ft of acid free linen tape for bookbinding</td>\n",
       "      <td>stansport</td>\n",
       "      <td>4.00</td>\n",
       "      <td>sports &amp; outdoors</td>\n",
       "      <td>[sports &amp; outdoors, outdoor recreation, campin...</td>\n",
       "      <td>cotton canvas acid free</td>\n",
       "    </tr>\n",
       "    <tr>\n",
       "      <th>0000044806</th>\n",
       "      <td>ayurveda holds secrets for all our skin proble...</td>\n",
       "      <td>medimix ayurvedic facewash - 100 ml (pack of 2)</td>\n",
       "      <td>medimix</td>\n",
       "      <td>16.80</td>\n",
       "      <td>health &amp; personal care</td>\n",
       "      <td>NaN</td>\n",
       "      <td>NaN</td>\n",
       "    </tr>\n",
       "    <tr>\n",
       "      <th>0000060259</th>\n",
       "      <td>if you feel that applying powder kumkum is tir...</td>\n",
       "      <td>lakme jewel sindoor (maroon) - pack of 2</td>\n",
       "      <td>lakme</td>\n",
       "      <td>7.99</td>\n",
       "      <td>health &amp; personal care</td>\n",
       "      <td>NaN</td>\n",
       "      <td>NaN</td>\n",
       "    </tr>\n",
       "    <tr>\n",
       "      <th>0000098906</th>\n",
       "      <td>frog - rubbing its spine with the wooden stick...</td>\n",
       "      <td>wooden percussion 3 piece set frog, cricket an...</td>\n",
       "      <td>wadsuwan shop</td>\n",
       "      <td>0.91</td>\n",
       "      <td>musical instruments</td>\n",
       "      <td>[musical instruments, drums &amp; percussion, hand...</td>\n",
       "      <td>wood percussion small 3 inches creates origina...</td>\n",
       "    </tr>\n",
       "    <tr>\n",
       "      <th>0000143502</th>\n",
       "      <td>rise and swine (good eats vol. 7) includes bon...</td>\n",
       "      <td>rise and swine (good eats vol. 7)</td>\n",
       "      <td>alton brown</td>\n",
       "      <td>NaN</td>\n",
       "      <td>movies &amp; tv</td>\n",
       "      <td>[movies &amp; tv, movies]</td>\n",
       "      <td>NaN</td>\n",
       "    </tr>\n",
       "  </tbody>\n",
       "</table>\n",
       "</div>"
      ],
      "text/plain": [
       "                                                  description  \\\n",
       "asin                                                            \n",
       "0000012300  deluxe duffel bag with full length zipper desi...   \n",
       "0000044806  ayurveda holds secrets for all our skin proble...   \n",
       "0000060259  if you feel that applying powder kumkum is tir...   \n",
       "0000098906  frog - rubbing its spine with the wooden stick...   \n",
       "0000143502  rise and swine (good eats vol. 7) includes bon...   \n",
       "\n",
       "                                                        title          brand  \\\n",
       "asin                                                                           \n",
       "0000012300        6ft of acid free linen tape for bookbinding      stansport   \n",
       "0000044806    medimix ayurvedic facewash - 100 ml (pack of 2)        medimix   \n",
       "0000060259           lakme jewel sindoor (maroon) - pack of 2          lakme   \n",
       "0000098906  wooden percussion 3 piece set frog, cricket an...  wadsuwan shop   \n",
       "0000143502                  rise and swine (good eats vol. 7)    alton brown   \n",
       "\n",
       "            price                main_cat  \\\n",
       "asin                                        \n",
       "0000012300   4.00       sports & outdoors   \n",
       "0000044806  16.80  health & personal care   \n",
       "0000060259   7.99  health & personal care   \n",
       "0000098906   0.91     musical instruments   \n",
       "0000143502    NaN             movies & tv   \n",
       "\n",
       "                                                      sub_cat  \\\n",
       "asin                                                            \n",
       "0000012300  [sports & outdoors, outdoor recreation, campin...   \n",
       "0000044806                                                NaN   \n",
       "0000060259                                                NaN   \n",
       "0000098906  [musical instruments, drums & percussion, hand...   \n",
       "0000143502                              [movies & tv, movies]   \n",
       "\n",
       "                                                      feature  \n",
       "asin                                                           \n",
       "0000012300                            cotton canvas acid free  \n",
       "0000044806                                                NaN  \n",
       "0000060259                                                NaN  \n",
       "0000098906  wood percussion small 3 inches creates origina...  \n",
       "0000143502                                                NaN  "
      ]
     },
     "execution_count": 38,
     "metadata": {},
     "output_type": "execute_result"
    },
    {
     "data": {
      "application/javascript": [
       "\n",
       "            setTimeout(function() {\n",
       "                var nbb_cell_id = 38;\n",
       "                var nbb_unformatted_code = \"df = utils.prune_categories(df, column=\\\"main_cat\\\", cut=1000)\\ndf.head()\";\n",
       "                var nbb_formatted_code = \"df = utils.prune_categories(df, column=\\\"main_cat\\\", cut=1000)\\ndf.head()\";\n",
       "                var nbb_cells = Jupyter.notebook.get_cells();\n",
       "                for (var i = 0; i < nbb_cells.length; ++i) {\n",
       "                    if (nbb_cells[i].input_prompt_number == nbb_cell_id) {\n",
       "                        if (nbb_cells[i].get_text() == nbb_unformatted_code) {\n",
       "                             nbb_cells[i].set_text(nbb_formatted_code);\n",
       "                        }\n",
       "                        break;\n",
       "                    }\n",
       "                }\n",
       "            }, 500);\n",
       "            "
      ],
      "text/plain": [
       "<IPython.core.display.Javascript object>"
      ]
     },
     "metadata": {},
     "output_type": "display_data"
    }
   ],
   "source": [
    "df = utils.prune_categories(df, column=\"main_cat\", cut=1000)\n",
    "df.head()"
   ]
  },
  {
   "cell_type": "markdown",
   "metadata": {},
   "source": [
    "# Export"
   ]
  },
  {
   "cell_type": "code",
   "execution_count": 39,
   "metadata": {
    "ExecuteTime": {
     "end_time": "2021-08-23T00:43:43.957982Z",
     "start_time": "2021-08-23T00:41:56.579715Z"
    }
   },
   "outputs": [
    {
     "data": {
      "application/javascript": [
       "\n",
       "            setTimeout(function() {\n",
       "                var nbb_cell_id = 39;\n",
       "                var nbb_unformatted_code = \"path = \\\"data/amazon_clean\\\"\\nif os.path.isdir(path):\\n    shutil.rmtree(path)\\n\\ndf.to_parquet(\\n    path,\\n    engine=\\\"pyarrow\\\",\\n    index=True,\\n    partition_cols=[\\\"main_cat\\\"],\\n)\";\n",
       "                var nbb_formatted_code = \"path = \\\"data/amazon_clean\\\"\\nif os.path.isdir(path):\\n    shutil.rmtree(path)\\n\\ndf.to_parquet(\\n    path,\\n    engine=\\\"pyarrow\\\",\\n    index=True,\\n    partition_cols=[\\\"main_cat\\\"],\\n)\";\n",
       "                var nbb_cells = Jupyter.notebook.get_cells();\n",
       "                for (var i = 0; i < nbb_cells.length; ++i) {\n",
       "                    if (nbb_cells[i].input_prompt_number == nbb_cell_id) {\n",
       "                        if (nbb_cells[i].get_text() == nbb_unformatted_code) {\n",
       "                             nbb_cells[i].set_text(nbb_formatted_code);\n",
       "                        }\n",
       "                        break;\n",
       "                    }\n",
       "                }\n",
       "            }, 500);\n",
       "            "
      ],
      "text/plain": [
       "<IPython.core.display.Javascript object>"
      ]
     },
     "metadata": {},
     "output_type": "display_data"
    }
   ],
   "source": [
    "path = \"data/amazon_clean\"\n",
    "if os.path.isdir(path):\n",
    "    shutil.rmtree(path)\n",
    "\n",
    "df.to_parquet(\n",
    "    path,\n",
    "    engine=\"pyarrow\",\n",
    "    index=True,\n",
    "    partition_cols=[\"main_cat\"],\n",
    ")"
   ]
  }
 ],
 "metadata": {
  "interpreter": {
   "hash": "45e948d0256f8c78ae85303b642a175be3add64c95f2eaa9e19fcfd099775c4c"
  },
  "kernelspec": {
   "display_name": "learn-env",
   "language": "python",
   "name": "learn-env"
  },
  "language_info": {
   "codemirror_mode": {
    "name": "ipython",
    "version": 3
   },
   "file_extension": ".py",
   "mimetype": "text/x-python",
   "name": "python",
   "nbconvert_exporter": "python",
   "pygments_lexer": "ipython3",
   "version": "3.8.5"
  },
  "toc": {
   "base_numbering": 1,
   "nav_menu": {},
   "number_sections": true,
   "sideBar": true,
   "skip_h1_title": false,
   "title_cell": "Table of Contents",
   "title_sidebar": "Contents",
   "toc_cell": false,
   "toc_position": {},
   "toc_section_display": true,
   "toc_window_display": false
  }
 },
 "nbformat": 4,
 "nbformat_minor": 2
}
