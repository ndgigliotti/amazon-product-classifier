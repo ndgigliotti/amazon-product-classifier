{
 "cells": [
  {
   "cell_type": "code",
   "execution_count": 1,
   "metadata": {
    "ExecuteTime": {
     "end_time": "2021-08-06T17:48:15.448336Z",
     "start_time": "2021-08-06T17:48:14.926438Z"
    },
    "id": "f5NDXrN2CtH7"
   },
   "outputs": [],
   "source": [
    "import os\n",
    "import json\n",
    "import gzip\n",
    "import pandas as pd\n",
    "from urllib.request import urlopen"
   ]
  },
  {
   "cell_type": "code",
   "execution_count": 2,
   "metadata": {
    "ExecuteTime": {
     "end_time": "2021-08-06T17:48:15.457337Z",
     "start_time": "2021-08-06T17:48:15.449336Z"
    }
   },
   "outputs": [
    {
     "data": {
      "text/plain": [
       "<pandas.io.json._json.JsonReader at 0x20d34f85790>"
      ]
     },
     "execution_count": 2,
     "metadata": {},
     "output_type": "execute_result"
    }
   ],
   "source": [
    "reader = pd.read_json(\"data/amazon_products.json.gz\", lines=True, chunksize=1e3)\n",
    "reader"
   ]
  },
  {
   "cell_type": "code",
   "execution_count": 3,
   "metadata": {
    "ExecuteTime": {
     "end_time": "2021-08-06T17:48:17.097229Z",
     "start_time": "2021-08-06T17:48:16.982227Z"
    }
   },
   "outputs": [
    {
     "data": {
      "text/html": [
       "<div>\n",
       "<style scoped>\n",
       "    .dataframe tbody tr th:only-of-type {\n",
       "        vertical-align: middle;\n",
       "    }\n",
       "\n",
       "    .dataframe tbody tr th {\n",
       "        vertical-align: top;\n",
       "    }\n",
       "\n",
       "    .dataframe thead th {\n",
       "        text-align: right;\n",
       "    }\n",
       "</style>\n",
       "<table border=\"1\" class=\"dataframe\">\n",
       "  <thead>\n",
       "    <tr style=\"text-align: right;\">\n",
       "      <th></th>\n",
       "      <th>category</th>\n",
       "      <th>tech1</th>\n",
       "      <th>description</th>\n",
       "      <th>fit</th>\n",
       "      <th>title</th>\n",
       "      <th>also_buy</th>\n",
       "      <th>image</th>\n",
       "      <th>tech2</th>\n",
       "      <th>brand</th>\n",
       "      <th>feature</th>\n",
       "      <th>rank</th>\n",
       "      <th>also_view</th>\n",
       "      <th>details</th>\n",
       "      <th>main_cat</th>\n",
       "      <th>similar_item</th>\n",
       "      <th>date</th>\n",
       "      <th>price</th>\n",
       "      <th>asin</th>\n",
       "    </tr>\n",
       "  </thead>\n",
       "  <tbody>\n",
       "    <tr>\n",
       "      <th>0</th>\n",
       "      <td>[Clothing, Shoes &amp; Jewelry, Women, Clothing, T...</td>\n",
       "      <td></td>\n",
       "      <td>[(=^ ^=) 1.It is made of high quality material...</td>\n",
       "      <td></td>\n",
       "      <td>Women Blouse, Ninasill Hooded Sweatshirt Coat ...</td>\n",
       "      <td>[]</td>\n",
       "      <td>[https://images-na.ssl-images-amazon.com/image...</td>\n",
       "      <td></td>\n",
       "      <td>Ninasill_Blouse</td>\n",
       "      <td>[Import, Versatile Occasions - Great for Daily...</td>\n",
       "      <td>[]</td>\n",
       "      <td>[]</td>\n",
       "      <td>{}</td>\n",
       "      <td>Movies &amp; TV</td>\n",
       "      <td></td>\n",
       "      <td>&lt;div class=\"a-fixed-left-grid a-spacing-none\"&gt;...</td>\n",
       "      <td>$9.99 - $12.50</td>\n",
       "      <td>6305121869</td>\n",
       "    </tr>\n",
       "    <tr>\n",
       "      <th>1</th>\n",
       "      <td>[Clothing, Shoes &amp; Jewelry, Traditional &amp; Cult...</td>\n",
       "      <td></td>\n",
       "      <td>[&lt;b&gt;&lt;br&gt;Hi friend, welcome to our store. Befor...</td>\n",
       "      <td></td>\n",
       "      <td>Coolred-Women Retro Split Sexy Skinny Premium ...</td>\n",
       "      <td>[]</td>\n",
       "      <td>[https://images-na.ssl-images-amazon.com/image...</td>\n",
       "      <td></td>\n",
       "      <td>Coolred-Women</td>\n",
       "      <td>[100% Spandex, Order Larger If You are Between...</td>\n",
       "      <td>14,082,777 in Clothing, Shoes &amp; Jewelry (</td>\n",
       "      <td>[]</td>\n",
       "      <td>{}</td>\n",
       "      <td>&lt;img src=\"https://images-na.ssl-images-amazon....</td>\n",
       "      <td></td>\n",
       "      <td>&lt;div class=\"a-fixed-left-grid a-spacing-none\"&gt;...</td>\n",
       "      <td>$16.08 - $18.36</td>\n",
       "      <td>6318708057</td>\n",
       "    </tr>\n",
       "    <tr>\n",
       "      <th>2</th>\n",
       "      <td>[Clothing, Shoes &amp; Jewelry, Men, Clothing, Sho...</td>\n",
       "      <td></td>\n",
       "      <td>[Gaok men's pants are all made from cotton mat...</td>\n",
       "      <td>class=\"a-normal a-align-center a-spacing-smal...</td>\n",
       "      <td>Gaok Men's Retro Cotton Multi-Pocket Camo Carg...</td>\n",
       "      <td>[]</td>\n",
       "      <td>[https://images-na.ssl-images-amazon.com/image...</td>\n",
       "      <td></td>\n",
       "      <td>Gaok</td>\n",
       "      <td>[Cotton, Zipper closure, Material:100% cotton,...</td>\n",
       "      <td>2,877,972 in Clothing, Shoes &amp; Jewelry (</td>\n",
       "      <td>[B07CRJ95M7, B008AHISU4, B07B8F98W2, B07DD98Q7...</td>\n",
       "      <td>{}</td>\n",
       "      <td>&lt;img src=\"https://images-na.ssl-images-amazon....</td>\n",
       "      <td></td>\n",
       "      <td>&lt;div class=\"a-fixed-left-grid a-spacing-none\"&gt;...</td>\n",
       "      <td>$26.99</td>\n",
       "      <td>6342506256</td>\n",
       "    </tr>\n",
       "    <tr>\n",
       "      <th>3</th>\n",
       "      <td>[Clothing, Shoes &amp; Jewelry, Men, Clothing, Jea...</td>\n",
       "      <td></td>\n",
       "      <td>[&lt;b&gt;pant size(Unit:inch)&lt;/b&gt;&lt;br&gt; W30(tag30) Wa...</td>\n",
       "      <td>class=\"a-normal a-align-center a-spacing-smal...</td>\n",
       "      <td>QIBOE Men's Baggy Jeans Denim Sweatpants Loose...</td>\n",
       "      <td>[B077GQQKRV, B07CBJQTF6, B07H2Z6S9J, B06Y26PZ5...</td>\n",
       "      <td>[https://images-na.ssl-images-amazon.com/image...</td>\n",
       "      <td></td>\n",
       "      <td>QIBOE</td>\n",
       "      <td>[Denim, Zipper closure, Material: cotton, Styl...</td>\n",
       "      <td>1,506,383 in Clothing, Shoes &amp; Jewelry (</td>\n",
       "      <td>[B07H2Z6S9J, B077GQQKRV, B072XTTTK9, B002DMJOC...</td>\n",
       "      <td>{}</td>\n",
       "      <td>&lt;img src=\"https://images-na.ssl-images-amazon....</td>\n",
       "      <td></td>\n",
       "      <td>&lt;div class=\"a-fixed-left-grid a-spacing-none\"&gt;...</td>\n",
       "      <td>$38.99</td>\n",
       "      <td>6342509379</td>\n",
       "    </tr>\n",
       "    <tr>\n",
       "      <th>4</th>\n",
       "      <td>[Clothing, Shoes &amp; Jewelry, Women, Accessories...</td>\n",
       "      <td></td>\n",
       "      <td>[All of our sunglasses offer protection agains...</td>\n",
       "      <td></td>\n",
       "      <td>Crazy Explosion-proof Lens Polarized Sunglasse...</td>\n",
       "      <td>[]</td>\n",
       "      <td>[https://images-na.ssl-images-amazon.com/image...</td>\n",
       "      <td></td>\n",
       "      <td>OLO</td>\n",
       "      <td>[Material: Polycarbonate, Main features: Windp...</td>\n",
       "      <td>936,295 in Sports &amp; Outdoors (</td>\n",
       "      <td>[B00V6F372G]</td>\n",
       "      <td>{'ASIN: ': '6342522081'}</td>\n",
       "      <td>Sports &amp; Outdoors</td>\n",
       "      <td></td>\n",
       "      <td></td>\n",
       "      <td>$3.29</td>\n",
       "      <td>6342522081</td>\n",
       "    </tr>\n",
       "  </tbody>\n",
       "</table>\n",
       "</div>"
      ],
      "text/plain": [
       "                                            category tech1  \\\n",
       "0  [Clothing, Shoes & Jewelry, Women, Clothing, T...         \n",
       "1  [Clothing, Shoes & Jewelry, Traditional & Cult...         \n",
       "2  [Clothing, Shoes & Jewelry, Men, Clothing, Sho...         \n",
       "3  [Clothing, Shoes & Jewelry, Men, Clothing, Jea...         \n",
       "4  [Clothing, Shoes & Jewelry, Women, Accessories...         \n",
       "\n",
       "                                         description  \\\n",
       "0  [(=^ ^=) 1.It is made of high quality material...   \n",
       "1  [<b><br>Hi friend, welcome to our store. Befor...   \n",
       "2  [Gaok men's pants are all made from cotton mat...   \n",
       "3  [<b>pant size(Unit:inch)</b><br> W30(tag30) Wa...   \n",
       "4  [All of our sunglasses offer protection agains...   \n",
       "\n",
       "                                                 fit  \\\n",
       "0                                                      \n",
       "1                                                      \n",
       "2   class=\"a-normal a-align-center a-spacing-smal...   \n",
       "3   class=\"a-normal a-align-center a-spacing-smal...   \n",
       "4                                                      \n",
       "\n",
       "                                               title  \\\n",
       "0  Women Blouse, Ninasill Hooded Sweatshirt Coat ...   \n",
       "1  Coolred-Women Retro Split Sexy Skinny Premium ...   \n",
       "2  Gaok Men's Retro Cotton Multi-Pocket Camo Carg...   \n",
       "3  QIBOE Men's Baggy Jeans Denim Sweatpants Loose...   \n",
       "4  Crazy Explosion-proof Lens Polarized Sunglasse...   \n",
       "\n",
       "                                            also_buy  \\\n",
       "0                                                 []   \n",
       "1                                                 []   \n",
       "2                                                 []   \n",
       "3  [B077GQQKRV, B07CBJQTF6, B07H2Z6S9J, B06Y26PZ5...   \n",
       "4                                                 []   \n",
       "\n",
       "                                               image tech2            brand  \\\n",
       "0  [https://images-na.ssl-images-amazon.com/image...        Ninasill_Blouse   \n",
       "1  [https://images-na.ssl-images-amazon.com/image...          Coolred-Women   \n",
       "2  [https://images-na.ssl-images-amazon.com/image...                   Gaok   \n",
       "3  [https://images-na.ssl-images-amazon.com/image...                  QIBOE   \n",
       "4  [https://images-na.ssl-images-amazon.com/image...                    OLO   \n",
       "\n",
       "                                             feature  \\\n",
       "0  [Import, Versatile Occasions - Great for Daily...   \n",
       "1  [100% Spandex, Order Larger If You are Between...   \n",
       "2  [Cotton, Zipper closure, Material:100% cotton,...   \n",
       "3  [Denim, Zipper closure, Material: cotton, Styl...   \n",
       "4  [Material: Polycarbonate, Main features: Windp...   \n",
       "\n",
       "                                        rank  \\\n",
       "0                                         []   \n",
       "1  14,082,777 in Clothing, Shoes & Jewelry (   \n",
       "2   2,877,972 in Clothing, Shoes & Jewelry (   \n",
       "3   1,506,383 in Clothing, Shoes & Jewelry (   \n",
       "4             936,295 in Sports & Outdoors (   \n",
       "\n",
       "                                           also_view  \\\n",
       "0                                                 []   \n",
       "1                                                 []   \n",
       "2  [B07CRJ95M7, B008AHISU4, B07B8F98W2, B07DD98Q7...   \n",
       "3  [B07H2Z6S9J, B077GQQKRV, B072XTTTK9, B002DMJOC...   \n",
       "4                                       [B00V6F372G]   \n",
       "\n",
       "                    details  \\\n",
       "0                        {}   \n",
       "1                        {}   \n",
       "2                        {}   \n",
       "3                        {}   \n",
       "4  {'ASIN: ': '6342522081'}   \n",
       "\n",
       "                                            main_cat similar_item  \\\n",
       "0                                        Movies & TV                \n",
       "1  <img src=\"https://images-na.ssl-images-amazon....                \n",
       "2  <img src=\"https://images-na.ssl-images-amazon....                \n",
       "3  <img src=\"https://images-na.ssl-images-amazon....                \n",
       "4                                  Sports & Outdoors                \n",
       "\n",
       "                                                date            price  \\\n",
       "0  <div class=\"a-fixed-left-grid a-spacing-none\">...   $9.99 - $12.50   \n",
       "1  <div class=\"a-fixed-left-grid a-spacing-none\">...  $16.08 - $18.36   \n",
       "2  <div class=\"a-fixed-left-grid a-spacing-none\">...           $26.99   \n",
       "3  <div class=\"a-fixed-left-grid a-spacing-none\">...           $38.99   \n",
       "4                                                               $3.29   \n",
       "\n",
       "         asin  \n",
       "0  6305121869  \n",
       "1  6318708057  \n",
       "2  6342506256  \n",
       "3  6342509379  \n",
       "4  6342522081  "
      ]
     },
     "metadata": {},
     "output_type": "display_data"
    }
   ],
   "source": [
    "for chunk in reader:\n",
    "    display(chunk.head())\n",
    "    break"
   ]
  },
  {
   "cell_type": "code",
   "execution_count": 44,
   "metadata": {
    "ExecuteTime": {
     "end_time": "2021-08-06T17:07:39.447385Z",
     "start_time": "2021-08-06T17:07:39.427387Z"
    },
    "colab": {
     "base_uri": "https://localhost:8080/",
     "height": 71
    },
    "id": "7igYuRaV4bF7",
    "outputId": "c0595e40-c850-43b2-d32a-43cb2cbd0e1f"
   },
   "outputs": [
    {
     "name": "stdout",
     "output_type": "stream",
     "text": [
      "['__abstractmethods__', '__class__', '__del__', '__delattr__', '__dict__', '__dir__', '__doc__', '__enter__', '__eq__', '__exit__', '__format__', '__ge__', '__getattribute__', '__gt__', '__hash__', '__init__', '__init_subclass__', '__iter__', '__le__', '__lt__', '__module__', '__ne__', '__new__', '__next__', '__reduce__', '__reduce_ex__', '__repr__', '__setattr__', '__sizeof__', '__str__', '__subclasshook__', '_abc_impl', '_buffer', '_checkClosed', '_checkReadable', '_checkSeekable', '_checkWritable', '_check_can_read', '_check_can_seek', '_check_can_write', '_check_not_closed', '_init_write', '_write_gzip_header', 'close', 'closed', 'detach', 'filename', 'fileno', 'fileobj', 'flush', 'isatty', 'mode', 'mtime', 'myfileobj', 'name', 'peek', 'read', 'read1', 'readable', 'readinto', 'readinto1', 'readline', 'readlines', 'rewind', 'seek', 'seekable', 'tell', 'truncate', 'writable', 'write', 'writelines']\n",
      "1\n"
     ]
    }
   ],
   "source": [
    "### load the meta data\n",
    "\n",
    "data = []\n",
    "with gzip.open('data/amazon_products.json.gz') as f:\n",
    "    print(dir(f))\n",
    "    print(f.mode)\n",
    "#     for l in f:\n",
    "#         data.append(json.loads(l.strip()))\n",
    "    \n",
    "# # total length of list, this number equals total number of products\n",
    "# print(len(data))\n",
    "\n",
    "# # first row of the list\n",
    "# print(data[0])"
   ]
  },
  {
   "cell_type": "code",
   "execution_count": null,
   "metadata": {
    "colab": {
     "base_uri": "https://localhost:8080/",
     "height": 34
    },
    "id": "knpHP22w4scK",
    "outputId": "b75be678-1377-4b8c-b689-56e1eab703b8"
   },
   "outputs": [
    {
     "name": "stdout",
     "output_type": "stream",
     "text": [
      "18772\n"
     ]
    }
   ],
   "source": [
    "# convert list into pandas dataframe\n",
    "\n",
    "df = pd.DataFrame.from_dict(data)\n",
    "\n",
    "print(len(df))"
   ]
  },
  {
   "cell_type": "code",
   "execution_count": null,
   "metadata": {
    "colab": {
     "base_uri": "https://localhost:8080/",
     "height": 51
    },
    "id": "LgWrDtZ94w89",
    "outputId": "7e22e4ab-1622-4452-ce81-54e85ef92522"
   },
   "outputs": [
    {
     "name": "stdout",
     "output_type": "stream",
     "text": [
      "135\n",
      "18637\n"
     ]
    }
   ],
   "source": [
    "### remove rows with unformatted title (i.e. some 'title' may still contain html style content)\n",
    "\n",
    "df3 = df.fillna('')\n",
    "df4 = df3[df3.title.str.contains('getTime')] # unformatted rows\n",
    "df5 = df3[~df3.title.str.contains('getTime')] # filter those unformatted rows\n",
    "print(len(df4))\n",
    "print(len(df5))"
   ]
  },
  {
   "cell_type": "code",
   "execution_count": null,
   "metadata": {
    "colab": {
     "base_uri": "https://localhost:8080/",
     "height": 306
    },
    "id": "7Vq32rQd5D9W",
    "outputId": "2965e85b-d993-4520-a992-d42e0cec3f01"
   },
   "outputs": [
    {
     "data": {
      "text/plain": [
       "description                                                      \n",
       "title           var aPageStart = (new Date()).getTime();\\nvar ...\n",
       "image                                                            \n",
       "brand                                              DS Miller Inc.\n",
       "rank            [>#1,826,312 in Electronics (See Top 100 in El...\n",
       "main_cat                                                Computers\n",
       "date                                                March 1, 2010\n",
       "asin                                                   B0016C5EXY\n",
       "feature                                                          \n",
       "tech1                                                            \n",
       "also_buy                                                         \n",
       "price                                                            \n",
       "also_view                                                        \n",
       "tech2                                                            \n",
       "details                                                          \n",
       "similar_item                                                     \n",
       "Name: 1186, dtype: object"
      ]
     },
     "execution_count": 7,
     "metadata": {
      "tags": []
     },
     "output_type": "execute_result"
    }
   ],
   "source": [
    "# how those unformatted rows look like\n",
    "df4.iloc[0]"
   ]
  },
  {
   "cell_type": "code",
   "execution_count": null,
   "metadata": {
    "id": "6LBLzsFU5LJ_"
   },
   "outputs": [],
   "source": []
  },
  {
   "cell_type": "code",
   "execution_count": null,
   "metadata": {
    "id": "WqZcdGp-5cui"
   },
   "outputs": [],
   "source": []
  }
 ],
 "metadata": {
  "colab": {
   "collapsed_sections": [],
   "name": "parse_and_clean_meta_data.ipynb",
   "provenance": []
  },
  "kernelspec": {
   "display_name": "Python 3",
   "language": "python",
   "name": "python3"
  },
  "language_info": {
   "codemirror_mode": {
    "name": "ipython",
    "version": 3
   },
   "file_extension": ".py",
   "mimetype": "text/x-python",
   "name": "python",
   "nbconvert_exporter": "python",
   "pygments_lexer": "ipython3",
   "version": "3.8.5"
  },
  "toc": {
   "base_numbering": 1,
   "nav_menu": {},
   "number_sections": true,
   "sideBar": true,
   "skip_h1_title": false,
   "title_cell": "Table of Contents",
   "title_sidebar": "Contents",
   "toc_cell": false,
   "toc_position": {},
   "toc_section_display": true,
   "toc_window_display": false
  }
 },
 "nbformat": 4,
 "nbformat_minor": 1
}
