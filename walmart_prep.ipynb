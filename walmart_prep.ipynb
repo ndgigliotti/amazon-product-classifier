{
 "cells": [
  {
   "cell_type": "code",
   "execution_count": 1,
   "metadata": {
    "ExecuteTime": {
     "end_time": "2021-09-20T18:17:50.802742Z",
     "start_time": "2021-09-20T18:17:47.925558Z"
    }
   },
   "outputs": [
    {
     "data": {
      "text/html": [
       "<div>\n",
       "<style scoped>\n",
       "    .dataframe tbody tr th:only-of-type {\n",
       "        vertical-align: middle;\n",
       "    }\n",
       "\n",
       "    .dataframe tbody tr th {\n",
       "        vertical-align: top;\n",
       "    }\n",
       "\n",
       "    .dataframe thead th {\n",
       "        text-align: right;\n",
       "    }\n",
       "</style>\n",
       "<table border=\"1\" class=\"dataframe\">\n",
       "  <thead>\n",
       "    <tr style=\"text-align: right;\">\n",
       "      <th></th>\n",
       "      <th>Product Name</th>\n",
       "      <th>Description</th>\n",
       "      <th>Brand</th>\n",
       "      <th>Category</th>\n",
       "    </tr>\n",
       "  </thead>\n",
       "  <tbody>\n",
       "    <tr>\n",
       "      <th>0</th>\n",
       "      <td>La Costena Chipotle Peppers, 7 OZ (Pack of 12)</td>\n",
       "      <td>We aim to show you accurate product informati...</td>\n",
       "      <td>La Costeï¿½ï¿½a</td>\n",
       "      <td>Food | Meal Solutions, Grains &amp; Pasta | Canned...</td>\n",
       "    </tr>\n",
       "    <tr>\n",
       "      <th>1</th>\n",
       "      <td>Equate Triamcinolone Acetonide Nasal Allergy S...</td>\n",
       "      <td>We aim to show you accurate product informati...</td>\n",
       "      <td>Equate</td>\n",
       "      <td>Health | Equate | Equate Allergy | Equate Sinu...</td>\n",
       "    </tr>\n",
       "    <tr>\n",
       "      <th>2</th>\n",
       "      <td>AduroSmart ERIA Soft White Smart A19 Light Bul...</td>\n",
       "      <td>We aim to show you accurate product informati...</td>\n",
       "      <td>AduroSmart ERIA</td>\n",
       "      <td>Electronics | Smart Home | Smart Energy and Li...</td>\n",
       "    </tr>\n",
       "    <tr>\n",
       "      <th>3</th>\n",
       "      <td>24\" Classic Adjustable Balloon Fender Set Chro...</td>\n",
       "      <td>We aim to show you accurate product informati...</td>\n",
       "      <td>lowrider</td>\n",
       "      <td>Sports &amp; Outdoors | Bikes | Bike Accessories |...</td>\n",
       "    </tr>\n",
       "    <tr>\n",
       "      <th>4</th>\n",
       "      <td>Elephant Shape Silicone Drinkware Portable Sil...</td>\n",
       "      <td>We aim to show you accurate product informati...</td>\n",
       "      <td>Anself</td>\n",
       "      <td>Baby | Feeding | Sippy Cups: Alternatives to P...</td>\n",
       "    </tr>\n",
       "    <tr>\n",
       "      <th>...</th>\n",
       "      <td>...</td>\n",
       "      <td>...</td>\n",
       "      <td>...</td>\n",
       "      <td>...</td>\n",
       "    </tr>\n",
       "    <tr>\n",
       "      <th>29995</th>\n",
       "      <td>McCain Smiles</td>\n",
       "      <td>We aim to show you accurate product informati...</td>\n",
       "      <td>McCain</td>\n",
       "      <td>Food | Frozen Foods | Frozen Vegetables</td>\n",
       "    </tr>\n",
       "    <tr>\n",
       "      <th>29996</th>\n",
       "      <td>Shock Sox Fork Seal Guards 29-36mm Fork Tube 4...</td>\n",
       "      <td>We aim to show you accurate product informati...</td>\n",
       "      <td>Shock Sox</td>\n",
       "      <td>Sports &amp; Outdoors | Bikes | Bike Components | ...</td>\n",
       "    </tr>\n",
       "    <tr>\n",
       "      <th>29997</th>\n",
       "      <td>Princes Gooseberries 300g</td>\n",
       "      <td>We aim to show you accurate product informati...</td>\n",
       "      <td>Princes</td>\n",
       "      <td>Food | Meal Solutions, Grains &amp; Pasta | Canned...</td>\n",
       "    </tr>\n",
       "    <tr>\n",
       "      <th>29998</th>\n",
       "      <td>Create Ion Grace 3/4 Inches Straight Hair Iron...</td>\n",
       "      <td>We aim to show you accurate product informati...</td>\n",
       "      <td>Create Ion</td>\n",
       "      <td>Beauty | Hair Care | Hair Styling Tools | Flat...</td>\n",
       "    </tr>\n",
       "    <tr>\n",
       "      <th>29999</th>\n",
       "      <td>Green Bell Takuminowaza Two Way Ear Pick Brass...</td>\n",
       "      <td>We aim to show you accurate product informati...</td>\n",
       "      <td>Takuminowaza</td>\n",
       "      <td>Beauty | Here for Every Beauty | Featured Shop...</td>\n",
       "    </tr>\n",
       "  </tbody>\n",
       "</table>\n",
       "<p>30000 rows × 4 columns</p>\n",
       "</div>"
      ],
      "text/plain": [
       "                                            Product Name  \\\n",
       "0         La Costena Chipotle Peppers, 7 OZ (Pack of 12)   \n",
       "1      Equate Triamcinolone Acetonide Nasal Allergy S...   \n",
       "2      AduroSmart ERIA Soft White Smart A19 Light Bul...   \n",
       "3      24\" Classic Adjustable Balloon Fender Set Chro...   \n",
       "4      Elephant Shape Silicone Drinkware Portable Sil...   \n",
       "...                                                  ...   \n",
       "29995                                      McCain Smiles   \n",
       "29996  Shock Sox Fork Seal Guards 29-36mm Fork Tube 4...   \n",
       "29997                          Princes Gooseberries 300g   \n",
       "29998  Create Ion Grace 3/4 Inches Straight Hair Iron...   \n",
       "29999  Green Bell Takuminowaza Two Way Ear Pick Brass...   \n",
       "\n",
       "                                             Description            Brand  \\\n",
       "0       We aim to show you accurate product informati...  La Costeï¿½ï¿½a   \n",
       "1       We aim to show you accurate product informati...           Equate   \n",
       "2       We aim to show you accurate product informati...  AduroSmart ERIA   \n",
       "3       We aim to show you accurate product informati...         lowrider   \n",
       "4       We aim to show you accurate product informati...           Anself   \n",
       "...                                                  ...              ...   \n",
       "29995   We aim to show you accurate product informati...           McCain   \n",
       "29996   We aim to show you accurate product informati...        Shock Sox   \n",
       "29997   We aim to show you accurate product informati...          Princes   \n",
       "29998   We aim to show you accurate product informati...       Create Ion   \n",
       "29999   We aim to show you accurate product informati...     Takuminowaza   \n",
       "\n",
       "                                                Category  \n",
       "0      Food | Meal Solutions, Grains & Pasta | Canned...  \n",
       "1      Health | Equate | Equate Allergy | Equate Sinu...  \n",
       "2      Electronics | Smart Home | Smart Energy and Li...  \n",
       "3      Sports & Outdoors | Bikes | Bike Accessories |...  \n",
       "4      Baby | Feeding | Sippy Cups: Alternatives to P...  \n",
       "...                                                  ...  \n",
       "29995            Food | Frozen Foods | Frozen Vegetables  \n",
       "29996  Sports & Outdoors | Bikes | Bike Components | ...  \n",
       "29997  Food | Meal Solutions, Grains & Pasta | Canned...  \n",
       "29998  Beauty | Hair Care | Hair Styling Tools | Flat...  \n",
       "29999  Beauty | Here for Every Beauty | Featured Shop...  \n",
       "\n",
       "[30000 rows x 4 columns]"
      ]
     },
     "execution_count": 1,
     "metadata": {},
     "output_type": "execute_result"
    }
   ],
   "source": [
    "import pandas as pd\n",
    "from tools import language as lang, outliers, cleaning\n",
    "\n",
    "cols = [\"Product Name\", \"Category\", \"Description\", \"Brand\"]\n",
    "df = pd.read_csv(\"data/walmart.csv\", usecols=cols)\n",
    "df"
   ]
  },
  {
   "cell_type": "code",
   "execution_count": 2,
   "metadata": {
    "ExecuteTime": {
     "end_time": "2021-09-20T18:17:50.818742Z",
     "start_time": "2021-09-20T18:17:50.803742Z"
    }
   },
   "outputs": [
    {
     "data": {
      "text/html": [
       "<div>\n",
       "<style scoped>\n",
       "    .dataframe tbody tr th:only-of-type {\n",
       "        vertical-align: middle;\n",
       "    }\n",
       "\n",
       "    .dataframe tbody tr th {\n",
       "        vertical-align: top;\n",
       "    }\n",
       "\n",
       "    .dataframe thead th {\n",
       "        text-align: right;\n",
       "    }\n",
       "</style>\n",
       "<table border=\"1\" class=\"dataframe\">\n",
       "  <thead>\n",
       "    <tr style=\"text-align: right;\">\n",
       "      <th></th>\n",
       "      <th>title</th>\n",
       "      <th>description</th>\n",
       "      <th>brand</th>\n",
       "      <th>category</th>\n",
       "    </tr>\n",
       "  </thead>\n",
       "  <tbody>\n",
       "    <tr>\n",
       "      <th>0</th>\n",
       "      <td>La Costena Chipotle Peppers, 7 OZ (Pack of 12)</td>\n",
       "      <td>We aim to show you accurate product informati...</td>\n",
       "      <td>La Costeï¿½ï¿½a</td>\n",
       "      <td>Food | Meal Solutions, Grains &amp; Pasta | Canned...</td>\n",
       "    </tr>\n",
       "    <tr>\n",
       "      <th>1</th>\n",
       "      <td>Equate Triamcinolone Acetonide Nasal Allergy S...</td>\n",
       "      <td>We aim to show you accurate product informati...</td>\n",
       "      <td>Equate</td>\n",
       "      <td>Health | Equate | Equate Allergy | Equate Sinu...</td>\n",
       "    </tr>\n",
       "    <tr>\n",
       "      <th>2</th>\n",
       "      <td>AduroSmart ERIA Soft White Smart A19 Light Bul...</td>\n",
       "      <td>We aim to show you accurate product informati...</td>\n",
       "      <td>AduroSmart ERIA</td>\n",
       "      <td>Electronics | Smart Home | Smart Energy and Li...</td>\n",
       "    </tr>\n",
       "    <tr>\n",
       "      <th>3</th>\n",
       "      <td>24\" Classic Adjustable Balloon Fender Set Chro...</td>\n",
       "      <td>We aim to show you accurate product informati...</td>\n",
       "      <td>lowrider</td>\n",
       "      <td>Sports &amp; Outdoors | Bikes | Bike Accessories |...</td>\n",
       "    </tr>\n",
       "    <tr>\n",
       "      <th>4</th>\n",
       "      <td>Elephant Shape Silicone Drinkware Portable Sil...</td>\n",
       "      <td>We aim to show you accurate product informati...</td>\n",
       "      <td>Anself</td>\n",
       "      <td>Baby | Feeding | Sippy Cups: Alternatives to P...</td>\n",
       "    </tr>\n",
       "  </tbody>\n",
       "</table>\n",
       "</div>"
      ],
      "text/plain": [
       "                                               title  \\\n",
       "0     La Costena Chipotle Peppers, 7 OZ (Pack of 12)   \n",
       "1  Equate Triamcinolone Acetonide Nasal Allergy S...   \n",
       "2  AduroSmart ERIA Soft White Smart A19 Light Bul...   \n",
       "3  24\" Classic Adjustable Balloon Fender Set Chro...   \n",
       "4  Elephant Shape Silicone Drinkware Portable Sil...   \n",
       "\n",
       "                                         description            brand  \\\n",
       "0   We aim to show you accurate product informati...  La Costeï¿½ï¿½a   \n",
       "1   We aim to show you accurate product informati...           Equate   \n",
       "2   We aim to show you accurate product informati...  AduroSmart ERIA   \n",
       "3   We aim to show you accurate product informati...         lowrider   \n",
       "4   We aim to show you accurate product informati...           Anself   \n",
       "\n",
       "                                            category  \n",
       "0  Food | Meal Solutions, Grains & Pasta | Canned...  \n",
       "1  Health | Equate | Equate Allergy | Equate Sinu...  \n",
       "2  Electronics | Smart Home | Smart Energy and Li...  \n",
       "3  Sports & Outdoors | Bikes | Bike Accessories |...  \n",
       "4  Baby | Feeding | Sippy Cups: Alternatives to P...  "
      ]
     },
     "execution_count": 2,
     "metadata": {},
     "output_type": "execute_result"
    }
   ],
   "source": [
    "df.rename({\"Product Name\": \"title\"}, axis=1, inplace=True)\n",
    "df.columns = df.columns.str.lower()\n",
    "df.head()"
   ]
  },
  {
   "cell_type": "code",
   "execution_count": 3,
   "metadata": {
    "ExecuteTime": {
     "end_time": "2021-09-20T18:17:50.898743Z",
     "start_time": "2021-09-20T18:17:50.820742Z"
    }
   },
   "outputs": [
    {
     "data": {
      "text/html": [
       "<div>\n",
       "<style scoped>\n",
       "    .dataframe tbody tr th:only-of-type {\n",
       "        vertical-align: middle;\n",
       "    }\n",
       "\n",
       "    .dataframe tbody tr th {\n",
       "        vertical-align: top;\n",
       "    }\n",
       "\n",
       "    .dataframe thead th {\n",
       "        text-align: right;\n",
       "    }\n",
       "</style>\n",
       "<table border=\"1\" class=\"dataframe\">\n",
       "  <thead>\n",
       "    <tr style=\"text-align: right;\">\n",
       "      <th></th>\n",
       "      <th>title</th>\n",
       "      <th>description</th>\n",
       "      <th>brand</th>\n",
       "      <th>category</th>\n",
       "    </tr>\n",
       "  </thead>\n",
       "  <tbody>\n",
       "    <tr>\n",
       "      <th>0</th>\n",
       "      <td>La Costena Chipotle Peppers, 7 OZ (Pack of 12)</td>\n",
       "      <td>We aim to show you accurate product informati...</td>\n",
       "      <td>La Costeï¿½ï¿½a</td>\n",
       "      <td>Food | Meal Solutions, Grains &amp; Pasta | Canned...</td>\n",
       "    </tr>\n",
       "    <tr>\n",
       "      <th>1</th>\n",
       "      <td>Equate Triamcinolone Acetonide Nasal Allergy S...</td>\n",
       "      <td>We aim to show you accurate product informati...</td>\n",
       "      <td>Equate</td>\n",
       "      <td>Health | Equate | Equate Allergy | Equate Sinu...</td>\n",
       "    </tr>\n",
       "    <tr>\n",
       "      <th>2</th>\n",
       "      <td>AduroSmart ERIA Soft White Smart A19 Light Bul...</td>\n",
       "      <td>We aim to show you accurate product informati...</td>\n",
       "      <td>AduroSmart ERIA</td>\n",
       "      <td>Electronics | Smart Home | Smart Energy and Li...</td>\n",
       "    </tr>\n",
       "    <tr>\n",
       "      <th>3</th>\n",
       "      <td>24\" Classic Adjustable Balloon Fender Set Chro...</td>\n",
       "      <td>We aim to show you accurate product informati...</td>\n",
       "      <td>lowrider</td>\n",
       "      <td>Sports &amp; Outdoors | Bikes | Bike Accessories |...</td>\n",
       "    </tr>\n",
       "    <tr>\n",
       "      <th>4</th>\n",
       "      <td>Elephant Shape Silicone Drinkware Portable Sil...</td>\n",
       "      <td>We aim to show you accurate product informati...</td>\n",
       "      <td>Anself</td>\n",
       "      <td>Baby | Feeding | Sippy Cups: Alternatives to P...</td>\n",
       "    </tr>\n",
       "    <tr>\n",
       "      <th>...</th>\n",
       "      <td>...</td>\n",
       "      <td>...</td>\n",
       "      <td>...</td>\n",
       "      <td>...</td>\n",
       "    </tr>\n",
       "    <tr>\n",
       "      <th>29994</th>\n",
       "      <td>Sheng Xiang Zhen (ShengXiangZhen) Snack + OneN...</td>\n",
       "      <td>We aim to show you accurate product informati...</td>\n",
       "      <td>NineChef</td>\n",
       "      <td>Food | Snacks, Cookies &amp; Chips | Chips &amp; Crisp...</td>\n",
       "    </tr>\n",
       "    <tr>\n",
       "      <th>29995</th>\n",
       "      <td>McCain Smiles</td>\n",
       "      <td>We aim to show you accurate product informati...</td>\n",
       "      <td>McCain</td>\n",
       "      <td>Food | Frozen Foods | Frozen Vegetables</td>\n",
       "    </tr>\n",
       "    <tr>\n",
       "      <th>29997</th>\n",
       "      <td>Princes Gooseberries 300g</td>\n",
       "      <td>We aim to show you accurate product informati...</td>\n",
       "      <td>Princes</td>\n",
       "      <td>Food | Meal Solutions, Grains &amp; Pasta | Canned...</td>\n",
       "    </tr>\n",
       "    <tr>\n",
       "      <th>29998</th>\n",
       "      <td>Create Ion Grace 3/4 Inches Straight Hair Iron...</td>\n",
       "      <td>We aim to show you accurate product informati...</td>\n",
       "      <td>Create Ion</td>\n",
       "      <td>Beauty | Hair Care | Hair Styling Tools | Flat...</td>\n",
       "    </tr>\n",
       "    <tr>\n",
       "      <th>29999</th>\n",
       "      <td>Green Bell Takuminowaza Two Way Ear Pick Brass...</td>\n",
       "      <td>We aim to show you accurate product informati...</td>\n",
       "      <td>Takuminowaza</td>\n",
       "      <td>Beauty | Here for Every Beauty | Featured Shop...</td>\n",
       "    </tr>\n",
       "  </tbody>\n",
       "</table>\n",
       "<p>29045 rows × 4 columns</p>\n",
       "</div>"
      ],
      "text/plain": [
       "                                                   title  \\\n",
       "0         La Costena Chipotle Peppers, 7 OZ (Pack of 12)   \n",
       "1      Equate Triamcinolone Acetonide Nasal Allergy S...   \n",
       "2      AduroSmart ERIA Soft White Smart A19 Light Bul...   \n",
       "3      24\" Classic Adjustable Balloon Fender Set Chro...   \n",
       "4      Elephant Shape Silicone Drinkware Portable Sil...   \n",
       "...                                                  ...   \n",
       "29994  Sheng Xiang Zhen (ShengXiangZhen) Snack + OneN...   \n",
       "29995                                      McCain Smiles   \n",
       "29997                          Princes Gooseberries 300g   \n",
       "29998  Create Ion Grace 3/4 Inches Straight Hair Iron...   \n",
       "29999  Green Bell Takuminowaza Two Way Ear Pick Brass...   \n",
       "\n",
       "                                             description            brand  \\\n",
       "0       We aim to show you accurate product informati...  La Costeï¿½ï¿½a   \n",
       "1       We aim to show you accurate product informati...           Equate   \n",
       "2       We aim to show you accurate product informati...  AduroSmart ERIA   \n",
       "3       We aim to show you accurate product informati...         lowrider   \n",
       "4       We aim to show you accurate product informati...           Anself   \n",
       "...                                                  ...              ...   \n",
       "29994   We aim to show you accurate product informati...         NineChef   \n",
       "29995   We aim to show you accurate product informati...           McCain   \n",
       "29997   We aim to show you accurate product informati...          Princes   \n",
       "29998   We aim to show you accurate product informati...       Create Ion   \n",
       "29999   We aim to show you accurate product informati...     Takuminowaza   \n",
       "\n",
       "                                                category  \n",
       "0      Food | Meal Solutions, Grains & Pasta | Canned...  \n",
       "1      Health | Equate | Equate Allergy | Equate Sinu...  \n",
       "2      Electronics | Smart Home | Smart Energy and Li...  \n",
       "3      Sports & Outdoors | Bikes | Bike Accessories |...  \n",
       "4      Baby | Feeding | Sippy Cups: Alternatives to P...  \n",
       "...                                                  ...  \n",
       "29994  Food | Snacks, Cookies & Chips | Chips & Crisp...  \n",
       "29995            Food | Frozen Foods | Frozen Vegetables  \n",
       "29997  Food | Meal Solutions, Grains & Pasta | Canned...  \n",
       "29998  Beauty | Hair Care | Hair Styling Tools | Flat...  \n",
       "29999  Beauty | Here for Every Beauty | Featured Shop...  \n",
       "\n",
       "[29045 rows x 4 columns]"
      ]
     },
     "execution_count": 3,
     "metadata": {},
     "output_type": "execute_result"
    }
   ],
   "source": [
    "df.drop_duplicates(subset=[\"title\", \"brand\"], inplace=True)\n",
    "df.drop_duplicates(subset=[\"description\"], inplace=True)\n",
    "\n",
    "df"
   ]
  },
  {
   "cell_type": "code",
   "execution_count": 4,
   "metadata": {
    "ExecuteTime": {
     "end_time": "2021-09-20T18:17:51.113743Z",
     "start_time": "2021-09-20T18:17:50.900744Z"
    }
   },
   "outputs": [
    {
     "data": {
      "text/html": [
       "<div>\n",
       "<style scoped>\n",
       "    .dataframe tbody tr th:only-of-type {\n",
       "        vertical-align: middle;\n",
       "    }\n",
       "\n",
       "    .dataframe tbody tr th {\n",
       "        vertical-align: top;\n",
       "    }\n",
       "\n",
       "    .dataframe thead th {\n",
       "        text-align: right;\n",
       "    }\n",
       "</style>\n",
       "<table border=\"1\" class=\"dataframe\">\n",
       "  <thead>\n",
       "    <tr style=\"text-align: right;\">\n",
       "      <th></th>\n",
       "      <th>null</th>\n",
       "      <th>null_%</th>\n",
       "      <th>uniq</th>\n",
       "      <th>uniq_%</th>\n",
       "      <th>dup</th>\n",
       "      <th>dup_%</th>\n",
       "    </tr>\n",
       "  </thead>\n",
       "  <tbody>\n",
       "    <tr>\n",
       "      <th>brand</th>\n",
       "      <td>521</td>\n",
       "      <td>1.79</td>\n",
       "      <td>10704</td>\n",
       "      <td>36.85</td>\n",
       "      <td>0</td>\n",
       "      <td>0.0</td>\n",
       "    </tr>\n",
       "    <tr>\n",
       "      <th>category</th>\n",
       "      <td>17</td>\n",
       "      <td>0.06</td>\n",
       "      <td>3068</td>\n",
       "      <td>10.56</td>\n",
       "      <td>0</td>\n",
       "      <td>0.0</td>\n",
       "    </tr>\n",
       "    <tr>\n",
       "      <th>description</th>\n",
       "      <td>1</td>\n",
       "      <td>0.00</td>\n",
       "      <td>29044</td>\n",
       "      <td>100.00</td>\n",
       "      <td>0</td>\n",
       "      <td>0.0</td>\n",
       "    </tr>\n",
       "    <tr>\n",
       "      <th>title</th>\n",
       "      <td>0</td>\n",
       "      <td>0.00</td>\n",
       "      <td>29005</td>\n",
       "      <td>99.86</td>\n",
       "      <td>0</td>\n",
       "      <td>0.0</td>\n",
       "    </tr>\n",
       "  </tbody>\n",
       "</table>\n",
       "</div>"
      ],
      "text/plain": [
       "             null  null_%   uniq  uniq_%  dup  dup_%\n",
       "brand         521    1.79  10704   36.85    0    0.0\n",
       "category       17    0.06   3068   10.56    0    0.0\n",
       "description     1    0.00  29044  100.00    0    0.0\n",
       "title           0    0.00  29005   99.86    0    0.0"
      ]
     },
     "execution_count": 4,
     "metadata": {},
     "output_type": "execute_result"
    }
   ],
   "source": [
    "cleaning.info(df)"
   ]
  },
  {
   "cell_type": "code",
   "execution_count": 5,
   "metadata": {
    "ExecuteTime": {
     "end_time": "2021-09-20T18:17:51.794772Z",
     "start_time": "2021-09-20T18:17:51.114745Z"
    },
    "run_control": {
     "marked": false
    }
   },
   "outputs": [
    {
     "data": {
      "text/html": [
       "<div>\n",
       "<style scoped>\n",
       "    .dataframe tbody tr th:only-of-type {\n",
       "        vertical-align: middle;\n",
       "    }\n",
       "\n",
       "    .dataframe tbody tr th {\n",
       "        vertical-align: top;\n",
       "    }\n",
       "\n",
       "    .dataframe thead th {\n",
       "        text-align: right;\n",
       "    }\n",
       "</style>\n",
       "<table border=\"1\" class=\"dataframe\">\n",
       "  <thead>\n",
       "    <tr style=\"text-align: right;\">\n",
       "      <th></th>\n",
       "      <th>null</th>\n",
       "      <th>null_%</th>\n",
       "      <th>uniq</th>\n",
       "      <th>uniq_%</th>\n",
       "      <th>dup</th>\n",
       "      <th>dup_%</th>\n",
       "    </tr>\n",
       "  </thead>\n",
       "  <tbody>\n",
       "    <tr>\n",
       "      <th>brand</th>\n",
       "      <td>522</td>\n",
       "      <td>1.80</td>\n",
       "      <td>10703</td>\n",
       "      <td>36.85</td>\n",
       "      <td>0</td>\n",
       "      <td>0.0</td>\n",
       "    </tr>\n",
       "    <tr>\n",
       "      <th>category</th>\n",
       "      <td>17</td>\n",
       "      <td>0.06</td>\n",
       "      <td>3068</td>\n",
       "      <td>10.56</td>\n",
       "      <td>0</td>\n",
       "      <td>0.0</td>\n",
       "    </tr>\n",
       "    <tr>\n",
       "      <th>description</th>\n",
       "      <td>1</td>\n",
       "      <td>0.00</td>\n",
       "      <td>29044</td>\n",
       "      <td>100.00</td>\n",
       "      <td>0</td>\n",
       "      <td>0.0</td>\n",
       "    </tr>\n",
       "    <tr>\n",
       "      <th>title</th>\n",
       "      <td>0</td>\n",
       "      <td>0.00</td>\n",
       "      <td>29005</td>\n",
       "      <td>99.86</td>\n",
       "      <td>0</td>\n",
       "      <td>0.0</td>\n",
       "    </tr>\n",
       "  </tbody>\n",
       "</table>\n",
       "</div>"
      ],
      "text/plain": [
       "             null  null_%   uniq  uniq_%  dup  dup_%\n",
       "brand         522    1.80  10703   36.85    0    0.0\n",
       "category       17    0.06   3068   10.56    0    0.0\n",
       "description     1    0.00  29044  100.00    0    0.0\n",
       "title           0    0.00  29005   99.86    0    0.0"
      ]
     },
     "execution_count": 5,
     "metadata": {},
     "output_type": "execute_result"
    }
   ],
   "source": [
    "df.replace(r\"(?i)^none$\", pd.NA, regex=True, inplace=True)\n",
    "cleaning.info(df)"
   ]
  },
  {
   "cell_type": "code",
   "execution_count": 6,
   "metadata": {
    "ExecuteTime": {
     "end_time": "2021-09-20T18:17:51.813744Z",
     "start_time": "2021-09-20T18:17:51.795744Z"
    }
   },
   "outputs": [
    {
     "data": {
      "text/html": [
       "<div>\n",
       "<style scoped>\n",
       "    .dataframe tbody tr th:only-of-type {\n",
       "        vertical-align: middle;\n",
       "    }\n",
       "\n",
       "    .dataframe tbody tr th {\n",
       "        vertical-align: top;\n",
       "    }\n",
       "\n",
       "    .dataframe thead th {\n",
       "        text-align: right;\n",
       "    }\n",
       "</style>\n",
       "<table border=\"1\" class=\"dataframe\">\n",
       "  <thead>\n",
       "    <tr style=\"text-align: right;\">\n",
       "      <th></th>\n",
       "      <th>title</th>\n",
       "      <th>description</th>\n",
       "      <th>brand</th>\n",
       "      <th>category</th>\n",
       "    </tr>\n",
       "  </thead>\n",
       "  <tbody>\n",
       "    <tr>\n",
       "      <th>0</th>\n",
       "      <td>La Costena Chipotle Peppers, 7 OZ (Pack of 12)</td>\n",
       "      <td>We aim to show you accurate product informati...</td>\n",
       "      <td>La Costeï¿½ï¿½a</td>\n",
       "      <td>Food | Meal Solutions, Grains &amp; Pasta | Canned...</td>\n",
       "    </tr>\n",
       "    <tr>\n",
       "      <th>1</th>\n",
       "      <td>Equate Triamcinolone Acetonide Nasal Allergy S...</td>\n",
       "      <td>We aim to show you accurate product informati...</td>\n",
       "      <td>Equate</td>\n",
       "      <td>Health | Equate | Equate Allergy | Equate Sinu...</td>\n",
       "    </tr>\n",
       "    <tr>\n",
       "      <th>2</th>\n",
       "      <td>AduroSmart ERIA Soft White Smart A19 Light Bul...</td>\n",
       "      <td>We aim to show you accurate product informati...</td>\n",
       "      <td>AduroSmart ERIA</td>\n",
       "      <td>Electronics | Smart Home | Smart Energy and Li...</td>\n",
       "    </tr>\n",
       "    <tr>\n",
       "      <th>3</th>\n",
       "      <td>24\" Classic Adjustable Balloon Fender Set Chro...</td>\n",
       "      <td>We aim to show you accurate product informati...</td>\n",
       "      <td>lowrider</td>\n",
       "      <td>Sports &amp; Outdoors | Bikes | Bike Accessories |...</td>\n",
       "    </tr>\n",
       "    <tr>\n",
       "      <th>4</th>\n",
       "      <td>Elephant Shape Silicone Drinkware Portable Sil...</td>\n",
       "      <td>We aim to show you accurate product informati...</td>\n",
       "      <td>Anself</td>\n",
       "      <td>Baby | Feeding | Sippy Cups: Alternatives to P...</td>\n",
       "    </tr>\n",
       "    <tr>\n",
       "      <th>...</th>\n",
       "      <td>...</td>\n",
       "      <td>...</td>\n",
       "      <td>...</td>\n",
       "      <td>...</td>\n",
       "    </tr>\n",
       "    <tr>\n",
       "      <th>29994</th>\n",
       "      <td>Sheng Xiang Zhen (ShengXiangZhen) Snack + OneN...</td>\n",
       "      <td>We aim to show you accurate product informati...</td>\n",
       "      <td>NineChef</td>\n",
       "      <td>Food | Snacks, Cookies &amp; Chips | Chips &amp; Crisp...</td>\n",
       "    </tr>\n",
       "    <tr>\n",
       "      <th>29995</th>\n",
       "      <td>McCain Smiles</td>\n",
       "      <td>We aim to show you accurate product informati...</td>\n",
       "      <td>McCain</td>\n",
       "      <td>Food | Frozen Foods | Frozen Vegetables</td>\n",
       "    </tr>\n",
       "    <tr>\n",
       "      <th>29997</th>\n",
       "      <td>Princes Gooseberries 300g</td>\n",
       "      <td>We aim to show you accurate product informati...</td>\n",
       "      <td>Princes</td>\n",
       "      <td>Food | Meal Solutions, Grains &amp; Pasta | Canned...</td>\n",
       "    </tr>\n",
       "    <tr>\n",
       "      <th>29998</th>\n",
       "      <td>Create Ion Grace 3/4 Inches Straight Hair Iron...</td>\n",
       "      <td>We aim to show you accurate product informati...</td>\n",
       "      <td>Create Ion</td>\n",
       "      <td>Beauty | Hair Care | Hair Styling Tools | Flat...</td>\n",
       "    </tr>\n",
       "    <tr>\n",
       "      <th>29999</th>\n",
       "      <td>Green Bell Takuminowaza Two Way Ear Pick Brass...</td>\n",
       "      <td>We aim to show you accurate product informati...</td>\n",
       "      <td>Takuminowaza</td>\n",
       "      <td>Beauty | Here for Every Beauty | Featured Shop...</td>\n",
       "    </tr>\n",
       "  </tbody>\n",
       "</table>\n",
       "<p>28505 rows × 4 columns</p>\n",
       "</div>"
      ],
      "text/plain": [
       "                                                   title  \\\n",
       "0         La Costena Chipotle Peppers, 7 OZ (Pack of 12)   \n",
       "1      Equate Triamcinolone Acetonide Nasal Allergy S...   \n",
       "2      AduroSmart ERIA Soft White Smart A19 Light Bul...   \n",
       "3      24\" Classic Adjustable Balloon Fender Set Chro...   \n",
       "4      Elephant Shape Silicone Drinkware Portable Sil...   \n",
       "...                                                  ...   \n",
       "29994  Sheng Xiang Zhen (ShengXiangZhen) Snack + OneN...   \n",
       "29995                                      McCain Smiles   \n",
       "29997                          Princes Gooseberries 300g   \n",
       "29998  Create Ion Grace 3/4 Inches Straight Hair Iron...   \n",
       "29999  Green Bell Takuminowaza Two Way Ear Pick Brass...   \n",
       "\n",
       "                                             description            brand  \\\n",
       "0       We aim to show you accurate product informati...  La Costeï¿½ï¿½a   \n",
       "1       We aim to show you accurate product informati...           Equate   \n",
       "2       We aim to show you accurate product informati...  AduroSmart ERIA   \n",
       "3       We aim to show you accurate product informati...         lowrider   \n",
       "4       We aim to show you accurate product informati...           Anself   \n",
       "...                                                  ...              ...   \n",
       "29994   We aim to show you accurate product informati...         NineChef   \n",
       "29995   We aim to show you accurate product informati...           McCain   \n",
       "29997   We aim to show you accurate product informati...          Princes   \n",
       "29998   We aim to show you accurate product informati...       Create Ion   \n",
       "29999   We aim to show you accurate product informati...     Takuminowaza   \n",
       "\n",
       "                                                category  \n",
       "0      Food | Meal Solutions, Grains & Pasta | Canned...  \n",
       "1      Health | Equate | Equate Allergy | Equate Sinu...  \n",
       "2      Electronics | Smart Home | Smart Energy and Li...  \n",
       "3      Sports & Outdoors | Bikes | Bike Accessories |...  \n",
       "4      Baby | Feeding | Sippy Cups: Alternatives to P...  \n",
       "...                                                  ...  \n",
       "29994  Food | Snacks, Cookies & Chips | Chips & Crisp...  \n",
       "29995            Food | Frozen Foods | Frozen Vegetables  \n",
       "29997  Food | Meal Solutions, Grains & Pasta | Canned...  \n",
       "29998  Beauty | Hair Care | Hair Styling Tools | Flat...  \n",
       "29999  Beauty | Here for Every Beauty | Featured Shop...  \n",
       "\n",
       "[28505 rows x 4 columns]"
      ]
     },
     "execution_count": 6,
     "metadata": {},
     "output_type": "execute_result"
    }
   ],
   "source": [
    "df.dropna(inplace=True)\n",
    "df"
   ]
  },
  {
   "cell_type": "code",
   "execution_count": 7,
   "metadata": {
    "ExecuteTime": {
     "end_time": "2021-09-20T18:17:51.819745Z",
     "start_time": "2021-09-20T18:17:51.814745Z"
    }
   },
   "outputs": [
    {
     "data": {
      "text/plain": [
       "0        Food | Meal Solutions, Grains & Pasta | Canned...\n",
       "1        Health | Equate | Equate Allergy | Equate Sinu...\n",
       "2        Electronics | Smart Home | Smart Energy and Li...\n",
       "3        Sports & Outdoors | Bikes | Bike Accessories |...\n",
       "4        Baby | Feeding | Sippy Cups: Alternatives to P...\n",
       "                               ...                        \n",
       "29994    Food | Snacks, Cookies & Chips | Chips & Crisp...\n",
       "29995              Food | Frozen Foods | Frozen Vegetables\n",
       "29997    Food | Meal Solutions, Grains & Pasta | Canned...\n",
       "29998    Beauty | Hair Care | Hair Styling Tools | Flat...\n",
       "29999    Beauty | Here for Every Beauty | Featured Shop...\n",
       "Name: category, Length: 28505, dtype: object"
      ]
     },
     "execution_count": 7,
     "metadata": {},
     "output_type": "execute_result"
    }
   ],
   "source": [
    "df[\"category\"]"
   ]
  },
  {
   "cell_type": "code",
   "execution_count": 8,
   "metadata": {
    "ExecuteTime": {
     "end_time": "2021-09-20T18:17:51.912746Z",
     "start_time": "2021-09-20T18:17:51.821742Z"
    }
   },
   "outputs": [
    {
     "data": {
      "text/plain": [
       "Sports & Outdoors          10334\n",
       "Food                        3968\n",
       "Health                      3792\n",
       "Baby                        2597\n",
       "Personal Care               2231\n",
       "Household Essentials        1892\n",
       "Toys                         838\n",
       "Beauty                       795\n",
       "Home                         421\n",
       "Clothing                     419\n",
       "Premium Beauty               412\n",
       "Shop by Brand                156\n",
       "Patio & Garden               111\n",
       "Home Improvement             109\n",
       "Auto & Tires                  76\n",
       "Party & Occasions             73\n",
       "Pets                          69\n",
       "Electronics                   55\n",
       "Seasonal                      44\n",
       "Industrial & Scientific       30\n",
       "Feature                       15\n",
       "Books                         13\n",
       "Video Games                    9\n",
       "Arts Crafts & Sewing           8\n",
       "Jewelry                        8\n",
       "Walmart for Business           7\n",
       "Character Shop                 5\n",
       "Office Supplies                5\n",
       "Cell Phones                    4\n",
       "Collectibles                   3\n",
       "Shop by Movie                  3\n",
       "Musical Instruments            2\n",
       "Music                          1\n",
       "Name: main_cat, dtype: int64"
      ]
     },
     "execution_count": 8,
     "metadata": {},
     "output_type": "execute_result"
    }
   ],
   "source": [
    "df[\"main_cat\"] = df[\"category\"].str.extract(r\"^([\\w\\s&]+)\\s\\|\").squeeze()\n",
    "df[\"main_cat\"].value_counts()"
   ]
  },
  {
   "cell_type": "code",
   "execution_count": 9,
   "metadata": {
    "ExecuteTime": {
     "end_time": "2021-09-20T18:17:51.936742Z",
     "start_time": "2021-09-20T18:17:51.913745Z"
    }
   },
   "outputs": [
    {
     "data": {
      "text/html": [
       "<div>\n",
       "<style scoped>\n",
       "    .dataframe tbody tr th:only-of-type {\n",
       "        vertical-align: middle;\n",
       "    }\n",
       "\n",
       "    .dataframe tbody tr th {\n",
       "        vertical-align: top;\n",
       "    }\n",
       "\n",
       "    .dataframe thead th {\n",
       "        text-align: right;\n",
       "    }\n",
       "</style>\n",
       "<table border=\"1\" class=\"dataframe\">\n",
       "  <thead>\n",
       "    <tr style=\"text-align: right;\">\n",
       "      <th></th>\n",
       "      <th>title</th>\n",
       "      <th>description</th>\n",
       "      <th>brand</th>\n",
       "      <th>category</th>\n",
       "      <th>main_cat</th>\n",
       "    </tr>\n",
       "  </thead>\n",
       "  <tbody>\n",
       "    <tr>\n",
       "      <th>0</th>\n",
       "      <td>La Costena Chipotle Peppers, 7 OZ (Pack of 12)</td>\n",
       "      <td>We aim to show you accurate product informati...</td>\n",
       "      <td>La Costeï¿½ï¿½a</td>\n",
       "      <td>Food | Meal Solutions, Grains &amp; Pasta | Canned...</td>\n",
       "      <td>Food</td>\n",
       "    </tr>\n",
       "    <tr>\n",
       "      <th>1</th>\n",
       "      <td>Equate Triamcinolone Acetonide Nasal Allergy S...</td>\n",
       "      <td>We aim to show you accurate product informati...</td>\n",
       "      <td>Equate</td>\n",
       "      <td>Health | Equate | Equate Allergy | Equate Sinu...</td>\n",
       "      <td>Health</td>\n",
       "    </tr>\n",
       "    <tr>\n",
       "      <th>2</th>\n",
       "      <td>AduroSmart ERIA Soft White Smart A19 Light Bul...</td>\n",
       "      <td>We aim to show you accurate product informati...</td>\n",
       "      <td>AduroSmart ERIA</td>\n",
       "      <td>Electronics | Smart Home | Smart Energy and Li...</td>\n",
       "      <td>Electronics</td>\n",
       "    </tr>\n",
       "    <tr>\n",
       "      <th>3</th>\n",
       "      <td>24\" Classic Adjustable Balloon Fender Set Chro...</td>\n",
       "      <td>We aim to show you accurate product informati...</td>\n",
       "      <td>lowrider</td>\n",
       "      <td>Sports &amp; Outdoors | Bikes | Bike Accessories |...</td>\n",
       "      <td>Sports &amp; Outdoors</td>\n",
       "    </tr>\n",
       "    <tr>\n",
       "      <th>4</th>\n",
       "      <td>Elephant Shape Silicone Drinkware Portable Sil...</td>\n",
       "      <td>We aim to show you accurate product informati...</td>\n",
       "      <td>Anself</td>\n",
       "      <td>Baby | Feeding | Sippy Cups: Alternatives to P...</td>\n",
       "      <td>Baby</td>\n",
       "    </tr>\n",
       "    <tr>\n",
       "      <th>...</th>\n",
       "      <td>...</td>\n",
       "      <td>...</td>\n",
       "      <td>...</td>\n",
       "      <td>...</td>\n",
       "      <td>...</td>\n",
       "    </tr>\n",
       "    <tr>\n",
       "      <th>29994</th>\n",
       "      <td>Sheng Xiang Zhen (ShengXiangZhen) Snack + OneN...</td>\n",
       "      <td>We aim to show you accurate product informati...</td>\n",
       "      <td>NineChef</td>\n",
       "      <td>Food | Snacks, Cookies &amp; Chips | Chips &amp; Crisp...</td>\n",
       "      <td>Food</td>\n",
       "    </tr>\n",
       "    <tr>\n",
       "      <th>29995</th>\n",
       "      <td>McCain Smiles</td>\n",
       "      <td>We aim to show you accurate product informati...</td>\n",
       "      <td>McCain</td>\n",
       "      <td>Food | Frozen Foods | Frozen Vegetables</td>\n",
       "      <td>Food</td>\n",
       "    </tr>\n",
       "    <tr>\n",
       "      <th>29997</th>\n",
       "      <td>Princes Gooseberries 300g</td>\n",
       "      <td>We aim to show you accurate product informati...</td>\n",
       "      <td>Princes</td>\n",
       "      <td>Food | Meal Solutions, Grains &amp; Pasta | Canned...</td>\n",
       "      <td>Food</td>\n",
       "    </tr>\n",
       "    <tr>\n",
       "      <th>29998</th>\n",
       "      <td>Create Ion Grace 3/4 Inches Straight Hair Iron...</td>\n",
       "      <td>We aim to show you accurate product informati...</td>\n",
       "      <td>Create Ion</td>\n",
       "      <td>Beauty | Hair Care | Hair Styling Tools | Flat...</td>\n",
       "      <td>Beauty</td>\n",
       "    </tr>\n",
       "    <tr>\n",
       "      <th>29999</th>\n",
       "      <td>Green Bell Takuminowaza Two Way Ear Pick Brass...</td>\n",
       "      <td>We aim to show you accurate product informati...</td>\n",
       "      <td>Takuminowaza</td>\n",
       "      <td>Beauty | Here for Every Beauty | Featured Shop...</td>\n",
       "      <td>Beauty</td>\n",
       "    </tr>\n",
       "  </tbody>\n",
       "</table>\n",
       "<p>28349 rows × 5 columns</p>\n",
       "</div>"
      ],
      "text/plain": [
       "                                                   title  \\\n",
       "0         La Costena Chipotle Peppers, 7 OZ (Pack of 12)   \n",
       "1      Equate Triamcinolone Acetonide Nasal Allergy S...   \n",
       "2      AduroSmart ERIA Soft White Smart A19 Light Bul...   \n",
       "3      24\" Classic Adjustable Balloon Fender Set Chro...   \n",
       "4      Elephant Shape Silicone Drinkware Portable Sil...   \n",
       "...                                                  ...   \n",
       "29994  Sheng Xiang Zhen (ShengXiangZhen) Snack + OneN...   \n",
       "29995                                      McCain Smiles   \n",
       "29997                          Princes Gooseberries 300g   \n",
       "29998  Create Ion Grace 3/4 Inches Straight Hair Iron...   \n",
       "29999  Green Bell Takuminowaza Two Way Ear Pick Brass...   \n",
       "\n",
       "                                             description            brand  \\\n",
       "0       We aim to show you accurate product informati...  La Costeï¿½ï¿½a   \n",
       "1       We aim to show you accurate product informati...           Equate   \n",
       "2       We aim to show you accurate product informati...  AduroSmart ERIA   \n",
       "3       We aim to show you accurate product informati...         lowrider   \n",
       "4       We aim to show you accurate product informati...           Anself   \n",
       "...                                                  ...              ...   \n",
       "29994   We aim to show you accurate product informati...         NineChef   \n",
       "29995   We aim to show you accurate product informati...           McCain   \n",
       "29997   We aim to show you accurate product informati...          Princes   \n",
       "29998   We aim to show you accurate product informati...       Create Ion   \n",
       "29999   We aim to show you accurate product informati...     Takuminowaza   \n",
       "\n",
       "                                                category           main_cat  \n",
       "0      Food | Meal Solutions, Grains & Pasta | Canned...               Food  \n",
       "1      Health | Equate | Equate Allergy | Equate Sinu...             Health  \n",
       "2      Electronics | Smart Home | Smart Energy and Li...        Electronics  \n",
       "3      Sports & Outdoors | Bikes | Bike Accessories |...  Sports & Outdoors  \n",
       "4      Baby | Feeding | Sippy Cups: Alternatives to P...               Baby  \n",
       "...                                                  ...                ...  \n",
       "29994  Food | Snacks, Cookies & Chips | Chips & Crisp...               Food  \n",
       "29995            Food | Frozen Foods | Frozen Vegetables               Food  \n",
       "29997  Food | Meal Solutions, Grains & Pasta | Canned...               Food  \n",
       "29998  Beauty | Hair Care | Hair Styling Tools | Flat...             Beauty  \n",
       "29999  Beauty | Here for Every Beauty | Featured Shop...             Beauty  \n",
       "\n",
       "[28349 rows x 5 columns]"
      ]
     },
     "execution_count": 9,
     "metadata": {},
     "output_type": "execute_result"
    }
   ],
   "source": [
    "df = df.loc[df.main_cat != \"Shop by Brand\"].copy()\n",
    "df"
   ]
  },
  {
   "cell_type": "code",
   "execution_count": 10,
   "metadata": {
    "ExecuteTime": {
     "end_time": "2021-09-20T18:17:51.942744Z",
     "start_time": "2021-09-20T18:17:51.937742Z"
    }
   },
   "outputs": [
    {
     "data": {
      "text/plain": [
       "' We aim to show you accurate product information. Manufacturers, suppliers and others provide what you see here, and we have not verified it. See our disclaimer |La Costena Chipotle Peppers, 7 OZ (Pack of 12) Easy open. Ready to serve! Product of Mexico.'"
      ]
     },
     "execution_count": 10,
     "metadata": {},
     "output_type": "execute_result"
    }
   ],
   "source": [
    "df.iloc[0].description"
   ]
  },
  {
   "cell_type": "code",
   "execution_count": 11,
   "metadata": {
    "ExecuteTime": {
     "end_time": "2021-09-20T18:17:51.948757Z",
     "start_time": "2021-09-20T18:17:51.943743Z"
    }
   },
   "outputs": [
    {
     "data": {
      "text/plain": [
       "'We aim to show you accurate product information. Manufacturers, suppliers and others provide what you see here, and we have not verified it. See our disclaimer'"
      ]
     },
     "execution_count": 11,
     "metadata": {},
     "output_type": "execute_result"
    }
   ],
   "source": [
    "caveat = \"We aim to show you accurate product information. Manufacturers, suppliers and others provide what you see here, and we have not verified it. See our disclaimer\"\n",
    "caveat"
   ]
  },
  {
   "cell_type": "code",
   "execution_count": 12,
   "metadata": {
    "ExecuteTime": {
     "end_time": "2021-09-20T18:17:54.631742Z",
     "start_time": "2021-09-20T18:17:51.949745Z"
    }
   },
   "outputs": [
    {
     "data": {
      "application/vnd.jupyter.widget-view+json": {
       "model_id": "8682122d82564ee8919c4c10ff512962",
       "version_major": 2,
       "version_minor": 0
      },
      "text/plain": [
       "strip_punct:   0%|          | 0/28349 [00:00<?, ?it/s]"
      ]
     },
     "metadata": {},
     "output_type": "display_data"
    },
    {
     "data": {
      "application/vnd.jupyter.widget-view+json": {
       "model_id": "94c0b5fc84c44af89e7938cf721b9b39",
       "version_major": 2,
       "version_minor": 0
      },
      "text/plain": [
       "strip_end_space:   0%|          | 0/28349 [00:00<?, ?it/s]"
      ]
     },
     "metadata": {},
     "output_type": "display_data"
    },
    {
     "data": {
      "text/plain": [
       "'La Costena Chipotle Peppers, 7 OZ (Pack of 12) Easy open. Ready to serve! Product of Mexico.'"
      ]
     },
     "execution_count": 12,
     "metadata": {},
     "output_type": "execute_result"
    }
   ],
   "source": [
    "df[\"description\"] = lang.strip_punct(df[\"description\"], punct=\"|\")\n",
    "df[\"description\"] = df[\"description\"].str.replace(caveat, \"\", regex=False)\n",
    "df[\"description\"] = lang.strip_end_space(df[\"description\"])\n",
    "df.iloc[0].description"
   ]
  },
  {
   "cell_type": "code",
   "execution_count": 13,
   "metadata": {
    "ExecuteTime": {
     "end_time": "2021-09-20T18:18:13.798538Z",
     "start_time": "2021-09-20T18:18:13.789537Z"
    }
   },
   "outputs": [
    {
     "data": {
      "text/html": [
       "<div>\n",
       "<style scoped>\n",
       "    .dataframe tbody tr th:only-of-type {\n",
       "        vertical-align: middle;\n",
       "    }\n",
       "\n",
       "    .dataframe tbody tr th {\n",
       "        vertical-align: top;\n",
       "    }\n",
       "\n",
       "    .dataframe thead th {\n",
       "        text-align: right;\n",
       "    }\n",
       "</style>\n",
       "<table border=\"1\" class=\"dataframe\">\n",
       "  <thead>\n",
       "    <tr style=\"text-align: right;\">\n",
       "      <th></th>\n",
       "      <th>title</th>\n",
       "      <th>description</th>\n",
       "      <th>brand</th>\n",
       "      <th>category</th>\n",
       "      <th>main_cat</th>\n",
       "    </tr>\n",
       "  </thead>\n",
       "  <tbody>\n",
       "    <tr>\n",
       "      <th>0</th>\n",
       "      <td>La Costena Chipotle Peppers, 7 OZ (Pack of 12)</td>\n",
       "      <td>La Costena Chipotle Peppers, 7 OZ (Pack of 12)...</td>\n",
       "      <td>La Costeï¿½ï¿½a</td>\n",
       "      <td>Food | Meal Solutions, Grains &amp; Pasta | Canned...</td>\n",
       "      <td>Food</td>\n",
       "    </tr>\n",
       "    <tr>\n",
       "      <th>1</th>\n",
       "      <td>Equate Triamcinolone Acetonide Nasal Allergy S...</td>\n",
       "      <td>Compare to Nasacort Allergy 24HR active ingred...</td>\n",
       "      <td>Equate</td>\n",
       "      <td>Health | Equate | Equate Allergy | Equate Sinu...</td>\n",
       "      <td>Health</td>\n",
       "    </tr>\n",
       "    <tr>\n",
       "      <th>2</th>\n",
       "      <td>AduroSmart ERIA Soft White Smart A19 Light Bul...</td>\n",
       "      <td>The Soft White ERIA A19 bulb (2700K) can be co...</td>\n",
       "      <td>AduroSmart ERIA</td>\n",
       "      <td>Electronics | Smart Home | Smart Energy and Li...</td>\n",
       "      <td>Electronics</td>\n",
       "    </tr>\n",
       "    <tr>\n",
       "      <th>3</th>\n",
       "      <td>24\" Classic Adjustable Balloon Fender Set Chro...</td>\n",
       "      <td>Lowrider Fender Set 24\" Classic Adjustable Chr...</td>\n",
       "      <td>lowrider</td>\n",
       "      <td>Sports &amp; Outdoors | Bikes | Bike Accessories |...</td>\n",
       "      <td>Sports &amp; Outdoors</td>\n",
       "    </tr>\n",
       "    <tr>\n",
       "      <th>4</th>\n",
       "      <td>Elephant Shape Silicone Drinkware Portable Sil...</td>\n",
       "      <td>This is a kind of fine quality silicone cup li...</td>\n",
       "      <td>Anself</td>\n",
       "      <td>Baby | Feeding | Sippy Cups: Alternatives to P...</td>\n",
       "      <td>Baby</td>\n",
       "    </tr>\n",
       "    <tr>\n",
       "      <th>...</th>\n",
       "      <td>...</td>\n",
       "      <td>...</td>\n",
       "      <td>...</td>\n",
       "      <td>...</td>\n",
       "      <td>...</td>\n",
       "    </tr>\n",
       "    <tr>\n",
       "      <th>29994</th>\n",
       "      <td>Sheng Xiang Zhen (ShengXiangZhen) Snack + OneN...</td>\n",
       "      <td>Sheng Xiang Zhen (ShengXiangZhen) Snack + OneN...</td>\n",
       "      <td>NineChef</td>\n",
       "      <td>Food | Snacks, Cookies &amp; Chips | Chips &amp; Crisp...</td>\n",
       "      <td>Food</td>\n",
       "    </tr>\n",
       "    <tr>\n",
       "      <th>29995</th>\n",
       "      <td>McCain Smiles</td>\n",
       "      <td>Add a wholesome side to your dinnertime meal w...</td>\n",
       "      <td>McCain</td>\n",
       "      <td>Food | Frozen Foods | Frozen Vegetables</td>\n",
       "      <td>Food</td>\n",
       "    </tr>\n",
       "    <tr>\n",
       "      <th>29997</th>\n",
       "      <td>Princes Gooseberries 300g</td>\n",
       "      <td>Gooseberries in syrup Princes Gooseberries 300g</td>\n",
       "      <td>Princes</td>\n",
       "      <td>Food | Meal Solutions, Grains &amp; Pasta | Canned...</td>\n",
       "      <td>Food</td>\n",
       "    </tr>\n",
       "    <tr>\n",
       "      <th>29998</th>\n",
       "      <td>Create Ion Grace 3/4 Inches Straight Hair Iron...</td>\n",
       "      <td>Create ion grace straight is a 3/4 inches wide...</td>\n",
       "      <td>Create Ion</td>\n",
       "      <td>Beauty | Hair Care | Hair Styling Tools | Flat...</td>\n",
       "      <td>Beauty</td>\n",
       "    </tr>\n",
       "    <tr>\n",
       "      <th>29999</th>\n",
       "      <td>Green Bell Takuminowaza Two Way Ear Pick Brass...</td>\n",
       "      <td>Green bell ear wax remover 2-way screw &amp; spoon...</td>\n",
       "      <td>Takuminowaza</td>\n",
       "      <td>Beauty | Here for Every Beauty | Featured Shop...</td>\n",
       "      <td>Beauty</td>\n",
       "    </tr>\n",
       "  </tbody>\n",
       "</table>\n",
       "<p>28349 rows × 5 columns</p>\n",
       "</div>"
      ],
      "text/plain": [
       "                                                   title  \\\n",
       "0         La Costena Chipotle Peppers, 7 OZ (Pack of 12)   \n",
       "1      Equate Triamcinolone Acetonide Nasal Allergy S...   \n",
       "2      AduroSmart ERIA Soft White Smart A19 Light Bul...   \n",
       "3      24\" Classic Adjustable Balloon Fender Set Chro...   \n",
       "4      Elephant Shape Silicone Drinkware Portable Sil...   \n",
       "...                                                  ...   \n",
       "29994  Sheng Xiang Zhen (ShengXiangZhen) Snack + OneN...   \n",
       "29995                                      McCain Smiles   \n",
       "29997                          Princes Gooseberries 300g   \n",
       "29998  Create Ion Grace 3/4 Inches Straight Hair Iron...   \n",
       "29999  Green Bell Takuminowaza Two Way Ear Pick Brass...   \n",
       "\n",
       "                                             description            brand  \\\n",
       "0      La Costena Chipotle Peppers, 7 OZ (Pack of 12)...  La Costeï¿½ï¿½a   \n",
       "1      Compare to Nasacort Allergy 24HR active ingred...           Equate   \n",
       "2      The Soft White ERIA A19 bulb (2700K) can be co...  AduroSmart ERIA   \n",
       "3      Lowrider Fender Set 24\" Classic Adjustable Chr...         lowrider   \n",
       "4      This is a kind of fine quality silicone cup li...           Anself   \n",
       "...                                                  ...              ...   \n",
       "29994  Sheng Xiang Zhen (ShengXiangZhen) Snack + OneN...         NineChef   \n",
       "29995  Add a wholesome side to your dinnertime meal w...           McCain   \n",
       "29997    Gooseberries in syrup Princes Gooseberries 300g          Princes   \n",
       "29998  Create ion grace straight is a 3/4 inches wide...       Create Ion   \n",
       "29999  Green bell ear wax remover 2-way screw & spoon...     Takuminowaza   \n",
       "\n",
       "                                                category           main_cat  \n",
       "0      Food | Meal Solutions, Grains & Pasta | Canned...               Food  \n",
       "1      Health | Equate | Equate Allergy | Equate Sinu...             Health  \n",
       "2      Electronics | Smart Home | Smart Energy and Li...        Electronics  \n",
       "3      Sports & Outdoors | Bikes | Bike Accessories |...  Sports & Outdoors  \n",
       "4      Baby | Feeding | Sippy Cups: Alternatives to P...               Baby  \n",
       "...                                                  ...                ...  \n",
       "29994  Food | Snacks, Cookies & Chips | Chips & Crisp...               Food  \n",
       "29995            Food | Frozen Foods | Frozen Vegetables               Food  \n",
       "29997  Food | Meal Solutions, Grains & Pasta | Canned...               Food  \n",
       "29998  Beauty | Hair Care | Hair Styling Tools | Flat...             Beauty  \n",
       "29999  Beauty | Here for Every Beauty | Featured Shop...             Beauty  \n",
       "\n",
       "[28349 rows x 5 columns]"
      ]
     },
     "execution_count": 13,
     "metadata": {},
     "output_type": "execute_result"
    }
   ],
   "source": [
    "df"
   ]
  },
  {
   "cell_type": "code",
   "execution_count": 14,
   "metadata": {
    "ExecuteTime": {
     "end_time": "2021-09-20T18:18:27.995503Z",
     "start_time": "2021-09-20T18:18:27.953503Z"
    }
   },
   "outputs": [
    {
     "data": {
      "text/html": [
       "<div>\n",
       "<style scoped>\n",
       "    .dataframe tbody tr th:only-of-type {\n",
       "        vertical-align: middle;\n",
       "    }\n",
       "\n",
       "    .dataframe tbody tr th {\n",
       "        vertical-align: top;\n",
       "    }\n",
       "\n",
       "    .dataframe thead th {\n",
       "        text-align: right;\n",
       "    }\n",
       "</style>\n",
       "<table border=\"1\" class=\"dataframe\">\n",
       "  <thead>\n",
       "    <tr style=\"text-align: right;\">\n",
       "      <th></th>\n",
       "      <th>title</th>\n",
       "      <th>description</th>\n",
       "      <th>brand</th>\n",
       "      <th>category</th>\n",
       "      <th>main_cat</th>\n",
       "      <th>n_char</th>\n",
       "    </tr>\n",
       "  </thead>\n",
       "  <tbody>\n",
       "    <tr>\n",
       "      <th>0</th>\n",
       "      <td>La Costena Chipotle Peppers, 7 OZ (Pack of 12)</td>\n",
       "      <td>La Costena Chipotle Peppers, 7 OZ (Pack of 12)...</td>\n",
       "      <td>La Costeï¿½ï¿½a</td>\n",
       "      <td>Food | Meal Solutions, Grains &amp; Pasta | Canned...</td>\n",
       "      <td>Food</td>\n",
       "      <td>210</td>\n",
       "    </tr>\n",
       "    <tr>\n",
       "      <th>1</th>\n",
       "      <td>Equate Triamcinolone Acetonide Nasal Allergy S...</td>\n",
       "      <td>Compare to Nasacort Allergy 24HR active ingred...</td>\n",
       "      <td>Equate</td>\n",
       "      <td>Health | Equate | Equate Allergy | Equate Sinu...</td>\n",
       "      <td>Health</td>\n",
       "      <td>2429</td>\n",
       "    </tr>\n",
       "    <tr>\n",
       "      <th>2</th>\n",
       "      <td>AduroSmart ERIA Soft White Smart A19 Light Bul...</td>\n",
       "      <td>The Soft White ERIA A19 bulb (2700K) can be co...</td>\n",
       "      <td>AduroSmart ERIA</td>\n",
       "      <td>Electronics | Smart Home | Smart Energy and Li...</td>\n",
       "      <td>Electronics</td>\n",
       "      <td>3902</td>\n",
       "    </tr>\n",
       "    <tr>\n",
       "      <th>3</th>\n",
       "      <td>24\" Classic Adjustable Balloon Fender Set Chro...</td>\n",
       "      <td>Lowrider Fender Set 24\" Classic Adjustable Chr...</td>\n",
       "      <td>lowrider</td>\n",
       "      <td>Sports &amp; Outdoors | Bikes | Bike Accessories |...</td>\n",
       "      <td>Sports &amp; Outdoors</td>\n",
       "      <td>217</td>\n",
       "    </tr>\n",
       "    <tr>\n",
       "      <th>4</th>\n",
       "      <td>Elephant Shape Silicone Drinkware Portable Sil...</td>\n",
       "      <td>This is a kind of fine quality silicone cup li...</td>\n",
       "      <td>Anself</td>\n",
       "      <td>Baby | Feeding | Sippy Cups: Alternatives to P...</td>\n",
       "      <td>Baby</td>\n",
       "      <td>2459</td>\n",
       "    </tr>\n",
       "  </tbody>\n",
       "</table>\n",
       "</div>"
      ],
      "text/plain": [
       "                                               title  \\\n",
       "0     La Costena Chipotle Peppers, 7 OZ (Pack of 12)   \n",
       "1  Equate Triamcinolone Acetonide Nasal Allergy S...   \n",
       "2  AduroSmart ERIA Soft White Smart A19 Light Bul...   \n",
       "3  24\" Classic Adjustable Balloon Fender Set Chro...   \n",
       "4  Elephant Shape Silicone Drinkware Portable Sil...   \n",
       "\n",
       "                                         description            brand  \\\n",
       "0  La Costena Chipotle Peppers, 7 OZ (Pack of 12)...  La Costeï¿½ï¿½a   \n",
       "1  Compare to Nasacort Allergy 24HR active ingred...           Equate   \n",
       "2  The Soft White ERIA A19 bulb (2700K) can be co...  AduroSmart ERIA   \n",
       "3  Lowrider Fender Set 24\" Classic Adjustable Chr...         lowrider   \n",
       "4  This is a kind of fine quality silicone cup li...           Anself   \n",
       "\n",
       "                                            category           main_cat  \\\n",
       "0  Food | Meal Solutions, Grains & Pasta | Canned...               Food   \n",
       "1  Health | Equate | Equate Allergy | Equate Sinu...             Health   \n",
       "2  Electronics | Smart Home | Smart Energy and Li...        Electronics   \n",
       "3  Sports & Outdoors | Bikes | Bike Accessories |...  Sports & Outdoors   \n",
       "4  Baby | Feeding | Sippy Cups: Alternatives to P...               Baby   \n",
       "\n",
       "   n_char  \n",
       "0     210  \n",
       "1    2429  \n",
       "2    3902  \n",
       "3     217  \n",
       "4    2459  "
      ]
     },
     "execution_count": 14,
     "metadata": {},
     "output_type": "execute_result"
    }
   ],
   "source": [
    "df[\"n_char\"] = df[\"title\"].str.len() + df[\"category\"].str.len() + df[\"description\"].str.len()\n",
    "df.head()"
   ]
  },
  {
   "cell_type": "code",
   "execution_count": 15,
   "metadata": {
    "ExecuteTime": {
     "end_time": "2021-09-20T18:18:34.438198Z",
     "start_time": "2021-09-20T18:18:34.296210Z"
    }
   },
   "outputs": [
    {
     "data": {
      "text/plain": [
       "<AxesSubplot:ylabel='Frequency'>"
      ]
     },
     "execution_count": 15,
     "metadata": {},
     "output_type": "execute_result"
    },
    {
     "data": {
      "image/png": "[encoded data removed]",
      "text/plain": [
       "<Figure size 432x288 with 1 Axes>"
      ]
     },
     "metadata": {
      "needs_background": "light"
     },
     "output_type": "display_data"
    }
   ],
   "source": [
    "df[\"n_char\"].plot.hist()"
   ]
  },
  {
   "cell_type": "code",
   "execution_count": 16,
   "metadata": {
    "ExecuteTime": {
     "end_time": "2021-09-20T18:18:41.646128Z",
     "start_time": "2021-09-20T18:18:41.459587Z"
    }
   },
   "outputs": [
    {
     "name": "stdout",
     "output_type": "stream",
     "text": [
      "             n_trimmed  pct_trimmed\n",
      "title                0            0\n",
      "description          0            0\n",
      "brand                0            0\n",
      "category             0            0\n",
      "main_cat             0            0\n",
      "n_char          14,469           51\n",
      "total_obs       14,469           51\n"
     ]
    },
    {
     "data": {
      "text/plain": [
       "<AxesSubplot:ylabel='Frequency'>"
      ]
     },
     "execution_count": 16,
     "metadata": {},
     "output_type": "execute_result"
    },
    {
     "data": {
      "image/png": "[encoded data removed]",
      "text/plain": [
       "<Figure size 432x288 with 1 Axes>"
      ]
     },
     "metadata": {
      "needs_background": "light"
     },
     "output_type": "display_data"
    }
   ],
   "source": [
    "df = outliers.quantile_trim(df, lower=.5, upper=.99, subset=[\"n_char\"])\n",
    "df[\"n_char\"].plot.hist()"
   ]
  },
  {
   "cell_type": "code",
   "execution_count": 17,
   "metadata": {
    "ExecuteTime": {
     "end_time": "2021-09-20T18:19:10.168126Z",
     "start_time": "2021-09-20T18:18:41.647130Z"
    }
   },
   "outputs": [
    {
     "data": {
      "application/vnd.jupyter.widget-view+json": {
       "model_id": "453732dbc9ec41128e831556a70c04f6",
       "version_major": 2,
       "version_minor": 0
      },
      "text/plain": [
       "detect_lang:   0%|          | 0/13880 [00:00<?, ?it/s]"
      ]
     },
     "metadata": {},
     "output_type": "display_data"
    },
    {
     "data": {
      "text/plain": [
       "en    13875\n",
       "fr        1\n",
       "de        1\n",
       "sl        1\n",
       "es        1\n",
       "id        1\n",
       "Name: lang, dtype: int64"
      ]
     },
     "execution_count": 17,
     "metadata": {},
     "output_type": "execute_result"
    }
   ],
   "source": [
    "df[\"lang\"] = lang.detect_lang(df[\"description\"], n_jobs=-1, seed=30)\n",
    "df[\"lang\"].value_counts()"
   ]
  },
  {
   "cell_type": "code",
   "execution_count": 18,
   "metadata": {
    "ExecuteTime": {
     "end_time": "2021-09-20T18:19:10.185128Z",
     "start_time": "2021-09-20T18:19:10.169129Z"
    }
   },
   "outputs": [
    {
     "data": {
      "text/plain": [
       "(13875, 7)"
      ]
     },
     "execution_count": 18,
     "metadata": {},
     "output_type": "execute_result"
    }
   ],
   "source": [
    "df = df.loc[df.lang == \"en\"].copy()\n",
    "df.drop(columns=\"lang\")\n",
    "df.shape"
   ]
  },
  {
   "cell_type": "code",
   "execution_count": 19,
   "metadata": {
    "ExecuteTime": {
     "end_time": "2021-09-20T18:19:10.205127Z",
     "start_time": "2021-09-20T18:19:10.187129Z"
    }
   },
   "outputs": [
    {
     "data": {
      "text/plain": [
       "array(['Health', 'Electronics', 'Baby', 'Food', 'Sports & Outdoors',\n",
       "       'Home Improvement', 'Personal Care', 'Toys',\n",
       "       'Household Essentials', 'Industrial & Scientific',\n",
       "       'Patio & Garden', 'Clothing', 'Pets', 'Beauty', 'Home', 'Seasonal',\n",
       "       'Premium Beauty', 'Auto & Tires', 'Party & Occasions'],\n",
       "      dtype=object)"
      ]
     },
     "metadata": {},
     "output_type": "display_data"
    },
    {
     "data": {
      "text/plain": [
       "(13840, 7)"
      ]
     },
     "execution_count": 19,
     "metadata": {},
     "output_type": "execute_result"
    }
   ],
   "source": [
    "keep = df[\"main_cat\"].value_counts().loc[lambda x: x > 10].index\n",
    "df = df.loc[df.main_cat.isin(keep)]\n",
    "display(df[\"main_cat\"].unique())\n",
    "df.shape"
   ]
  },
  {
   "cell_type": "code",
   "execution_count": 20,
   "metadata": {
    "ExecuteTime": {
     "end_time": "2021-09-20T18:19:10.362128Z",
     "start_time": "2021-09-20T18:19:10.206127Z"
    }
   },
   "outputs": [],
   "source": [
    "df = df.sort_values(\"main_cat\").reset_index(drop=True)\n",
    "df.to_parquet(\"data/walmart.parquet\", engine=\"pyarrow\")"
   ]
  }
 ],
 "metadata": {
  "interpreter": {
   "hash": "45e948d0256f8c78ae85303b642a175be3add64c95f2eaa9e19fcfd099775c4c"
  },
  "kernelspec": {
   "display_name": "Python 3",
   "language": "python",
   "name": "python3"
  },
  "language_info": {
   "codemirror_mode": {
    "name": "ipython",
    "version": 3
   },
   "file_extension": ".py",
   "mimetype": "text/x-python",
   "name": "python",
   "nbconvert_exporter": "python",
   "pygments_lexer": "ipython3",
   "version": "3.8.5"
  },
  "toc": {
   "base_numbering": 1,
   "nav_menu": {},
   "number_sections": true,
   "sideBar": true,
   "skip_h1_title": false,
   "title_cell": "Table of Contents",
   "title_sidebar": "Contents",
   "toc_cell": false,
   "toc_position": {},
   "toc_section_display": true,
   "toc_window_display": false
  }
 },
 "nbformat": 4,
 "nbformat_minor": 2
}
