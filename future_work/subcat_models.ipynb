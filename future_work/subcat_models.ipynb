{
 "cells": [
  {
   "cell_type": "code",
   "execution_count": 1,
   "metadata": {
    "ExecuteTime": {
     "end_time": "2021-09-05T18:50:43.079841Z",
     "start_time": "2021-09-05T18:50:40.053840Z"
    },
    "scrolled": true
   },
   "outputs": [
    {
     "data": {
      "application/javascript": [
       "\n",
       "            setTimeout(function() {\n",
       "                var nbb_cell_id = 1;\n",
       "                var nbb_unformatted_code = \"import re\\nimport string\\nimport json\\nimport os\\nimport shutil\\nfrom pprint import pprint\\nfrom functools import partial\\nfrom operator import itemgetter, attrgetter\\nfrom os.path import normpath\\nfrom typing import Callable\\n\\nimport joblib\\nimport matplotlib.pyplot as plt\\nimport nltk\\nimport numpy as np\\nimport pandas as pd\\nimport seaborn as sns\\nfrom gensim.parsing.preprocessing import STOPWORDS\\nfrom sacremoses import MosesTokenizer, MosesTruecaser\\nfrom sklearn.base import clone\\nfrom sklearn.compose import (\\n    ColumnTransformer,\\n    make_column_selector,\\n    make_column_transformer,\\n)\\nfrom sklearn.dummy import DummyClassifier\\nfrom sklearn.ensemble import RandomForestClassifier, ExtraTreesClassifier, AdaBoostClassifier\\nfrom sklearn.tree import DecisionTreeClassifier\\nfrom sklearn.feature_selection import (\\n    VarianceThreshold,\\n    SelectKBest,\\n    SelectPercentile,\\n    GenericUnivariateSelect,\\n    f_classif,\\n    mutual_info_classif,\\n    chi2,\\n)\\nfrom sklearn.ensemble import StackingClassifier, VotingClassifier\\nfrom sklearn.neighbors import KNeighborsClassifier, RadiusNeighborsClassifier, NearestCentroid, NearestNeighbors\\nfrom sklearn.linear_model import (\\n    LogisticRegression,\\n    LogisticRegressionCV,\\n    PassiveAggressiveClassifier,\\n    Perceptron,\\n    RidgeClassifier,\\n    RidgeClassifierCV,\\n    SGDClassifier,\\n)\\nfrom sklearn.naive_bayes import (\\n    BernoulliNB,\\n    CategoricalNB,\\n    ComplementNB,\\n    GaussianNB,\\n    MultinomialNB,\\n)\\nfrom sklearn.svm import LinearSVC, NuSVC, OneClassSVM, SVC\\nfrom sklearn.neural_network import MLPClassifier\\nfrom sklearn.model_selection import (\\n    GridSearchCV,\\n    RandomizedSearchCV,\\n    RepeatedStratifiedKFold,\\n    StratifiedKFold,\\n    train_test_split,\\n)\\nfrom sklearn.experimental import enable_hist_gradient_boosting\\nfrom sklearn.impute import KNNImputer\\n# from sklearn.pipeline import FeatureUnion, Pipeline, make_pipeline\\nfrom imblearn.pipeline import Pipeline\\nfrom imblearn.over_sampling import SMOTE, SMOTENC\\nfrom sklearn.preprocessing import (\\n    OneHotEncoder,\\n    Binarizer,\\n    FunctionTransformer,\\n    MaxAbsScaler,\\n    MinMaxScaler,\\n    minmax_scale,\\n    Normalizer,\\n    normalize,\\n    PowerTransformer,\\n    QuantileTransformer,\\n    RobustScaler,\\n    StandardScaler,\\n    PolynomialFeatures,\\n    MultiLabelBinarizer,\\n)\\nimport sklearn.utils as skl_utils\\nfrom sklearn.metrics import accuracy_score, balanced_accuracy_score, classification_report\\nimport scipy as sp\\nimport dask\\nimport dask.dataframe as dd\\nfrom skmultilearn.adapt import MLkNN\\n\\n# Set Seaborn theme and default palette\\nsns.set_theme(font_scale=1.25, style=\\\"darkgrid\\\")\\nsns.set_palette(\\\"deep\\\", desat=0.85, color_codes=True)\\n\\n# Turn on inline plotting\\n%matplotlib inline\\n\\n# Load Black auto-formatter\\n%load_ext nb_black\";\n",
       "                var nbb_formatted_code = \"import re\\nimport string\\nimport json\\nimport os\\nimport shutil\\nfrom pprint import pprint\\nfrom functools import partial\\nfrom operator import itemgetter, attrgetter\\nfrom os.path import normpath\\nfrom typing import Callable\\n\\nimport joblib\\nimport matplotlib.pyplot as plt\\nimport nltk\\nimport numpy as np\\nimport pandas as pd\\nimport seaborn as sns\\nfrom gensim.parsing.preprocessing import STOPWORDS\\nfrom sacremoses import MosesTokenizer, MosesTruecaser\\nfrom sklearn.base import clone\\nfrom sklearn.compose import (\\n    ColumnTransformer,\\n    make_column_selector,\\n    make_column_transformer,\\n)\\nfrom sklearn.dummy import DummyClassifier\\nfrom sklearn.ensemble import (\\n    RandomForestClassifier,\\n    ExtraTreesClassifier,\\n    AdaBoostClassifier,\\n)\\nfrom sklearn.tree import DecisionTreeClassifier\\nfrom sklearn.feature_selection import (\\n    VarianceThreshold,\\n    SelectKBest,\\n    SelectPercentile,\\n    GenericUnivariateSelect,\\n    f_classif,\\n    mutual_info_classif,\\n    chi2,\\n)\\nfrom sklearn.ensemble import StackingClassifier, VotingClassifier\\nfrom sklearn.neighbors import (\\n    KNeighborsClassifier,\\n    RadiusNeighborsClassifier,\\n    NearestCentroid,\\n    NearestNeighbors,\\n)\\nfrom sklearn.linear_model import (\\n    LogisticRegression,\\n    LogisticRegressionCV,\\n    PassiveAggressiveClassifier,\\n    Perceptron,\\n    RidgeClassifier,\\n    RidgeClassifierCV,\\n    SGDClassifier,\\n)\\nfrom sklearn.naive_bayes import (\\n    BernoulliNB,\\n    CategoricalNB,\\n    ComplementNB,\\n    GaussianNB,\\n    MultinomialNB,\\n)\\nfrom sklearn.svm import LinearSVC, NuSVC, OneClassSVM, SVC\\nfrom sklearn.neural_network import MLPClassifier\\nfrom sklearn.model_selection import (\\n    GridSearchCV,\\n    RandomizedSearchCV,\\n    RepeatedStratifiedKFold,\\n    StratifiedKFold,\\n    train_test_split,\\n)\\nfrom sklearn.experimental import enable_hist_gradient_boosting\\nfrom sklearn.impute import KNNImputer\\n\\n# from sklearn.pipeline import FeatureUnion, Pipeline, make_pipeline\\nfrom imblearn.pipeline import Pipeline\\nfrom imblearn.over_sampling import SMOTE, SMOTENC\\nfrom sklearn.preprocessing import (\\n    OneHotEncoder,\\n    Binarizer,\\n    FunctionTransformer,\\n    MaxAbsScaler,\\n    MinMaxScaler,\\n    minmax_scale,\\n    Normalizer,\\n    normalize,\\n    PowerTransformer,\\n    QuantileTransformer,\\n    RobustScaler,\\n    StandardScaler,\\n    PolynomialFeatures,\\n    MultiLabelBinarizer,\\n)\\nimport sklearn.utils as skl_utils\\nfrom sklearn.metrics import (\\n    accuracy_score,\\n    balanced_accuracy_score,\\n    classification_report,\\n)\\nimport scipy as sp\\nimport dask\\nimport dask.dataframe as dd\\nfrom skmultilearn.adapt import MLkNN\\n\\n# Set Seaborn theme and default palette\\nsns.set_theme(font_scale=1.25, style=\\\"darkgrid\\\")\\nsns.set_palette(\\\"deep\\\", desat=0.85, color_codes=True)\\n\\n# Turn on inline plotting\\n%matplotlib inline\\n\\n# Load Black auto-formatter\\n%load_ext nb_black\";\n",
       "                var nbb_cells = Jupyter.notebook.get_cells();\n",
       "                for (var i = 0; i < nbb_cells.length; ++i) {\n",
       "                    if (nbb_cells[i].input_prompt_number == nbb_cell_id) {\n",
       "                        if (nbb_cells[i].get_text() == nbb_unformatted_code) {\n",
       "                             nbb_cells[i].set_text(nbb_formatted_code);\n",
       "                        }\n",
       "                        break;\n",
       "                    }\n",
       "                }\n",
       "            }, 500);\n",
       "            "
      ],
      "text/plain": [
       "<IPython.core.display.Javascript object>"
      ]
     },
     "metadata": {},
     "output_type": "display_data"
    }
   ],
   "source": [
    "import re\n",
    "import string\n",
    "import json\n",
    "import os\n",
    "import shutil\n",
    "from pprint import pprint\n",
    "from functools import partial\n",
    "from operator import itemgetter, attrgetter\n",
    "from os.path import normpath\n",
    "from typing import Callable\n",
    "\n",
    "import joblib\n",
    "import matplotlib.pyplot as plt\n",
    "import nltk\n",
    "import numpy as np\n",
    "import pandas as pd\n",
    "import seaborn as sns\n",
    "from gensim.parsing.preprocessing import STOPWORDS\n",
    "from sacremoses import MosesTokenizer, MosesTruecaser\n",
    "from sklearn.base import clone\n",
    "from sklearn.compose import (\n",
    "    ColumnTransformer,\n",
    "    make_column_selector,\n",
    "    make_column_transformer,\n",
    ")\n",
    "from sklearn.dummy import DummyClassifier\n",
    "from sklearn.ensemble import RandomForestClassifier, ExtraTreesClassifier, AdaBoostClassifier\n",
    "from sklearn.tree import DecisionTreeClassifier\n",
    "from sklearn.feature_selection import (\n",
    "    VarianceThreshold,\n",
    "    SelectKBest,\n",
    "    SelectPercentile,\n",
    "    GenericUnivariateSelect,\n",
    "    f_classif,\n",
    "    mutual_info_classif,\n",
    "    chi2,\n",
    ")\n",
    "from sklearn.ensemble import StackingClassifier, VotingClassifier\n",
    "from sklearn.neighbors import KNeighborsClassifier, RadiusNeighborsClassifier, NearestCentroid, NearestNeighbors\n",
    "from sklearn.linear_model import (\n",
    "    LogisticRegression,\n",
    "    LogisticRegressionCV,\n",
    "    PassiveAggressiveClassifier,\n",
    "    Perceptron,\n",
    "    RidgeClassifier,\n",
    "    RidgeClassifierCV,\n",
    "    SGDClassifier,\n",
    ")\n",
    "from sklearn.naive_bayes import (\n",
    "    BernoulliNB,\n",
    "    CategoricalNB,\n",
    "    ComplementNB,\n",
    "    GaussianNB,\n",
    "    MultinomialNB,\n",
    ")\n",
    "from sklearn.svm import LinearSVC, NuSVC, OneClassSVM, SVC\n",
    "from sklearn.neural_network import MLPClassifier\n",
    "from sklearn.model_selection import (\n",
    "    GridSearchCV,\n",
    "    RandomizedSearchCV,\n",
    "    RepeatedStratifiedKFold,\n",
    "    StratifiedKFold,\n",
    "    train_test_split,\n",
    ")\n",
    "from sklearn.experimental import enable_hist_gradient_boosting\n",
    "from sklearn.impute import KNNImputer\n",
    "# from sklearn.pipeline import FeatureUnion, Pipeline, make_pipeline\n",
    "from imblearn.pipeline import Pipeline\n",
    "from imblearn.over_sampling import SMOTE, SMOTENC\n",
    "from sklearn.preprocessing import (\n",
    "    OneHotEncoder,\n",
    "    Binarizer,\n",
    "    FunctionTransformer,\n",
    "    MaxAbsScaler,\n",
    "    MinMaxScaler,\n",
    "    minmax_scale,\n",
    "    Normalizer,\n",
    "    normalize,\n",
    "    PowerTransformer,\n",
    "    QuantileTransformer,\n",
    "    RobustScaler,\n",
    "    StandardScaler,\n",
    "    PolynomialFeatures,\n",
    "    MultiLabelBinarizer,\n",
    ")\n",
    "import sklearn.utils as skl_utils\n",
    "from sklearn.metrics import accuracy_score, balanced_accuracy_score, classification_report\n",
    "import scipy as sp\n",
    "import dask\n",
    "import dask.dataframe as dd\n",
    "from skmultilearn.adapt import MLkNN\n",
    "\n",
    "# Set Seaborn theme and default palette\n",
    "sns.set_theme(font_scale=1.25, style=\"darkgrid\")\n",
    "sns.set_palette(\"deep\", desat=0.85, color_codes=True)\n",
    "\n",
    "# Turn on inline plotting\n",
    "%matplotlib inline\n",
    "\n",
    "# Load Black auto-formatter\n",
    "%load_ext nb_black\n"
   ]
  },
  {
   "cell_type": "code",
   "execution_count": 2,
   "metadata": {
    "ExecuteTime": {
     "end_time": "2021-09-05T18:50:43.256840Z",
     "start_time": "2021-09-05T18:50:43.080840Z"
    }
   },
   "outputs": [
    {
     "data": {
      "application/javascript": [
       "\n",
       "            setTimeout(function() {\n",
       "                var nbb_cell_id = 2;\n",
       "                var nbb_unformatted_code = \"# Import my modules\\nfrom tools import cleaning, plotting, language as lang, outliers, utils\\nfrom tools.sklearn.vectorizers import FreqVectorizer, Doc2Vectorizer, AverageVectorizer\\nfrom tools.sklearn import selection\\n\\n# Run time-consuming grid searches\\nRUN_SWEEPS = False\\n\\n# Set my default MPL settings\\nplt.rcParams.update(plotting.MPL_DEFAULTS)\\n\\n# Enable automatic reloading\\n%load_ext autoreload\\n%autoreload 2\";\n",
       "                var nbb_formatted_code = \"# Import my modules\\nfrom tools import cleaning, plotting, language as lang, outliers, utils\\nfrom tools.sklearn.vectorizers import FreqVectorizer, Doc2Vectorizer, AverageVectorizer\\nfrom tools.sklearn import selection\\n\\n# Run time-consuming grid searches\\nRUN_SWEEPS = False\\n\\n# Set my default MPL settings\\nplt.rcParams.update(plotting.MPL_DEFAULTS)\\n\\n# Enable automatic reloading\\n%load_ext autoreload\\n%autoreload 2\";\n",
       "                var nbb_cells = Jupyter.notebook.get_cells();\n",
       "                for (var i = 0; i < nbb_cells.length; ++i) {\n",
       "                    if (nbb_cells[i].input_prompt_number == nbb_cell_id) {\n",
       "                        if (nbb_cells[i].get_text() == nbb_unformatted_code) {\n",
       "                             nbb_cells[i].set_text(nbb_formatted_code);\n",
       "                        }\n",
       "                        break;\n",
       "                    }\n",
       "                }\n",
       "            }, 500);\n",
       "            "
      ],
      "text/plain": [
       "<IPython.core.display.Javascript object>"
      ]
     },
     "metadata": {},
     "output_type": "display_data"
    }
   ],
   "source": [
    "# Import my modules\n",
    "from tools import cleaning, plotting, language as lang, outliers, utils\n",
    "from tools.sklearn.vectorizers import FreqVectorizer, Doc2Vectorizer, AverageVectorizer\n",
    "from tools.sklearn import selection\n",
    "\n",
    "# Run time-consuming grid searches\n",
    "RUN_SWEEPS = False\n",
    "\n",
    "# Set my default MPL settings\n",
    "plt.rcParams.update(plotting.MPL_DEFAULTS)\n",
    "\n",
    "# Enable automatic reloading\n",
    "%load_ext autoreload\n",
    "%autoreload 2"
   ]
  },
  {
   "cell_type": "code",
   "execution_count": 3,
   "metadata": {
    "ExecuteTime": {
     "end_time": "2021-09-05T18:50:43.719843Z",
     "start_time": "2021-09-05T18:50:43.257839Z"
    }
   },
   "outputs": [
    {
     "data": {
      "text/html": [
       "<div>\n",
       "<style scoped>\n",
       "    .dataframe tbody tr th:only-of-type {\n",
       "        vertical-align: middle;\n",
       "    }\n",
       "\n",
       "    .dataframe tbody tr th {\n",
       "        vertical-align: top;\n",
       "    }\n",
       "\n",
       "    .dataframe thead th {\n",
       "        text-align: right;\n",
       "    }\n",
       "</style>\n",
       "<table border=\"1\" class=\"dataframe\">\n",
       "  <thead>\n",
       "    <tr style=\"text-align: right;\">\n",
       "      <th></th>\n",
       "      <th>text</th>\n",
       "      <th>title</th>\n",
       "      <th>brand</th>\n",
       "      <th>lang</th>\n",
       "    </tr>\n",
       "    <tr>\n",
       "      <th>asin</th>\n",
       "      <th></th>\n",
       "      <th></th>\n",
       "      <th></th>\n",
       "      <th></th>\n",
       "    </tr>\n",
       "  </thead>\n",
       "  <tbody>\n",
       "    <tr>\n",
       "      <th>0594643058</th>\n",
       "      <td>desktop_dock for samsung_galaxy tab the deskto...</td>\n",
       "      <td>desktop dock for samsung galaxy tab 4</td>\n",
       "      <td>samsung</td>\n",
       "      <td>en</td>\n",
       "    </tr>\n",
       "    <tr>\n",
       "      <th>1323549889</th>\n",
       "      <td>the premium cisco ccna home lab kit year_warra...</td>\n",
       "      <td>the premium cisco ccna home lab kit 1-year war...</td>\n",
       "      <td>cisco</td>\n",
       "      <td>en</td>\n",
       "    </tr>\n",
       "    <tr>\n",
       "      <th>5720453652</th>\n",
       "      <td>complete handset manager kit bluetooth data su...</td>\n",
       "      <td>complete handset manager kit / bluetooth data ...</td>\n",
       "      <td>samsung</td>\n",
       "      <td>en</td>\n",
       "    </tr>\n",
       "    <tr>\n",
       "      <th>7256000073</th>\n",
       "      <td>msata the samsung msata_ssd is built on the cl...</td>\n",
       "      <td>pm841 msata (128gb)</td>\n",
       "      <td>samsung</td>\n",
       "      <td>en</td>\n",
       "    </tr>\n",
       "    <tr>\n",
       "      <th>7505405403</th>\n",
       "      <td>sony vgp vgp ac_adapter for vaio fz cr series_...</td>\n",
       "      <td>sony vgp-ac19v27 / vgp-ac19v19 19.5v 3.9a ac a...</td>\n",
       "      <td>sony</td>\n",
       "      <td>en</td>\n",
       "    </tr>\n",
       "  </tbody>\n",
       "</table>\n",
       "</div>"
      ],
      "text/plain": [
       "                                                         text  \\\n",
       "asin                                                            \n",
       "0594643058  desktop_dock for samsung_galaxy tab the deskto...   \n",
       "1323549889  the premium cisco ccna home lab kit year_warra...   \n",
       "5720453652  complete handset manager kit bluetooth data su...   \n",
       "7256000073  msata the samsung msata_ssd is built on the cl...   \n",
       "7505405403  sony vgp vgp ac_adapter for vaio fz cr series_...   \n",
       "\n",
       "                                                        title    brand lang  \n",
       "asin                                                                         \n",
       "0594643058              desktop dock for samsung galaxy tab 4  samsung   en  \n",
       "1323549889  the premium cisco ccna home lab kit 1-year war...    cisco   en  \n",
       "5720453652  complete handset manager kit / bluetooth data ...  samsung   en  \n",
       "7256000073                                pm841 msata (128gb)  samsung   en  \n",
       "7505405403  sony vgp-ac19v27 / vgp-ac19v19 19.5v 3.9a ac a...     sony   en  "
      ]
     },
     "metadata": {},
     "output_type": "display_data"
    },
    {
     "data": {
      "text/plain": [
       "(33888, 4)"
      ]
     },
     "execution_count": 3,
     "metadata": {},
     "output_type": "execute_result"
    },
    {
     "data": {
      "application/javascript": [
       "\n",
       "            setTimeout(function() {\n",
       "                var nbb_cell_id = 3;\n",
       "                var nbb_unformatted_code = \"df = pd.read_parquet(\\\"data/model_data/main_cat=computers\\\", engine=\\\"pyarrow\\\")\\ndisplay(df.head())\\ndf.shape\";\n",
       "                var nbb_formatted_code = \"df = pd.read_parquet(\\\"data/model_data/main_cat=computers\\\", engine=\\\"pyarrow\\\")\\ndisplay(df.head())\\ndf.shape\";\n",
       "                var nbb_cells = Jupyter.notebook.get_cells();\n",
       "                for (var i = 0; i < nbb_cells.length; ++i) {\n",
       "                    if (nbb_cells[i].input_prompt_number == nbb_cell_id) {\n",
       "                        if (nbb_cells[i].get_text() == nbb_unformatted_code) {\n",
       "                             nbb_cells[i].set_text(nbb_formatted_code);\n",
       "                        }\n",
       "                        break;\n",
       "                    }\n",
       "                }\n",
       "            }, 500);\n",
       "            "
      ],
      "text/plain": [
       "<IPython.core.display.Javascript object>"
      ]
     },
     "metadata": {},
     "output_type": "display_data"
    }
   ],
   "source": [
    "df = pd.read_parquet(\"data/model_data/main_cat=computers\", engine=\"pyarrow\")\n",
    "display(df.head())\n",
    "df.shape"
   ]
  },
  {
   "cell_type": "code",
   "execution_count": 4,
   "metadata": {
    "ExecuteTime": {
     "end_time": "2021-09-05T18:50:47.067841Z",
     "start_time": "2021-09-05T18:50:43.720843Z"
    }
   },
   "outputs": [
    {
     "data": {
      "text/html": [
       "<div>\n",
       "<style scoped>\n",
       "    .dataframe tbody tr th:only-of-type {\n",
       "        vertical-align: middle;\n",
       "    }\n",
       "\n",
       "    .dataframe tbody tr th {\n",
       "        vertical-align: top;\n",
       "    }\n",
       "\n",
       "    .dataframe thead th {\n",
       "        text-align: right;\n",
       "    }\n",
       "</style>\n",
       "<table border=\"1\" class=\"dataframe\">\n",
       "  <thead>\n",
       "    <tr style=\"text-align: right;\">\n",
       "      <th></th>\n",
       "      <th>sub_cat</th>\n",
       "    </tr>\n",
       "    <tr>\n",
       "      <th>asin</th>\n",
       "      <th></th>\n",
       "    </tr>\n",
       "  </thead>\n",
       "  <tbody>\n",
       "    <tr>\n",
       "      <th>1441072241</th>\n",
       "      <td>[books, history, americas, native american]</td>\n",
       "    </tr>\n",
       "    <tr>\n",
       "      <th>6090113980</th>\n",
       "      <td>[home &amp; kitchen, home dcor, area rugs, runners...</td>\n",
       "    </tr>\n",
       "    <tr>\n",
       "      <th>B00004TUBN</th>\n",
       "      <td>[home &amp; kitchen, bathroom accessories, holders...</td>\n",
       "    </tr>\n",
       "    <tr>\n",
       "      <th>B00004TUBN</th>\n",
       "      <td>[home &amp; kitchen, bathroom accessories, holders...</td>\n",
       "    </tr>\n",
       "    <tr>\n",
       "      <th>B000050AP3</th>\n",
       "      <td>[home &amp; kitchen, heating, cooling &amp; air qualit...</td>\n",
       "    </tr>\n",
       "    <tr>\n",
       "      <th>...</th>\n",
       "      <td>...</td>\n",
       "    </tr>\n",
       "    <tr>\n",
       "      <th>B01HHFHGES</th>\n",
       "      <td>[clothing, shoes &amp; jewelry, women, clothing, t...</td>\n",
       "    </tr>\n",
       "    <tr>\n",
       "      <th>B01HHX5AF2</th>\n",
       "      <td>[clothing, shoes &amp; jewelry, novelty &amp; more, cl...</td>\n",
       "    </tr>\n",
       "    <tr>\n",
       "      <th>B01HHZYKYW</th>\n",
       "      <td>[clothing, shoes &amp; jewelry, women, accessories...</td>\n",
       "    </tr>\n",
       "    <tr>\n",
       "      <th>B01HIUH2AK</th>\n",
       "      <td>[books, arts &amp; photography, music]</td>\n",
       "    </tr>\n",
       "    <tr>\n",
       "      <th>B01HIXTMKA</th>\n",
       "      <td>[clothing, shoes &amp; jewelry, women, accessories...</td>\n",
       "    </tr>\n",
       "  </tbody>\n",
       "</table>\n",
       "<p>3702693 rows × 1 columns</p>\n",
       "</div>"
      ],
      "text/plain": [
       "                                                      sub_cat\n",
       "asin                                                         \n",
       "1441072241        [books, history, americas, native american]\n",
       "6090113980  [home & kitchen, home dcor, area rugs, runners...\n",
       "B00004TUBN  [home & kitchen, bathroom accessories, holders...\n",
       "B00004TUBN  [home & kitchen, bathroom accessories, holders...\n",
       "B000050AP3  [home & kitchen, heating, cooling & air qualit...\n",
       "...                                                       ...\n",
       "B01HHFHGES  [clothing, shoes & jewelry, women, clothing, t...\n",
       "B01HHX5AF2  [clothing, shoes & jewelry, novelty & more, cl...\n",
       "B01HHZYKYW  [clothing, shoes & jewelry, women, accessories...\n",
       "B01HIUH2AK                 [books, arts & photography, music]\n",
       "B01HIXTMKA  [clothing, shoes & jewelry, women, accessories...\n",
       "\n",
       "[3702693 rows x 1 columns]"
      ]
     },
     "execution_count": 4,
     "metadata": {},
     "output_type": "execute_result"
    },
    {
     "data": {
      "application/javascript": [
       "\n",
       "            setTimeout(function() {\n",
       "                var nbb_cell_id = 4;\n",
       "                var nbb_unformatted_code = \"sub_cats = pd.read_parquet(\\\"data/amazon_clean\\\", engine=\\\"pyarrow\\\", columns=[\\\"sub_cat\\\"])\\nsub_cats = sub_cats.dropna()\\nsub_cats\";\n",
       "                var nbb_formatted_code = \"sub_cats = pd.read_parquet(\\\"data/amazon_clean\\\", engine=\\\"pyarrow\\\", columns=[\\\"sub_cat\\\"])\\nsub_cats = sub_cats.dropna()\\nsub_cats\";\n",
       "                var nbb_cells = Jupyter.notebook.get_cells();\n",
       "                for (var i = 0; i < nbb_cells.length; ++i) {\n",
       "                    if (nbb_cells[i].input_prompt_number == nbb_cell_id) {\n",
       "                        if (nbb_cells[i].get_text() == nbb_unformatted_code) {\n",
       "                             nbb_cells[i].set_text(nbb_formatted_code);\n",
       "                        }\n",
       "                        break;\n",
       "                    }\n",
       "                }\n",
       "            }, 500);\n",
       "            "
      ],
      "text/plain": [
       "<IPython.core.display.Javascript object>"
      ]
     },
     "metadata": {},
     "output_type": "display_data"
    }
   ],
   "source": [
    "sub_cats = pd.read_parquet(\"data/amazon_clean\", engine=\"pyarrow\", columns=[\"sub_cat\"])\n",
    "sub_cats = sub_cats.dropna()\n",
    "sub_cats"
   ]
  },
  {
   "cell_type": "code",
   "execution_count": 5,
   "metadata": {
    "ExecuteTime": {
     "end_time": "2021-09-05T18:50:55.761841Z",
     "start_time": "2021-09-05T18:50:47.068840Z"
    }
   },
   "outputs": [
    {
     "data": {
      "text/html": [
       "<div>\n",
       "<style scoped>\n",
       "    .dataframe tbody tr th:only-of-type {\n",
       "        vertical-align: middle;\n",
       "    }\n",
       "\n",
       "    .dataframe tbody tr th {\n",
       "        vertical-align: top;\n",
       "    }\n",
       "\n",
       "    .dataframe thead th {\n",
       "        text-align: right;\n",
       "    }\n",
       "</style>\n",
       "<table border=\"1\" class=\"dataframe\">\n",
       "  <thead>\n",
       "    <tr style=\"text-align: right;\">\n",
       "      <th></th>\n",
       "      <th>text</th>\n",
       "      <th>title</th>\n",
       "      <th>brand</th>\n",
       "      <th>lang</th>\n",
       "      <th>sub_cat</th>\n",
       "    </tr>\n",
       "    <tr>\n",
       "      <th>asin</th>\n",
       "      <th></th>\n",
       "      <th></th>\n",
       "      <th></th>\n",
       "      <th></th>\n",
       "      <th></th>\n",
       "    </tr>\n",
       "  </thead>\n",
       "  <tbody>\n",
       "    <tr>\n",
       "      <th>0594643058</th>\n",
       "      <td>desktop_dock for samsung_galaxy tab the deskto...</td>\n",
       "      <td>desktop dock for samsung galaxy tab 4</td>\n",
       "      <td>samsung</td>\n",
       "      <td>en</td>\n",
       "      <td>[electronics, computers &amp; accessories, tablet ...</td>\n",
       "    </tr>\n",
       "    <tr>\n",
       "      <th>1323549889</th>\n",
       "      <td>the premium cisco ccna home lab kit year_warra...</td>\n",
       "      <td>the premium cisco ccna home lab kit 1-year war...</td>\n",
       "      <td>cisco</td>\n",
       "      <td>en</td>\n",
       "      <td>[electronics, computers &amp; accessories, network...</td>\n",
       "    </tr>\n",
       "    <tr>\n",
       "      <th>5720453652</th>\n",
       "      <td>complete handset manager kit bluetooth data su...</td>\n",
       "      <td>complete handset manager kit / bluetooth data ...</td>\n",
       "      <td>samsung</td>\n",
       "      <td>en</td>\n",
       "      <td>[electronics, computers &amp; accessories, compute...</td>\n",
       "    </tr>\n",
       "    <tr>\n",
       "      <th>7256000073</th>\n",
       "      <td>msata the samsung msata_ssd is built on the cl...</td>\n",
       "      <td>pm841 msata (128gb)</td>\n",
       "      <td>samsung</td>\n",
       "      <td>en</td>\n",
       "      <td>[electronics, computers &amp; accessories, data st...</td>\n",
       "    </tr>\n",
       "    <tr>\n",
       "      <th>7505405403</th>\n",
       "      <td>sony vgp vgp ac_adapter for vaio fz cr series_...</td>\n",
       "      <td>sony vgp-ac19v27 / vgp-ac19v19 19.5v 3.9a ac a...</td>\n",
       "      <td>sony</td>\n",
       "      <td>en</td>\n",
       "      <td>[electronics, computers &amp; accessories, laptop ...</td>\n",
       "    </tr>\n",
       "  </tbody>\n",
       "</table>\n",
       "</div>"
      ],
      "text/plain": [
       "                                                         text  \\\n",
       "asin                                                            \n",
       "0594643058  desktop_dock for samsung_galaxy tab the deskto...   \n",
       "1323549889  the premium cisco ccna home lab kit year_warra...   \n",
       "5720453652  complete handset manager kit bluetooth data su...   \n",
       "7256000073  msata the samsung msata_ssd is built on the cl...   \n",
       "7505405403  sony vgp vgp ac_adapter for vaio fz cr series_...   \n",
       "\n",
       "                                                        title    brand lang  \\\n",
       "asin                                                                          \n",
       "0594643058              desktop dock for samsung galaxy tab 4  samsung   en   \n",
       "1323549889  the premium cisco ccna home lab kit 1-year war...    cisco   en   \n",
       "5720453652  complete handset manager kit / bluetooth data ...  samsung   en   \n",
       "7256000073                                pm841 msata (128gb)  samsung   en   \n",
       "7505405403  sony vgp-ac19v27 / vgp-ac19v19 19.5v 3.9a ac a...     sony   en   \n",
       "\n",
       "                                                      sub_cat  \n",
       "asin                                                           \n",
       "0594643058  [electronics, computers & accessories, tablet ...  \n",
       "1323549889  [electronics, computers & accessories, network...  \n",
       "5720453652  [electronics, computers & accessories, compute...  \n",
       "7256000073  [electronics, computers & accessories, data st...  \n",
       "7505405403  [electronics, computers & accessories, laptop ...  "
      ]
     },
     "execution_count": 5,
     "metadata": {},
     "output_type": "execute_result"
    },
    {
     "data": {
      "application/javascript": [
       "\n",
       "            setTimeout(function() {\n",
       "                var nbb_cell_id = 5;\n",
       "                var nbb_unformatted_code = \"df = pd.merge(df, sub_cats, left_index=True, right_index=True)\\ndf.head()\";\n",
       "                var nbb_formatted_code = \"df = pd.merge(df, sub_cats, left_index=True, right_index=True)\\ndf.head()\";\n",
       "                var nbb_cells = Jupyter.notebook.get_cells();\n",
       "                for (var i = 0; i < nbb_cells.length; ++i) {\n",
       "                    if (nbb_cells[i].input_prompt_number == nbb_cell_id) {\n",
       "                        if (nbb_cells[i].get_text() == nbb_unformatted_code) {\n",
       "                             nbb_cells[i].set_text(nbb_formatted_code);\n",
       "                        }\n",
       "                        break;\n",
       "                    }\n",
       "                }\n",
       "            }, 500);\n",
       "            "
      ],
      "text/plain": [
       "<IPython.core.display.Javascript object>"
      ]
     },
     "metadata": {},
     "output_type": "display_data"
    }
   ],
   "source": [
    "df = pd.merge(df, sub_cats, left_index=True, right_index=True)\n",
    "df.head()"
   ]
  },
  {
   "cell_type": "code",
   "execution_count": 6,
   "metadata": {
    "ExecuteTime": {
     "end_time": "2021-09-05T18:50:55.869872Z",
     "start_time": "2021-09-05T18:50:55.762842Z"
    }
   },
   "outputs": [
    {
     "data": {
      "application/javascript": [
       "\n",
       "            setTimeout(function() {\n",
       "                var nbb_cell_id = 6;\n",
       "                var nbb_unformatted_code = \"del sub_cats\";\n",
       "                var nbb_formatted_code = \"del sub_cats\";\n",
       "                var nbb_cells = Jupyter.notebook.get_cells();\n",
       "                for (var i = 0; i < nbb_cells.length; ++i) {\n",
       "                    if (nbb_cells[i].input_prompt_number == nbb_cell_id) {\n",
       "                        if (nbb_cells[i].get_text() == nbb_unformatted_code) {\n",
       "                             nbb_cells[i].set_text(nbb_formatted_code);\n",
       "                        }\n",
       "                        break;\n",
       "                    }\n",
       "                }\n",
       "            }, 500);\n",
       "            "
      ],
      "text/plain": [
       "<IPython.core.display.Javascript object>"
      ]
     },
     "metadata": {},
     "output_type": "display_data"
    }
   ],
   "source": [
    "del sub_cats"
   ]
  },
  {
   "cell_type": "code",
   "execution_count": 7,
   "metadata": {
    "ExecuteTime": {
     "end_time": "2021-09-05T18:50:56.064841Z",
     "start_time": "2021-09-05T18:50:55.870842Z"
    }
   },
   "outputs": [
    {
     "data": {
      "text/html": [
       "<div>\n",
       "<style scoped>\n",
       "    .dataframe tbody tr th:only-of-type {\n",
       "        vertical-align: middle;\n",
       "    }\n",
       "\n",
       "    .dataframe tbody tr th {\n",
       "        vertical-align: top;\n",
       "    }\n",
       "\n",
       "    .dataframe thead th {\n",
       "        text-align: right;\n",
       "    }\n",
       "</style>\n",
       "<table border=\"1\" class=\"dataframe\">\n",
       "  <thead>\n",
       "    <tr style=\"text-align: right;\">\n",
       "      <th></th>\n",
       "      <th>text</th>\n",
       "      <th>title</th>\n",
       "      <th>brand</th>\n",
       "      <th>lang</th>\n",
       "      <th>sub_cat</th>\n",
       "    </tr>\n",
       "    <tr>\n",
       "      <th>asin</th>\n",
       "      <th></th>\n",
       "      <th></th>\n",
       "      <th></th>\n",
       "      <th></th>\n",
       "      <th></th>\n",
       "    </tr>\n",
       "  </thead>\n",
       "  <tbody>\n",
       "    <tr>\n",
       "      <th>0594643058</th>\n",
       "      <td>desktop_dock for samsung_galaxy tab the deskto...</td>\n",
       "      <td>desktop dock for samsung galaxy tab 4</td>\n",
       "      <td>samsung</td>\n",
       "      <td>en</td>\n",
       "      <td>electronics</td>\n",
       "    </tr>\n",
       "    <tr>\n",
       "      <th>0594643058</th>\n",
       "      <td>desktop_dock for samsung_galaxy tab the deskto...</td>\n",
       "      <td>desktop dock for samsung galaxy tab 4</td>\n",
       "      <td>samsung</td>\n",
       "      <td>en</td>\n",
       "      <td>computers &amp; accessories</td>\n",
       "    </tr>\n",
       "    <tr>\n",
       "      <th>0594643058</th>\n",
       "      <td>desktop_dock for samsung_galaxy tab the deskto...</td>\n",
       "      <td>desktop dock for samsung galaxy tab 4</td>\n",
       "      <td>samsung</td>\n",
       "      <td>en</td>\n",
       "      <td>tablet accessories</td>\n",
       "    </tr>\n",
       "    <tr>\n",
       "      <th>0594643058</th>\n",
       "      <td>desktop_dock for samsung_galaxy tab the deskto...</td>\n",
       "      <td>desktop dock for samsung galaxy tab 4</td>\n",
       "      <td>samsung</td>\n",
       "      <td>en</td>\n",
       "      <td>chargers &amp; adapters</td>\n",
       "    </tr>\n",
       "    <tr>\n",
       "      <th>1323549889</th>\n",
       "      <td>the premium cisco ccna home lab kit year_warra...</td>\n",
       "      <td>the premium cisco ccna home lab kit 1-year war...</td>\n",
       "      <td>cisco</td>\n",
       "      <td>en</td>\n",
       "      <td>electronics</td>\n",
       "    </tr>\n",
       "    <tr>\n",
       "      <th>1323549889</th>\n",
       "      <td>the premium cisco ccna home lab kit year_warra...</td>\n",
       "      <td>the premium cisco ccna home lab kit 1-year war...</td>\n",
       "      <td>cisco</td>\n",
       "      <td>en</td>\n",
       "      <td>computers &amp; accessories</td>\n",
       "    </tr>\n",
       "    <tr>\n",
       "      <th>1323549889</th>\n",
       "      <td>the premium cisco ccna home lab kit year_warra...</td>\n",
       "      <td>the premium cisco ccna home lab kit 1-year war...</td>\n",
       "      <td>cisco</td>\n",
       "      <td>en</td>\n",
       "      <td>networking products</td>\n",
       "    </tr>\n",
       "    <tr>\n",
       "      <th>1323549889</th>\n",
       "      <td>the premium cisco ccna home lab kit year_warra...</td>\n",
       "      <td>the premium cisco ccna home lab kit 1-year war...</td>\n",
       "      <td>cisco</td>\n",
       "      <td>en</td>\n",
       "      <td>routers</td>\n",
       "    </tr>\n",
       "    <tr>\n",
       "      <th>5720453652</th>\n",
       "      <td>complete handset manager kit bluetooth data su...</td>\n",
       "      <td>complete handset manager kit / bluetooth data ...</td>\n",
       "      <td>samsung</td>\n",
       "      <td>en</td>\n",
       "      <td>electronics</td>\n",
       "    </tr>\n",
       "    <tr>\n",
       "      <th>5720453652</th>\n",
       "      <td>complete handset manager kit bluetooth data su...</td>\n",
       "      <td>complete handset manager kit / bluetooth data ...</td>\n",
       "      <td>samsung</td>\n",
       "      <td>en</td>\n",
       "      <td>computers &amp; accessories</td>\n",
       "    </tr>\n",
       "  </tbody>\n",
       "</table>\n",
       "</div>"
      ],
      "text/plain": [
       "                                                         text  \\\n",
       "asin                                                            \n",
       "0594643058  desktop_dock for samsung_galaxy tab the deskto...   \n",
       "0594643058  desktop_dock for samsung_galaxy tab the deskto...   \n",
       "0594643058  desktop_dock for samsung_galaxy tab the deskto...   \n",
       "0594643058  desktop_dock for samsung_galaxy tab the deskto...   \n",
       "1323549889  the premium cisco ccna home lab kit year_warra...   \n",
       "1323549889  the premium cisco ccna home lab kit year_warra...   \n",
       "1323549889  the premium cisco ccna home lab kit year_warra...   \n",
       "1323549889  the premium cisco ccna home lab kit year_warra...   \n",
       "5720453652  complete handset manager kit bluetooth data su...   \n",
       "5720453652  complete handset manager kit bluetooth data su...   \n",
       "\n",
       "                                                        title    brand lang  \\\n",
       "asin                                                                          \n",
       "0594643058              desktop dock for samsung galaxy tab 4  samsung   en   \n",
       "0594643058              desktop dock for samsung galaxy tab 4  samsung   en   \n",
       "0594643058              desktop dock for samsung galaxy tab 4  samsung   en   \n",
       "0594643058              desktop dock for samsung galaxy tab 4  samsung   en   \n",
       "1323549889  the premium cisco ccna home lab kit 1-year war...    cisco   en   \n",
       "1323549889  the premium cisco ccna home lab kit 1-year war...    cisco   en   \n",
       "1323549889  the premium cisco ccna home lab kit 1-year war...    cisco   en   \n",
       "1323549889  the premium cisco ccna home lab kit 1-year war...    cisco   en   \n",
       "5720453652  complete handset manager kit / bluetooth data ...  samsung   en   \n",
       "5720453652  complete handset manager kit / bluetooth data ...  samsung   en   \n",
       "\n",
       "                            sub_cat  \n",
       "asin                                 \n",
       "0594643058              electronics  \n",
       "0594643058  computers & accessories  \n",
       "0594643058       tablet accessories  \n",
       "0594643058      chargers & adapters  \n",
       "1323549889              electronics  \n",
       "1323549889  computers & accessories  \n",
       "1323549889      networking products  \n",
       "1323549889                  routers  \n",
       "5720453652              electronics  \n",
       "5720453652  computers & accessories  "
      ]
     },
     "execution_count": 7,
     "metadata": {},
     "output_type": "execute_result"
    },
    {
     "data": {
      "application/javascript": [
       "\n",
       "            setTimeout(function() {\n",
       "                var nbb_cell_id = 7;\n",
       "                var nbb_unformatted_code = \"df = df.explode(\\\"sub_cat\\\")\\ndf.head(10)\";\n",
       "                var nbb_formatted_code = \"df = df.explode(\\\"sub_cat\\\")\\ndf.head(10)\";\n",
       "                var nbb_cells = Jupyter.notebook.get_cells();\n",
       "                for (var i = 0; i < nbb_cells.length; ++i) {\n",
       "                    if (nbb_cells[i].input_prompt_number == nbb_cell_id) {\n",
       "                        if (nbb_cells[i].get_text() == nbb_unformatted_code) {\n",
       "                             nbb_cells[i].set_text(nbb_formatted_code);\n",
       "                        }\n",
       "                        break;\n",
       "                    }\n",
       "                }\n",
       "            }, 500);\n",
       "            "
      ],
      "text/plain": [
       "<IPython.core.display.Javascript object>"
      ]
     },
     "metadata": {},
     "output_type": "display_data"
    }
   ],
   "source": [
    "df = df.explode(\"sub_cat\")\n",
    "df.head(10)"
   ]
  },
  {
   "cell_type": "code",
   "execution_count": 8,
   "metadata": {
    "ExecuteTime": {
     "end_time": "2021-09-05T18:50:59.873585Z",
     "start_time": "2021-09-05T18:50:56.066841Z"
    }
   },
   "outputs": [
    {
     "data": {
      "text/plain": [
       "asin\n",
       "0594643058                   electronics\n",
       "0594643058         computers_accessories\n",
       "0594643058            tablet_accessories\n",
       "0594643058             chargers_adapters\n",
       "1323549889                   electronics\n",
       "                         ...            \n",
       "B01HIU3BO6    keyboards_mice_accessories\n",
       "B01HJ9NROU                   electronics\n",
       "B01HJ9NROU         computers_accessories\n",
       "B01HJ9NROU                  data_storage\n",
       "B01HJ9NROU              usb_flash_drives\n",
       "Name: sub_cat, Length: 151084, dtype: object"
      ]
     },
     "execution_count": 8,
     "metadata": {},
     "output_type": "execute_result"
    },
    {
     "data": {
      "application/javascript": [
       "\n",
       "            setTimeout(function() {\n",
       "                var nbb_cell_id = 8;\n",
       "                var nbb_unformatted_code = \"df[\\\"sub_cat\\\"] = lang.force_ascii(df.loc[:, \\\"sub_cat\\\"], n_jobs=-1)\\ndf[\\\"sub_cat\\\"] = lang.regex_tokenize(\\n    df.loc[:, \\\"sub_cat\\\"], r\\\"(?i)\\\\b[a-z_]{2,16}\\\\b\\\", n_jobs=-1\\n).str.join(\\\"_\\\")\\ndf[\\\"sub_cat\\\"]\";\n",
       "                var nbb_formatted_code = \"df[\\\"sub_cat\\\"] = lang.force_ascii(df.loc[:, \\\"sub_cat\\\"], n_jobs=-1)\\ndf[\\\"sub_cat\\\"] = lang.regex_tokenize(\\n    df.loc[:, \\\"sub_cat\\\"], r\\\"(?i)\\\\b[a-z_]{2,16}\\\\b\\\", n_jobs=-1\\n).str.join(\\\"_\\\")\\ndf[\\\"sub_cat\\\"]\";\n",
       "                var nbb_cells = Jupyter.notebook.get_cells();\n",
       "                for (var i = 0; i < nbb_cells.length; ++i) {\n",
       "                    if (nbb_cells[i].input_prompt_number == nbb_cell_id) {\n",
       "                        if (nbb_cells[i].get_text() == nbb_unformatted_code) {\n",
       "                             nbb_cells[i].set_text(nbb_formatted_code);\n",
       "                        }\n",
       "                        break;\n",
       "                    }\n",
       "                }\n",
       "            }, 500);\n",
       "            "
      ],
      "text/plain": [
       "<IPython.core.display.Javascript object>"
      ]
     },
     "metadata": {},
     "output_type": "display_data"
    }
   ],
   "source": [
    "df[\"sub_cat\"] = lang.force_ascii(df.loc[:, \"sub_cat\"], n_jobs=-1)\n",
    "df[\"sub_cat\"] = lang.regex_tokenize(\n",
    "    df.loc[:, \"sub_cat\"], r\"(?i)\\b[a-z_]{2,16}\\b\", n_jobs=-1\n",
    ").str.join(\"_\")\n",
    "df[\"sub_cat\"]"
   ]
  },
  {
   "cell_type": "code",
   "execution_count": 9,
   "metadata": {
    "ExecuteTime": {
     "end_time": "2021-09-05T18:51:00.087586Z",
     "start_time": "2021-09-05T18:50:59.875585Z"
    }
   },
   "outputs": [
    {
     "name": "stdout",
     "output_type": "stream",
     "text": [
      "                                    Status  Support\n",
      "electronics                       retained    32145\n",
      "computers_accessories             retained    31236\n",
      "computers_tablets                 retained     6409\n",
      "tablet_accessories                retained     5807\n",
      "computer_accessories_peripherals  retained     5297\n",
      "...                                    ...      ...\n",
      "flash_accessories                  dropped        1\n",
      "cable_insertion_extraction_tools   dropped        1\n",
      "smartmedia_cards                   dropped        1\n",
      "speaker_cables                     dropped        1\n",
      "wall_stickers_murals               dropped        1\n",
      "\n",
      "[701 rows x 2 columns]\n"
     ]
    },
    {
     "data": {
      "text/plain": [
       "electronics                         32145\n",
       "computers_accessories               31236\n",
       "computers_tablets                    6409\n",
       "tablet_accessories                   5807\n",
       "computer_accessories_peripherals     5297\n",
       "                                    ...  \n",
       "camera_photo                          152\n",
       "internal_power_supplies               148\n",
       "accessory_kits                        144\n",
       "backpacks                             139\n",
       "computer_cases                        136\n",
       "Name: sub_cat, Length: 71, dtype: int64"
      ]
     },
     "execution_count": 9,
     "metadata": {},
     "output_type": "execute_result"
    },
    {
     "data": {
      "application/javascript": [
       "\n",
       "            setTimeout(function() {\n",
       "                var nbb_cell_id = 9;\n",
       "                var nbb_unformatted_code = \"df = utils.prune_categories(df, \\\"sub_cat\\\", qcut=0.9)\\ndf.sub_cat.value_counts()\";\n",
       "                var nbb_formatted_code = \"df = utils.prune_categories(df, \\\"sub_cat\\\", qcut=0.9)\\ndf.sub_cat.value_counts()\";\n",
       "                var nbb_cells = Jupyter.notebook.get_cells();\n",
       "                for (var i = 0; i < nbb_cells.length; ++i) {\n",
       "                    if (nbb_cells[i].input_prompt_number == nbb_cell_id) {\n",
       "                        if (nbb_cells[i].get_text() == nbb_unformatted_code) {\n",
       "                             nbb_cells[i].set_text(nbb_formatted_code);\n",
       "                        }\n",
       "                        break;\n",
       "                    }\n",
       "                }\n",
       "            }, 500);\n",
       "            "
      ],
      "text/plain": [
       "<IPython.core.display.Javascript object>"
      ]
     },
     "metadata": {},
     "output_type": "display_data"
    }
   ],
   "source": [
    "df = utils.prune_categories(df, \"sub_cat\", qcut=0.9)\n",
    "df.sub_cat.value_counts()"
   ]
  },
  {
   "cell_type": "code",
   "execution_count": 10,
   "metadata": {
    "ExecuteTime": {
     "end_time": "2021-09-05T18:51:00.786611Z",
     "start_time": "2021-09-05T18:51:00.088585Z"
    }
   },
   "outputs": [
    {
     "data": {
      "text/plain": [
       "<AxesSubplot:xlabel='sub_cat', ylabel='Count'>"
      ]
     },
     "execution_count": 10,
     "metadata": {},
     "output_type": "execute_result"
    },
    {
     "data": {
      "image/png": "[encoded data removed]",
      "text/plain": [
       "<Figure size 432x288 with 1 Axes>"
      ]
     },
     "metadata": {
      "needs_background": "light"
     },
     "output_type": "display_data"
    },
    {
     "data": {
      "application/javascript": [
       "\n",
       "            setTimeout(function() {\n",
       "                var nbb_cell_id = 10;\n",
       "                var nbb_unformatted_code = \"sns.histplot(data=df.sub_cat.value_counts(), log_scale=True)\";\n",
       "                var nbb_formatted_code = \"sns.histplot(data=df.sub_cat.value_counts(), log_scale=True)\";\n",
       "                var nbb_cells = Jupyter.notebook.get_cells();\n",
       "                for (var i = 0; i < nbb_cells.length; ++i) {\n",
       "                    if (nbb_cells[i].input_prompt_number == nbb_cell_id) {\n",
       "                        if (nbb_cells[i].get_text() == nbb_unformatted_code) {\n",
       "                             nbb_cells[i].set_text(nbb_formatted_code);\n",
       "                        }\n",
       "                        break;\n",
       "                    }\n",
       "                }\n",
       "            }, 500);\n",
       "            "
      ],
      "text/plain": [
       "<IPython.core.display.Javascript object>"
      ]
     },
     "metadata": {},
     "output_type": "display_data"
    }
   ],
   "source": [
    "sns.histplot(data=df.sub_cat.value_counts(), log_scale=True)"
   ]
  },
  {
   "cell_type": "code",
   "execution_count": 11,
   "metadata": {
    "ExecuteTime": {
     "end_time": "2021-09-05T18:51:01.587612Z",
     "start_time": "2021-09-05T18:51:00.787583Z"
    }
   },
   "outputs": [
    {
     "data": {
      "text/html": [
       "<div>\n",
       "<style scoped>\n",
       "    .dataframe tbody tr th:only-of-type {\n",
       "        vertical-align: middle;\n",
       "    }\n",
       "\n",
       "    .dataframe tbody tr th {\n",
       "        vertical-align: top;\n",
       "    }\n",
       "\n",
       "    .dataframe thead th {\n",
       "        text-align: right;\n",
       "    }\n",
       "</style>\n",
       "<table border=\"1\" class=\"dataframe\">\n",
       "  <thead>\n",
       "    <tr style=\"text-align: right;\">\n",
       "      <th></th>\n",
       "      <th>text</th>\n",
       "      <th>title</th>\n",
       "      <th>brand</th>\n",
       "      <th>lang</th>\n",
       "      <th>sub_cat</th>\n",
       "    </tr>\n",
       "    <tr>\n",
       "      <th>asin</th>\n",
       "      <th></th>\n",
       "      <th></th>\n",
       "      <th></th>\n",
       "      <th></th>\n",
       "      <th></th>\n",
       "    </tr>\n",
       "  </thead>\n",
       "  <tbody>\n",
       "    <tr>\n",
       "      <th>0594643058</th>\n",
       "      <td>desktop_dock for samsung_galaxy tab the deskto...</td>\n",
       "      <td>desktop dock for samsung galaxy tab 4</td>\n",
       "      <td>samsung</td>\n",
       "      <td>en</td>\n",
       "      <td>[electronics, computers_accessories, tablet_ac...</td>\n",
       "    </tr>\n",
       "    <tr>\n",
       "      <th>1323549889</th>\n",
       "      <td>the premium cisco ccna home lab kit year_warra...</td>\n",
       "      <td>the premium cisco ccna home lab kit 1-year war...</td>\n",
       "      <td>cisco</td>\n",
       "      <td>en</td>\n",
       "      <td>[electronics, computers_accessories, networkin...</td>\n",
       "    </tr>\n",
       "    <tr>\n",
       "      <th>5720453652</th>\n",
       "      <td>complete handset manager kit bluetooth data su...</td>\n",
       "      <td>complete handset manager kit / bluetooth data ...</td>\n",
       "      <td>samsung</td>\n",
       "      <td>en</td>\n",
       "      <td>[electronics, computers_accessories, computer_...</td>\n",
       "    </tr>\n",
       "    <tr>\n",
       "      <th>7256000073</th>\n",
       "      <td>msata the samsung msata_ssd is built on the cl...</td>\n",
       "      <td>pm841 msata (128gb)</td>\n",
       "      <td>samsung</td>\n",
       "      <td>en</td>\n",
       "      <td>[electronics, computers_accessories, data_stor...</td>\n",
       "    </tr>\n",
       "    <tr>\n",
       "      <th>7505405403</th>\n",
       "      <td>sony vgp vgp ac_adapter for vaio fz cr series_...</td>\n",
       "      <td>sony vgp-ac19v27 / vgp-ac19v19 19.5v 3.9a ac a...</td>\n",
       "      <td>sony</td>\n",
       "      <td>en</td>\n",
       "      <td>[electronics, computers_accessories, laptop_ac...</td>\n",
       "    </tr>\n",
       "    <tr>\n",
       "      <th>...</th>\n",
       "      <td>...</td>\n",
       "      <td>...</td>\n",
       "      <td>...</td>\n",
       "      <td>...</td>\n",
       "      <td>...</td>\n",
       "    </tr>\n",
       "    <tr>\n",
       "      <th>B01HIJIZR0</th>\n",
       "      <td>high_performance flagship toshiba fhd ips touc...</td>\n",
       "      <td>2016 high performance flagship toshiba fhd ips...</td>\n",
       "      <td>toshiba</td>\n",
       "      <td>en</td>\n",
       "      <td>[electronics, computers_accessories, computers...</td>\n",
       "    </tr>\n",
       "    <tr>\n",
       "      <th>B01HISY3U4</th>\n",
       "      <td>vangoddy plum purple shock_absorbent sleeve fi...</td>\n",
       "      <td>vangoddy plum purple shock absorbent sleeve fi...</td>\n",
       "      <td>vangoddy</td>\n",
       "      <td>en</td>\n",
       "      <td>[electronics, computers_accessories, laptop_ac...</td>\n",
       "    </tr>\n",
       "    <tr>\n",
       "      <th>B01HISY480</th>\n",
       "      <td>vangoddy charcoal_gray shock_absorbent sleeve ...</td>\n",
       "      <td>vangoddy charcoal gray shock absorbent sleeve ...</td>\n",
       "      <td>vangoddy</td>\n",
       "      <td>en</td>\n",
       "      <td>[electronics, computers_accessories, laptop_ac...</td>\n",
       "    </tr>\n",
       "    <tr>\n",
       "      <th>B01HIU3BO6</th>\n",
       "      <td>logitech optical gaming_mouse certified_refurb...</td>\n",
       "      <td>logitech g100s optical gaming mouse (certified...</td>\n",
       "      <td>logitech</td>\n",
       "      <td>en</td>\n",
       "      <td>[electronics, computers_accessories, computer_...</td>\n",
       "    </tr>\n",
       "    <tr>\n",
       "      <th>B01HJ9NROU</th>\n",
       "      <td>new_black usb_flash drive_memory stick storage...</td>\n",
       "      <td>new black 128gb usb 2.0 flash drive memory sti...</td>\n",
       "      <td>generic</td>\n",
       "      <td>en</td>\n",
       "      <td>[electronics, computers_accessories, data_stor...</td>\n",
       "    </tr>\n",
       "  </tbody>\n",
       "</table>\n",
       "<p>33171 rows × 5 columns</p>\n",
       "</div>"
      ],
      "text/plain": [
       "                                                         text  \\\n",
       "asin                                                            \n",
       "0594643058  desktop_dock for samsung_galaxy tab the deskto...   \n",
       "1323549889  the premium cisco ccna home lab kit year_warra...   \n",
       "5720453652  complete handset manager kit bluetooth data su...   \n",
       "7256000073  msata the samsung msata_ssd is built on the cl...   \n",
       "7505405403  sony vgp vgp ac_adapter for vaio fz cr series_...   \n",
       "...                                                       ...   \n",
       "B01HIJIZR0  high_performance flagship toshiba fhd ips touc...   \n",
       "B01HISY3U4  vangoddy plum purple shock_absorbent sleeve fi...   \n",
       "B01HISY480  vangoddy charcoal_gray shock_absorbent sleeve ...   \n",
       "B01HIU3BO6  logitech optical gaming_mouse certified_refurb...   \n",
       "B01HJ9NROU  new_black usb_flash drive_memory stick storage...   \n",
       "\n",
       "                                                        title     brand lang  \\\n",
       "asin                                                                           \n",
       "0594643058              desktop dock for samsung galaxy tab 4   samsung   en   \n",
       "1323549889  the premium cisco ccna home lab kit 1-year war...     cisco   en   \n",
       "5720453652  complete handset manager kit / bluetooth data ...   samsung   en   \n",
       "7256000073                                pm841 msata (128gb)   samsung   en   \n",
       "7505405403  sony vgp-ac19v27 / vgp-ac19v19 19.5v 3.9a ac a...      sony   en   \n",
       "...                                                       ...       ...  ...   \n",
       "B01HIJIZR0  2016 high performance flagship toshiba fhd ips...   toshiba   en   \n",
       "B01HISY3U4  vangoddy plum purple shock absorbent sleeve fi...  vangoddy   en   \n",
       "B01HISY480  vangoddy charcoal gray shock absorbent sleeve ...  vangoddy   en   \n",
       "B01HIU3BO6  logitech g100s optical gaming mouse (certified...  logitech   en   \n",
       "B01HJ9NROU  new black 128gb usb 2.0 flash drive memory sti...   generic   en   \n",
       "\n",
       "                                                      sub_cat  \n",
       "asin                                                           \n",
       "0594643058  [electronics, computers_accessories, tablet_ac...  \n",
       "1323549889  [electronics, computers_accessories, networkin...  \n",
       "5720453652  [electronics, computers_accessories, computer_...  \n",
       "7256000073  [electronics, computers_accessories, data_stor...  \n",
       "7505405403  [electronics, computers_accessories, laptop_ac...  \n",
       "...                                                       ...  \n",
       "B01HIJIZR0  [electronics, computers_accessories, computers...  \n",
       "B01HISY3U4  [electronics, computers_accessories, laptop_ac...  \n",
       "B01HISY480  [electronics, computers_accessories, laptop_ac...  \n",
       "B01HIU3BO6  [electronics, computers_accessories, computer_...  \n",
       "B01HJ9NROU  [electronics, computers_accessories, data_stor...  \n",
       "\n",
       "[33171 rows x 5 columns]"
      ]
     },
     "execution_count": 11,
     "metadata": {},
     "output_type": "execute_result"
    },
    {
     "data": {
      "application/javascript": [
       "\n",
       "            setTimeout(function() {\n",
       "                var nbb_cell_id = 11;\n",
       "                var nbb_unformatted_code = \"df = utils.implode(df, \\\"sub_cat\\\")\\ndf\";\n",
       "                var nbb_formatted_code = \"df = utils.implode(df, \\\"sub_cat\\\")\\ndf\";\n",
       "                var nbb_cells = Jupyter.notebook.get_cells();\n",
       "                for (var i = 0; i < nbb_cells.length; ++i) {\n",
       "                    if (nbb_cells[i].input_prompt_number == nbb_cell_id) {\n",
       "                        if (nbb_cells[i].get_text() == nbb_unformatted_code) {\n",
       "                             nbb_cells[i].set_text(nbb_formatted_code);\n",
       "                        }\n",
       "                        break;\n",
       "                    }\n",
       "                }\n",
       "            }, 500);\n",
       "            "
      ],
      "text/plain": [
       "<IPython.core.display.Javascript object>"
      ]
     },
     "metadata": {},
     "output_type": "display_data"
    }
   ],
   "source": [
    "df = utils.implode(df, \"sub_cat\")\n",
    "df"
   ]
  },
  {
   "cell_type": "markdown",
   "metadata": {},
   "source": [
    "\n",
    "# Modeling\n",
    "## Train-Test Split"
   ]
  },
  {
   "cell_type": "code",
   "execution_count": 12,
   "metadata": {
    "ExecuteTime": {
     "end_time": "2021-09-05T18:51:01.762627Z",
     "start_time": "2021-09-05T18:51:01.588586Z"
    }
   },
   "outputs": [
    {
     "data": {
      "application/javascript": [
       "\n",
       "            setTimeout(function() {\n",
       "                var nbb_cell_id = 12;\n",
       "                var nbb_unformatted_code = \"mlb = MultiLabelBinarizer()\";\n",
       "                var nbb_formatted_code = \"mlb = MultiLabelBinarizer()\";\n",
       "                var nbb_cells = Jupyter.notebook.get_cells();\n",
       "                for (var i = 0; i < nbb_cells.length; ++i) {\n",
       "                    if (nbb_cells[i].input_prompt_number == nbb_cell_id) {\n",
       "                        if (nbb_cells[i].get_text() == nbb_unformatted_code) {\n",
       "                             nbb_cells[i].set_text(nbb_formatted_code);\n",
       "                        }\n",
       "                        break;\n",
       "                    }\n",
       "                }\n",
       "            }, 500);\n",
       "            "
      ],
      "text/plain": [
       "<IPython.core.display.Javascript object>"
      ]
     },
     "metadata": {},
     "output_type": "display_data"
    }
   ],
   "source": [
    "mlb = MultiLabelBinarizer()"
   ]
  },
  {
   "cell_type": "code",
   "execution_count": 13,
   "metadata": {
    "ExecuteTime": {
     "end_time": "2021-09-05T18:51:01.897614Z",
     "start_time": "2021-09-05T18:51:01.763586Z"
    }
   },
   "outputs": [
    {
     "data": {
      "application/javascript": [
       "\n",
       "            setTimeout(function() {\n",
       "                var nbb_cell_id = 13;\n",
       "                var nbb_unformatted_code = \"# Define X and y\\nX = df.loc[:, [\\\"text\\\", \\\"brand\\\"]].sample(frac=0.25, random_state=303)\\ny = df.loc[X.index, \\\"sub_cat\\\"]\\ny = mlb.fit_transform(y)\";\n",
       "                var nbb_formatted_code = \"# Define X and y\\nX = df.loc[:, [\\\"text\\\", \\\"brand\\\"]].sample(frac=0.25, random_state=303)\\ny = df.loc[X.index, \\\"sub_cat\\\"]\\ny = mlb.fit_transform(y)\";\n",
       "                var nbb_cells = Jupyter.notebook.get_cells();\n",
       "                for (var i = 0; i < nbb_cells.length; ++i) {\n",
       "                    if (nbb_cells[i].input_prompt_number == nbb_cell_id) {\n",
       "                        if (nbb_cells[i].get_text() == nbb_unformatted_code) {\n",
       "                             nbb_cells[i].set_text(nbb_formatted_code);\n",
       "                        }\n",
       "                        break;\n",
       "                    }\n",
       "                }\n",
       "            }, 500);\n",
       "            "
      ],
      "text/plain": [
       "<IPython.core.display.Javascript object>"
      ]
     },
     "metadata": {},
     "output_type": "display_data"
    }
   ],
   "source": [
    "# Define X and y\n",
    "X = df.loc[:, [\"text\", \"brand\"]].sample(frac=0.25, random_state=303)\n",
    "y = df.loc[X.index, \"sub_cat\"]\n",
    "y = mlb.fit_transform(y)"
   ]
  },
  {
   "cell_type": "code",
   "execution_count": 14,
   "metadata": {
    "ExecuteTime": {
     "end_time": "2021-09-05T18:51:02.010583Z",
     "start_time": "2021-09-05T18:51:01.898612Z"
    },
    "run_control": {
     "marked": false
    }
   },
   "outputs": [
    {
     "data": {
      "text/plain": [
       "((6219, 2), (2074, 2), (6219, 71), (2074, 71))"
      ]
     },
     "execution_count": 14,
     "metadata": {},
     "output_type": "execute_result"
    },
    {
     "data": {
      "application/javascript": [
       "\n",
       "            setTimeout(function() {\n",
       "                var nbb_cell_id = 14;\n",
       "                var nbb_unformatted_code = \"X_train, X_test, y_train, y_test = train_test_split(X, y)\\n\\nX_train.shape, X_test.shape, y_train.shape, y_test.shape\";\n",
       "                var nbb_formatted_code = \"X_train, X_test, y_train, y_test = train_test_split(X, y)\\n\\nX_train.shape, X_test.shape, y_train.shape, y_test.shape\";\n",
       "                var nbb_cells = Jupyter.notebook.get_cells();\n",
       "                for (var i = 0; i < nbb_cells.length; ++i) {\n",
       "                    if (nbb_cells[i].input_prompt_number == nbb_cell_id) {\n",
       "                        if (nbb_cells[i].get_text() == nbb_unformatted_code) {\n",
       "                             nbb_cells[i].set_text(nbb_formatted_code);\n",
       "                        }\n",
       "                        break;\n",
       "                    }\n",
       "                }\n",
       "            }, 500);\n",
       "            "
      ],
      "text/plain": [
       "<IPython.core.display.Javascript object>"
      ]
     },
     "metadata": {},
     "output_type": "display_data"
    }
   ],
   "source": [
    "X_train, X_test, y_train, y_test = train_test_split(X, y)\n",
    "\n",
    "X_train.shape, X_test.shape, y_train.shape, y_test.shape"
   ]
  },
  {
   "cell_type": "code",
   "execution_count": 15,
   "metadata": {
    "ExecuteTime": {
     "end_time": "2021-09-05T18:51:02.119584Z",
     "start_time": "2021-09-05T18:51:02.011585Z"
    }
   },
   "outputs": [
    {
     "data": {
      "text/plain": [
       "array(['accessories', 'accessories_supplies', 'accessory_kits',\n",
       "       'all_in_ones', 'audio_video_accessories', 'backpacks',\n",
       "       'bags_cases_sleeves', 'batteries', 'cables_interconnects',\n",
       "       'camera_photo', 'cases', 'cases_holsters_sleeves', 'cat_cables',\n",
       "       'cell_phones_accessories', 'chargers_adapters',\n",
       "       'computer_accessories_peripherals', 'computer_cable_adapters',\n",
       "       'computer_cases', 'computer_components', 'computers_accessories',\n",
       "       'computers_tablets', 'connectors_adapters', 'cpu_processors',\n",
       "       'data_storage', 'desktops', 'electronics', 'ethernet_cables',\n",
       "       'external_components', 'external_hard_drives', 'fans_cooling',\n",
       "       'folio_cases', 'graphics_cards', 'hard_drive_accessories',\n",
       "       'hard_drive_enclosures', 'in_laptops', 'internal_components',\n",
       "       'internal_hard_drives', 'internal_power_supplies',\n",
       "       'internal_solid_state_drives', 'keyboard_cases', 'keyboards',\n",
       "       'keyboards_mice_accessories', 'laptop_accessories',\n",
       "       'laptop_replacement_parts', 'laptops', 'memory',\n",
       "       'memory_card_accessories', 'memory_cards', 'messenger_bags',\n",
       "       'micro_sd_cards', 'monitors', 'motherboards', 'network_adapters',\n",
       "       'networking_products', 'office_products', 'playstation',\n",
       "       'replacement_screens', 'routers', 'screen_protectors', 'sd_cards',\n",
       "       'skins_decals', 'sleeves', 'switches', 'tablet_accessories',\n",
       "       'tablets', 'towers', 'traditional_laptops', 'usb_cables',\n",
       "       'usb_flash_drives', 'usb_network_adapters', 'video_games'],\n",
       "      dtype=object)"
      ]
     },
     "execution_count": 15,
     "metadata": {},
     "output_type": "execute_result"
    },
    {
     "data": {
      "application/javascript": [
       "\n",
       "            setTimeout(function() {\n",
       "                var nbb_cell_id = 15;\n",
       "                var nbb_unformatted_code = \"mlb.classes_\";\n",
       "                var nbb_formatted_code = \"mlb.classes_\";\n",
       "                var nbb_cells = Jupyter.notebook.get_cells();\n",
       "                for (var i = 0; i < nbb_cells.length; ++i) {\n",
       "                    if (nbb_cells[i].input_prompt_number == nbb_cell_id) {\n",
       "                        if (nbb_cells[i].get_text() == nbb_unformatted_code) {\n",
       "                             nbb_cells[i].set_text(nbb_formatted_code);\n",
       "                        }\n",
       "                        break;\n",
       "                    }\n",
       "                }\n",
       "            }, 500);\n",
       "            "
      ],
      "text/plain": [
       "<IPython.core.display.Javascript object>"
      ]
     },
     "metadata": {},
     "output_type": "display_data"
    }
   ],
   "source": [
    "mlb.classes_"
   ]
  },
  {
   "cell_type": "code",
   "execution_count": 16,
   "metadata": {
    "ExecuteTime": {
     "end_time": "2021-09-05T18:51:02.231612Z",
     "start_time": "2021-09-05T18:51:02.120582Z"
    }
   },
   "outputs": [
    {
     "data": {
      "text/plain": [
       "(FreqVectorizer(decode_html_entities=False, lowercase=False,\n",
       "                token_pattern='(?i)\\\\b[a-z_]{2,16}\\\\b'),\n",
       " OneHotEncoder(handle_unknown='ignore'))"
      ]
     },
     "execution_count": 16,
     "metadata": {},
     "output_type": "execute_result"
    },
    {
     "data": {
      "application/javascript": [
       "\n",
       "            setTimeout(function() {\n",
       "                var nbb_cell_id = 16;\n",
       "                var nbb_unformatted_code = \"fv = FreqVectorizer(\\n    lowercase=False,\\n    decode_html_entities=False,\\n    token_pattern=r\\\"(?i)\\\\b[a-z_]{2,16}\\\\b\\\",\\n)\\n\\nohe = OneHotEncoder(handle_unknown=\\\"ignore\\\")\\n\\nfv, ohe\";\n",
       "                var nbb_formatted_code = \"fv = FreqVectorizer(\\n    lowercase=False,\\n    decode_html_entities=False,\\n    token_pattern=r\\\"(?i)\\\\b[a-z_]{2,16}\\\\b\\\",\\n)\\n\\nohe = OneHotEncoder(handle_unknown=\\\"ignore\\\")\\n\\nfv, ohe\";\n",
       "                var nbb_cells = Jupyter.notebook.get_cells();\n",
       "                for (var i = 0; i < nbb_cells.length; ++i) {\n",
       "                    if (nbb_cells[i].input_prompt_number == nbb_cell_id) {\n",
       "                        if (nbb_cells[i].get_text() == nbb_unformatted_code) {\n",
       "                             nbb_cells[i].set_text(nbb_formatted_code);\n",
       "                        }\n",
       "                        break;\n",
       "                    }\n",
       "                }\n",
       "            }, 500);\n",
       "            "
      ],
      "text/plain": [
       "<IPython.core.display.Javascript object>"
      ]
     },
     "metadata": {},
     "output_type": "display_data"
    }
   ],
   "source": [
    "fv = FreqVectorizer(\n",
    "    lowercase=False,\n",
    "    decode_html_entities=False,\n",
    "    token_pattern=r\"(?i)\\b[a-z_]{2,16}\\b\",\n",
    ")\n",
    "\n",
    "ohe = OneHotEncoder(handle_unknown=\"ignore\")\n",
    "\n",
    "fv, ohe"
   ]
  },
  {
   "cell_type": "code",
   "execution_count": 17,
   "metadata": {
    "ExecuteTime": {
     "end_time": "2021-09-05T18:51:02.346603Z",
     "start_time": "2021-09-05T18:51:02.232585Z"
    }
   },
   "outputs": [
    {
     "data": {
      "text/plain": [
       "ColumnTransformer(transformers=[('text',\n",
       "                                 FreqVectorizer(decode_html_entities=False,\n",
       "                                                lowercase=False,\n",
       "                                                token_pattern='(?i)\\\\b[a-z_]{2,16}\\\\b'),\n",
       "                                 'text'),\n",
       "                                ('brand',\n",
       "                                 OneHotEncoder(handle_unknown='ignore'),\n",
       "                                 ['brand'])])"
      ]
     },
     "execution_count": 17,
     "metadata": {},
     "output_type": "execute_result"
    },
    {
     "data": {
      "application/javascript": [
       "\n",
       "            setTimeout(function() {\n",
       "                var nbb_cell_id = 17;\n",
       "                var nbb_unformatted_code = \"ct = ColumnTransformer(\\n    [\\n        (\\\"text\\\", fv, \\\"text\\\"),\\n        (\\\"brand\\\", ohe, [\\\"brand\\\"]),\\n    ],\\n)\\nct\";\n",
       "                var nbb_formatted_code = \"ct = ColumnTransformer(\\n    [\\n        (\\\"text\\\", fv, \\\"text\\\"),\\n        (\\\"brand\\\", ohe, [\\\"brand\\\"]),\\n    ],\\n)\\nct\";\n",
       "                var nbb_cells = Jupyter.notebook.get_cells();\n",
       "                for (var i = 0; i < nbb_cells.length; ++i) {\n",
       "                    if (nbb_cells[i].input_prompt_number == nbb_cell_id) {\n",
       "                        if (nbb_cells[i].get_text() == nbb_unformatted_code) {\n",
       "                             nbb_cells[i].set_text(nbb_formatted_code);\n",
       "                        }\n",
       "                        break;\n",
       "                    }\n",
       "                }\n",
       "            }, 500);\n",
       "            "
      ],
      "text/plain": [
       "<IPython.core.display.Javascript object>"
      ]
     },
     "metadata": {},
     "output_type": "display_data"
    }
   ],
   "source": [
    "ct = ColumnTransformer(\n",
    "    [\n",
    "        (\"text\", fv, \"text\"),\n",
    "        (\"brand\", ohe, [\"brand\"]),\n",
    "    ],\n",
    ")\n",
    "ct"
   ]
  },
  {
   "cell_type": "code",
   "execution_count": 18,
   "metadata": {
    "ExecuteTime": {
     "end_time": "2021-09-05T18:51:02.452583Z",
     "start_time": "2021-09-05T18:51:02.347587Z"
    }
   },
   "outputs": [
    {
     "data": {
      "application/javascript": [
       "\n",
       "            setTimeout(function() {\n",
       "                var nbb_cell_id = 18;\n",
       "                var nbb_unformatted_code = \"# rf = RandomForestClassifier(class_weight=\\\"balanced\\\", n_jobs=-1)\\n# rf\";\n",
       "                var nbb_formatted_code = \"# rf = RandomForestClassifier(class_weight=\\\"balanced\\\", n_jobs=-1)\\n# rf\";\n",
       "                var nbb_cells = Jupyter.notebook.get_cells();\n",
       "                for (var i = 0; i < nbb_cells.length; ++i) {\n",
       "                    if (nbb_cells[i].input_prompt_number == nbb_cell_id) {\n",
       "                        if (nbb_cells[i].get_text() == nbb_unformatted_code) {\n",
       "                             nbb_cells[i].set_text(nbb_formatted_code);\n",
       "                        }\n",
       "                        break;\n",
       "                    }\n",
       "                }\n",
       "            }, 500);\n",
       "            "
      ],
      "text/plain": [
       "<IPython.core.display.Javascript object>"
      ]
     },
     "metadata": {},
     "output_type": "display_data"
    }
   ],
   "source": [
    "# rf = RandomForestClassifier(class_weight=\"balanced\", n_jobs=-1)\n",
    "# rf"
   ]
  },
  {
   "cell_type": "code",
   "execution_count": 38,
   "metadata": {
    "ExecuteTime": {
     "end_time": "2021-09-05T18:57:16.306415Z",
     "start_time": "2021-09-05T18:57:16.190414Z"
    }
   },
   "outputs": [
    {
     "data": {
      "text/plain": [
       "MLkNN(k=3)"
      ]
     },
     "execution_count": 38,
     "metadata": {},
     "output_type": "execute_result"
    },
    {
     "data": {
      "application/javascript": [
       "\n",
       "            setTimeout(function() {\n",
       "                var nbb_cell_id = 38;\n",
       "                var nbb_unformatted_code = \"from skmultilearn.adapt import BRkNNaClassifier, BRkNNbClassifier\\n\\nknn = MLkNN(k=3)\\nknn\";\n",
       "                var nbb_formatted_code = \"from skmultilearn.adapt import BRkNNaClassifier, BRkNNbClassifier\\n\\nknn = MLkNN(k=3)\\nknn\";\n",
       "                var nbb_cells = Jupyter.notebook.get_cells();\n",
       "                for (var i = 0; i < nbb_cells.length; ++i) {\n",
       "                    if (nbb_cells[i].input_prompt_number == nbb_cell_id) {\n",
       "                        if (nbb_cells[i].get_text() == nbb_unformatted_code) {\n",
       "                             nbb_cells[i].set_text(nbb_formatted_code);\n",
       "                        }\n",
       "                        break;\n",
       "                    }\n",
       "                }\n",
       "            }, 500);\n",
       "            "
      ],
      "text/plain": [
       "<IPython.core.display.Javascript object>"
      ]
     },
     "metadata": {},
     "output_type": "display_data"
    }
   ],
   "source": [
    "from skmultilearn.adapt import BRkNNaClassifier, BRkNNbClassifier\n",
    "\n",
    "knn = MLkNN(k=3)\n",
    "knn"
   ]
  },
  {
   "cell_type": "code",
   "execution_count": 39,
   "metadata": {
    "ExecuteTime": {
     "end_time": "2021-09-05T18:57:16.774348Z",
     "start_time": "2021-09-05T18:57:16.642318Z"
    },
    "run_control": {
     "marked": false
    }
   },
   "outputs": [
    {
     "data": {
      "text/plain": [
       "Pipeline(steps=[('vec',\n",
       "                 ColumnTransformer(transformers=[('text',\n",
       "                                                  FreqVectorizer(decode_html_entities=False,\n",
       "                                                                 lowercase=False,\n",
       "                                                                 token_pattern='(?i)\\\\b[a-z_]{2,16}\\\\b'),\n",
       "                                                  'text'),\n",
       "                                                 ('brand',\n",
       "                                                  OneHotEncoder(handle_unknown='ignore'),\n",
       "                                                  ['brand'])])),\n",
       "                ('cls', MLkNN(k=3))],\n",
       "         verbose=True)"
      ]
     },
     "execution_count": 39,
     "metadata": {},
     "output_type": "execute_result"
    },
    {
     "data": {
      "application/javascript": [
       "\n",
       "            setTimeout(function() {\n",
       "                var nbb_cell_id = 39;\n",
       "                var nbb_unformatted_code = \"pipe = Pipeline(\\n    [\\n        (\\\"vec\\\", ct),\\n        (\\\"cls\\\", knn),\\n    ],\\n    verbose=True,\\n)\\npipe\";\n",
       "                var nbb_formatted_code = \"pipe = Pipeline(\\n    [\\n        (\\\"vec\\\", ct),\\n        (\\\"cls\\\", knn),\\n    ],\\n    verbose=True,\\n)\\npipe\";\n",
       "                var nbb_cells = Jupyter.notebook.get_cells();\n",
       "                for (var i = 0; i < nbb_cells.length; ++i) {\n",
       "                    if (nbb_cells[i].input_prompt_number == nbb_cell_id) {\n",
       "                        if (nbb_cells[i].get_text() == nbb_unformatted_code) {\n",
       "                             nbb_cells[i].set_text(nbb_formatted_code);\n",
       "                        }\n",
       "                        break;\n",
       "                    }\n",
       "                }\n",
       "            }, 500);\n",
       "            "
      ],
      "text/plain": [
       "<IPython.core.display.Javascript object>"
      ]
     },
     "metadata": {},
     "output_type": "display_data"
    }
   ],
   "source": [
    "pipe = Pipeline(\n",
    "    [\n",
    "        (\"vec\", ct),\n",
    "        (\"cls\", knn),\n",
    "    ],\n",
    "    verbose=True,\n",
    ")\n",
    "pipe"
   ]
  },
  {
   "cell_type": "markdown",
   "metadata": {},
   "source": [
    "# Baseline RF"
   ]
  },
  {
   "cell_type": "code",
   "execution_count": 40,
   "metadata": {
    "ExecuteTime": {
     "end_time": "2021-09-05T18:57:17.409073Z",
     "start_time": "2021-09-05T18:57:17.302047Z"
    }
   },
   "outputs": [
    {
     "data": {
      "application/javascript": [
       "\n",
       "            setTimeout(function() {\n",
       "                var nbb_cell_id = 40;\n",
       "                var nbb_unformatted_code = \"def get_report(estimator, X_test=X_test, y_test=y_test, target_names=mlb.classes_):\\n    report = classification_report(\\n        y_test,\\n        estimator.predict(X_test),\\n        target_names=target_names,\\n        output_dict=True,\\n    )\\n    report = pd.DataFrame(report).T\\n    report.loc[\\\"accuracy\\\", \\\"support\\\"] = report[\\\"support\\\"].max()\\n    return report\";\n",
       "                var nbb_formatted_code = \"def get_report(estimator, X_test=X_test, y_test=y_test, target_names=mlb.classes_):\\n    report = classification_report(\\n        y_test,\\n        estimator.predict(X_test),\\n        target_names=target_names,\\n        output_dict=True,\\n    )\\n    report = pd.DataFrame(report).T\\n    report.loc[\\\"accuracy\\\", \\\"support\\\"] = report[\\\"support\\\"].max()\\n    return report\";\n",
       "                var nbb_cells = Jupyter.notebook.get_cells();\n",
       "                for (var i = 0; i < nbb_cells.length; ++i) {\n",
       "                    if (nbb_cells[i].input_prompt_number == nbb_cell_id) {\n",
       "                        if (nbb_cells[i].get_text() == nbb_unformatted_code) {\n",
       "                             nbb_cells[i].set_text(nbb_formatted_code);\n",
       "                        }\n",
       "                        break;\n",
       "                    }\n",
       "                }\n",
       "            }, 500);\n",
       "            "
      ],
      "text/plain": [
       "<IPython.core.display.Javascript object>"
      ]
     },
     "metadata": {},
     "output_type": "display_data"
    }
   ],
   "source": [
    "def get_report(estimator, X_test=X_test, y_test=y_test, target_names=mlb.classes_):\n",
    "    report = classification_report(\n",
    "        y_test,\n",
    "        estimator.predict(X_test),\n",
    "        target_names=target_names,\n",
    "        output_dict=True,\n",
    "    )\n",
    "    report = pd.DataFrame(report).T\n",
    "    report.loc[\"accuracy\", \"support\"] = report[\"support\"].max()\n",
    "    return report"
   ]
  },
  {
   "cell_type": "code",
   "execution_count": 41,
   "metadata": {
    "ExecuteTime": {
     "end_time": "2021-09-05T18:57:29.747535Z",
     "start_time": "2021-09-05T18:57:17.665495Z"
    }
   },
   "outputs": [
    {
     "name": "stdout",
     "output_type": "stream",
     "text": [
      "[Pipeline] ............... (step 1 of 2) Processing vec, total=   0.8s\n"
     ]
    },
    {
     "name": "stderr",
     "output_type": "stream",
     "text": [
      "C:\\Users\\ndgig\\Anaconda3\\envs\\learn-env\\lib\\site-packages\\sklearn\\utils\\validation.py:70: FutureWarning: Pass n_neighbors=3 as keyword args. From version 1.0 (renaming of 0.25) passing these as positional arguments will result in an error\n",
      "  warnings.warn(f\"Pass {args_msg} as keyword args. From version \"\n"
     ]
    },
    {
     "name": "stdout",
     "output_type": "stream",
     "text": [
      "[Pipeline] ............... (step 2 of 2) Processing cls, total=  11.2s\n"
     ]
    },
    {
     "data": {
      "text/plain": [
       "Pipeline(steps=[('vec',\n",
       "                 ColumnTransformer(transformers=[('text',\n",
       "                                                  FreqVectorizer(decode_html_entities=False,\n",
       "                                                                 lowercase=False,\n",
       "                                                                 token_pattern='(?i)\\\\b[a-z_]{2,16}\\\\b'),\n",
       "                                                  'text'),\n",
       "                                                 ('brand',\n",
       "                                                  OneHotEncoder(handle_unknown='ignore'),\n",
       "                                                  ['brand'])])),\n",
       "                ('cls', MLkNN(k=3))],\n",
       "         verbose=True)"
      ]
     },
     "execution_count": 41,
     "metadata": {},
     "output_type": "execute_result"
    },
    {
     "data": {
      "application/javascript": [
       "\n",
       "            setTimeout(function() {\n",
       "                var nbb_cell_id = 41;\n",
       "                var nbb_unformatted_code = \"pipe.fit(X_train, y_train)\";\n",
       "                var nbb_formatted_code = \"pipe.fit(X_train, y_train)\";\n",
       "                var nbb_cells = Jupyter.notebook.get_cells();\n",
       "                for (var i = 0; i < nbb_cells.length; ++i) {\n",
       "                    if (nbb_cells[i].input_prompt_number == nbb_cell_id) {\n",
       "                        if (nbb_cells[i].get_text() == nbb_unformatted_code) {\n",
       "                             nbb_cells[i].set_text(nbb_formatted_code);\n",
       "                        }\n",
       "                        break;\n",
       "                    }\n",
       "                }\n",
       "            }, 500);\n",
       "            "
      ],
      "text/plain": [
       "<IPython.core.display.Javascript object>"
      ]
     },
     "metadata": {},
     "output_type": "display_data"
    }
   ],
   "source": [
    "pipe.fit(X_train, y_train)"
   ]
  },
  {
   "cell_type": "code",
   "execution_count": 42,
   "metadata": {
    "ExecuteTime": {
     "end_time": "2021-09-05T18:57:32.981508Z",
     "start_time": "2021-09-05T18:57:29.748507Z"
    }
   },
   "outputs": [
    {
     "data": {
      "text/html": [
       "<div>\n",
       "<style scoped>\n",
       "    .dataframe tbody tr th:only-of-type {\n",
       "        vertical-align: middle;\n",
       "    }\n",
       "\n",
       "    .dataframe tbody tr th {\n",
       "        vertical-align: top;\n",
       "    }\n",
       "\n",
       "    .dataframe thead th {\n",
       "        text-align: right;\n",
       "    }\n",
       "</style>\n",
       "<table border=\"1\" class=\"dataframe\">\n",
       "  <thead>\n",
       "    <tr style=\"text-align: right;\">\n",
       "      <th></th>\n",
       "      <th>precision</th>\n",
       "      <th>recall</th>\n",
       "      <th>f1-score</th>\n",
       "      <th>support</th>\n",
       "    </tr>\n",
       "  </thead>\n",
       "  <tbody>\n",
       "    <tr>\n",
       "      <th>accessories</th>\n",
       "      <td>0.593750</td>\n",
       "      <td>0.263889</td>\n",
       "      <td>0.365385</td>\n",
       "      <td>72.0</td>\n",
       "    </tr>\n",
       "    <tr>\n",
       "      <th>accessories_supplies</th>\n",
       "      <td>0.210526</td>\n",
       "      <td>0.250000</td>\n",
       "      <td>0.228571</td>\n",
       "      <td>32.0</td>\n",
       "    </tr>\n",
       "    <tr>\n",
       "      <th>accessory_kits</th>\n",
       "      <td>0.000000</td>\n",
       "      <td>0.000000</td>\n",
       "      <td>0.000000</td>\n",
       "      <td>8.0</td>\n",
       "    </tr>\n",
       "    <tr>\n",
       "      <th>all_in_ones</th>\n",
       "      <td>0.666667</td>\n",
       "      <td>0.347826</td>\n",
       "      <td>0.457143</td>\n",
       "      <td>23.0</td>\n",
       "    </tr>\n",
       "    <tr>\n",
       "      <th>audio_video_accessories</th>\n",
       "      <td>0.270270</td>\n",
       "      <td>0.238095</td>\n",
       "      <td>0.253165</td>\n",
       "      <td>42.0</td>\n",
       "    </tr>\n",
       "    <tr>\n",
       "      <th>...</th>\n",
       "      <td>...</td>\n",
       "      <td>...</td>\n",
       "      <td>...</td>\n",
       "      <td>...</td>\n",
       "    </tr>\n",
       "    <tr>\n",
       "      <th>micro avg</th>\n",
       "      <td>0.822511</td>\n",
       "      <td>0.773401</td>\n",
       "      <td>0.797200</td>\n",
       "      <td>8910.0</td>\n",
       "    </tr>\n",
       "    <tr>\n",
       "      <th>macro avg</th>\n",
       "      <td>0.644001</td>\n",
       "      <td>0.479594</td>\n",
       "      <td>0.522653</td>\n",
       "      <td>8910.0</td>\n",
       "    </tr>\n",
       "    <tr>\n",
       "      <th>weighted avg</th>\n",
       "      <td>0.816115</td>\n",
       "      <td>0.773401</td>\n",
       "      <td>0.785255</td>\n",
       "      <td>8910.0</td>\n",
       "    </tr>\n",
       "    <tr>\n",
       "      <th>samples avg</th>\n",
       "      <td>0.826393</td>\n",
       "      <td>0.763083</td>\n",
       "      <td>0.775412</td>\n",
       "      <td>8910.0</td>\n",
       "    </tr>\n",
       "    <tr>\n",
       "      <th>accuracy</th>\n",
       "      <td>NaN</td>\n",
       "      <td>NaN</td>\n",
       "      <td>NaN</td>\n",
       "      <td>8910.0</td>\n",
       "    </tr>\n",
       "  </tbody>\n",
       "</table>\n",
       "<p>76 rows × 4 columns</p>\n",
       "</div>"
      ],
      "text/plain": [
       "                         precision    recall  f1-score  support\n",
       "accessories               0.593750  0.263889  0.365385     72.0\n",
       "accessories_supplies      0.210526  0.250000  0.228571     32.0\n",
       "accessory_kits            0.000000  0.000000  0.000000      8.0\n",
       "all_in_ones               0.666667  0.347826  0.457143     23.0\n",
       "audio_video_accessories   0.270270  0.238095  0.253165     42.0\n",
       "...                            ...       ...       ...      ...\n",
       "micro avg                 0.822511  0.773401  0.797200   8910.0\n",
       "macro avg                 0.644001  0.479594  0.522653   8910.0\n",
       "weighted avg              0.816115  0.773401  0.785255   8910.0\n",
       "samples avg               0.826393  0.763083  0.775412   8910.0\n",
       "accuracy                       NaN       NaN       NaN   8910.0\n",
       "\n",
       "[76 rows x 4 columns]"
      ]
     },
     "execution_count": 42,
     "metadata": {},
     "output_type": "execute_result"
    },
    {
     "data": {
      "application/javascript": [
       "\n",
       "            setTimeout(function() {\n",
       "                var nbb_cell_id = 42;\n",
       "                var nbb_unformatted_code = \"get_report(pipe)\";\n",
       "                var nbb_formatted_code = \"get_report(pipe)\";\n",
       "                var nbb_cells = Jupyter.notebook.get_cells();\n",
       "                for (var i = 0; i < nbb_cells.length; ++i) {\n",
       "                    if (nbb_cells[i].input_prompt_number == nbb_cell_id) {\n",
       "                        if (nbb_cells[i].get_text() == nbb_unformatted_code) {\n",
       "                             nbb_cells[i].set_text(nbb_formatted_code);\n",
       "                        }\n",
       "                        break;\n",
       "                    }\n",
       "                }\n",
       "            }, 500);\n",
       "            "
      ],
      "text/plain": [
       "<IPython.core.display.Javascript object>"
      ]
     },
     "metadata": {},
     "output_type": "display_data"
    }
   ],
   "source": [
    "get_report(pipe)"
   ]
  },
  {
   "cell_type": "code",
   "execution_count": 35,
   "metadata": {
    "ExecuteTime": {
     "end_time": "2021-09-05T18:53:07.261757Z",
     "start_time": "2021-09-05T18:53:07.154756Z"
    }
   },
   "outputs": [
    {
     "data": {
      "text/plain": [
       "{'k': <scipy.stats._distn_infrastructure.rv_frozen at 0x1d029192eb0>}"
      ]
     },
     "execution_count": 35,
     "metadata": {},
     "output_type": "execute_result"
    },
    {
     "data": {
      "application/javascript": [
       "\n",
       "            setTimeout(function() {\n",
       "                var nbb_cell_id = 35;\n",
       "                var nbb_unformatted_code = \"br_grid = {\\\"k\\\": sp.stats.randint(3, 100)}\\nbr_grid\";\n",
       "                var nbb_formatted_code = \"br_grid = {\\\"k\\\": sp.stats.randint(3, 100)}\\nbr_grid\";\n",
       "                var nbb_cells = Jupyter.notebook.get_cells();\n",
       "                for (var i = 0; i < nbb_cells.length; ++i) {\n",
       "                    if (nbb_cells[i].input_prompt_number == nbb_cell_id) {\n",
       "                        if (nbb_cells[i].get_text() == nbb_unformatted_code) {\n",
       "                             nbb_cells[i].set_text(nbb_formatted_code);\n",
       "                        }\n",
       "                        break;\n",
       "                    }\n",
       "                }\n",
       "            }, 500);\n",
       "            "
      ],
      "text/plain": [
       "<IPython.core.display.Javascript object>"
      ]
     },
     "metadata": {},
     "output_type": "display_data"
    }
   ],
   "source": [
    "br_grid = {\"k\": sp.stats.randint(3, 100)}\n",
    "br_grid"
   ]
  },
  {
   "cell_type": "code",
   "execution_count": 36,
   "metadata": {
    "ExecuteTime": {
     "end_time": "2021-09-05T18:56:14.844928Z",
     "start_time": "2021-09-05T18:53:07.449898Z"
    },
    "run_control": {
     "marked": false
    }
   },
   "outputs": [
    {
     "name": "stdout",
     "output_type": "stream",
     "text": [
      "Fitting 5 folds for each of 10 candidates, totalling 50 fits\n"
     ]
    },
    {
     "data": {
      "text/plain": [
       "RandomizedSearchCV(estimator=Pipeline(steps=[('vec',\n",
       "                                              ColumnTransformer(transformers=[('text',\n",
       "                                                                               FreqVectorizer(decode_html_entities=False,\n",
       "                                                                                              lowercase=False,\n",
       "                                                                                              token_pattern='(?i)\\\\b[a-z_]{2,16}\\\\b'),\n",
       "                                                                               'text'),\n",
       "                                                                              ('brand',\n",
       "                                                                               OneHotEncoder(handle_unknown='ignore'),\n",
       "                                                                               ['brand'])])),\n",
       "                                             ('cls', MLkNN())],\n",
       "                                      verbose=True),\n",
       "                   n_jobs=-1,\n",
       "                   param_distributions={'cls__k': <scipy.stats._distn_infrastructure.rv_frozen object at 0x000001D029192EB0>},\n",
       "                   refit=False, scoring='f1_macro', verbose=1)"
      ]
     },
     "execution_count": 36,
     "metadata": {},
     "output_type": "execute_result"
    },
    {
     "data": {
      "application/javascript": [
       "\n",
       "            setTimeout(function() {\n",
       "                var nbb_cell_id = 36;\n",
       "                var nbb_unformatted_code = \"gs = selection.sweep(\\n    pipe,\\n    br_grid,\\n    X=X_train,\\n    y=y_train,\\n    kind=\\\"rand\\\",\\n    n_iter=10,\\n    scoring=\\\"f1_macro\\\",\\n    add_prefix=\\\"cls__\\\",\\n    n_jobs=-1,\\n)\\ngs\";\n",
       "                var nbb_formatted_code = \"gs = selection.sweep(\\n    pipe,\\n    br_grid,\\n    X=X_train,\\n    y=y_train,\\n    kind=\\\"rand\\\",\\n    n_iter=10,\\n    scoring=\\\"f1_macro\\\",\\n    add_prefix=\\\"cls__\\\",\\n    n_jobs=-1,\\n)\\ngs\";\n",
       "                var nbb_cells = Jupyter.notebook.get_cells();\n",
       "                for (var i = 0; i < nbb_cells.length; ++i) {\n",
       "                    if (nbb_cells[i].input_prompt_number == nbb_cell_id) {\n",
       "                        if (nbb_cells[i].get_text() == nbb_unformatted_code) {\n",
       "                             nbb_cells[i].set_text(nbb_formatted_code);\n",
       "                        }\n",
       "                        break;\n",
       "                    }\n",
       "                }\n",
       "            }, 500);\n",
       "            "
      ],
      "text/plain": [
       "<IPython.core.display.Javascript object>"
      ]
     },
     "metadata": {},
     "output_type": "display_data"
    }
   ],
   "source": [
    "gs = selection.sweep(\n",
    "    pipe,\n",
    "    br_grid,\n",
    "    X=X_train,\n",
    "    y=y_train,\n",
    "    kind=\"rand\",\n",
    "    n_iter=10,\n",
    "    scoring=\"f1_macro\",\n",
    "    add_prefix=\"cls__\",\n",
    "    n_jobs=-1,\n",
    ")\n",
    "gs"
   ]
  },
  {
   "cell_type": "code",
   "execution_count": 37,
   "metadata": {
    "ExecuteTime": {
     "end_time": "2021-09-05T18:56:14.970906Z",
     "start_time": "2021-09-05T18:56:14.845927Z"
    }
   },
   "outputs": [
    {
     "data": {
      "text/html": [
       "<div>\n",
       "<style scoped>\n",
       "    .dataframe tbody tr th:only-of-type {\n",
       "        vertical-align: middle;\n",
       "    }\n",
       "\n",
       "    .dataframe tbody tr th {\n",
       "        vertical-align: top;\n",
       "    }\n",
       "\n",
       "    .dataframe thead th {\n",
       "        text-align: right;\n",
       "    }\n",
       "</style>\n",
       "<table border=\"1\" class=\"dataframe\">\n",
       "  <thead>\n",
       "    <tr style=\"text-align: right;\">\n",
       "      <th></th>\n",
       "      <th>k</th>\n",
       "      <th>params</th>\n",
       "      <th>mean_fit_time</th>\n",
       "      <th>mean_score</th>\n",
       "      <th>rank_score</th>\n",
       "    </tr>\n",
       "  </thead>\n",
       "  <tbody>\n",
       "    <tr>\n",
       "      <th>0</th>\n",
       "      <td>3</td>\n",
       "      <td>{'cls__k': 3}</td>\n",
       "      <td>18.701999</td>\n",
       "      <td>0.520348</td>\n",
       "      <td>1</td>\n",
       "    </tr>\n",
       "    <tr>\n",
       "      <th>1</th>\n",
       "      <td>4</td>\n",
       "      <td>{'cls__k': 4}</td>\n",
       "      <td>16.793429</td>\n",
       "      <td>0.507818</td>\n",
       "      <td>2</td>\n",
       "    </tr>\n",
       "    <tr>\n",
       "      <th>2</th>\n",
       "      <td>4</td>\n",
       "      <td>{'cls__k': 4}</td>\n",
       "      <td>17.990399</td>\n",
       "      <td>0.507818</td>\n",
       "      <td>2</td>\n",
       "    </tr>\n",
       "    <tr>\n",
       "      <th>3</th>\n",
       "      <td>12</td>\n",
       "      <td>{'cls__k': 12}</td>\n",
       "      <td>20.569599</td>\n",
       "      <td>0.450585</td>\n",
       "      <td>4</td>\n",
       "    </tr>\n",
       "    <tr>\n",
       "      <th>4</th>\n",
       "      <td>19</td>\n",
       "      <td>{'cls__k': 19}</td>\n",
       "      <td>22.804614</td>\n",
       "      <td>0.424999</td>\n",
       "      <td>5</td>\n",
       "    </tr>\n",
       "    <tr>\n",
       "      <th>5</th>\n",
       "      <td>24</td>\n",
       "      <td>{'cls__k': 24}</td>\n",
       "      <td>23.484211</td>\n",
       "      <td>0.409871</td>\n",
       "      <td>6</td>\n",
       "    </tr>\n",
       "    <tr>\n",
       "      <th>6</th>\n",
       "      <td>50</td>\n",
       "      <td>{'cls__k': 50}</td>\n",
       "      <td>29.706999</td>\n",
       "      <td>0.338810</td>\n",
       "      <td>7</td>\n",
       "    </tr>\n",
       "    <tr>\n",
       "      <th>7</th>\n",
       "      <td>53</td>\n",
       "      <td>{'cls__k': 53}</td>\n",
       "      <td>30.646198</td>\n",
       "      <td>0.329794</td>\n",
       "      <td>8</td>\n",
       "    </tr>\n",
       "    <tr>\n",
       "      <th>8</th>\n",
       "      <td>62</td>\n",
       "      <td>{'cls__k': 62}</td>\n",
       "      <td>34.589999</td>\n",
       "      <td>0.317530</td>\n",
       "      <td>9</td>\n",
       "    </tr>\n",
       "    <tr>\n",
       "      <th>9</th>\n",
       "      <td>79</td>\n",
       "      <td>{'cls__k': 79}</td>\n",
       "      <td>38.156600</td>\n",
       "      <td>0.302777</td>\n",
       "      <td>10</td>\n",
       "    </tr>\n",
       "  </tbody>\n",
       "</table>\n",
       "</div>"
      ],
      "text/plain": [
       "    k          params  mean_fit_time  mean_score  rank_score\n",
       "0   3   {'cls__k': 3}      18.701999    0.520348           1\n",
       "1   4   {'cls__k': 4}      16.793429    0.507818           2\n",
       "2   4   {'cls__k': 4}      17.990399    0.507818           2\n",
       "3  12  {'cls__k': 12}      20.569599    0.450585           4\n",
       "4  19  {'cls__k': 19}      22.804614    0.424999           5\n",
       "5  24  {'cls__k': 24}      23.484211    0.409871           6\n",
       "6  50  {'cls__k': 50}      29.706999    0.338810           7\n",
       "7  53  {'cls__k': 53}      30.646198    0.329794           8\n",
       "8  62  {'cls__k': 62}      34.589999    0.317530           9\n",
       "9  79  {'cls__k': 79}      38.156600    0.302777          10"
      ]
     },
     "execution_count": 37,
     "metadata": {},
     "output_type": "execute_result"
    },
    {
     "data": {
      "application/javascript": [
       "\n",
       "            setTimeout(function() {\n",
       "                var nbb_cell_id = 37;\n",
       "                var nbb_unformatted_code = \"br_results = selection.prune_cv(gs.cv_results_)\\nbr_results.head(10)\";\n",
       "                var nbb_formatted_code = \"br_results = selection.prune_cv(gs.cv_results_)\\nbr_results.head(10)\";\n",
       "                var nbb_cells = Jupyter.notebook.get_cells();\n",
       "                for (var i = 0; i < nbb_cells.length; ++i) {\n",
       "                    if (nbb_cells[i].input_prompt_number == nbb_cell_id) {\n",
       "                        if (nbb_cells[i].get_text() == nbb_unformatted_code) {\n",
       "                             nbb_cells[i].set_text(nbb_formatted_code);\n",
       "                        }\n",
       "                        break;\n",
       "                    }\n",
       "                }\n",
       "            }, 500);\n",
       "            "
      ],
      "text/plain": [
       "<IPython.core.display.Javascript object>"
      ]
     },
     "metadata": {},
     "output_type": "display_data"
    }
   ],
   "source": [
    "br_results = selection.prune_cv(gs.cv_results_)\n",
    "br_results.head(10)"
   ]
  },
  {
   "cell_type": "code",
   "execution_count": null,
   "metadata": {},
   "outputs": [],
   "source": []
  }
 ],
 "metadata": {
  "interpreter": {
   "hash": "45e948d0256f8c78ae85303b642a175be3add64c95f2eaa9e19fcfd099775c4c"
  },
  "kernelspec": {
   "display_name": "learn-env",
   "language": "python",
   "name": "learn-env"
  },
  "language_info": {
   "codemirror_mode": {
    "name": "ipython",
    "version": 3
   },
   "file_extension": ".py",
   "mimetype": "text/x-python",
   "name": "python",
   "nbconvert_exporter": "python",
   "pygments_lexer": "ipython3",
   "version": "3.8.5"
  },
  "toc": {
   "base_numbering": 1,
   "nav_menu": {},
   "number_sections": true,
   "sideBar": true,
   "skip_h1_title": false,
   "title_cell": "Table of Contents",
   "title_sidebar": "Contents",
   "toc_cell": false,
   "toc_position": {},
   "toc_section_display": true,
   "toc_window_display": false
  }
 },
 "nbformat": 4,
 "nbformat_minor": 2
}
